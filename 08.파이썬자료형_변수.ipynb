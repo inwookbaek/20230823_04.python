{
 "cells": [
  {
   "cell_type": "markdown",
   "id": "58b9ffd7",
   "metadata": {},
   "source": [
    "# 변수\n",
    "\n",
    "* 파이썬에서 사용하는 `변수는 객체(object)의 메모리 주소를 가지고 있다.`\n",
    "* 즉, `객체가 저장되어 있는 메모리주소`를 참조하는 것이다.\n",
    "* 파이썬의 `모든 자료형은 객체(object)이다`\n",
    "* 파이썬에서 숫자 1은 일반적으로 상수값이다. 파이썬에서는 `1은 정수형 객체`이다.\n",
    "* 예를 들어 `print(type(1))의 결과는 <class 'int'>`로 출력된다.\n",
    "* 즉, `1은 int 클래스에서 생성된 객체`임을 알 수가 있다.\n",
    "\n",
    "##### 변수의 명명규칙\n",
    "\n",
    "1. 영문자와 숫자를 사용할 수 있다.\n",
    "1. `대소문자를 구분`해야 한다.\n",
    "1. 변수명은 문자부터 시작해야 하면 숫자로 시작할 수 없다.\n",
    "1. `언더바(_)로 시작할 수 있다.`\n",
    "1. 특수문자는 사용할 수 없다.\n",
    "1. 파이썬의 키워드(if, for, return...)는 사용할 수 없다."
   ]
  },
  {
   "cell_type": "code",
   "execution_count": 16,
   "id": "d20a5707",
   "metadata": {},
   "outputs": [
    {
     "name": "stdout",
     "output_type": "stream",
     "text": [
      "파이썬에서 사용하는 키워드의 갯수 = 35\n",
      "keyword.kwlist의 타입 <class 'list'>\n",
      "\n",
      "['False', 'None', 'True', 'and', 'as', 'assert', 'async', 'await', 'break', 'class', 'continue', 'def', 'del', 'elif', 'else', 'except', 'finally', 'for', 'from', 'global', 'if', 'import', 'in', 'is', 'lambda', 'nonlocal', 'not', 'or', 'pass', 'raise', 'return', 'try', 'while', 'with', 'yield']\n"
     ]
    }
   ],
   "source": [
    "# 파이썬에서 사용하는 keyword 리스트\n",
    "import keyword\n",
    "# keyword?\n",
    "print(f'파이썬에서 사용하는 키워드의 갯수 = {len(keyword.kwlist)}')\n",
    "print(f'keyword.kwlist의 타입 = {type(keyword.kwlist)}\\n')\n",
    "print(keyword.kwlist)"
   ]
  },
  {
   "cell_type": "markdown",
   "id": "643bd363",
   "metadata": {},
   "source": [
    "## 1. 변수 만드는 법"
   ]
  },
  {
   "cell_type": "code",
   "execution_count": 18,
   "id": "447d95f1",
   "metadata": {},
   "outputs": [
    {
     "name": "stdout",
     "output_type": "stream",
     "text": [
      "<class 'int'>\n",
      "<class 'str'>\n",
      "<class 'str'>\n",
      "<class 'builtin_function_or_method'>\n",
      "함수라는 변수에 저장된 print함수를 호출!!\n"
     ]
    }
   ],
   "source": [
    "# 1. 일반적인 방법\n",
    "a = 100\n",
    "이름 = '소향'\n",
    "_string = '문자열'\n",
    "함수 = print\n",
    "print(type(a))\n",
    "print(type(이름))\n",
    "print(type(_string))\n",
    "print(type(함수))\n",
    "\n",
    "함수('함수라는 변수에 저장된 print함수를 호출!!')"
   ]
  },
  {
   "cell_type": "code",
   "execution_count": 30,
   "id": "7808f1ba",
   "metadata": {},
   "outputs": [
    {
     "name": "stdout",
     "output_type": "stream",
     "text": [
      "문자열 100\n",
      "x y z\n",
      "x y z\n",
      "z y\n"
     ]
    }
   ],
   "source": [
    "# 2. 튜플로 변수를 만드는 법 (unpacking)\n",
    "# tuple로 변수의 값을 대입하는 경우 단, 제약사항은 변수의 갯수와 값의 갯수가 동수\n",
    "# 이어야 한다. 갯수가 틀릴 경우는 ValueError가 발생한다.\n",
    "a, b = ('문자열', 100)\n",
    "print(a, b)\n",
    "\n",
    "x,y,z = 'x', 'y', 'z'  # 컴마로 구분된 자료형은 튜플\n",
    "print(x, y, z)\n",
    "\n",
    "x,y,z = ('x', 'y', 'z')\n",
    "print(x, y, z)\n",
    "\n",
    "a, b, a = 'x', 'y', 'z'\n",
    "print(a, b)"
   ]
  },
  {
   "cell_type": "code",
   "execution_count": 39,
   "id": "1168e134",
   "metadata": {},
   "outputs": [
    {
     "name": "stdout",
     "output_type": "stream",
     "text": [
      "문자열 100\n",
      "x y z\n",
      "a b c <class 'str'>\n"
     ]
    }
   ],
   "source": [
    "# 3. list로 변수를 만드는 법\n",
    "# 변수갯수 = 값갯수\n",
    "\n",
    "a, b = ['문자열', 100]\n",
    "print(a, b)\n",
    "\n",
    "x, y, z = ['x', 'y', 'z']\n",
    "print(x, y, z)\n",
    "\n",
    "[a, b, c] = ['a', 'b', 'c']\n",
    "print(a, b, c, type(a))\n",
    "\n",
    "# [a, b] = ['a', 'b', 'c']  #에러\n",
    "# print(a, b, c, type(a))"
   ]
  },
  {
   "cell_type": "code",
   "execution_count": 42,
   "id": "7a093b56",
   "metadata": {},
   "outputs": [
    {
     "name": "stdout",
     "output_type": "stream",
     "text": [
      "100 100 100\n",
      "<class 'int'> <class 'int'> <class 'int'>\n"
     ]
    }
   ],
   "source": [
    "# 4. 일괄로 여러개의 변수에 동일 값을 대입하가\n",
    "\n",
    "a = b = c = 100\n",
    "print(a, b, c)\n",
    "print(type(a), type(b), type(c))"
   ]
  },
  {
   "cell_type": "code",
   "execution_count": 43,
   "id": "38bbda94",
   "metadata": {},
   "outputs": [
    {
     "name": "stdout",
     "output_type": "stream",
     "text": [
      "20 10\n"
     ]
    }
   ],
   "source": [
    "# 5. 2개의 값 swapping하는 법\n",
    "a = 10\n",
    "b = 20\n",
    "a, b = b, a\n",
    "print(a, b)"
   ]
  }
 ],
 "metadata": {
  "kernelspec": {
   "display_name": "Python 3 (ipykernel)",
   "language": "python",
   "name": "python3"
  },
  "language_info": {
   "codemirror_mode": {
    "name": "ipython",
    "version": 3
   },
   "file_extension": ".py",
   "mimetype": "text/x-python",
   "name": "python",
   "nbconvert_exporter": "python",
   "pygments_lexer": "ipython3",
   "version": "3.11.5"
  }
 },
 "nbformat": 4,
 "nbformat_minor": 5
}
