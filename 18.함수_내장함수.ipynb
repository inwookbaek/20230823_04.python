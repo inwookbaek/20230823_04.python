{
 "cells": [
  {
   "cell_type": "markdown",
   "id": "aeada23b",
   "metadata": {},
   "source": [
    "# 내장함수\n",
    "\n",
    "* https://docs.python.org/3/library/functions.html"
   ]
  },
  {
   "cell_type": "code",
   "execution_count": 2,
   "id": "a07b28ce",
   "metadata": {},
   "outputs": [
    {
     "name": "stdout",
     "output_type": "stream",
     "text": [
      "1\n",
      "1\n"
     ]
    }
   ],
   "source": [
    "# 1. abs()\n",
    "print(abs(-1))\n",
    "print(abs(1))"
   ]
  },
  {
   "cell_type": "code",
   "execution_count": 11,
   "id": "fba0ab0c",
   "metadata": {},
   "outputs": [
    {
     "name": "stdout",
     "output_type": "stream",
     "text": [
      "True\n",
      "False\n",
      "True\n",
      "True\n",
      "False\n",
      "\n",
      "True\n",
      "False\n",
      "True\n",
      "True\n",
      "False\n"
     ]
    }
   ],
   "source": [
    "# 2. all(iterable)\n",
    "# 매개변수로 반복가능한 자료형을 전달받아서 iterable값이 모두 참이면 True, 아니면 False\n",
    "# all?\n",
    "\n",
    "# 1) list\n",
    "print(all([1,2,3,])) # True\n",
    "print(all([1,0,3,])) # False\n",
    "print(all([])) # True\n",
    "print(all(['1','2'])) # True\n",
    "print(all(['1',''])) # False\n",
    "print()\n",
    "\n",
    "# 2) tuple\n",
    "print(all((1,2,3,))) # True\n",
    "print(all((1,0,3,))) # False\n",
    "print(all(())) # True\n",
    "print(all(('1','2'))) # True\n",
    "print(all(('1',''))) # False"
   ]
  },
  {
   "cell_type": "code",
   "execution_count": 13,
   "id": "35e61b88",
   "metadata": {},
   "outputs": [
    {
     "name": "stdout",
     "output_type": "stream",
     "text": [
      "True\n",
      "True\n",
      "False\n",
      "True\n",
      "True\n",
      "\n",
      "True\n",
      "True\n",
      "False\n",
      "True\n",
      "True\n"
     ]
    }
   ],
   "source": [
    "# 3. any(iterable)\n",
    "# 매개변수로 반복가능한 자료형을 전달받아서 iterable값이 모두 참이면 True, 아니면 False\n",
    "# 1) list\n",
    "print(any([1,2,3,])) # True\n",
    "print(any([1,0,3,])) # True\n",
    "print(any([])) # False\n",
    "print(any(['1','2'])) # True\n",
    "print(any(['1',''])) # True\n",
    "print()\n",
    "\n",
    "# 2) tuple\n",
    "print(any((1,2,3,))) # True\n",
    "print(any((1,0,3,))) # True\n",
    "print(any(())) # False\n",
    "print(any(('1','2'))) # True\n",
    "print(any(('1',''))) # True"
   ]
  },
  {
   "cell_type": "code",
   "execution_count": 30,
   "id": "d74b9993",
   "metadata": {},
   "outputs": [
    {
     "name": "stdout",
     "output_type": "stream",
     "text": [
      "A\n",
      "a\n",
      "0\n",
      "A,B,C,D,E,F,G,H,I,J,K,L,M,N,O,P,Q,R,S,T,U,V,W,X,Y,Z,\n",
      "a,b,c,d,e,f,g,h,i,j,k,l,m,n,o,p,q,r,s,t,u,v,w,x,y,z,\n",
      "0,1,2,3,4,5,6,7,8,9,\n",
      "가,각,갂,갃,간,갅,갆,갇,갈,갉,갊,갋,갌,갍,갎,갏,감,갑,값,갓,갔,강,갖,갗,갘,같,갚,갛,개,객,갞,갟,갠,갡,갢,갣,갤,갥,갦,갧,갨,갩,갪,갫,갬,갭,갮,갯,갰,갱,갲,갳,갴,갵,갶,갷,갸,갹,갺,갻,갼,갽,갾,갿,걀,걁,걂,걃,걄,걅,걆,걇,걈,걉,걊,걋,걌,걍,걎,걏,걐,걑,걒,걓,걔,걕,걖,걗,걘,걙,걚,걛,걜,걝,걞,걟,걠,걡,걢,걣,\n",
      "ל,ם,מ,ן,נ,ס,ע,ף,פ,ץ,צ,ק,ר,ש,ת,׫,׬,׭,׮,ׯ,װ,ױ,ײ,׳,״,׵,׶,׷,׸,׹,׺,׻,׼,׽,׾,׿,؀,؁,؂,؃,؄,؅,؆,؇,؈,؉,؊,؋,،,؍,"
     ]
    }
   ],
   "source": [
    "# 4. char(ascii), ord(문자)\n",
    "# ascii코드값을 전달 받아서 그 코드에 해당하는 문자를 리턴\n",
    "print(chr(65)) # A\n",
    "print(chr(97)) # a\n",
    "print(chr(48)) # 0\n",
    "\n",
    "# 대문자\n",
    "for i in range(26):\n",
    "    print(chr(i+65), end=\",\")\n",
    "print()\n",
    "\n",
    "# 소문자\n",
    "for i in range(26):\n",
    "    print(chr(i+97), end=\",\")  \n",
    "    \n",
    "print()\n",
    "\n",
    "# 숫자\n",
    "for i in range(10):\n",
    "    print(chr(i+48), end=\",\")      \n",
    "print()\n",
    "\n",
    "# 한글\n",
    "ord('가') # 문자를 전달받아서 ascii코드값을 리턴\n",
    "for i in range(100):\n",
    "    print(chr(i+44032), end=',')\n",
    "print()\n",
    "\n",
    "# 특수문자\n",
    "for i in range(50):\n",
    "    print(chr(i+1500), end=',')"
   ]
  },
  {
   "cell_type": "code",
   "execution_count": 32,
   "id": "f6e8333e",
   "metadata": {},
   "outputs": [
    {
     "name": "stdout",
     "output_type": "stream",
     "text": [
      "['__class__', '__class_getitem__', '__contains__', '__delattr__', '__delitem__', '__dir__', '__doc__', '__eq__', '__format__', '__ge__', '__getattribute__', '__getitem__', '__getstate__', '__gt__', '__hash__', '__init__', '__init_subclass__', '__ior__', '__iter__', '__le__', '__len__', '__lt__', '__ne__', '__new__', '__or__', '__reduce__', '__reduce_ex__', '__repr__', '__reversed__', '__ror__', '__setattr__', '__setitem__', '__sizeof__', '__str__', '__subclasshook__', 'clear', 'copy', 'fromkeys', 'get', 'items', 'keys', 'pop', 'popitem', 'setdefault', 'update', 'values'] \n",
      "\n",
      "['__add__', '__class__', '__class_getitem__', '__contains__', '__delattr__', '__delitem__', '__dir__', '__doc__', '__eq__', '__format__', '__ge__', '__getattribute__', '__getitem__', '__getstate__', '__gt__', '__hash__', '__iadd__', '__imul__', '__init__', '__init_subclass__', '__iter__', '__le__', '__len__', '__lt__', '__mul__', '__ne__', '__new__', '__reduce__', '__reduce_ex__', '__repr__', '__reversed__', '__rmul__', '__setattr__', '__setitem__', '__sizeof__', '__str__', '__subclasshook__', 'append', 'clear', 'copy', 'count', 'extend', 'index', 'insert', 'pop', 'remove', 'reverse', 'sort'] \n",
      "\n",
      "['__add__', '__class__', '__class_getitem__', '__contains__', '__delattr__', '__dir__', '__doc__', '__eq__', '__format__', '__ge__', '__getattribute__', '__getitem__', '__getnewargs__', '__getstate__', '__gt__', '__hash__', '__init__', '__init_subclass__', '__iter__', '__le__', '__len__', '__lt__', '__mul__', '__ne__', '__new__', '__reduce__', '__reduce_ex__', '__repr__', '__rmul__', '__setattr__', '__sizeof__', '__str__', '__subclasshook__', 'count', 'index'] \n",
      "\n",
      "['__add__', '__class__', '__contains__', '__delattr__', '__dir__', '__doc__', '__eq__', '__format__', '__ge__', '__getattribute__', '__getitem__', '__getnewargs__', '__getstate__', '__gt__', '__hash__', '__init__', '__init_subclass__', '__iter__', '__le__', '__len__', '__lt__', '__mod__', '__mul__', '__ne__', '__new__', '__reduce__', '__reduce_ex__', '__repr__', '__rmod__', '__rmul__', '__setattr__', '__sizeof__', '__str__', '__subclasshook__', 'capitalize', 'casefold', 'center', 'count', 'encode', 'endswith', 'expandtabs', 'find', 'format', 'format_map', 'index', 'isalnum', 'isalpha', 'isascii', 'isdecimal', 'isdigit', 'isidentifier', 'islower', 'isnumeric', 'isprintable', 'isspace', 'istitle', 'isupper', 'join', 'ljust', 'lower', 'lstrip', 'maketrans', 'partition', 'removeprefix', 'removesuffix', 'replace', 'rfind', 'rindex', 'rjust', 'rpartition', 'rsplit', 'rstrip', 'split', 'splitlines', 'startswith', 'strip', 'swapcase', 'title', 'translate', 'upper', 'zfill'] \n",
      "\n",
      "['__abs__', '__add__', '__and__', '__bool__', '__ceil__', '__class__', '__delattr__', '__dir__', '__divmod__', '__doc__', '__eq__', '__float__', '__floor__', '__floordiv__', '__format__', '__ge__', '__getattribute__', '__getnewargs__', '__getstate__', '__gt__', '__hash__', '__index__', '__init__', '__init_subclass__', '__int__', '__invert__', '__le__', '__lshift__', '__lt__', '__mod__', '__mul__', '__ne__', '__neg__', '__new__', '__or__', '__pos__', '__pow__', '__radd__', '__rand__', '__rdivmod__', '__reduce__', '__reduce_ex__', '__repr__', '__rfloordiv__', '__rlshift__', '__rmod__', '__rmul__', '__ror__', '__round__', '__rpow__', '__rrshift__', '__rshift__', '__rsub__', '__rtruediv__', '__rxor__', '__setattr__', '__sizeof__', '__str__', '__sub__', '__subclasshook__', '__truediv__', '__trunc__', '__xor__', 'as_integer_ratio', 'bit_count', 'bit_length', 'conjugate', 'denominator', 'from_bytes', 'imag', 'numerator', 'real', 'to_bytes'] \n",
      "\n",
      "['__abs__', '__add__', '__bool__', '__ceil__', '__class__', '__delattr__', '__dir__', '__divmod__', '__doc__', '__eq__', '__float__', '__floor__', '__floordiv__', '__format__', '__ge__', '__getattribute__', '__getformat__', '__getnewargs__', '__getstate__', '__gt__', '__hash__', '__init__', '__init_subclass__', '__int__', '__le__', '__lt__', '__mod__', '__mul__', '__ne__', '__neg__', '__new__', '__pos__', '__pow__', '__radd__', '__rdivmod__', '__reduce__', '__reduce_ex__', '__repr__', '__rfloordiv__', '__rmod__', '__rmul__', '__round__', '__rpow__', '__rsub__', '__rtruediv__', '__setattr__', '__sizeof__', '__str__', '__sub__', '__subclasshook__', '__truediv__', '__trunc__', 'as_integer_ratio', 'conjugate', 'fromhex', 'hex', 'imag', 'is_integer', 'real'] \n",
      "\n",
      "['__abs__', '__add__', '__and__', '__bool__', '__ceil__', '__class__', '__delattr__', '__dir__', '__divmod__', '__doc__', '__eq__', '__float__', '__floor__', '__floordiv__', '__format__', '__ge__', '__getattribute__', '__getnewargs__', '__getstate__', '__gt__', '__hash__', '__index__', '__init__', '__init_subclass__', '__int__', '__invert__', '__le__', '__lshift__', '__lt__', '__mod__', '__mul__', '__ne__', '__neg__', '__new__', '__or__', '__pos__', '__pow__', '__radd__', '__rand__', '__rdivmod__', '__reduce__', '__reduce_ex__', '__repr__', '__rfloordiv__', '__rlshift__', '__rmod__', '__rmul__', '__ror__', '__round__', '__rpow__', '__rrshift__', '__rshift__', '__rsub__', '__rtruediv__', '__rxor__', '__setattr__', '__sizeof__', '__str__', '__sub__', '__subclasshook__', '__truediv__', '__trunc__', '__xor__', 'as_integer_ratio', 'bit_count', 'bit_length', 'conjugate', 'denominator', 'from_bytes', 'imag', 'numerator', 'real', 'to_bytes'] \n",
      "\n"
     ]
    }
   ],
   "source": [
    "# 5. dir()\n",
    "# 객체가 가지고 있는 변수와 함수를 출력\n",
    "print(dir({}), '\\n')\n",
    "print(dir([]), '\\n')\n",
    "print(dir(()), '\\n')\n",
    "print(dir(''), '\\n')\n",
    "print(dir(1), '\\n')\n",
    "print(dir(0.0), '\\n')\n",
    "print(dir(bool()), '\\n')"
   ]
  },
  {
   "cell_type": "code",
   "execution_count": 35,
   "id": "14245b61",
   "metadata": {},
   "outputs": [
    {
     "name": "stdout",
     "output_type": "stream",
     "text": [
      "(2, 1)\n",
      "(6.0, 0.09999999999999998)\n"
     ]
    }
   ],
   "source": [
    "# 6. divmod(a, b)\n",
    "# 2개의 숫자를 전달받아서 몫과 나머지를 튜플로 리턴\n",
    "print(divmod(7,3))\n",
    "print(divmod(1.3, 0.2)) # 실수의 계산 정밀도 문제가 있다."
   ]
  },
  {
   "cell_type": "code",
   "execution_count": 41,
   "id": "e5159458",
   "metadata": {},
   "outputs": [
    {
     "name": "stdout",
     "output_type": "stream",
     "text": [
      "0 = 손흥민 <class 'int'> <class 'str'>\n",
      "1 = 소향 <class 'int'> <class 'str'>\n",
      "2 = 이강인 <class 'int'> <class 'str'>\n",
      "\n",
      "0 손흥민\n",
      "1 소향\n",
      "2 이강인\n",
      "\n",
      "1000 손흥민\n",
      "1001 소향\n",
      "1002 이강인\n"
     ]
    }
   ],
   "source": [
    "# 7. enumerate(iterable)\n",
    "# \"열거하다\"라는 의미처럼 반복자를 전달받아서 인덱스값으로 포함하는 enumate라는 객체로 리턴\n",
    "# 이 함수는 보통 for문가 같이 사용된다.\n",
    "# enumerate?\n",
    "l = ['손흥민','소향','이강인',]\n",
    "for idx, val in enumerate(l):\n",
    "    print(f'{idx} = {val}', type(idx), type(val))\n",
    "print()\n",
    "\n",
    "names = l\n",
    "for i, name in enumerate(names):\n",
    "    print(i, name)\n",
    "print()    \n",
    "\n",
    "for i, name in enumerate(names, 1000):\n",
    "    print(i, name)"
   ]
  },
  {
   "cell_type": "code",
   "execution_count": 50,
   "id": "eb1ce183",
   "metadata": {
    "scrolled": true
   },
   "outputs": [
    {
     "name": "stdout",
     "output_type": "stream",
     "text": [
      "1+1\n",
      "2\n",
      "Hello World!!\n",
      "(6.0, 0.09999999999999998)\n"
     ]
    },
    {
     "ename": "NameError",
     "evalue": "name 'divmodxxx' is not defined",
     "output_type": "error",
     "traceback": [
      "\u001b[1;31m---------------------------------------------------------------------------\u001b[0m",
      "\u001b[1;31mNameError\u001b[0m                                 Traceback (most recent call last)",
      "Cell \u001b[1;32mIn[50], line 8\u001b[0m\n\u001b[0;32m      6\u001b[0m \u001b[38;5;28meval\u001b[39m(\u001b[38;5;124m'\u001b[39m\u001b[38;5;124mprint(\u001b[39m\u001b[38;5;124m\"\u001b[39m\u001b[38;5;124mHello World!!\u001b[39m\u001b[38;5;124m\"\u001b[39m\u001b[38;5;124m)\u001b[39m\u001b[38;5;124m'\u001b[39m)\n\u001b[0;32m      7\u001b[0m \u001b[38;5;28mprint\u001b[39m(\u001b[38;5;28meval\u001b[39m(\u001b[38;5;124m'\u001b[39m\u001b[38;5;124mdivmod(1.3, 0.2)\u001b[39m\u001b[38;5;124m'\u001b[39m))\n\u001b[1;32m----> 8\u001b[0m \u001b[38;5;28mprint\u001b[39m(\u001b[38;5;28meval\u001b[39m(\u001b[38;5;124m'\u001b[39m\u001b[38;5;124mdivmodxxx(1.3, 0.2)\u001b[39m\u001b[38;5;124m'\u001b[39m))\n",
      "File \u001b[1;32m<string>:1\u001b[0m\n",
      "\u001b[1;31mNameError\u001b[0m: name 'divmodxxx' is not defined"
     ]
    }
   ],
   "source": [
    "# 8. eval(expression)\n",
    "# 파이썬의 표현식을 문자열로 전달받아서 해당 표현식을 실행해 주는 함수\n",
    "# eval?\n",
    "print('1+1')\n",
    "print(eval('1+1'))\n",
    "eval('print(\"Hello World!!\")')\n",
    "print(eval('divmod(1.3, 0.2)'))\n",
    "print(eval('divmodxxx(1.3, 0.2)'))"
   ]
  },
  {
   "cell_type": "code",
   "execution_count": 63,
   "id": "c6395c20",
   "metadata": {},
   "outputs": [
    {
     "name": "stdout",
     "output_type": "stream",
     "text": [
      "[1, 10, 2]\n",
      "<class 'filter'> <filter object at 0x0000018D2E8A2AA0>\n",
      "[1, 10, 2]\n",
      "[1, 10, 2]\n"
     ]
    }
   ],
   "source": [
    "# 9. filter(function, iterable)\n",
    "# 첫 번째 인수로 함수, 두 번째 인수로 iterable자료를 전달 받아서\n",
    "# 그 중에서 존건에 맞는 값만 리턴하는 함수이다.\n",
    "# help(filter)\n",
    "\n",
    "# list자료형에서 숫자일 경우 양수만 리턴하는 함수\n",
    "# 1) 사용자함수\n",
    "def positive(nums):\n",
    "    result = []\n",
    "    for num in nums:\n",
    "        if num>0:\n",
    "            result.append(num)\n",
    "    return result\n",
    "\n",
    "print(positive([1,0,-1,10,2,-3]))\n",
    "\n",
    "# 2) filter함수\n",
    "def positive(nums):\n",
    "    return nums > 0\n",
    "# print(list(positive([1,0,-1,10,2,-3]))) # TypeError\n",
    "print(type(filter(positive, [1,0,-1,10,2,-3])), filter(positive, [1,0,-1,10,2,-3]))\n",
    "result = list(filter(positive, [1,0,-1,10,2,-3]))\n",
    "print(result)\n",
    "\n",
    "# 3) lambda함수\n",
    "print(list(filter(lambda n:n>0, [1,0,-1,10,2,-3])))"
   ]
  },
  {
   "cell_type": "code",
   "execution_count": 68,
   "id": "36dbeefd",
   "metadata": {},
   "outputs": [
    {
     "name": "stdout",
     "output_type": "stream",
     "text": [
      "0x1\n",
      "0xa\n",
      "0x10\n",
      "0xff\n"
     ]
    }
   ],
   "source": [
    "# 10. hex(10진수)\n",
    "print(hex(1))\n",
    "print(hex(10))\n",
    "print(hex(16))\n",
    "print(hex(255))"
   ]
  },
  {
   "cell_type": "code",
   "execution_count": 72,
   "id": "c7d07022",
   "metadata": {},
   "outputs": [
    {
     "name": "stdout",
     "output_type": "stream",
     "text": [
      "1705878784112\n",
      "1705878784592\n",
      "1705878784112\n",
      "\n",
      "140727332279144\n",
      "140727332279144\n"
     ]
    }
   ],
   "source": [
    "# 11. id(객체)\n",
    "name = '소향'\n",
    "print(id(name))\n",
    "print(id('소향'))\n",
    "\n",
    "y = name\n",
    "print(id(y))\n",
    "print()\n",
    "\n",
    "x = 3\n",
    "print(id(x))\n",
    "print(id(3))"
   ]
  },
  {
   "cell_type": "code",
   "execution_count": 73,
   "id": "c1a58bdf",
   "metadata": {},
   "outputs": [
    {
     "name": "stdout",
     "output_type": "stream",
     "text": [
      "이름을 입력하세요 => 홍길동\n",
      "홍길동\n"
     ]
    }
   ],
   "source": [
    "# 12. input()\n",
    "name = input('이름을 입력하세요 => ')\n",
    "print(name)"
   ]
  },
  {
   "cell_type": "code",
   "execution_count": 84,
   "id": "0b4fc28a",
   "metadata": {},
   "outputs": [
    {
     "name": "stdout",
     "output_type": "stream",
     "text": [
      "3\n",
      "314\n",
      "3.14\n",
      "\n",
      "11\n",
      "3\n",
      "9\n",
      "17\n",
      "26\n"
     ]
    },
    {
     "ename": "ValueError",
     "evalue": "invalid literal for int() with base 10: '1A'",
     "output_type": "error",
     "traceback": [
      "\u001b[1;31m---------------------------------------------------------------------------\u001b[0m",
      "\u001b[1;31mValueError\u001b[0m                                Traceback (most recent call last)",
      "Cell \u001b[1;32mIn[84], line 14\u001b[0m\n\u001b[0;32m     12\u001b[0m \u001b[38;5;28mprint\u001b[39m(\u001b[38;5;28mint\u001b[39m(\u001b[38;5;124m'\u001b[39m\u001b[38;5;124m11\u001b[39m\u001b[38;5;124m'\u001b[39m, \u001b[38;5;241m16\u001b[39m))\n\u001b[0;32m     13\u001b[0m \u001b[38;5;28mprint\u001b[39m(\u001b[38;5;28mint\u001b[39m(\u001b[38;5;124m'\u001b[39m\u001b[38;5;124m1A\u001b[39m\u001b[38;5;124m'\u001b[39m, \u001b[38;5;241m16\u001b[39m))\n\u001b[1;32m---> 14\u001b[0m \u001b[38;5;28mprint\u001b[39m(\u001b[38;5;28mint\u001b[39m(\u001b[38;5;124m'\u001b[39m\u001b[38;5;124m1A\u001b[39m\u001b[38;5;124m'\u001b[39m))\n",
      "\u001b[1;31mValueError\u001b[0m: invalid literal for int() with base 10: '1A'"
     ]
    }
   ],
   "source": [
    "# 13. int(), int(string), int(x, radix)\n",
    "print(int(3.14))\n",
    "print(int('314'))\n",
    "# print(int('3.14')) # typeError\n",
    "print(float('3.14'))\n",
    "print()\n",
    "\n",
    "# 진수\n",
    "print(int('11'))\n",
    "print(int('11', 2))\n",
    "print(int('11', 8))\n",
    "print(int('11', 16))\n",
    "print(int('1A', 16))\n",
    "print(int('1A')) # ValueError: invalid literal for int() with base 10: '1A'"
   ]
  },
  {
   "cell_type": "code",
   "execution_count": 106,
   "id": "d08ee37f",
   "metadata": {},
   "outputs": [
    {
     "name": "stdout",
     "output_type": "stream",
     "text": [
      "True\n",
      "False\n",
      "\n",
      "True\n",
      "True\n",
      "\n",
      "False\n",
      "False\n",
      "True\n"
     ]
    }
   ],
   "source": [
    "# 14. isinstance(객체, class)\n",
    "# 첫 번째인수로 객체, 두 번째인수로 클래스를 전달해서 해당 객체(인스턴스)가 전달된\n",
    "# 클래스의 객체인지 여부를 리턴\n",
    "class Person: pass\n",
    "class Child(Person): pass\n",
    "class Calculator: pass\n",
    "\n",
    "a = Person()\n",
    "b = Child()\n",
    "c = Calculator()\n",
    "\n",
    "print(isinstance(a, Person))\n",
    "print(isinstance(a, Child))\n",
    "print()\n",
    "\n",
    "print(isinstance(b, Person))\n",
    "print(isinstance(b, Child))\n",
    "print()\n",
    "\n",
    "print(isinstance(c, Person))\n",
    "print(isinstance(c, Child))\n",
    "print(isinstance(c, Calculator))"
   ]
  },
  {
   "cell_type": "code",
   "execution_count": 116,
   "id": "a1e26449",
   "metadata": {},
   "outputs": [
    {
     "name": "stdout",
     "output_type": "stream",
     "text": [
      "True\n",
      "True\n",
      "False\n",
      "False\n",
      "False\n"
     ]
    }
   ],
   "source": [
    "# 14.1 issubclass(cls, tuple(class,....))\n",
    "# ?issubclass\n",
    "print(issubclass(Child, (Person)))\n",
    "print(issubclass(Child, (Person, Calculator)))\n",
    "print(issubclass(Person, (Child)))\n",
    "print(issubclass(Calculator, (Person)))\n",
    "print(issubclass(Calculator, (Child)))"
   ]
  },
  {
   "cell_type": "code",
   "execution_count": 120,
   "id": "4bce0b87",
   "metadata": {},
   "outputs": [
    {
     "name": "stdout",
     "output_type": "stream",
     "text": [
      "['문', '자', '열']\n",
      "[1, 2, 3]\n",
      "[1, 'name']\n"
     ]
    }
   ],
   "source": [
    "# 15. list(iterable)\n",
    "print(list(\"문자열\"))\n",
    "print(list((1,2,3)))\n",
    "print(list({1:'소향', 'name':'손흥민'}))"
   ]
  },
  {
   "cell_type": "code",
   "execution_count": 129,
   "id": "f87032ed",
   "metadata": {},
   "outputs": [
    {
     "name": "stdout",
     "output_type": "stream",
     "text": [
      "[2, 4, 6, 8, 10, 12, 14, 16, 18, 20]\n",
      "[2, 4, 6, 8, 10, 12, 14, 16, 18, 20]\n",
      "[2, 4, 6, 8, 10, 12, 14, 16, 18, 20]\n"
     ]
    }
   ],
   "source": [
    "# 16. map(function, iterable)\n",
    "# iterable자료형을 전달 받아서 각 요소가 함수에서 수행된 결과를 리턴\n",
    "\n",
    "# 반복자료형의 각 요소를 2배의 결과를 리턴\n",
    "# 1) 사용자함수\n",
    "def two_times(nums):\n",
    "    result = []\n",
    "    for num in nums:\n",
    "        result.append(num*2)\n",
    "    return result\n",
    "\n",
    "print(two_times([1,2,3,4,5,6,7,8,9,10]))\n",
    "\n",
    "# 2) map함수\n",
    "def two_times1(n):\n",
    "    return n*2\n",
    "print(list(map(two_times1, [1,2,3,4,5,6,7,8,9,10])))\n",
    "\n",
    "# 3. lambda함수\n",
    "print(list(map(lambda n:n*2, [1,2,3,4,5,6,7,8,9,10])))"
   ]
  },
  {
   "cell_type": "code",
   "execution_count": 130,
   "id": "c47cba60",
   "metadata": {},
   "outputs": [
    {
     "name": "stdout",
     "output_type": "stream",
     "text": [
      "[1, 2, 3, 4]\n",
      "[False, False, False, False, False, True, True, True, True]\n"
     ]
    }
   ],
   "source": [
    "# map vs filter\n",
    "# map 10개 1,2,4,...20 -> 10개 요소\n",
    "# filter 10개 -> 5개\n",
    "print(list(filter(lambda x:x>0, [-5,-4,-3,-1,0,1,2,3,4]))) # 9개 -> 4개로 감소 \n",
    "print(list(map(lambda x:x>0, [-5,-4,-3,-1,0,1,2,3,4]))) # 9개 -> 9개를 리턴(True or False)"
   ]
  },
  {
   "cell_type": "code",
   "execution_count": 131,
   "id": "16f81ae2",
   "metadata": {},
   "outputs": [
    {
     "name": "stdout",
     "output_type": "stream",
     "text": [
      "4\n",
      "7\n"
     ]
    }
   ],
   "source": [
    "# 17. min/max\n",
    "print(min(5,4,7))\n",
    "print(max(5,4,7))"
   ]
  },
  {
   "cell_type": "code",
   "execution_count": 137,
   "id": "633d6fd4",
   "metadata": {},
   "outputs": [
    {
     "name": "stdout",
     "output_type": "stream",
     "text": [
      "0o10\n",
      "0o12\n",
      "0o23\n",
      "\n",
      "0o0,0o1,0o2,0o3,0o4,0o5,0o6,0o7,0o10,0o11,0o12,0o13,0o14,0o15,0o16,0o17,0o20,0o21,0o22,0o23,"
     ]
    }
   ],
   "source": [
    "# 18. oct(십진수값)\n",
    "print(oct(8))\n",
    "print(oct(10))\n",
    "print(oct(19))\n",
    "print() \n",
    "\n",
    "for i in range(20):\n",
    "    print(oct(i), end=\",\")"
   ]
  },
  {
   "cell_type": "code",
   "execution_count": null,
   "id": "5a244312",
   "metadata": {},
   "outputs": [],
   "source": [
    "# 19. open() : 13.파일입출력_FileIO 참조"
   ]
  },
  {
   "cell_type": "code",
   "execution_count": 142,
   "id": "35050643",
   "metadata": {},
   "outputs": [
    {
     "name": "stdout",
     "output_type": "stream",
     "text": [
      "44033,45209,45796,46972,47560,48148,49324,50500,51088,52852,53440,54028,54616,\n",
      "각,낙,다,라,마,바,사,아,자,카,타,파,하,"
     ]
    }
   ],
   "source": [
    "# 20. ord(문자)\n",
    "\n",
    "chars = ['각','낙','다','라','마','바','사','아','자','카','타','파','하',]\n",
    "for char in chars:\n",
    "    print(ord(char), end=\",\")\n",
    "print()\n",
    "\n",
    "for char in chars:\n",
    "    print(chr(ord(char)), end=\",\")"
   ]
  },
  {
   "cell_type": "code",
   "execution_count": 143,
   "id": "b4931a17",
   "metadata": {},
   "outputs": [
    {
     "name": "stdout",
     "output_type": "stream",
     "text": [
      "8\n"
     ]
    }
   ],
   "source": [
    "# 21. pow(x, y)\n",
    "print(pow(2, 3))"
   ]
  },
  {
   "cell_type": "code",
   "execution_count": 144,
   "id": "42263b6d",
   "metadata": {},
   "outputs": [],
   "source": [
    "# 22. range() : 실습참조"
   ]
  },
  {
   "cell_type": "code",
   "execution_count": 149,
   "id": "e58db18b",
   "metadata": {},
   "outputs": [
    {
     "name": "stdout",
     "output_type": "stream",
     "text": [
      "cde\n",
      "cde <class 'slice'> <class 'str'>\n",
      "cde\n"
     ]
    }
   ],
   "source": [
    "# 23. slice(stop)\n",
    "#     slice(start, stop[, step])\n",
    "sample = 'abcdefghijklm,nopqrstuvwxyz'\n",
    "print(sample[2:5])\n",
    "\n",
    "s = slice(2,5)\n",
    "print(sample[s], type(s), type(sample[s]))\n",
    "print(sample[slice(2,5)])"
   ]
  },
  {
   "cell_type": "code",
   "execution_count": 156,
   "id": "6c96b4d6",
   "metadata": {},
   "outputs": [
    {
     "name": "stdout",
     "output_type": "stream",
     "text": [
      "[1, 2, 3, 5, 6, 7, 8, 9]\n",
      "[9, 8, 7, 6, 5, 3, 2, 1]\n",
      "[' ', '!', '?', '갑', '녕', '니', '다', '반', '세', '습', '안', '요', '하']\n",
      "['a', 'b', 'c', 'x', 'y', 'z']\n"
     ]
    },
    {
     "ename": "TypeError",
     "evalue": "'<' not supported between instances of 'int' and 'str'",
     "output_type": "error",
     "traceback": [
      "\u001b[1;31m---------------------------------------------------------------------------\u001b[0m",
      "\u001b[1;31mTypeError\u001b[0m                                 Traceback (most recent call last)",
      "Cell \u001b[1;32mIn[156], line 7\u001b[0m\n\u001b[0;32m      5\u001b[0m \u001b[38;5;28mprint\u001b[39m(\u001b[38;5;28msorted\u001b[39m(\u001b[38;5;124m\"\u001b[39m\u001b[38;5;124m안녕하세요? 반갑습니다!\u001b[39m\u001b[38;5;124m\"\u001b[39m))\n\u001b[0;32m      6\u001b[0m \u001b[38;5;28mprint\u001b[39m(\u001b[38;5;28msorted\u001b[39m([\u001b[38;5;124m'\u001b[39m\u001b[38;5;124ma\u001b[39m\u001b[38;5;124m'\u001b[39m, \u001b[38;5;124m'\u001b[39m\u001b[38;5;124mx\u001b[39m\u001b[38;5;124m'\u001b[39m, \u001b[38;5;124m'\u001b[39m\u001b[38;5;124mb\u001b[39m\u001b[38;5;124m'\u001b[39m, \u001b[38;5;124m'\u001b[39m\u001b[38;5;124my\u001b[39m\u001b[38;5;124m'\u001b[39m, \u001b[38;5;124m'\u001b[39m\u001b[38;5;124mc\u001b[39m\u001b[38;5;124m'\u001b[39m, \u001b[38;5;124m'\u001b[39m\u001b[38;5;124mz\u001b[39m\u001b[38;5;124m'\u001b[39m]))\n\u001b[1;32m----> 7\u001b[0m \u001b[38;5;28mprint\u001b[39m(\u001b[38;5;28msorted\u001b[39m([\u001b[38;5;124m'\u001b[39m\u001b[38;5;124ma\u001b[39m\u001b[38;5;124m'\u001b[39m, \u001b[38;5;124m'\u001b[39m\u001b[38;5;124mx\u001b[39m\u001b[38;5;124m'\u001b[39m, \u001b[38;5;241m1\u001b[39m, \u001b[38;5;124m'\u001b[39m\u001b[38;5;124my\u001b[39m\u001b[38;5;124m'\u001b[39m, \u001b[38;5;124m'\u001b[39m\u001b[38;5;124mc\u001b[39m\u001b[38;5;124m'\u001b[39m, \u001b[38;5;124m'\u001b[39m\u001b[38;5;124mz\u001b[39m\u001b[38;5;124m'\u001b[39m]))\n",
      "\u001b[1;31mTypeError\u001b[0m: '<' not supported between instances of 'int' and 'str'"
     ]
    }
   ],
   "source": [
    "# 24. sorted(iterable)\n",
    "# 제약사항 : iterable에는 동일 자료형이어야 한다. 아니면 TypeError발생\n",
    "print(sorted([3,2,5,1,6,8,7,9,]))\n",
    "print(sorted([3,2,5,1,6,8,7,9,], reverse=True))\n",
    "print(sorted(\"안녕하세요? 반갑습니다!\"))\n",
    "print(sorted(['a', 'x', 'b', 'y', 'c', 'z']))\n",
    "print(sorted(['a', 'x', 1, 'y', 'c', 'z'])) # ㄴ"
   ]
  },
  {
   "cell_type": "code",
   "execution_count": 157,
   "id": "94fa71b1",
   "metadata": {},
   "outputs": [
    {
     "name": "stdout",
     "output_type": "stream",
     "text": [
      "<class 'int'> <class 'str'>\n"
     ]
    }
   ],
   "source": [
    "# 24. str(객체)\n",
    "print(type(3), type(str(3)))"
   ]
  },
  {
   "cell_type": "code",
   "execution_count": 161,
   "id": "7b9b93ab",
   "metadata": {},
   "outputs": [
    {
     "name": "stdout",
     "output_type": "stream",
     "text": [
      "('안', '녕', '하', '세', '요', '?')\n",
      "(1, 2, 3, 4)\n",
      "(1, 'addr')\n"
     ]
    }
   ],
   "source": [
    "# 25. tuple(객체)\n",
    "print(tuple('안녕하세요?'))\n",
    "print(tuple([1,2,3,4]))\n",
    "print(tuple({1:'소향', 'addr':'서울'}))"
   ]
  },
  {
   "cell_type": "code",
   "execution_count": null,
   "id": "e39fef1d",
   "metadata": {},
   "outputs": [],
   "source": [
    "# 26. type()"
   ]
  },
  {
   "cell_type": "code",
   "execution_count": 179,
   "id": "047cf1c8",
   "metadata": {},
   "outputs": [
    {
     "name": "stdout",
     "output_type": "stream",
     "text": [
      "<class 'zip'> <zip object at 0x0000018D36BB5FC0> [(1, 4), (2, 5), (3, 6)]\n",
      "[(1, 3), (2, 4)]\n",
      "[(1, 4), (2, 5), (3, 6)]\n",
      "[('a', 4), ('b', 5), ('c', 6)]\n",
      "[('a', 'x'), ('b', 'y'), ('c', 'z')]\n",
      "[('a', 'xyz')]\n",
      "[('a', 'x'), ('b', 'y'), ('c', 'z')]\n",
      "[('a', 0, 0), ('b', 1, 1), ('c', 2, 2)]\n"
     ]
    }
   ],
   "source": [
    "# 27. zip(iterable) - 동일한 자료형을 묶어서 tuple로 리턴\n",
    "\n",
    "# 1) 2개의 객체수가 동일할 경우\n",
    "a = [1,2,3]\n",
    "b = [4,5,6]\n",
    "print(type(zip(a, b)), zip(a, b), list(zip(a, b)))\n",
    "\n",
    "# 2) 2개의 객체수가 동일하지 않을 경우\n",
    "print(list(zip([1,2],[3,4,5])))\n",
    "\n",
    "# 3) 자료형이 다를 경우\n",
    "print(list(zip([1,2,3],(4,5,6))))\n",
    "print(list(zip('abcdefg',(4,5,6))))\n",
    "print(list(zip('abc','xyz')))\n",
    "print(list(zip('abc', ['xyz'])))\n",
    "print(list(zip('abc', ['x', 'y', 'z'])))\n",
    "\n",
    "# 4) 2개 이상일 경우\n",
    "print(list(zip('abcdefg', range(3), range(5))))"
   ]
  }
 ],
 "metadata": {
  "kernelspec": {
   "display_name": "Python 3 (ipykernel)",
   "language": "python",
   "name": "python3"
  },
  "language_info": {
   "codemirror_mode": {
    "name": "ipython",
    "version": 3
   },
   "file_extension": ".py",
   "mimetype": "text/x-python",
   "name": "python",
   "nbconvert_exporter": "python",
   "pygments_lexer": "ipython3",
   "version": "3.11.5"
  }
 },
 "nbformat": 4,
 "nbformat_minor": 5
}
