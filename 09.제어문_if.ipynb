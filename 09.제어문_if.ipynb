{
 "cells": [
  {
   "cell_type": "markdown",
   "id": "ea716abc",
   "metadata": {},
   "source": [
    "# 제어문(if)\n",
    "\n",
    "1. 단순if문\n",
    "><img src=\"./images/09.제어문_if_01_단순if문.png\" width=\"400\" height=\"200\" />\n",
    "1. if~else문\n",
    "><img src=\"./images/09.제어문_if_02_단순if_else문.png\" width=\"400\" height=\"200\" />\n",
    "1. if ~ elif ~ else문"
   ]
  },
  {
   "cell_type": "code",
   "execution_count": 13,
   "id": "103a98b1",
   "metadata": {},
   "outputs": [
    {
     "name": "stdout",
     "output_type": "stream",
     "text": [
      "10\n",
      "10\n",
      "----------------------\n",
      "10\n",
      "10\n",
      "10\n",
      "10\n"
     ]
    }
   ],
   "source": [
    "# 1. 단순if문\n",
    "x = 10\n",
    "\n",
    "if x==10:\n",
    "    print(x)\n",
    "\n",
    "if x==10:\n",
    " print(x)  # 실제에러는 아니지만 들여쓰기(4칸) 관례에 벗어나다.\n",
    "#   print(x) # 블럭이 없기 때문에 즉, 윗 줄의 1칸블럭과 현재 2칸블럭으로 구분이 되지 않기 때문에 에러\n",
    "print('----------------------')\n",
    "\n",
    "if x==10:\n",
    "  print(x)\n",
    "\n",
    "if x==10:\n",
    "   print(x)\n",
    "\n",
    "if x==10:\n",
    "    print(x) # tab\n",
    "    \n",
    "# 실행문이 한줄일 경우는 한줄로 정의할 수 있다.\n",
    "if x==10: print(x)    \n",
    "    \n",
    "# if x==10: # 실행할 문장이 하나도 없기 때문에 에러\n",
    "\n",
    "# 실행할 문장이 하나도 없을 경우에 pass 명령을 사용\n",
    "if x== 10:\n",
    "    pass"
   ]
  },
  {
   "cell_type": "code",
   "execution_count": 38,
   "id": "9a0a36eb",
   "metadata": {},
   "outputs": [
    {
     "name": "stdout",
     "output_type": "stream",
     "text": [
      "돈이 하나도 없어요! ㅠㅠ\n",
      "불합격입니다!. 다음번에 도전해 주세요!\n"
     ]
    }
   ],
   "source": [
    "# 2. if ~ else\n",
    "money = 0\n",
    "\n",
    "if money:\n",
    "    print(f'{money}만원을 가지고 있습니다!')\n",
    "else:\n",
    "    print('돈이 하나도 없어요! ㅠㅠ')\n",
    "    \n",
    "score = 50\n",
    "if score>=60:\n",
    "    print(f'{60}점이네요. 합격입니다!')\n",
    "else:\n",
    "    print('불합격입니다!. 다음번에 도전해 주세요!')"
   ]
  },
  {
   "cell_type": "code",
   "execution_count": 22,
   "id": "230760ee",
   "metadata": {},
   "outputs": [
    {
     "name": "stdout",
     "output_type": "stream",
     "text": [
      "F학점입니다.\n"
     ]
    }
   ],
   "source": [
    "# 3. if~elif~else문\n",
    "score = 40\n",
    "if score>=90:\n",
    "    print('A학점입니다.')\n",
    "elif score>=80:\n",
    "    print('B학점입니다.') \n",
    "elif score>=70:\n",
    "    print('C학점입니다.') \n",
    "elif score>=60:\n",
    "    print('D학점입니다.') \n",
    "else:\n",
    "    print('F학점입니다.')     "
   ]
  },
  {
   "cell_type": "code",
   "execution_count": 26,
   "id": "36d97bcb",
   "metadata": {},
   "outputs": [
    {
     "name": "stdout",
     "output_type": "stream",
     "text": [
      "커피결제를 모바일앱으로 결제를 합니다\n"
     ]
    }
   ],
   "source": [
    "# 4. 중첩 if\n",
    "호주머니 = ['핸드폰', '휴지']\n",
    "\n",
    "if '돈' in 호주머니:\n",
    "    print('커피를 사먹습니다!')\n",
    "else:\n",
    "    if '핸드폰' in 호주머니:\n",
    "        print('커피결제를 모바일앱으로 결제를 합니다')\n",
    "    else:\n",
    "        print(\"점심을 굶습니다!\")"
   ]
  },
  {
   "cell_type": "code",
   "execution_count": 27,
   "id": "e5fb47c9",
   "metadata": {},
   "outputs": [],
   "source": [
    "# 5. if문에 실행문장이 하나도 없을 경우 pass\n",
    "if 1:\n",
    "    pass\n",
    "else:\n",
    "    pass"
   ]
  },
  {
   "cell_type": "code",
   "execution_count": 48,
   "id": "399d89a7",
   "metadata": {},
   "outputs": [
    {
     "name": "stdout",
     "output_type": "stream",
     "text": [
      "False True True\n",
      "\n",
      "True\n",
      "False\n",
      "\n",
      "True\n",
      "False\n",
      "\n",
      "True\n",
      "False\n",
      "\n",
      "True\n",
      "False\n",
      "파이썬책을 가지고 있습니다! 열공!!\n"
     ]
    }
   ],
   "source": [
    "# 6. if문장에서 파이썬이 다른 프로그램언어와 다른 점이 in, not in을 사용할 수 있다는 점이다.\n",
    "# in, not in을 사용해서 iterable자료형 즉, list, tuple, string등을 비교할 수 있게 if문을 사용할 수 있다.\n",
    "# 사용법 : if 비교값 in[not in] iterable: pass\n",
    "# 결과는 True or False\n",
    "print(bool(0), bool(1), bool(-1))\n",
    "print()\n",
    "\n",
    "print(1 in [1,2,3])\n",
    "print(100 in [1,2,3])\n",
    "print()\n",
    "\n",
    "print(1 in (1,2,3))\n",
    "print(100 in (1,2,3))\n",
    "print()\n",
    "\n",
    "print('안' in '안녕하세요?')\n",
    "print('반' in '안녕하세요?')\n",
    "print()\n",
    "\n",
    "print(1 in {1:'소향', 2:'나얼'})\n",
    "print(3 in {1:'소향', 2:'나얼'})\n",
    "\n",
    "books = ['Java','JavaScript','SQL','Python',]\n",
    "if 'Python' in books:\n",
    "    print('파이썬책을 가지고 있습니다! 열공!!')\n",
    "else:\n",
    "    print('파이썬책이 없네요!! 서점에서 구입해서 열공!!')"
   ]
  },
  {
   "cell_type": "markdown",
   "id": "7c26c744",
   "metadata": {},
   "source": [
    "##### 삼항연산자\n",
    ">\"True일경우 실행문\" if 조건문 else \"False일경우 실행문\""
   ]
  },
  {
   "cell_type": "code",
   "execution_count": 50,
   "id": "18dffbce",
   "metadata": {},
   "outputs": [
    {
     "name": "stdout",
     "output_type": "stream",
     "text": [
      "불합격입니다. 다시 한번 도전하세요!\n"
     ]
    }
   ],
   "source": [
    "# 1. 일반비교\n",
    "score = 50\n",
    "\n",
    "if score>=60:\n",
    "    print('축하합니다! 합격이네요~~')\n",
    "else:\n",
    "    print('불합격입니다. 다시 한번 도전하세요!')\n",
    "    "
   ]
  },
  {
   "cell_type": "code",
   "execution_count": 54,
   "id": "48e6a7bd",
   "metadata": {},
   "outputs": [
    {
     "name": "stdout",
     "output_type": "stream",
     "text": [
      "축하합니다! 합격이네요~~\n",
      "불합격입니다. 다시 한번 도전하세요!\n"
     ]
    }
   ],
   "source": [
    "# 2. 삼항연산자\n",
    "score = 60\n",
    "print('축하합니다! 합격이네요~~') if score>=60 else print('불합격입니다. 다시 한번 도전하세요!')\n",
    "\n",
    "score = 50\n",
    "print('축하합니다! 합격이네요~~') if (score>=60) else print('불합격입니다. 다시 한번 도전하세요!')"
   ]
  },
  {
   "cell_type": "markdown",
   "id": "f7ab0b15",
   "metadata": {},
   "source": [
    "#### 관계연산자\n",
    "\n",
    "##### 1. 비교연산자\n",
    "|연산자|설명|\n",
    "|:--------|:------|\n",
    "|x<y|x가 y보다 작다|\n",
    "|x>y|x가 y보다 크다|\n",
    "|x==y|x와 y가 같다|\n",
    "|x!=y|x와 y가 다르다|\n",
    "|x<=y|x가 y보다 작거나 같다|\n",
    "|x>=y|x가 y보다 크거나 같다|\n",
    "\n",
    "##### 2. and, or, not\n",
    "|연산자|설명|\n",
    "|:-----:|:-------|\n",
    "|x and y|x와 y가 모두 True이어야만 `True`|\n",
    "|x or y|x와 y가 둘중에 하나만 True면 `True`|\n",
    "|not x |x가 True면 False, x가 False True|\n",
    "\n",
    "##### 3. in, not in\n",
    "|in | not in|\n",
    "|:-------|:--------|\n",
    "|x in iterable| x not in iterable|"
   ]
  },
  {
   "cell_type": "markdown",
   "id": "e283ee19",
   "metadata": {},
   "source": [
    "##### 실습문제\n",
    "\n",
    "* input()함수로 임의의 수를 입력받아서 해당하는 수가 짝수인지 홀수인지 여부를 출력\n",
    "* if문 / 삼항연산자"
   ]
  },
  {
   "cell_type": "code",
   "execution_count": 60,
   "id": "4ed38d51",
   "metadata": {},
   "outputs": [
    {
     "name": "stdout",
     "output_type": "stream",
     "text": [
      "임의수를 입력하세요 => 10\n",
      "<class 'int'>\n",
      "\n",
      "짝수입니다!\n",
      "짝수입니다!\n"
     ]
    }
   ],
   "source": [
    "number = int(input('임의수를 입력하세요 => '))\n",
    "print(type(number))\n",
    "print()\n",
    "\n",
    "# 1. 일반if문\n",
    "if number % 2 == 0:\n",
    "    print('짝수입니다!')\n",
    "else:\n",
    "    print('홀수입니다!')\n",
    "    \n",
    "# 2. 삼항연산자\n",
    "print('짝수입니다!') if number % 2 == 0 else print('홀수입니다!')"
   ]
  }
 ],
 "metadata": {
  "kernelspec": {
   "display_name": "Python 3 (ipykernel)",
   "language": "python",
   "name": "python3"
  },
  "language_info": {
   "codemirror_mode": {
    "name": "ipython",
    "version": 3
   },
   "file_extension": ".py",
   "mimetype": "text/x-python",
   "name": "python",
   "nbconvert_exporter": "python",
   "pygments_lexer": "ipython3",
   "version": "3.11.5"
  }
 },
 "nbformat": 4,
 "nbformat_minor": 5
}
