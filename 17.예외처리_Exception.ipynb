{
 "cells": [
  {
   "cell_type": "markdown",
   "id": "bff9661f",
   "metadata": {},
   "source": [
    "# 예외처리(Exception)\n",
    "\n",
    "##### 1. 예외처리방법\n",
    "```python\n",
    "    try:\n",
    "        # 예외가 발생할 가능성이 있는 실행문장\n",
    "        c = b / 0\n",
    "    except Exception:\n",
    "        # 예외가 발생되었을 경우 처리할 문장...\n",
    "        print('0으로 나눌 수가 없습니다!!')\n",
    "    else:\n",
    "        # 정상적으로 처리할 경우 실행할 문장\n",
    "        print('나누기 결과 = 1000')\n",
    "    finally:\n",
    "        # 한 번은 반드시 실행할 문장...\n",
    "        print('프로그램종료!!')        \n",
    "```\n",
    "\n",
    "##### 2. 파이썬의 예외의 종류\n",
    "\n",
    "* http://docs.python.org/library/exceptions.html\n",
    "\n",
    "##### 3. 파이썬예외계층도\n",
    "><img src=\"./images/17.예외처리_Exception_02.png\" width=\"400\" height=\"300\" />"
   ]
  },
  {
   "cell_type": "code",
   "execution_count": 6,
   "id": "256c3543",
   "metadata": {},
   "outputs": [
    {
     "name": "stdout",
     "output_type": "stream",
     "text": [
      "0으로 나눌 수가 없습니다!\n",
      "0\n",
      "\n",
      "0으로 나눌 수가 없습니다!\n"
     ]
    }
   ],
   "source": [
    "# 1. 예외처리\n",
    "\n",
    "a = 0\n",
    "b = 10\n",
    "c = 0\n",
    "\n",
    "if a==0:\n",
    "    print('0으로 나눌 수가 없습니다!')\n",
    "else:\n",
    "    c = b /a\n",
    "\n",
    "print(c)\n",
    "print()\n",
    "\n",
    "try:\n",
    "    c = b /a\n",
    "except Exception:\n",
    "     print('0으로 나눌 수가 없습니다!')\n",
    "else:\n",
    "    print(c)"
   ]
  },
  {
   "cell_type": "code",
   "execution_count": 8,
   "id": "9b83e88d",
   "metadata": {},
   "outputs": [
    {
     "name": "stdout",
     "output_type": "stream",
     "text": [
      "0으로 나눌 수가 없습니다!\n"
     ]
    }
   ],
   "source": [
    "# 2. 특정 예외처리처리\n",
    "# 1) ZeroDivisionError\n",
    "try:\n",
    "    c = b /a\n",
    "except ZeroDivisionError:\n",
    "     print('0으로 나눌 수가 없습니다!')\n",
    "else:\n",
    "    print(c)"
   ]
  },
  {
   "cell_type": "code",
   "execution_count": 11,
   "id": "202f63d4",
   "metadata": {},
   "outputs": [
    {
     "name": "stdout",
     "output_type": "stream",
     "text": [
      "종료하려면 q를 입력하세요!!\n",
      "분자를 입력하세요 ==> 10\n",
      "분모를 입력하세요 ==> 0\n",
      "분모에는 0이 올 수가 없습니다!\n",
      "분자를 입력하세요 ==> 10\n",
      "분모를 입력하세요 ==> 2\n",
      "10 / 2 = 5.0\n",
      "분자를 입력하세요 ==> q\n",
      "프로그램이 종료가 되었습니다!!\n"
     ]
    }
   ],
   "source": [
    "# ZeroDivisionError처리방법\n",
    "print('종료하려면 q를 입력하세요!!')\n",
    "while True:\n",
    "    num1 = input('분자를 입력하세요 ==> ')\n",
    "    \n",
    "    if num1=='q': break\n",
    "        \n",
    "    num2 = input('분모를 입력하세요 ==> ')    \n",
    "    \n",
    "    try:\n",
    "        result = int(num1) / int(num2)\n",
    "    except ZeroDivisionError:\n",
    "         print('분모에는 0이 올 수가 없습니다!')\n",
    "    else:\n",
    "        print(f'{num1} / {num2} = {result}') \n",
    "        \n",
    "print(\"프로그램이 종료가 되었습니다!!\")        "
   ]
  },
  {
   "cell_type": "code",
   "execution_count": 19,
   "id": "8b14ba9c",
   "metadata": {},
   "outputs": [
    {
     "name": "stdout",
     "output_type": "stream",
     "text": [
      "분자와 분모를 입력하세요 : 10 0\n",
      "10 10\n",
      "ArithmeticError\n"
     ]
    }
   ],
   "source": [
    "# Exception 계층\n",
    "# ZeroDivisionError와 ArithmeticError처리순서를 바꿔서 실습해보기\n",
    "try:\n",
    "    # map()함수\n",
    "    x, y = map(int, input(\"분자와 분모를 입력하세요 : \").split())\n",
    "    print(index, x)\n",
    "    result = x / y\n",
    "except ArithmeticError:    \n",
    "    print('ArithmeticError')\n",
    "except ZeroDivisionError:\n",
    "    print('분모에는 0이 올 수가 없습니다!')    \n"
   ]
  },
  {
   "cell_type": "code",
   "execution_count": 22,
   "id": "8eb4d581",
   "metadata": {},
   "outputs": [
    {
     "name": "stdout",
     "output_type": "stream",
     "text": [
      "index와 분모를 입력하세요 : 10 10\n",
      "잘못된 인덱스입니다!\n"
     ]
    }
   ],
   "source": [
    "# 2) IndexError & 다중예외처리\n",
    "\n",
    "l = [10,20,30]\n",
    "\n",
    "try:\n",
    "    index, x = map(int, input(\"index와 분모를 입력하세요 : \").split())\n",
    "    print(l[index] / x)\n",
    "except ZeroDivisionError:\n",
    "    print('분모에는 0이 올 수가 없습니다!')      \n",
    "except IndexError: # 인덱스의 범위를 벗어나는 경우 발생\n",
    "    print('잘못된 인덱스입니다!')\n"
   ]
  },
  {
   "cell_type": "code",
   "execution_count": 27,
   "id": "614c03da",
   "metadata": {},
   "outputs": [
    {
     "name": "stdout",
     "output_type": "stream",
     "text": [
      "start....\n",
      "unsupported operand type(s) for +: 'int' and 'str'\n",
      "TypeError : unsupported operand type(s) for +: 'int' and 'str'\n",
      "finish....\n"
     ]
    }
   ],
   "source": [
    "# 3) TypeError & 내장익셉션메시지출력\n",
    "def exception_message():\n",
    "    print('start....')\n",
    "    \n",
    "    try:\n",
    "        print(2 + '2')\n",
    "    except TypeError as e:\n",
    "        # print('타입에러입니다!!!')\n",
    "        print(e)  # 간단한 내장 예외 메시지\n",
    "        print('TypeError : {0}'.format(e)) # 상세한 내장 예외 메시지\n",
    "    \n",
    "    print('finish....')\n",
    "    \n",
    "exception_message()    "
   ]
  },
  {
   "cell_type": "code",
   "execution_count": 31,
   "id": "38cb47b9",
   "metadata": {},
   "outputs": [
    {
     "name": "stdout",
     "output_type": "stream",
     "text": [
      "파일을 찾지 못했습니다!!\n",
      "프로그램종료 : 무조건 처리할 로직을 정의하는 블럭\n"
     ]
    }
   ],
   "source": [
    "# 4) FileNotFoundError\n",
    "try:\n",
    "    f = open('./data/notfoundfile.txt', 'r', encoding='utf-8')\n",
    "except FileNotFoundError:\n",
    "    print('파일을 찾지 못했습니다!!')\n",
    "else:\n",
    "    print('파일을 찾았습니다!!')\n",
    "finally:\n",
    "    print('프로그램종료 : 무조건 처리할 로직을 정의하는 블럭')\n"
   ]
  },
  {
   "cell_type": "code",
   "execution_count": 32,
   "id": "bb511414",
   "metadata": {},
   "outputs": [
    {
     "name": "stdout",
     "output_type": "stream",
     "text": [
      "start....\n",
      "finish....\n"
     ]
    },
    {
     "name": "stderr",
     "output_type": "stream",
     "text": [
      "Traceback (most recent call last):\n",
      "  File \"C:\\Users\\gilbaek\\AppData\\Local\\Temp\\ipykernel_4444\\1166400061.py\", line 9, in exception_message\n",
      "    print(2 + '2')\n",
      "          ~~^~~~~\n",
      "TypeError: unsupported operand type(s) for +: 'int' and 'str'\n"
     ]
    }
   ],
   "source": [
    "# 3. 예외의 에러메시지 받아오기\n",
    "# tracback모듈\n",
    "import traceback\n",
    "\n",
    "def exception_message():\n",
    "    print('start....')\n",
    "    \n",
    "    try:\n",
    "        print(2 + '2')\n",
    "    except TypeError as e:\n",
    "        traceback.print_exc() # traceback 메시지 출력\n",
    "    \n",
    "    print('finish....')\n",
    "    \n",
    "exception_message()  "
   ]
  },
  {
   "cell_type": "markdown",
   "id": "aa7eb750",
   "metadata": {},
   "source": [
    "###### 데이터분석실습\n",
    "\n",
    "* Alice in Wonderland 소설의 단어 갯수를 분석하는 데이터분석\n",
    "* 구글링 Download : https://gist.github.com/phillipj/4944029"
   ]
  },
  {
   "cell_type": "code",
   "execution_count": 38,
   "id": "b6dbaf61",
   "metadata": {},
   "outputs": [
    {
     "name": "stdout",
     "output_type": "stream",
     "text": [
      "<class 'list'> 26470\n",
      "<class 'set'> 5307\n",
      "파일이름 = ./data/alice_in_wonderland.txt, 총단어수 = 26470, 중복단어제거후 단어수 = 5307\n"
     ]
    }
   ],
   "source": [
    "# 데이터분석(1)\n",
    "# 1. alice_in_wonderland.txt 파일읽기\n",
    "# 2. exception처리하기\n",
    "# 3. 총단어의 갯수는? 파일이름 : ??, 총단어갯수= ??\n",
    "filename = './data/alice_in_wonderland.txt'\n",
    "try:\n",
    "    with open(filename, encoding='utf-8') as f:\n",
    "        contents = f.read()\n",
    "        # print(contents)\n",
    "except FileNotFoundError as e:\n",
    "    print(e, '\\n', '파일을 찾지 못했습니다!!')\n",
    "else:\n",
    "    words = contents.split()  # 공란으로 단어를 분리\n",
    "    print(type(words), len(words))\n",
    "    s_words = set(words)\n",
    "    print(type(s_words), len(s_words))\n",
    "    print(f'파일이름 = {filename}, 총단어수 = {len(words)}, 중복단어제거후 단어수 = {len(s_words)}')"
   ]
  },
  {
   "cell_type": "code",
   "execution_count": 46,
   "id": "94a945c3",
   "metadata": {},
   "outputs": [
    {
     "name": "stdout",
     "output_type": "stream",
     "text": [
      "파일이름 = ./data/alice_in_wonderland.txt, 총단어수 = 26470, 중복단어제거후 단어수 = 5307\n",
      "파일이름 = ./data/little_women.txt, 총단어수 = 189138, 중복단어제거후 단어수 = 21009\n",
      "파일이름 = ./data/moby_dick.txt, 총단어수 = 215831, 중복단어제거후 단어수 = 33558\n",
      "[Errno 2] No such file or directory: './data/asdfashb.txt' \n",
      " 파일을 찾지 못했습니다!!\n"
     ]
    }
   ],
   "source": [
    "# 실습. 데이터분석(2) - 여러개의 파일을 읽어서 각 파일의 단어갯수는?\n",
    "# 1. alice_in_wonderland.txt, moby_dick.txt, little_women.txt\n",
    "# 2. 3개의 파일이름을 list, for in문 읽어서 \n",
    "# 3. 총단어의 갯수는? 파일이름 : ??, 총단어갯수= ??\n",
    "\n",
    "def word_count(file):\n",
    "    filename = './data/' + file\n",
    "    try:\n",
    "        with open(filename, encoding='utf-8') as f:\n",
    "            contents = f.read()\n",
    "            # print(contents)\n",
    "    except FileNotFoundError as e:\n",
    "        print(e, '\\n', '파일을 찾지 못했습니다!!')\n",
    "    else:    \n",
    "        words = contents.split()\n",
    "        print(f'파일이름 = {filename}, 총단어수 = {len(words)}, 중복단어제거후 단어수 = {len(set(words))}')\n",
    "        \n",
    "files = ['alice_in_wonderland.txt', 'little_women.txt', 'moby_dick.txt', 'asdfashb.txt']\n",
    "for file in files:\n",
    "    word_count(file)"
   ]
  },
  {
   "cell_type": "markdown",
   "id": "c19fa7b7",
   "metadata": {},
   "source": [
    "### 4. 강제로 예외발생시키기\n",
    "\n",
    "```python\n",
    "raise 예외('에러메시지')\n",
    "```"
   ]
  },
  {
   "cell_type": "code",
   "execution_count": 55,
   "id": "40bd5b7a",
   "metadata": {},
   "outputs": [
    {
     "name": "stdout",
     "output_type": "stream",
     "text": [
      "임의의 숫자를 입력하세요 => 5\n",
      "예외가 발생되었습니다!! => 사용자정의 예외 메시기 :  [ 입력한 수는 3의 배수가 아닙니다!] \n"
     ]
    }
   ],
   "source": [
    "# 1. 사용자 예외발생시키기\n",
    "# 3의 배수가 아닐경우에 예외발생시키기\n",
    "try:\n",
    "    x = int(input('임의의 숫자를 입력하세요 => '))\n",
    "    if x%3 != 0:\n",
    "        raise Exception('[ 입력한 수는 3의 배수가 아닙니다!] ')\n",
    "        \n",
    "    print(f'{x}는 3의 배수입니다!')  # 3의 배수가 아닐경우 실행되지 않음\n",
    "except Exception as e:\n",
    "    print('예외가 발생되었습니다!! => 사용자정의 예외 메시기 : ', e)"
   ]
  },
  {
   "cell_type": "code",
   "execution_count": 60,
   "id": "7f813dd8",
   "metadata": {},
   "outputs": [
    {
     "name": "stdout",
     "output_type": "stream",
     "text": [
      "임의의 숫자를 입력하세요 => 5\n",
      "예외가 발생되었습니다!! => 사용자정의 예외 메시기 :  [ 입력한 수는 3의 배수가 아닙니다!] \n",
      "함수를 호출한 결과 예외가 발생했습니다!\n"
     ]
    }
   ],
   "source": [
    "# 2. 함수호출시 예외처리하기\n",
    "def three_multiple():\n",
    "    try:\n",
    "        x = int(input('임의의 숫자를 입력하세요 => '))\n",
    "        if x%3 != 0:\n",
    "            raise Exception('[ 입력한 수는 3의 배수가 아닙니다!] ')\n",
    "        print(f'{x}는 3의 배수입니다!') \n",
    "    except Exception as e:\n",
    "        print('예외가 발생되었습니다!! => 사용자정의 예외 메시기 : ', e)\n",
    "        raise\n",
    "        \n",
    "# 1) 일반적으로 함수 호출\n",
    "# three_multiple()\n",
    "\n",
    "# 2) 함수호출후 익셉션처리하기\n",
    "try:\n",
    "    three_multiple()\n",
    "    print('테스트 - 익셉션처리')\n",
    "except Exception as e:\n",
    "    print('함수를 호출한 결과 예외가 발생했습니다!')"
   ]
  },
  {
   "cell_type": "code",
   "execution_count": 70,
   "id": "159fca5d",
   "metadata": {},
   "outputs": [
    {
     "ename": "AssertionError",
     "evalue": "3의 배수가 아닙니다",
     "output_type": "error",
     "traceback": [
      "\u001b[1;31m---------------------------------------------------------------------------\u001b[0m",
      "\u001b[1;31mAssertionError\u001b[0m                            Traceback (most recent call last)",
      "Cell \u001b[1;32mIn[70], line 8\u001b[0m\n\u001b[0;32m      1\u001b[0m \u001b[38;5;66;03m# 3. assert명령으로 예외 발생시키키\u001b[39;00m\n\u001b[0;32m      2\u001b[0m \u001b[38;5;66;03m# 예외를 발생시키는 방법은 assert를 사용하는 방법도 있다.\u001b[39;00m\n\u001b[0;32m      3\u001b[0m \u001b[38;5;66;03m# assert는 지정된 조건식이 거짓일 경우에 AssertionError예외를 발생시킨다.\u001b[39;00m\n\u001b[0;32m      4\u001b[0m \u001b[38;5;66;03m# 조건식이 참이면 정상처리가 된다.\u001b[39;00m\n\u001b[0;32m      5\u001b[0m \u001b[38;5;66;03m# assert는 보통의 경우 나와서는 않되는 조건을 검사할 때 사용한다.\u001b[39;00m\n\u001b[0;32m      6\u001b[0m \u001b[38;5;66;03m# 문법 : \"assert 조건식\", \"assert 조건식, 에러메시지\"\u001b[39;00m\n\u001b[0;32m      7\u001b[0m a \u001b[38;5;241m=\u001b[39m \u001b[38;5;241m10\u001b[39m\n\u001b[1;32m----> 8\u001b[0m \u001b[38;5;28;01massert\u001b[39;00m a\u001b[38;5;241m%\u001b[39m\u001b[38;5;241m3\u001b[39m\u001b[38;5;241m==\u001b[39m\u001b[38;5;241m0\u001b[39m, \u001b[38;5;124m\"\u001b[39m\u001b[38;5;124m3의 배수가 아닙니다\u001b[39m\u001b[38;5;124m\"\u001b[39m\n\u001b[0;32m      9\u001b[0m \u001b[38;5;28mprint\u001b[39m(a)\n",
      "\u001b[1;31mAssertionError\u001b[0m: 3의 배수가 아닙니다"
     ]
    }
   ],
   "source": [
    "# 3. assert명령으로 예외 발생시키키\n",
    "# 예외를 발생시키는 방법은 assert를 사용하는 방법도 있다.\n",
    "# assert는 지정된 조건식이 거짓일 경우에 AssertionError예외를 발생시킨다.\n",
    "# 조건식이 참이면 정상처리가 된다.\n",
    "# assert는 보통의 경우 나와서는 않되는 조건을 검사할 때 사용한다.\n",
    "# 문법 : \"assert 조건식\", \"assert 조건식, 에러메시지\"\n",
    "a = 10\n",
    "assert a%3==0, \"3의 배수가 아닙니다\"\n",
    "print(a)\n",
    "\n",
    "# assert는 보통 디버깅모드에서 많이 사용한다.\n",
    "# 파이썬에서는 기본적으로 디버깅모드(__debug__의 값은 기본값 0)로 되어 있다.\n",
    "# assert가 실행되지 않게 하기 위해서는 python에 -o(대문자 O도 가능)옵션을 설정해서 수행한다.\n",
    "# 즉 \"python.exe -O 모듈명.py\"로 실행하면 assert문장을 만나도 실행되지 않는다."
   ]
  },
  {
   "cell_type": "markdown",
   "id": "f7c33aac",
   "metadata": {},
   "source": [
    "### 4. 사용자예외만들기\n",
    "\n",
    "* 예외에는 파인썬에 내장된 예외가 있고 사용자가 직접만든 예외를 `사용자예외`라고 한다.\n",
    "* 사용자예외를 만드는 방법은 간단하다. 그냥 `Exception을 상속`받아서 새로운 클래스를 만들면 된다.\n",
    "* 그리고 `__init__메서드에 부모클래의 메서드를 호출 즉, super().__init__('에러메시지')를 호출`하면 된다.\n",
    "\n",
    "```python\n",
    "class 사용자예외명(Exception):\n",
    "    def __init__(self):\n",
    "        super().__init__('출력할 예외메시지...')\n",
    "```"
   ]
  },
  {
   "cell_type": "code",
   "execution_count": 74,
   "id": "97e4ca1c",
   "metadata": {},
   "outputs": [
    {
     "name": "stdout",
     "output_type": "stream",
     "text": [
      "임의의 숫자를 입력하세요 => 9\n",
      "9는 3의 배수입니다!\n"
     ]
    }
   ],
   "source": [
    "# 1.  super().__init__()를 호출하는 경우\n",
    "class UserException(Exception):\n",
    "    def __init__(self):\n",
    "        super().__init__('[ 입력한 수는 3의 배수가 아닙니다!] ')\n",
    "        \n",
    "def three_multiple():\n",
    "    try:\n",
    "        x = int(input('임의의 숫자를 입력하세요 => '))\n",
    "        if x%3 != 0: raise UserException\n",
    "        print(f'{x}는 3의 배수입니다!') \n",
    "    except Exception as e:\n",
    "        print('예외가 발생되었습니다!! => super()__init__()호출 : ', e)\n",
    "\n",
    "three_multiple()"
   ]
  },
  {
   "cell_type": "code",
   "execution_count": 75,
   "id": "6dff27f1",
   "metadata": {},
   "outputs": [
    {
     "name": "stdout",
     "output_type": "stream",
     "text": [
      "임의의 숫자를 입력하세요 => 10\n",
      "예외가 발생되었습니다!! => 상속만 받는 경우 :  \n"
     ]
    }
   ],
   "source": [
    "# 2. 상속만 받는 경우\n",
    "class MyException(Exception):\n",
    "    pass\n",
    "\n",
    "\n",
    "def three_multiple():\n",
    "    try:\n",
    "        x = int(input('임의의 숫자를 입력하세요 => '))\n",
    "        if x%3 != 0: raise MyException\n",
    "        print(f'{x}는 3의 배수입니다!') \n",
    "    except Exception as e:\n",
    "        print('예외가 발생되었습니다!! => 상속만 받는 경우 : ', e)\n",
    "\n",
    "three_multiple()\n"
   ]
  }
 ],
 "metadata": {
  "kernelspec": {
   "display_name": "Python 3 (ipykernel)",
   "language": "python",
   "name": "python3"
  },
  "language_info": {
   "codemirror_mode": {
    "name": "ipython",
    "version": 3
   },
   "file_extension": ".py",
   "mimetype": "text/x-python",
   "name": "python",
   "nbconvert_exporter": "python",
   "pygments_lexer": "ipython3",
   "version": "3.11.5"
  }
 },
 "nbformat": 4,
 "nbformat_minor": 5
}
