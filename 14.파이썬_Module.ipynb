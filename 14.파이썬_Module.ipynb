{
 "cells": [
  {
   "cell_type": "markdown",
   "id": "6ac38e64",
   "metadata": {},
   "source": [
    "# 모듈(Module)\n",
    "\n",
    "## 1. 모듈의 정의\n",
    "\n",
    "* 함수 : 파일내에서 일정한 작업을 수행하는 코드 블럭을 말한다.\n",
    "* 모듈 : 함수나, 변수 or 클래스들을 한개의 파일에 모아높은 파일을 말한다. `확장자가 ~.py`인 파일\n",
    "  - 유사하거나 연관된 일을 하는 함수나 변수들을 모아허 하나의 파일에 저장한후 재사용하기 위해 정의한다.\n",
    "  - 모듈의 이름은 확장자(py)를 제외한 것이 모듈의 이름이다.\n",
    "* 패키지: 여러개의 모듈을 하나의 디렉토리에 모아 놓을 것을 말한다.\n",
    "* 레벨 : 패키지(디렉토리, 폴더) > 모듈(파일.py) > 클래스(변수, 메서드, 생성자), 함수\n",
    "\n",
    "## 2. 모듈의 사용목적\n",
    "\n",
    "* `코드의 재사용` : 모듈이 없다면 자주 사용되는 함수를 매번 작성해야 하기 때문에 개발, 유지보수가 어렵다.\n",
    "* 프로그램 개발시에 전체코드를 여러 모듈단위로 분리하여 설계함으로 `작업의 효율을 향상`시킬 수가 있다.\n",
    "* 별도의 Namespace를 제공함으로 동일 이름의 변수나 함수를 각각의 모듈마다 `독립적으로 사용`할 수 있다.\n",
    "\n",
    "## 3. 모듈의 종류\n",
    "\n",
    "1. `표준모듈`       : 파이썬에서 기본적으로 제공되는 패키지안에 포함된 모듈, 대표적인 모듈 `math, sys...`\n",
    "1. `사용자정의모듈` : 개발자가 직접 작성하여 만든 모듈을 말한다.\n",
    "1. `써드파이모듈`   : 다른 업체다 개인이 만들어서 제공하는 모듈을 말한다. `numpy, pandas, matplotlib....`\n",
    "\n",
    "\n",
    "## 4. 모듈의 선언\n",
    "\n",
    "1. 모듈참조\n",
    "   * `import 모듈명`\n",
    "   * `import 모듈명 as 별칭`\n",
    "   * `from 패키지(or 모듈) import [모듈, 함수, 변수]`\n",
    "   * `from 패키지(or 모듈) import *`\n",
    "   * `from 패키지(or 모듈) import [모듈, 함수, 변수] as 별칭`\n",
    "   \n",
    "1. 모듈내에서 함수를 호출하는 방법\n",
    "\n",
    "   * `모듈명.함수(매개값....)`\n",
    "   \n",
    "1. 모듈을 참조할 수 있는 디렉토리 확인\n",
    "   * 기본적으로 현재 디렉토리에 있는 파일이나 파이썬 라이브러리가 저장되어 있는 디렉토리에 있는 모듈만 호출할 수 있다.\n",
    "   * 디렉토리를 현재 세션에 추가하거나 삭제할 경우 아래 함수를 사용할 수 있다.\n",
    "     - `sys.path().append()`\n",
    "     - `sys.path().remove()`"
   ]
  },
  {
   "cell_type": "code",
   "execution_count": null,
   "id": "e17a7f56",
   "metadata": {},
   "outputs": [],
   "source": [
    "%pwd\n",
    "!path"
   ]
  },
  {
   "cell_type": "code",
   "execution_count": null,
   "id": "defcc157",
   "metadata": {},
   "outputs": [],
   "source": [
    "# mkdir : windows명령으로 디렉토리 생성명령\n",
    "# ! : jupyter notebook안에서 windows(dos)명령을 실행하는 명령\n",
    "!mkdir d:\\lec\\04.python\\source"
   ]
  },
  {
   "cell_type": "code",
   "execution_count": null,
   "id": "ed6674b9",
   "metadata": {},
   "outputs": [],
   "source": [
    "%ls"
   ]
  },
  {
   "cell_type": "markdown",
   "id": "4acdede8",
   "metadata": {},
   "source": [
    "##### 모듈/패키지 실습환경\n",
    "\n",
    "1. d:\\lec\\04.python\\source\\greeting_en.py\n",
    "```python\n",
    "def welcome():\n",
    "    print('Hello Python!!')\n",
    "```\n",
    "1. d:\\lec\\04.python\\source\\greeting_ko.py\n",
    "```python\n",
    "def welcome():\n",
    "    print('안녕하세요 파이썬!!')\n",
    "```"
   ]
  },
  {
   "cell_type": "code",
   "execution_count": null,
   "id": "65162c6b",
   "metadata": {},
   "outputs": [],
   "source": [
    "%%writefile ./source/greeting_ko.py\n",
    "def welcome():\n",
    "    print('안녕하세요 파이썬!!')"
   ]
  },
  {
   "cell_type": "code",
   "execution_count": null,
   "id": "217c9a6b",
   "metadata": {},
   "outputs": [],
   "source": [
    "# 1. import 패키지명.모듈명\n",
    "import source.greeting_en\n",
    "import source.greeting_ko\n",
    "%whos\n",
    "print()\n",
    "\n",
    "source.greeting_en.welcome()\n",
    "source.greeting_ko.welcome()"
   ]
  },
  {
   "cell_type": "code",
   "execution_count": null,
   "id": "dfb5c9f7",
   "metadata": {},
   "outputs": [],
   "source": [
    "# 2. import 패키지명.모듈명 as 별칭\n",
    "import source.greeting_en as en\n",
    "import source.greeting_ko as ko\n",
    "en.welcome()\n",
    "ko.welcome()"
   ]
  },
  {
   "cell_type": "code",
   "execution_count": 3,
   "id": "e08fd4e8",
   "metadata": {},
   "outputs": [
    {
     "name": "stdout",
     "output_type": "stream",
     "text": [
      "Hello Python!!\n",
      "안녕하세요 파이썬!!\n",
      "20\n"
     ]
    }
   ],
   "source": [
    "# 3. from 패키지명 import [모듈, 함수, 변수] as 별칭\n",
    "from source import greeting_en as e\n",
    "from source import greeting_ko as k\n",
    "e.welcome()\n",
    "k.welcome()\n",
    "print(e.add(10,10))"
   ]
  },
  {
   "cell_type": "code",
   "execution_count": 4,
   "id": "640e5bd6",
   "metadata": {},
   "outputs": [
    {
     "name": "stdout",
     "output_type": "stream",
     "text": [
      "Hello Python!!\n",
      "안녕하세요 파이썬!!\n"
     ]
    }
   ],
   "source": [
    "# 4. from 패키지명.모듈명 import 함수 as 별칭\n",
    "from source.greeting_en import welcome as we\n",
    "from source.greeting_ko import welcome as wk\n",
    "we()\n",
    "wk()"
   ]
  },
  {
   "cell_type": "code",
   "execution_count": 14,
   "id": "129fc411",
   "metadata": {},
   "outputs": [
    {
     "name": "stdout",
     "output_type": "stream",
     "text": [
      "Variable   Type        Data/Info\n",
      "--------------------------------\n",
      "add        function    <function add at 0x0000024CEDC1EE80>\n",
      "welcome    function    <function welcome at 0x0000024CEDC1EB60>\n",
      "\n",
      "20\n",
      "Hello Python!!\n"
     ]
    }
   ],
   "source": [
    "# 5. from 패키명.모듈명 import *\n",
    "%reset -f\n",
    "from source.greeting_en import *\n",
    "%whos\n",
    "print()\n",
    "\n",
    "print(add(10,10))\n",
    "welcome()"
   ]
  },
  {
   "cell_type": "code",
   "execution_count": 5,
   "id": "3f848afa",
   "metadata": {},
   "outputs": [
    {
     "name": "stdout",
     "output_type": "stream",
     "text": [
      "Variable   Type        Data/Info\n",
      "--------------------------------\n",
      "e          module      <module 'source.greeting_<...>\\source\\\\greeting_en.py'>\n",
      "k          module      <module 'source.greeting_<...>\\source\\\\greeting_ko.py'>\n",
      "we         function    <function welcome at 0x0000024CEDC1EB60>\n",
      "wk         function    <function welcome at 0x0000024CEDC1E980>\n"
     ]
    }
   ],
   "source": [
    "%whos"
   ]
  },
  {
   "cell_type": "markdown",
   "id": "f91f30c3",
   "metadata": {},
   "source": [
    "##### 모듈생성 및 내장모듈 사용하기"
   ]
  },
  {
   "cell_type": "code",
   "execution_count": 28,
   "id": "8d644802",
   "metadata": {},
   "outputs": [
    {
     "name": "stdout",
     "output_type": "stream",
     "text": [
      "['__doc__', '__loader__', '__name__', '__package__', '__spec__', 'acos', 'acosh', 'asin', 'asinh', 'atan', 'atan2', 'atanh', 'cbrt', 'ceil', 'comb', 'copysign', 'cos', 'cosh', 'degrees', 'dist', 'e', 'erf', 'erfc', 'exp', 'exp2', 'expm1', 'fabs', 'factorial', 'floor', 'fmod', 'frexp', 'fsum', 'gamma', 'gcd', 'hypot', 'inf', 'isclose', 'isfinite', 'isinf', 'isnan', 'isqrt', 'lcm', 'ldexp', 'lgamma', 'log', 'log10', 'log1p', 'log2', 'modf', 'nan', 'nextafter', 'perm', 'pi', 'pow', 'prod', 'radians', 'remainder', 'sin', 'sinh', 'sqrt', 'tan', 'tanh', 'tau', 'trunc', 'ulp']\n",
      "\n",
      "<class 'float'> <class 'builtin_function_or_method'>\n",
      "3.141592653589793 2.718281828459045\n",
      "\n",
      "8.0\n",
      "13\n",
      "12\n"
     ]
    }
   ],
   "source": [
    "# 1. 파이쎤 내장모듈 불러오기\n",
    "import math   # 수학관련함수가 포함된 모듈\n",
    "# help(math)\n",
    "print(dir(math))\n",
    "print()\n",
    "\n",
    "print(type(math.pi), type(math.pow))\n",
    "print(math.pi, math.e)\n",
    "print()\n",
    "\n",
    "print(math.pow(2,3))\n",
    "print(math.ceil(12.1))\n",
    "print(math.floor(12.9))\n",
    "\n",
    "# 불러올 패키지, 모듈등이 없을 경우에는 에러가 발생\n",
    "# import xxx # ModuleNotFoundError: No module named 'xxx'"
   ]
  },
  {
   "cell_type": "code",
   "execution_count": 33,
   "id": "53783113",
   "metadata": {},
   "outputs": [
    {
     "name": "stdout",
     "output_type": "stream",
     "text": [
      "add\t math\t welcome\t \n",
      "\n",
      "Variable   Type        Data/Info\n",
      "--------------------------------\n",
      "add        function    <function add at 0x0000024CEDC1EE80>\n",
      "math       module      <module 'math' (built-in)>\n",
      "welcome    function    <function welcome at 0x0000024CEDC1EB60>\n",
      "\n"
     ]
    }
   ],
   "source": [
    "%who\n",
    "print()\n",
    "\n",
    "%whos\n",
    "print()\n",
    "\n",
    "%who_ls\n",
    "\n",
    "del math"
   ]
  },
  {
   "cell_type": "code",
   "execution_count": 38,
   "id": "06872557",
   "metadata": {},
   "outputs": [
    {
     "name": "stdout",
     "output_type": "stream",
     "text": [
      "Variable   Type                          Data/Info\n",
      "--------------------------------------------------\n",
      "p          float                         3.141592653589793\n",
      "x          builtin_function_or_method    <built-in function pow>\n",
      "\n",
      "PI = 3.141592653589793\n",
      "2의 3제곱근 = 8.0\n"
     ]
    }
   ],
   "source": [
    "# 2. 모듈에서 필용한 변수 or 함수만 불러오기\n",
    "%reset -f\n",
    "from math import pi as p, pow as x\n",
    "%whos\n",
    "print()\n",
    "\n",
    "print(f'PI = {p}')\n",
    "print(f'2의 3제곱근 = {x(2,3)}')"
   ]
  },
  {
   "cell_type": "code",
   "execution_count": 52,
   "id": "1b7c8ab1",
   "metadata": {},
   "outputs": [
    {
     "name": "stdout",
     "output_type": "stream",
     "text": [
      "Writing source\\mod1.py\n"
     ]
    }
   ],
   "source": [
    "%%writefile source\\mod1.py\n",
    "def add(a, b):\n",
    "    return a+b\n",
    "\n",
    "def safe_add(a, b):\n",
    "    if type(a) != type(b):\n",
    "        print(f'a({type(a)})와 b({type(b)})의 자료형이 다릅니다!')\n",
    "        return\n",
    "    else:\n",
    "        result = add(a,b)\n",
    "        return result"
   ]
  },
  {
   "cell_type": "code",
   "execution_count": 44,
   "id": "14ff520e",
   "metadata": {},
   "outputs": [
    {
     "ename": "ModuleNotFoundError",
     "evalue": "No module named 'mod1'",
     "output_type": "error",
     "traceback": [
      "\u001b[1;31m---------------------------------------------------------------------------\u001b[0m",
      "\u001b[1;31mModuleNotFoundError\u001b[0m                       Traceback (most recent call last)",
      "Cell \u001b[1;32mIn[44], line 1\u001b[0m\n\u001b[1;32m----> 1\u001b[0m \u001b[38;5;28;01mimport\u001b[39;00m \u001b[38;5;21;01mmod1\u001b[39;00m\n",
      "\u001b[1;31mModuleNotFoundError\u001b[0m: No module named 'mod1'"
     ]
    }
   ],
   "source": [
    "import mod1 # 현재 경로(d:\\\\lec\\\\04.python)에 mod1이 없기 때문에 에러발행"
   ]
  },
  {
   "cell_type": "code",
   "execution_count": 64,
   "id": "311ace26",
   "metadata": {},
   "outputs": [
    {
     "name": "stdout",
     "output_type": "stream",
     "text": [
      "<class 'list'> ['d:\\\\lec\\\\04.python', 'C:\\\\Anaconda3\\\\python311.zip', 'C:\\\\Anaconda3\\\\DLLs', 'C:\\\\Anaconda3\\\\Lib', 'C:\\\\Anaconda3', '', 'C:\\\\Users\\\\gilbaek\\\\AppData\\\\Roaming\\\\Python\\\\Python311\\\\site-packages', 'C:\\\\Anaconda3\\\\Lib\\\\site-packages', 'C:\\\\Anaconda3\\\\Lib\\\\site-packages\\\\win32', 'C:\\\\Anaconda3\\\\Lib\\\\site-packages\\\\win32\\\\lib', 'C:\\\\Anaconda3\\\\Lib\\\\site-packages\\\\Pythonwin']\n",
      "\n",
      "['d:\\\\lec\\\\04.python', 'C:\\\\Anaconda3\\\\python311.zip', 'C:\\\\Anaconda3\\\\DLLs', 'C:\\\\Anaconda3\\\\Lib', 'C:\\\\Anaconda3', '', 'C:\\\\Users\\\\gilbaek\\\\AppData\\\\Roaming\\\\Python\\\\Python311\\\\site-packages', 'C:\\\\Anaconda3\\\\Lib\\\\site-packages', 'C:\\\\Anaconda3\\\\Lib\\\\site-packages\\\\win32', 'C:\\\\Anaconda3\\\\Lib\\\\site-packages\\\\win32\\\\lib', 'C:\\\\Anaconda3\\\\Lib\\\\site-packages\\\\Pythonwin', 'd:\\\\lec\\\\04.python\\\\source']\n"
     ]
    }
   ],
   "source": [
    "import sys\n",
    "# help(sys)\n",
    "print(type(sys.path), sys.path)\n",
    "print()\n",
    "\n",
    "# 현재 path에 사용자디렉토리(패키지)를 등록하기\n",
    "sys.path.append('d:\\\\lec\\\\04.python\\\\source')\n",
    "print(sys.path)"
   ]
  },
  {
   "cell_type": "code",
   "execution_count": 58,
   "id": "512d7976",
   "metadata": {},
   "outputs": [
    {
     "name": "stdout",
     "output_type": "stream",
     "text": [
      "2\n",
      "a(<class 'int'>)와 b(<class 'str'>)의 자료형이 다릅니다!\n"
     ]
    },
    {
     "data": {
      "text/plain": [
       "3"
      ]
     },
     "execution_count": 58,
     "metadata": {},
     "output_type": "execute_result"
    }
   ],
   "source": [
    "import mod1\n",
    "print(mod1.add(1,1))\n",
    "# mod1.add(1, 'sss')\n",
    "mod1.safe_add(1, 'sss')\n",
    "mod1.safe_add(1, 2)"
   ]
  },
  {
   "cell_type": "code",
   "execution_count": 61,
   "id": "ee2b1921",
   "metadata": {},
   "outputs": [
    {
     "ename": "ValueError",
     "evalue": "list.remove(x): x not in list",
     "output_type": "error",
     "traceback": [
      "\u001b[1;31m---------------------------------------------------------------------------\u001b[0m",
      "\u001b[1;31mValueError\u001b[0m                                Traceback (most recent call last)",
      "Cell \u001b[1;32mIn[61], line 4\u001b[0m\n\u001b[0;32m      1\u001b[0m \u001b[38;5;66;03m# path삭제하기 - del, remove()\u001b[39;00m\n\u001b[0;32m      2\u001b[0m \u001b[38;5;66;03m# 삭제할 없을 경우에는 remove()는 에러발생\u001b[39;00m\n\u001b[0;32m      3\u001b[0m \u001b[38;5;66;03m# sys.path.remove('dddd')\u001b[39;00m\n\u001b[1;32m----> 4\u001b[0m sys\u001b[38;5;241m.\u001b[39mpath\u001b[38;5;241m.\u001b[39mremove(\u001b[38;5;124m'\u001b[39m\u001b[38;5;124md:\u001b[39m\u001b[38;5;130;01m\\\\\u001b[39;00m\u001b[38;5;124mlec\u001b[39m\u001b[38;5;130;01m\\\\\u001b[39;00m\u001b[38;5;124m04.python\u001b[39m\u001b[38;5;130;01m\\\\\u001b[39;00m\u001b[38;5;124msource\u001b[39m\u001b[38;5;124m'\u001b[39m)\n\u001b[0;32m      5\u001b[0m sys\u001b[38;5;241m.\u001b[39mpath\n",
      "\u001b[1;31mValueError\u001b[0m: list.remove(x): x not in list"
     ]
    }
   ],
   "source": [
    "# path삭제하기 - del, remove()\n",
    "# 삭제할 없을 경우에는 remove()는 에러발생\n",
    "# sys.path.remove('dddd')\n",
    "sys.path.remove('d:\\\\lec\\\\04.python\\\\source')\n",
    "sys.path"
   ]
  },
  {
   "cell_type": "code",
   "execution_count": 66,
   "id": "181b29ed",
   "metadata": {},
   "outputs": [
    {
     "name": "stdout",
     "output_type": "stream",
     "text": [
      "Variable   Type        Data/Info\n",
      "--------------------------------\n",
      "add        function    <function add at 0x0000024CEDA26980>\n",
      "safe_add   function    <function safe_add at 0x0000024CEDE9FCE0>\n",
      "sys        module      <module 'sys' (built-in)>\n"
     ]
    }
   ],
   "source": [
    "from mod1 import add, safe_add\n",
    "%whos"
   ]
  },
  {
   "cell_type": "code",
   "execution_count": 70,
   "id": "b0ed777a",
   "metadata": {},
   "outputs": [
    {
     "name": "stdout",
     "output_type": "stream",
     "text": [
      "a(<class 'int'>)와 b(<class 'str'>)의 자료형이 다릅니다!\n"
     ]
    },
    {
     "data": {
      "text/plain": [
       "2"
      ]
     },
     "execution_count": 70,
     "metadata": {},
     "output_type": "execute_result"
    }
   ],
   "source": [
    "add(1, 1)\n",
    "# add(1, 'xxx')\n",
    "safe_add(1, 'xxx')\n",
    "safe_add(1, 1)"
   ]
  },
  {
   "cell_type": "markdown",
   "id": "83831ee0",
   "metadata": {},
   "source": [
    "##### 파이썬 모듈을 외부에서 실행하기\n",
    "\n",
    ">* `python.exe d:\\lec\\04.python\\source\\mod1.py`\n",
    ">* `python path..\\mod1.py`\n",
    "\n",
    "###### `__name__`과 `__main__`\n",
    "\n",
    "* 파이썬의 `__name__`변수는 파이썬에서 내부적으로 사용하는 특별한 변수이다.\n",
    "* 만약에 `python.exe hello.py`처럼 즉, 직접 실행할 경우에는 `hello.py의 __name__변수에는 __main__이라는 문자열이 자동으로 저장`된다.\n",
    "* 하지만, python shell이나 다른 파이썬모듈에서 `import할 경우에는 __name__변수에는 자기자신 즉, 모듈이름이 저장`된다.\n",
    "* 즉, import hello 형태로 불러올 경우에는 `__name__변수에는 hello라는 문자열이 저장`된다.\n",
    "\n",
    "><img src=\"./images/14.파이썬_Module_01.png\" width=\"300\" height=\"200\" />\n",
    "><img src=\"./images/14.파이썬_Module_02.png\" width=\"300\" height=\"200\" />"
   ]
  },
  {
   "cell_type": "code",
   "execution_count": 73,
   "id": "5359b7c8",
   "metadata": {},
   "outputs": [
    {
     "name": "stdout",
     "output_type": "stream",
     "text": [
      "<class 'str'>\n"
     ]
    },
    {
     "data": {
      "text/plain": [
       "'print'"
      ]
     },
     "execution_count": 73,
     "metadata": {},
     "output_type": "execute_result"
    }
   ],
   "source": [
    "print(type(print.__name__))\n",
    "print.__name__"
   ]
  },
  {
   "cell_type": "code",
   "execution_count": 76,
   "id": "73189115",
   "metadata": {},
   "outputs": [
    {
     "data": {
      "text/plain": [
       "['d:\\\\lec\\\\04.python',\n",
       " 'C:\\\\Anaconda3\\\\python311.zip',\n",
       " 'C:\\\\Anaconda3\\\\DLLs',\n",
       " 'C:\\\\Anaconda3\\\\Lib',\n",
       " 'C:\\\\Anaconda3',\n",
       " '',\n",
       " 'C:\\\\Users\\\\gilbaek\\\\AppData\\\\Roaming\\\\Python\\\\Python311\\\\site-packages',\n",
       " 'C:\\\\Anaconda3\\\\Lib\\\\site-packages',\n",
       " 'C:\\\\Anaconda3\\\\Lib\\\\site-packages\\\\win32',\n",
       " 'C:\\\\Anaconda3\\\\Lib\\\\site-packages\\\\win32\\\\lib',\n",
       " 'C:\\\\Anaconda3\\\\Lib\\\\site-packages\\\\Pythonwin',\n",
       " 'd:\\\\lec\\\\04.python\\\\source',\n",
       " 'd:/lec/04.python/source']"
      ]
     },
     "execution_count": 76,
     "metadata": {},
     "output_type": "execute_result"
    }
   ],
   "source": [
    "sys.path.append('d:/lec/04.python/source')\n",
    "sys.path"
   ]
  },
  {
   "cell_type": "code",
   "execution_count": 78,
   "id": "c941ab7c",
   "metadata": {},
   "outputs": [
    {
     "name": "stdout",
     "output_type": "stream",
     "text": [
      "mod1\n"
     ]
    }
   ],
   "source": [
    "import mod1\n",
    "print(mod1.__name__)"
   ]
  },
  {
   "cell_type": "code",
   "execution_count": 87,
   "id": "fc88a61c",
   "metadata": {},
   "outputs": [
    {
     "name": "stdout",
     "output_type": "stream",
     "text": [
      "Overwriting source\\mod2.py\n"
     ]
    }
   ],
   "source": [
    "%%writefile source\\mod2.py\n",
    "\"\"\"\n",
    "    modul2 입니다!\n",
    "\"\"\"\n",
    "def add(a, b):\n",
    "    return a+b\n",
    "\n",
    "def safe_add(a, b):\n",
    "    if type(a) != type(b):\n",
    "        print(f'a({type(a)})와 b({type(b)})의 자료형이 다릅니다!')\n",
    "        return\n",
    "    else:\n",
    "        result = add(a,b)\n",
    "        return result\n",
    "\n",
    "def sub(a, b):\n",
    "    return a-b\n",
    "\n",
    "def main():\n",
    "    print(__name__)\n",
    "    print(add(20, 10))\n",
    "    print(safe_add(1, 'xxxx'))\n",
    "    print(sub(20,10))\n",
    "\n",
    "if __name__ == '__main__':\n",
    "    main()"
   ]
  },
  {
   "cell_type": "code",
   "execution_count": 82,
   "id": "08694d92",
   "metadata": {},
   "outputs": [
    {
     "name": "stdout",
     "output_type": "stream",
     "text": [
      "Variable   Type      Data/Info\n",
      "------------------------------\n",
      "mod2       module    <module 'mod2' from 'd:\\\\<...>python\\\\source\\\\mod2.py'>\n"
     ]
    }
   ],
   "source": [
    "%reset -f\n",
    "import mod2\n",
    "%whos"
   ]
  },
  {
   "cell_type": "code",
   "execution_count": 83,
   "id": "f186d249",
   "metadata": {},
   "outputs": [
    {
     "name": "stdout",
     "output_type": "stream",
     "text": [
      "mod2\n"
     ]
    }
   ],
   "source": [
    "print(mod2.__name__)"
   ]
  },
  {
   "cell_type": "code",
   "execution_count": 89,
   "id": "09ecced1",
   "metadata": {},
   "outputs": [
    {
     "name": "stdout",
     "output_type": "stream",
     "text": [
      "<class 'dict'>\n",
      "\n"
     ]
    }
   ],
   "source": [
    "import mod2 as m2\n",
    "print(type(m2.__dict__))\n",
    "print()\n",
    "\n",
    "# m2.__dict__"
   ]
  },
  {
   "cell_type": "markdown",
   "id": "ecb4b9c6",
   "metadata": {},
   "source": [
    "##### 파이썬은 왜 프로그램의 시작점이 정해져 있지 않을까?\n",
    "\n",
    "* 파이썬이 처음에 개발될 당시에서는 리눅스(유닉스)에서 사용하는 스크립트언어기반 이었기 때문에 프로그램의 시작점이 따로 정해져 있지 않았다.\n",
    "* 보통, 리눅스의 스크립트파일은 한 개의 파일로 이루어진 경우가 대부분인데 이 스크립트파일 자체가 독립적으로 실행되는 프로그램이다 보니까 프로그램의 시작점이 별도로 필요하지 않게 않았다.\n",
    "* 하지만, Java나 C같은 언어는 처음 만들어질 때 부터 여러개의 파일(소스, 프로그램)으로 나누어서 실행되었기 때문에 여러개의 소스파일중에서 프로그램의 시작점인 `main()메서드`를 따로 정해 놓았다.\n",
    "* 반면에, 상기에서 기술한 바와 같이 파이썬은 초기에는 프로그램의 시작점이 필요가 없었지만, 프로그램의 크기가 커지다보니 한 개의 소스파일로는 처리할 수가 없게 되어 여러 개의 소스파일로 구성되어지게 되어 어떤 소스파일이 프로그램의 시작점으로 할지 필요하게 되었다.\n",
    "* 따라서 파이썬 `__name__이라는 변수에 __main__이라는 값의 유무에 따라 프로그램의 시작점을 결정`하게 되었다"
   ]
  }
 ],
 "metadata": {
  "kernelspec": {
   "display_name": "Python 3 (ipykernel)",
   "language": "python",
   "name": "python3"
  },
  "language_info": {
   "codemirror_mode": {
    "name": "ipython",
    "version": 3
   },
   "file_extension": ".py",
   "mimetype": "text/x-python",
   "name": "python",
   "nbconvert_exporter": "python",
   "pygments_lexer": "ipython3",
   "version": "3.11.5"
  }
 },
 "nbformat": 4,
 "nbformat_minor": 5
}
