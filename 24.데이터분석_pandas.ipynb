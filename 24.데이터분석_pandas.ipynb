{
 "cells": [
  {
   "cell_type": "markdown",
   "id": "1bc692e6",
   "metadata": {},
   "source": [
    "# Pandas(Python Data Analysis Library)\n",
    "\n",
    "* `pandas는 파이썬에서 사용하는 데이터분석라이브러`이다.\n",
    "* `행과 열로 이루어진 데이터객체`를 다룰수 있으며 보다 안정적으로 대용량의 데이터를 처리하는데 매우 유용한 도구이다.\n",
    "* pandas에서는 기본적으로 정의되어 있는 `Series(1차원배열)와 DaraFrame(2차원배열)`을 사용한다.\n",
    "* pandas의 자료구조들을 빅데이터분석에 높은 수준의 성능을 보여준다.\n",
    "\n",
    "##### 참고site\n",
    "* pandas 문서 : http://pandas.pydata.org/pandas-docs/stable/index.html\n",
    "* 자료구조    : http://pandas.pydata.org/pandas-docs/stable/dsintro.html\n",
    "\n",
    "##### pandas cheat sheet\n",
    "\n",
    "><img src=\"./images/23.데이터분석_pandas_01_cheat_sheet-1.png\" />\n",
    "><img src=\"./images/23.데이터분석_pandas_01_cheat_sheet-2.png\" />"
   ]
  },
  {
   "cell_type": "code",
   "execution_count": 1,
   "id": "df53644d",
   "metadata": {},
   "outputs": [],
   "source": [
    "%matplotlib inline\n",
    "import numpy as np\n",
    "import pandas as pd\n",
    "import matplotlib.pyplot as plt"
   ]
  },
  {
   "cell_type": "code",
   "execution_count": 2,
   "id": "2475f74b",
   "metadata": {},
   "outputs": [],
   "source": [
    "# 한글처리\n",
    "from matplotlib import rc, font_manager\n",
    "\n",
    "font_name = font_manager\\\n",
    "                .FontProperties(\\\n",
    "                    fname='D:/lec/04.python/D2Coding-Ver1.3.2-20180524.ttf')\\\n",
    "                .get_name()\n",
    "rc('font', family=font_name)\n",
    "rc('axes', unicode_minus=False) # minus처리"
   ]
  },
  {
   "cell_type": "code",
   "execution_count": null,
   "id": "d482f308",
   "metadata": {},
   "outputs": [],
   "source": [
    "print(pd.__version__)     # simple info\n",
    "print(pd.show_versions()) # detail info"
   ]
  },
  {
   "cell_type": "markdown",
   "id": "94dabb12",
   "metadata": {},
   "source": [
    "##### pandas 자료구조\n",
    "\n",
    "><img src=\"./images/23.데이터분석_pandas_02_자료구조.png\" width=\"400\" height=\"300\">"
   ]
  },
  {
   "cell_type": "markdown",
   "id": "0fd58f02",
   "metadata": {},
   "source": [
    "## 1. Series\n",
    "\n",
    "* 인덱스와 값을 가지는 `1차원배열`이다.\n",
    "* 생성하는 방법은 리스트의 값을 전달해서 생성한다.\n",
    "* 인덱스는 `자동으로 정의되는 정수인덱스를 사용`한다.\n",
    "* 단, 인덱스를 정의하지 않으면 0부터 순차적으로 부여된다."
   ]
  },
  {
   "cell_type": "code",
   "execution_count": null,
   "id": "7ad2e0c5",
   "metadata": {},
   "outputs": [],
   "source": [
    "# 1. Series자료 생성(1) - 기본\n",
    "ser1 = pd.Series([1,2,3,4,5, np.nan, 6,7,8])\n",
    "print(ser1)\n",
    "ser1.plot()\n",
    "plt.show()\n",
    "\n",
    "# 시리즈값에 객체(함수)는 에러는 발생하지 않지만 수치데이터가 아니기 때문에\n",
    "# 시각화시에 에러가 발생한다.\n",
    "ser1 = pd.Series([1,2,3,4,5, np.nan, 6,7,8, {}])\n",
    "print(ser1)\n",
    "ser1.plot()\n",
    "plt.show()"
   ]
  },
  {
   "cell_type": "code",
   "execution_count": null,
   "id": "0dadbbe7",
   "metadata": {},
   "outputs": [],
   "source": [
    "# 2. Series자료 생성(2) - 사용자정의 인덱스\n",
    "# 1) 기본인덱스(숫자)\n",
    "ser1 = pd.Series([3,6,9,12], index=None)\n",
    "print(ser1)\n",
    "\n",
    "# 2) 문자인덱스\n",
    "# 값의 갯수와 인덱스의 갯수는 동수이어야 한다. 아니면 에러가 발생\n",
    "ser2 = pd.Series([-3,6,9,12], index=['2016', 2017, 2018, '2019년'])\n",
    "print(ser2)\n",
    "print()\n",
    "\n",
    "print(ser2['2016'])\n",
    "print(ser2[2017])\n",
    "print()\n",
    "\n",
    "# print(ser2[2016])    # key not found 즉, 인덱스는 숫자와 문자를 구분\n",
    "# print(ser2['2017'])  # key not found\n"
   ]
  },
  {
   "cell_type": "code",
   "execution_count": null,
   "id": "f52dd870",
   "metadata": {},
   "outputs": [],
   "source": [
    "# 시각화\n",
    "ser1.plot()\n",
    "plt.show()\n",
    "\n",
    "ser2.plot()\n",
    "plt.show()"
   ]
  },
  {
   "cell_type": "code",
   "execution_count": null,
   "id": "373df5b5",
   "metadata": {},
   "outputs": [],
   "source": [
    "ser2.plot(kind='bar')\n",
    "plt.show()"
   ]
  },
  {
   "cell_type": "code",
   "execution_count": null,
   "id": "f44fc176",
   "metadata": {},
   "outputs": [],
   "source": [
    "# 3. Series자료 생성(3) - 사용자정의 인덱스(키)와 값(value)\n",
    "# 인덱스와 값으로 정의할 경우에는 dict자료형으로 정의해야 한다.\n",
    "employees = {'손흥민':9000, '소향':8000, '이강인':8500, '김민재': 9900}\n",
    "ser3 = pd.Series(employees)\n",
    "print(ser3)\n",
    "print(ser3['소향'])\n",
    "\n",
    "ser3.plot(kind='barh')\n",
    "plt.show()"
   ]
  },
  {
   "cell_type": "markdown",
   "id": "fa78819f",
   "metadata": {},
   "source": [
    "### 2. DataFrame\n",
    "\n",
    "* 테이블형식의 2차원원배열, 정확하게는 행렬 matrix라 한다."
   ]
  },
  {
   "cell_type": "code",
   "execution_count": null,
   "id": "1f653a79",
   "metadata": {},
   "outputs": [],
   "source": [
    "# 1. DataFrame생성(1) - 2차원 list로 df을 생성\n",
    "# pd.DataFrame?\n",
    "# 값의 갯수는 동수, 만약, 동수가 아닐 경우에는 해당요소에 NaN으로 저장\n",
    "df = pd.DataFrame([[1,2,3],[4,5,6,10],[7,8,9]])\n",
    "print(type(df), '\\n', display(df))\n",
    "\n",
    "df.plot()\n",
    "plt.show()\n",
    "\n",
    "l = [[1,2,3],[4,5,6],[7,8,9]]\n",
    "# l.plot() # list에는 plot()함수가 없다."
   ]
  },
  {
   "cell_type": "code",
   "execution_count": null,
   "id": "4b29bf21",
   "metadata": {},
   "outputs": [],
   "source": [
    "# 2. DataFrame생성(2) - dict로 df을 생성\n",
    "df = pd.DataFrame({\n",
    "    '체중': [52,80,75,85,82],\n",
    "    '신장': [162, 184, 178, 192, 180],\n",
    "    '성별': ['F', 'M', 'M', 'M', 'M']\n",
    "}, index=['소향', '손흥민', '이강인', '김민재', '김하성'])\n",
    "df"
   ]
  },
  {
   "cell_type": "code",
   "execution_count": null,
   "id": "2080def6",
   "metadata": {},
   "outputs": [],
   "source": [
    "# 손흥민의 신장?\n",
    "print(df['신장'])\n",
    "print(df.신장)\n",
    "print()\n",
    "\n",
    "print(df[df.신장 == 184])"
   ]
  },
  {
   "cell_type": "code",
   "execution_count": null,
   "id": "ea01fe51",
   "metadata": {},
   "outputs": [],
   "source": [
    "# 실습1\n",
    "# 1. 성별이 남자인 자료만 출력\n",
    "display(df[df.성별 == 'M'])\n",
    "\n",
    "# 2. 신장이 180이상인 자료\n",
    "display(df[df.신장 >= 180])\n",
    "\n",
    "# 3. 시각화(kind=scatter, box, line, bar....)\n",
    "df.plot()\n",
    "plt.show()\n",
    "\n",
    "df.plot(kind='barh')\n",
    "plt.show()"
   ]
  },
  {
   "cell_type": "code",
   "execution_count": null,
   "id": "197a7345",
   "metadata": {},
   "outputs": [],
   "source": [
    "# 3. DataFrame생성(3) - numpy배열 or dict로 df을 생성\n",
    "dates = pd.date_range('20231101', periods=6, freq='M')\n",
    "print(type(dates), dates)\n",
    "\n",
    "# 1) numpy배열\n",
    "df = pd.DataFrame(np.random.randn(6,4)*100, index=dates,\n",
    "                  columns= ['매출액', '매출원가', \"매출이익\", \"영업이익\"])\n",
    "print(df)\n",
    "\n",
    "# 2) dict\n",
    "data = {\n",
    "    'names': ['소향', '손흥민', '이강인', '김민재', '김하성'],\n",
    "    'year': [2016,2017,2018,2019,2020],\n",
    "    'point': [1.5,1.7,2.3,3.6,2.9]\n",
    "}\n",
    "df = pd.DataFrame(data, pd.date_range('20231030', periods=5))\n",
    "display(df)"
   ]
  },
  {
   "cell_type": "code",
   "execution_count": null,
   "id": "e17480d0",
   "metadata": {},
   "outputs": [],
   "source": [
    "# 4. DataFrame생성(4) - 직접 index, columns를 정의해서 df으로 생성\n",
    "display(data)\n",
    "\n",
    "df = pd.DataFrame(data, columns=['names', 'year', 'point', 'penalty'],\n",
    "                 index=['JAN','FEB','MAR','APR','May'])\n",
    "df"
   ]
  },
  {
   "cell_type": "code",
   "execution_count": null,
   "id": "498e8686",
   "metadata": {},
   "outputs": [],
   "source": [
    "# 5. DaraFrame의 속성\n",
    "# 1) describe vs describe()\n",
    "display(df.describe)   # 속성\n",
    "display(df.describe()) # 기술통계정보를 출력\n",
    "\n",
    "# count : 각 열의 갯수\n",
    "# mean  : 각 열의 평균\n",
    "# std   : 표준편차\n",
    "# min   : 최소값\n",
    "# 25%   : 1사분위수\n",
    "# 50%   : 2사분위수\n",
    "# 75%   : 3사분위수\n",
    "# max   : 최대값"
   ]
  },
  {
   "cell_type": "code",
   "execution_count": null,
   "id": "171b8f77",
   "metadata": {},
   "outputs": [],
   "source": [
    "# 6. DataFrame 조작하기\n",
    "\n",
    "# 1) 특정열의 값을 일괄로 변경하기\n",
    "# NaN(결측치, 결측값)인 값을 특정값으로 변경\n",
    "# df.컬럼명 or df['컬럼명'] 으로 접근\n",
    "df.penalty = ''\n",
    "display(df)\n",
    "\n",
    "df.penalty = 1.0\n",
    "display(df)\n",
    "\n",
    "df['penalty'] = 2.0\n",
    "display(df)"
   ]
  },
  {
   "cell_type": "code",
   "execution_count": null,
   "id": "c9d7abb2",
   "metadata": {},
   "outputs": [],
   "source": [
    "# 2) 컬럼추가하기(1) - 컬럼명이 없을 경우에 자동으로 추가\n",
    "# 컬럼을 추가하려면 df.컬럼명으로는 않되고 df['컬럼명']형식으로 실행해야 한다.\n",
    "df.addvalue1 = 10  # 에러는 아니지만 수행되지 않는다.\n",
    "display(df)\n",
    "\n",
    "df['addvalue1'] = 21.5 # 컬럼을 추가할 경우에는 []를 이용해야 한다.\n",
    "display(df)"
   ]
  },
  {
   "cell_type": "code",
   "execution_count": null,
   "id": "fc8384aa",
   "metadata": {},
   "outputs": [],
   "source": [
    "# 2) 컬럼추가하기(2) - 개별로 값을 추가\n",
    "df['age'] = np.arange(10,15)\n",
    "display(df)\n",
    "print(type(np.arange(10,15)))\n",
    "\n",
    "df['year1'] = np.array([2011, 2012, 2013, 2014, 2015])\n",
    "display(df)"
   ]
  },
  {
   "cell_type": "code",
   "execution_count": null,
   "id": "6c87c4c8",
   "metadata": {},
   "outputs": [],
   "source": [
    "# 3) 컬럼삭제하기(1) : df.drop\n",
    "df.columns # 현재 df의 열명목록\n",
    "\n",
    "# drop()함수 즉시 적용되지 않는다. 즉, 실행만 되고 결과는 반영되지 않는다.\n",
    "# df.drop?\n",
    "df = df.drop(['year1'], axis=1) # 1은 열을 의미\n",
    "display(df)"
   ]
  },
  {
   "cell_type": "code",
   "execution_count": null,
   "id": "1237ed8d",
   "metadata": {},
   "outputs": [],
   "source": [
    "# 5) 컬럼삭제하기(2) - del명령\n",
    "del df['addvalue1']  # 즉시반영\n",
    "display(df)"
   ]
  },
  {
   "cell_type": "code",
   "execution_count": null,
   "id": "2a6f6809",
   "metadata": {},
   "outputs": [],
   "source": [
    "# 6) index변경하기\n",
    "print(df.index)\n",
    "print(df.columns)\n",
    "print(df.values)\n",
    "\n",
    "df = pd.DataFrame(data, index=['1월', '2월', '3월', '4월', '5월'])\n",
    "df"
   ]
  },
  {
   "cell_type": "markdown",
   "id": "b992ed4c",
   "metadata": {},
   "source": [
    "## 3. pandas 기본함수\n",
    "\n",
    "### 1. csv파일 load/save\n",
    "* df = pd.read_csv(파일명)\n",
    "* df.to_csv(파일명)\n",
    "\n",
    "### 2. 테이터확인\n",
    "* df.shape()\n",
    "* df.info()\n",
    "* df.columns()\n",
    "* df.dtypes\n",
    "* df.head(n) : 처음부터 n개까지의 행만 출력, n을 지정하지 않으면 기본값 = 5\n",
    "* df.tail(n) : 끝에서 부터 n개까지의 행만 출력, n을 지정하지 않으면 기본값 = 5 \n",
    "\n",
    "### 3. null의 갯수 확인\n",
    "* df.isnull().sum()\n",
    "\n",
    "### 4. 특정 열/행 삭제\n",
    "* df = `df.drop([열명1,,,], axis=1)` : 열을 삭제\n",
    "* df - df.drop(['행']) : 행삭제\n",
    "\n",
    "### 5. 특정열이름변경\n",
    "* df = df.rename(columns={'A':'AA'})\n",
    "\n",
    "### 6. 특정 열의 갑을 새로운 열로 만들기\n",
    "* df['A'] = df['B'].str[:5] : 처음에서 5개문자열만 선택\n",
    "* df['A'] = df['B'].str[:-5] : 뒤에서 5개문자열만 선택\n",
    "\n",
    "### 7. 컬럼순서변경\n",
    "* df = pd.DataFrame(df, colums=['C', 'A', 'B']) -> ABC에서 CAB로 순서변경\n",
    "\n",
    "### 8. DataFrame 합치기\n",
    "* df = pd.concat([df1, df2], ignore_index=True)\n",
    "\n",
    "### 9. DataFrame 중복확인 및 제거\n",
    "* df.duplicated() : 중복확인\n",
    "* df.drop_duplicated() : 중복제거\n",
    "\n",
    "### 10. DataFrame 행/열의 위치\n",
    "* df.loc()\n",
    "* df.iloc()"
   ]
  },
  {
   "cell_type": "code",
   "execution_count": null,
   "id": "4fd225a8",
   "metadata": {},
   "outputs": [],
   "source": [
    "# 1. head()/tail() : 앞에서, 뒤에서 5개씩 출력\n",
    "display(df.head(2))\n",
    "display(df.tail(2))"
   ]
  },
  {
   "cell_type": "code",
   "execution_count": null,
   "id": "cd524e85",
   "metadata": {},
   "outputs": [],
   "source": [
    "# 2. loc() : df에서 열이나 행을 선택하는 함수\n",
    "# 숫자인덱스는 사용불가, 이름으로 행 or 열을 선택\n",
    "# 한 행만 선택을 경우에는 Series로 리턴, 2개이상일 경우 DF으로 리턴\n",
    "df = pd.DataFrame(data, index=['one','two','three','four', 'five'])\n",
    "display(df)\n",
    "\n",
    "display(type(df.loc['two']), df.loc['two'])  # 인덱스가 two인 행만 Series 출력\n",
    "display(type(df.loc['two':'four']), df.loc['two':'four'])\n",
    "\n",
    "# 조금 더 복잡한 loc()\n",
    "# 전체행중에 year, names만 선택 ; [['year', 'names']]\n",
    "display(df[['year', 'names']])\n",
    "display(df.loc['two':'four', ['year', 'names']])"
   ]
  },
  {
   "cell_type": "code",
   "execution_count": null,
   "id": "47133c7a",
   "metadata": {},
   "outputs": [],
   "source": [
    "# 3. iloc() : 숫자인덱스로 접근\n",
    "display(df.iloc[3])\n",
    "display(df.iloc[1:4])\n",
    "\n",
    "# 열과 행범위를 지정\n",
    "display(df.iloc[1:4, 0:2]) # loc: display(df.loc['two':'four', ['year', 'names']])\n",
    "\n",
    "# 직접 위치를 지정\n",
    "display(df.iloc[1,0], df.iloc[1,1], df.iloc[1,2])"
   ]
  },
  {
   "cell_type": "code",
   "execution_count": null,
   "id": "3ee647e6",
   "metadata": {},
   "outputs": [],
   "source": [
    "# 4. 블리언인덱싱 : 조건에 맞는 행만 출력\n",
    "# 2016보다 큰 자료만 출력\n",
    "df.year > 2016\n",
    "df['year'] > 2016\n",
    "df.loc[df.year > 2016]"
   ]
  },
  {
   "cell_type": "code",
   "execution_count": null,
   "id": "12bf7306",
   "metadata": {},
   "outputs": [],
   "source": [
    "# 4. 행삭제\n",
    "# index가 date형태로 된 자료를 삭제할 경우에는 날짜형태의 문자를\n",
    "# date type으로 변경후에 삭제 (3.11버전에서는 변경하지 않아도 실행)\n",
    "df = pd.DataFrame(np.random.randn(6,4))\n",
    "df.columns = ['A', \"B\",\"C\",\"D\"]\n",
    "df.index = pd.date_range('20231101', periods=6)\n",
    "display(df)\n",
    "display(type(df.index))"
   ]
  },
  {
   "cell_type": "code",
   "execution_count": null,
   "id": "87b4416e",
   "metadata": {},
   "outputs": [],
   "source": [
    "df = df.drop(['20231101', '20231102'])\n",
    "df"
   ]
  },
  {
   "cell_type": "code",
   "execution_count": null,
   "id": "bc1dd3b2",
   "metadata": {},
   "outputs": [],
   "source": [
    "# pd.to_datetime() : 날짜형으로 변경하는 방법\n",
    "df = df.drop([pd.to_datetime('20231104'), pd.to_datetime('20231106')])\n",
    "df"
   ]
  },
  {
   "cell_type": "code",
   "execution_count": null,
   "id": "e9195ab2",
   "metadata": {},
   "outputs": [],
   "source": [
    "# 5. 열삭제\n",
    "\n",
    "# 1) 한개의 열\n",
    "df = df.drop(['A'], axis=1)\n",
    "display(df)\n",
    "\n",
    "# 2) 여러개의 열\n",
    "df = df.drop(['B', 'D'], axis=1)\n",
    "display(df)"
   ]
  },
  {
   "cell_type": "markdown",
   "id": "273ece71",
   "metadata": {},
   "source": [
    "### 4. pandas의 데이터분석용함수\n",
    "\n",
    "* sum()     : 행 or 열의 합\n",
    "* mean()    : 행 or 열의 평균\n",
    "* var()     : 행 or 열의 분산\n",
    "* T         : pivot기능\n",
    "* groupby() : 그룹핑\n",
    "* agg()     : 집계"
   ]
  },
  {
   "cell_type": "code",
   "execution_count": null,
   "id": "0ac784bc",
   "metadata": {},
   "outputs": [],
   "source": [
    "df = pd.DataFrame({\n",
    "    'weight': [80.0,70.4,65.5,45.9,51.5],\n",
    "    'height': [170,180,155,143,154]\n",
    "})\n",
    "df"
   ]
  },
  {
   "cell_type": "code",
   "execution_count": null,
   "id": "958e8b14",
   "metadata": {},
   "outputs": [],
   "source": [
    "# 1. sum()\n",
    "# 열방향 : 기본값 axis=0\n",
    "# 행방향 : axis = 1\n",
    "# df.sum?\n",
    "display(df.sum()) # 열방향\n",
    "display(df.sum(axis=0)) # 열방향\n",
    "display(df.sum(axis=1)) # 행방향\n",
    "\n",
    "print(f'신장의 합 = {df.height.sum()}')\n",
    "print(f'체중의 합 = {df.weight.sum()}')"
   ]
  },
  {
   "cell_type": "code",
   "execution_count": null,
   "id": "8e249c41",
   "metadata": {},
   "outputs": [],
   "source": [
    "# 2. mean()\n",
    "# df.mean?\n",
    "display(df.mean()) # 열방향\n",
    "display(df.mean(axis=0)) # 열방향\n",
    "display(df.mean(axis=1)) # 행방향\n",
    "\n",
    "print(f'신장의 평균 = {df.height.mean()}')\n",
    "print(f'체중의 평균 = {df.weight.mean()}')"
   ]
  },
  {
   "cell_type": "code",
   "execution_count": null,
   "id": "a089b7ce",
   "metadata": {},
   "outputs": [],
   "source": [
    "# 3. var()\n",
    "a = [10,20,30,40,50]\n",
    "b = [10,30,30,30,50]\n",
    "df_a = pd.DataFrame(a)\n",
    "df_b = pd.DataFrame(b)\n",
    "\n",
    "# 평균 vs 분산\n",
    "# 1) 각 두 집단의 평균?\n",
    "print(f'a의 평균 = {df_a.mean()}')\n",
    "print(f'b의 평균 = {df_b.mean()}')\n",
    "\n",
    "# 2) 각 두 집단의 분산?\n",
    "print(f'a의 분산 = {df_a.var()}')\n",
    "print(f'b의 분산 = {df_b.var()}')\n",
    "\n",
    "# 결과분석\n",
    "# 분산값 a(250) > b(200)의 의미는 a집단이 b집단보다 자료가 더 넓게\n",
    "# 분포되어 있다는 의미 즉, 분산은 평균에서 자료가 얼마나 분포되어 \n",
    "# 있는지를 나타낸다."
   ]
  },
  {
   "cell_type": "code",
   "execution_count": null,
   "id": "0c177539",
   "metadata": {},
   "outputs": [],
   "source": [
    "# 4 pivot vs melt\n",
    "# T(pivot)은 세로를 가로로, melt는 가로를 세로 변환하는 함수\n",
    "display(df_a)\n",
    "display(df_a.T)\n",
    "# df_a.T?\n",
    "\n",
    "display(df_a.T.melt())\n",
    "df_a.T.melt?\n",
    "display(df_a.T.melt(ignore_index=False)) "
   ]
  },
  {
   "cell_type": "code",
   "execution_count": null,
   "id": "fc2c7ae7",
   "metadata": {},
   "outputs": [],
   "source": [
    "# DF를 만드는 방법\n",
    "# Series처럼 변환 가능한 object를 갖고 있는 dict의 형태를 인자로 부여해서\n",
    "# DF을 만들 수가 있다. 이 때 index는 자동으로 0부터 시작해서 순번으로 정수\n",
    "# 인덱스가 부여되고 dic의 키값은 컬럼명으로 된다.\n",
    "df2 = pd.DataFrame({\n",
    "    'A': range(1,5),\n",
    "    'B': pd.date_range('20231101', periods=4),\n",
    "    'C': pd.Series(1, index=list(range(4)), dtype='float32'),\n",
    "    'D': np.array([3]*4, dtype='int32'),\n",
    "    'E': pd.Categorical(['test', 'train', 'test', 'train']),\n",
    "    'F': 'foo'\n",
    "})\n",
    "df2"
   ]
  },
  {
   "cell_type": "code",
   "execution_count": null,
   "id": "c431736a",
   "metadata": {},
   "outputs": [],
   "source": [
    "# 5. sort_index(axis, ascending)\n",
    "# df2.sort_index?\n",
    "display(df2.sort_index(axis=0, ascending=False))\n",
    "display(df2.sort_index(axis=1, ascending=False))"
   ]
  },
  {
   "cell_type": "code",
   "execution_count": null,
   "id": "0e9d6172",
   "metadata": {},
   "outputs": [],
   "source": [
    "# 5. sort_values(by)\n",
    "# df2.sort_values?\n",
    "df2.sort_values(by='E')"
   ]
  },
  {
   "cell_type": "code",
   "execution_count": null,
   "id": "0938a1b0",
   "metadata": {},
   "outputs": [],
   "source": [
    "# apply()함수 : 특정 열/행에 특정함수를 설정하는 함수\n",
    "df3 = pd.DataFrame(np.random.rand(4,3)\n",
    "                 , columns=['b', 'd', 'e']\n",
    "                 , index=['서울','부산','대전','광주'])\n",
    "df3"
   ]
  },
  {
   "cell_type": "code",
   "execution_count": null,
   "id": "c35f68e1",
   "metadata": {},
   "outputs": [],
   "source": [
    "# 7. apply()\n",
    "# df3.apply?\n",
    "# 함수적용\n",
    "# 1) 일반함수\n",
    "def f(x,y):\n",
    "    return x+y\n",
    "print(f'일반함수 = {f(10,10)}')\n",
    "\n",
    "# 2) lambda함수\n",
    "l = lambda x,y:x+y\n",
    "print(f'람다함수 = {l(10,10)}')\n",
    "print()\n",
    "\n",
    "func = lambda x:x.max() - x.min()\n",
    "display(df3.apply(func, axis=0))\n",
    "display(df3.apply(func, axis=1))\n",
    "display(df3.apply(lambda x:x.max() - x.min(), axis=1))"
   ]
  },
  {
   "cell_type": "markdown",
   "id": "5e7e7009",
   "metadata": {},
   "source": [
    "### 5. pandas를 이용한 데이터분석(csv파일)"
   ]
  },
  {
   "cell_type": "code",
   "execution_count": null,
   "id": "303c5c82",
   "metadata": {},
   "outputs": [],
   "source": [
    "input_file = './data/pandas/input.csv'\n",
    "output_file = './data/pandas/output.csv'"
   ]
  },
  {
   "cell_type": "code",
   "execution_count": null,
   "id": "14cb47d0",
   "metadata": {},
   "outputs": [],
   "source": [
    "# 1. csv파일읽기(1) : python문법으로만 사용하기\n",
    "# newlin='' : 개행문자를 무시하고 읽기, 이 옵션이 없다면 마지막에 빈라인이 추가\n",
    "with open(input_file, 'r', newline='') as reader:\n",
    "    with open(output_file, 'w', newline='') as writer:\n",
    "        header = reader.readline()\n",
    "        # print(header)\n",
    "        header = header.strip()\n",
    "        header_list = header.split(',')\n",
    "        # print(type(header_list), header_list)\n",
    "        \n",
    "        # print(','.join(map(str, header_list)) + '\\n')\n",
    "        # header_list의 각 사이에 comma를 삽입후 list자료를 문자열로 변환\n",
    "        # 개행문자추가\n",
    "        # header_list요소를 string을 변환\n",
    "        # print(map(str, header_list))\n",
    "        # header행을 문자열로 저장\n",
    "        writer.write(','.join(map(str, header_list)) + '\\n')\n",
    "        for row in reader:\n",
    "            row = row.strip()\n",
    "            row_list = row.split(',')\n",
    "            print(row_list)\n",
    "            writer.write(','.join(map(str, row_list)) + '\\n')"
   ]
  },
  {
   "cell_type": "code",
   "execution_count": null,
   "id": "be1e2b6f",
   "metadata": {},
   "outputs": [],
   "source": [
    "# 2. csv파일읽기(2) : csv 내장모듈 사용하기\n",
    "import csv\n",
    "import sys\n",
    "\n",
    "output_file = './data/pandas/output_1.csv'\n",
    "with open(input_file, 'r', newline='') as csv_in_file:\n",
    "    with open(output_file, 'w', newline='') as csv_out_file:\n",
    "        filereader = csv.reader(csv_in_file, delimiter=',')\n",
    "        filewriter = csv.writer(csv_out_file, delimiter=',')\n",
    "        for row in filereader:\n",
    "            print(row)\n",
    "            filewriter.writerow(row)"
   ]
  },
  {
   "cell_type": "code",
   "execution_count": null,
   "id": "caf64e70",
   "metadata": {},
   "outputs": [],
   "source": [
    "# 3. csv파일읽기(3) : pandas 사용하기\n",
    "output_file = './data/pandas/output_2.csv'\n",
    "# pd.read_csv?\n",
    "df = pd.read_csv(input_file)\n",
    "display(df)\n",
    "\n",
    "df.to_csv(output_file, index=False) # index는 0부터 부여"
   ]
  },
  {
   "cell_type": "code",
   "execution_count": null,
   "id": "f74b01be",
   "metadata": {},
   "outputs": [],
   "source": [
    "# 4. pandas를 이용한 filtering(1) - 문자열 or 숫자\n",
    "output_file = './data/pandas/output_3.csv'\n",
    "\n",
    "# 필터링조건 : Supplier Name = 'B' or Cost > 600\n",
    "df = pd.read_csv(input_file)\n",
    "display(df)\n",
    "\n",
    "df.loc[(df['Supplier Name'].str.contains('B')) | (df['Cost'] < 200), :]\n",
    "result = df.loc[(df['Supplier Name'].str.contains('B')) | (df['Cost'] < 200), :]\n",
    "display(result)\n",
    "\n",
    "result.to_csv(output_file, index=False)"
   ]
  },
  {
   "cell_type": "code",
   "execution_count": null,
   "id": "e30f6bbe",
   "metadata": {},
   "outputs": [],
   "source": [
    "# 5. pandas를 이용한 filtering(2) - 날짜형\n",
    "output_file = './data/pandas/output_4.csv'\n",
    "df = pd.read_csv(input_file)\n",
    "display(df)\n",
    "\n",
    "# 구매일자 '2014-01-20'와 '2018-01-30'자료만 필터링\n",
    "dates = ['2014-01-20', '2018-01-30']\n",
    "\n",
    "# isin()\n",
    "print(df['Purchase Date'].isin(dates))\n",
    "result = df.loc[df['Purchase Date'].isin(dates), :]\n",
    "display(result)\n",
    "\n",
    "result.to_csv(output_file, index=False)"
   ]
  },
  {
   "cell_type": "markdown",
   "id": "29aedb78",
   "metadata": {},
   "source": [
    "### 6. DataFrame의 고급 인덱싱\n",
    "\n",
    "* DataFrame에서는 특정한 데이터를 추출하는 것을 `인덱싱 indexing`이라 한다.\n",
    "* pandas에서는 numpy행렬과 같이 쉼표를 사용한 `(행인덱스, 열인덱스)` 형식의 2차원 인덱싱을 지원하기 위해 아래와 같은 `인덱서 indexer`를 제공\n",
    "|indexer| 설명|\n",
    "|:---:|:-----------|\n",
    "|`loc`|라벨값 기반의 2차원 인덱싱|\n",
    "|`iloc`|순서를 나타내는 정수기반의 2차원 인덱싱|\n",
    "|`at`|라벨값 기반의 2차원 인덱싱(한 개의 scala값만 검색)|\n",
    "|`iat`|순서를 나타내는 정수기반의 2차원 인덱싱(한 개의 scala값만 검색)|"
   ]
  },
  {
   "cell_type": "code",
   "execution_count": null,
   "id": "29db0d6a",
   "metadata": {},
   "outputs": [],
   "source": [
    "df = pd.DataFrame(np.arange(10, 22).reshape(3,4)\n",
    "                , index=['a','b','c']\n",
    "                , columns=['A','B','C','D'])\n",
    "df"
   ]
  },
  {
   "cell_type": "code",
   "execution_count": null,
   "id": "f173392f",
   "metadata": {},
   "outputs": [],
   "source": [
    "# 1. loc인덱서를 사용하려면 df.loc[행인덱스, 열인덱스]\n",
    "\n",
    "# 행인덱서의 값이 'a', 열인덱서의 값이 'A'인 값 추출\n",
    "df.loc['a', 'A']\n",
    "\n",
    "# 값에서 slicing\n",
    "df.loc['b':, 'A':'B']\n",
    "df.loc['b':, :]\n",
    "df.loc['b', :]\n",
    "\n",
    "# list형태로\n",
    "df.loc[['a', 'c'], ['B', 'D']]\n",
    "\n",
    "# 한개의 행을 추출하기(인덱서 즉, loc함수 사용하지 않고 추출하기)\n",
    "df[1:2] # 슬라이싱"
   ]
  },
  {
   "cell_type": "code",
   "execution_count": null,
   "id": "5ba12bee",
   "metadata": {},
   "outputs": [],
   "source": [
    "# 2. iloc\n",
    "\n",
    "# 1) 특정위치의 값\n",
    "print(df.iloc[0,0], df.iloc[0,1], df.iloc[0,2], df.iloc[0,3], )\n",
    "print(df.iloc[1,0], df.iloc[1,1], df.iloc[1,2], df.iloc[1,3], )\n",
    "print(df.iloc[2,0], df.iloc[2,1], df.iloc[2,2], df.iloc[2,3], )\n",
    "\n",
    "# 2) 행과 열(1차원 - Series)\n",
    "print(df.iloc[:2, 2])\n",
    "print(df.iloc[0, -2:])\n",
    "\n",
    "# 3) 행과 열(2차원 - DataFrame)\n",
    "display(df.iloc[1:3, 1:3])"
   ]
  },
  {
   "cell_type": "code",
   "execution_count": null,
   "id": "2579f220",
   "metadata": {},
   "outputs": [],
   "source": [
    "# at, iat - 1차원 only\n",
    "print(df.loc['a', 'A'])\n",
    "print(df.at['a', 'A'])\n",
    "print()\n",
    "\n",
    "%timeit df.loc['a', 'A']\n",
    "%timeit df.at['a', 'A']\n",
    "print()\n",
    "\n",
    "%timeit df.iloc[0, 0]\n",
    "%timeit df.iat[0, 0]"
   ]
  },
  {
   "cell_type": "code",
   "execution_count": null,
   "id": "b08c51b0",
   "metadata": {},
   "outputs": [],
   "source": [
    "# 3. df의 기초정보\n",
    "df.info()"
   ]
  },
  {
   "cell_type": "markdown",
   "id": "d3c68faa",
   "metadata": {},
   "source": [
    "#### 연습문제\n",
    "\n",
    "* ./data/pandas/????.csv"
   ]
  },
  {
   "cell_type": "code",
   "execution_count": null,
   "id": "66d9a125",
   "metadata": {},
   "outputs": [],
   "source": [
    "'''  \n",
    "문1) score.csv 파일을 읽어와서 다음과 같이 처리하시오.\n",
    "   조건1> tv 칼럼이 0인 관측치 2개 삭제 (for, if문 이용)\n",
    "   조건2> score, academy 칼럼만 추출하여 DataFrame 생성\n",
    "   조건3> score, academy 칼럼의 평균 계산 - <<출력 결과 >> 참고    \n",
    "   \n",
    "<<출력 결과 >>\n",
    "   score  academy\n",
    "1     75        1\n",
    "2     77        1\n",
    "3     83        2\n",
    "4     65        0\n",
    "5     80        3\n",
    "6     83        3\n",
    "7     70        1\n",
    "9     79        2\n",
    "score      76.500\n",
    "academy     1.625   \n",
    "'''\n",
    "# 1. pd.read_csv\n",
    "score = pd.read_csv('./data/pandas/score.csv')\n",
    "score\n",
    "\n",
    "# 2. tv컬럼이 0인 관측치 2개 삭제(for, if문이용)\n",
    "tvs = score.tv\n",
    "print(type(tvs), tvs)\n",
    "\n",
    "idx = 0\n",
    "for tv in tvs:\n",
    "    if tv == 0:\n",
    "        score = score.drop(idx)\n",
    "    idx += 1\n",
    "    \n",
    "display(score)\n",
    "\n",
    "# 3. score, academy 칼럼만 추출하여 DataFrame 생성\n",
    "col_name = ['score', 'academy']\n",
    "score_df = score[col_name]\n",
    "display(score_df)\n",
    "\n",
    "# 4. score, academy 칼럼의 평균 계산\n",
    "display(score_df.mean())"
   ]
  },
  {
   "cell_type": "code",
   "execution_count": null,
   "id": "e4027218",
   "metadata": {},
   "outputs": [],
   "source": [
    "''' \n",
    "문2) tips.csv 파일을 읽어와서 다음과 같이 처리하시오.\n",
    "   조건1> 파일 정보 보기 : info()\n",
    "   조건2> header를 포함한 앞부분 5개 관측치 보기 \n",
    "   조건3> header를 포함한 뒷부분 5개 관측치 보기 \n",
    "   조건4> 숫자 칼럼 대상 요약통계량 보기 \n",
    "   조건5> 흡연자(smoker) 유무 빈도수 계산 \n",
    "   조건6> 요일(day) 칼럼의 유일한 값 출력 \n",
    "'''\n",
    "tips = pd.read_csv('./data/pandas/tips.csv')\n",
    "\n",
    "# 1> 파일 정보 보기 : info()\n",
    "tips.info()\n",
    "\n",
    "# 2> header를 포함한 앞부분 5개 관측치 보기 \n",
    "tips.head()\n",
    "\n",
    "# 3> header를 포함한 뒷부분 5개 관측치 보기 \n",
    "tips.tail()\n",
    "\n",
    "# 4> 숫자 칼럼 대상 요약통계량 보기 \n",
    "tips.describe()\n",
    "\n",
    "# 5> 흡연자(smoker) 유무 빈도수 계산 \n",
    "# 빈도함수 : value_counts()\n",
    "smoker_count = tips.smoker.value_counts()\n",
    "print(smoker_count)\n",
    "print()\n",
    "\n",
    "gender_count = tips.sex.value_counts()\n",
    "print(gender_count)\n",
    "\n",
    "# 6> 요일(day) 칼럼의 유일한 값 출력 \n",
    "day = tips.day.unique()\n",
    "print(day)"
   ]
  },
  {
   "cell_type": "code",
   "execution_count": null,
   "id": "dc32aa43",
   "metadata": {},
   "outputs": [],
   "source": [
    "''' \n",
    "문3) 다음 df를 대상으로 iloc() or loc() 속성을 이용하여 행과 열을 선택하시오.\n",
    "   조건1> 1,3행 전체 선택    \n",
    "   조건2> 1~4열 전체 선택 \n",
    "   조건3> 1,3행 1,3,5열 선택\n",
    "'''\n",
    "data = np.arange(1, 16).reshape(3,5) # 3x5\n",
    "df = pd.DataFrame(data, index=[\"one\",\"two\",\"three\"], columns=[1,2,3,4,5])\n",
    "display(df)\n",
    "\n",
    "# 1> 1,3행 전체 선택 \n",
    "display(df.iloc[[0,2],:])\n",
    "\n",
    "# 2> 1~4열 전체 선택 \n",
    "display(df.iloc[:,1:5])\n",
    "\n",
    "# 3> 1,3행 1,3,5열 선택\n",
    "display(df.iloc[[0,2],[0,2,4]])"
   ]
  },
  {
   "cell_type": "code",
   "execution_count": null,
   "id": "cf94a5e4",
   "metadata": {},
   "outputs": [],
   "source": [
    "'''  \n",
    "문4) iris.csv 파일을 읽어와서 다음과 같이 처리하시오.\n",
    "   조건1> 1~4 칼럼 대상 vector(Series) 생성(col1, col2, col3, col4)    \n",
    "   조건2> 각 칼럼 대상 합계, 평균, 표준편차 구하기 \n",
    "   조건3> 1,2 칼럼과 3,4 칼럼을 대상으로 각 df1, df2 데이터프레임 생성\n",
    "   조건4> df1과 df2 칼럼 단위 결합 iris_df 데이터프레임 생성      \n",
    "'''\n",
    "iris = pd.read_csv('./data/pandas/iris.csv')\n",
    "display(iris)"
   ]
  },
  {
   "cell_type": "code",
   "execution_count": null,
   "id": "c04201bb",
   "metadata": {},
   "outputs": [],
   "source": [
    "#    조건1> 1~4 칼럼 대상 vector(Series) 생성(col1, col2, col3, col4) \n",
    "col1 = iris.iloc[:, 0]\n",
    "col2 = iris.iloc[:, 1]\n",
    "col3 = iris.iloc[:, 2]\n",
    "col4 = iris['Petal.Width']\n",
    "col1;col2;col3;col4"
   ]
  },
  {
   "cell_type": "code",
   "execution_count": null,
   "id": "8ed3d652",
   "metadata": {},
   "outputs": [],
   "source": [
    "#    조건2> 각 칼럼 대상 합계, 평균, 표준편차 구하기 \n",
    "print(col1.sum(), col1.mean(), col1.std())"
   ]
  },
  {
   "cell_type": "code",
   "execution_count": null,
   "id": "efcb2112",
   "metadata": {},
   "outputs": [],
   "source": [
    "#    조건3> 1,2 칼럼과 3,4 칼럼을 대상으로 각 df1, df2 데이터프레임 생성\n",
    "df1 = pd.DataFrame({'S.Length':col1, 'S.Width': col2})\n",
    "df2 = pd.DataFrame({'P.Length':col3, 'P.Width': col3})\n",
    "display(df1.head())\n",
    "display(df2.tail())"
   ]
  },
  {
   "cell_type": "code",
   "execution_count": null,
   "id": "6afbd610",
   "metadata": {},
   "outputs": [],
   "source": [
    "#    조건4> df1과 df2 칼럼 단위 결합 iris_df 데이터프레임 생성 \n",
    "iris_df = pd.concat([df1, df2], axis=1) # 열단위\n",
    "display(iris_df)\n",
    "display(iris_df.info())"
   ]
  },
  {
   "cell_type": "code",
   "execution_count": null,
   "id": "c54d261a",
   "metadata": {},
   "outputs": [],
   "source": [
    "''' 유방암\n",
    "문5) wdbc_data.csv 파일을 읽어와서 x,y 변수를 생성하시오.\n",
    "     <조건1> 파일 가져오기, 정보 확인 \n",
    "     <조건2> y변수 : diagnosis\n",
    "     <조건3> x변수 : id 칼럼 제외 30개 칼럼 \n",
    "'''\n",
    "wbc = pd.read_csv('./data/pandas/wbc_data.csv')\n",
    "display(wbc)"
   ]
  },
  {
   "cell_type": "code",
   "execution_count": null,
   "id": "be0e79e9",
   "metadata": {},
   "outputs": [],
   "source": [
    "# columns추출\n",
    "cols = list(wbc.columns)\n",
    "cols\n",
    "\n",
    "# x(독립변수, radius_mean~dimension_worst), y(종속변수, diagnosis)\n",
    "y = wbc.diagnosis\n",
    "print(type(y), y)\n",
    "print(y.value_counts())\n",
    "\n",
    "x = wbc[cols[2:]]\n",
    "print(type(x), x)\n",
    "display(x.head())"
   ]
  },
  {
   "cell_type": "markdown",
   "id": "6a37368f",
   "metadata": {},
   "source": [
    "### 7. SQL문과 비교 실습\n",
    "\n",
    "https://pandas.pydata.org/pandas-docs/stable/getting_started/comparison/comparison_with_sql.html"
   ]
  },
  {
   "cell_type": "code",
   "execution_count": null,
   "id": "59251b94",
   "metadata": {},
   "outputs": [],
   "source": [
    "# url = 'https://www.kaggle.com/datasets/hnazari8665/tipscsv'\n",
    "# tips = pd.read_csv(url)\n",
    "import pandas as pd\n",
    "tips = pd.read_csv('./data/pandas/tips.csv')\n",
    "tips.head()"
   ]
  },
  {
   "cell_type": "markdown",
   "id": "ce65d716",
   "metadata": {},
   "source": [
    "##### 1. select"
   ]
  },
  {
   "cell_type": "code",
   "execution_count": null,
   "id": "e437f88c",
   "metadata": {},
   "outputs": [],
   "source": [
    "# select total_bill, tip, smoker, time from tips limit 5'\n",
    "tips[['total_bill', 'tip', 'smoker', 'time']].head(5)"
   ]
  },
  {
   "cell_type": "code",
   "execution_count": null,
   "id": "d9edd8f9",
   "metadata": {},
   "outputs": [],
   "source": [
    "# select * from tips\n",
    "#  where time = 'Dinner'\n",
    "#  limit 5\n",
    "\n",
    "is_dinner = tips['time'] == 'Dinner'\n",
    "print(is_dinner)\n",
    "print(is_dinner.value_counts())\n",
    "\n",
    "tips[tips['time'] == 'Dinner'].head()"
   ]
  },
  {
   "cell_type": "code",
   "execution_count": null,
   "id": "aee144d9",
   "metadata": {},
   "outputs": [],
   "source": [
    "# tip > 5.00 and time = Dinner\n",
    "# select * \n",
    "#   from tips\n",
    "#  where time='Dinner' and tip>5.00;\n",
    "is_dinner = tips['time'] == 'Dinner'\n",
    "gt5 = tips['tip'] > 5.00\n",
    "print(gt5.value_counts())\n",
    "\n",
    "tips[(tips['time'] == 'Dinner') & (tips['tip'] > 5.00)].head()\n",
    "tips[is_dinner & gt5].head()"
   ]
  },
  {
   "cell_type": "code",
   "execution_count": null,
   "id": "49a7c9ce",
   "metadata": {},
   "outputs": [],
   "source": [
    "# select * \n",
    "#   from tips\n",
    "#  where size > 5 or total_bill > 45\n",
    "tips[(tips['size']>5) | (tips['total_bill'] > 45)].head()"
   ]
  },
  {
   "cell_type": "code",
   "execution_count": null,
   "id": "a54a5e64",
   "metadata": {},
   "outputs": [],
   "source": [
    "# null값 : notna(), isna() / notnull(), isnull()\n",
    "# print(dir(tips))\n",
    "import numpy as np\n",
    "\n",
    "samples = pd.DataFrame({\n",
    "    'col1': ['A','B',np.NaN,'C','D'],\n",
    "    'col2': ['F', np.NaN, 'G', 'H', 'I']\n",
    "})\n",
    "samples\n",
    "\n",
    "# select * from samples where col1 is not null\n",
    "display(samples[samples.col1.notna()])\n",
    "display(samples[samples['col1'].notnull()])\n",
    "\n",
    "# select * from samples where col2 is null\n",
    "display(samples[samples.col2.isna()])\n",
    "display(samples[samples['col2'].isnull()])"
   ]
  },
  {
   "cell_type": "markdown",
   "id": "dc35780e",
   "metadata": {},
   "source": [
    "###### groupby & agg"
   ]
  },
  {
   "cell_type": "code",
   "execution_count": null,
   "id": "76e93d15",
   "metadata": {},
   "outputs": [],
   "source": [
    "a = ['a','b','c','a','a','b','c','c']\n",
    "b = [10,15,20,15,30,40,35,5]\n",
    "df = pd.DataFrame([x for x in zip(a,b)], columns=['student', 'score'])\n",
    "df"
   ]
  },
  {
   "cell_type": "code",
   "execution_count": null,
   "id": "320762fc",
   "metadata": {},
   "outputs": [],
   "source": [
    "# A. groupby()\n",
    "# 1) count()\n",
    "display(df.groupby('student').count())\n",
    "\n",
    "# 2) max(), min()\n",
    "display(df.groupby('student').max(), df.groupby('student').min())\n",
    "\n",
    "# 3) sum()\n",
    "display(df.groupby('student').sum())\n",
    "\n",
    "# 4) mean()\n",
    "display(df.groupby('student').mean())"
   ]
  },
  {
   "cell_type": "code",
   "execution_count": null,
   "id": "65eb38f8",
   "metadata": {},
   "outputs": [],
   "source": [
    "# B. agg()\n",
    "# df.agg?\n",
    "# df.agg([사용자함수, count, sum......], {score:sum, grade:coutn})\n",
    "df.groupby('student').agg(['count', 'max', 'min', 'sum', 'mean'])"
   ]
  },
  {
   "cell_type": "code",
   "execution_count": null,
   "id": "35055b71",
   "metadata": {},
   "outputs": [],
   "source": [
    "# tips.groupby\n",
    "# tips.count\n",
    "# select sex, count(*) from tips group by sex;\n",
    "\n",
    "# 1. size() - Series \n",
    "display(type(tips.groupby('sex').size()), tips.groupby('sex').size())\n",
    "display(type(tips.groupby('sex')['total_bill'].count()), tips.groupby('sex')['total_bill'].count())\n",
    "\n",
    "# 2. count() - DataFrame\n",
    "display(type(tips.groupby('sex').count()), tips.groupby('sex').count())"
   ]
  },
  {
   "cell_type": "code",
   "execution_count": null,
   "id": "ce646359",
   "metadata": {},
   "outputs": [],
   "source": [
    "# agg()\n",
    "# select day, avg(tip), count(*)\n",
    "#   from tips\n",
    "#  group by day\n",
    "tips.groupby('day').agg({'tip':np.mean, 'day':np.size})"
   ]
  },
  {
   "cell_type": "code",
   "execution_count": null,
   "id": "0477ebdb",
   "metadata": {},
   "outputs": [],
   "source": [
    "# agg()\n",
    "# select smoker, day, avg(tip), count(*)\n",
    "#   from tips\n",
    "#  group by somoker, day\n",
    "display(tips.groupby(['smoker', 'day']).agg({'tip':np.mean, 'day':np.size}))\n",
    "display(tips.groupby(['day', 'smoker']).agg({'tip':np.mean, 'day':np.size}))"
   ]
  },
  {
   "cell_type": "markdown",
   "id": "3025bf0b",
   "metadata": {},
   "source": [
    "##### join : merge()"
   ]
  },
  {
   "cell_type": "code",
   "execution_count": null,
   "id": "f7895b35",
   "metadata": {},
   "outputs": [],
   "source": [
    "df1 = pd.DataFrame({'key': ['A', 'B', 'C', 'D'], 'val':np.random.randn(4)})\n",
    "df2 = pd.DataFrame({'key': ['B', 'D', 'D', 'E'], 'val':np.random.randn(4)})\n",
    "display(df1)\n",
    "display(df2)"
   ]
  },
  {
   "cell_type": "code",
   "execution_count": null,
   "id": "5ee4cf28",
   "metadata": {},
   "outputs": [],
   "source": [
    "# merge()\n",
    "# select *\n",
    "#   from df1 inner join de2 on df1.key = df2.key\n",
    "#  (from df1, df2 where df1.key = df2.key)\n",
    "# pd.merge?\n",
    "display(pd.merge(df1, df2, on='key'))\n",
    "\n",
    "# df의 index를 이용한 merge\n",
    "df2_index = df2.set_index('key')\n",
    "print(type(df2_index))\n",
    "display(df2_index)\n",
    "\n",
    "pd.merge(df1, df2_index, left_on='key', right_index=True)"
   ]
  },
  {
   "cell_type": "code",
   "execution_count": null,
   "id": "5d5ac790",
   "metadata": {},
   "outputs": [],
   "source": [
    "# left jon : df1기준\n",
    "# select * from df1 left outer join df2 on df1.key = df2.key\n",
    "pd.merge(df1, df2, on='key', how='left')"
   ]
  },
  {
   "cell_type": "code",
   "execution_count": null,
   "id": "c63846e6",
   "metadata": {},
   "outputs": [],
   "source": [
    "# right jon : df2기준\n",
    "# select * from df1 right outer join df2 on df1.key = df2.key\n",
    "pd.merge(df1, df2, on='key', how='right')"
   ]
  },
  {
   "cell_type": "code",
   "execution_count": null,
   "id": "b8ce015a",
   "metadata": {},
   "outputs": [],
   "source": [
    "# full jon : df1, df2 전체\n",
    "# select * from df1 full outer join df2 on df1.key = df2.key\n",
    "pd.merge(df1, df2, on='key', how='outer')"
   ]
  },
  {
   "cell_type": "markdown",
   "id": "dd69fc62",
   "metadata": {},
   "source": [
    "##### union : concat()"
   ]
  },
  {
   "cell_type": "code",
   "execution_count": null,
   "id": "c7f5e4bd",
   "metadata": {},
   "outputs": [],
   "source": [
    "df1 = pd.DataFrame({'city':['서울', '부산', '인천'], 'rank':range(1,4)})\n",
    "df2 = pd.DataFrame({'city':['서울', '대전', '대구'], 'rank':[1,4,5]})\n",
    "display(df1)\n",
    "display(df2)"
   ]
  },
  {
   "cell_type": "code",
   "execution_count": null,
   "id": "b67a86ff",
   "metadata": {},
   "outputs": [],
   "source": [
    "# union all\n",
    "# select city, rank from df1\n",
    "# union all\n",
    "# select city, rank from df2\n",
    "# concat()\n",
    "pd.concat([df1, df2])"
   ]
  },
  {
   "cell_type": "code",
   "execution_count": null,
   "id": "b9481f70",
   "metadata": {},
   "outputs": [],
   "source": [
    "# union\n",
    "# select city, rank from df1\n",
    "# union\n",
    "# select city, rank from df2\n",
    "# concat().drop_duplicates()\n",
    "pd.concat([df1, df2]).drop_duplicates()"
   ]
  },
  {
   "cell_type": "code",
   "execution_count": null,
   "id": "5fdc5b66",
   "metadata": {},
   "outputs": [],
   "source": [
    "# mariadb(mysql) offset : nlargest\n",
    "# select * from tips\n",
    "#  order by tip desc\n",
    "#  limit 10 offset 5;\n",
    "tips.nlargest(10, columns='tip').head()"
   ]
  },
  {
   "cell_type": "code",
   "execution_count": null,
   "id": "e6e65106",
   "metadata": {},
   "outputs": [],
   "source": [
    "# oracle : row_number over()\n",
    "# select * from\n",
    "#      (\n",
    "#          select t.*\n",
    "#               , row_number over(partition by day order by total_bill desc) as rn\n",
    "#            from tips t\n",
    "#      )\n",
    "#  where rn < 3\n",
    "#  order by day, rn\n",
    "# sort_values(), assign(), groupby(), cumcount(), query()\n",
    "display(tips.assign(rn=tips.sort_values(['total_bill'], ascending=False)\n",
    "                   .groupby(['day'])\n",
    "                   .cumcount()+1)\n",
    "            .query(' rn < 3')\n",
    "            .sort_values(['day', 'rn'])\n",
    ")"
   ]
  },
  {
   "cell_type": "code",
   "execution_count": null,
   "id": "b1dec055",
   "metadata": {},
   "outputs": [],
   "source": [
    "# Oracle 의 rank() - 1\n",
    "# df.rank()\n",
    "display(\n",
    "    tips.assign(rank=tips.groupby(['day'])['total_bill']\n",
    "                         .rank(method='first', ascending=False))\n",
    "        .query('rank < 3')\n",
    "        .sort_values(['day', 'rank'])\n",
    ")"
   ]
  },
  {
   "cell_type": "code",
   "execution_count": null,
   "id": "777de40d",
   "metadata": {},
   "outputs": [],
   "source": [
    "# Oracle 의 rank() - 2\n",
    "# select * from \n",
    "#   (\n",
    "#       select t.*\n",
    "#            , rank() over(partition by sex order by tip) as rnk_min\n",
    "#         from tips 1\n",
    "#        where tip < 2\n",
    "#   )\n",
    "#  where rnk_min < 3\n",
    "#  order by sex, rnk_min\n",
    "\n",
    "display(\n",
    "    tips[tips['tip'] < 2]\n",
    "          .assign(rnk_min=tips.groupby('sex')['tip'].rank(method='min'))\n",
    "          .query('rnk_min < 3')\n",
    "          .sort_values(['sex', 'rnk_min'])\n",
    ")"
   ]
  },
  {
   "cell_type": "code",
   "execution_count": null,
   "id": "29f54e8d",
   "metadata": {},
   "outputs": [],
   "source": [
    "total size sex rank_min"
   ]
  },
  {
   "cell_type": "markdown",
   "id": "9c1c2d23",
   "metadata": {},
   "source": [
    "##### 2. update"
   ]
  },
  {
   "cell_type": "code",
   "execution_count": null,
   "id": "0cbe7a83",
   "metadata": {},
   "outputs": [],
   "source": [
    "# update tips\n",
    "#    set tip = tip * 2\n",
    "#  where tip < 2;\n",
    "tips.loc[tips['tip'] < 2, 'tip'] *= 2\n",
    "tips.head()"
   ]
  },
  {
   "cell_type": "markdown",
   "id": "7ce1b772",
   "metadata": {},
   "source": [
    "##### 3. delete"
   ]
  },
  {
   "cell_type": "code",
   "execution_count": null,
   "id": "4930ba6a",
   "metadata": {},
   "outputs": [],
   "source": [
    "# delete from tips\n",
    "#  wehre tip > 3;\n",
    "tips = tips.loc[tips['tip']>3]\n",
    "tips.count()"
   ]
  },
  {
   "cell_type": "markdown",
   "id": "f7aee944",
   "metadata": {},
   "source": [
    "### 8. SQL로 데이터 추출하기(pandasql)\n",
    "* pip install pandasql\n",
    "* https://pypi.org/project/pandasql\n",
    "* https://www.kaggle.com/dataraj/sql-on-pandas-dataframe-using-pandasql"
   ]
  },
  {
   "cell_type": "code",
   "execution_count": null,
   "id": "7f963714",
   "metadata": {},
   "outputs": [],
   "source": [
    "!pip show pandasql"
   ]
  },
  {
   "cell_type": "code",
   "execution_count": null,
   "id": "5004b673",
   "metadata": {},
   "outputs": [],
   "source": [
    "from pandasql import sqldf\n",
    "pysqldf = lambda q: sqldf(q, globals())"
   ]
  },
  {
   "cell_type": "code",
   "execution_count": null,
   "id": "3cce41e6",
   "metadata": {},
   "outputs": [],
   "source": [
    "from pandasql import sqldf, load_meat, load_births\n",
    "meats = load_meat()\n",
    "births = load_births()\n",
    "print(type(meats), type(births))"
   ]
  },
  {
   "cell_type": "code",
   "execution_count": null,
   "id": "a6510ba7",
   "metadata": {},
   "outputs": [],
   "source": [
    "print(meats.describe())\n",
    "print()\n",
    "\n",
    "print(births.describe())\n",
    "print()\n",
    "\n",
    "print(meats.info())\n",
    "print()\n",
    "\n",
    "print(births.info())"
   ]
  },
  {
   "cell_type": "code",
   "execution_count": null,
   "id": "e91dfd3a",
   "metadata": {},
   "outputs": [],
   "source": [
    "display(meats.head())\n",
    "\n",
    "display(pysqldf(\"select * from meats limit 10\").head())"
   ]
  },
  {
   "cell_type": "code",
   "execution_count": null,
   "id": "8e2fef41",
   "metadata": {},
   "outputs": [],
   "source": [
    "q = '''\n",
    "    select m.date, m.beef, b.births\n",
    "      from meats m inner join births b on m.date = b.date;\n",
    "'''\n",
    "result = pysqldf(q)\n",
    "result.head()"
   ]
  },
  {
   "cell_type": "code",
   "execution_count": null,
   "id": "e503cfa1",
   "metadata": {},
   "outputs": [],
   "source": [
    "result.beef.plot()\n",
    "result.births.plot()"
   ]
  },
  {
   "cell_type": "code",
   "execution_count": null,
   "id": "bb3b3e22",
   "metadata": {},
   "outputs": [],
   "source": [
    "q = '''\n",
    "    select strftime('%Y', date) as year\n",
    "         , sum(beef) as beef_total\n",
    "      from meats\n",
    "     group by year;\n",
    "'''\n",
    "result = pysqldf(q)\n",
    "result.head()"
   ]
  },
  {
   "cell_type": "code",
   "execution_count": null,
   "id": "5cf77b26",
   "metadata": {},
   "outputs": [],
   "source": [
    "result.plot()"
   ]
  },
  {
   "cell_type": "code",
   "execution_count": null,
   "id": "626e2b83",
   "metadata": {},
   "outputs": [],
   "source": [
    "result.plot(kind='bar')"
   ]
  },
  {
   "cell_type": "markdown",
   "id": "f7b6f4a9",
   "metadata": {},
   "source": [
    "### 9. 데이타분석실습 : 영화평점데이터\n",
    "\n",
    "* https://grouplens.org/datasets/movielens\n",
    "* datasets중에 `m1-latest-small.zip`을 다운로드\n",
    "* 압축해제 ./data/movielens/2"
   ]
  },
  {
   "cell_type": "code",
   "execution_count": null,
   "id": "20913f9b",
   "metadata": {},
   "outputs": [],
   "source": [
    "df_movies = pd.read_csv('./data/movielens/2/movies.csv', delimiter=',')\n",
    "df_ratings = pd.read_csv('./data/movielens/2/ratings.csv', delimiter=',')"
   ]
  },
  {
   "cell_type": "code",
   "execution_count": null,
   "id": "8bfe42be",
   "metadata": {},
   "outputs": [],
   "source": [
    "display(df_movies.head())\n",
    "display(df_ratings.head())"
   ]
  },
  {
   "cell_type": "code",
   "execution_count": null,
   "id": "0917bd82",
   "metadata": {},
   "outputs": [],
   "source": [
    "result_df = pd.DataFrame(columns=['영화별 평균 평점'])\n",
    "display(result_df.head())"
   ]
  },
  {
   "cell_type": "code",
   "execution_count": null,
   "id": "72cb8ef0",
   "metadata": {},
   "outputs": [],
   "source": [
    "# 1. 사용자가 평가한 모든 영화의 전체평균평점은?\n",
    "# mean()\n",
    "display(f\"영화 평균 평점 : {df_ratings['rating'].mean()}\")"
   ]
  },
  {
   "cell_type": "code",
   "execution_count": null,
   "id": "1f569da7",
   "metadata": {},
   "outputs": [],
   "source": [
    "# 2. 각 사용자별 영화평균평점은?\n",
    "display(np.unique(df_ratings.userId).size)\n",
    "display(df_ratings.userId.drop_duplicates().size)\n",
    "\n",
    "for userid in range(1, np.unique(df_ratings.userId).size+1):\n",
    "    print(f'사용자id = {userid}', end=\", \")\n",
    "    print('평균평점 = ', df_ratings.loc[df_ratings['userId']==userid, 'rating'].mean())"
   ]
  },
  {
   "cell_type": "code",
   "execution_count": null,
   "id": "9a2b58ba",
   "metadata": {},
   "outputs": [],
   "source": [
    "# 3. 각 영화별 평균평점은?\n",
    "df_movies.head()\n",
    "movieids = df_movies.movieId.unique()\n",
    "print(type(movieids), len(movieids))\n",
    "\n",
    "for movieid in movieids:\n",
    "    movie_mean = df_ratings.loc[df_ratings.movieId==movieid, 'rating'].mean()\n",
    "    result_df.loc[movieid] = movie_mean\n",
    "    \n",
    "result_df.head()"
   ]
  },
  {
   "cell_type": "code",
   "execution_count": null,
   "id": "3e487181",
   "metadata": {},
   "outputs": [],
   "source": [
    "# 4. df_moveis와 result_df를 병합하기\n",
    "df = pd.merge(df_movies\n",
    "              , result_df\n",
    "              , left_on='movieId'\n",
    "              , right_index=True, how='inner')\n",
    "df.head()\n",
    "df[['movieId','title','영화별 평균 평점']].head()"
   ]
  },
  {
   "cell_type": "code",
   "execution_count": null,
   "id": "b3f644a1",
   "metadata": {},
   "outputs": [],
   "source": [
    "# 5. 평균평점이 가장 높은 영화의 제목을 출력하기\n",
    "# 동률일 경우 모두 출력\n",
    "df['영화별 평균 평점'].max()\n",
    "df.loc[df['영화별 평균 평점'] == df['영화별 평균 평점'].max(), 'title'].head()"
   ]
  },
  {
   "cell_type": "code",
   "execution_count": null,
   "id": "72892446",
   "metadata": {},
   "outputs": [],
   "source": [
    "# 6. comedy영화중 가장 평점이 낮은 영화제목을 출력하세요\n",
    "df['영화별 평균 평점'].min()\n",
    "df['genres'].str.contains('Comedy')\n",
    "df[df['genres'].str.contains('Comedy')]\\\n",
    "               .loc[df['영화별 평균 평점'] == df['영화별 평균 평점'].min()].head()"
   ]
  },
  {
   "cell_type": "code",
   "execution_count": null,
   "id": "ecd0d239",
   "metadata": {},
   "outputs": [],
   "source": [
    "# 7. 2015년에 평가된 모든 Romance영화의 평균평점을 출력하세요\n",
    "import time\n",
    "start = time.mktime(time.strptime(\"2015-01-01 00:00:00\", \"%Y-%m-%d %H:%M:%S\"))\n",
    "end = time.mktime(time.strptime(\"2016-01-01 00:00:00\", \"%Y-%m-%d %H:%M:%S\"))\n",
    "print(start, end)\n",
    "\n",
    "df2 = pd.merge(df_movies, df_ratings, left_on='movieId'\n",
    "               , right_on='movieId', how=\"inner\")\n",
    "result = df2.loc[df2['genres'].str.contains('Romance')]\n",
    "result.head()\n",
    "\n",
    "result_df = pd.DataFrame(columns=['평점'])\n",
    "result_df.head()\n",
    "\n",
    "result.loc[(result['timestamp']>=start) \n",
    "           & (result['timestamp']<end), 'rating'].mean()\n"
   ]
  },
  {
   "cell_type": "markdown",
   "id": "a3cb7718",
   "metadata": {},
   "source": [
    "### 10. 데이터분석실습 - 항공운항데이터분석\n",
    "\n",
    "* 2006~2008년 자료가 약 2000만건으로 엑셀로는 처리가 불가능\n",
    "* pandas로 처리하면 대용량의 데이터자료도 신속하게 처리할 수 있다.\n",
    "* https://dataverse.harvard.edu/dataset.xhtml?persistentId=doi:10.7910/DVN/HG7NV7"
   ]
  },
  {
   "cell_type": "code",
   "execution_count": null,
   "id": "cf7c2c8e",
   "metadata": {},
   "outputs": [],
   "source": [
    "df_2006 = pd.read_csv('./data/airline/2006.csv', delimiter=',', encoding='utf-8') \n",
    "df_2007 = pd.read_csv('./data/airline/2007.csv', delimiter=',', encoding='utf-8') \n",
    "df_2008 = pd.read_csv('./data/airline/2008.csv', delimiter=',', encoding='utf-8') "
   ]
  },
  {
   "cell_type": "code",
   "execution_count": null,
   "id": "76012c37",
   "metadata": {},
   "outputs": [],
   "source": [
    "# 데이터프레임 정보\n",
    "df = pd.DataFrame()\n",
    "df_2006 = pd.DataFrame()\n",
    "df_2007 = pd.DataFrame()\n",
    "\n",
    "# merge(), concat()\n",
    "# df = pd.concat([df_2006, df_2007[2:], df_2008[2:]])\n",
    "df = df_2008\n",
    "len(df)"
   ]
  },
  {
   "cell_type": "code",
   "execution_count": null,
   "id": "4f5ac619",
   "metadata": {},
   "outputs": [],
   "source": [
    "# df의 정보확인\n",
    "display(df.shape)\n",
    "display(df.head())\n",
    "display(df.columns)\n",
    "display(df.describe())\n",
    "display(df.info())"
   ]
  },
  {
   "cell_type": "code",
   "execution_count": null,
   "id": "c158ba61",
   "metadata": {},
   "outputs": [],
   "source": [
    "# 1. 실습용 dataframe\n",
    "df_work = df[['Year', 'Month','ArrDelay', 'DepDelay']]\n",
    "df_work.head()"
   ]
  },
  {
   "cell_type": "code",
   "execution_count": null,
   "id": "df48e8a6",
   "metadata": {},
   "outputs": [],
   "source": [
    "# 2. 결측치확인 : isna() value_counts()\n",
    "df_work.ArrDelay.isna()\n",
    "df_work['DepDelay'].isna()\n",
    "\n",
    "display(df_work.ArrDelay.isna().value_counts())\n",
    "display(df_work.DepDelay.isna().value_counts())\n",
    "\n",
    "# 결측치 각각 5건만 출력\n",
    "display(df_work[df_work.ArrDelay.isna()].head())\n",
    "display(df_work[df_work.DepDelay.isna()].head())"
   ]
  },
  {
   "cell_type": "code",
   "execution_count": null,
   "id": "1df253d2",
   "metadata": {},
   "outputs": [],
   "source": [
    "# 3. 결측치제거 : dropna()\n",
    "# 옵션: how=[any|all]\n",
    "#       ... any : 행의 열중에 1개라고 NaN이 있으면 제거\n",
    "#       ... any : 행의 열 모두 NaN일 경우에 제거\n",
    "# df.dropna?\n",
    "df_work = df_work.dropna(how='any')\n",
    "display(df_work.shape)\n",
    "display(df_work.ArrDelay.isna().value_counts())\n",
    "display(df_work.DepDelay.isna().value_counts())"
   ]
  },
  {
   "cell_type": "code",
   "execution_count": null,
   "id": "2c256585",
   "metadata": {},
   "outputs": [],
   "source": [
    "# 4. 년별, 월별 항공운항데이터의 건수를 출력하기\n",
    "# groupby(), size()\n",
    "result = df_work.groupby(['Year']).size()\n",
    "display(result)\n",
    "\n",
    "result = df_work.groupby(['Year', 'Month']).size()\n",
    "display(result)\n",
    "\n",
    "result = df_work.groupby(['Year', 'Month'], as_index=True).size()\n",
    "display(result)"
   ]
  },
  {
   "cell_type": "code",
   "execution_count": null,
   "id": "614d1c81",
   "metadata": {},
   "outputs": [],
   "source": [
    "# 5. 년월별 결과데이터로 시각화(Line그래프)\n",
    "result.plot(kind='barh')"
   ]
  },
  {
   "cell_type": "code",
   "execution_count": null,
   "id": "1c9f2a6c",
   "metadata": {},
   "outputs": [],
   "source": [
    "# 6. 결과를 저장\n",
    "result.to_csv('./data/airline/airline_depdelay.csv', sep=\",\", index=True)"
   ]
  },
  {
   "cell_type": "code",
   "execution_count": null,
   "id": "89ab4348",
   "metadata": {},
   "outputs": [],
   "source": [
    "# 7. 실습. agg()를 이용해서 년월별로 depdelay, arrdelay 건수를 출력\n",
    "# np.size, np.mean\n",
    "# 1) 각각 평균과 건수를 출력\n",
    "display(\n",
    "    df_work.groupby(['Year', 'Month'])\n",
    "           .agg({'DepDelay': [np.mean, np.size],\n",
    "                 'ArrDelay': [np.mean, np.size]\n",
    "                })\n",
    ")\n",
    "\n",
    "display(\n",
    "    df_work.groupby(['Year'])\n",
    "           .agg({'DepDelay': [np.mean, np.size],\n",
    "                 'ArrDelay': [np.mean, np.size]\n",
    "                })\n",
    ")\n",
    "\n",
    "result = df_work.groupby(['Year', 'Month'])\\\n",
    "           .agg({'DepDelay': np.size,\n",
    "                 'ArrDelay': np.size\n",
    "                })\n",
    "display(result)\n",
    "# 2) 결과저장 : 출발지연건수, 도착지연건수를 출력 & 저장(airline_delay_1.csv)\n",
    "result.to_csv('./data/airline/airline_delay_1.csv', sep=',', index=False)"
   ]
  },
  {
   "cell_type": "code",
   "execution_count": null,
   "id": "fbb45c71",
   "metadata": {
    "scrolled": false
   },
   "outputs": [],
   "source": [
    "# 3) 시각화 : line, bar, hist, area, box\n",
    "# plot(), plt.show()\n",
    "result.plot()\n",
    "plt.show()\n",
    "\n",
    "result.plot(kind='barh')\n",
    "plt.show()\n",
    "\n",
    "result.plot(kind='hist')\n",
    "plt.show()\n",
    "\n",
    "result.plot(kind='area')\n",
    "plt.show()\n",
    "\n",
    "result.plot(kind='box')\n",
    "plt.show()"
   ]
  },
  {
   "cell_type": "markdown",
   "id": "8f6196eb",
   "metadata": {},
   "source": [
    "## 11. 엑셀다루기\n",
    "\n",
    "### 1. 엑셀파일 읽기/쓰기\n",
    "* pd.read_excel(id, sheet_name)"
   ]
  },
  {
   "cell_type": "code",
   "execution_count": null,
   "id": "1facabc5",
   "metadata": {},
   "outputs": [],
   "source": [
    "df = pd.read_excel('./data/excel/학생시험성적.xlsx')\n",
    "display(df)\n",
    "\n",
    "df = pd.read_excel('./data/excel/학생시험성적.xlsx', sheet_name=1)\n",
    "display(df)\n",
    "\n",
    "df = pd.read_excel('./data/excel/학생시험성적.xlsx', sheet_name='2차시험')\n",
    "display(df)\n",
    "\n",
    "df = pd.read_excel('./data/excel/학생시험성적.xlsx', sheet_name=None)\n",
    "display(type(df), df)"
   ]
  },
  {
   "cell_type": "code",
   "execution_count": null,
   "id": "03486531",
   "metadata": {},
   "outputs": [],
   "source": [
    "df = pd.read_excel('./data/excel/학생시험성적.xlsx', sheet_name='2차시험'\n",
    "                  ,index_col=0)\n",
    "display(df)\n",
    "\n",
    "df = pd.read_excel('./data/excel/학생시험성적.xlsx', sheet_name='2차시험'\n",
    "                  ,index_col='학생')\n",
    "display(df)"
   ]
  },
  {
   "cell_type": "code",
   "execution_count": null,
   "id": "c45c1ce8",
   "metadata": {},
   "outputs": [],
   "source": [
    "# 2. 엑셀쓰기\n",
    "data = {\n",
    "    '학생': ['홍길동', '손흥민', '소향', '이강인', '김민재'],\n",
    "    '국어': [1,2,3,4,5],\n",
    "    '수학': [6,7,8,9,10],\n",
    "    '영어': [11,12,13,14,15],\n",
    "}\n",
    "print(data.keys())\n",
    "\n",
    "df = pd.DataFrame(data, columns=['학생', '국어', '수학', '영어'])\n",
    "df"
   ]
  },
  {
   "cell_type": "code",
   "execution_count": null,
   "id": "b65425cd",
   "metadata": {},
   "outputs": [],
   "source": [
    "# !pip install xlsxwriter\n",
    "!pip show xlsxwriter"
   ]
  },
  {
   "cell_type": "code",
   "execution_count": null,
   "id": "4ee8e7e4",
   "metadata": {
    "scrolled": true
   },
   "outputs": [],
   "source": [
    "# 1) 엑셀저장(1) - 기본\n",
    "excel_writer = pd.ExcelWriter('./data/excel/학생시험성적_1.xlsx'\n",
    "                              , engine='xlsxwriter')\n",
    "print(type(excel_writer), excel_writer)\n",
    "df.to_excel(excel_writer, index=False)\n",
    "excel_writer.close()"
   ]
  },
  {
   "cell_type": "code",
   "execution_count": null,
   "id": "c681830e",
   "metadata": {},
   "outputs": [],
   "source": [
    "# 2) 엑셀저장(2) - sheetname\n",
    "excel_writer = pd.ExcelWriter('./data/excel/학생시험성적_2.xlsx'\n",
    "                              , engine='xlsxwriter')\n",
    "df.to_excel(excel_writer, index=False, sheet_name='중간고사')\n",
    "excel_writer.close()"
   ]
  },
  {
   "cell_type": "code",
   "execution_count": null,
   "id": "856c30bb",
   "metadata": {},
   "outputs": [],
   "source": [
    "# 3) 엑셀저장(3) - 여러개 sheet 일괄저장\n",
    "data2 = {\n",
    "    '학생': ['홍길동', '손흥민', '소향', '이강인', '김민재'],\n",
    "    '과학': [1,2,3,4,5],\n",
    "    '물리': [6,7,8,9,10],\n",
    "    '철학': [11,12,13,14,15],\n",
    "}\n",
    "df2 = pd.DataFrame(data2, columns=['학생', '과학', '물리', '철학'])\n"
   ]
  },
  {
   "cell_type": "code",
   "execution_count": null,
   "id": "2dd01599",
   "metadata": {},
   "outputs": [],
   "source": [
    "excel_writer = pd.ExcelWriter('./data/excel/학생시험성적_3.xlsx'\n",
    "                              , engine='xlsxwriter')\n",
    "df.to_excel(excel_writer, index=False, sheet_name='중간고사')\n",
    "df2.to_excel(excel_writer, index=False, sheet_name='기말고사')\n",
    "excel_writer.close()"
   ]
  },
  {
   "cell_type": "markdown",
   "id": "74b7ca0f",
   "metadata": {},
   "source": [
    "## 2. 엑셀파일 통합, 저장하기"
   ]
  },
  {
   "cell_type": "code",
   "execution_count": null,
   "id": "e9252638",
   "metadata": {},
   "outputs": [],
   "source": [
    "excel_data_files = [\n",
    "    './data/excel/담당자별_판매량_Andy사원.xlsx', \n",
    "    './data/excel/담당자별_판매량_Becky사원.xlsx',\n",
    "    './data/excel/담당자별_판매량_Chris사원.xlsx'\n",
    "]"
   ]
  },
  {
   "cell_type": "code",
   "execution_count": null,
   "id": "5c1eb20a",
   "metadata": {},
   "outputs": [],
   "source": [
    "# 1. 통합하기(1) - index\n",
    "total_data = pd.DataFrame()\n",
    "for f in excel_data_files:\n",
    "    df = pd.read_excel(f)\n",
    "    total_data = pd.concat([total_data, df])\n",
    "\n",
    "display(total_data)"
   ]
  },
  {
   "cell_type": "code",
   "execution_count": null,
   "id": "03060eab",
   "metadata": {},
   "outputs": [],
   "source": [
    "# 2. 통합하기(2) - index 무시\n",
    "total_data = pd.DataFrame()\n",
    "for f in excel_data_files:\n",
    "    df = pd.read_excel(f)\n",
    "    total_data = pd.concat([total_data, df], ignore_index=True)\n",
    "\n",
    "display(total_data)"
   ]
  },
  {
   "cell_type": "code",
   "execution_count": null,
   "id": "f2e4ad81",
   "metadata": {},
   "outputs": [],
   "source": [
    "!pip show glob2"
   ]
  },
  {
   "cell_type": "code",
   "execution_count": null,
   "id": "0d3bbc0c",
   "metadata": {},
   "outputs": [],
   "source": [
    "# 3. 통합하기(3) - glob 패키지 이용\n",
    "import glob\n",
    "# glob.glob?\n",
    "\n",
    "excel_data_files = glob.glob('./data/excel/담당자별_판매량_*사원.xlsx')\n",
    "print(type(excel_data_files), excel_data_files)\n",
    "\n",
    "total_data = pd.DataFrame()\n",
    "for f in excel_data_files:\n",
    "    df = pd.read_excel(f)\n",
    "    total_data = pd.concat([total_data, df], ignore_index=True)\n",
    "\n",
    "display(total_data)"
   ]
  },
  {
   "cell_type": "code",
   "execution_count": null,
   "id": "d017dcea",
   "metadata": {},
   "outputs": [],
   "source": [
    "# 4. 저장하기(통합파일)\n",
    "excel_file_name = './data/excel/담당자별_판매량_통합.xlsx'\n",
    "excel_writer = pd.ExcelWriter(excel_file_name, engine='xlsxwriter')\n",
    "total_data.to_excel(excel_writer, index=False, sheet_name='담당자별_판매량_통합')\n",
    "excel_writer.close()\n",
    "glob.glob(excel_file_name)"
   ]
  },
  {
   "cell_type": "markdown",
   "id": "5e67e1d6",
   "metadata": {},
   "source": [
    "## 3. 엑셀파일 조작하기"
   ]
  },
  {
   "cell_type": "code",
   "execution_count": null,
   "id": "e3fe5dc7",
   "metadata": {},
   "outputs": [],
   "source": [
    "# 1. 데이터를 추가, 수정하기\n",
    "df = pd.read_excel('./data/excel/담당자별_판매량_Andy사원.xlsx')\n",
    "df"
   ]
  },
  {
   "cell_type": "code",
   "execution_count": null,
   "id": "550067b5",
   "metadata": {},
   "outputs": [],
   "source": [
    "# 실습1. 데이터변경하기, 핸드백/4분기/331의 값을 0으로 변경\n",
    "df.loc[2, '4분기']\n",
    "df.loc[2, '4분기'] = 0\n",
    "df"
   ]
  },
  {
   "cell_type": "code",
   "execution_count": null,
   "id": "d97505ae",
   "metadata": {},
   "outputs": [],
   "source": [
    "# 실습2: 데이터 추가하기\n",
    "# 행추가 : 3, 벨트, A, 가, 100, 150, 200, 250\n",
    "df.loc[3, '제품명'] = '벨트'\n",
    "df.loc[3, '담당자'] = 'A'\n",
    "df.loc[3, '지역'] = '가'\n",
    "df.loc[3, '1분기'] = 100\n",
    "df.loc[3, '2분기'] = 150\n",
    "df.loc[3, '3분기'] = 200\n",
    "df.loc[3, '4분기'] = 250\n",
    "df"
   ]
  },
  {
   "cell_type": "code",
   "execution_count": null,
   "id": "98a22be0",
   "metadata": {
    "scrolled": true
   },
   "outputs": [],
   "source": [
    "# 실습3: 데이터 변경하기\n",
    "# 담당자 A -> Andy로 변경\n",
    "df['담당자'] = 'Andy'\n",
    "df"
   ]
  },
  {
   "cell_type": "code",
   "execution_count": null,
   "id": "1b574be9",
   "metadata": {},
   "outputs": [],
   "source": [
    "# 실습4 : 변경된 자료를 \"담당자별_판매량_Andy사원_new.xlsx\"파일로 저장\n",
    "file = './data/excel/담당자별_판매량_Andy사원_new.xlsx'\n",
    "f = pd.ExcelWriter(file, engine='xlsxwriter')\n",
    "df.to_excel(f, index=False)\n",
    "f.close()\n",
    "glob.glob(file)"
   ]
  },
  {
   "cell_type": "code",
   "execution_count": null,
   "id": "c391823c",
   "metadata": {},
   "outputs": [],
   "source": [
    "# 2. 여러개의 엑셀파일에서 데이터를 수정하기\n",
    "import re\n",
    "filname = './data/excel/담당자별_판매량_Andy사원.xlsx'\n",
    "new_filename = re.sub('.xlsx', '2.xlsx', filname)\n",
    "new_filename"
   ]
  },
  {
   "cell_type": "code",
   "execution_count": null,
   "id": "4afefb91",
   "metadata": {},
   "outputs": [],
   "source": [
    "excel_data_files = glob.glob('./data/excel/담당자별_판매량_*사원.xlsx')\n",
    "print(excel_data_files)\n",
    "\n",
    "for f in excel_data_files:\n",
    "    df = pd.read_excel(f)\n",
    "    if(df.loc[1, '담당자'] == 'A'): df['담당자'] = 'Andy'\n",
    "    elif(df.loc[1, '담당자'] == 'B'): df['담당자'] = 'Becky'\n",
    "    elif(df.loc[1, '담당자'] == 'C'): df['담당자'] = 'Chris'\n",
    "    \n",
    "    f_new = re.sub('.xlsx', '2.xlsx', f)\n",
    "    # print(f_new) \n",
    "    \n",
    "    new_excel_file = pd.ExcelWriter(f_new, engine='xlsxwriter')\n",
    "    df.to_excel(new_excel_file, index=False)\n",
    "    new_excel_file.close()\n",
    "    \n",
    "glob.glob('./data/excel/담당자별_판매량_*사원2.xlsx')"
   ]
  },
  {
   "cell_type": "code",
   "execution_count": null,
   "id": "8c729cf9",
   "metadata": {},
   "outputs": [],
   "source": [
    "# 3. 엑셀의 필터기능 수행하기\n",
    "df = pd.read_excel('./data/excel/담당자별_판매량_통합.xlsx')\n",
    "display(df)\n",
    "\n",
    "# 1) 핸드백만 추출\n",
    "df.제품명 == '핸드백'\n",
    "handbag = df[df.제품명 == '핸드백']\n",
    "handbag\n",
    "\n",
    "# 2) 3분기 >=350 and 핸드백\n",
    "df[(df.제품명 == '핸드백') & (df['3분기'] >= 350)]\n",
    "\n",
    "# 3) 제품명, 1~4분기까지만 출력\n",
    "df[['제품명','1분기','2분기','3분기','4분기']]"
   ]
  },
  {
   "cell_type": "code",
   "execution_count": null,
   "id": "a8242493",
   "metadata": {},
   "outputs": [],
   "source": [
    "# 4. 엑셀데이터계산하기\n",
    "df = pd.read_excel('./data/excel/담당자별_판매량_통합.xlsx')\n",
    "handbag = df[df.제품명 == '핸드백']\n",
    "display(handbag)\n",
    "\n",
    "handbag.sum()       # 기본값 axis= 0\n",
    "handbag.sum(axis=0) # 열기준\n",
    "display(handbag.sum(axis=1, numeric_only=True)) # 행기준\n",
    "\n",
    "# 1) 핸드백의 연간판매량 & '연간판매량'컬럼 추가\n",
    "handbag_sum = pd.DataFrame(handbag.sum(axis=1, numeric_only=True)\n",
    "                           , columns=['연간판매량'])\n",
    "handbag_sum\n",
    "handbag_total = handbag.join(handbag_sum)\n",
    "handbag_total\n",
    "\n",
    "# 2) 연간판매량으로 정렬\n",
    "handbag_total.sort_values(by='연간판매량', ascending=False)"
   ]
  },
  {
   "cell_type": "code",
   "execution_count": null,
   "id": "39395f7c",
   "metadata": {},
   "outputs": [],
   "source": [
    "# 연습문제 - handbag_sum을 이용하여 열의 합계구하기\n",
    "#     제품명 담당자 지역 1분기 2분기 3분기 4분기 연간판매량\n",
    "# 2   핸드백   A     가    385   316   355   331  1387\n",
    "# 5   핸드백   B     나    350   340   377   392  1459\n",
    "# 8   핸드백   C     다    365   383   308   323  1379\n",
    "# 합계 핸드백  전체  전체 1100  1039  1040  1046  4225\n",
    "# 힌트) 열합계(axis=0), pivot(T메서드)변환, 합계행 수정\n",
    "df = pd.read_excel('./data/excel/담당자별_판매량_통합.xlsx')\n",
    "handbag = df[df.제품명 == '핸드백']\n",
    "\n",
    "# 1) 행별합계, 마지막열에 추가\n",
    "handbag_sum = pd.DataFrame(handbag.sum(axis=1, numeric_only=True)\n",
    "                           , columns=['연간판매량'])\n",
    "handbag_total = handbag.join(handbag_sum)\n",
    "handbag_total\n",
    "\n",
    "# 2) 열별로 분기별합계와 연간판매량합계 구한후 마지막행에 추가\n",
    "handbag_sum2 = pd.DataFrame(handbag_total.sum(), columns=['합계'])\n",
    "handbag_sum2\n",
    "handbag_sum2.T\n",
    "\n",
    "handbag_total2 = pd.concat([handbag_total, handbag_sum2.T]) \n",
    "handbag_total2\n",
    "\n",
    "# 3) 합계행문자열 변경\n",
    "handbag_total2.loc['합계', '제품명'] = '핸드백'\n",
    "handbag_total2.loc['합계', '담당자'] = '전체'\n",
    "handbag_total2.loc['합계', '지역'] = '전체'\n",
    "\n",
    "# 4) 최종결과\n",
    "handbag_total2"
   ]
  },
  {
   "cell_type": "markdown",
   "id": "f2e65fec",
   "metadata": {},
   "source": [
    "## 4. 엑셀파일의 시각화"
   ]
  },
  {
   "cell_type": "code",
   "execution_count": null,
   "id": "db3aa499",
   "metadata": {},
   "outputs": [],
   "source": [
    "# 1. 그래프를 엑셀파일에 넣기\n",
    "sales = {\n",
    "    '시간': [9,10,11,12,13,14,15],\n",
    "    '아이폰': [10,15,12,11,12,14,13],\n",
    "    '겔럭시': [9,11,14,12,13,10,12],\n",
    "}\n",
    "df = pd.DataFrame(sales, index=sales['시간'], columns=['아이폰', '겔럭시'])\n",
    "df"
   ]
  },
  {
   "cell_type": "code",
   "execution_count": null,
   "id": "164e1dd2",
   "metadata": {},
   "outputs": [],
   "source": [
    "# 1) 시각화 & 이미지저장\n",
    "product_salses = df.plot(grid=True, style=['-*','-.o']\n",
    "                         , title='시간대별 핸드폰 판매량')\n",
    "\n",
    "product_salses.set_ylabel('판매량')\n",
    "product_salses.set_xlabel('판매시간')\n",
    "\n",
    "plt.savefig('./data/excel/시간대별핸드폰판매량.png', dpi=400)\n",
    "plt.show()"
   ]
  },
  {
   "cell_type": "code",
   "execution_count": null,
   "id": "320c3abf",
   "metadata": {},
   "outputs": [],
   "source": [
    "# 2. 이미지파일을 엑셀파일에 넣기\n",
    "\n",
    "# A. 이미지파일 넣기\n",
    "# 1) ExcelWriter객체생성\n",
    "excel_file = './data/excel/시간대별핸드폰판매량.xlsx'\n",
    "excel_writer = pd.ExcelWriter(excel_file, engine='xlsxwriter')\n",
    "\n",
    "# 2) df의 데이터를 지정된 엑셀시트에 쓰기\n",
    "df.to_excel(excel_writer, index=True, sheet_name='핸드폰판매량')\n",
    "\n",
    "# 3) ExcelWriter객체에서 워크시트(worksheet)객체를 생성\n",
    "worksheet = excel_writer.sheets['핸드폰판매량']\n",
    "\n",
    "# 4) 워크시트에 차트위치를 지정(d2, 엑셀셀에 위치)\n",
    "# d2 = 1,3\n",
    "worksheet.insert_image('D2', './data/excel/시간대별핸드폰판매량.png'\n",
    "                      , {'x_scale':0.7, 'y_scale':0.7})\n",
    "\n",
    "# 5) 엑셀파일저장\n",
    "excel_writer.close()"
   ]
  },
  {
   "cell_type": "code",
   "execution_count": null,
   "id": "eb0419e9",
   "metadata": {},
   "outputs": [],
   "source": [
    "# B. chart 넣기\n",
    "# 1) ExcelWriter객체생성\n",
    "excel_file = './data/excel/시간대별핸드폰판매량_chart_1.xlsx'\n",
    "excel_chart = pd.ExcelWriter(excel_file, engine='xlsxwriter')\n",
    "\n",
    "# 2) df의 데이터를 지정된 엑셀시트에 쓰기\n",
    "df.to_excel(excel_chart, index=True, sheet_name='Sheet1')\n",
    "\n",
    "# 3) ExcelWriter객체에서 워크북(workbook)과 워크시트(worksheet)객체를 생성\n",
    "workbook = excel_chart.book\n",
    "worksheet = excel_chart.sheets['Sheet1']\n",
    "\n",
    "# 4) 챠트객체생성(원하는 차트의 종류를 지정)\n",
    "chart = workbook.add_chart({'type':'line'})\n",
    "\n",
    "# 5) 챠트생성을 위한 데이터의 범위를 지정\n",
    "chart.add_series({\n",
    "    'values': \"=Sheet1!$B$2:$B$8\",\n",
    "    'categories': \"=Sheet1!$A$2:$A$8\",\n",
    "    'name': \"=Sheet1!$B$1\"\n",
    "})\n",
    "chart.add_series({\n",
    "    'values': \"=Sheet1!$C$2:$C$8\",\n",
    "    'categories': \"=Sheet1!$A$2:$A$8\",\n",
    "    'name': \"=Sheet1!$C$1\"    \n",
    "})\n",
    "\n",
    "# 6) chart에 x,y,title을 설정\n",
    "chart.set_title({'name': '시간대별 핸드폰 판매량'})\n",
    "chart.set_x_axis({'name':'판매시간'})\n",
    "chart.set_y_axis({'name':'판매량'})\n",
    "\n",
    "# 7) 챠트가 들어갈 위치 설정\n",
    "worksheet.insert_chart('D2', chart)\n",
    "\n",
    "# 8) 엑셀파일저장\n",
    "excel_chart.close()"
   ]
  },
  {
   "cell_type": "markdown",
   "id": "490c0c6e",
   "metadata": {},
   "source": [
    "## 12. html 다루기"
   ]
  },
  {
   "cell_type": "code",
   "execution_count": 3,
   "id": "b284445f",
   "metadata": {},
   "outputs": [],
   "source": [
    "import pandas as pd\n",
    "import html5lib\n",
    "import requests"
   ]
  },
  {
   "cell_type": "code",
   "execution_count": 50,
   "id": "6a46693a",
   "metadata": {},
   "outputs": [
    {
     "name": "stdout",
     "output_type": "stream",
     "text": [
      "<class 'list'> 2\n",
      "<class 'pandas.core.frame.DataFrame'> <class 'pandas.core.frame.DataFrame'>\n"
     ]
    },
    {
     "data": {
      "text/html": [
       "<div>\n",
       "<style scoped>\n",
       "    .dataframe tbody tr th:only-of-type {\n",
       "        vertical-align: middle;\n",
       "    }\n",
       "\n",
       "    .dataframe tbody tr th {\n",
       "        vertical-align: top;\n",
       "    }\n",
       "\n",
       "    .dataframe thead th {\n",
       "        text-align: right;\n",
       "    }\n",
       "</style>\n",
       "<table border=\"1\" class=\"dataframe\">\n",
       "  <thead>\n",
       "    <tr style=\"text-align: right;\">\n",
       "      <th></th>\n",
       "      <th>날짜</th>\n",
       "      <th>종가</th>\n",
       "      <th>전일비</th>\n",
       "      <th>시가</th>\n",
       "      <th>고가</th>\n",
       "      <th>저가</th>\n",
       "      <th>거래량</th>\n",
       "    </tr>\n",
       "  </thead>\n",
       "  <tbody>\n",
       "    <tr>\n",
       "      <th>0</th>\n",
       "      <td>NaN</td>\n",
       "      <td>NaN</td>\n",
       "      <td>NaN</td>\n",
       "      <td>NaN</td>\n",
       "      <td>NaN</td>\n",
       "      <td>NaN</td>\n",
       "      <td>NaN</td>\n",
       "    </tr>\n",
       "    <tr>\n",
       "      <th>1</th>\n",
       "      <td>2023.11.02</td>\n",
       "      <td>99700.0</td>\n",
       "      <td>600.0</td>\n",
       "      <td>102100.0</td>\n",
       "      <td>103000.0</td>\n",
       "      <td>99600.0</td>\n",
       "      <td>1091362.0</td>\n",
       "    </tr>\n",
       "    <tr>\n",
       "      <th>2</th>\n",
       "      <td>2023.11.01</td>\n",
       "      <td>100300.0</td>\n",
       "      <td>600.0</td>\n",
       "      <td>101100.0</td>\n",
       "      <td>101900.0</td>\n",
       "      <td>100000.0</td>\n",
       "      <td>426695.0</td>\n",
       "    </tr>\n",
       "    <tr>\n",
       "      <th>3</th>\n",
       "      <td>2023.10.31</td>\n",
       "      <td>99700.0</td>\n",
       "      <td>3400.0</td>\n",
       "      <td>104100.0</td>\n",
       "      <td>105300.0</td>\n",
       "      <td>99300.0</td>\n",
       "      <td>715127.0</td>\n",
       "    </tr>\n",
       "    <tr>\n",
       "      <th>4</th>\n",
       "      <td>2023.10.30</td>\n",
       "      <td>103100.0</td>\n",
       "      <td>1500.0</td>\n",
       "      <td>101600.0</td>\n",
       "      <td>104200.0</td>\n",
       "      <td>101600.0</td>\n",
       "      <td>471152.0</td>\n",
       "    </tr>\n",
       "  </tbody>\n",
       "</table>\n",
       "</div>"
      ],
      "text/plain": [
       "           날짜        종가     전일비        시가        고가        저가        거래량\n",
       "0         NaN       NaN     NaN       NaN       NaN       NaN        NaN\n",
       "1  2023.11.02   99700.0   600.0  102100.0  103000.0   99600.0  1091362.0\n",
       "2  2023.11.01  100300.0   600.0  101100.0  101900.0  100000.0   426695.0\n",
       "3  2023.10.31   99700.0  3400.0  104100.0  105300.0   99300.0   715127.0\n",
       "4  2023.10.30  103100.0  1500.0  101600.0  104200.0  101600.0   471152.0"
      ]
     },
     "metadata": {},
     "output_type": "display_data"
    },
    {
     "data": {
      "text/html": [
       "<div>\n",
       "<style scoped>\n",
       "    .dataframe tbody tr th:only-of-type {\n",
       "        vertical-align: middle;\n",
       "    }\n",
       "\n",
       "    .dataframe tbody tr th {\n",
       "        vertical-align: top;\n",
       "    }\n",
       "\n",
       "    .dataframe thead th {\n",
       "        text-align: right;\n",
       "    }\n",
       "</style>\n",
       "<table border=\"1\" class=\"dataframe\">\n",
       "  <thead>\n",
       "    <tr style=\"text-align: right;\">\n",
       "      <th></th>\n",
       "      <th>0</th>\n",
       "      <th>1</th>\n",
       "      <th>2</th>\n",
       "      <th>3</th>\n",
       "      <th>4</th>\n",
       "      <th>5</th>\n",
       "      <th>6</th>\n",
       "      <th>7</th>\n",
       "      <th>8</th>\n",
       "      <th>9</th>\n",
       "      <th>10</th>\n",
       "      <th>11</th>\n",
       "    </tr>\n",
       "  </thead>\n",
       "  <tbody>\n",
       "    <tr>\n",
       "      <th>0</th>\n",
       "      <td>1</td>\n",
       "      <td>2</td>\n",
       "      <td>3</td>\n",
       "      <td>4</td>\n",
       "      <td>5</td>\n",
       "      <td>6</td>\n",
       "      <td>7</td>\n",
       "      <td>8</td>\n",
       "      <td>9</td>\n",
       "      <td>10</td>\n",
       "      <td>다음</td>\n",
       "      <td>맨뒤</td>\n",
       "    </tr>\n",
       "  </tbody>\n",
       "</table>\n",
       "</div>"
      ],
      "text/plain": [
       "   0   1   2   3   4   5   6   7   8   9   10  11\n",
       "0   1   2   3   4   5   6   7   8   9  10  다음  맨뒤"
      ]
     },
     "metadata": {},
     "output_type": "display_data"
    }
   ],
   "source": [
    "# 주식정보 : naver\n",
    "# LG전자 주가 : https://finance.naver.com/item/sise_day.nhn?code=066570\n",
    "url = 'https://finance.naver.com/item/sise_day.nhn?code=066570&page=1'\n",
    "df = pd.read_html(requests.get(url, headers={'User-agent': 'Mozilla/5.0'}).text)\n",
    "print(type(df), len(df))\n",
    "print(type(df[0]), type(df[1]))\n",
    "display(df[0].head())\n",
    "display(df[1].head())"
   ]
  },
  {
   "cell_type": "code",
   "execution_count": 59,
   "id": "c5dc1145",
   "metadata": {},
   "outputs": [
    {
     "name": "stdout",
     "output_type": "stream",
     "text": [
      "<class 'pandas.core.frame.DataFrame'> 2647\n"
     ]
    },
    {
     "data": {
      "text/html": [
       "<div>\n",
       "<style scoped>\n",
       "    .dataframe tbody tr th:only-of-type {\n",
       "        vertical-align: middle;\n",
       "    }\n",
       "\n",
       "    .dataframe tbody tr th {\n",
       "        vertical-align: top;\n",
       "    }\n",
       "\n",
       "    .dataframe thead th {\n",
       "        text-align: right;\n",
       "    }\n",
       "</style>\n",
       "<table border=\"1\" class=\"dataframe\">\n",
       "  <thead>\n",
       "    <tr style=\"text-align: right;\">\n",
       "      <th></th>\n",
       "      <th>회사명</th>\n",
       "      <th>종목코드</th>\n",
       "      <th>업종</th>\n",
       "      <th>주요제품</th>\n",
       "      <th>상장일</th>\n",
       "      <th>결산월</th>\n",
       "      <th>대표자명</th>\n",
       "      <th>홈페이지</th>\n",
       "      <th>지역</th>\n",
       "    </tr>\n",
       "  </thead>\n",
       "  <tbody>\n",
       "    <tr>\n",
       "      <th>0</th>\n",
       "      <td>AJ네트웍스</td>\n",
       "      <td>95570</td>\n",
       "      <td>산업용 기계 및 장비 임대업</td>\n",
       "      <td>렌탈(파렛트, OA장비, 건설장비)</td>\n",
       "      <td>2015-08-21</td>\n",
       "      <td>12월</td>\n",
       "      <td>손삼달</td>\n",
       "      <td>http://www.ajnet.co.kr</td>\n",
       "      <td>서울특별시</td>\n",
       "    </tr>\n",
       "    <tr>\n",
       "      <th>1</th>\n",
       "      <td>BGF리테일</td>\n",
       "      <td>282330</td>\n",
       "      <td>종합 소매업</td>\n",
       "      <td>체인화 편의점</td>\n",
       "      <td>2017-12-08</td>\n",
       "      <td>12월</td>\n",
       "      <td>민승배</td>\n",
       "      <td>http://www.bgfretail.com</td>\n",
       "      <td>서울특별시</td>\n",
       "    </tr>\n",
       "  </tbody>\n",
       "</table>\n",
       "</div>"
      ],
      "text/plain": [
       "      회사명    종목코드               업종                 주요제품         상장일  결산월 대표자명  \\\n",
       "0  AJ네트웍스   95570  산업용 기계 및 장비 임대업  렌탈(파렛트, OA장비, 건설장비)  2015-08-21  12월  손삼달   \n",
       "1  BGF리테일  282330           종합 소매업              체인화 편의점  2017-12-08  12월  민승배   \n",
       "\n",
       "                       홈페이지     지역  \n",
       "0    http://www.ajnet.co.kr  서울특별시  \n",
       "1  http://www.bgfretail.com  서울특별시  "
      ]
     },
     "metadata": {},
     "output_type": "display_data"
    },
    {
     "data": {
      "text/html": [
       "<div>\n",
       "<style scoped>\n",
       "    .dataframe tbody tr th:only-of-type {\n",
       "        vertical-align: middle;\n",
       "    }\n",
       "\n",
       "    .dataframe tbody tr th {\n",
       "        vertical-align: top;\n",
       "    }\n",
       "\n",
       "    .dataframe thead th {\n",
       "        text-align: right;\n",
       "    }\n",
       "</style>\n",
       "<table border=\"1\" class=\"dataframe\">\n",
       "  <thead>\n",
       "    <tr style=\"text-align: right;\">\n",
       "      <th></th>\n",
       "      <th>회사명</th>\n",
       "      <th>종목코드</th>\n",
       "      <th>업종</th>\n",
       "      <th>주요제품</th>\n",
       "      <th>상장일</th>\n",
       "      <th>결산월</th>\n",
       "      <th>대표자명</th>\n",
       "      <th>홈페이지</th>\n",
       "      <th>지역</th>\n",
       "    </tr>\n",
       "  </thead>\n",
       "  <tbody>\n",
       "    <tr>\n",
       "      <th>0</th>\n",
       "      <td>AJ네트웍스</td>\n",
       "      <td>095570</td>\n",
       "      <td>산업용 기계 및 장비 임대업</td>\n",
       "      <td>렌탈(파렛트, OA장비, 건설장비)</td>\n",
       "      <td>2015-08-21</td>\n",
       "      <td>12월</td>\n",
       "      <td>손삼달</td>\n",
       "      <td>http://www.ajnet.co.kr</td>\n",
       "      <td>서울특별시</td>\n",
       "    </tr>\n",
       "    <tr>\n",
       "      <th>1</th>\n",
       "      <td>BGF리테일</td>\n",
       "      <td>282330</td>\n",
       "      <td>종합 소매업</td>\n",
       "      <td>체인화 편의점</td>\n",
       "      <td>2017-12-08</td>\n",
       "      <td>12월</td>\n",
       "      <td>민승배</td>\n",
       "      <td>http://www.bgfretail.com</td>\n",
       "      <td>서울특별시</td>\n",
       "    </tr>\n",
       "  </tbody>\n",
       "</table>\n",
       "</div>"
      ],
      "text/plain": [
       "      회사명    종목코드               업종                 주요제품         상장일  결산월 대표자명  \\\n",
       "0  AJ네트웍스  095570  산업용 기계 및 장비 임대업  렌탈(파렛트, OA장비, 건설장비)  2015-08-21  12월  손삼달   \n",
       "1  BGF리테일  282330           종합 소매업              체인화 편의점  2017-12-08  12월  민승배   \n",
       "\n",
       "                       홈페이지     지역  \n",
       "0    http://www.ajnet.co.kr  서울특별시  \n",
       "1  http://www.bgfretail.com  서울특별시  "
      ]
     },
     "metadata": {},
     "output_type": "display_data"
    },
    {
     "data": {
      "text/html": [
       "<div>\n",
       "<style scoped>\n",
       "    .dataframe tbody tr th:only-of-type {\n",
       "        vertical-align: middle;\n",
       "    }\n",
       "\n",
       "    .dataframe tbody tr th {\n",
       "        vertical-align: top;\n",
       "    }\n",
       "\n",
       "    .dataframe thead th {\n",
       "        text-align: right;\n",
       "    }\n",
       "</style>\n",
       "<table border=\"1\" class=\"dataframe\">\n",
       "  <thead>\n",
       "    <tr style=\"text-align: right;\">\n",
       "      <th></th>\n",
       "      <th>회사명</th>\n",
       "      <th>종목코드</th>\n",
       "    </tr>\n",
       "  </thead>\n",
       "  <tbody>\n",
       "    <tr>\n",
       "      <th>0</th>\n",
       "      <td>AJ네트웍스</td>\n",
       "      <td>095570</td>\n",
       "    </tr>\n",
       "    <tr>\n",
       "      <th>1</th>\n",
       "      <td>BGF리테일</td>\n",
       "      <td>282330</td>\n",
       "    </tr>\n",
       "  </tbody>\n",
       "</table>\n",
       "</div>"
      ],
      "text/plain": [
       "      회사명    종목코드\n",
       "0  AJ네트웍스  095570\n",
       "1  BGF리테일  282330"
      ]
     },
     "metadata": {},
     "output_type": "display_data"
    },
    {
     "data": {
      "text/html": [
       "<div>\n",
       "<style scoped>\n",
       "    .dataframe tbody tr th:only-of-type {\n",
       "        vertical-align: middle;\n",
       "    }\n",
       "\n",
       "    .dataframe tbody tr th {\n",
       "        vertical-align: top;\n",
       "    }\n",
       "\n",
       "    .dataframe thead th {\n",
       "        text-align: right;\n",
       "    }\n",
       "</style>\n",
       "<table border=\"1\" class=\"dataframe\">\n",
       "  <thead>\n",
       "    <tr style=\"text-align: right;\">\n",
       "      <th></th>\n",
       "      <th>name</th>\n",
       "      <th>code</th>\n",
       "    </tr>\n",
       "  </thead>\n",
       "  <tbody>\n",
       "    <tr>\n",
       "      <th>0</th>\n",
       "      <td>AJ네트웍스</td>\n",
       "      <td>095570</td>\n",
       "    </tr>\n",
       "    <tr>\n",
       "      <th>1</th>\n",
       "      <td>BGF리테일</td>\n",
       "      <td>282330</td>\n",
       "    </tr>\n",
       "  </tbody>\n",
       "</table>\n",
       "</div>"
      ],
      "text/plain": [
       "     name    code\n",
       "0  AJ네트웍스  095570\n",
       "1  BGF리테일  282330"
      ]
     },
     "metadata": {},
     "output_type": "display_data"
    }
   ],
   "source": [
    "# 주식정보 : 증권거래소\n",
    "url = 'http://kind.krx.co.kr/corpgeneral/corpList.do?method=download&searchType=13'\n",
    "code_df = pd.read_html(requests.get(url\n",
    "                            , headers={'User-agent': 'Mozilla/5.0'}).text)[0] \n",
    "print(type(code_df), len(code_df))\n",
    "display(code_df.head(2))\n",
    "\n",
    "# 종목코드를 6자리 정규화\n",
    "code_df.종목코드 = code_df.종목코드.map('{:06d}'.format)\n",
    "display(code_df.head(2))\n",
    "\n",
    "# 회사명과 종목코드를 영문변경\n",
    "code_df = code_df[['회사명', '종목코드']]\n",
    "display(code_df.head(2))\n",
    "code_df = code_df.rename(columns={'회사명':'name', '종목코드':'code'})\n",
    "display(code_df.head(2))"
   ]
  },
  {
   "cell_type": "code",
   "execution_count": 63,
   "id": "49bf1225",
   "metadata": {},
   "outputs": [
    {
     "name": "stdout",
     "output_type": "stream",
     "text": [
      "요청 URL = https://finance.naver.com/item/sise_day.nhn?code=066570\n",
      "요청 URL = https://finance.naver.com/item/sise_day.nhn?code=005930\n",
      "요청 URL = https://finance.naver.com/item/sise_day.nhn?code=034730\n"
     ]
    },
    {
     "data": {
      "text/plain": [
       "'https://finance.naver.com/item/sise_day.nhn?code=034730'"
      ]
     },
     "execution_count": 63,
     "metadata": {},
     "output_type": "execute_result"
    }
   ],
   "source": [
    "# 함수생성 : 종목이름을 입력하면 종목코드를 리턴하는 함수\n",
    "# 네이버금융(http://finance.naver.com)\n",
    "def get_url(compay_name, code_df):\n",
    "    code = code_df.query(f\"name=='{compay_name}'\")['code'].to_string(index=False)\n",
    "    code = code.strip()\n",
    "    url = f'https://finance.naver.com/item/sise_day.nhn?code={code}'\n",
    "    print(f'요청 URL = {url}')\n",
    "    return url\n",
    "\n",
    "get_url('LG전자', code_df)\n",
    "get_url('삼성전자', code_df)\n",
    "get_url('SK', code_df)"
   ]
  },
  {
   "cell_type": "code",
   "execution_count": 67,
   "id": "f7f6e9fa",
   "metadata": {},
   "outputs": [
    {
     "name": "stdout",
     "output_type": "stream",
     "text": [
      "종목검색을 위한 회사이름을 입력하세요 => LG전자\n",
      "요청 URL = https://finance.naver.com/item/sise_day.nhn?code=066570\n"
     ]
    }
   ],
   "source": [
    "company_name = input('종목검색을 위한 회사이름을 입력하세요 => ')\n",
    "url = get_url(company_name, code_df)"
   ]
  },
  {
   "cell_type": "code",
   "execution_count": 80,
   "id": "0c0f0c4d",
   "metadata": {},
   "outputs": [
    {
     "name": "stdout",
     "output_type": "stream",
     "text": [
      "https://finance.naver.com/item/sise_day.nhn?code=066570&page=1\n",
      "https://finance.naver.com/item/sise_day.nhn?code=066570&page=2\n",
      "https://finance.naver.com/item/sise_day.nhn?code=066570&page=3\n",
      "https://finance.naver.com/item/sise_day.nhn?code=066570&page=4\n",
      "https://finance.naver.com/item/sise_day.nhn?code=066570&page=5\n",
      "https://finance.naver.com/item/sise_day.nhn?code=066570&page=6\n",
      "https://finance.naver.com/item/sise_day.nhn?code=066570&page=7\n",
      "https://finance.naver.com/item/sise_day.nhn?code=066570&page=8\n",
      "https://finance.naver.com/item/sise_day.nhn?code=066570&page=9\n",
      "https://finance.naver.com/item/sise_day.nhn?code=066570&page=10\n",
      "https://finance.naver.com/item/sise_day.nhn?code=066570&page=11\n",
      "https://finance.naver.com/item/sise_day.nhn?code=066570&page=12\n",
      "https://finance.naver.com/item/sise_day.nhn?code=066570&page=13\n",
      "https://finance.naver.com/item/sise_day.nhn?code=066570&page=14\n",
      "https://finance.naver.com/item/sise_day.nhn?code=066570&page=15\n",
      "https://finance.naver.com/item/sise_day.nhn?code=066570&page=16\n",
      "https://finance.naver.com/item/sise_day.nhn?code=066570&page=17\n",
      "https://finance.naver.com/item/sise_day.nhn?code=066570&page=18\n",
      "https://finance.naver.com/item/sise_day.nhn?code=066570&page=19\n",
      "https://finance.naver.com/item/sise_day.nhn?code=066570&page=20\n"
     ]
    },
    {
     "data": {
      "text/html": [
       "<div>\n",
       "<style scoped>\n",
       "    .dataframe tbody tr th:only-of-type {\n",
       "        vertical-align: middle;\n",
       "    }\n",
       "\n",
       "    .dataframe tbody tr th {\n",
       "        vertical-align: top;\n",
       "    }\n",
       "\n",
       "    .dataframe thead th {\n",
       "        text-align: right;\n",
       "    }\n",
       "</style>\n",
       "<table border=\"1\" class=\"dataframe\">\n",
       "  <thead>\n",
       "    <tr style=\"text-align: right;\">\n",
       "      <th></th>\n",
       "      <th>종가</th>\n",
       "      <th>전일비</th>\n",
       "      <th>시가</th>\n",
       "      <th>고가</th>\n",
       "      <th>저가</th>\n",
       "      <th>거래량</th>\n",
       "    </tr>\n",
       "    <tr>\n",
       "      <th>날짜</th>\n",
       "      <th></th>\n",
       "      <th></th>\n",
       "      <th></th>\n",
       "      <th></th>\n",
       "      <th></th>\n",
       "      <th></th>\n",
       "    </tr>\n",
       "  </thead>\n",
       "  <tbody>\n",
       "    <tr>\n",
       "      <th>2023.11.02</th>\n",
       "      <td>99700.0</td>\n",
       "      <td>600.0</td>\n",
       "      <td>102100.0</td>\n",
       "      <td>103000.0</td>\n",
       "      <td>99600.0</td>\n",
       "      <td>1091362.0</td>\n",
       "    </tr>\n",
       "    <tr>\n",
       "      <th>2023.11.01</th>\n",
       "      <td>100300.0</td>\n",
       "      <td>600.0</td>\n",
       "      <td>101100.0</td>\n",
       "      <td>101900.0</td>\n",
       "      <td>100000.0</td>\n",
       "      <td>426695.0</td>\n",
       "    </tr>\n",
       "    <tr>\n",
       "      <th>2023.10.31</th>\n",
       "      <td>99700.0</td>\n",
       "      <td>3400.0</td>\n",
       "      <td>104100.0</td>\n",
       "      <td>105300.0</td>\n",
       "      <td>99300.0</td>\n",
       "      <td>715127.0</td>\n",
       "    </tr>\n",
       "    <tr>\n",
       "      <th>2023.10.30</th>\n",
       "      <td>103100.0</td>\n",
       "      <td>1500.0</td>\n",
       "      <td>101600.0</td>\n",
       "      <td>104200.0</td>\n",
       "      <td>101600.0</td>\n",
       "      <td>471152.0</td>\n",
       "    </tr>\n",
       "    <tr>\n",
       "      <th>2023.10.27</th>\n",
       "      <td>101600.0</td>\n",
       "      <td>3700.0</td>\n",
       "      <td>106000.0</td>\n",
       "      <td>106000.0</td>\n",
       "      <td>99000.0</td>\n",
       "      <td>1033993.0</td>\n",
       "    </tr>\n",
       "  </tbody>\n",
       "</table>\n",
       "</div>"
      ],
      "text/plain": [
       "                  종가     전일비        시가        고가        저가        거래량\n",
       "날짜                                                                   \n",
       "2023.11.02   99700.0   600.0  102100.0  103000.0   99600.0  1091362.0\n",
       "2023.11.01  100300.0   600.0  101100.0  101900.0  100000.0   426695.0\n",
       "2023.10.31   99700.0  3400.0  104100.0  105300.0   99300.0   715127.0\n",
       "2023.10.30  103100.0  1500.0  101600.0  104200.0  101600.0   471152.0\n",
       "2023.10.27  101600.0  3700.0  106000.0  106000.0   99000.0  1033993.0"
      ]
     },
     "execution_count": 80,
     "metadata": {},
     "output_type": "execute_result"
    }
   ],
   "source": [
    "# df 생성\n",
    "df = pd.DataFrame()\n",
    "\n",
    "# 1~20페이지\n",
    "for page in range(1, 21):\n",
    "    page_url = f'{url}&page={page}'\n",
    "    print(page_url)\n",
    "    p_df = pd.read_html(requests.get(page_url\n",
    "                          , headers={'User-agent': 'Mozilla/5.0'}).text)[0]\n",
    "    df = pd.concat([df, p_df], ignore_index=True)\n",
    "    \n",
    "df = df.dropna() # how = any\n",
    "df.set_index('날짜', inplace=True)\n",
    "df.head()"
   ]
  },
  {
   "cell_type": "code",
   "execution_count": 81,
   "id": "b30df799",
   "metadata": {},
   "outputs": [
    {
     "data": {
      "image/png": "[encoded data removed]",
      "text/plain": [
       "<Figure size 640x480 with 1 Axes>"
      ]
     },
     "metadata": {},
     "output_type": "display_data"
    }
   ],
   "source": [
    "# 시각화\n",
    "lg = df['종가'].plot(grid=True, style=['-^'], title='LG전자주가', rot=20)\n",
    "lg.set_ylabel('주가')\n",
    "lg.set_xlabel('날자')\n",
    "plt.show()"
   ]
  }
 ],
 "metadata": {
  "kernelspec": {
   "display_name": "Python 3 (ipykernel)",
   "language": "python",
   "name": "python3"
  },
  "language_info": {
   "codemirror_mode": {
    "name": "ipython",
    "version": 3
   },
   "file_extension": ".py",
   "mimetype": "text/x-python",
   "name": "python",
   "nbconvert_exporter": "python",
   "pygments_lexer": "ipython3",
   "version": "3.11.5"
  }
 },
 "nbformat": 4,
 "nbformat_minor": 5
}
