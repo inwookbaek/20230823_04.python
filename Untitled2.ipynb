{
 "cells": [
  {
   "cell_type": "code",
   "execution_count": 1,
   "id": "3be19d03",
   "metadata": {},
   "outputs": [
    {
     "name": "stdout",
     "output_type": "stream",
     "text": [
      "WARNING:tensorflow:From C:\\Users\\EZEN\\AppData\\Roaming\\Python\\Python311\\site-packages\\keras\\src\\losses.py:2976: The name tf.losses.sparse_softmax_cross_entropy is deprecated. Please use tf.compat.v1.losses.sparse_softmax_cross_entropy instead.\n",
      "\n",
      "WARNING:tensorflow:From C:\\Users\\EZEN\\AppData\\Roaming\\Python\\Python311\\site-packages\\keras\\src\\backend.py:1398: The name tf.executing_eagerly_outside_functions is deprecated. Please use tf.compat.v1.executing_eagerly_outside_functions instead.\n",
      "\n",
      "WARNING:tensorflow:From C:\\Users\\EZEN\\AppData\\Roaming\\Python\\Python311\\site-packages\\keras\\src\\optimizers\\__init__.py:309: The name tf.train.Optimizer is deprecated. Please use tf.compat.v1.train.Optimizer instead.\n",
      "\n",
      "1/1 [==============================] - 0s 450ms/step\n",
      "1/1 [==============================] - 1s 760ms/step\n",
      "1/1 [==============================] - 0s 37ms/step\n",
      "질문 : 오전에 탕수육 10개 주문합니다\n",
      "의도파악 : 예약\n",
      "개체명인식 : [('오전', 'B_DT'), ('탕수육', 'O'), ('10', 'O'), ('개', 'O'), ('주문', 'O')]\n",
      "답변검색에 필요한 NER태그 = ['B_DT']\n",
      "select * from chatbot_train_data  where intent = '예약' and ( ner like '%B_DT%' ) order by rand() limit 1\n",
      "답변 = 오전에 예약 접수 되었습니다.\n"
     ]
    }
   ],
   "source": [
    "# %%writefile ./chatbot/test/chatbot_test.py\n",
    "# 쳇봇엔진동작 테스트하기\n",
    "from chatbot.config.DatabaseConfig import *\n",
    "from chatbot.utils.Database import Database\n",
    "from chatbot.utils.Preprocess import Preprocess\n",
    "\n",
    "# 전처리객체생성\n",
    "p = Preprocess(word2index_dic=\"./chatbot/train_tools/dict/chatbot_dict.bin\",\n",
    "               userdic=\"./chatbot/utils/user_dic.tsv\")\n",
    "\n",
    "# DB객체생성\n",
    "db = Database(host=DB_HOST, user=DB_USER, password=DB_PASSWORD, db_name=DB_NAME)\n",
    "db.connect()\n",
    "\n",
    "# 발화자질문\n",
    "query = '오전에 탕수육 10개 주문합니다'\n",
    "# query = '화자의 질문의도를 파악합니다'\n",
    "# query = \"안녕하세요\"\n",
    "# query = '자장면 주문할게요!'\n",
    "\n",
    "# 발화자의 의도파악\n",
    "from chatbot.models.intent.IntentModel import IntentModel\n",
    "intent = IntentModel(model_name ='./chatbot/models/intent/intent_model.keras', preprocess=p)\n",
    "predict = intent.predict_class(query)\n",
    "intent_name = intent.labels[predict]\n",
    "\n",
    "# 개체명인식\n",
    "from chatbot.models.ner.NerModel import NerModel\n",
    "ner = NerModel(model_name='./chatbot/models/ner/ner_model.keras', preprocess=p)\n",
    "predicts = ner.predict(query)\n",
    "ner_tags = ner.predict_tags(query)\n",
    "\n",
    "# 출력확인\n",
    "print(f\"질문 : {query}\")\n",
    "print(f\"의도파악 : {intent_name}\")\n",
    "print(f\"개체명인식 : {predicts}\")\n",
    "print(f\"답변검색에 필요한 NER태그 = {ner_tags}\")\n",
    "\n",
    "# 답변검색\n",
    "from chatbot.utils.FindAnswer import FindAnswer\n",
    "\n",
    "try:\n",
    "    f = FindAnswer(db)\n",
    "    print(f.make_query(intent_name, ner_tags))\n",
    "    answer_text, answer_image = f.search(intent_name, ner_tags)\n",
    "    answer = f.tag_to_word(predicts, answer_text)\n",
    "except:\n",
    "    answer = \"죄송합니다. 무슨 말인지 모르겠습니다!\"\n",
    "    \n",
    "print(f\"답변 = {answer}\")\n",
    "\n",
    "db.close()"
   ]
  },
  {
   "cell_type": "code",
   "execution_count": null,
   "id": "d7ee10b1",
   "metadata": {},
   "outputs": [],
   "source": []
  }
 ],
 "metadata": {
  "kernelspec": {
   "display_name": "Python 3 (ipykernel)",
   "language": "python",
   "name": "python3"
  },
  "language_info": {
   "codemirror_mode": {
    "name": "ipython",
    "version": 3
   },
   "file_extension": ".py",
   "mimetype": "text/x-python",
   "name": "python",
   "nbconvert_exporter": "python",
   "pygments_lexer": "ipython3",
   "version": "3.11.5"
  }
 },
 "nbformat": 4,
 "nbformat_minor": 5
}
