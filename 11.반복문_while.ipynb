{
 "cells": [
  {
   "cell_type": "markdown",
   "id": "687fa56a",
   "metadata": {},
   "source": [
    "# 반복문(while)\n",
    "\n",
    ">1. i = 10       # 초기식\n",
    ">1. while i<=10: # 조건식:\n",
    ">1. pass"
   ]
  },
  {
   "cell_type": "code",
   "execution_count": 3,
   "id": "e667366d",
   "metadata": {},
   "outputs": [
    {
     "name": "stdout",
     "output_type": "stream",
     "text": [
      "1~100까지의 합(for) = 5050\n",
      "1~100까지의 합(while) = 5050\n"
     ]
    }
   ],
   "source": [
    "# 1~100까지합\n",
    "# 1) for\n",
    "sum = 0\n",
    "for i in range(1,101):\n",
    "    sum += i\n",
    "print(f'1~100까지의 합(for) = {sum}')\n",
    "\n",
    "# 2) while\n",
    "sum = 0\n",
    "i = 0\n",
    "while i<=100:\n",
    "    sum += i\n",
    "    i += 1\n",
    "print(f'1~100까지의 합(while) = {sum}')    "
   ]
  },
  {
   "cell_type": "code",
   "execution_count": null,
   "id": "bc60773d",
   "metadata": {},
   "outputs": [],
   "source": [
    "# break and continue\n",
    "# break : 반복문을 탈축, continue : 반복 처음으로 되돌아가기\n",
    "# 1~10에서 홀수인 경우만 출력\n",
    "i = 0\n",
    "while i<10:\n",
    "    i += 1\n",
    "    if i%2 != 0:\n",
    "        print(i, end=' ')\n",
    "    else:\n",
    "        pass\n",
    "print()\n",
    "\n",
    "# 1) break\n",
    "i = 0\n",
    "while i<10:\n",
    "    break\n",
    "    i += 1\n",
    "    if i%2 == 0:\n",
    "        break\n",
    "    else:\n",
    "        pass\n",
    "    print(i)\n",
    "print()\n",
    "\n",
    "# 3) continue\n",
    "i = 0\n",
    "while i<10:\n",
    "    continue\n",
    "# 3) continue\n",
    "i = 0\n",
    "while i<10:\n",
    "    i += 1\n",
    "    if i%2 != 0:\n",
    "        break\n",
    "    else:\n",
    "        pass\n",
    "    print(i)\n",
    "print()"
   ]
  },
  {
   "cell_type": "code",
   "execution_count": 13,
   "id": "ceebf21c",
   "metadata": {},
   "outputs": [
    {
     "name": "stdout",
     "output_type": "stream",
     "text": [
      "커피캔의 재고는 10 현재 커피캔의 재고는 9개 입니다!\n",
      "커피캔의 재고는 9 현재 커피캔의 재고는 8개 입니다!\n",
      "커피캔의 재고는 8 현재 커피캔의 재고는 7개 입니다!\n",
      "커피캔의 재고는 7 현재 커피캔의 재고는 6개 입니다!\n",
      "커피캔의 재고는 6 현재 커피캔의 재고는 5개 입니다!\n",
      "커피캔의 재고는 5 현재 커피캔의 재고는 4개 입니다!\n",
      "커피캔의 재고는 4 현재 커피캔의 재고는 3개 입니다!\n",
      "커피캔의 재고는 3 현재 커피캔의 재고는 2개 입니다!\n",
      "커피캔의 재고는 2 현재 커피캔의 재고는 1개 입니다!\n",
      "커피캔의 재고는 1 현재 커피캔의 재고는 0개 입니다!\n",
      "커피캔 품절!!!, 판매중지!!!\n"
     ]
    }
   ],
   "source": [
    "# 자판기와 유사한 로직 구현하기\n",
    "coffe_can = 10\n",
    "coin = 500\n",
    "\n",
    "while coin==500:\n",
    "    print(f'커피캔의 재고는 {coffe_can}', end=' ')\n",
    "    coffe_can -= 1\n",
    "    print(f'현재 커피캔의 재고는 {coffe_can}개 입니다!')\n",
    "    if not coffe_can:\n",
    "        print(f'커피캔 품절!!!, 판매중지!!!')\n",
    "        break"
   ]
  },
  {
   "cell_type": "markdown",
   "id": "2a4bf35b",
   "metadata": {},
   "source": [
    "##### 연습문제"
   ]
  },
  {
   "cell_type": "code",
   "execution_count": 25,
   "id": "387c00a9",
   "metadata": {},
   "outputs": [
    {
     "name": "stdout",
     "output_type": "stream",
     "text": [
      "1~1000까지 3의 배수합계 = 166833\n"
     ]
    }
   ],
   "source": [
    "# 1. 1~1000까지 3의 배수합계\n",
    "sum = 0\n",
    "i = 0\n",
    "while i<=1000:\n",
    "    i += 1\n",
    "    if i%3!=0: continue\n",
    "    sum += i\n",
    "print(f'1~1000까지 3의 배수합계 = {sum}')"
   ]
  },
  {
   "cell_type": "code",
   "execution_count": 29,
   "id": "c5ed671b",
   "metadata": {},
   "outputs": [
    {
     "name": "stdout",
     "output_type": "stream",
     "text": [
      "성적합 = 482, 평균=48.2\n"
     ]
    }
   ],
   "source": [
    "# 2. list l에서 60점이상의 총합을 구하시오\n",
    "l = [50,65, 55, 70, 40, 80, 59, 85, 90, 92]\n",
    "len(l)\n",
    "\n",
    "sum = 0\n",
    "i = 0\n",
    "while i<len(l):\n",
    "    if l[i] >= 60: sum += l[i]\n",
    "    i += 1    \n",
    "print(f'성적합 = {sum}, 평균={sum/len(l)}')"
   ]
  },
  {
   "cell_type": "code",
   "execution_count": 32,
   "id": "55d963ce",
   "metadata": {},
   "outputs": [
    {
     "name": "stdout",
     "output_type": "stream",
     "text": [
      "별의 갯수를 입력하세요 => 10\n",
      "*\n",
      "**\n",
      "***\n",
      "****\n",
      "*****\n",
      "******\n",
      "*******\n",
      "********\n",
      "*********\n",
      "**********\n"
     ]
    }
   ],
   "source": [
    "# 3. 별표출력하기(1)\n",
    "# *\n",
    "# **\n",
    "# ***\n",
    "# ****\n",
    "# *****\n",
    "i = 0\n",
    "count = int(input('별의 갯수를 입력하세요 => '))\n",
    "while True:\n",
    "    i += 1\n",
    "    if(i>count): break\n",
    "    print('*' * i)"
   ]
  },
  {
   "cell_type": "code",
   "execution_count": 48,
   "id": "0b1d06f0",
   "metadata": {},
   "outputs": [
    {
     "name": "stdout",
     "output_type": "stream",
     "text": [
      "별의 갯수를 입력하세요 => 5\n",
      "    *\n",
      "   ***\n",
      "  *****\n",
      " *******\n",
      "*********\n"
     ]
    }
   ],
   "source": [
    "# 4. 별표출력하기(2)\n",
    "#     *\n",
    "#    ***\n",
    "#   *****\n",
    "#  *******\n",
    "# *********\n",
    "\n",
    "i = 0\n",
    "count = int(input('별의 갯수를 입력하세요 => '))\n",
    "\n",
    "# space = count\n",
    "# i = 0\n",
    "# while i<space:\n",
    "#     i += 1\n",
    "#     print('-'*(space-i) + '*')\n",
    "\n",
    "star = 0\n",
    "space = count\n",
    "i =0\n",
    "while i<space:\n",
    "    i += 1\n",
    "    print(' '* (space-i) + '*' * (star + i * 2 -1))"
   ]
  },
  {
   "cell_type": "code",
   "execution_count": 62,
   "id": "a351b9f7",
   "metadata": {},
   "outputs": [
    {
     "name": "stdout",
     "output_type": "stream",
     "text": [
      "    ★\n",
      "   ★★★\n",
      "  ★★★★★\n",
      " ★★★★★★★\n",
      "★★★★★★★★★\n",
      " ★★★★★★★\n",
      "  ★★★★★\n",
      "   ★★★\n",
      "    ★\n"
     ]
    }
   ],
   "source": [
    "# 5. 별표출력하기(3)\n",
    "#     *\n",
    "#    ***\n",
    "#   *****\n",
    "#  *******\n",
    "# *********\n",
    "#  *******\n",
    "#   *****\n",
    "#    ***\n",
    "#     *\n",
    "\n",
    "# 유니코드의 별문자 \\u2605\n",
    "print('    ' + '\\u2605'*1)\n",
    "print('   ' + '\\u2605'*3)\n",
    "print('  ' + '\\u2605'*5)\n",
    "print(' ' + '\\u2605'*7)\n",
    "print('\\u2605'*9)\n",
    "print(' ' + '\\u2605'*7)\n",
    "print('  ' + '\\u2605'*5)\n",
    "print('   ' + '\\u2605'*3)\n",
    "print('    ' + '\\u2605'*1)"
   ]
  },
  {
   "cell_type": "code",
   "execution_count": 72,
   "id": "b701ed11",
   "metadata": {},
   "outputs": [
    {
     "name": "stdout",
     "output_type": "stream",
     "text": [
      "별의 갯수를 입력하세요 => 9\n",
      "    ★    \n",
      "   ★★★   \n",
      "  ★★★★★  \n",
      " ★★★★★★★ \n",
      "★★★★★★★★★\n",
      " ★★★★★★★ \n",
      "  ★★★★★  \n",
      "   ★★★   \n",
      "    ★    \n"
     ]
    }
   ],
   "source": [
    "# 1) for\n",
    "i = 0\n",
    "count = int(input('별의 갯수를 입력하세요 => '))\n",
    "\n",
    "start, end = int(count/2), int(count/2)  # 별시작과 끝의 index\n",
    "mid = int(count/2)  # 중간값\n",
    "\n",
    "for i in range(0, count):\n",
    "    for j in range(0, count):\n",
    "        if(j>=start and j<=end):\n",
    "            print('\\u2605', end='')\n",
    "        else:\n",
    "            print(' ', end='')\n",
    "\n",
    "    if i<mid: # 윗부분증감하기\n",
    "        start -= 1\n",
    "        end += 1\n",
    "    elif i>=mid: # 아랫부분증감하기\n",
    "        start += 1\n",
    "        end -= 1\n",
    "    print()"
   ]
  },
  {
   "cell_type": "code",
   "execution_count": 77,
   "id": "2ae47a96",
   "metadata": {},
   "outputs": [
    {
     "name": "stdout",
     "output_type": "stream",
     "text": [
      "별의 갯수를 입력하세요 => 9\n",
      "    ★    \n",
      "   ★★★   \n",
      "  ★★★★★  \n",
      " ★★★★★★★ \n",
      "★★★★★★★★★\n",
      " ★★★★★★★ \n",
      "  ★★★★★  \n",
      "   ★★★   \n",
      "    ★    \n"
     ]
    }
   ],
   "source": [
    "# 2) while\n",
    "i, j = 0, 0\n",
    "count = int(input('별의 갯수를 입력하세요 => '))\n",
    "start, end = int(count/2), int(count/2)  # 별시작과 끝의 index\n",
    "mid = int(count/2)  # 중간값\n",
    "\n",
    "while i < count:\n",
    "    j = 0\n",
    "    while j < count:\n",
    "        if(j>=start and j<=end):\n",
    "            print('\\u2605', end='')\n",
    "        else:\n",
    "            print(' ', end='')  \n",
    "        j += 1\n",
    "        \n",
    "    if i<mid: # 윗부분증감하기\n",
    "        start -= 1\n",
    "        end += 1\n",
    "    elif i>=mid: # 아랫부분증감하기\n",
    "        start += 1\n",
    "        end -= 1\n",
    "    print()\n",
    "    \n",
    "    i += 1        "
   ]
  }
 ],
 "metadata": {
  "kernelspec": {
   "display_name": "Python 3 (ipykernel)",
   "language": "python",
   "name": "python3"
  },
  "language_info": {
   "codemirror_mode": {
    "name": "ipython",
    "version": 3
   },
   "file_extension": ".py",
   "mimetype": "text/x-python",
   "name": "python",
   "nbconvert_exporter": "python",
   "pygments_lexer": "ipython3",
   "version": "3.11.5"
  }
 },
 "nbformat": 4,
 "nbformat_minor": 5
}
