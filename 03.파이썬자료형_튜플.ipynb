{
 "cells": [
  {
   "cell_type": "markdown",
   "id": "71e9ddf8",
   "metadata": {},
   "source": [
    "# 튜플(tuple) 자료횽\n",
    "\n",
    "1. 튜플은 수정이 불가능하며 순서가 있는 객체의 집합이다.\n",
    "1. 튜플은 리스트자료형과 비슷하지만 한 번 생성이 되면 값을 변경할 수 없다.\n",
    "1. 즉, list는 수정,삭제,추가가 가능하지만 tuple은 수정,삭제가 불가능하다.\n",
    "1. 수정불가능한 자료형을 `immutable자료형`이라고 한다. 이것이 리스트와 다른점\n",
    "1. list는 대괄호[]로 정의하지만 `tuple 소괄호()`로 선언한다.\n",
    "1. 순서가 있기 때문에 자료에대한 접근은 index로 접근한다.\n",
    "1. tuple은 list와 동일하게 `더하기(+), 반복연산(*)`을 할 수 있다.\n",
    "1. tupple은 파이썬의 모든 자료형의 데이터를 저장할 수 있다.\n",
    "1. `소괄호안에 1개값만 있을 경우 tuple이 아니라 해당요소의 자료형으로 선언`되지만 \n",
    "1. `값이 없거나 한 개의 요소에 컴마(,)로 정의되면 tuple자료형으로 선언`된다.\n",
    "1. 함수에서 값을 리턴할 때 tuple을 이용해서 변수에 값을 일괄로 할당할 수 있다. "
   ]
  },
  {
   "cell_type": "code",
   "execution_count": 6,
   "id": "4849550d",
   "metadata": {},
   "outputs": [
    {
     "name": "stdout",
     "output_type": "stream",
     "text": [
      "['__add__', '__class__', '__class_getitem__', '__contains__', '__delattr__', '__delitem__', '__dir__', '__doc__', '__eq__', '__format__', '__ge__', '__getattribute__', '__getitem__', '__getstate__', '__gt__', '__hash__', '__iadd__', '__imul__', '__init__', '__init_subclass__', '__iter__', '__le__', '__len__', '__lt__', '__mul__', '__ne__', '__new__', '__reduce__', '__reduce_ex__', '__repr__', '__reversed__', '__rmul__', '__setattr__', '__setitem__', '__sizeof__', '__str__', '__subclasshook__', 'append', 'clear', 'copy', 'count', 'extend', 'index', 'insert', 'pop', 'remove', 'reverse', 'sort']\n",
      "\n",
      "['__add__', '__class__', '__class_getitem__', '__contains__', '__delattr__', '__dir__', '__doc__', '__eq__', '__format__', '__ge__', '__getattribute__', '__getitem__', '__getnewargs__', '__getstate__', '__gt__', '__hash__', '__init__', '__init_subclass__', '__iter__', '__le__', '__len__', '__lt__', '__mul__', '__ne__', '__new__', '__reduce__', '__reduce_ex__', '__repr__', '__rmul__', '__setattr__', '__sizeof__', '__str__', '__subclasshook__', 'count', 'index']\n"
     ]
    }
   ],
   "source": [
    "print(dir([]))\n",
    "print()\n",
    "\n",
    "print(dir(()))"
   ]
  },
  {
   "cell_type": "markdown",
   "id": "e6222291",
   "metadata": {},
   "source": [
    "## 1. tuple 선언하기"
   ]
  },
  {
   "cell_type": "code",
   "execution_count": 13,
   "id": "2c483b94",
   "metadata": {},
   "outputs": [
    {
     "name": "stdout",
     "output_type": "stream",
     "text": [
      "() <class 'tuple'>\n",
      "<class 'int'> <class 'str'> <class 'list'>\n",
      "<class 'tuple'> <class 'tuple'>\n",
      "<class 'tuple'> <class 'tuple'>\n",
      "<class 'tuple'> <class 'tuple'>\n"
     ]
    }
   ],
   "source": [
    "# 1. tuple의 초기화 즉, 빈 tuple객체를 선언\n",
    "t = ()\n",
    "print(t, type(t))\n",
    "\n",
    "# 2. 요소가 한개일 경우\n",
    "t1 = (6)   # t1 = 6\n",
    "t2 = ('a') # t2 = 'a'\n",
    "t3 = ([])  # t3 = []\n",
    "print(type(t1), type(t2), type(t3))\n",
    "\n",
    "t4 = (6,)\n",
    "t5 = 6,   # 소괄호없이 ,로 구분되어 선언되는 자료형은 tuple\n",
    "print(type(t4), type(t5))\n",
    "\n",
    "# 3. 여러개의 요소를 선언할 경우\n",
    "t6 = (1,2,3,4,5,)\n",
    "t7 = 1,2,3,4,5\n",
    "print(type(t6), type(t7))\n",
    "\n",
    "# 4. 다양한 자료형을 저장할 수 있다.\n",
    "t8 = (1,2,'a',[4,5], (6,7), print)\n",
    "t9 = 1,2,print,[4,5],(6,7, [1,2,3]),\n",
    "print(type(t8), type(t9))\n",
    "\n",
    "t9?"
   ]
  },
  {
   "cell_type": "markdown",
   "id": "fcee2efd",
   "metadata": {},
   "source": [
    "### 2. tuple자료형 수정하기"
   ]
  },
  {
   "cell_type": "code",
   "execution_count": 17,
   "id": "93a446f1",
   "metadata": {},
   "outputs": [
    {
     "name": "stdout",
     "output_type": "stream",
     "text": [
      "1\n"
     ]
    },
    {
     "ename": "TypeError",
     "evalue": "'tuple' object doesn't support item deletion",
     "output_type": "error",
     "traceback": [
      "\u001b[1;31m---------------------------------------------------------------------------\u001b[0m",
      "\u001b[1;31mTypeError\u001b[0m                                 Traceback (most recent call last)",
      "Cell \u001b[1;32mIn[17], line 5\u001b[0m\n\u001b[0;32m      2\u001b[0m t \u001b[38;5;241m=\u001b[39m \u001b[38;5;241m1\u001b[39m,\u001b[38;5;241m2\u001b[39m,\u001b[38;5;124m'\u001b[39m\u001b[38;5;124ma\u001b[39m\u001b[38;5;124m'\u001b[39m,\u001b[38;5;124m'\u001b[39m\u001b[38;5;124mb\u001b[39m\u001b[38;5;124m'\u001b[39m\n\u001b[0;32m      3\u001b[0m \u001b[38;5;28mprint\u001b[39m(t[\u001b[38;5;241m0\u001b[39m])\n\u001b[1;32m----> 5\u001b[0m \u001b[38;5;28;01mdel\u001b[39;00m t[\u001b[38;5;241m0\u001b[39m]\n",
      "\u001b[1;31mTypeError\u001b[0m: 'tuple' object doesn't support item deletion"
     ]
    }
   ],
   "source": [
    "# 1. 삭제오류\n",
    "t = 1,2,'a','b'\n",
    "print(t[0])\n",
    "\n",
    "# del t[0] #TypeError: 'tuple' object doesn't support item deletion"
   ]
  },
  {
   "cell_type": "code",
   "execution_count": 18,
   "id": "13b0dda4",
   "metadata": {},
   "outputs": [
    {
     "ename": "TypeError",
     "evalue": "'tuple' object does not support item assignment",
     "output_type": "error",
     "traceback": [
      "\u001b[1;31m---------------------------------------------------------------------------\u001b[0m",
      "\u001b[1;31mTypeError\u001b[0m                                 Traceback (most recent call last)",
      "Cell \u001b[1;32mIn[18], line 2\u001b[0m\n\u001b[0;32m      1\u001b[0m \u001b[38;5;66;03m# 2. 수정오류\u001b[39;00m\n\u001b[1;32m----> 2\u001b[0m t[\u001b[38;5;241m0\u001b[39m] \u001b[38;5;241m=\u001b[39m \u001b[38;5;124m'\u001b[39m\u001b[38;5;124mx\u001b[39m\u001b[38;5;124m'\u001b[39m\n",
      "\u001b[1;31mTypeError\u001b[0m: 'tuple' object does not support item assignment"
     ]
    }
   ],
   "source": [
    "# 2. 수정오류\n",
    "t[0] = 'x' # TypeError: 'tuple' object does not support item assignment"
   ]
  },
  {
   "cell_type": "code",
   "execution_count": 19,
   "id": "635fefe7",
   "metadata": {},
   "outputs": [
    {
     "name": "stdout",
     "output_type": "stream",
     "text": [
      "(1, 2, 'a', 'b', 3, 4, 'x', 'y') <class 'tuple'>\n"
     ]
    }
   ],
   "source": [
    "# 3. 연결하기\n",
    "t1 = (1,2,'a','b')\n",
    "t2 = 3,4,'x','y'\n",
    "t0 = t1 + t2\n",
    "print(t0, type(t0))"
   ]
  },
  {
   "cell_type": "code",
   "execution_count": 20,
   "id": "e82e5185",
   "metadata": {},
   "outputs": [
    {
     "name": "stdout",
     "output_type": "stream",
     "text": [
      "(1, 2, 'a', 'b', 3, 4, 'x', 'y', 1, 2, 'a', 'b', 3, 4, 'x', 'y', 1, 2, 'a', 'b', 3, 4, 'x', 'y')\n"
     ]
    }
   ],
   "source": [
    "# 4. 반복하기\n",
    "print(t0*3)"
   ]
  },
  {
   "cell_type": "code",
   "execution_count": 31,
   "id": "6774e338",
   "metadata": {},
   "outputs": [
    {
     "name": "stdout",
     "output_type": "stream",
     "text": [
      "최소값= 2 최대값= 9\n",
      "<class 'int'> <class 'int'>\n",
      "\n",
      "4 3 2 1\n",
      "\n",
      "소향 나얼\n",
      "나얼 소향\n"
     ]
    }
   ],
   "source": [
    "# 5. tuple을 이용한 변수에 일괄로 값을 할당하기\n",
    "# 파이썬에 함수의 선언 def로 선언한다.\n",
    "def minmax(values):\n",
    "    return min(values), max(values)\n",
    "\n",
    "# 1) 복수의 리턴 결과값을 일괄로 할당하기\n",
    "lower, upper = minmax((5,6,7,2,6,7,9))\n",
    "print('최소값=', lower, '최대값=', upper)\n",
    "print(type(lower), type(upper))\n",
    "print()\n",
    "\n",
    "# 2) tuple속에서 tuple을 이용한 일괄할당하기\n",
    "(a, (b, (c, d))) = (4, (3, (2, 1)))\n",
    "print(a,b,c,d)\n",
    "print()\n",
    "\n",
    "# 3) 변수의 선언순서를 이용한 할당\n",
    "x = '소향'\n",
    "y = '나얼'\n",
    "print(x, y)\n",
    "\n",
    "x, y = y, x\n",
    "print(x, y)"
   ]
  },
  {
   "cell_type": "markdown",
   "id": "eae32115",
   "metadata": {},
   "source": [
    "### 4. tuple의 indexing과 slicing"
   ]
  },
  {
   "cell_type": "code",
   "execution_count": 35,
   "id": "014ba504",
   "metadata": {},
   "outputs": [
    {
     "name": "stdout",
     "output_type": "stream",
     "text": [
      "2\n",
      "b\n"
     ]
    }
   ],
   "source": [
    "# 1. indexing\n",
    "t = 1,2,'a','b'\n",
    "# print(t[]) # SyntaxError, 인덱싱일 경우에 인덱스를 선언해야 한다.\n",
    "print(t[1])\n",
    "print(t[-1])"
   ]
  },
  {
   "cell_type": "code",
   "execution_count": 39,
   "id": "47d9fade",
   "metadata": {},
   "outputs": [
    {
     "name": "stdout",
     "output_type": "stream",
     "text": [
      "(1, 2, 'a', 'b')\n",
      "('a', 'b')\n",
      "(2, 'a')\n",
      "(2, 'a')\n"
     ]
    }
   ],
   "source": [
    "# 2. slicing\n",
    "t = (1,2,'a','b')\n",
    "print(t[:])\n",
    "print(t[2:])\n",
    "print(t[1:3])\n",
    "print(t[1:-1])"
   ]
  },
  {
   "cell_type": "markdown",
   "id": "5acd1f9a",
   "metadata": {},
   "source": [
    "### 5. 기타"
   ]
  },
  {
   "cell_type": "code",
   "execution_count": 47,
   "id": "40baebba",
   "metadata": {},
   "outputs": [
    {
     "name": "stdout",
     "output_type": "stream",
     "text": [
      "tuple의 갯수 =  6\n",
      "list의 갯수 =  4\n",
      "1의 갯수 =  2\n",
      "1st 1의 위치 =  0\n",
      "2nd 1의 위치 =  4\n"
     ]
    },
    {
     "ename": "AttributeError",
     "evalue": "'tuple' object has no attribute 'find'",
     "output_type": "error",
     "traceback": [
      "\u001b[1;31m---------------------------------------------------------------------------\u001b[0m",
      "\u001b[1;31mAttributeError\u001b[0m                            Traceback (most recent call last)",
      "Cell \u001b[1;32mIn[47], line 15\u001b[0m\n\u001b[0;32m     12\u001b[0m \u001b[38;5;28mprint\u001b[39m(\u001b[38;5;124m'\u001b[39m\u001b[38;5;124m2nd 1의 위치 = \u001b[39m\u001b[38;5;124m'\u001b[39m, t\u001b[38;5;241m.\u001b[39mindex(\u001b[38;5;241m1\u001b[39m, \u001b[38;5;241m3\u001b[39m))\n\u001b[0;32m     14\u001b[0m \u001b[38;5;66;03m# find()\u001b[39;00m\n\u001b[1;32m---> 15\u001b[0m t\u001b[38;5;241m.\u001b[39mfind()\n",
      "\u001b[1;31mAttributeError\u001b[0m: 'tuple' object has no attribute 'find'"
     ]
    }
   ],
   "source": [
    "# len() : 문자열, list, tuple의 요소갯수\n",
    "t = (1,2,'a','b',1,4)\n",
    "l = [1,2,'a','b']\n",
    "print('tuple의 갯수 = ', len(t))\n",
    "print('list의 갯수 = ', len(l))\n",
    "\n",
    "# count()\n",
    "print('1의 갯수 = ', t.count(1))\n",
    "\n",
    "# index()\n",
    "print('1st 1의 위치 = ', t.index(1))\n",
    "print('2nd 1의 위치 = ', t.index(1, 3))"
   ]
  },
  {
   "cell_type": "markdown",
   "id": "9dea72ed",
   "metadata": {},
   "source": [
    "### 6. for loop"
   ]
  },
  {
   "cell_type": "code",
   "execution_count": 56,
   "id": "57af21df",
   "metadata": {},
   "outputs": [
    {
     "name": "stdout",
     "output_type": "stream",
     "text": [
      "1\n",
      "korea\n",
      "3.5\n",
      "1\n",
      "<built-in function print>\n",
      "\n",
      "1\n",
      "korea\n",
      "3.5\n",
      "1\n",
      "<built-in function print>\n",
      "\n"
     ]
    }
   ],
   "source": [
    "t = (1, 'korea', 3.5, 1, print)\n",
    "l = [1, 'korea', 3.5, 1, print]\n",
    "\n",
    "for i in t:\n",
    "    print(i)\n",
    "print()\n",
    "\n",
    "for i in l:\n",
    "    print(i)\n",
    "print()"
   ]
  },
  {
   "cell_type": "code",
   "execution_count": 60,
   "id": "43a35e4c",
   "metadata": {},
   "outputs": [
    {
     "name": "stdout",
     "output_type": "stream",
     "text": [
      "True\n",
      "True\n",
      "False\n",
      "False\n",
      "True\n"
     ]
    }
   ],
   "source": [
    "print(1 in t)\n",
    "print(1 in l)\n",
    "\n",
    "print('a' in t)\n",
    "print(\"usa\" in [1,2,3,'kor'])\n",
    "print(\"kor\" in [1,2,3,'kor'])"
   ]
  },
  {
   "cell_type": "code",
   "execution_count": 69,
   "id": "d15b225a",
   "metadata": {},
   "outputs": [
    {
     "name": "stdout",
     "output_type": "stream",
     "text": [
      "나이를 입력하세요!!10\n",
      "10 <class 'str'>\n",
      "10 <class 'int'>\n",
      "나이를 입력하세요 ==> 1000\n",
      "1000 <class 'int'>\n"
     ]
    }
   ],
   "source": [
    "# 외부에서 값을 입력받는 함수\n",
    "# input\n",
    "a = input('나이를 입력하세요!!')\n",
    "print(a, type(a))\n",
    "\n",
    "# str을 int로 변환함수\n",
    "b = int(a)\n",
    "print(b, type(b))\n",
    "\n",
    "# \n",
    "c = int(input('나이를 입력하세요 ==> '))\n",
    "print(c, type(c))"
   ]
  },
  {
   "cell_type": "markdown",
   "id": "8165ceb7",
   "metadata": {},
   "source": [
    "### 연습문제\n",
    "\n",
    "<img src=\"./images/03.파이썬자료형_튜플_연습문제_01.jpg\" width=\"500\" height=\"400\"> \n",
    "<img src=\"./images/03.파이썬자료형_튜플_연습문제_02.jpg\" width=\"500\" height=\"400\"> "
   ]
  },
  {
   "cell_type": "code",
   "execution_count": 71,
   "id": "9c5d9b21",
   "metadata": {},
   "outputs": [
    {
     "name": "stdout",
     "output_type": "stream",
     "text": [
      "su의 메모리주소 =  140721171305384\n",
      "dan의 메모리주소 =  2131745218832\n",
      "price의 값 =  4000\n"
     ]
    }
   ],
   "source": [
    "# 연습문제 1\n",
    "su = 5\n",
    "dan = 800\n",
    "price = su * dan\n",
    "print(\"su의 메모리주소 = \", id(su))\n",
    "print(\"dan의 메모리주소 = \", id(dan))\n",
    "print(\"price의 값 = \", price)"
   ]
  },
  {
   "cell_type": "code",
   "execution_count": 72,
   "id": "f44a2c68",
   "metadata": {},
   "outputs": [
    {
     "name": "stdout",
     "output_type": "stream",
     "text": [
      "이차방정식 결과 = 22.6\n"
     ]
    }
   ],
   "source": [
    "# 연습문제 2\n",
    "x = 2\n",
    "y = 2.5 * x ** 2 + 3.3 * x + 6\n",
    "print(f\"이차방정식 결과 = {y}\")"
   ]
  },
  {
   "cell_type": "code",
   "execution_count": 77,
   "id": "fef2b966",
   "metadata": {},
   "outputs": [
    {
     "name": "stdout",
     "output_type": "stream",
     "text": [
      "지방(g)을 입력하세요 ==> 1000\n",
      "탄수화물을 입력하세요 ==> 200\n",
      "단백질을 입력하세요 ==> 300\n",
      "총칼로리는 11000\n",
      "총칼로리 =  11,000 cal\n"
     ]
    }
   ],
   "source": [
    "# 연습문제 3\n",
    "fat = int(input('지방(g)을 입력하세요 ==> '))\n",
    "carbohydrate = int(input('탄수화물을 입력하세요 ==> '))\n",
    "protein = int(input('단백질을 입력하세요 ==> '))\n",
    "totalCalorie = fat * 9 + carbohydrate * 4 + protein * 4\n",
    "\n",
    "print(f'총칼로리는 {totalCalorie}')\n",
    "print('총칼로리 = ', format(totalCalorie, '3,d'), 'cal')"
   ]
  },
  {
   "cell_type": "code",
   "execution_count": 78,
   "id": "1ca5b2b7",
   "metadata": {},
   "outputs": [
    {
     "name": "stdout",
     "output_type": "stream",
     "text": [
      "첫 번째 단어 ==> Korea\n",
      "두 번째 단어 ==> Baseball\n",
      "세 번째 단어 ==> Org\n",
      "============================================================\n",
      "KBO\n"
     ]
    }
   ],
   "source": [
    "# 연습문제 4\n",
    "word1 = input('첫 번째 단어 ==> ')\n",
    "word2 = input('두 번째 단어 ==> ')\n",
    "word3 = input('세 번째 단어 ==> ')\n",
    "\n",
    "abbr = word1[0] + word2[0] + word3[0]\n",
    "print('=' * 60)\n",
    "print(abbr)"
   ]
  },
  {
   "cell_type": "code",
   "execution_count": 80,
   "id": "434c3cfd",
   "metadata": {},
   "outputs": [
    {
     "name": "stdout",
     "output_type": "stream",
     "text": [
      "x = 10\n",
      "y = 5\n",
      "\n",
      "두 수의 합 =  15\n",
      "두 수의 차 =  5\n",
      "두 수의 곱 =  50\n",
      "두 수의 평균 =  7.5\n",
      "큰 수 =  10\n",
      "작은 수 =  5\n"
     ]
    }
   ],
   "source": [
    "# 연습문제 5\n",
    "# 두수의 합, 차, 곱, 평균, 큰수, 작은수를 출력하세요\n",
    "x = int(input('x = '))\n",
    "y = int(input('y = '))\n",
    "print()\n",
    "\n",
    "print(\"두 수의 합 = \", x+y)\n",
    "print(\"두 수의 차 = \", x-y)\n",
    "print(\"두 수의 곱 = \", x*y)\n",
    "print(\"두 수의 평균 = \", (x+y)/2)\n",
    "print(\"큰 수 = \", max(x, y))\n",
    "print(\"작은 수 = \", min(x,y))"
   ]
  },
  {
   "cell_type": "code",
   "execution_count": 81,
   "id": "d21d5c7d",
   "metadata": {},
   "outputs": [
    {
     "name": "stdout",
     "output_type": "stream",
     "text": [
      "반지름 ==> 3.59\n",
      "높이   ==> 2.8\n",
      "원기둥의 부피 = 113.38146162559998\n"
     ]
    }
   ],
   "source": [
    "# 연습문제 6\n",
    "# 원기둥의 부피를 구하시오\n",
    "r = float(input('반지름 ==> '))\n",
    "h = float(input('높이   ==> '))\n",
    "val = 3.14192 * r ** 2 * h\n",
    "print(f'원기둥의 부피 = {val}')"
   ]
  }
 ],
 "metadata": {
  "kernelspec": {
   "display_name": "Python 3 (ipykernel)",
   "language": "python",
   "name": "python3"
  },
  "language_info": {
   "codemirror_mode": {
    "name": "ipython",
    "version": 3
   },
   "file_extension": ".py",
   "mimetype": "text/x-python",
   "name": "python",
   "nbconvert_exporter": "python",
   "pygments_lexer": "ipython3",
   "version": "3.11.5"
  }
 },
 "nbformat": 4,
 "nbformat_minor": 5
}
