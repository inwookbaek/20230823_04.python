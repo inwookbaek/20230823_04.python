{
 "cells": [
  {
   "cell_type": "markdown",
   "id": "c8da2153",
   "metadata": {},
   "source": [
    "# A. 파이썬의 개요\n",
    "\n",
    "## 1. 파이썬의 개요\n",
    "\n",
    "1. 1989.12월에 네덜란드 출신의 개발자 `귀도 반 로섬(Guido Van Rossum)`이 성탄절을 의미있게 보내기위해 취미로 만든 인터프리터 프로그램언어이다.\n",
    "1. 파이썬이라는 이름은 자신이 좋아하는 코미디쇼인 \"몬티 파이썬의 날아다니는 써커스\"에서 따왔다고 한다.\n",
    "1. 파이썬의 사전적의미는 고대 신화에 나오는 '파르나소스산의 동굴에 살던 큰 뱀'이라는 뜻이며 아폴로 신이 파이썬을 퇴치 했다는 이야기도 있다.\n",
    "1. 파이썬이 사용된 대표적인 사례\n",
    "    - 구글 : C++, Java, Python을 사용, 구글의 내부 시스템과 많은 구글의 API들이 파이썬으로 작성\n",
    "    - 유트브\n",
    "    - 드롭박스\n",
    "    - 페이스북\n",
    "    - 인스타그램\n",
    "\n",
    "## 2. 파이썬 라이브러리(패키지)\n",
    "\n",
    "1. Numpy : 수치계산용 라이브러리, https://numpy.org/\n",
    "1. Pandas: 데이터분석용 라이브러리, https://pandas.pydata.org/\n",
    "1. Matplotlib : 시각화(그래프출력용) 라이브러리, https://matplotlib.org/\n",
    "1. 기타 : scipy, sickit-learn, tensorflow, keras 등등...\n",
    "\n",
    "## 3. 파이썬의 특징\n",
    "\n",
    "1. 파이썬은 인간다운 언어이다.\n",
    "1. 파이썬은 문법이 쉬워서 빠르게 배울 수 있다.\n",
    "1. 파이썬은 무료이지만 강력한 언어이다.\n",
    "1. 파이썬은 간결하다.\n",
    "1. 파이썬은 개발속도가 빠르다.\n",
    "\n",
    "## 4. 참고사이트\n",
    "\n",
    "1. 파이썬의 순위 : https://tiobe.com/tiobe-index\n",
    "1. 파이썬의 추세 : https://stackoverflow.blog/2017/09/06/incredible-growth-python/\n",
    "\n",
    "\n",
    "## 5. Jupyter Notebook 단축키\n",
    "\n",
    "1. 셀나누기   : `ctrl + shift + -`\n",
    "1. 셀실행하기 : `ctrl + enter`, `shift + enter`, `alt + enter`\n",
    "1. 주석       : `한줄 주석 ctrl + /`"
   ]
  },
  {
   "cell_type": "markdown",
   "id": "3608421e",
   "metadata": {},
   "source": [
    "# B. 파이썬의 기본문법\n",
    "\n",
    "## 1. 세미콜론\n",
    "\n",
    "* 파이썬은 기본적으로 세미콜론을 붙이지 않는다.\n",
    "* 단, 세미콜론을 붙여도 문법에러는 발생하지 않는다.\n",
    "* 보통 한줄에 여러 구분을 사용할 때 세미콜론으로 구분한다."
   ]
  },
  {
   "cell_type": "code",
   "execution_count": 23,
   "id": "69eeefd3",
   "metadata": {},
   "outputs": [
    {
     "name": "stdout",
     "output_type": "stream",
     "text": [
      "Hello World!!\n",
      "Hello World!!\n"
     ]
    }
   ],
   "source": [
    "print('Hello World!!'); print('Hello World!!')"
   ]
  },
  {
   "cell_type": "markdown",
   "id": "520979d6",
   "metadata": {},
   "source": [
    "## 2. 주석\n",
    "\n",
    "* 주석은 한줄주석은 `#`로 시작하고 여러 줄 주석은 `''' or \"\"\"`으로 시작하고 닫는다.\n",
    "* 파이썬에서는 문자열을 `작은 따옴표(') or 큰 따옴표(\")`를 구분없이 사용한다."
   ]
  },
  {
   "cell_type": "code",
   "execution_count": 34,
   "id": "caefbaea",
   "metadata": {},
   "outputs": [
    {
     "name": "stdout",
     "output_type": "stream",
     "text": [
      "Hello World!!\n",
      "Hello World!!\n"
     ]
    },
    {
     "data": {
      "text/plain": [
       "'\\na = 1 + 2;\\nprint(\"Hello World!!\")\\n'"
      ]
     },
     "execution_count": 34,
     "metadata": {},
     "output_type": "execute_result"
    }
   ],
   "source": [
    "# 문자열은 작은 따옴표, 큰 따옴표 구분없이 사용한다.\n",
    "print('Hello World!!'); print(\"Hello World!!\")\n",
    "\n",
    "# 1) 한 줄 주석\n",
    "# 더하기\n",
    "# 1 + 2\n",
    "# print('Hello World!!');\n",
    "\n",
    "# 2) 여러 줄 주석\n",
    "'''\n",
    "a = 1 + 2;\n",
    "print(\"Hello World!!\")\n",
    "'''\n",
    "\n",
    "\"\"\"\n",
    "a = 1 + 2;\n",
    "print(\"Hello World!!\")\n",
    "\"\"\""
   ]
  },
  {
   "cell_type": "markdown",
   "id": "9c1cca0f",
   "metadata": {},
   "source": [
    "## 3. 들여쓰기\n",
    "><img src=\"./images/01.파이썬자료형_기본형_01.png\" width=\"300\" height=\"200\" />\n",
    "\n",
    "* 파이썬은 공백 2카, 공백 4칸, 탭문자등을 사용해서 블럭을 구분한다. 들여쓰기를 해서\n",
    "* 코딩의 블럭을 구분해도 되지만, `파이썬 코딩스타일 가이드(PEP8)`에서는 공백 4칸으로\n",
    "* 구분하고 있다. 따라서 `블럭을 구분을 하려면 공백 4칸`을 사용하는 것을 관례로 한다.\n",
    "\n",
    "><img src=\"./images/01.파이썬자료형_기본형_02.png\" width=\"300\" height=\"200\" />\n",
    "\n",
    "* 코드블럭은 특정한 동작을 실행하기 위해 코드가 모여 있는 상태를 말하며\n",
    "* 파이썬은 `들여쓰기를 기준으로 코드불럭을 구성`한다.\n",
    "* 단, 같은 블럭은 들여쓰기 칸 수가 같아야 하고 공백과 탭을 썩어서 쓰면 않된다."
   ]
  },
  {
   "cell_type": "code",
   "execution_count": 48,
   "id": "1c59f3d9",
   "metadata": {
    "scrolled": true
   },
   "outputs": [
    {
     "name": "stdout",
     "output_type": "stream",
     "text": [
      "Hello World!!\n",
      "Hello World!!\n"
     ]
    }
   ],
   "source": [
    "if True:\n",
    "    print('Hello World!!')\n",
    "    print('Hello World!!')"
   ]
  },
  {
   "cell_type": "markdown",
   "id": "80091712",
   "metadata": {},
   "source": [
    "# C. 자료형\n",
    "\n",
    "## 1. 숫자형\n",
    "\n",
    "* 파이썬에서는 숫자의 자료형에 따라 결과가 달라질 수 있기때문에 이 부분을 정확하게 구분할 필요가 있다.\n",
    "* 다음과 같이 파이썬에서는 `숫자를 정수형(int)과 실수(float), 복소수(complex)`로 구분한다.\n",
    "\n",
    "><img src=\"./images/01.파이썬자료형_기본형_03_숫자자료형.png\" width=\"300\" height=\"200\" />\n",
    "\n",
    "### 1) int\n",
    "\n",
    "* 정수형(Integer)으로서 양의 정수, 음의 정수 그리고 0으로 정의할 수 있다."
   ]
  },
  {
   "cell_type": "code",
   "execution_count": 58,
   "id": "6b8ff2b6",
   "metadata": {},
   "outputs": [
    {
     "name": "stdout",
     "output_type": "stream",
     "text": [
      "1\n",
      "0\n",
      "-1\n",
      "<class 'int'>\n",
      "<class 'int'>\n",
      "<class 'int'>\n"
     ]
    }
   ],
   "source": [
    "a = 1\n",
    "b = 0\n",
    "c = -1\n",
    "a\n",
    "b\n",
    "c\n",
    "print(a)\n",
    "print(b)\n",
    "print(c)\n",
    "\n",
    "# type() : 자료형확인함수\n",
    "print(type(a))\n",
    "print(type(b))\n",
    "print(type(c))"
   ]
  },
  {
   "cell_type": "code",
   "execution_count": 60,
   "id": "d40aaa0d",
   "metadata": {},
   "outputs": [
    {
     "name": "stdout",
     "output_type": "stream",
     "text": [
      " D 드라이브의 볼륨: Data\n",
      " 볼륨 일련 번호: D818-A4B8\n",
      "\n",
      " d:\\lec\\04.python 디렉터리\n",
      "\n",
      "2023-10-11  오전 11:17    <DIR>          .\n",
      "2023-10-11  오전 11:17    <DIR>          ..\n",
      "2023-10-11  오전 09:37    <DIR>          .ipynb_checkpoints\n",
      "2023-10-11  오전 11:17             9,394 01.파이썬자료형_기본형.ipynb\n",
      "2023-10-04  오후 05:53             1,213 custom.css\n",
      "2023-10-11  오전 11:03    <DIR>          images\n",
      "               2개 파일              10,607 바이트\n",
      "               4개 디렉터리  783,742,132,224 바이트 남음\n"
     ]
    }
   ],
   "source": [
    "# 매직명령어(%) - 파이썬명령이 아니라 Jupyter Notebook에서만 사용가능한 명령어\n",
    "# 1. 현재 디렉토리 목록 출력하기\n",
    "%ls"
   ]
  },
  {
   "cell_type": "code",
   "execution_count": 61,
   "id": "c81b2a1d",
   "metadata": {},
   "outputs": [
    {
     "name": "stdout",
     "output_type": "stream",
     "text": [
      "Variable   Type    Data/Info\n",
      "----------------------------\n",
      "a          int     1\n",
      "b          int     0\n",
      "c          int     -1\n"
     ]
    }
   ],
   "source": [
    "# 2.현재 namespace에서 사용중인 변수나 함수등의 내용출력하기\n",
    "%whos"
   ]
  },
  {
   "cell_type": "code",
   "execution_count": 63,
   "id": "37893ba1",
   "metadata": {},
   "outputs": [
    {
     "name": "stdout",
     "output_type": "stream",
     "text": [
      "1\n",
      "0\n",
      "-1\n",
      "1 0 -1\n"
     ]
    }
   ],
   "source": [
    "# 3. 한줄에 여러구문, 여러 변수를 한번에 출력하기\n",
    "print(a); print(b); print(c); \n",
    "print(a, b, c)"
   ]
  },
  {
   "cell_type": "code",
   "execution_count": 65,
   "id": "03efe3fd",
   "metadata": {},
   "outputs": [
    {
     "name": "stdout",
     "output_type": "stream",
     "text": [
      "<class 'int'>\n"
     ]
    }
   ],
   "source": [
    "# 4. type()함수 : 변수의 자료형확인하기\n",
    "type(a)\n",
    "print(type(a))"
   ]
  },
  {
   "cell_type": "code",
   "execution_count": 69,
   "id": "1449781f",
   "metadata": {},
   "outputs": [
    {
     "name": "stdout",
     "output_type": "stream",
     "text": [
      "==================================\n",
      "============================================================000000000\n"
     ]
    }
   ],
   "source": [
    "# 함수 : 함수명(), print(), type()....\n",
    "print(\"==================================\")\n",
    "\n",
    "# 문자열의 연산은 +(연결), *(반복) \n",
    "print(\"=\" * 60 + '000000000')"
   ]
  },
  {
   "cell_type": "code",
   "execution_count": 73,
   "id": "bc0bfadd",
   "metadata": {},
   "outputs": [
    {
     "name": "stdout",
     "output_type": "stream",
     "text": [
      "<class 'str'>\n",
      "Variable   Type    Data/Info\n",
      "----------------------------\n",
      "a          str     싱글로 정의한 문자열\n",
      "b          int     0\n",
      "c          int     -1\n",
      "Variable   Type    Data/Info\n",
      "----------------------------\n",
      "a          str     더블로 정의한 문자열\n",
      "b          int     0\n",
      "c          int     -1\n"
     ]
    }
   ],
   "source": [
    "a = '싱글로 정의한 문자열'\n",
    "print(type(a))\n",
    "\n",
    "%whos\n",
    "\n",
    "a = \"더블로 정의한 문자열\"\n",
    "%whos"
   ]
  },
  {
   "cell_type": "code",
   "execution_count": 78,
   "id": "a2b19310",
   "metadata": {},
   "outputs": [
    {
     "name": "stdout",
     "output_type": "stream",
     "text": [
      "Variable   Type                          Data/Info\n",
      "--------------------------------------------------\n",
      "a          builtin_function_or_method    <built-in function print>\n",
      "b          int                           0\n",
      "c          int                           -1\n",
      "파이썬 내장함수 : 출력함수!!\n",
      "변수로 지정한 출력함수!!\n"
     ]
    }
   ],
   "source": [
    "a = print\n",
    "%whos\n",
    "print('파이썬 내장함수 : 출력함수!!')\n",
    "a('변수로 지정한 출력함수!!')"
   ]
  },
  {
   "cell_type": "code",
   "execution_count": 82,
   "id": "cf4e8510",
   "metadata": {},
   "outputs": [
    {
     "name": "stdout",
     "output_type": "stream",
     "text": [
      "Variable   Type    Data/Info\n",
      "----------------------------\n",
      "a          int     1\n",
      "b          int     0\n",
      "c          int     -1\n",
      "print      int     1\n",
      "Variable   Type    Data/Info\n",
      "----------------------------\n",
      "a          int     1\n",
      "b          int     0\n",
      "c          int     -1\n",
      "print      int     1\n"
     ]
    },
    {
     "ename": "TypeError",
     "evalue": "'int' object is not callable",
     "output_type": "error",
     "traceback": [
      "\u001b[1;31m---------------------------------------------------------------------------\u001b[0m",
      "\u001b[1;31mTypeError\u001b[0m                                 Traceback (most recent call last)",
      "Cell \u001b[1;32mIn[82], line 7\u001b[0m\n\u001b[0;32m      4\u001b[0m \u001b[38;5;28mprint\u001b[39m \u001b[38;5;241m=\u001b[39m \u001b[38;5;241m1\u001b[39m\n\u001b[0;32m      5\u001b[0m get_ipython()\u001b[38;5;241m.\u001b[39mrun_line_magic(\u001b[38;5;124m'\u001b[39m\u001b[38;5;124mwhos\u001b[39m\u001b[38;5;124m'\u001b[39m, \u001b[38;5;124m'\u001b[39m\u001b[38;5;124m'\u001b[39m)\n\u001b[1;32m----> 7\u001b[0m a(\u001b[38;5;241m1\u001b[39m)\n",
      "\u001b[1;31mTypeError\u001b[0m: 'int' object is not callable"
     ]
    }
   ],
   "source": [
    "a = 1\n",
    "%whos\n",
    "\n",
    "# 아래 명령은 에러는 나지 않지만 내장함수인 print()함수가 print라는 변수로 재정의\n",
    "# 되어 현재 세션동안에는 print는 함수로 사용할 수가 없고 정수인 변수로 사용된다.\n",
    "# print함수를 복원하려면 현재 세션을 닫고 다시 세션을 오픈하면 사용할 수 있다.\n",
    "print = 1\n",
    "%whos\n",
    "\n",
    "a(1)"
   ]
  },
  {
   "cell_type": "markdown",
   "id": "4363ab20",
   "metadata": {},
   "source": [
    "### 2) float\n",
    "\n",
    "* 실수형(Floating-point)으로서 소수점을 가지는 숫자를 정의할 수 있다.\n",
    "* 실수와 정수를 함께 사용하면 표현범위가 넓은 실수로 계산된다.\n",
    "* 즉, 실수가 정수보다 표현범위가 넓기 때문에 실수와 정수의 연산결과는 실수로 처리된다.\n",
    "\n",
    "><img src=\"./images/01.파이썬자료형_기본형_04_숫자자료형.png\" width=\"300\" height=\"200\" />"
   ]
  },
  {
   "cell_type": "code",
   "execution_count": 4,
   "id": "6111e2c4",
   "metadata": {},
   "outputs": [
    {
     "name": "stdout",
     "output_type": "stream",
     "text": [
      "<class 'float'>\n"
     ]
    }
   ],
   "source": [
    "d = 1.2\n",
    "e = -3.14\n",
    "\n",
    "# d?\n",
    "print(type(d))"
   ]
  },
  {
   "cell_type": "code",
   "execution_count": 17,
   "id": "05051b8c",
   "metadata": {},
   "outputs": [
    {
     "name": "stdout",
     "output_type": "stream",
     "text": [
      "7 15\n",
      "7,15\n",
      "7---------15000000000000줄바꿈이 되지 않은 상태\n",
      "7---------15\n",
      "줄바꿈이 된 않은 상태\n",
      "\n",
      "pi의 값은  3.141592 입니다!!\n"
     ]
    }
   ],
   "source": [
    "# 진수처리 : 8진수, 16진수\n",
    "# 8진수 : 0o 또는 0O로 시작\n",
    "# 16진수: 0x 또는 0X로 시작\n",
    "f = 0o7\n",
    "g = 0xf\n",
    "print(f, g)\n",
    "print(f, g, sep=',')\n",
    "print(f, g, sep='---------', end='000000000000')\n",
    "print('줄바꿈이 되지 않은 상태')\n",
    "\n",
    "print(f, g, sep='---------', end='\\n')\n",
    "print('줄바꿈이 된 않은 상태')\n",
    "print()\n",
    "\n",
    "pi = 3.141592\n",
    "print('pi의 값은 ', pi, '입니다!!')"
   ]
  },
  {
   "cell_type": "markdown",
   "id": "6bc29990",
   "metadata": {},
   "source": [
    "### 3) 복소수\n",
    "\n",
    "* 복소수형으로서 복소수를 정의하는 데에 2가지 방법으로 정의할 수 있다.\n",
    "  1. 복소수란? `a+bi`로 나타낼 수 있는 숫자로 `a는 실수부, b는 허수부`로 표현\n",
    "  1. 수학교과서에는 허수단위를 i로 사용하지만 파이썬에서는 `소문자 j or 대문자 J`로 사용한다."
   ]
  },
  {
   "cell_type": "code",
   "execution_count": 20,
   "id": "9c66303f",
   "metadata": {},
   "outputs": [
    {
     "name": "stdout",
     "output_type": "stream",
     "text": [
      "Help on class complex in module builtins:\n",
      "\n",
      "class complex(object)\n",
      " |  complex(real=0, imag=0)\n",
      " |  \n",
      " |  Create a complex number from a real part and an optional imaginary part.\n",
      " |  \n",
      " |  This is equivalent to (real + imag*1j) where imag defaults to 0.\n",
      " |  \n",
      " |  Methods defined here:\n",
      " |  \n",
      " |  __abs__(self, /)\n",
      " |      abs(self)\n",
      " |  \n",
      " |  __add__(self, value, /)\n",
      " |      Return self+value.\n",
      " |  \n",
      " |  __bool__(self, /)\n",
      " |      True if self else False\n",
      " |  \n",
      " |  __complex__(self, /)\n",
      " |      Convert this value to exact type complex.\n",
      " |  \n",
      " |  __eq__(self, value, /)\n",
      " |      Return self==value.\n",
      " |  \n",
      " |  __format__(self, format_spec, /)\n",
      " |      Convert to a string according to format_spec.\n",
      " |  \n",
      " |  __ge__(self, value, /)\n",
      " |      Return self>=value.\n",
      " |  \n",
      " |  __getattribute__(self, name, /)\n",
      " |      Return getattr(self, name).\n",
      " |  \n",
      " |  __getnewargs__(self, /)\n",
      " |  \n",
      " |  __gt__(self, value, /)\n",
      " |      Return self>value.\n",
      " |  \n",
      " |  __hash__(self, /)\n",
      " |      Return hash(self).\n",
      " |  \n",
      " |  __le__(self, value, /)\n",
      " |      Return self<=value.\n",
      " |  \n",
      " |  __lt__(self, value, /)\n",
      " |      Return self<value.\n",
      " |  \n",
      " |  __mul__(self, value, /)\n",
      " |      Return self*value.\n",
      " |  \n",
      " |  __ne__(self, value, /)\n",
      " |      Return self!=value.\n",
      " |  \n",
      " |  __neg__(self, /)\n",
      " |      -self\n",
      " |  \n",
      " |  __pos__(self, /)\n",
      " |      +self\n",
      " |  \n",
      " |  __pow__(self, value, mod=None, /)\n",
      " |      Return pow(self, value, mod).\n",
      " |  \n",
      " |  __radd__(self, value, /)\n",
      " |      Return value+self.\n",
      " |  \n",
      " |  __repr__(self, /)\n",
      " |      Return repr(self).\n",
      " |  \n",
      " |  __rmul__(self, value, /)\n",
      " |      Return value*self.\n",
      " |  \n",
      " |  __rpow__(self, value, mod=None, /)\n",
      " |      Return pow(value, self, mod).\n",
      " |  \n",
      " |  __rsub__(self, value, /)\n",
      " |      Return value-self.\n",
      " |  \n",
      " |  __rtruediv__(self, value, /)\n",
      " |      Return value/self.\n",
      " |  \n",
      " |  __sub__(self, value, /)\n",
      " |      Return self-value.\n",
      " |  \n",
      " |  __truediv__(self, value, /)\n",
      " |      Return self/value.\n",
      " |  \n",
      " |  conjugate(self, /)\n",
      " |      Return the complex conjugate of its argument. (3-4j).conjugate() == 3+4j.\n",
      " |  \n",
      " |  ----------------------------------------------------------------------\n",
      " |  Static methods defined here:\n",
      " |  \n",
      " |  __new__(*args, **kwargs) from builtins.type\n",
      " |      Create and return a new object.  See help(type) for accurate signature.\n",
      " |  \n",
      " |  ----------------------------------------------------------------------\n",
      " |  Data descriptors defined here:\n",
      " |  \n",
      " |  imag\n",
      " |      the imaginary part of a complex number\n",
      " |  \n",
      " |  real\n",
      " |      the real part of a complex number\n",
      "\n"
     ]
    }
   ],
   "source": [
    "# complex(실수부, 허수부)함수 : 복소수를 정의하는 함수\n",
    "complex?\n",
    "help(complex)"
   ]
  },
  {
   "cell_type": "code",
   "execution_count": 23,
   "id": "2f2ef6ff",
   "metadata": {},
   "outputs": [
    {
     "name": "stdout",
     "output_type": "stream",
     "text": [
      "(1+3j) <class 'complex'>\n",
      "Variable   Type       Data/Info\n",
      "-------------------------------\n",
      "a          complex    (1+3j)\n",
      "d          float      1.2\n",
      "e          float      -3.14\n",
      "f          int        7\n",
      "g          int        15\n",
      "pi         float      3.141592\n",
      "1.0 3.0\n"
     ]
    }
   ],
   "source": [
    "a = complex(1, 3)\n",
    "print(a, type(a))\n",
    "%whos\n",
    "\n",
    "# 복소수의 실수부와 허수부를 확인하기 위해서는 복소수의 속성 real, imag를 사용한다\n",
    "print(a.real, a.imag)"
   ]
  },
  {
   "cell_type": "markdown",
   "id": "60793637",
   "metadata": {},
   "source": [
    "### 4) 숫자형을 활용하기 위한 연산자\n",
    "\n",
    "* 숫자에 대한 연산은 `+, -, *, /, **, %, //`연산자를 활둉하여 연산을 수행한다.\n",
    "  1. 사칙연산자 : `+, -, *, /`\n",
    "  1. 제곱연산자 : `**`\n",
    "  1. 나머지연산 : `%`\n",
    "  1. `//` : 나눗셈결과 나머지를 버리는 연산자, 주의할 점은 정수형, 실수형결과가 상이함에 주의할 것"
   ]
  },
  {
   "cell_type": "code",
   "execution_count": 34,
   "id": "3faaa9ec",
   "metadata": {},
   "outputs": [
    {
     "name": "stdout",
     "output_type": "stream",
     "text": [
      "더하기 =  2\n",
      "빼기   =  0\n",
      "곱하기 =  20\n",
      "나누기 =  5.0\n",
      "\n",
      "제곱연산 =  100\n",
      "\n",
      "나머지 연산 =  3\n",
      "몫만 반환하는 연산 =  1\n",
      "몫만 반환하는 연산 =  1.0\n",
      "몫만 반환하는 연산 =  1.0\n",
      "\n",
      "부호연산 =  -1\n",
      "부호연산 =  1\n"
     ]
    }
   ],
   "source": [
    "# 1) 사칙연산\n",
    "print(\"더하기 = \", 1 + 1)\n",
    "print(\"빼기   = \", 1 - 1)\n",
    "print(\"곱하기 = \", 10 * 2)\n",
    "print(\"나누기 = \", 10 / 2)\n",
    "print()\n",
    "\n",
    "# 2) 제곱연산\n",
    "print(\"제곱연산 = \", 10 ** 2)\n",
    "print()\n",
    "# 3) 나머지연산\n",
    "print(\"나머지 연산 = \", 7%4)\n",
    "print(\"몫만 반환하는 연산 = \", 7//4)\n",
    "print(\"몫만 반환하는 연산 = \", 7.0//4.0)\n",
    "print(\"몫만 반환하는 연산 = \", 7.0//4)\n",
    "print()\n",
    "\n",
    "# 4) 부호연산(-, +)\n",
    "x = 1\n",
    "print('부호연산 = ', -x)\n",
    "print('부호연산 = ', +x)"
   ]
  },
  {
   "cell_type": "markdown",
   "id": "4dbe766f",
   "metadata": {},
   "source": [
    "### 5) 숫자형함수\n",
    "\n",
    "* abs() : 절대값\n",
    "* int() : 실수를 정수로 변환\n",
    "* float() : 정수를 실수로 변환\n",
    "* divmod(x, y) : `x%y와 x//y의 결과를 한쌍으로 반환`해 주는 함수\n",
    "* pow(x, y) : `x**y`의 결과를 반환"
   ]
  },
  {
   "cell_type": "code",
   "execution_count": 38,
   "id": "1b908d13",
   "metadata": {},
   "outputs": [
    {
     "name": "stdout",
     "output_type": "stream",
     "text": [
      "Help on int object:\n",
      "\n",
      "class int(object)\n",
      " |  int([x]) -> integer\n",
      " |  int(x, base=10) -> integer\n",
      " |  \n",
      " |  Convert a number or string to an integer, or return 0 if no arguments\n",
      " |  are given.  If x is a number, return x.__int__().  For floating point\n",
      " |  numbers, this truncates towards zero.\n",
      " |  \n",
      " |  If x is not a number or if base is given, then x must be a string,\n",
      " |  bytes, or bytearray instance representing an integer literal in the\n",
      " |  given base.  The literal can be preceded by '+' or '-' and be surrounded\n",
      " |  by whitespace.  The base defaults to 10.  Valid bases are 0 and 2-36.\n",
      " |  Base 0 means to interpret the base from the string as an integer literal.\n",
      " |  >>> int('0b100', base=0)\n",
      " |  4\n",
      " |  \n",
      " |  Built-in subclasses:\n",
      " |      bool\n",
      " |  \n",
      " |  Methods defined here:\n",
      " |  \n",
      " |  __abs__(self, /)\n",
      " |      abs(self)\n",
      " |  \n",
      " |  __add__(self, value, /)\n",
      " |      Return self+value.\n",
      " |  \n",
      " |  __and__(self, value, /)\n",
      " |      Return self&value.\n",
      " |  \n",
      " |  __bool__(self, /)\n",
      " |      True if self else False\n",
      " |  \n",
      " |  __ceil__(...)\n",
      " |      Ceiling of an Integral returns itself.\n",
      " |  \n",
      " |  __divmod__(self, value, /)\n",
      " |      Return divmod(self, value).\n",
      " |  \n",
      " |  __eq__(self, value, /)\n",
      " |      Return self==value.\n",
      " |  \n",
      " |  __float__(self, /)\n",
      " |      float(self)\n",
      " |  \n",
      " |  __floor__(...)\n",
      " |      Flooring an Integral returns itself.\n",
      " |  \n",
      " |  __floordiv__(self, value, /)\n",
      " |      Return self//value.\n",
      " |  \n",
      " |  __format__(self, format_spec, /)\n",
      " |      Default object formatter.\n",
      " |  \n",
      " |  __ge__(self, value, /)\n",
      " |      Return self>=value.\n",
      " |  \n",
      " |  __getattribute__(self, name, /)\n",
      " |      Return getattr(self, name).\n",
      " |  \n",
      " |  __getnewargs__(self, /)\n",
      " |  \n",
      " |  __gt__(self, value, /)\n",
      " |      Return self>value.\n",
      " |  \n",
      " |  __hash__(self, /)\n",
      " |      Return hash(self).\n",
      " |  \n",
      " |  __index__(self, /)\n",
      " |      Return self converted to an integer, if self is suitable for use as an index into a list.\n",
      " |  \n",
      " |  __int__(self, /)\n",
      " |      int(self)\n",
      " |  \n",
      " |  __invert__(self, /)\n",
      " |      ~self\n",
      " |  \n",
      " |  __le__(self, value, /)\n",
      " |      Return self<=value.\n",
      " |  \n",
      " |  __lshift__(self, value, /)\n",
      " |      Return self<<value.\n",
      " |  \n",
      " |  __lt__(self, value, /)\n",
      " |      Return self<value.\n",
      " |  \n",
      " |  __mod__(self, value, /)\n",
      " |      Return self%value.\n",
      " |  \n",
      " |  __mul__(self, value, /)\n",
      " |      Return self*value.\n",
      " |  \n",
      " |  __ne__(self, value, /)\n",
      " |      Return self!=value.\n",
      " |  \n",
      " |  __neg__(self, /)\n",
      " |      -self\n",
      " |  \n",
      " |  __or__(self, value, /)\n",
      " |      Return self|value.\n",
      " |  \n",
      " |  __pos__(self, /)\n",
      " |      +self\n",
      " |  \n",
      " |  __pow__(self, value, mod=None, /)\n",
      " |      Return pow(self, value, mod).\n",
      " |  \n",
      " |  __radd__(self, value, /)\n",
      " |      Return value+self.\n",
      " |  \n",
      " |  __rand__(self, value, /)\n",
      " |      Return value&self.\n",
      " |  \n",
      " |  __rdivmod__(self, value, /)\n",
      " |      Return divmod(value, self).\n",
      " |  \n",
      " |  __repr__(self, /)\n",
      " |      Return repr(self).\n",
      " |  \n",
      " |  __rfloordiv__(self, value, /)\n",
      " |      Return value//self.\n",
      " |  \n",
      " |  __rlshift__(self, value, /)\n",
      " |      Return value<<self.\n",
      " |  \n",
      " |  __rmod__(self, value, /)\n",
      " |      Return value%self.\n",
      " |  \n",
      " |  __rmul__(self, value, /)\n",
      " |      Return value*self.\n",
      " |  \n",
      " |  __ror__(self, value, /)\n",
      " |      Return value|self.\n",
      " |  \n",
      " |  __round__(...)\n",
      " |      Rounding an Integral returns itself.\n",
      " |      \n",
      " |      Rounding with an ndigits argument also returns an integer.\n",
      " |  \n",
      " |  __rpow__(self, value, mod=None, /)\n",
      " |      Return pow(value, self, mod).\n",
      " |  \n",
      " |  __rrshift__(self, value, /)\n",
      " |      Return value>>self.\n",
      " |  \n",
      " |  __rshift__(self, value, /)\n",
      " |      Return self>>value.\n",
      " |  \n",
      " |  __rsub__(self, value, /)\n",
      " |      Return value-self.\n",
      " |  \n",
      " |  __rtruediv__(self, value, /)\n",
      " |      Return value/self.\n",
      " |  \n",
      " |  __rxor__(self, value, /)\n",
      " |      Return value^self.\n",
      " |  \n",
      " |  __sizeof__(self, /)\n",
      " |      Returns size in memory, in bytes.\n",
      " |  \n",
      " |  __sub__(self, value, /)\n",
      " |      Return self-value.\n",
      " |  \n",
      " |  __truediv__(self, value, /)\n",
      " |      Return self/value.\n",
      " |  \n",
      " |  __trunc__(...)\n",
      " |      Truncating an Integral returns itself.\n",
      " |  \n",
      " |  __xor__(self, value, /)\n",
      " |      Return self^value.\n",
      " |  \n",
      " |  as_integer_ratio(self, /)\n",
      " |      Return integer ratio.\n",
      " |      \n",
      " |      Return a pair of integers, whose ratio is exactly equal to the original int\n",
      " |      and with a positive denominator.\n",
      " |      \n",
      " |      >>> (10).as_integer_ratio()\n",
      " |      (10, 1)\n",
      " |      >>> (-10).as_integer_ratio()\n",
      " |      (-10, 1)\n",
      " |      >>> (0).as_integer_ratio()\n",
      " |      (0, 1)\n",
      " |  \n",
      " |  bit_count(self, /)\n",
      " |      Number of ones in the binary representation of the absolute value of self.\n",
      " |      \n",
      " |      Also known as the population count.\n",
      " |      \n",
      " |      >>> bin(13)\n",
      " |      '0b1101'\n",
      " |      >>> (13).bit_count()\n",
      " |      3\n",
      " |  \n",
      " |  bit_length(self, /)\n",
      " |      Number of bits necessary to represent self in binary.\n",
      " |      \n",
      " |      >>> bin(37)\n",
      " |      '0b100101'\n",
      " |      >>> (37).bit_length()\n",
      " |      6\n",
      " |  \n",
      " |  conjugate(...)\n",
      " |      Returns self, the complex conjugate of any int.\n",
      " |  \n",
      " |  to_bytes(self, /, length=1, byteorder='big', *, signed=False)\n",
      " |      Return an array of bytes representing an integer.\n",
      " |      \n",
      " |      length\n",
      " |        Length of bytes object to use.  An OverflowError is raised if the\n",
      " |        integer is not representable with the given number of bytes.  Default\n",
      " |        is length 1.\n",
      " |      byteorder\n",
      " |        The byte order used to represent the integer.  If byteorder is 'big',\n",
      " |        the most significant byte is at the beginning of the byte array.  If\n",
      " |        byteorder is 'little', the most significant byte is at the end of the\n",
      " |        byte array.  To request the native byte order of the host system, use\n",
      " |        `sys.byteorder' as the byte order value.  Default is to use 'big'.\n",
      " |      signed\n",
      " |        Determines whether two's complement is used to represent the integer.\n",
      " |        If signed is False and a negative integer is given, an OverflowError\n",
      " |        is raised.\n",
      " |  \n",
      " |  ----------------------------------------------------------------------\n",
      " |  Class methods defined here:\n",
      " |  \n",
      " |  from_bytes(bytes, byteorder='big', *, signed=False) from builtins.type\n",
      " |      Return the integer represented by the given array of bytes.\n",
      " |      \n",
      " |      bytes\n",
      " |        Holds the array of bytes to convert.  The argument must either\n",
      " |        support the buffer protocol or be an iterable object producing bytes.\n",
      " |        Bytes and bytearray are examples of built-in objects that support the\n",
      " |        buffer protocol.\n",
      " |      byteorder\n",
      " |        The byte order used to represent the integer.  If byteorder is 'big',\n",
      " |        the most significant byte is at the beginning of the byte array.  If\n",
      " |        byteorder is 'little', the most significant byte is at the end of the\n",
      " |        byte array.  To request the native byte order of the host system, use\n",
      " |        `sys.byteorder' as the byte order value.  Default is to use 'big'.\n",
      " |      signed\n",
      " |        Indicates whether two's complement is used to represent the integer.\n",
      " |  \n",
      " |  ----------------------------------------------------------------------\n",
      " |  Static methods defined here:\n",
      " |  \n",
      " |  __new__(*args, **kwargs) from builtins.type\n",
      " |      Create and return a new object.  See help(type) for accurate signature.\n",
      " |  \n",
      " |  ----------------------------------------------------------------------\n",
      " |  Data descriptors defined here:\n",
      " |  \n",
      " |  denominator\n",
      " |      the denominator of a rational number in lowest terms\n",
      " |  \n",
      " |  imag\n",
      " |      the imaginary part of a complex number\n",
      " |  \n",
      " |  numerator\n",
      " |      the numerator of a rational number in lowest terms\n",
      " |  \n",
      " |  real\n",
      " |      the real part of a complex number\n",
      "\n"
     ]
    }
   ],
   "source": [
    "type(f)\n",
    "help(f)\n",
    "f?"
   ]
  },
  {
   "cell_type": "code",
   "execution_count": 43,
   "id": "5ebf3145",
   "metadata": {},
   "outputs": [
    {
     "name": "stdout",
     "output_type": "stream",
     "text": [
      "['__abs__', '__add__', '__and__', '__bool__', '__ceil__', '__class__', '__delattr__', '__dir__', '__divmod__', '__doc__', '__eq__', '__float__', '__floor__', '__floordiv__', '__format__', '__ge__', '__getattribute__', '__getnewargs__', '__getstate__', '__gt__', '__hash__', '__index__', '__init__', '__init_subclass__', '__int__', '__invert__', '__le__', '__lshift__', '__lt__', '__mod__', '__mul__', '__ne__', '__neg__', '__new__', '__or__', '__pos__', '__pow__', '__radd__', '__rand__', '__rdivmod__', '__reduce__', '__reduce_ex__', '__repr__', '__rfloordiv__', '__rlshift__', '__rmod__', '__rmul__', '__ror__', '__round__', '__rpow__', '__rrshift__', '__rshift__', '__rsub__', '__rtruediv__', '__rxor__', '__setattr__', '__sizeof__', '__str__', '__sub__', '__subclasshook__', '__truediv__', '__trunc__', '__xor__', 'as_integer_ratio', 'bit_count', 'bit_length', 'conjugate', 'denominator', 'from_bytes', 'imag', 'numerator', 'real', 'to_bytes']\n"
     ]
    }
   ],
   "source": [
    "# dir()함수\n",
    "# dir?\n",
    "dir(f)\n",
    "print(dir(f))"
   ]
  },
  {
   "cell_type": "code",
   "execution_count": 50,
   "id": "7b3a6196",
   "metadata": {},
   "outputs": [
    {
     "data": {
      "text/plain": [
       "7"
      ]
     },
     "execution_count": 50,
     "metadata": {},
     "output_type": "execute_result"
    }
   ],
   "source": [
    "f.__abs__\n",
    "f.__abs__?\n",
    "f.__abs__() # 호출"
   ]
  },
  {
   "cell_type": "code",
   "execution_count": 55,
   "id": "ad5b257c",
   "metadata": {},
   "outputs": [
    {
     "name": "stdout",
     "output_type": "stream",
     "text": [
      "절대값 =  1\n",
      "정수변환 =  3\n",
      "실수변환 =  3.0\n",
      "몫과 나머지 =  (1, 3)\n",
      "제곱근 =  8\n"
     ]
    }
   ],
   "source": [
    "# 숫자관련함수들...\n",
    "print(\"절대값 = \", abs(-1))\n",
    "print(\"정수변환 = \", int(3.141592))\n",
    "print(\"실수변환 = \", float(3))\n",
    "print(\"몫과 나머지 = \", divmod(7, 4)) # (1, 3) - 집합(set)자료형\n",
    "print(\"제곱근 = \", pow(2, 3))"
   ]
  },
  {
   "cell_type": "markdown",
   "id": "f9a501f6",
   "metadata": {},
   "source": [
    "## 2. 문자형(문자열)\n",
    "\n",
    "* 문자열(String, str)이란 문자의 집합을 의미한다.\n",
    "* 파이썬에서는 문자열을 작은 따옴표, 큰 따옴표 구분없이 정의한다.\n",
    "* 또한, 여러줄로 문자열을 정의할 경우에는 `큰 따롬료 3개를 연속해서 감싸서 정의`한다.\n",
    "\n",
    "### 1) 문자열정의방법"
   ]
  },
  {
   "cell_type": "code",
   "execution_count": 60,
   "id": "d560f78d",
   "metadata": {},
   "outputs": [
    {
     "name": "stdout",
     "output_type": "stream",
     "text": [
      "문자열 정의방법(1) - 작은 따옴표\n",
      "문자열 정의방법(2) - 큰 따옴표\n",
      "문자열 정의방법(3) \n",
      "큰 따옴표 3개 연속 - 여러줄로 정의\n",
      "1\n",
      "2\n",
      "3\n",
      "\n",
      "<class 'str'> <class 'str'> <class 'str'>\n"
     ]
    }
   ],
   "source": [
    "a = '문자열 정의방법(1) - 작은 따옴표'\n",
    "b = \"문자열 정의방법(2) - 큰 따옴표\"\n",
    "c = \"\"\"문자열 정의방법(3) \n",
    "큰 따옴표 3개 연속 - 여러줄로 정의\n",
    "1\n",
    "2\n",
    "3\n",
    "\"\"\"\n",
    "print(a); print(b); print(c)\n",
    "print(type(a), type(b), type(c))"
   ]
  },
  {
   "cell_type": "markdown",
   "id": "650492eb",
   "metadata": {},
   "source": [
    "### 2) 문자열에 작은/큰 따옴표를 혼합해서 정의하는 방법"
   ]
  },
  {
   "cell_type": "code",
   "execution_count": 61,
   "id": "09e18631",
   "metadata": {},
   "outputs": [
    {
     "name": "stdout",
     "output_type": "stream",
     "text": [
      "Python's simple program language\n",
      "Python\"s simple program language\n",
      "Python's simple program language\n",
      "Python\"s simple program language\n"
     ]
    }
   ],
   "source": [
    "a = \"Python's simple program language\"\n",
    "b = 'Python\"s simple program language'\n",
    "c = 'Python\\'s simple program language'\n",
    "d = \"Python\\\"s simple program language\"\n",
    "print(a); print(b); print(c); print(d)"
   ]
  },
  {
   "cell_type": "markdown",
   "id": "d1143baf",
   "metadata": {},
   "source": [
    "<h3>3) 문자열 연산하기</h3>\n",
    "\n",
    "* 파이썬에서는 문자열을 연산할 때 자료형이 틀릴 경우에는 에러가 발생한다."
   ]
  },
  {
   "cell_type": "code",
   "execution_count": 65,
   "id": "a41214d1",
   "metadata": {},
   "outputs": [
    {
     "name": "stdout",
     "output_type": "stream",
     "text": [
      "문자열1 <class 'str'>\n",
      "Python is a simple program language\n"
     ]
    }
   ],
   "source": [
    "# 1. 문자열 연결하기(+)\n",
    "# a = '문자열' + 1; javascript에서는 문자열1로 출력하지만 파이썬에서 연산에러\n",
    "a = '문자열' + '1'\n",
    "print(a, type(a))\n",
    "\n",
    "head = 'Python '\n",
    "tail = 'is a simple program language'\n",
    "print(head + tail)"
   ]
  },
  {
   "cell_type": "code",
   "execution_count": 70,
   "id": "3607c43b",
   "metadata": {},
   "outputs": [
    {
     "name": "stdout",
     "output_type": "stream",
     "text": [
      "Python \n",
      "Python Python Python Python Python Python Python Python Python Python \n",
      "is a simple program languageis a simple program language\n",
      "**************************************************\n"
     ]
    }
   ],
   "source": [
    "# 2. 문자열 반복하기(*)\n",
    "print(head)\n",
    "print(head*10)\n",
    "print(tail*2)\n",
    "print('*'*50)"
   ]
  },
  {
   "cell_type": "markdown",
   "id": "969d7d1e",
   "metadata": {},
   "source": [
    "### 4) 문자열 인덱싱/슬라이싱\n",
    "\n",
    "1. 인덱싱이란? `문자열의 특정위치를 가리키는 것`이다.\n",
    "2. 슬라이싱이란? `문자열의 특정위치의 문자(열)을 추출`하는 것이다.\n",
    "3. 인덱싱의 설정은 `대괄호[]`로 구분한다."
   ]
  },
  {
   "cell_type": "code",
   "execution_count": 81,
   "id": "981d3142",
   "metadata": {},
   "outputs": [
    {
     "name": "stdout",
     "output_type": "stream",
     "text": [
      "안녕하세요 파이썬\n",
      "안\n",
      "썬 = 썬\n",
      "요 = 요\n",
      "\n",
      "안\n",
      "썬\n",
      "썬 = 썬\n",
      "요 = 요\n",
      "\n"
     ]
    },
    {
     "ename": "IndexError",
     "evalue": "string index out of range",
     "output_type": "error",
     "traceback": [
      "\u001b[1;31m---------------------------------------------------------------------------\u001b[0m",
      "\u001b[1;31mIndexError\u001b[0m                                Traceback (most recent call last)",
      "Cell \u001b[1;32mIn[81], line 17\u001b[0m\n\u001b[0;32m     14\u001b[0m \u001b[38;5;28mprint\u001b[39m()\n\u001b[0;32m     16\u001b[0m \u001b[38;5;66;03m# 인덱스의 범위를 벗어날 경우 에러가 발생\u001b[39;00m\n\u001b[1;32m---> 17\u001b[0m \u001b[38;5;28mprint\u001b[39m(a[\u001b[38;5;241m100\u001b[39m])\n",
      "\u001b[1;31mIndexError\u001b[0m: string index out of range"
     ]
    }
   ],
   "source": [
    "# 1. 문자열 인덱싱\n",
    "# 인덱스가 양수일 경우는 앞에서 부터, 음수일 경우에는 뒤에서 부터 인덱싱이 된다.\n",
    "a = \"안녕하세요 파이썬\"\n",
    "print(a)\n",
    "print(a[0])\n",
    "print(a[-1], '=', a[8])\n",
    "print(a[-5], '=', a[4])\n",
    "print()\n",
    "\n",
    "print(\"안녕하세요 파이썬\"[0])\n",
    "print(\"안녕하세요 파이썬\"[-1])\n",
    "print(\"안녕하세요 파이썬\"[-1], \"=\", \"안녕하세요 파이썬\"[8])\n",
    "print(\"안녕하세요 파이썬\"[-5], \"=\", \"안녕하세요 파이썬\"[4])\n",
    "print()\n",
    "\n",
    "# 인덱스의 범위를 벗어날 경우 에러가 발생\n",
    "print(\"안녕하세요 파이썬\"[100]) #IndexError: string index out of range"
   ]
  },
  {
   "cell_type": "code",
   "execution_count": 88,
   "id": "5491029f",
   "metadata": {},
   "outputs": [
    {
     "name": "stdout",
     "output_type": "stream",
     "text": [
      "2023\n",
      "2023\n",
      "2023\n",
      "\n",
      "파이썬\n",
      "파이썬\n"
     ]
    }
   ],
   "source": [
    "# 2. 슬라이싱\n",
    "# 문자열데서 특정의 문자열을 잘라내는 것을 의미한다. 즉, 문자(or 문자열)을\n",
    "# 추출하는 행위\n",
    "\n",
    "a = '20231011파이썬'\n",
    "\n",
    "# 1) 년도추출\n",
    "print(a[0]+a[1]+a[2]+a[3]) # 슬라이싱이 아니라 인덱싱으로 처리\n",
    "\n",
    "# 슬라이싱은 대괄호[start:end-1]의 형식으로 정의\n",
    "print(a[0:4]) # 슬라이싱 a[start:end-1]\n",
    "print(a[:4])\n",
    "print()\n",
    "\n",
    "# 3) 파이썬만 추출\n",
    "print(a[8:])\n",
    "print(a[-3:])"
   ]
  },
  {
   "cell_type": "code",
   "execution_count": 97,
   "id": "740c7411",
   "metadata": {},
   "outputs": [
    {
     "name": "stdout",
     "output_type": "stream",
     "text": [
      "['__add__', '__class__', '__contains__', '__delattr__', '__dir__', '__doc__', '__eq__', '__format__', '__ge__', '__getattribute__', '__getitem__', '__getnewargs__', '__getstate__', '__gt__', '__hash__', '__init__', '__init_subclass__', '__iter__', '__le__', '__len__', '__lt__', '__mod__', '__mul__', '__ne__', '__new__', '__reduce__', '__reduce_ex__', '__repr__', '__rmod__', '__rmul__', '__setattr__', '__sizeof__', '__str__', '__subclasshook__', 'capitalize', 'casefold', 'center', 'count', 'encode', 'endswith', 'expandtabs', 'find', 'format', 'format_map', 'index', 'isalnum', 'isalpha', 'isascii', 'isdecimal', 'isdigit', 'isidentifier', 'islower', 'isnumeric', 'isprintable', 'isspace', 'istitle', 'isupper', 'join', 'ljust', 'lower', 'lstrip', 'maketrans', 'partition', 'removeprefix', 'removesuffix', 'replace', 'rfind', 'rindex', 'rjust', 'rpartition', 'rsplit', 'rstrip', 'split', 'splitlines', 'startswith', 'strip', 'swapcase', 'title', 'translate', 'upper', 'zfill']\n",
      "\n",
      "문자열의 길이 =  11\n",
      "파이썬\n",
      "20231011파이썬 = 20231011파이썬 <> 20231011파이\n"
     ]
    }
   ],
   "source": [
    "# 3. 문자열관련함수\n",
    "print(dir(''))\n",
    "print()\n",
    "\n",
    "# 1) len() : 문자열의 길이를 반환하는 함수\n",
    "print('문자열의 길이 = ', len(a))\n",
    "print(a[8:len(a)])\n",
    "print(a[:], '=', a[:len(a)], '<>', a[:-1])"
   ]
  },
  {
   "cell_type": "code",
   "execution_count": 108,
   "id": "d6b9eb8e",
   "metadata": {},
   "outputs": [
    {
     "name": "stdout",
     "output_type": "stream",
     "text": [
      "2023 년  10 월  11 일\n",
      "파이썬\n",
      "1011\n"
     ]
    }
   ],
   "source": [
    "# 실습1\n",
    "a = '20231011파이썬'\n",
    "\n",
    "# 1) 년월일을 추출해서 년=2023, 월=10, 일=11 출력하기\n",
    "year = a[:4]\n",
    "month = a[4:6]\n",
    "day = a[6:8]\n",
    "print(year,'년 ', month, '월 ', day, \"일\")\n",
    "\n",
    "# 2) 파이썬만 추출\n",
    "print(a[8:])\n",
    "\n",
    "# 3) 월일만추출\n",
    "print(a[4:8])"
   ]
  },
  {
   "cell_type": "markdown",
   "id": "5b8bbcf9",
   "metadata": {},
   "source": [
    "### 5) 문자열바꾸기\n",
    "\n",
    "* 파이썬에서는 문자열과 튜플자료형은 직접 변경이 불가능하다.\n",
    "* 변경할 수 없는 자료형을 `immutable자료형`이라 한다."
   ]
  },
  {
   "cell_type": "code",
   "execution_count": 114,
   "id": "7ea19600",
   "metadata": {},
   "outputs": [
    {
     "name": "stdout",
     "output_type": "stream",
     "text": [
      "P y thon\n",
      "Python\n"
     ]
    }
   ],
   "source": [
    "a = 'Pithon'\n",
    "# a[1] = 'y' # TypeError: 'str' object does not support item assignment\n",
    "\n",
    "# 문자열수정\n",
    "print(a[:1], 'y', a[2:])\n",
    "\n",
    "a = a[:1]+ 'y' + a[2:]\n",
    "print(a)"
   ]
  },
  {
   "cell_type": "markdown",
   "id": "9aa963bb",
   "metadata": {},
   "source": [
    "### 6) 문자열포매팅\n",
    "\n",
    "<table align=\"center\" style=\"width:30%\" border=\"1\">\n",
    "    <caption><h3>문자열포매팅</h3></caption>\n",
    "    <tr>\n",
    "        <td>%s</td>\n",
    "        <td>문자열(String)</td>\n",
    "    </tr>\n",
    "    <tr>\n",
    "        <td>%c</td>\n",
    "        <td>한 개의 문자(Character)</td>\n",
    "    </tr>\n",
    "    <tr>\n",
    "        <td>%d</td>\n",
    "        <td>정수(Integer)</td>\n",
    "    </tr>\n",
    "    <tr>\n",
    "        <td>%f</td>\n",
    "        <td>실수(Float)</td>\n",
    "    </tr>\n",
    "    <tr>\n",
    "        <td>%o</td>\n",
    "        <td>8진수</td>\n",
    "    </tr> \n",
    "    <tr>\n",
    "        <td>%x</td>\n",
    "        <td>16진수</td>\n",
    "    </tr>    \n",
    "    <tr>\n",
    "        <td>%%</td>\n",
    "        <td>퍼센트(%)문자</td>\n",
    "    </tr>    \n",
    "</table>"
   ]
  },
  {
   "cell_type": "code",
   "execution_count": 128,
   "id": "f428b7e2",
   "metadata": {},
   "outputs": [
    {
     "name": "stdout",
     "output_type": "stream",
     "text": [
      "오늘의 날씨는 영상 5도 입니다!\n",
      "오늘의 날씨는 영하 5도 입니다!\n",
      "\n",
      "오늘의 날씨는 영상 5도 입니다!\n",
      "오늘의 날씨는 영하 -5도 입니다!\n",
      "\n",
      "오늘의 날씨는 영하 -5도 입니다!\n",
      "\n",
      "오늘의 날씨는 영하 5도 입니다!\n",
      "오늘의 날씨는 영하 5.000000도 입니다!\n",
      "오늘의 날씨는 영하 5.000000도 입니다!\n"
     ]
    }
   ],
   "source": [
    "# 오늘의 날씨는 -5도입니다!\n",
    "\n",
    "print(\"오늘의 날씨는 영상 5도 입니다!\")\n",
    "print(\"오늘의 날씨는 영하 5도 입니다!\")\n",
    "print()\n",
    "\n",
    "# 1. %d : 숫자형 포매팅\n",
    "degree = 5\n",
    "print(\"오늘의 날씨는 영상 %d도 입니다!\" % degree)\n",
    "degree = -5\n",
    "print(\"오늘의 날씨는 영하 %d도 입니다!\" % degree)\n",
    "print()\n",
    "\n",
    "degree = \"-5\"\n",
    "# print(\"오늘의 날씨는 영하 %d도 입니다!\" % degree) # TypeError\n",
    "print(\"오늘의 날씨는 영하 %s도 입니다!\" % degree)\n",
    "print()\n",
    "\n",
    "print(\"오늘의 날씨는 영하 %d도 입니다!\" % 5.0)\n",
    "print(\"오늘의 날씨는 영하 %f도 입니다!\" % 5)\n",
    "print(\"오늘의 날씨는 영하 %f도 입니다!\" % 5.0)"
   ]
  },
  {
   "cell_type": "code",
   "execution_count": 132,
   "id": "86bf6c01",
   "metadata": {},
   "outputs": [
    {
     "name": "stdout",
     "output_type": "stream",
     "text": [
      "오늘의 날씨는 영상 5도 입니다!\n",
      "오늘의 날씨는 영상 10도 입니다!\n",
      "오늘의 날씨는 영상 10도 입니다!\n"
     ]
    }
   ],
   "source": [
    "# 2. %s: 문자열 포매팅\n",
    "degree = 5\n",
    "print(\"오늘의 날씨는 영상 %s도 입니다!\" % degree)\n",
    "print(\"오늘의 날씨는 영상 %s도 입니다!\" % \"10\")\n",
    "print(\"오늘의 날씨는 영상 %s도 입니다!\" % 10)"
   ]
  },
  {
   "cell_type": "code",
   "execution_count": 134,
   "id": "00683634",
   "metadata": {},
   "outputs": [
    {
     "name": "stdout",
     "output_type": "stream",
     "text": [
      "내 나이는 40살입니다. 공부를 오일 동안 했습니다\n"
     ]
    },
    {
     "ename": "TypeError",
     "evalue": "%d format: a real number is required, not str",
     "output_type": "error",
     "traceback": [
      "\u001b[1;31m---------------------------------------------------------------------------\u001b[0m",
      "\u001b[1;31mTypeError\u001b[0m                                 Traceback (most recent call last)",
      "Cell \u001b[1;32mIn[134], line 5\u001b[0m\n\u001b[0;32m      3\u001b[0m day \u001b[38;5;241m=\u001b[39m \u001b[38;5;124m\"\u001b[39m\u001b[38;5;124m오\u001b[39m\u001b[38;5;124m\"\u001b[39m\n\u001b[0;32m      4\u001b[0m \u001b[38;5;28mprint\u001b[39m(\u001b[38;5;124m\"\u001b[39m\u001b[38;5;124m내 나이는 \u001b[39m\u001b[38;5;132;01m%d\u001b[39;00m\u001b[38;5;124m살입니다. 공부를 \u001b[39m\u001b[38;5;132;01m%s\u001b[39;00m\u001b[38;5;124m일 동안 했습니다\u001b[39m\u001b[38;5;124m\"\u001b[39m \u001b[38;5;241m%\u001b[39m (age, day))\n\u001b[1;32m----> 5\u001b[0m \u001b[38;5;28mprint\u001b[39m(\u001b[38;5;124m\"\u001b[39m\u001b[38;5;124m내 나이는 \u001b[39m\u001b[38;5;132;01m%d\u001b[39;00m\u001b[38;5;124m살입니다. 공부를 \u001b[39m\u001b[38;5;132;01m%s\u001b[39;00m\u001b[38;5;124m일 동안 했습니다\u001b[39m\u001b[38;5;124m\"\u001b[39m \u001b[38;5;241m%\u001b[39m (day, age))\n",
      "\u001b[1;31mTypeError\u001b[0m: %d format: a real number is required, not str"
     ]
    }
   ],
   "source": [
    "# 3. 한 개이상의 값을 포매팅\n",
    "age = 40\n",
    "day = \"오\"\n",
    "print(\"내 나이는 %d살입니다. 공부를 %s일 동안 했습니다\" % (age, day))\n",
    "print(\"내 나이는 %d살입니다. 공부를 %s일 동안 했습니다\" % (day, age)) # TypeError"
   ]
  },
  {
   "cell_type": "markdown",
   "id": "26536b19",
   "metadata": {},
   "source": [
    "### 7) 포맷코드와 숫자와 함께 사용하기"
   ]
  },
  {
   "cell_type": "code",
   "execution_count": 138,
   "id": "0ef94ba3",
   "metadata": {},
   "outputs": [
    {
     "name": "stdout",
     "output_type": "stream",
     "text": [
      "        Hi 10\n",
      "Hi         10\n"
     ]
    }
   ],
   "source": [
    "# 1. 정렬과 공백\n",
    "# %10s 형태로 정의된 경우 정의된 문자열의 크기가 10자리보다 작을 경우에 \n",
    "# 앞의 나머지 공간은 공란으로 채워지고 오른쪽으로 정렬된다.\n",
    "\n",
    "# 오른쪽 정렬\n",
    "a = '%10s' % 'Hi'\n",
    "print(a, len(a))\n",
    "\n",
    "# 왼쪽 정렬\n",
    "a = '%-10s' % 'Hi'\n",
    "print(a, len(a))"
   ]
  },
  {
   "cell_type": "code",
   "execution_count": 139,
   "id": "0d6ef49a",
   "metadata": {},
   "outputs": [
    {
     "name": "stdout",
     "output_type": "stream",
     "text": [
      "3.1416 6\n"
     ]
    }
   ],
   "source": [
    "# 2. 소숫점표현하기\n",
    "a = '%0.4f' % 3.141592\n",
    "print(a, len(a))"
   ]
  },
  {
   "cell_type": "code",
   "execution_count": 150,
   "id": "1e245c1f",
   "metadata": {},
   "outputs": [
    {
     "name": "stdout",
     "output_type": "stream",
     "text": [
      "Help on built-in function format in module builtins:\n",
      "\n",
      "format(value, format_spec='', /)\n",
      "    Return value.__format__(format_spec)\n",
      "    \n",
      "    format_spec defaults to the empty string.\n",
      "    See the Format Specification Mini-Language section of help('FORMATTING') for\n",
      "    details.\n",
      "\n",
      "오늘의 날씨는 10도 입니다\n",
      "오늘의 날씨는 10도 입니다\n",
      "\n"
     ]
    }
   ],
   "source": [
    "# 3. format()함수 사용하기 : 문자열.format()\n",
    "help(format)\n",
    "\n",
    "print('오늘의 날씨는 %d도 입니다' % 10)\n",
    "print('오늘의 날씨는 {0}도 입니다'.format(10))\n",
    "print()"
   ]
  },
  {
   "cell_type": "code",
   "execution_count": 151,
   "id": "83613224",
   "metadata": {},
   "outputs": [
    {
     "name": "stdout",
     "output_type": "stream",
     "text": [
      "제 나이는 10살입니다. 오늘 공부는 다섯시간동안 했습니다!\n",
      "제 나이는 다섯살입니다. 오늘 공부는 10시간동안 했습니다!\n"
     ]
    }
   ],
   "source": [
    "# 4. 2개이상의 값을 가진 format()함수 사용하기\n",
    "age = 10\n",
    "time = \"다섯\"\n",
    "print(\"제 나이는 {0}살입니다. 오늘 공부는 {1}시간동안 했습니다!\"\n",
    "      .format(age, time))\n",
    "print(\"제 나이는 {0}살입니다. 오늘 공부는 {1}시간동안 했습니다!\"\n",
    "      .format(time, age))"
   ]
  },
  {
   "cell_type": "code",
   "execution_count": 152,
   "id": "7cb599e2",
   "metadata": {},
   "outputs": [
    {
     "name": "stdout",
     "output_type": "stream",
     "text": [
      "제 나이는 10살입니다. 오늘 공부는 다섯시간동안 했습니다!\n",
      "제 나이는 10살입니다. 오늘 공부는 다섯시간동안 했습니다!\n",
      "\n",
      "제 나이는 100살입니다. 오늘 공부는 스무시간동안 했습니다!\n",
      "제 나이는 100살입니다. 오늘 공부는 스무시간동안 했습니다!\n"
     ]
    }
   ],
   "source": [
    "# 5. 문자열포맷에 이름을 부여하기\n",
    "print(\"제 나이는 {x}살입니다. 오늘 공부는 {y}시간동안 했습니다!\"\n",
    "      .format(x=age, y=time))\n",
    "print(\"제 나이는 {x}살입니다. 오늘 공부는 {y}시간동안 했습니다!\"\n",
    "      .format(y=time, x=age))\n",
    "print()\n",
    "\n",
    "print(\"제 나이는 {age}살입니다. 오늘 공부는 {time}시간동안 했습니다!\"\n",
    "      .format(age=100, time=\"스무\"))\n",
    "print(\"제 나이는 {age}살입니다. 오늘 공부는 {time}시간동안 했습니다!\"\n",
    "      .format(time=\"스무\", age=100))"
   ]
  },
  {
   "cell_type": "code",
   "execution_count": 167,
   "id": "ac444999",
   "metadata": {},
   "outputs": [
    {
     "name": "stdout",
     "output_type": "stream",
     "text": [
      "Hi         10\n",
      "Hi         10\n",
      "Hi         10\n",
      "\n",
      "        Hi 10\n",
      "        Hi 10\n",
      "\n",
      "    Hi     10\n",
      "\n",
      "Hi........ 10\n",
      "********Hi 10\n",
      "####Hi#### 10\n",
      "\n"
     ]
    }
   ],
   "source": [
    "# 6. format()함수와 정렬하기\n",
    "# 1) 왼쪽정렬\n",
    "a = '%-10s' % 'Hi'\n",
    "print(a, len(a))\n",
    "\n",
    "b = '{0:10}'.format('Hi')\n",
    "print(b, len(b))\n",
    "b = '{0:<10}'.format('Hi')\n",
    "print(b, len(b))\n",
    "print()\n",
    "\n",
    "# 2) 오른쪽 정렬\n",
    "a = '%10s' % 'Hi'\n",
    "print(a, len(a))\n",
    "a = '{0:>10}'.format('Hi')\n",
    "print(a, len(a))\n",
    "print()\n",
    "\n",
    "# 3) 가운데정렬\n",
    "a = '{0:^10}'.format('Hi')\n",
    "print(a, len(a))\n",
    "print()\n",
    "\n",
    "# 4) 공백채우기\n",
    "b = '{0:.<10}'.format('Hi')\n",
    "print(b, len(b))\n",
    "b = '{0:*>10}'.format('Hi')\n",
    "print(b, len(b))\n",
    "b = '{0:#^10}'.format('Hi')\n",
    "print(b, len(b))\n",
    "print()"
   ]
  },
  {
   "cell_type": "code",
   "execution_count": 169,
   "id": "55bea94f",
   "metadata": {},
   "outputs": [
    {
     "name": "stdout",
     "output_type": "stream",
     "text": [
      "  3.141592\n",
      "    3.1416\n"
     ]
    }
   ],
   "source": [
    "# 8. fotmat()함수로 소수점표현하기\n",
    "pi = 3.141592\n",
    "print('{0:10}'.format(pi))\n",
    "print('{0:10.4f}'.format(pi))"
   ]
  },
  {
   "cell_type": "code",
   "execution_count": 171,
   "id": "14d24ee3",
   "metadata": {},
   "outputs": [
    {
     "name": "stdout",
     "output_type": "stream",
     "text": [
      "{ and }\n"
     ]
    }
   ],
   "source": [
    "# 9. 중괄호({})출력하기 : {{값}}\n",
    "# '{ and }'를 표현하려면 중괄호를 연속해서 {{}} 사용한다.\n",
    "f = '{{ and }}'.format()\n",
    "print(f)"
   ]
  },
  {
   "cell_type": "markdown",
   "id": "34498849",
   "metadata": {},
   "source": [
    "### 8) f문자열 포매팅\n",
    "\n",
    "* 파이썬 2.x, 파이썬 3.6버전 미만에서는 사용할 수 없는 기능이다.\n",
    "* 사용하는 방법은 문자열앞에 f접두사를 붙이면 사용할 수 있따. 즉 f'문자열'"
   ]
  },
  {
   "cell_type": "code",
   "execution_count": 173,
   "id": "bb1531c0",
   "metadata": {},
   "outputs": [
    {
     "name": "stdout",
     "output_type": "stream",
     "text": [
      "Python 3.11.5\n"
     ]
    }
   ],
   "source": [
    "!python --version"
   ]
  },
  {
   "cell_type": "code",
   "execution_count": 177,
   "id": "b323ce52",
   "metadata": {},
   "outputs": [
    {
     "name": "stdout",
     "output_type": "stream",
     "text": [
      "내 이름은 소향입니다. 나이는 43입니다!\n",
      "내 이름은 {name}입니다. 나이는 {age}입니다!\n",
      "내 이름은 소향입니다. 나이는 43입니다!\n"
     ]
    }
   ],
   "source": [
    "name = \"소향\"\n",
    "age = 43\n",
    "a = \"내 이름은 {name}입니다. 나이는 {age}입니다!\".format(name=name, age=age)\n",
    "b = \"내 이름은 {name}입니다. 나이는 {age}입니다!\"\n",
    "print(a)\n",
    "print(b)\n",
    "\n",
    "c = f\"내 이름은 {name}입니다. 나이는 {age}입니다!\"\n",
    "print(c)"
   ]
  },
  {
   "cell_type": "code",
   "execution_count": 188,
   "id": "b03e6f51",
   "metadata": {},
   "outputs": [
    {
     "name": "stdout",
     "output_type": "stream",
     "text": [
      "{\"Hi\":<10}\n",
      "Hi********\n",
      "........Hi\n",
      "----Hi----\n",
      "\n",
      "{pi:0.4f}\n",
      "3.1416\n",
      "\n",
      "{ and }\n"
     ]
    }
   ],
   "source": [
    "# 정렬하기\n",
    "print('{\"Hi\":<10}')\n",
    "print(f'{\"Hi\":*<10}')\n",
    "print(f'{\"Hi\":.>10}')\n",
    "print(f'{\"Hi\":-^10}')\n",
    "print()\n",
    "\n",
    "# 소수점\n",
    "pi = 3.141592\n",
    "print('{pi:0.4f}')\n",
    "print(f'{pi:0.4f}')\n",
    "print()\n",
    "\n",
    "# 중괄호 '{ and }'\n",
    "print(f'{{ and }}')"
   ]
  },
  {
   "cell_type": "code",
   "execution_count": 195,
   "id": "2f414100",
   "metadata": {},
   "outputs": [
    {
     "name": "stdout",
     "output_type": "stream",
     "text": [
      "{'name': '홍길동', 'age': 1000} <class 'dict'>\n",
      "['__class__', '__class_getitem__', '__contains__', '__delattr__', '__delitem__', '__dir__', '__doc__', '__eq__', '__format__', '__ge__', '__getattribute__', '__getitem__', '__getstate__', '__gt__', '__hash__', '__init__', '__init_subclass__', '__ior__', '__iter__', '__le__', '__len__', '__lt__', '__ne__', '__new__', '__or__', '__reduce__', '__reduce_ex__', '__repr__', '__reversed__', '__ror__', '__setattr__', '__setitem__', '__sizeof__', '__str__', '__subclasshook__', 'clear', 'copy', 'fromkeys', 'get', 'items', 'keys', 'pop', 'popitem', 'setdefault', 'update', 'values']\n",
      "\n",
      "내 이름은 소향입니다. 나이는 43입니다!\n",
      "내 이름은 홍길동입니다. 나이는 1000입니다!\n"
     ]
    }
   ],
   "source": [
    "# f문자열과 dict(딕셔너리, dictionary)와 사용하기\n",
    "# 파이썬자료형중에 list -> [], dict -> {}로 정의한다.\n",
    "# list는 배열, dict는 map(키와 값을 한쌍)형태의 자료형\n",
    "d = {'name':'홍길동', 'age':1000}\n",
    "print(d, type(d))\n",
    "# d?\n",
    "# help({})\n",
    "print(dir({}))\n",
    "print()\n",
    "\n",
    "print(f\"내 이름은 {name}입니다. 나이는 {age}입니다!\")\n",
    "print(f\"내 이름은 {d['name']}입니다. 나이는 {d['age']}입니다!\")"
   ]
  },
  {
   "cell_type": "markdown",
   "id": "76b34c7d",
   "metadata": {},
   "source": [
    "### 9) 문자열관련함수\n",
    "\n",
    "* count() : 문자열의 갯수\n",
    "* find()  : 특정문자의 위치를 리턴(찾는 문자가 없을 경우 -1을 리턴)\n",
    "* index() : 특정문자의 위치를 리턴(찾는 문자가 없을 경우 에러가 발생)\n",
    "* join()  : 지정된 문자를 문자열(반복자)과 연결\n",
    "* upper() : 소문자를 대문자로\n",
    "* lower() : 대문자를 소문자로\n",
    "* lstrip(): 앞쪽 공백을 제거\n",
    "* rstrip(): 뒤쪽 공백을 제거\n",
    "* strip() : 양쪽 공백을 제거\n",
    "* replace(): 문자열을 변경\n",
    "* split() : 문자열을 자르기(나누기)"
   ]
  },
  {
   "cell_type": "code",
   "execution_count": 196,
   "id": "41437ffd",
   "metadata": {},
   "outputs": [
    {
     "name": "stdout",
     "output_type": "stream",
     "text": [
      "['__add__', '__class__', '__contains__', '__delattr__', '__dir__', '__doc__', '__eq__', '__format__', '__ge__', '__getattribute__', '__getitem__', '__getnewargs__', '__getstate__', '__gt__', '__hash__', '__init__', '__init_subclass__', '__iter__', '__le__', '__len__', '__lt__', '__mod__', '__mul__', '__ne__', '__new__', '__reduce__', '__reduce_ex__', '__repr__', '__rmod__', '__rmul__', '__setattr__', '__sizeof__', '__str__', '__subclasshook__', 'capitalize', 'casefold', 'center', 'count', 'encode', 'endswith', 'expandtabs', 'find', 'format', 'format_map', 'index', 'isalnum', 'isalpha', 'isascii', 'isdecimal', 'isdigit', 'isidentifier', 'islower', 'isnumeric', 'isprintable', 'isspace', 'istitle', 'isupper', 'join', 'ljust', 'lower', 'lstrip', 'maketrans', 'partition', 'removeprefix', 'removesuffix', 'replace', 'rfind', 'rindex', 'rjust', 'rpartition', 'rsplit', 'rstrip', 'split', 'splitlines', 'startswith', 'strip', 'swapcase', 'title', 'translate', 'upper', 'zfill']\n"
     ]
    }
   ],
   "source": [
    "print(dir(''))"
   ]
  },
  {
   "cell_type": "code",
   "execution_count": 205,
   "id": "22d8207e",
   "metadata": {},
   "outputs": [
    {
     "name": "stdout",
     "output_type": "stream",
     "text": [
      "문자 o의 갯수=  3\n",
      "문자 o의 갯수=  3\n",
      "문자 i의 갯수=  2\n",
      "문자 Life의 갯수=  1\n",
      "문자 life의 갯수=  0\n",
      "문자 short의 갯수=  1\n",
      "문자 short의 갯수=  1\n",
      "문자 short의 갯수=  0\n"
     ]
    }
   ],
   "source": [
    "# 1. count\n",
    "# 매개값으로 특정 문자열을 전달해야 한다. 매개값이 없다면 에러발생\n",
    "\n",
    "a = 'Life is too short'\n",
    "print('문자 o의 갯수= ', a.count('o'))\n",
    "print('문자 o의 갯수= ', 'Life is too short'.count('o'))\n",
    "print('문자 i의 갯수= ', a.count('i'))\n",
    "print('문자 Life의 갯수= ', a.count('Life'))\n",
    "print('문자 life의 갯수= ', a.count('life'))\n",
    "print('문자 short의 갯수= ', a.count('short'))\n",
    "print('문자 short의 갯수= ', a[:].count('short'))\n",
    "print('문자 short의 갯수= ', a[:10].count('short'))"
   ]
  },
  {
   "cell_type": "code",
   "execution_count": 207,
   "id": "994b469d",
   "metadata": {},
   "outputs": [
    {
     "name": "stdout",
     "output_type": "stream",
     "text": [
      "문자 a의 위치 =  10\n",
      "문자 l의 위치 =  16\n",
      "문자 .의 위치 =  35\n",
      "문자 x의 위치 =  -1\n"
     ]
    }
   ],
   "source": [
    "# 2. find()\n",
    "# 찾는 문자열이 여러개 일 경우는 맨 처음의 문자열의 위치를 리턴\n",
    "a = 'Python is a simple program language.'\n",
    "print('문자 a의 위치 = ', a.find('a'))\n",
    "print('문자 l의 위치 = ', a.find('l'))\n",
    "print('문자 .의 위치 = ', a.find('.'))\n",
    "print('문자 x의 위치 = ', a.find('x'))"
   ]
  },
  {
   "cell_type": "code",
   "execution_count": 208,
   "id": "f9b4ff20",
   "metadata": {},
   "outputs": [
    {
     "name": "stdout",
     "output_type": "stream",
     "text": [
      "문자 a의 위치 =  10\n",
      "문자 l의 위치 =  16\n",
      "문자 .의 위치 =  35\n"
     ]
    },
    {
     "ename": "ValueError",
     "evalue": "substring not found",
     "output_type": "error",
     "traceback": [
      "\u001b[1;31m---------------------------------------------------------------------------\u001b[0m",
      "\u001b[1;31mValueError\u001b[0m                                Traceback (most recent call last)",
      "Cell \u001b[1;32mIn[208], line 7\u001b[0m\n\u001b[0;32m      5\u001b[0m \u001b[38;5;28mprint\u001b[39m(\u001b[38;5;124m'\u001b[39m\u001b[38;5;124m문자 l의 위치 = \u001b[39m\u001b[38;5;124m'\u001b[39m, a\u001b[38;5;241m.\u001b[39mindex(\u001b[38;5;124m'\u001b[39m\u001b[38;5;124ml\u001b[39m\u001b[38;5;124m'\u001b[39m))\n\u001b[0;32m      6\u001b[0m \u001b[38;5;28mprint\u001b[39m(\u001b[38;5;124m'\u001b[39m\u001b[38;5;124m문자 .의 위치 = \u001b[39m\u001b[38;5;124m'\u001b[39m, a\u001b[38;5;241m.\u001b[39mindex(\u001b[38;5;124m'\u001b[39m\u001b[38;5;124m.\u001b[39m\u001b[38;5;124m'\u001b[39m))\n\u001b[1;32m----> 7\u001b[0m \u001b[38;5;28mprint\u001b[39m(\u001b[38;5;124m'\u001b[39m\u001b[38;5;124m문자 x의 위치 = \u001b[39m\u001b[38;5;124m'\u001b[39m, a\u001b[38;5;241m.\u001b[39mindex(\u001b[38;5;124m'\u001b[39m\u001b[38;5;124mx\u001b[39m\u001b[38;5;124m'\u001b[39m))\n",
      "\u001b[1;31mValueError\u001b[0m: substring not found"
     ]
    }
   ],
   "source": [
    "# 3. index\n",
    "# find와 동일기능, 하지만 찾는 문자열이 없을 경우에는 에러가 발생\n",
    "a = 'Python is a simple program language.'\n",
    "print('문자 a의 위치 = ', a.index('a'))\n",
    "print('문자 l의 위치 = ', a.index('l'))\n",
    "print('문자 .의 위치 = ', a.index('.'))\n",
    "print('문자 x의 위치 = ', a.index('x'))"
   ]
  },
  {
   "cell_type": "code",
   "execution_count": 217,
   "id": "ab54681c",
   "metadata": {},
   "outputs": [
    {
     "name": "stdout",
     "output_type": "stream",
     "text": [
      "abcd a\n",
      "a,b,c,d\n",
      "a,b,c,d\n",
      "a.b.c.d\n",
      "a*b*c*d\n",
      "a/./././././b/./././././c/./././././d\n"
     ]
    }
   ],
   "source": [
    "# 4. join(iterable) : 정의된 문자로 문자열(iterable)을 반환\n",
    "# a.join?\n",
    "print('abcd', 'abcd'[0])\n",
    "print('a,b,c,d')\n",
    "\n",
    "a = ','\n",
    "print(a.join('abcd'))\n",
    "print('.'.join('abcd'))\n",
    "print('*'.join('abcd'))\n",
    "print('/./././././'.join('abcd'))"
   ]
  },
  {
   "cell_type": "code",
   "execution_count": 223,
   "id": "ecd6b87a",
   "metadata": {},
   "outputs": [
    {
     "name": "stdout",
     "output_type": "stream",
     "text": [
      "PYTHON IS A SIMPLE PROGRAM LANGUAGE.\n",
      "python is a simple program language.\n",
      "PYTHON IS A SIMPLE PROGRAM LANGUAGE.\n",
      "python is a simple program language.\n"
     ]
    }
   ],
   "source": [
    "# 5. upper/lower\n",
    "a = 'Python is a simple program language.'\n",
    "print(a.upper())\n",
    "print(a.lower())\n",
    "print(a.lower().upper())\n",
    "print(a.lower().upper().lower())"
   ]
  },
  {
   "cell_type": "code",
   "execution_count": 227,
   "id": "f4c88a6a",
   "metadata": {},
   "outputs": [
    {
     "name": "stdout",
     "output_type": "stream",
     "text": [
      "Hi\n",
      "Hi\n",
      "H i\n"
     ]
    }
   ],
   "source": [
    "# 5. lstrip, rstrip, strip\n",
    "# a.strip?\n",
    "a = '        Hi'\n",
    "b = 'Hi        '\n",
    "c = '    H i    '\n",
    "\n",
    "print(a.lstrip())\n",
    "print(b.rstrip())\n",
    "print(c.strip())"
   ]
  },
  {
   "cell_type": "code",
   "execution_count": 243,
   "id": "d6afb516",
   "metadata": {},
   "outputs": [
    {
     "name": "stdout",
     "output_type": "stream",
     "text": [
      "Python is a simple program language.\n",
      "Pithon is a simple program language.\n",
      "Python is a simple program language.\n",
      "\n",
      "Python #s a s#mple program language.\n",
      "Python @s a s#mple program language.\n",
      "Python @s @ s#mple progr@m language.\n",
      "\n",
      "Java @s @ s#mple progr@m language.\n"
     ]
    }
   ],
   "source": [
    "# 6. replace(old, new, count=-1) \n",
    "# 문자열은 immutable자료형이기 때문에 직접 변경할 수 없다.\n",
    "# 변경된 결과를 저장해야하지만 최종 변경이 된다,\n",
    "# count : -1이면 전부변경, 지정된 숫자일 경우 지정된 숫자만큼 맨 처음부터 변경\n",
    "a = 'Pithon is a simple program language.'\n",
    "# ?a.replace\n",
    "print(a.replace('Pithon', 'Python')) # 결과만 리턴하고 실제값은 변경되지 않는다.\n",
    "print(a)\n",
    "a = a.replace('Pithon', 'Python')\n",
    "print(a)\n",
    "print()\n",
    "\n",
    "# 반복변경\n",
    "a = a.replace('i', '#', -1) # 전부변경\n",
    "print(a)\n",
    "a = a.replace('#', '@', 1) # 맨 처음에 나오는 문자열 1개만 변경\n",
    "print(a)\n",
    "\n",
    "a = a.replace('a', '@', 2) # 맨 처음에 나오는 문자열 2개만 변경\n",
    "print(a)\n",
    "print()\n",
    "\n",
    "a = a.replace('Python', 'Java')\n",
    "print(a)"
   ]
  },
  {
   "cell_type": "code",
   "execution_count": 254,
   "id": "8799db14",
   "metadata": {},
   "outputs": [
    {
     "name": "stdout",
     "output_type": "stream",
     "text": [
      "['Python', 'is', 'a', 'simple', 'program', 'language.']\n",
      "Python is a simple program language.\n",
      "['Python', 'is', 'a', 'simple', 'program', 'language.'] <class 'list'>\n",
      "['Python', 'is', 'a', 'simple', 'program', 'language.']\n",
      "['Python', 'is', 'a simple program language.']\n",
      "\n",
      "['a', 'b', 'c', 'd']\n",
      "['a,b,c,d']\n",
      "['a', 'b', 'c', 'd']\n",
      "['a', 'b', 'c', 'd']\n"
     ]
    }
   ],
   "source": [
    "# 7. split(sep, maxsplit) : 문자열나누기 -> list자료형으로 리턴\n",
    "# ?a.split\n",
    "a = 'Python is a simple program language.'\n",
    "print(a.split())\n",
    "print(a)\n",
    "\n",
    "l = a.split()\n",
    "print(l, type(l))\n",
    "\n",
    "print(a.split(None))\n",
    "print(a.split(None, 2))\n",
    "print()\n",
    "\n",
    "# 구분자\n",
    "a = 'a,b,c,d'\n",
    "print(a.split(','))\n",
    "print(a.split(None))\n",
    "\n",
    "a = 'a:b:c:d'\n",
    "print(a.split(':'))\n",
    "\n",
    "a = 'a::b::c::d'\n",
    "print(a.split('::'))"
   ]
  },
  {
   "cell_type": "code",
   "execution_count": 255,
   "id": "814ebf8e",
   "metadata": {},
   "outputs": [
    {
     "name": "stdout",
     "output_type": "stream",
     "text": [
      "Hello python\n"
     ]
    }
   ],
   "source": [
    "# 8. capitalize() : 첫 문자만 대문자로 변경\n",
    "a = 'hello python'\n",
    "print(a.capitalize())"
   ]
  },
  {
   "cell_type": "markdown",
   "id": "4439ce50",
   "metadata": {},
   "source": [
    "### 연습문제"
   ]
  },
  {
   "cell_type": "code",
   "execution_count": 2,
   "id": "f35a36bf",
   "metadata": {},
   "outputs": [
    {
     "name": "stdout",
     "output_type": "stream",
     "text": [
      "3\n"
     ]
    },
    {
     "data": {
      "text/plain": [
       "'3'"
      ]
     },
     "metadata": {},
     "output_type": "display_data"
    }
   ],
   "source": [
    "# 1. 주민번호에서 성별을 나타내는 숫자 출력하기\n",
    "a = '881120-3234567'\n",
    "print(a[7])\n",
    "display(a[7])"
   ]
  },
  {
   "cell_type": "code",
   "execution_count": 7,
   "id": "d9e159f0",
   "metadata": {},
   "outputs": [
    {
     "name": "stdout",
     "output_type": "stream",
     "text": [
      "12\n",
      "12\n"
     ]
    }
   ],
   "source": [
    "# 2. 문자열찾기 : find()\n",
    "# 변수 a에서 short가 시작된 위치를 출력하기\n",
    "a = 'Life is too short, you need python'\n",
    "print(a.find('short'))\n",
    "print(a.index('short'))"
   ]
  },
  {
   "cell_type": "code",
   "execution_count": 11,
   "id": "be30b60a",
   "metadata": {},
   "outputs": [
    {
     "name": "stdout",
     "output_type": "stream",
     "text": [
      "['a', 'b', 'c', 'd']\n",
      "a#b#c#d\n"
     ]
    }
   ],
   "source": [
    "# 3. 문자열 바꾸기 : split()와 join()\n",
    "# a:b:c:d -> a#b#c#d로 변경\n",
    "a = 'a:b:c:d'\n",
    "b = a.split(':')\n",
    "print(b)\n",
    "\n",
    "c = '#'.join(b)\n",
    "print(c)"
   ]
  },
  {
   "cell_type": "code",
   "execution_count": 12,
   "id": "29e455c4",
   "metadata": {},
   "outputs": [
    {
     "name": "stdout",
     "output_type": "stream",
     "text": [
      "23920000\n"
     ]
    }
   ],
   "source": [
    "# 4. 삼성(samsung)주가 89,000이고 LG주가가 751,000원일경우\n",
    "# 특정 사람이 삼성주식 1000주와 LG주식 20주를 가지고 있을 경우\n",
    "# 주식의 총액을 계산하기\n",
    "# 변수명은 samsung, LG, total로 하기\n",
    "samsung = 89000\n",
    "LG = 751000\n",
    "\n",
    "total = samsung * 100 + LG * 20\n",
    "print(total)"
   ]
  },
  {
   "cell_type": "code",
   "execution_count": 13,
   "id": "920e856b",
   "metadata": {},
   "outputs": [
    {
     "name": "stdout",
     "output_type": "stream",
     "text": [
      "5952000.0\n"
     ]
    }
   ],
   "source": [
    "# 5. 4번문제에서 삼성과 LG의 주가각 각각 5%, 10%하락한 경우에 손실액 구하기\n",
    "loss = (samsung * 0.05 * 1000) + (LG * 0.1 * 20)\n",
    "print(loss)"
   ]
  },
  {
   "cell_type": "code",
   "execution_count": 15,
   "id": "9864e6f4",
   "metadata": {},
   "outputs": [
    {
     "name": "stdout",
     "output_type": "stream",
     "text": [
      "Python\n",
      "Python\n",
      "Python\n",
      "Python\n",
      "Python\n",
      "Python\n",
      "Python\n",
      "Python\n",
      "Python\n",
      "Python\n",
      "\n"
     ]
    }
   ],
   "source": [
    "# 6. Python이란 문자를 10번 출력하기 단, 각 줄을 바꿔서 출력(10줄)\n",
    "print('Python\\n' * 10)"
   ]
  },
  {
   "cell_type": "code",
   "execution_count": 19,
   "id": "c93d9026",
   "metadata": {},
   "outputs": [
    {
     "name": "stdout",
     "output_type": "stream",
     "text": [
      "hi python\n",
      "안녕 python\n"
     ]
    },
    {
     "data": {
      "text/plain": [
       "'hi python'"
      ]
     },
     "execution_count": 19,
     "metadata": {},
     "output_type": "execute_result"
    }
   ],
   "source": [
    "# 7. a라는 변수에 'hello python'일 경우 a값을 'hi python'으로 변경하기\n",
    "a = 'hello python'\n",
    "a = 'hi' + ' python'\n",
    "print(a)\n",
    "\n",
    "print(a.replace('hi', '안녕'))\n",
    "a"
   ]
  },
  {
   "cell_type": "code",
   "execution_count": 20,
   "id": "eb4514b2",
   "metadata": {},
   "outputs": [
    {
     "name": "stdout",
     "output_type": "stream",
     "text": [
      "bcdefa\n"
     ]
    }
   ],
   "source": [
    "# 8. x라는 변수에 'abcdef'일 경우 x의 값을 'bcdefa'로 변경하기\n",
    "x = 'abcdef'\n",
    "x = x[1:] + x[0]\n",
    "print(x)"
   ]
  }
 ],
 "metadata": {
  "kernelspec": {
   "display_name": "Python 3 (ipykernel)",
   "language": "python",
   "name": "python3"
  },
  "language_info": {
   "codemirror_mode": {
    "name": "ipython",
    "version": 3
   },
   "file_extension": ".py",
   "mimetype": "text/x-python",
   "name": "python",
   "nbconvert_exporter": "python",
   "pygments_lexer": "ipython3",
   "version": "3.11.5"
  }
 },
 "nbformat": 4,
 "nbformat_minor": 5
}
