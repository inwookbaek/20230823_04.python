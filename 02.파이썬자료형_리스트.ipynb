{
 "cells": [
  {
   "cell_type": "markdown",
   "id": "76ec9505",
   "metadata": {},
   "source": [
    "# A. 리스트(List) 자료형\n",
    "\n",
    "* 파이썬에서는 리스트 자료형을 만들 떄 `대괄호[]`로 선언하고 그 안에 요소의 값들을 `컴마(,)`로 구분해 준다.\n",
    "* 파이썬에서는 리스트 자료형은 String(문자열, str)만큰 자주 사용하는 자료형이다.\n",
    "\n",
    ">리스트변수명 = [값1,...,값n]\n",
    "\n",
    "## 리스트란?\n",
    "\n",
    "1. 순서가 있는 수정이 가능한 `객체들의 집합`이다.\n",
    "1. 수정, 삭제, 추가가 가능하다.\n",
    "1. list는 `대괄호[]로 선언되, 내부의 원소(요소, 값..)는 컴마(,)로 구분`된다.\n",
    "1. list의 `인덱스는 0부터 시작`한다.\n",
    "1. index의 범위가 벗어나면 에러가 발생한다.\n",
    "1. list에는 파이썬 어떠한 자료형도 값을 저장할 수 있다.\n",
    "1. 즉, 숫자/문자열/함수/튜플/리스트등의 모든 자료형의 값을 요소로 정의할 수 있다.\n",
    "1. list는 `마지막 요소뒤에 컴마(,)가 있어도 에러가 발생하지 않는다`\n",
    "1. 보통은 마지막의 컴마는 생략하지만 편의를 위해서 컴마를 찍기도 한다."
   ]
  },
  {
   "cell_type": "markdown",
   "id": "47b1e717",
   "metadata": {},
   "source": [
    "###### 매직명령어 목록보기\n",
    "\n",
    "<img src=\"./images/00.파이썬설치 및 설정_07_매직명령어(1).PNG\" />\n",
    "<img src=\"./images/00.파이썬설치 및 설정_07_매직명령어(2).PNG\" />"
   ]
  },
  {
   "cell_type": "code",
   "execution_count": 3,
   "id": "57656f0c",
   "metadata": {},
   "outputs": [],
   "source": [
    "%magic # 매직명령어 도움말"
   ]
  },
  {
   "cell_type": "code",
   "execution_count": 4,
   "id": "cdf6dae8",
   "metadata": {},
   "outputs": [
    {
     "data": {
      "application/json": {
       "cell": {
        "!": "OSMagics",
        "HTML": "Other",
        "SVG": "Other",
        "bash": "Other",
        "capture": "ExecutionMagics",
        "cmd": "Other",
        "code_wrap": "ExecutionMagics",
        "debug": "ExecutionMagics",
        "file": "Other",
        "html": "DisplayMagics",
        "javascript": "DisplayMagics",
        "js": "DisplayMagics",
        "latex": "DisplayMagics",
        "markdown": "DisplayMagics",
        "perl": "Other",
        "prun": "ExecutionMagics",
        "pypy": "Other",
        "python": "Other",
        "python2": "Other",
        "python3": "Other",
        "ruby": "Other",
        "script": "ScriptMagics",
        "sh": "Other",
        "svg": "DisplayMagics",
        "sx": "OSMagics",
        "system": "OSMagics",
        "time": "ExecutionMagics",
        "timeit": "ExecutionMagics",
        "writefile": "OSMagics"
       },
       "line": {
        "alias": "OSMagics",
        "alias_magic": "BasicMagics",
        "autoawait": "AsyncMagics",
        "autocall": "AutoMagics",
        "automagic": "AutoMagics",
        "autosave": "KernelMagics",
        "bookmark": "OSMagics",
        "cd": "OSMagics",
        "clear": "KernelMagics",
        "cls": "KernelMagics",
        "code_wrap": "ExecutionMagics",
        "colors": "BasicMagics",
        "conda": "PackagingMagics",
        "config": "ConfigMagics",
        "connect_info": "KernelMagics",
        "copy": "Other",
        "ddir": "Other",
        "debug": "ExecutionMagics",
        "dhist": "OSMagics",
        "dirs": "OSMagics",
        "doctest_mode": "BasicMagics",
        "echo": "Other",
        "ed": "Other",
        "edit": "KernelMagics",
        "env": "OSMagics",
        "gui": "BasicMagics",
        "hist": "Other",
        "history": "HistoryMagics",
        "killbgscripts": "ScriptMagics",
        "ldir": "Other",
        "less": "KernelMagics",
        "load": "CodeMagics",
        "load_ext": "ExtensionMagics",
        "loadpy": "CodeMagics",
        "logoff": "LoggingMagics",
        "logon": "LoggingMagics",
        "logstart": "LoggingMagics",
        "logstate": "LoggingMagics",
        "logstop": "LoggingMagics",
        "ls": "Other",
        "lsmagic": "BasicMagics",
        "macro": "ExecutionMagics",
        "magic": "BasicMagics",
        "matplotlib": "PylabMagics",
        "mkdir": "Other",
        "more": "KernelMagics",
        "notebook": "BasicMagics",
        "page": "BasicMagics",
        "pastebin": "CodeMagics",
        "pdb": "ExecutionMagics",
        "pdef": "NamespaceMagics",
        "pdoc": "NamespaceMagics",
        "pfile": "NamespaceMagics",
        "pinfo": "NamespaceMagics",
        "pinfo2": "NamespaceMagics",
        "pip": "PackagingMagics",
        "popd": "OSMagics",
        "pprint": "BasicMagics",
        "precision": "BasicMagics",
        "prun": "ExecutionMagics",
        "psearch": "NamespaceMagics",
        "psource": "NamespaceMagics",
        "pushd": "OSMagics",
        "pwd": "OSMagics",
        "pycat": "OSMagics",
        "pylab": "PylabMagics",
        "qtconsole": "KernelMagics",
        "quickref": "BasicMagics",
        "recall": "HistoryMagics",
        "rehashx": "OSMagics",
        "reload_ext": "ExtensionMagics",
        "ren": "Other",
        "rep": "Other",
        "rerun": "HistoryMagics",
        "reset": "NamespaceMagics",
        "reset_selective": "NamespaceMagics",
        "rmdir": "Other",
        "run": "ExecutionMagics",
        "save": "CodeMagics",
        "sc": "OSMagics",
        "set_env": "OSMagics",
        "store": "StoreMagics",
        "sx": "OSMagics",
        "system": "OSMagics",
        "tb": "ExecutionMagics",
        "time": "ExecutionMagics",
        "timeit": "ExecutionMagics",
        "unalias": "OSMagics",
        "unload_ext": "ExtensionMagics",
        "who": "NamespaceMagics",
        "who_ls": "NamespaceMagics",
        "whos": "NamespaceMagics",
        "xdel": "NamespaceMagics",
        "xmode": "BasicMagics"
       }
      },
      "text/plain": [
       "Available line magics:\n",
       "%alias  %alias_magic  %autoawait  %autocall  %automagic  %autosave  %bookmark  %cd  %clear  %cls  %code_wrap  %colors  %conda  %config  %connect_info  %copy  %ddir  %debug  %dhist  %dirs  %doctest_mode  %echo  %ed  %edit  %env  %gui  %hist  %history  %killbgscripts  %ldir  %less  %load  %load_ext  %loadpy  %logoff  %logon  %logstart  %logstate  %logstop  %ls  %lsmagic  %macro  %magic  %matplotlib  %mkdir  %more  %notebook  %page  %pastebin  %pdb  %pdef  %pdoc  %pfile  %pinfo  %pinfo2  %pip  %popd  %pprint  %precision  %prun  %psearch  %psource  %pushd  %pwd  %pycat  %pylab  %qtconsole  %quickref  %recall  %rehashx  %reload_ext  %ren  %rep  %rerun  %reset  %reset_selective  %rmdir  %run  %save  %sc  %set_env  %store  %sx  %system  %tb  %time  %timeit  %unalias  %unload_ext  %who  %who_ls  %whos  %xdel  %xmode\n",
       "\n",
       "Available cell magics:\n",
       "%%!  %%HTML  %%SVG  %%bash  %%capture  %%cmd  %%code_wrap  %%debug  %%file  %%html  %%javascript  %%js  %%latex  %%markdown  %%perl  %%prun  %%pypy  %%python  %%python2  %%python3  %%ruby  %%script  %%sh  %%svg  %%sx  %%system  %%time  %%timeit  %%writefile\n",
       "\n",
       "Automagic is ON, % prefix IS NOT needed for line magics."
      ]
     },
     "execution_count": 4,
     "metadata": {},
     "output_type": "execute_result"
    }
   ],
   "source": [
    "%lsmagic # 매직명령어목록"
   ]
  },
  {
   "cell_type": "code",
   "execution_count": 14,
   "id": "f8294e99",
   "metadata": {},
   "outputs": [
    {
     "name": "stdout",
     "output_type": "stream",
     "text": [
      "[] <class 'list'>\n",
      "['__add__', '__class__', '__class_getitem__', '__contains__', '__delattr__', '__delitem__', '__dir__', '__doc__', '__eq__', '__format__', '__ge__', '__getattribute__', '__getitem__', '__getstate__', '__gt__', '__hash__', '__iadd__', '__imul__', '__init__', '__init_subclass__', '__iter__', '__le__', '__len__', '__lt__', '__mul__', '__ne__', '__new__', '__reduce__', '__reduce_ex__', '__repr__', '__reversed__', '__rmul__', '__setattr__', '__setitem__', '__sizeof__', '__str__', '__subclasshook__', 'append', 'clear', 'copy', 'count', 'extend', 'index', 'insert', 'pop', 'remove', 'reverse', 'sort']\n",
      "Help on list object:\n",
      "\n",
      "class list(object)\n",
      " |  list(iterable=(), /)\n",
      " |  \n",
      " |  Built-in mutable sequence.\n",
      " |  \n",
      " |  If no argument is given, the constructor creates a new empty list.\n",
      " |  The argument must be an iterable if specified.\n",
      " |  \n",
      " |  Methods defined here:\n",
      " |  \n",
      " |  __add__(self, value, /)\n",
      " |      Return self+value.\n",
      " |  \n",
      " |  __contains__(self, key, /)\n",
      " |      Return key in self.\n",
      " |  \n",
      " |  __delitem__(self, key, /)\n",
      " |      Delete self[key].\n",
      " |  \n",
      " |  __eq__(self, value, /)\n",
      " |      Return self==value.\n",
      " |  \n",
      " |  __ge__(self, value, /)\n",
      " |      Return self>=value.\n",
      " |  \n",
      " |  __getattribute__(self, name, /)\n",
      " |      Return getattr(self, name).\n",
      " |  \n",
      " |  __getitem__(...)\n",
      " |      x.__getitem__(y) <==> x[y]\n",
      " |  \n",
      " |  __gt__(self, value, /)\n",
      " |      Return self>value.\n",
      " |  \n",
      " |  __iadd__(self, value, /)\n",
      " |      Implement self+=value.\n",
      " |  \n",
      " |  __imul__(self, value, /)\n",
      " |      Implement self*=value.\n",
      " |  \n",
      " |  __init__(self, /, *args, **kwargs)\n",
      " |      Initialize self.  See help(type(self)) for accurate signature.\n",
      " |  \n",
      " |  __iter__(self, /)\n",
      " |      Implement iter(self).\n",
      " |  \n",
      " |  __le__(self, value, /)\n",
      " |      Return self<=value.\n",
      " |  \n",
      " |  __len__(self, /)\n",
      " |      Return len(self).\n",
      " |  \n",
      " |  __lt__(self, value, /)\n",
      " |      Return self<value.\n",
      " |  \n",
      " |  __mul__(self, value, /)\n",
      " |      Return self*value.\n",
      " |  \n",
      " |  __ne__(self, value, /)\n",
      " |      Return self!=value.\n",
      " |  \n",
      " |  __repr__(self, /)\n",
      " |      Return repr(self).\n",
      " |  \n",
      " |  __reversed__(self, /)\n",
      " |      Return a reverse iterator over the list.\n",
      " |  \n",
      " |  __rmul__(self, value, /)\n",
      " |      Return value*self.\n",
      " |  \n",
      " |  __setitem__(self, key, value, /)\n",
      " |      Set self[key] to value.\n",
      " |  \n",
      " |  __sizeof__(self, /)\n",
      " |      Return the size of the list in memory, in bytes.\n",
      " |  \n",
      " |  append(self, object, /)\n",
      " |      Append object to the end of the list.\n",
      " |  \n",
      " |  clear(self, /)\n",
      " |      Remove all items from list.\n",
      " |  \n",
      " |  copy(self, /)\n",
      " |      Return a shallow copy of the list.\n",
      " |  \n",
      " |  count(self, value, /)\n",
      " |      Return number of occurrences of value.\n",
      " |  \n",
      " |  extend(self, iterable, /)\n",
      " |      Extend list by appending elements from the iterable.\n",
      " |  \n",
      " |  index(self, value, start=0, stop=9223372036854775807, /)\n",
      " |      Return first index of value.\n",
      " |      \n",
      " |      Raises ValueError if the value is not present.\n",
      " |  \n",
      " |  insert(self, index, object, /)\n",
      " |      Insert object before index.\n",
      " |  \n",
      " |  pop(self, index=-1, /)\n",
      " |      Remove and return item at index (default last).\n",
      " |      \n",
      " |      Raises IndexError if list is empty or index is out of range.\n",
      " |  \n",
      " |  remove(self, value, /)\n",
      " |      Remove first occurrence of value.\n",
      " |      \n",
      " |      Raises ValueError if the value is not present.\n",
      " |  \n",
      " |  reverse(self, /)\n",
      " |      Reverse *IN PLACE*.\n",
      " |  \n",
      " |  sort(self, /, *, key=None, reverse=False)\n",
      " |      Sort the list in ascending order and return None.\n",
      " |      \n",
      " |      The sort is in-place (i.e. the list itself is modified) and stable (i.e. the\n",
      " |      order of two equal elements is maintained).\n",
      " |      \n",
      " |      If a key function is given, apply it once to each list item and sort them,\n",
      " |      ascending or descending, according to their function values.\n",
      " |      \n",
      " |      The reverse flag can be set to sort in descending order.\n",
      " |  \n",
      " |  ----------------------------------------------------------------------\n",
      " |  Class methods defined here:\n",
      " |  \n",
      " |  __class_getitem__(...) from builtins.type\n",
      " |      See PEP 585\n",
      " |  \n",
      " |  ----------------------------------------------------------------------\n",
      " |  Static methods defined here:\n",
      " |  \n",
      " |  __new__(*args, **kwargs) from builtins.type\n",
      " |      Create and return a new object.  See help(type) for accurate signature.\n",
      " |  \n",
      " |  ----------------------------------------------------------------------\n",
      " |  Data and other attributes defined here:\n",
      " |  \n",
      " |  __hash__ = None\n",
      "\n"
     ]
    }
   ],
   "source": [
    "# 빈 리스트객체를 정의 \n",
    "a = [] # 빈리스트\n",
    "?a\n",
    "print(a, type(a))\n",
    "print(dir([]))\n",
    "\n",
    "# 변수의 자료형/메서등을 확인하는 방법\n",
    "# 1. 변수명? or ?변수명\n",
    "# 2. type()함수 이용\n",
    "# 3. help()함수 이용\n",
    "# 4. dir()함수 이용\n",
    "help([])"
   ]
  },
  {
   "cell_type": "code",
   "execution_count": 16,
   "id": "b852cfe7",
   "metadata": {},
   "outputs": [
    {
     "name": "stdout",
     "output_type": "stream",
     "text": [
      "[],[1, 2, 3],['a', 'b', 'ccc'],[1, 'a', [1, 2]],[1, 2, 'a', [1, 2, ['a', 'b']], <built-in function print>]\n"
     ]
    }
   ],
   "source": [
    "# 리스객체를 선언하기\n",
    "a = [] # 빈 객체선언\n",
    "b = [1,2,3] # 3개의 숫자형 요소를 갖는 리스트객체 선언\n",
    "c = ['a', 'b', 'ccc'] # 3개의 문자형 요소를 갖는 리스트객체 선언\n",
    "d = [1, 'a', [1,2]] # 파이썬에서는 자료형에대한 구분없이 요소값을 저장할 수 있다.\n",
    "e = [1,2,'a',[1,2,['a', 'b']], print] # 리스트의 값은 어떠한 자료형도 저장가능\n",
    "print(a, b, c, d, e, sep=',')"
   ]
  },
  {
   "cell_type": "code",
   "execution_count": 25,
   "id": "0be5f6fd",
   "metadata": {},
   "outputs": [
    {
     "name": "stdout",
     "output_type": "stream",
     "text": [
      "x는 print함수...\n",
      "1\n",
      "[1, 2, ['a', 'b']] <class 'list'>\n",
      "['a', 'b'] <class 'list'>\n",
      "<built-in function print> <class 'builtin_function_or_method'>\n",
      "e[4]도 print함수...\n"
     ]
    }
   ],
   "source": [
    "x = print\n",
    "x('x는 print함수...')\n",
    "print(e[0])\n",
    "print(e[3], type(e[3]))\n",
    "print(e[3][2], type(e[3][2]))\n",
    "print(e[4], type(e[4]))\n",
    "\n",
    "e[4]('e[4]도 print함수...')"
   ]
  },
  {
   "cell_type": "markdown",
   "id": "e9127e17",
   "metadata": {},
   "source": [
    "## 1. 리스트의 인덱싱과 슬라이싱"
   ]
  },
  {
   "cell_type": "code",
   "execution_count": 36,
   "id": "ea952611",
   "metadata": {},
   "outputs": [
    {
     "name": "stdout",
     "output_type": "stream",
     "text": [
      "1 2 3 a [4, 5] <built-in function print>\n",
      "<class 'int'> <class 'int'> <class 'int'> <class 'str'> <class 'list'> <class 'builtin_function_or_method'>\n"
     ]
    }
   ],
   "source": [
    "# 1. 인덱싱\n",
    "# 인덱스는 파이썬에서는 양수/음수값도 허용한다.\n",
    "# 음수값은 뒤에서 부터 처리된다.\n",
    "a = [1,2,3,'a',[4,5], print]\n",
    "print(a[0], a[1], a[2], a[3], a[4], a[5], )\n",
    "print(type(a[0]),type(a[1]),type(a[2]),type(a[3]),type(a[4]),type(a[5]), )"
   ]
  },
  {
   "cell_type": "code",
   "execution_count": 44,
   "id": "d8a3b1b5",
   "metadata": {},
   "outputs": [
    {
     "name": "stdout",
     "output_type": "stream",
     "text": [
      "3\n",
      "리스트안에 print함수 호출하기(1)...\n",
      "리스트안에 print함수 호출하기(2)_역순으로 호출...\n",
      "\n",
      "1\n",
      "['a', 'b', [1, <built-in function print>]]\n",
      "a\n",
      "1\n",
      "<built-in function print>\n",
      "\n",
      "['a', 'b', [1, <built-in function print>]]\n",
      "[1, <built-in function print>]\n",
      "<built-in function print>\n",
      "b[-1][-1][-1]도 print함수...\n"
     ]
    }
   ],
   "source": [
    "# 리스트요소사용하기\n",
    "print(a[0] + a[1])\n",
    "# print(a[0] + a[3]) # TypeError : 숫자 + 문자\n",
    "# print(a[0] + a[4]) #  TypeError : 'int' and 'list'\n",
    "a[5]('리스트안에 print함수 호출하기(1)...')\n",
    "a[-1]('리스트안에 print함수 호출하기(2)_역순으로 호출...')\n",
    "print()\n",
    "\n",
    "# list는 javascript의 array와 유사한 자료형이다.\n",
    "# 3차원배열과 유사한 list 선언하기\n",
    "b = [1,2,['a','b',[1,print]]] # 3차원배열\n",
    "print(b[0])\n",
    "print(b[2])\n",
    "print(b[2][0])\n",
    "print(b[2][2][0])\n",
    "print(b[2][2][1])\n",
    "print()\n",
    "\n",
    "print(b[-1])\n",
    "print(b[-1][-1])\n",
    "print(b[-1][-1][-1])\n",
    "b[-1][-1][-1]('b[-1][-1][-1]도 print함수...')"
   ]
  },
  {
   "cell_type": "code",
   "execution_count": 49,
   "id": "c493964f",
   "metadata": {},
   "outputs": [
    {
     "name": "stdout",
     "output_type": "stream",
     "text": [
      "py <class 'str'>\n",
      "[1, 2] <class 'list'>\n",
      "\n",
      "[1, 2] [3, 4, 5]\n",
      "py thon\n"
     ]
    }
   ],
   "source": [
    "# 2. list의 슬라이싱\n",
    "# ... 문자열과 동일하게 list에서도 슬라이싱기법을 사용할 수 있다.\n",
    "# ... 파이썬에서는 list를 자르는 문법이 문자열에서의 슬라이싱기법과 동일\n",
    "# ... 사용법 : list변수명[start:end-1[:step]]의 형태로 사용한다.\n",
    "\n",
    "a = [1,2,3,4,5]\n",
    "print('python'[0:2], type('python'[0:2]))\n",
    "print(a[0:2], type(a[0:2]))\n",
    "print()\n",
    "\n",
    "c = a[:2]\n",
    "d = a[2:]\n",
    "print(c, d)\n",
    "print('python'[:2], 'python'[2:])"
   ]
  },
  {
   "cell_type": "code",
   "execution_count": 56,
   "id": "122e4579",
   "metadata": {},
   "outputs": [
    {
     "name": "stdout",
     "output_type": "stream",
     "text": [
      "[1, 2, 3, ['a', 'b', 'c'], 4, 5]\n",
      "[3, ['a', 'b', 'c'], 4]\n",
      "['a', 'b', 'c']\n",
      "['a', 'b', 'c']\n",
      "['a', 'b']\n",
      "['c']\n"
     ]
    }
   ],
   "source": [
    "# 3. 중첩된 리스트에서의 슬라이싱\n",
    "a = [1,2,3,['a', 'b', 'c'],4,5,]\n",
    "print(a)\n",
    "print(a[2:5])\n",
    "print(a[3])\n",
    "print(a[3][:])\n",
    "print(a[3][:2])\n",
    "print(a[3][2:])"
   ]
  },
  {
   "cell_type": "markdown",
   "id": "430834ea",
   "metadata": {},
   "source": [
    "### 2. 리스트의 연산"
   ]
  },
  {
   "cell_type": "code",
   "execution_count": 58,
   "id": "ff57457a",
   "metadata": {},
   "outputs": [
    {
     "name": "stdout",
     "output_type": "stream",
     "text": [
      "[1, 2, 3, 'x', 'y', 'z']\n"
     ]
    }
   ],
   "source": [
    "# 1. 더하기(+) : 2개의 리스트를 합치기\n",
    "a = [1,2,3]\n",
    "b = ['x','y','z']\n",
    "print(a+b) # 문자열을 연결하는 연산결과와 동일 즉, 2개의 list를 1개의 list로 리턴"
   ]
  },
  {
   "cell_type": "code",
   "execution_count": 62,
   "id": "b5b1509c",
   "metadata": {},
   "outputs": [
    {
     "name": "stdout",
     "output_type": "stream",
     "text": [
      "[1, 2, 3]\n",
      "[1, 2, 3, 1, 2, 3, 1, 2, 3]\n",
      "['x', 'y', 'z', 'x', 'y', 'z', 'x', 'y', 'z', 'x', 'y', 'z', 'x', 'y', 'z']\n",
      "[1, 2, 3, 'x', 'y', 'z', 1, 2, 3, 'x', 'y', 'z', 1, 2, 3, 'x', 'y', 'z']\n"
     ]
    }
   ],
   "source": [
    "# 2. 반복하기(*) : list를 반복하기\n",
    "print(a)\n",
    "print(a*3)\n",
    "print(b*5)\n",
    "print((a+b)*3)"
   ]
  },
  {
   "cell_type": "markdown",
   "id": "e26a00b6",
   "metadata": {},
   "source": [
    "### 3. 리스트 수정 및 삭제"
   ]
  },
  {
   "cell_type": "code",
   "execution_count": 63,
   "id": "c440fa02",
   "metadata": {},
   "outputs": [
    {
     "name": "stdout",
     "output_type": "stream",
     "text": [
      "[1, 'x', 3]\n"
     ]
    }
   ],
   "source": [
    "# 1. list에서 한 개의 값을 수정하기\n",
    "a = [1,2,3]\n",
    "a[1] = 'x'\n",
    "print(a)"
   ]
  },
  {
   "cell_type": "code",
   "execution_count": 67,
   "id": "a58faaa6",
   "metadata": {},
   "outputs": [
    {
     "name": "stdout",
     "output_type": "stream",
     "text": [
      "[1, 'x', 'y', 'z', 3]\n",
      "[1, '1', '2', '3', 'xxx', 'yyy', 'zzz', 3]\n"
     ]
    }
   ],
   "source": [
    "# 2. list에서 연속된 범위의 값을 수정하기\n",
    "a = [1,2,3]\n",
    "a[1:2]\n",
    "a[1:2] = ['x','y','z']\n",
    "print(a)\n",
    "\n",
    "a[1:4]\n",
    "a[1:4] = ['1','2','3','xxx','yyy','zzz']\n",
    "print(a)"
   ]
  },
  {
   "cell_type": "code",
   "execution_count": 69,
   "id": "022d8f9a",
   "metadata": {},
   "outputs": [
    {
     "name": "stdout",
     "output_type": "stream",
     "text": [
      "[1, '3', 'xxx', 'yyy', 'zzz', 3]\n"
     ]
    }
   ],
   "source": [
    "# 3. list에서 값을 삭제하기\n",
    "a[1:3]\n",
    "a[1:3] = []\n",
    "print(a)"
   ]
  },
  {
   "cell_type": "code",
   "execution_count": 72,
   "id": "d3607bc2",
   "metadata": {},
   "outputs": [
    {
     "name": "stdout",
     "output_type": "stream",
     "text": [
      "[1, 'yyy', 'zzz', 3]\n",
      "[1, 3]\n"
     ]
    }
   ],
   "source": [
    "# 4. del명령를 이용해서 리스트값을 삭제\n",
    "a[1]\n",
    "del a[1]\n",
    "print(a)\n",
    "\n",
    "del a[1:3]\n",
    "print(a)"
   ]
  },
  {
   "cell_type": "code",
   "execution_count": 81,
   "id": "4658fa77",
   "metadata": {},
   "outputs": [
    {
     "name": "stdout",
     "output_type": "stream",
     "text": [
      "['show', 'how', 'to', 'index', 'into', 'sequences'] <class 'list'>\n",
      "['show', 'how', 'to', 'index', 'into', 'sequences']\n",
      "['show', 'how', 'to', 'index', 'into', 'sequences']\n",
      "['show', 'to', 'into']\n",
      "['show', 'index']\n",
      "['show', 'into']\n",
      "\n",
      "['sequences', 'into', 'index', 'to', 'how', 'show']\n",
      "['sequences', 'index', 'how']\n",
      "['sequences', 'to']\n",
      "['sequences', 'how']\n"
     ]
    }
   ],
   "source": [
    "# 5. step옵션 사용하기\n",
    "sample = 'show how to index into sequences'.split()\n",
    "print(sample, type(sample))\n",
    "\n",
    "print(sample[::])\n",
    "print(sample[::1])\n",
    "print(sample[::2])\n",
    "print(sample[::3])\n",
    "print(sample[::4])\n",
    "print()\n",
    "\n",
    "# step을 이요해서 reverse 즉, 역순으로 출력하기\n",
    "print(sample[::-1])\n",
    "print(sample[::-2])\n",
    "print(sample[::-3])\n",
    "print(sample[::-4])"
   ]
  },
  {
   "cell_type": "markdown",
   "id": "5489c0ac",
   "metadata": {},
   "source": [
    "### 4. 리스트관련함수\n",
    "\n",
    "* append() : 리스트에 요소를 추가\n",
    "* sort()   : 리스트를 알파벳순으로 정렬\n",
    "* reverse(): 리스트를 현재 상태에서 그대로 뒤집기\n",
    "* index()  : 리스트의 요소위치를 리턴\n",
    "* remove() : 리스트요소를 삭제\n",
    "* pop()    : 리스트요소를 꺼내온 다음에 삭제\n",
    "* count()  : 리스트요소의 갯수를 리턴\n",
    "* extend() : 리스트의 요소를 확장\n",
    "* copy()   : 리스트를 복사(얕은 복사, 깊은 복사가 있다.)\n",
    "* clear()  : 리스트요소를 삭제\n",
    "* insert() : 리스트요소를 삽입"
   ]
  },
  {
   "cell_type": "code",
   "execution_count": 82,
   "id": "9f3d3f67",
   "metadata": {},
   "outputs": [
    {
     "name": "stdout",
     "output_type": "stream",
     "text": [
      "['__add__', '__class__', '__class_getitem__', '__contains__', '__delattr__', '__delitem__', '__dir__', '__doc__', '__eq__', '__format__', '__ge__', '__getattribute__', '__getitem__', '__getstate__', '__gt__', '__hash__', '__iadd__', '__imul__', '__init__', '__init_subclass__', '__iter__', '__le__', '__len__', '__lt__', '__mul__', '__ne__', '__new__', '__reduce__', '__reduce_ex__', '__repr__', '__reversed__', '__rmul__', '__setattr__', '__setitem__', '__sizeof__', '__str__', '__subclasshook__', 'append', 'clear', 'copy', 'count', 'extend', 'index', 'insert', 'pop', 'remove', 'reverse', 'sort']\n"
     ]
    }
   ],
   "source": [
    "print(dir([]))"
   ]
  },
  {
   "cell_type": "code",
   "execution_count": 91,
   "id": "85327aea",
   "metadata": {},
   "outputs": [
    {
     "name": "stdout",
     "output_type": "stream",
     "text": [
      "[1, 2, 3]\n",
      "[1, 2, 3, [4, 5]]\n",
      "[1, 2, 3, [4, 5], <built-in function print>]\n",
      "[1, 2, 3, [4, 5], <built-in function print>, ('a', 'b')]\n",
      "[1, 2, 3, [4, 5], <built-in function print>, ('a', 'b'), {'name': '홍길동', 'age': 1000}]\n"
     ]
    }
   ],
   "source": [
    "# 1. append()\n",
    "a = [1,2,3]\n",
    "print(a)\n",
    "\n",
    "a.append([4, 5])\n",
    "print(a)\n",
    "\n",
    "a.append(print)\n",
    "print(a)\n",
    "\n",
    "a.append(('a', 'b')) # tuple자료형추가, ()\n",
    "print(a)\n",
    "\n",
    "a.append({'name':'홍길동', 'age':1000}) # dict자료형 추가, {} \n",
    "print(a)"
   ]
  },
  {
   "cell_type": "code",
   "execution_count": 99,
   "id": "e1d0c17f",
   "metadata": {},
   "outputs": [
    {
     "name": "stdout",
     "output_type": "stream",
     "text": [
      "[1, 2, 3, 4]\n",
      "None\n",
      "['a', 'x', 'y']\n",
      "['a', 'x', 'y']\n",
      "None\n"
     ]
    }
   ],
   "source": [
    "# 2. sort\n",
    "# 정렬은 요소의 데이터타입이 동일해야 정렬할 수 있다.\n",
    "# 데이터타입이 다른 경우 에러가 발생한다.\n",
    "a = [1,4,2,3]\n",
    "a.sort()\n",
    "print(a)\n",
    "\n",
    "a = ['x','y','a']\n",
    "print(a.sort())  # sort함수는 리턴값이 없고 정렬만 수행\n",
    "print(a)\n",
    "\n",
    "# a = ['x','y',2,'a', 3]\n",
    "# a.sort() # TypeError \n",
    "\n",
    "a = ['x','y','a']\n",
    "b = a.sort()  # sort()함수는 리턴값이 없다.\n",
    "print(a)\n",
    "print(b)"
   ]
  },
  {
   "cell_type": "code",
   "execution_count": 105,
   "id": "2f3f4e4b",
   "metadata": {},
   "outputs": [
    {
     "name": "stdout",
     "output_type": "stream",
     "text": [
      "['a', 'c', 'b']\n",
      "['b', 'c', 'a']\n",
      "None\n"
     ]
    }
   ],
   "source": [
    "# 3. reverse\n",
    "# reverse함수는 역순으로 뒤집어 주는데 이때 리스트요소를 순서대로 정렬하는 것이\n",
    "# 아니라 현재 상태에서 그대로 뒤집기만 수행한다.\n",
    "# ?a.reverse\n",
    "a = ['a','c','b']\n",
    "print(a)\n",
    "\n",
    "a.reverse()\n",
    "print(a)\n",
    "\n",
    "b = a.reverse() # return값이 없고 in place 즉, 내부에서 실행후 반영\n",
    "print(b)"
   ]
  },
  {
   "cell_type": "code",
   "execution_count": 116,
   "id": "b458b70f",
   "metadata": {},
   "outputs": [
    {
     "name": "stdout",
     "output_type": "stream",
     "text": [
      "2\n",
      "4\n"
     ]
    }
   ],
   "source": [
    "# 4. index\n",
    "a = [1,2,'a',3,'a', 'b']\n",
    "print(a.index('a'))\n",
    "# print(a.index('x')) # ValueError: 'x' is not in list\n",
    "\n",
    "# a.index(value, start=0, stop=9223372036854775807, /)\n",
    "# start는 list의 위치를 의미\n",
    "print(a.index('a', 3))"
   ]
  },
  {
   "cell_type": "code",
   "execution_count": 119,
   "id": "e366e62b",
   "metadata": {},
   "outputs": [
    {
     "name": "stdout",
     "output_type": "stream",
     "text": [
      "[1, 2, 1, 2, 3]\n"
     ]
    }
   ],
   "source": [
    "# 5. remove : 매개변수로 전달된 값에 해당하는 요소를 삭제\n",
    "# 만약에 list안에 여러개의 값이 있을 경우 맨 앞의 요소만 삭제가 된다.\n",
    "# 삭제할 값이 없다면 ValueError가 발생한다.\n",
    "# 사용법 : list명.remove(삭제할 값)\n",
    "# a.remove?\n",
    "a = [1,2,3,1,2,3]\n",
    "a.remove(3)\n",
    "print(a)\n",
    "\n",
    "# a.remove('x') # ValueError: list.remove(x): x not in list"
   ]
  },
  {
   "cell_type": "code",
   "execution_count": 124,
   "id": "a462a987",
   "metadata": {},
   "outputs": [
    {
     "name": "stdout",
     "output_type": "stream",
     "text": [
      "[1, 3, 4] 2\n",
      "[1, 3] 4\n"
     ]
    }
   ],
   "source": [
    "# 6. pop() : 매개변수의 위치에 해당하는 요소를 꺼내온 후 삭제\n",
    "# 위치를 지정하지 않을 경우, 즉, 매개변수가 없을 경우는 맨 뒤의 요소를 꺼낸후 삭제\n",
    "# 인덱스범위를 벗어날 경우 IndexError가 발생한다.\n",
    "# 문법 : 리스트.pop(꺼낼 요소의 위치)\n",
    "# a.pop?\n",
    "a = [1,2,3,4]\n",
    "b = a.pop(1)\n",
    "print(a, b)\n",
    "\n",
    "c = a.pop()\n",
    "print(a, c)\n",
    "\n",
    "# d = a.pop(1000) # IndexError: pop index out of range"
   ]
  },
  {
   "cell_type": "code",
   "execution_count": 127,
   "id": "cfa8ad22",
   "metadata": {},
   "outputs": [
    {
     "name": "stdout",
     "output_type": "stream",
     "text": [
      "1의 개수 =  2\n",
      "2의 개수 =  4\n",
      "3의 개수 =  2\n",
      "4의 개수 =  1\n",
      "5의 개수 =  0\n"
     ]
    }
   ],
   "source": [
    "# 7. count() : list요소의 갯수를 리턴\n",
    "# 문법 : list.count(갯수를 확인할 값)\n",
    "# a.count?\n",
    "a = [1,2,3,1,2,3,2,4,2]\n",
    "print('1의 개수 = ', a.count(1))\n",
    "print('2의 개수 = ', a.count(2))\n",
    "print('3의 개수 = ', a.count(3))\n",
    "print('4의 개수 = ', a.count(4))\n",
    "print('5의 개수 = ', a.count(5))"
   ]
  },
  {
   "cell_type": "code",
   "execution_count": 135,
   "id": "06da4292",
   "metadata": {},
   "outputs": [
    {
     "name": "stdout",
     "output_type": "stream",
     "text": [
      "[1, 2, 3, [4, 5]]\n",
      "[1, 2, 3, 4, 5, 'h', 'e', 'l', 'l', 'o']\n",
      "[1, 2, 3, 4, 5, 'h', 'e', 'l', 'l', 'o', 6, 7]\n"
     ]
    }
   ],
   "source": [
    "# 8. extend : 리스트를 확장\n",
    "# 문법 : list.extend(iterable만 가능) \n",
    "# a.extend?\n",
    "a = [1,2,3]\n",
    "a.append([4,5])\n",
    "print(a)\n",
    "\n",
    "a = [1,2,3]\n",
    "# a.extend(1) # TypeError: 'int' object is not iterable\n",
    "a.extend([4,5])\n",
    "a.extend('hello')\n",
    "print(a)\n",
    "\n",
    "a.extend((6,7)) # tuple의 각 요소가 a의 각 요소로서 추가 즉, list로 리턴\n",
    "print(a)"
   ]
  },
  {
   "cell_type": "code",
   "execution_count": 139,
   "id": "031cda27",
   "metadata": {},
   "outputs": [
    {
     "name": "stdout",
     "output_type": "stream",
     "text": [
      "['insert', 'insert', 1, 2, 3, 4, 5, 'h', 'e', 'l', 'l', 'o', 6, 7]\n",
      "['insert', 'insert', 1, 2, 3, 4, 5, 'h', 'e', 'l', 'insert', 'l', 'o', 6, 7]\n"
     ]
    }
   ],
   "source": [
    "# 9. insert() : 리스트를 매개변수로 전달된 위치의 앞에 삽입\n",
    "# 문법 : list.insert(위치, 값)\n",
    "# a.insert?\n",
    "a.insert(0, 'insert')\n",
    "print(a)\n",
    "\n",
    "a.insert(10, 'insert')\n",
    "print(a)"
   ]
  },
  {
   "cell_type": "code",
   "execution_count": 141,
   "id": "f5acaa4b",
   "metadata": {},
   "outputs": [
    {
     "name": "stdout",
     "output_type": "stream",
     "text": [
      "[]\n"
     ]
    }
   ],
   "source": [
    "# 10. clear() : 리스트요소 전체를 삭제, 매개변수가 없음\n",
    "# a.clear?\n",
    "a.clear()\n",
    "print(a)"
   ]
  },
  {
   "cell_type": "code",
   "execution_count": 154,
   "id": "35371448",
   "metadata": {},
   "outputs": [
    {
     "name": "stdout",
     "output_type": "stream",
     "text": [
      "[1, 2, 3, ['x', 'y']]\n",
      "1886860078848\n",
      "140721171305256\n",
      "1886860074496\n",
      "\n",
      "1886860078848\n",
      "1886860078848\n",
      "\n",
      "1886860078848\n",
      "1886875343360\n",
      "\n",
      "1886860078848\n",
      "1886874331072\n",
      "\n"
     ]
    }
   ],
   "source": [
    "# 11. copy() : 리스트를 복사(깊은 복사)\n",
    "# 객체의 복사를 얕은 복사, 깊은 복사\n",
    "# list.copy함수는 깊은 복사로 수행\n",
    "a = [1,2,3,['x', 'y']]\n",
    "print(a) \n",
    "\n",
    "# id함수는 객체가 저장되어 있는 메모리주소를 리턴\n",
    "print(id(a))\n",
    "print(id(a[0]))\n",
    "print(id(a[3]))\n",
    "print()\n",
    "\n",
    "# 1) 얕은 복사\n",
    "b = a\n",
    "print(id(a))\n",
    "print(id(b))\n",
    "print()\n",
    "\n",
    "# 2) 깊은 복사\n",
    "c = a[:]\n",
    "print(id(a))\n",
    "print(id(c))\n",
    "print()\n",
    "\n",
    "d = a.copy()\n",
    "print(id(a))\n",
    "print(id(d))\n",
    "print()\n"
   ]
  },
  {
   "cell_type": "code",
   "execution_count": 158,
   "id": "f416575b",
   "metadata": {},
   "outputs": [
    {
     "name": "stdout",
     "output_type": "stream",
     "text": [
      "True\n",
      "True\n",
      "True\n",
      "False\n"
     ]
    }
   ],
   "source": [
    "# 객체의 비교\n",
    "print(a == b)\n",
    "print(a == c) # java, javascript에서 값을 비교\n",
    "print(a == d)\n",
    "print(a is d) # javascript에서 === 연산, java에서 equals() 연산"
   ]
  },
  {
   "cell_type": "code",
   "execution_count": 162,
   "id": "64ee760d",
   "metadata": {},
   "outputs": [
    {
     "name": "stdout",
     "output_type": "stream",
     "text": [
      "['x', 2, 3, ['a', 'b']]\n",
      "['x', 2, 3, ['a', 'b']]\n",
      "[1, 2, 3, ['x', 'y']]\n",
      "[1, 2, 3, ['x', 'y']]\n",
      "\n",
      "['x', 2, 3, ['a', 'b']]\n",
      "['x', 2, 3, ['a', 'b']]\n",
      "[1, 2, 3, ['x', 'y']]\n",
      "[1, 2, 3, ['x', 'y']]\n"
     ]
    }
   ],
   "source": [
    "a[0] = 'x'\n",
    "print(a)\n",
    "print(b)  # 얕은 복사\n",
    "print(c)  # 깊은 복사 a[:]\n",
    "print(d)  # 깊은 복사 a.copy()\n",
    "print()\n",
    "\n",
    "a[3] = ['a', 'b']\n",
    "print(a)\n",
    "print(b) \n",
    "print(c)\n",
    "print(d)"
   ]
  },
  {
   "cell_type": "code",
   "execution_count": 163,
   "id": "bc04cff6",
   "metadata": {},
   "outputs": [
    {
     "name": "stdout",
     "output_type": "stream",
     "text": [
      "['Error', '__all__', '__builtins__', '__cached__', '__doc__', '__file__', '__loader__', '__name__', '__package__', '__spec__', '_copy_dispatch', '_copy_immutable', '_deepcopy_atomic', '_deepcopy_dict', '_deepcopy_dispatch', '_deepcopy_list', '_deepcopy_method', '_deepcopy_tuple', '_keep_alive', '_reconstruct', 'copy', 'deepcopy', 'dispatch_table', 'error']\n"
     ]
    }
   ],
   "source": [
    "import copy\n",
    "print(dir(copy))"
   ]
  },
  {
   "cell_type": "code",
   "execution_count": 167,
   "id": "b29350ef",
   "metadata": {},
   "outputs": [
    {
     "name": "stdout",
     "output_type": "stream",
     "text": [
      "[[1, 2], [3, 4]] [[1, 2], [3, 4]]\n",
      "1886874477504 1886860904768\n",
      "1886874590208 1886874590208\n",
      "1886874329792 1886874329792\n",
      "\n",
      "[[1, 2], [3, 4, 5]] [[1, 2], [3, 4, 5]]\n",
      "1886874477504 1886860904768\n",
      "1886874590208 1886874590208\n",
      "1886874329792 1886874329792\n"
     ]
    }
   ],
   "source": [
    "# 1) 얕은 복사\n",
    "a = [[1,2,],[3,4]]\n",
    "b = copy.copy(a)\n",
    "print(a, b)\n",
    "print(id(a), id(b))\n",
    "print(id(a[0]), id(b[0]))\n",
    "print(id(a[1]), id(b[1]))\n",
    "print()\n",
    "\n",
    "a[1].append(5)\n",
    "print(a, b)\n",
    "print(id(a), id(b))\n",
    "print(id(a[0]), id(b[0]))\n",
    "print(id(a[1]), id(b[1]))"
   ]
  },
  {
   "cell_type": "code",
   "execution_count": 170,
   "id": "6a1ca75b",
   "metadata": {},
   "outputs": [
    {
     "name": "stdout",
     "output_type": "stream",
     "text": [
      "[[1, 2], [3, 4]] [[1, 2], [3, 4]]\n",
      "1886875339712 1886875345984\n",
      "1886866220800 1886875352256\n",
      "1886866221824 1886874644480\n",
      "\n",
      "[[1, 2], [3, 4, 5]] [[1, 2], [3, 4]]\n",
      "1886875339712 1886875345984\n",
      "1886866220800 1886875352256\n",
      "1886866221824 1886874644480\n"
     ]
    }
   ],
   "source": [
    "# 2) 깊은 복사\n",
    "a = [[1,2,],[3,4]]\n",
    "b = copy.deepcopy(a)\n",
    "print(a, b)\n",
    "print(id(a), id(b))\n",
    "print(id(a[0]), id(b[0]))\n",
    "print(id(a[1]), id(b[1]))\n",
    "print()\n",
    "\n",
    "a[1].append(5)\n",
    "print(a, b)\n",
    "print(id(a), id(b))\n",
    "print(id(a[0]), id(b[0]))\n",
    "print(id(a[1]), id(b[1]))"
   ]
  },
  {
   "cell_type": "markdown",
   "id": "e11c0ea2",
   "metadata": {},
   "source": [
    "##### 리스트 요소를 삭제하는 방법\n",
    "\n",
    "1. remove() : 입력매개변수는 `요소의 값`을 전달해서 값과 일치하는 요소를 삭제\n",
    "2. pop()    : 입력매개변수는 `요소의 위치`를 전달해서 해당위치의 요소를 삭제\n",
    "3. del      : 해당객체의 `요소의 위치`에 해당하는 요소를 삭제  \n",
    "\n",
    ">차이점: 삭제되는 것은 동일하지만 삭제에 사용되는 입력매개변수의 차이가 있다."
   ]
  }
 ],
 "metadata": {
  "kernelspec": {
   "display_name": "Python 3 (ipykernel)",
   "language": "python",
   "name": "python3"
  },
  "language_info": {
   "codemirror_mode": {
    "name": "ipython",
    "version": 3
   },
   "file_extension": ".py",
   "mimetype": "text/x-python",
   "name": "python",
   "nbconvert_exporter": "python",
   "pygments_lexer": "ipython3",
   "version": "3.11.5"
  }
 },
 "nbformat": 4,
 "nbformat_minor": 5
}
