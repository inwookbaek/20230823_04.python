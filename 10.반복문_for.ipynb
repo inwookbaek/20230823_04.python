{
 "cells": [
  {
   "cell_type": "markdown",
   "id": "164d6d16",
   "metadata": {},
   "source": [
    "# 반복문(for)\n",
    "\n",
    ">for 변수 in iterable: pass\n",
    "\n",
    "## for문과 range()함수\n",
    "* range()함수는 `숫자목록을 자동으로 생성해 주는 함수`\n",
    "  - range(stop)\n",
    "  - range(start, stop)\n",
    "  - range(start, stop, step)"
   ]
  },
  {
   "cell_type": "code",
   "execution_count": 6,
   "id": "b16fa945",
   "metadata": {},
   "outputs": [
    {
     "name": "stdout",
     "output_type": "stream",
     "text": [
      "range(0, 5) <class 'range'>\n",
      "range(0, 10) range(5, 10) range(1, 100, 5)\n",
      "[0, 1, 2, 3, 4, 5, 6, 7, 8, 9]\n",
      "[5, 6, 7, 8, 9]\n",
      "[1, 6, 11, 16, 21, 26, 31, 36, 41, 46, 51, 56, 61, 66, 71, 76, 81, 86, 91, 96]\n"
     ]
    }
   ],
   "source": [
    "print(range(5), type(range(5)))\n",
    "\n",
    "a = range(10)\n",
    "b = range(5, 10)\n",
    "c = range(1, 100, 5)\n",
    "print(a, b, c)\n",
    "\n",
    "l1 = list(a)\n",
    "l2 = list(b)\n",
    "l3 = list(c)\n",
    "print(l1)\n",
    "print(l2)\n",
    "print(l3)"
   ]
  },
  {
   "cell_type": "code",
   "execution_count": 12,
   "id": "eb7a0d14",
   "metadata": {},
   "outputs": [
    {
     "name": "stdout",
     "output_type": "stream",
     "text": [
      "0,1,2,3,4,5,6,7,8,9,\n",
      "5,6,7,8,9,\n",
      "1,6,11,16,21,26,31,36,41,46,51,56,61,66,71,76,81,86,91,96,"
     ]
    }
   ],
   "source": [
    "# 1. for문과 range함수\n",
    "for i in range(10):\n",
    "    print(i, end=',')\n",
    "print()\n",
    "\n",
    "for i in range(5, 10):\n",
    "    print(i, end=',')\n",
    "print()\n",
    "\n",
    "for i in range(1, 100, 5):\n",
    "    print(i, end=',')    "
   ]
  },
  {
   "cell_type": "code",
   "execution_count": 17,
   "id": "13b35850",
   "metadata": {},
   "outputs": [
    {
     "name": "stdout",
     "output_type": "stream",
     "text": [
      "1~10까지 합 = 55\n",
      "1~10까지 합 = 55\n",
      "1~100까지 3배수의 합 = 1717\n"
     ]
    }
   ],
   "source": [
    "# 2. for \n",
    "sum = 1+2+3+4+5+6+7+8+9+10\n",
    "print(f'1~10까지 합 = {sum}')\n",
    "\n",
    "sum = 0\n",
    "for i in range(1, 11):\n",
    "    sum += i\n",
    "print(f'1~10까지 합 = {sum}')    \n",
    "\n",
    "# 1~100까지 3배수의 합\n",
    "sum = 0\n",
    "for i in range(1, 101, 3):\n",
    "    sum += i\n",
    "print(f'1~100까지 3배수의 합 = {sum}')      "
   ]
  },
  {
   "cell_type": "code",
   "execution_count": 28,
   "id": "a67dd39d",
   "metadata": {},
   "outputs": [
    {
     "name": "stdout",
     "output_type": "stream",
     "text": [
      "java의 길이는 4자 입니다!\n",
      "javascript의 길이는 10자 입니다!\n",
      "R의 길이는 1자 입니다!\n",
      "python의 길이는 6자 입니다!\n",
      "sql의 길이는 3자 입니다!\n",
      "windows의 길이는 7자 입니다!\n",
      "deeplearning의 길이는 12자 입니다!\n",
      "\n",
      "javascript의 길이는 10자 입니다!\n",
      "python의 길이는 6자 입니다!\n",
      "windows의 길이는 7자 입니다!\n",
      "deeplearning의 길이는 12자 입니다!\n",
      "\n",
      "['deeplearning', 'windows', 'python', 'javascript']\n"
     ]
    }
   ],
   "source": [
    "# 3. for문과 indexing/slicing\n",
    "words = ['java', 'javascript', 'R', 'python', 'sql', 'windows', 'deeplearning']\n",
    "\n",
    "# 1) 각 단어의 길이 출력하기\n",
    "for word in words:\n",
    "    print(f'{word}의 길이는 {len(word)}자 입니다!')\n",
    "print()\n",
    "\n",
    "# 2) 5자리이상의 단어만 출력하기\n",
    "for word in words:\n",
    "    if(len(word)>=5):\n",
    "        print(f'{word}의 길이는 {len(word)}자 입니다!')\n",
    "print()\n",
    "\n",
    "# 3) 5자리이상의 단어로 구성된 list 생성하기\n",
    "l =  []\n",
    "for word in words:\n",
    "    if(len(word)>=5):\n",
    "#         l.append(word)  # 마지막에 추가\n",
    "        l.insert(0, word) # 처음에 추가\n",
    "print(l)        "
   ]
  },
  {
   "cell_type": "code",
   "execution_count": 35,
   "id": "c1cb3205",
   "metadata": {},
   "outputs": [
    {
     "name": "stdout",
     "output_type": "stream",
     "text": [
      "0 java\n",
      "1 javascript\n",
      "2 R\n",
      "3 python\n",
      "4 sql\n",
      "5 windows\n",
      "6 deeplearning\n",
      "\n",
      "0 안,1 녕,2 하,3 세,4 요,8  ,9 반,10 갑,11 습,12 니,13 다,\n",
      "[5, 6, 7, 8, 9]\n",
      "[0, 2, 4, 6, 8]\n",
      "[-10, -40, -70]\n"
     ]
    }
   ],
   "source": [
    "# 4. len()와 range()함수 동시에 사용하기\n",
    "words = ['java', 'javascript', 'R', 'python', 'sql', 'windows', 'deeplearning']\n",
    "for i in range(len(words)):\n",
    "    print(i, words[i])\n",
    "print()\n",
    "\n",
    "# 실습. !를 제외한 문자열을 출력하기 조건:for, range, len함수를 이용\n",
    "strs = '안녕하세요!!! 반갑습니다!!!'\n",
    "\n",
    "for i in range(len(strs)):\n",
    "    if strs[i] != '!':\n",
    "        print(i, strs[i], end=\",\")\n",
    "print()\n",
    "\n",
    "# range()함수는 임시 list자료를 생성할 때 편리하게 사용할 수 있다.\n",
    "print(list(range(5,10)))\n",
    "print(list(range(0,10, 2)))\n",
    "print(list(range(-10,-100, -30)))"
   ]
  },
  {
   "cell_type": "code",
   "execution_count": 44,
   "id": "1b461c43",
   "metadata": {},
   "outputs": [
    {
     "name": "stdout",
     "output_type": "stream",
     "text": [
      "중첩 for문 (2, 2)번째 실행!\n",
      "중첩 for문 (2, 3)번째 실행!\n"
     ]
    }
   ],
   "source": [
    "# 중첩 for문\n",
    "for i in range(2, 3):\n",
    "    for j in range(2, 4):\n",
    "        print(f'중첩 for문 ({i}, {j})번째 실행!')"
   ]
  },
  {
   "cell_type": "code",
   "execution_count": 57,
   "id": "1bc6095e",
   "metadata": {},
   "outputs": [
    {
     "name": "stdout",
     "output_type": "stream",
     "text": [
      "단을 입력하세요 => 8\n",
      "--- 8단 ---\n",
      "8 x 1 =  8\n",
      "8 x 2 = 16\n",
      "8 x 3 = 24\n",
      "8 x 4 = 32\n",
      "8 x 5 = 40\n",
      "8 x 6 = 48\n",
      "8 x 7 = 56\n",
      "8 x 8 = 64\n",
      "8 x 9 = 72\n"
     ]
    }
   ],
   "source": [
    "# 실습문제(1)\n",
    "# for문을 이용한 구구단 만들기\n",
    "# 사용자가 특정의 단을 입력(input())받아서 해당되는 단을 출력하기\n",
    "# 9 x 1 = 9 ... 9 x 9 = 81\n",
    "dan = int(input('단을 입력하세요 => '))\n",
    "print(f'--- {dan}단 ---')\n",
    "for i in range(1, 10):\n",
    "#     print(dan, i, dan*i)\n",
    "#     print('%d x %d = %2d' % (dan, i, dan*i)) \n",
    "    print(f'{dan} x {i} = {dan*i:2d}') # ''.format()   "
   ]
  },
  {
   "cell_type": "code",
   "execution_count": 58,
   "id": "f0ee0292",
   "metadata": {},
   "outputs": [
    {
     "name": "stdout",
     "output_type": "stream",
     "text": [
      "-- 2단 --\n",
      "2 x 1 =  2\n",
      "2 x 2 =  4\n",
      "2 x 3 =  6\n",
      "2 x 4 =  8\n",
      "2 x 5 = 10\n",
      "2 x 6 = 12\n",
      "2 x 7 = 14\n",
      "2 x 8 = 16\n",
      "2 x 9 = 18\n",
      "-- 3단 --\n",
      "3 x 1 =  3\n",
      "3 x 2 =  6\n",
      "3 x 3 =  9\n",
      "3 x 4 = 12\n",
      "3 x 5 = 15\n",
      "3 x 6 = 18\n",
      "3 x 7 = 21\n",
      "3 x 8 = 24\n",
      "3 x 9 = 27\n",
      "-- 4단 --\n",
      "4 x 1 =  4\n",
      "4 x 2 =  8\n",
      "4 x 3 = 12\n",
      "4 x 4 = 16\n",
      "4 x 5 = 20\n",
      "4 x 6 = 24\n",
      "4 x 7 = 28\n",
      "4 x 8 = 32\n",
      "4 x 9 = 36\n",
      "-- 5단 --\n",
      "5 x 1 =  5\n",
      "5 x 2 = 10\n",
      "5 x 3 = 15\n",
      "5 x 4 = 20\n",
      "5 x 5 = 25\n",
      "5 x 6 = 30\n",
      "5 x 7 = 35\n",
      "5 x 8 = 40\n",
      "5 x 9 = 45\n",
      "-- 6단 --\n",
      "6 x 1 =  6\n",
      "6 x 2 = 12\n",
      "6 x 3 = 18\n",
      "6 x 4 = 24\n",
      "6 x 5 = 30\n",
      "6 x 6 = 36\n",
      "6 x 7 = 42\n",
      "6 x 8 = 48\n",
      "6 x 9 = 54\n",
      "-- 7단 --\n",
      "7 x 1 =  7\n",
      "7 x 2 = 14\n",
      "7 x 3 = 21\n",
      "7 x 4 = 28\n",
      "7 x 5 = 35\n",
      "7 x 6 = 42\n",
      "7 x 7 = 49\n",
      "7 x 8 = 56\n",
      "7 x 9 = 63\n",
      "-- 8단 --\n",
      "8 x 1 =  8\n",
      "8 x 2 = 16\n",
      "8 x 3 = 24\n",
      "8 x 4 = 32\n",
      "8 x 5 = 40\n",
      "8 x 6 = 48\n",
      "8 x 7 = 56\n",
      "8 x 8 = 64\n",
      "8 x 9 = 72\n",
      "-- 9단 --\n",
      "9 x 1 =  9\n",
      "9 x 2 = 18\n",
      "9 x 3 = 27\n",
      "9 x 4 = 36\n",
      "9 x 5 = 45\n",
      "9 x 6 = 54\n",
      "9 x 7 = 63\n",
      "9 x 8 = 72\n",
      "9 x 9 = 81\n"
     ]
    }
   ],
   "source": [
    "# 실습문제(2) - 중첩for - 세로\n",
    "# ---- 2 단 -----\n",
    "#  2 x 1 = 2 \n",
    "# ... \n",
    "# ---- 9 단 -----\n",
    "# 9 x 9 = 81\n",
    "\n",
    "for i in range(2,10):\n",
    "    print(f'-- {i}단 --')    \n",
    "    for j in range(1, 10):\n",
    "        print(f'{i} x {j} = {i*j:2d}') "
   ]
  },
  {
   "cell_type": "code",
   "execution_count": 72,
   "id": "a72c1838",
   "metadata": {},
   "outputs": [
    {
     "name": "stdout",
     "output_type": "stream",
     "text": [
      " -- 2단 -- -- 3단 -- -- 4단 -- -- 5단 -- -- 6단 -- -- 7단 -- -- 8단 -- -- 9단 --\n",
      "2x2 =  4 3x2 =  6 4x2 =  8 5x2 = 10 6x2 = 12 7x2 = 14 8x2 = 16 9x2 = 18 \n",
      "2x3 =  6 3x3 =  9 4x3 = 12 5x3 = 15 6x3 = 18 7x3 = 21 8x3 = 24 9x3 = 27 \n",
      "2x4 =  8 3x4 = 12 4x4 = 16 5x4 = 20 6x4 = 24 7x4 = 28 8x4 = 32 9x4 = 36 \n",
      "2x5 = 10 3x5 = 15 4x5 = 20 5x5 = 25 6x5 = 30 7x5 = 35 8x5 = 40 9x5 = 45 \n",
      "2x6 = 12 3x6 = 18 4x6 = 24 5x6 = 30 6x6 = 36 7x6 = 42 8x6 = 48 9x6 = 54 \n",
      "2x7 = 14 3x7 = 21 4x7 = 28 5x7 = 35 6x7 = 42 7x7 = 49 8x7 = 56 9x7 = 63 \n",
      "2x8 = 16 3x8 = 24 4x8 = 32 5x8 = 40 6x8 = 48 7x8 = 56 8x8 = 64 9x8 = 72 \n",
      "2x9 = 18 3x9 = 27 4x9 = 36 5x9 = 45 6x9 = 54 7x9 = 63 8x9 = 72 9x9 = 81 \n"
     ]
    }
   ],
   "source": [
    "# 실습문제(3) - 중첩for - 가로\n",
    "# ---- 2 단 -----        --- 9단 ---\n",
    "#  2 x 1 = 2 ............ 9 x 1= 9\n",
    "#  2 x 9 = 18 ............ 9 x 9 = 81\n",
    "\n",
    "title = ''\n",
    "for dan in range(2, 10):\n",
    "    title = title + (f\" -- {dan}단 --\")\n",
    "print(title)\n",
    "\n",
    "for i in range(2, 10):\n",
    "    gugudan = \"\"\n",
    "    for dan in range(2, 10):\n",
    "#         gugudan = gugudan + f'{dan} x {i} = {dan*i:2d}'\n",
    "        gugudan = gugudan + ('%dx%d = %2d ' % (dan, i, dan*i))\n",
    "    print(gugudan)"
   ]
  },
  {
   "cell_type": "markdown",
   "id": "73de9748",
   "metadata": {},
   "source": [
    "##### list안에 for문 사용하기\n",
    "\n",
    "1. list안에 한 개의 for문\n",
    ">`[표현식 for 변수 in iterable]`\n",
    "\n",
    "1. list안에 복수개의 for문\n",
    ">`[표현식 for 변수 in iterable if 조건`\n",
    ">`        for 변수 in iterable if 조건]`"
   ]
  },
  {
   "cell_type": "code",
   "execution_count": 82,
   "id": "2e70e437",
   "metadata": {},
   "outputs": [
    {
     "name": "stdout",
     "output_type": "stream",
     "text": [
      "[1, 2, 3, 4, 5, 1, 2, 3, 4, 5, 1, 2, 3, 4, 5]\n",
      "1. 일반for문 사용 [3, 6, 9, 12, 15] <class 'list'>\n",
      "2. list안에 for문 사용 [3, 6, 9, 12, 15]\n",
      "\n",
      "[6, 12]\n",
      "3. 조건이 있을 경우(짝수만출력) [6, 12]\n"
     ]
    }
   ],
   "source": [
    "# 1. list안에 1개의 for문을 사용하기\n",
    "\n",
    "# 1) [1,2,3,4,5] 3의 배수의 list생성\n",
    "nums = [1,2,3,4,5]\n",
    "print(nums * 3) # 반복연산자\n",
    "\n",
    "# a) 일반 for문\n",
    "result = []\n",
    "for num in nums:\n",
    "    result.append(num * 3)\n",
    "print(f'1. 일반for문 사용 {result}', type(result))    \n",
    "\n",
    "# b) list안에 for문 - 조건이 없을 경우\n",
    "result = [num * 3 for num in nums]\n",
    "print(f'2. list안에 for문 사용 {result}')    \n",
    "print()\n",
    "\n",
    "# 2) 조건이 있을 경우\n",
    "# 짝수만출력\n",
    "# a) 일반for문\n",
    "result = []\n",
    "for num in nums:\n",
    "    if(num%2==0):\n",
    "        result.append(num*3)\n",
    "print(result)\n",
    "\n",
    "# b) 조건을 사용\n",
    "result = [num * 3 for num in nums if num%2==0]\n",
    "print(f'3. 조건이 있을 경우(짝수만출력) {result}')  "
   ]
  },
  {
   "cell_type": "code",
   "execution_count": 89,
   "id": "14ee5611",
   "metadata": {},
   "outputs": [
    {
     "name": "stdout",
     "output_type": "stream",
     "text": [
      "[4, 6, 8, 10, 12, 14, 16, 18, 6, 9, 12, 15, 18, 21, 24, 27, 8, 12, 16, 20, 24, 28, 32, 36, 10, 15, 20, 25, 30, 35, 40, 45, 12, 18, 24, 30, 36, 42, 48, 54, 14, 21, 28, 35, 42, 49, 56, 63, 16, 24, 32, 40, 48, 56, 64, 72, 18, 27, 36, 45, 54, 63, 72, 81]\n",
      "\n",
      "[4, 8, 12, 16, 8, 16, 24, 32, 12, 24, 36, 48, 16, 32, 48, 64]\n"
     ]
    }
   ],
   "source": [
    "# 2. list안에 여러개의 for문(중첩for문)\n",
    "# 구구단의 결과를 한 개의 list에 저장하기\n",
    "\n",
    "# 1) list안에 조건이 없는 경우\n",
    "result = [ dan * i \n",
    "             for dan in range(2,10)\n",
    "             for i in range(2, 10)\n",
    "         ]\n",
    "print(result)\n",
    "print()\n",
    "\n",
    "# 2) list안에 조건이 있는 경우\n",
    "# 짝수단만 출력\n",
    "result = [ dan * i \n",
    "             for dan in range(2,10) if dan%2 == 0\n",
    "             for i in range(2, 10) if i%2 == 0\n",
    "         ]\n",
    "print(result)"
   ]
  },
  {
   "cell_type": "markdown",
   "id": "9c009a89",
   "metadata": {},
   "source": [
    "##### 연습문제"
   ]
  },
  {
   "cell_type": "code",
   "execution_count": null,
   "id": "6a820cd9",
   "metadata": {},
   "outputs": [],
   "source": [
    "# 문제1. 1~100까지의 숫자를 for문을 이용해서 출력\n",
    "# 1) 일반 for문과 2) list안에 for문을 이용\n",
    "\n",
    "# 문제2. 1~1000까지의 5의 배수의 총합\n",
    "# 1000을 입력 받아서 1~1000까지의 5의 배수의 합계를 구하기\n",
    "# 결과 100500\n",
    "\n",
    "# 문제3 학급의 평균점수 수하기\n",
    "# 결과 79.0\n",
    "scores = [70, 60, 55, 75, 95, 90, 80, 80, 85, 100] \n",
    "\n",
    "# 문제4. 혈액형별 학생수의 합계\n",
    "# ['A', 'B', 'A', 'O', 'AB', 'AB', 'O', 'A', 'B', 'O', 'B', 'AB']\n",
    "# 결과\n",
    "# {'A':3, 'B':3,'O':3, 'AB':3 }\n",
    "\n",
    "# 문제5. 주어진 코드를 리스트내포for문으로 변환하기\n",
    "# [1, 2, 3, 4, 5] -> [2,6,10]\n",
    "\n",
    "# 문제6. 아래문장에서 모음('aeiou')을 제거 \n",
    "# Life is too short, you need python\n",
    "# 결과 : Lf s t shrt, y nd pythn\n",
    "\n",
    "###### 문제7\n",
    "<img src=\"./images/10.반복문_for_연습문제_01.jpg\">  \n",
    "###### 문제8\n",
    "<img src=\"./images/10.반복문_for_연습문제_02.jpg\"> \n",
    "###### 문제9\n",
    "<img src=\"./images/10.반복문_for_연습문제_03.jpg\"> "
   ]
  },
  {
   "cell_type": "markdown",
   "id": "30e56dd3",
   "metadata": {},
   "source": [
    "###### 문제7\n",
    "<img src=\"./images/10.반복문_for_연습문제_01.jpg\">  \n",
    "###### 문제8\n",
    "<img src=\"./images/10.반복문_for_연습문제_02.jpg\"> \n",
    "###### 문제9\n",
    "<img src=\"./images/10.반복문_for_연습문제_03.jpg\"> "
   ]
  }
 ],
 "metadata": {
  "kernelspec": {
   "display_name": "Python 3 (ipykernel)",
   "language": "python",
   "name": "python3"
  },
  "language_info": {
   "codemirror_mode": {
    "name": "ipython",
    "version": 3
   },
   "file_extension": ".py",
   "mimetype": "text/x-python",
   "name": "python",
   "nbconvert_exporter": "python",
   "pygments_lexer": "ipython3",
   "version": "3.11.5"
  }
 },
 "nbformat": 4,
 "nbformat_minor": 5
}
