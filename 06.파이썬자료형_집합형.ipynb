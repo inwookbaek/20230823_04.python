{
 "cells": [
  {
   "cell_type": "markdown",
   "id": "346fb532",
   "metadata": {},
   "source": [
    "# 집합형(set)\n",
    "\n",
    "* 집합자료형(set)은 파이썬v2.3부터 지원하기 시작한 자료형이다.\n",
    "* 이 자료형은 집합과 관련된 작업을 보다 쉽게 처리할 수 있도록 만들어진 자료형이다\n",
    "\n",
    "## 집합자료형의 특징\n",
    "\n",
    "1. 중복을 허용하지 않고 집합안에는 unique한 값을 가진다.\n",
    "1. 순서가 없다. \n",
    "1. set의 선언은 `중괄호{}`로 선언한다. 중괄호로 선언하는 것은 dictionary와 유사하지만 `key가 없고 value만 있는 자료형`이다.\n",
    "1. set의 내부요소(값)는 다양한 값을 가질 수 있지만 `mutable한 자료는 불가`\n",
    "\n",
    "* 리스트나 튜플은 순서가 있기 때문에 indexing을 통해서 자료의 값을 가져올 수 있지만 set은 순서가 없기 때문에 indexing으로 자료를 가져올 수가 없다.\n",
    "* 따라서, set자료형의 저장된 값을 읽기 위해서는 list나 tuple로 변환한 후에 indexing을 통해서 자료를 가져올 수 있다.\n",
    "\n",
    ">* set자료형의 특징은 집합관련 연산이나 특히, 중복을 제거하기 위한 필터역활로 종종사용한다.\n",
    ">* set자료형은 `빈 중괄호{}로 선언할 수 없다`. set자료형으로 선언하려면 중괄호안에 적어도 1개의 값이상을 가진 객체로 선언하거나 `set() 생성자함수로 선언`한다.\n",
    ">* 생성자 set()함수의 매개변수에 iterable한 객체를 전달하면 자동으로 set자료형으로 변환해 준다.\n",
    "\n",
    "## 1. set자료형의 선언"
   ]
  },
  {
   "cell_type": "code",
   "execution_count": 5,
   "id": "9775a198",
   "metadata": {},
   "outputs": [
    {
     "name": "stdout",
     "output_type": "stream",
     "text": [
      "<class 'dict'> <class 'set'>\n",
      "\n",
      "['__and__', '__class__', '__class_getitem__', '__contains__', '__delattr__', '__dir__', '__doc__', '__eq__', '__format__', '__ge__', '__getattribute__', '__getstate__', '__gt__', '__hash__', '__iand__', '__init__', '__init_subclass__', '__ior__', '__isub__', '__iter__', '__ixor__', '__le__', '__len__', '__lt__', '__ne__', '__new__', '__or__', '__rand__', '__reduce__', '__reduce_ex__', '__repr__', '__ror__', '__rsub__', '__rxor__', '__setattr__', '__sizeof__', '__str__', '__sub__', '__subclasshook__', '__xor__', 'add', 'clear', 'copy', 'difference', 'difference_update', 'discard', 'intersection', 'intersection_update', 'isdisjoint', 'issubset', 'issuperset', 'pop', 'remove', 'symmetric_difference', 'symmetric_difference_update', 'union', 'update']\n",
      "\n",
      "['__class__', '__class_getitem__', '__contains__', '__delattr__', '__delitem__', '__dir__', '__doc__', '__eq__', '__format__', '__ge__', '__getattribute__', '__getitem__', '__getstate__', '__gt__', '__hash__', '__init__', '__init_subclass__', '__ior__', '__iter__', '__le__', '__len__', '__lt__', '__ne__', '__new__', '__or__', '__reduce__', '__reduce_ex__', '__repr__', '__reversed__', '__ror__', '__setattr__', '__setitem__', '__sizeof__', '__str__', '__subclasshook__', 'clear', 'copy', 'fromkeys', 'get', 'items', 'keys', 'pop', 'popitem', 'setdefault', 'update', 'values']\n"
     ]
    }
   ],
   "source": [
    "print(type({}), type({1}))\n",
    "print()\n",
    "\n",
    "print(dir({1}))\n",
    "print()\n",
    "\n",
    "print(dir({}))"
   ]
  },
  {
   "cell_type": "code",
   "execution_count": 19,
   "id": "de5b12b6",
   "metadata": {},
   "outputs": [
    {
     "name": "stdout",
     "output_type": "stream",
     "text": [
      "{1, 2, 3, 4} 4 <class 'set'>\n",
      "set() 0 <class 'set'>\n",
      "{1, 2, 3, 4} 4 <class 'set'>\n",
      "{1, 2, 3, 4} 4 <class 'set'>\n",
      "{0, 1, 2, 3, 4} 5 <class 'set'>\n",
      "{1, 'name'} 2 <class 'set'>\n",
      "{1, 2, 3, 4, 5, 7} 6 <class 'set'>\n"
     ]
    }
   ],
   "source": [
    "# 1. set자료형선언\n",
    "\n",
    "# 1) 선언 : 중괄호 내부에 값을 가진 객체로 선언하기\n",
    "s1 = {1,2,3,4}\n",
    "print(s1, len(s1), type(s1), )\n",
    "\n",
    "# 2) 선언 : set()생성자함수 이용\n",
    "s2 = set()\n",
    "print(s2, len(s2), type(s2), )\n",
    "\n",
    "# 3) 선언 : set(iterable)생성자함수 이용\n",
    "s3 = set([1,2,3,4])\n",
    "print(s3, len(s3), type(s3), )\n",
    "\n",
    "s3 = set((1,2,3,4))\n",
    "print(s3, len(s3), type(s3), )\n",
    "\n",
    "s3 = set(range(5))\n",
    "print(s3, len(s3), type(s3), )\n",
    "\n",
    "s3 = set({1:10, 'name':'소향'})\n",
    "print(s3, len(s3), type(s3), )\n",
    "\n",
    "# 4. 중복된 값이 있을 경우 자동으로 중복값이 제거된다.\n",
    "# set자료형은 순서가 없기 때문에 무작위로 값을 추출한다.\n",
    "s4 = {1,4,5,1,7,1,2,4,3,5}\n",
    "print(s4, len(s4), type(s4))\n"
   ]
  },
  {
   "cell_type": "markdown",
   "id": "901f126f",
   "metadata": {},
   "source": [
    "## 2. set자료형 사용하기\n",
    "\n",
    "* `교집합/합집합/차집합`을 구하는 경우에 많이 사용된다.\n",
    "* set자료형의 요소에는 직접 접근할 수 없기 때문에 list 또는 tuple로 변환후 사용"
   ]
  },
  {
   "cell_type": "code",
   "execution_count": 21,
   "id": "17ff95ca",
   "metadata": {},
   "outputs": [
    {
     "name": "stdout",
     "output_type": "stream",
     "text": [
      "{1, 3, 4, 6, 7} <class 'set'>\n",
      "[1, 3, 4, 6, 7] <class 'list'>\n",
      "(1, 3, 4, 6, 7) <class 'tuple'>\n"
     ]
    }
   ],
   "source": [
    "s = set([1,3,4,6,7])\n",
    "l = list(s)\n",
    "t = tuple(s)\n",
    "print(s, type(s))\n",
    "print(l, type(l))\n",
    "print(t, type(t))"
   ]
  },
  {
   "cell_type": "code",
   "execution_count": 23,
   "id": "688339ad",
   "metadata": {},
   "outputs": [
    {
     "name": "stdout",
     "output_type": "stream",
     "text": [
      "{4, 5, 6}\n",
      "{4, 5, 6}\n"
     ]
    }
   ],
   "source": [
    "# 1. 교집합(intersection() or &)\n",
    "s1 = {1,2,3,4,5,6}\n",
    "s2 = {4,5,6,7,8,9}\n",
    "\n",
    "print(s1 & s2)\n",
    "print(s1.intersection(s2))"
   ]
  },
  {
   "cell_type": "code",
   "execution_count": 24,
   "id": "eb74bd7f",
   "metadata": {},
   "outputs": [
    {
     "name": "stdout",
     "output_type": "stream",
     "text": [
      "{1, 2, 3, 4, 5, 6, 7, 8, 9}\n",
      "{1, 2, 3, 4, 5, 6, 7, 8, 9}\n"
     ]
    }
   ],
   "source": [
    "# 2. 합집합(union() or |)\n",
    "print(s1 | s2)\n",
    "print(s1.union(s2))"
   ]
  },
  {
   "cell_type": "code",
   "execution_count": 26,
   "id": "6f2c5cb3",
   "metadata": {},
   "outputs": [
    {
     "name": "stdout",
     "output_type": "stream",
     "text": [
      "{1, 2, 3}\n",
      "{1, 2, 3}\n",
      "\n",
      "{8, 9, 7}\n",
      "{8, 9, 7}\n"
     ]
    }
   ],
   "source": [
    "# 3. 차집합(difference() or -)\n",
    "print(s1 - s2)\n",
    "print(s1.difference(s2))\n",
    "print()\n",
    "\n",
    "print(s2 - s1)\n",
    "print(s2.difference(s1))"
   ]
  },
  {
   "cell_type": "markdown",
   "id": "4f95ada9",
   "metadata": {},
   "source": [
    "## 3. set자료형 관련함수\n",
    "\n",
    "* add()    : 1개의 값을 추가\n",
    "* update() : 여러개의 값을 추가\n",
    "* remove() : 특정값을 삭제\n",
    "* copy()   : 자료를 복사"
   ]
  },
  {
   "cell_type": "code",
   "execution_count": 29,
   "id": "dd0dd99c",
   "metadata": {},
   "outputs": [
    {
     "name": "stdout",
     "output_type": "stream",
     "text": [
      "{1, 2, 3, 4, 'y', 'x', 'z'}\n"
     ]
    }
   ],
   "source": [
    "# 1. add()\n",
    "s = set([1,2,3])\n",
    "# help(s)\n",
    "\n",
    "s.add('x'); s.add('y'); s.add('z'); s.add(4); s.add(2)\n",
    "print(s)"
   ]
  },
  {
   "cell_type": "code",
   "execution_count": 36,
   "id": "679d68a0",
   "metadata": {},
   "outputs": [
    {
     "name": "stdout",
     "output_type": "stream",
     "text": [
      "{1, 2, 3, 4, 5, 6, 7, 'a', 'y', 'b', 'x', 'z', 'c'}\n",
      "{1, 2, 3, 4, 5, 6, 7, 8, 'a', 'y', 'b', 'x', 'z', 'c'}\n",
      "{1, 2, 3, 4, 5, 6, 7, 8, 'a', 'y', 'b', 'x', 'z', 'c'}\n"
     ]
    }
   ],
   "source": [
    "# 2. update()\n",
    "# s.update?\n",
    "s.update([5,6,7])\n",
    "print(s)\n",
    "\n",
    "s.update([8,6,7])\n",
    "print(s)\n",
    "\n",
    "s.update(['a', 'b', 'c'])\n",
    "print(s)"
   ]
  },
  {
   "cell_type": "code",
   "execution_count": 37,
   "id": "b04eeb38",
   "metadata": {},
   "outputs": [
    {
     "name": "stdout",
     "output_type": "stream",
     "text": [
      "{1, 2, 3, 4, 5, 6, 7, 'a', 'y', 'b', 'x', 'z', 'c'}\n"
     ]
    },
    {
     "ename": "KeyError",
     "evalue": "'10'",
     "output_type": "error",
     "traceback": [
      "\u001b[1;31m---------------------------------------------------------------------------\u001b[0m",
      "\u001b[1;31mKeyError\u001b[0m                                  Traceback (most recent call last)",
      "Cell \u001b[1;32mIn[37], line 5\u001b[0m\n\u001b[0;32m      2\u001b[0m s\u001b[38;5;241m.\u001b[39mremove(\u001b[38;5;241m8\u001b[39m)\n\u001b[0;32m      3\u001b[0m \u001b[38;5;28mprint\u001b[39m(s)\n\u001b[1;32m----> 5\u001b[0m s\u001b[38;5;241m.\u001b[39mremove(\u001b[38;5;124m'\u001b[39m\u001b[38;5;124m10\u001b[39m\u001b[38;5;124m'\u001b[39m)\n",
      "\u001b[1;31mKeyError\u001b[0m: '10'"
     ]
    }
   ],
   "source": [
    "# 3. remove()\n",
    "s.remove(8)\n",
    "print(s)\n",
    "\n",
    "# 없는 값을 삭제할 경우 에러 발생\n",
    "# s.remove('10') KeyError: '10'"
   ]
  },
  {
   "cell_type": "code",
   "execution_count": 51,
   "id": "879347b9",
   "metadata": {},
   "outputs": [
    {
     "name": "stdout",
     "output_type": "stream",
     "text": [
      "s1의 id =  1699413709920\n",
      "s2의 id =  1699413710592\n",
      "{1, 2, 3, ('x', 'y')} {1, 2, 3, ('x', 'y')}\n"
     ]
    }
   ],
   "source": [
    "# 4. copy\n",
    "# set.copy? : 얕은 복사\n",
    "# s1 = {1,2,['x', 'y'],3} # set에는 mutable자료형 저장불가\n",
    "s1 = {1,2,('x', 'y'),3}\n",
    "s2 = s1.copy()\n",
    "\n",
    "print('s1의 id = ', id(s1))\n",
    "print('s2의 id = ', id(s2))\n",
    "\n",
    "s.remove(3)\n",
    "print(s1, s2)"
   ]
  },
  {
   "cell_type": "code",
   "execution_count": 53,
   "id": "b37be142",
   "metadata": {},
   "outputs": [
    {
     "name": "stdout",
     "output_type": "stream",
     "text": [
      "False\n",
      "True\n"
     ]
    }
   ],
   "source": [
    "# 5. issubset() : 부분집합여부를 확인\n",
    "a = {1,2,3,4,5}\n",
    "b = {1,2,3}\n",
    "\n",
    "print(a.issubset(b))\n",
    "print(b.issubset(a))"
   ]
  },
  {
   "cell_type": "code",
   "execution_count": 55,
   "id": "e5f4f11f",
   "metadata": {},
   "outputs": [
    {
     "name": "stdout",
     "output_type": "stream",
     "text": [
      "True\n",
      "False\n"
     ]
    }
   ],
   "source": [
    "# 6. issuperset(): issubset()과 반대 모집합여부확인\n",
    "print(a.issuperset(b))\n",
    "print(b.issuperset(a))"
   ]
  },
  {
   "cell_type": "code",
   "execution_count": 58,
   "id": "d2431254",
   "metadata": {},
   "outputs": [
    {
     "name": "stdout",
     "output_type": "stream",
     "text": [
      "True\n",
      "True\n",
      "\n",
      "False\n",
      "False\n"
     ]
    }
   ],
   "source": [
    "# 7. isdisjoint() : 교집합이 아니면 True, 있으면 False\n",
    "a = {1,2,3}\n",
    "b = {4,5,6}\n",
    "print(a.isdisjoint(b))\n",
    "print(b.isdisjoint(a))\n",
    "print()\n",
    "\n",
    "a = {1,2,3}\n",
    "b = {3,5,6}\n",
    "print(a.isdisjoint(b))\n",
    "print(b.isdisjoint(a))"
   ]
  }
 ],
 "metadata": {
  "kernelspec": {
   "display_name": "Python 3 (ipykernel)",
   "language": "python",
   "name": "python3"
  },
  "language_info": {
   "codemirror_mode": {
    "name": "ipython",
    "version": 3
   },
   "file_extension": ".py",
   "mimetype": "text/x-python",
   "name": "python",
   "nbconvert_exporter": "python",
   "pygments_lexer": "ipython3",
   "version": "3.11.5"
  }
 },
 "nbformat": 4,
 "nbformat_minor": 5
}
