{
 "cells": [
  {
   "cell_type": "markdown",
   "id": "ae973762",
   "metadata": {},
   "source": [
    "# File의 Input/Outpu\n",
    "\n",
    "* 프로그램에서 중요한 처리중 하나인 것이 파일에 대한 입출력이다.\n",
    "* 파일에서 문자열을 읽고 쓰는 방법과 파이썬 객체를 파일에 읽고 쓰기 위해서는 내장함수를 이용해서 처리한다.\n",
    "  1. 파일을 생성/열기 위해서는 `open()`이라는 내장함수를 이용하다.\n",
    "  1. 기본문법\n",
    "  >변수(파일객체) = open(파일이름, 열기모드, 인코딩)\n",
    "  \n",
    "## 1. file open mode\n",
    "|모드|설명|\n",
    "|:-----:|:----------------|\n",
    "|r|읽기모드, 파일을 읽기만 허용|\n",
    "|w|쓰기모드, 파일을 쓰기만 허용|\n",
    "|a|추가모드, 파일의 맨 뒤에 새로운 내용을 추가|\n",
    "|t|텍스트모드, 파일을 텍스트파일로 처리(기본값)|\n",
    "|b|이진모드, 파일을 이진(바이너리)파일로 처리, 이미지등 멀티미디어파일 읽기|\n",
    "|r+|읽기/쓰기모드, 파일을 읽거나 쓰기모드로 처리, 기존에 파일이 있다면 에러발생|\n",
    "|w+|읽기/쓰기모드, 파일을 읽거나 쓰기모드로 처리, 기존파일을 삭제후 새로 생성|\n",
    "|a+|읽기/쓰기모드, 파일을 쓰기모드로 처리, 파일의 맨 뒤에 텍스트내용을 추가|\n",
    "|rb+|이진으로 읽기/쓰기모드, 기존파일이 있다면 에러|\n",
    "|wb+|이진으로 읽기/쓰기모드, 기존파일삭제후 생성, 없다면 새로 생성후 쓰기|\n",
    "|ab+|이진으로 추가모드|\n",
    "\n",
    "* 예를 들어 \n",
    "    * rb -> 읽기전용이면서 이진모드로 파일을 오픈\n",
    "    * w -> 텍스트쓰기모드 즉, wt와 동일(t는 생략)\n",
    "    * w일 경우 주의할 점은 기존내용을 전부 삭제후 새로 생성\n",
    "    \n",
    "><img src=\"./images/13.파일입출력_FileIO_01.png\" width=\"300\" height=\"200\" /> \n",
    "\n",
    "## 2. 파일닫기\n",
    "\n",
    "1. 파일을 열었다면 작업이 완료된 후에 close()함수를 호출해서 작업시 할당된 자원을 해제해야 한다.\n",
    "1. close()를 호출하지 않으면 오픈된 파일객체가 다른 값으로 치환되거나 프로그램이 종료가 될 때 자동으로 close함수가 호출된다.\n",
    "1. 하지만, 명시적으로 close함수를 호출하는 것이 좋다.\n",
    "\n",
    "## 3. 파일접근하기\n",
    "\n",
    "1. 순차접근 : 기본값, 파일을 맨 처음부터 맨 끝까지 순차적으로 읽는 방법\n",
    "1. 임의접근 : 파일내에 임의의 위치에서 파일을 읽거나 쓰는 방법\n",
    "   1. seek(n) : 파일의 가장 첫 번째위치에서 n번째 바이트로 포인터를 이동명령\n",
    "   1. tell()  : 파일내에서 현재의 포인터(위치)를 리턴\n",
    "   \n",
    "## 4. 파일관련메서드\n",
    "\n",
    "|메서드|설명|\n",
    "|:---|:---------------|\n",
    "|open()|파일열기|\n",
    "|close()|파일닫기|\n",
    "|read([size]|지정된 바이트수(size)만큼 파일에서 읽기, size미지정시 전체파일읽기|\n",
    "|readline()|한 라인씩 읽기|\n",
    "|readlines()|전체라인을 readLine을 이용해서 읽은후 리스트자료형으로 반환|\n",
    "|write(string)|문자열(string)을 파일에 쓰기|\n",
    "|writeline(list)|문자열리스트를 파일에 쓰기, 주의할 점은 줄바꾸기가 되지 않음|\n",
    "||줄바꾸기가 되지 않기 때문에 문장끝에 줄바꿈문자(\\n)룰 추가해야 한다.|\n",
    "|seek(offset[,whense]|whense의 기본값은 0(0=시작, 1=현재위치, 2=파일끝)|\n",
    "||offset만큼 떨어진 위치에서부터 파일의 포인터를 이동한다.|\n",
    "|tell()|파일의 현재 위치(포인터)를 리턴|\n",
    "|flush()|버퍼에 내용이 채워지지않아도 내부 버퍼의 전체내용을 파일에 전달|\n",
    "|fileno()|파일객체의 파일기술자(File Descriptor, 정수값)을 리턴|"
   ]
  },
  {
   "cell_type": "markdown",
   "id": "07868bbd",
   "metadata": {},
   "source": [
    "### 1. 파일읽기, 쓰기 기본문법"
   ]
  },
  {
   "cell_type": "code",
   "execution_count": 6,
   "id": "eb604e8b",
   "metadata": {},
   "outputs": [
    {
     "name": "stdout",
     "output_type": "stream",
     "text": [
      "<class '_io.TextIOWrapper'> ['_CHUNK_SIZE', '__class__', '__del__', '__delattr__', '__dict__', '__dir__', '__doc__', '__enter__', '__eq__', '__exit__', '__format__', '__ge__', '__getattribute__', '__getstate__', '__gt__', '__hash__', '__init__', '__init_subclass__', '__iter__', '__le__', '__lt__', '__ne__', '__new__', '__next__', '__reduce__', '__reduce_ex__', '__repr__', '__setattr__', '__sizeof__', '__str__', '__subclasshook__', '_checkClosed', '_checkReadable', '_checkSeekable', '_checkWritable', '_finalizing', 'buffer', 'close', 'closed', 'detach', 'encoding', 'errors', 'fileno', 'flush', 'isatty', 'line_buffering', 'mode', 'name', 'newlines', 'read', 'readable', 'readline', 'readlines', 'reconfigure', 'seek', 'seekable', 'tell', 'truncate', 'writable', 'write', 'write_through', 'writelines']\n"
     ]
    }
   ],
   "source": [
    "# 1. 파일열기\n",
    "# 변수 = open(파일명, 열기모드, 인코딩)\n",
    "%pwd\n",
    "# ?open\n",
    "f = open('./data/newfile.txt', 'w')\n",
    "print(type(f), dir(f))\n",
    "f.close()"
   ]
  },
  {
   "cell_type": "code",
   "execution_count": 32,
   "id": "17a7ae75",
   "metadata": {},
   "outputs": [
    {
     "name": "stdout",
     "output_type": "stream",
     "text": [
      "17\n"
     ]
    }
   ],
   "source": [
    "# 파일을 쓰기모드로 열고 텍스트를 쓰기(wrte()메서드)\n",
    "f = open('./data/newfile.txt', 'w', encoding='utf-8')\n",
    "# f.write?\n",
    "for i in range(1, 11):\n",
    "    data = 'UTF-8 %2d번째 라인입니다\\n' % i\n",
    "    result = f.write(data)\n",
    "f.close()\n",
    "print(result)"
   ]
  },
  {
   "cell_type": "markdown",
   "id": "167ed9ec",
   "metadata": {},
   "source": [
    "### 2. 파일읽기"
   ]
  },
  {
   "cell_type": "code",
   "execution_count": 17,
   "id": "fd33f695",
   "metadata": {},
   "outputs": [
    {
     "name": "stdout",
     "output_type": "stream",
     "text": [
      "<class 'str'> UTF-8  1번째 라인입니다\n",
      "\n"
     ]
    }
   ],
   "source": [
    "# 1. 외부에 저장된 파일읽기(1) : readline()\n",
    "# f.readline?\n",
    "f = open('./data/newfile.txt', 'r', encoding='utf-8')\n",
    "line = f.readline()\n",
    "f.close()\n",
    "print(type(line), line)"
   ]
  },
  {
   "cell_type": "code",
   "execution_count": 18,
   "id": "c24401c3",
   "metadata": {},
   "outputs": [
    {
     "name": "stdout",
     "output_type": "stream",
     "text": [
      "UTF-8  1번째 라인입니다\n",
      "\n",
      "UTF-8  2번째 라인입니다\n",
      "\n",
      "UTF-8  3번째 라인입니다\n",
      "\n",
      "UTF-8  4번째 라인입니다\n",
      "\n",
      "UTF-8  5번째 라인입니다\n",
      "\n",
      "UTF-8  6번째 라인입니다\n",
      "\n",
      "UTF-8  7번째 라인입니다\n",
      "\n",
      "UTF-8  8번째 라인입니다\n",
      "\n",
      "UTF-8  9번째 라인입니다\n",
      "\n",
      "UTF-8 10번째 라인입니다\n",
      "\n"
     ]
    }
   ],
   "source": [
    "# 2. 외부에 저장된 파일읽기(2) : readline() and while\n",
    "f = open('./data/newfile.txt', 'r', encoding='utf-8')\n",
    "while True:\n",
    "    line = f.readline()\n",
    "    if not line: break\n",
    "    print(line)\n",
    "f.close()"
   ]
  },
  {
   "cell_type": "code",
   "execution_count": 21,
   "id": "fd7c3a6b",
   "metadata": {},
   "outputs": [
    {
     "name": "stdout",
     "output_type": "stream",
     "text": [
      "<class 'list'>\n",
      "['UTF-8  1번째 라인입니다\\n', 'UTF-8  2번째 라인입니다\\n', 'UTF-8  3번째 라인입니다\\n', 'UTF-8  4번째 라인입니다\\n', 'UTF-8  5번째 라인입니다\\n', 'UTF-8  6번째 라인입니다\\n', 'UTF-8  7번째 라인입니다\\n', 'UTF-8  8번째 라인입니다\\n', 'UTF-8  9번째 라인입니다\\n', 'UTF-8 10번째 라인입니다\\n']\n",
      "\n",
      "UTF-8  1번째 라인입니다\n",
      "\n",
      "UTF-8  2번째 라인입니다\n",
      "\n",
      "UTF-8  3번째 라인입니다\n",
      "\n",
      "UTF-8  4번째 라인입니다\n",
      "\n",
      "UTF-8  5번째 라인입니다\n",
      "\n",
      "UTF-8  6번째 라인입니다\n",
      "\n",
      "UTF-8  7번째 라인입니다\n",
      "\n",
      "UTF-8  8번째 라인입니다\n",
      "\n",
      "UTF-8  9번째 라인입니다\n",
      "\n",
      "UTF-8 10번째 라인입니다\n",
      "\n"
     ]
    }
   ],
   "source": [
    "# 3. 외부에 저장된 파일읽기(3) : readlines()\n",
    "f = open('./data/newfile.txt', 'r', encoding='utf-8')\n",
    "lines = f.readlines()\n",
    "f.close()\n",
    "print(type(lines))\n",
    "print(lines)\n",
    "print()\n",
    "\n",
    "for line in lines:\n",
    "    print(line)\n"
   ]
  },
  {
   "cell_type": "code",
   "execution_count": 30,
   "id": "01b14fcf",
   "metadata": {},
   "outputs": [
    {
     "name": "stdout",
     "output_type": "stream",
     "text": [
      "<class 'str'>\n",
      "UTF-8  1번째 라인입니다\n",
      "UTF-8  2번째 라인입니다\n",
      "UTF-8  3번째 라인입니다\n",
      "UTF-8  4번째 라인입니다\n",
      "UTF-8  5번째 라인입니다\n",
      "UTF-8  6번째 라인입니다\n",
      "UTF-8  7번째 라인입니다\n",
      "UTF-8  8번째 라인입니다\n",
      "UTF-8  9번째 라인입니다\n",
      "UTF-8 10번째 라인입니다\n",
      "\n"
     ]
    }
   ],
   "source": [
    "# 4. 외부에 저장된 파일읽기(4) : read()\n",
    "# f.read?\n",
    "f = open('./data/newfile.txt', 'r', encoding='utf-8')\n",
    "data = f.read()\n",
    "f.close\n",
    "print(type(data))\n",
    "print(data)"
   ]
  },
  {
   "cell_type": "markdown",
   "id": "2633d025",
   "metadata": {},
   "source": [
    "### 3. 파일쓰기"
   ]
  },
  {
   "cell_type": "code",
   "execution_count": 33,
   "id": "d6bb90f5",
   "metadata": {},
   "outputs": [],
   "source": [
    "# 1. 추가모드(a) : 기존 파일에 새로운 내용을 맨 뒤에 추가\n",
    "# 파일이 없다면 새로운 파일 생성후 추가\n",
    "f = open('./data/newfile.txt', 'a', encoding='utf-8')\n",
    "for i in range(11, 21):\n",
    "    data = '추가모드 %2d번째 라인입니다\\n' % i\n",
    "    f.write(data)\n",
    "f.close()"
   ]
  },
  {
   "cell_type": "code",
   "execution_count": 35,
   "id": "c67dfca9",
   "metadata": {},
   "outputs": [
    {
     "name": "stdout",
     "output_type": "stream",
     "text": [
      "Variable   Type             Data/Info\n",
      "-------------------------------------\n",
      "f          TextIOWrapper    <_io.TextIOWrapper name='<...>ode='w' encoding='utf-8'>\n",
      "f_name     str              ./data/newfile_01.txt\n"
     ]
    }
   ],
   "source": [
    "# with문 사용: 오픈된 파일을 자동으로 close\n",
    "# with문은 python v2.5이상에서부터 사용가능\n",
    "# 파일을 오픈하면 항상 close하는 것이 좋지만 매번 파일을 열고 닫는 것이 번거롭기 때문에\n",
    "# 자동으로 처리할 수 있도록 하는 명령문이 with문이다.\n",
    "%reset -f\n",
    "f_name = './data/newfile_01.txt'\n",
    "with open(f_name, 'w', encoding='utf-8') as f:\n",
    "    f.write('Hello Python!!!!')\n",
    "%whos"
   ]
  },
  {
   "cell_type": "markdown",
   "id": "0c7e135e",
   "metadata": {},
   "source": [
    "### 4. 파일객체 접근함수"
   ]
  },
  {
   "cell_type": "code",
   "execution_count": 52,
   "id": "0be1af48",
   "metadata": {},
   "outputs": [
    {
     "name": "stdout",
     "output_type": "stream",
     "text": [
      "Life is too short!\n",
      "----+----+----+----+----+\n",
      "현재 포인터 위치 = 18\n",
      "현재 포인터 위치 = 5\n",
      "is too short!\n",
      "현재 포인터 위치 = 18\n"
     ]
    }
   ],
   "source": [
    "# seek, tell\n",
    "# f.seek?\n",
    "# 1. f.seek(n) or f.seek(n, 0) : 파일을 맨 처음 위치에서부터 n번쨰로 이동후 파일읽기\n",
    "# 2. f.seek(n, 1) : 현재 위치(1=SET_CUR)\n",
    "# 3. f.seek(n, 2) : 파일 맨끝(2=SET_END)\n",
    "# 4. f.tell() : 현재 포인터 위치\n",
    "f = open('./data/newfile_02.txt', 'w', encoding='utf-8')\n",
    "f.write('Life is too short!')\n",
    "f = open('./data/newfile_02.txt', 'r', encoding='utf-8')\n",
    "for line in f:\n",
    "    print(line)\n",
    "print('----+' * 5)    \n",
    "print(f'현재 포인터 위치 = {f.tell()}') # 현재 포인터의 위치\n",
    "\n",
    "f.seek(5, 0)\n",
    "print(f'현재 포인터 위치 = {f.tell()}')\n",
    "line = f.readline()\n",
    "print(line)\n",
    "print(f'현재 포인터 위치 = {f.tell()}')"
   ]
  },
  {
   "cell_type": "markdown",
   "id": "d6294718",
   "metadata": {},
   "source": [
    "### 5. 파일저장하기"
   ]
  },
  {
   "cell_type": "code",
   "execution_count": 58,
   "id": "aea329c6",
   "metadata": {},
   "outputs": [
    {
     "name": "stdout",
     "output_type": "stream",
     "text": [
      "<class 'list'> ['UTF-8  1번째 라인입니다\\n', 'UTF-8  2번째 라인입니다\\n', 'UTF-8  3번째 라인입니다\\n', 'UTF-8  4번째 라인입니다\\n', 'UTF-8  5번째 라인입니다\\n', 'UTF-8  6번째 라인입니다\\n', 'UTF-8  7번째 라인입니다\\n', 'UTF-8  8번째 라인입니다\\n', 'UTF-8  9번째 라인입니다\\n', 'UTF-8 10번째 라인입니다\\n', '추가모드 11번째 라인입니다\\n', '추가모드 12번째 라인입니다\\n', '추가모드 13번째 라인입니다\\n', '추가모드 14번째 라인입니다\\n', '추가모드 15번째 라인입니다\\n', '추가모드 16번째 라인입니다\\n', '추가모드 17번째 라인입니다\\n', '추가모드 18번째 라인입니다\\n', '추가모드 19번째 라인입니다\\n', '추가모드 20번째 라인입니다\\n']\n"
     ]
    }
   ],
   "source": [
    "# 1. 파일내용을 list자료형으로 변환하기\n",
    "f = open('./data/newfile.txt', 'r', encoding='utf-8')\n",
    "\n",
    "# 변환함수 list(), tuple() int()...\n",
    "l = list(f)\n",
    "print(type(l), l)\n",
    "f.close()"
   ]
  },
  {
   "cell_type": "code",
   "execution_count": 73,
   "id": "68e42b2a",
   "metadata": {},
   "outputs": [
    {
     "name": "stdout",
     "output_type": "stream",
     "text": [
      "8\n",
      "csv파일 추가 완료!!!\n"
     ]
    }
   ],
   "source": [
    "# 2. csv파일 형식으로 저장하기\n",
    "\n",
    "nums = [1,2,3,4,5,6,7,8,9,10]\n",
    "count = len(nums)\n",
    "print(count)\n",
    "\n",
    "out_file = './data/result.csv'\n",
    "f = open(out_file, 'a', encoding='utf-8')\n",
    "for i in range(count):\n",
    "    if i < count-1:\n",
    "        f.write(str(nums[i]) + ',')\n",
    "    else:\n",
    "        f.write(str(nums[i]) + '\\n')\n",
    "f.close()\n",
    "print('csv파일 추가 완료!!!')"
   ]
  },
  {
   "cell_type": "markdown",
   "id": "194f6ee1",
   "metadata": {},
   "source": [
    "### 6. 파일객체를 파일에 저장, 불러오기\n",
    "\n",
    "#### 1) pick모듈\n",
    "\n",
    "* 일반 텍스트를 저장할 경우에는 파일을 이용해서 저장한다.\n",
    "* 하지만, 리스트, 클래스(class)같은 텍스트가 아닌 자료형 또는 객체는 일반적인 파일입출력방법으로는 데이터를 저장하거나 읽을 수가 없다.\n",
    "* 파이썬에서는 이와같이 텍스트이외의 자료를 파일로 저장하기 위해서 `pickle모듈`을 사용한다.\n",
    "* pickle을 사용해서 데이터입력,로딩을 하기 위해서는 `import pickle`로 모듈을 import해야 한다.\n",
    "* pickle을 이용하면 원하는 데이터를 자료형의 변경없이 파일로 저장하여 그대로 로드를 할 수 있다.\n",
    "* pickle로 데이터를 저장, 읽을 경우에는 파일을 `바이트형식으로 처리`해야 한다. 즉, `wb, rb`모드로 파일을 오픈해야 한다.\n",
    "* wb로 데이터를 저장할 경우에는 관례적으로 `파일이름의 확장자를 bin`으로 사용한다.\n",
    "* 모든 파이썬의 데이타는 객체상태(이진파일)형태로 처리할 수가 있다.\n",
    "\n",
    "#### 2) pickle사용하기\n",
    "\n",
    "1. 쓰기 : pickle.dump(data, file)\n",
    "1. 읽기 : plckle.load(file) or load()함수로 파일을 읽어 올 수 있다. 단 pickle.dump()로 저장된 파일만 처리할 수 있다."
   ]
  },
  {
   "cell_type": "code",
   "execution_count": 83,
   "id": "28adc03d",
   "metadata": {},
   "outputs": [
    {
     "name": "stdout",
     "output_type": "stream",
     "text": [
      "<class 'bytes'> b'\\x01\\x02\\x03\\x04\\x05\\x06\\x07\\x08\\t\\n'\n",
      "1,2,3,4,5,6,7,8,9,10,"
     ]
    },
    {
     "ename": "TypeError",
     "evalue": "'str' object cannot be interpreted as an integer",
     "output_type": "error",
     "traceback": [
      "\u001b[1;31m---------------------------------------------------------------------------\u001b[0m",
      "\u001b[1;31mTypeError\u001b[0m                                 Traceback (most recent call last)",
      "Cell \u001b[1;32mIn[83], line 21\u001b[0m\n\u001b[0;32m     19\u001b[0m data \u001b[38;5;241m=\u001b[39m [\u001b[38;5;241m1\u001b[39m,\u001b[38;5;241m2\u001b[39m,\u001b[38;5;241m3\u001b[39m,\u001b[38;5;241m4\u001b[39m,\u001b[38;5;241m5\u001b[39m,\u001b[38;5;241m6\u001b[39m,\u001b[38;5;241m7\u001b[39m,\u001b[38;5;241m8\u001b[39m,\u001b[38;5;241m9\u001b[39m,\u001b[38;5;241m10\u001b[39m, \u001b[38;5;124m'\u001b[39m\u001b[38;5;124m문자열\u001b[39m\u001b[38;5;124m'\u001b[39m, \u001b[38;5;28mprint\u001b[39m]\n\u001b[0;32m     20\u001b[0m \u001b[38;5;28;01mwith\u001b[39;00m \u001b[38;5;28mopen\u001b[39m(\u001b[38;5;124m'\u001b[39m\u001b[38;5;124m./data/test_01.bin\u001b[39m\u001b[38;5;124m'\u001b[39m, \u001b[38;5;124m'\u001b[39m\u001b[38;5;124mwb\u001b[39m\u001b[38;5;124m'\u001b[39m) \u001b[38;5;28;01mas\u001b[39;00m f:\n\u001b[1;32m---> 21\u001b[0m     f\u001b[38;5;241m.\u001b[39mwrite(\u001b[38;5;28mbytes\u001b[39m(data))\n",
      "\u001b[1;31mTypeError\u001b[0m: 'str' object cannot be interpreted as an integer"
     ]
    }
   ],
   "source": [
    "# 1. pickle사용없이 바이너리로 파일저장하기\n",
    "data = [1,2,3,4,5,6,7,8,9,10]\n",
    "\n",
    "# 1) 바이너리파일 쓰기\n",
    "with open('./data/test.bin', 'wb') as f:\n",
    "    # f.write(data) # TypeError: a bytes-like object is required, not 'list'\n",
    "    # bytes()변환함수를 이용하여 이진데이터로 변환후 저장     \n",
    "    # print(type(bytes(data)), bytes(data)) \n",
    "    f.write(bytes(data)) \n",
    "\n",
    "# 2) 바이너리파일 읽기\n",
    "with open('./data/test.bin', 'rb') as f:\n",
    "    contents = f.read()\n",
    "    print(type(contents), contents)\n",
    "    for content in contents:\n",
    "        print(content, end=\",\")\n",
    "\n",
    "# 3) 객체를 파일로 저장\n",
    "data = [1,2,3,4,5,6,7,8,9,10, '문자열', print]\n",
    "with open('./data/test_01.bin', 'wb') as f:\n",
    "    f.write(bytes(data)) # TypeError: 'str' object cannot be interpreted as an integer"
   ]
  },
  {
   "cell_type": "code",
   "execution_count": 100,
   "id": "ea850b0e",
   "metadata": {},
   "outputs": [
    {
     "name": "stdout",
     "output_type": "stream",
     "text": [
      "<class 'str'> Hello Python\n",
      "<class 'int'> 12345\n",
      "<class 'float'> 123.0\n",
      "<class 'list'> [1, 2, 3, ['x', 'y', 'z'], (4, 5, 6)]\n",
      "<class 'dict'> {'name': '소향', 'addr': '서울'}\n",
      "\n",
      "<class 'str'> Hello Python\n",
      "<class 'int'> 12345\n",
      "<class 'float'> 123.0\n",
      "<class 'list'> [1, 2, 3, ['x', 'y', 'z'], (4, 5, 6)]\n",
      "<class 'dict'> {'name': '소향', 'addr': '서울'}\n"
     ]
    }
   ],
   "source": [
    "# 2, pickle을 이용해서 객체(문자열 or 함수등...)를 저장하기\n",
    "\n",
    "# 1) pickle모듈 로드\n",
    "import pickle\n",
    "# pickle?\n",
    "\n",
    "# 2) 객체를 파일로 저장\n",
    "with open('./data/pickle.bin', 'wb') as f:\n",
    "    pickle.dump('Hello Python', f) # string객체를 파일에 저장\n",
    "    pickle.dump(12345, f)          # 기본타입 int객체를 파일에 저장\n",
    "    pickle.dump(123.0, f)          # 기본타입 float객체를 파일에 저장\n",
    "    pickle.dump([1,2,3, ['x', 'y', 'z'], (4,5,6)], f) # list객체(int, list, string, 파일객체)로 저장\n",
    "    pickle.dump({'name':'소향', 'addr':'서울'}, f) # dict객체를 파일에 저장\n",
    "\n",
    "# 3) 파일에 저장된 객체읽기\n",
    "with open('./data/pickle.bin', 'rb') as f:\n",
    "    data = pickle.load(f)\n",
    "    print(type(data), data)\n",
    "    data = pickle.load(f)\n",
    "    print(type(data), data)  \n",
    "    data = pickle.load(f)\n",
    "    print(type(data), data)      \n",
    "    data = pickle.load(f)\n",
    "    print(type(data), data)  \n",
    "    data = pickle.load(f)\n",
    "    print(type(data), data)    \n",
    "    \n",
    "    # 파일객체에서 꺼내올 자료가 더이상 없을 경우에 에러 발생\n",
    "#     data = pickle.load(f)\n",
    "#     print(type(data), data)  \n",
    "print()\n",
    "\n",
    "# 4) 파일로 저장된 객체를 읽기(익셉션처리)\n",
    "with open('./data/pickle.bin', 'rb') as f:\n",
    "    while True:\n",
    "        try:\n",
    "            data = pickle.load(f)\n",
    "            print(type(data), data) \n",
    "        except EOFError:\n",
    "            break"
   ]
  },
  {
   "cell_type": "code",
   "execution_count": 107,
   "id": "1d0497b9",
   "metadata": {},
   "outputs": [
    {
     "name": "stdout",
     "output_type": "stream",
     "text": [
      "소향 45 인천 송도 {'국어': 99, '영어': 95, '수학': 89, '과학': 90} <function add at 0x000002C80DF78900>\n",
      "2 + 3 = 5\n"
     ]
    }
   ],
   "source": [
    "# 3. pickle을 사용해서 파일객체를 저장\n",
    "import pickle as p\n",
    "\n",
    "name = '소향'\n",
    "age = 45\n",
    "addr = '인천 송도'\n",
    "scores = {'국어':99, '영어':95, '수학':89, '과학':90}\n",
    "\n",
    "def add(a,b):\n",
    "    return a+b\n",
    "\n",
    "with open('./data/sohyang.bin', 'wb') as f:\n",
    "    p.dump(name, f)\n",
    "    p.dump(age, f)\n",
    "    p.dump(addr, f)\n",
    "    p.dump(scores, f)\n",
    "    p.dump(add, f)\n",
    "\n",
    "with open('./data/sohyang.bin', 'rb') as f:\n",
    "    name = p.load(f)\n",
    "    age = p.load(f)\n",
    "    addr = p.load(f)\n",
    "    scores = p.load(f)\n",
    "    add = p.load(f)\n",
    "    print(name, age, addr, scores, add)\n",
    "    print(f'2 + 3 = {add(2,3)}')"
   ]
  },
  {
   "cell_type": "code",
   "execution_count": 113,
   "id": "d1813fbf",
   "metadata": {},
   "outputs": [
    {
     "name": "stdout",
     "output_type": "stream",
     "text": [
      "<class 'dict'> {'name': '소향', 'age': 45, 'addr': '인천 송도', 'scors': {'국어': 99, '영어': 95, '수학': 89, '과학': 90}}\n"
     ]
    }
   ],
   "source": [
    "# gzip모듈을 이용하여 데이터를 압축하고 해제하기\n",
    "# 참고 : https://docs.python.org/ko/3/library/gzip.html\n",
    "import pickle as p\n",
    "import gzip\n",
    "# gzip?\n",
    "\n",
    "data = {\n",
    "    'name':'소향',\n",
    "    'age':45,\n",
    "    'addr': '인천 송도',\n",
    "    'scors': {'국어':99, '영어':95, '수학':89, '과학':90}\n",
    "}\n",
    "\n",
    "# 쓰기와 압축\n",
    "with gzip.open('./data/sohyang_zip.bin', 'wb') as f:\n",
    "    p.dump(data, f)\n",
    "    \n",
    "with gzip.open('./data/sohyang_zip.bin', 'rb') as f:\n",
    "    data = p.load(f)\n",
    "    print(type(data), data)\n",
    "    "
   ]
  }
 ],
 "metadata": {
  "kernelspec": {
   "display_name": "Python 3 (ipykernel)",
   "language": "python",
   "name": "python3"
  },
  "language_info": {
   "codemirror_mode": {
    "name": "ipython",
    "version": 3
   },
   "file_extension": ".py",
   "mimetype": "text/x-python",
   "name": "python",
   "nbconvert_exporter": "python",
   "pygments_lexer": "ipython3",
   "version": "3.11.5"
  }
 },
 "nbformat": 4,
 "nbformat_minor": 5
}
