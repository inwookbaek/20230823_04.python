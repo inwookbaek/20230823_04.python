{
 "cells": [
  {
   "cell_type": "markdown",
   "id": "846df155",
   "metadata": {},
   "source": [
    "# 5. 쳇봇학습툴만들기\n",
    "\n",
    "## 5.1 프로젝트구조\n",
    "\n",
    "###### chatbot 프로젝트\n",
    " - train_tools : 챗봇 학습툴 관련파일\n",
    " - models      : 챗봇엔진에서 사용하는 딥러닝 모델관련 파일\n",
    "   - intent    : 의도 분류 모델\n",
    "   - ner       : 개체인식모델\n",
    " - utils       : 챗봇 개발에 필요한 유틸리티 라이브러기\n",
    " - config      : 챗봇 개발에 필요한 환경설정\n",
    " - test        : 챗봇 개발에 필용한 테스트 코드"
   ]
  },
  {
   "cell_type": "code",
   "execution_count": 2,
   "id": "dc98baca",
   "metadata": {},
   "outputs": [],
   "source": [
    "!mkdir .\\chatbot\\train_tools\\qna\n",
    "!mkdir .\\chatbot\\models\\intent\n",
    "!mkdir .\\chatbot\\models\\ner\n",
    "!mkdir .\\chatbot\\utils\n",
    "!mkdir .\\chatbot\\config\n",
    "!mkdir .\\chatbot\\test"
   ]
  },
  {
   "cell_type": "markdown",
   "id": "fdf67bf5",
   "metadata": {},
   "source": [
    "## 5.2 테이터베이스 & 테이블 생성\n",
    "\n",
    "###### chatbot_train_data\n",
    "1. id     : 학습데이터 ID\n",
    "1. intent : 의도명, 의도가 없는 경우 null\n",
    "1. ner    : 개체명, 개체명이 없는 경우 null\n",
    "1. query  : 질문 text\n",
    "1. answer : 답변 text\n",
    "1. answer_image : 답변image, 없는 경우 null"
   ]
  },
  {
   "cell_type": "code",
   "execution_count": 18,
   "id": "94c8f504",
   "metadata": {},
   "outputs": [],
   "source": [
    "# %%writefile .\\chatbot\\config\\DatabaseConfig.py\n",
    "DB_HOST = \"127.0.0.1\"\n",
    "DB_USER = \"root\"\n",
    "DB_PASSWORD = \"12345\"\n",
    "DB_NAME = \"chatbot\"\n",
    "DB_PORT=3306\n",
    "\n",
    "def DatabaseConfig():\n",
    "    global DB_HOST, DB_PORT, DB_USER, DB_PASSWORD, DB_NAME"
   ]
  },
  {
   "cell_type": "code",
   "execution_count": 21,
   "id": "e26142e2",
   "metadata": {},
   "outputs": [],
   "source": [
    "#%%writefile .\\chatbot\\train_tools\\qna\\create_train_data_table.py\n",
    "import pymysql\n",
    "from chatbot.config.DatabaseConfig import *\n",
    "\n",
    "db = None\n",
    "\n",
    "try:\n",
    "    db = pymysql.connect(\n",
    "        host=DB_HOST,\n",
    "        port=DB_PORT,\n",
    "        user=DB_USER,\n",
    "        passwd=DB_PASSWORD,\n",
    "        db=DB_NAME,\n",
    "        charset='utf8'\n",
    "    )\n",
    "    \n",
    "\n",
    "    # 테이블 생성 sql 정의\n",
    "    sql = '''\n",
    "      CREATE TABLE IF NOT EXISTS `chatbot_train_data` (\n",
    "      `id` INT UNSIGNED NOT NULL AUTO_INCREMENT,\n",
    "      `intent` VARCHAR(45) NULL,\n",
    "      `ner` VARCHAR(1024) NULL,\n",
    "      `query` TEXT NULL,\n",
    "      `answer` TEXT NOT NULL,\n",
    "      `answer_image` VARCHAR(2048) NULL,\n",
    "      PRIMARY KEY (`id`))\n",
    "    ENGINE = InnoDB DEFAULT CHARSET=utf8\n",
    "    '''\n",
    "    \n",
    "    # 테이블생성\n",
    "    with db.cursor() as cursor:\n",
    "        cursor.execute(sql)\n",
    "\n",
    "except Exception as e:\n",
    "    print(e)\n",
    "\n",
    "finally:\n",
    "    if db is not None:\n",
    "        db.close()"
   ]
  },
  {
   "cell_type": "markdown",
   "id": "bd06c2aa",
   "metadata": {},
   "source": [
    "## 5.3 쳇봇학습데이터 연동하기\n",
    "\n",
    "* 엑셀파일 train_data.xls을 chatbot_train_data에 업로드하기\n",
    "* 설치 : pip install openpyxl\n",
    "\n",
    "##### train_data.xlsx 저장\n",
    "###### 컬럼* \n",
    "1. 의도(intent)    : 질문의 의도를 나타내는 텍스트, 의도가 없는 경우에는 공란\n",
    "2. 개체명인식(NER) : 질문에 필요한 개체명. 개체명이 없는 경우 공란\n",
    "3. 질문(Query)     : 질문테스트\n",
    "4. 답변(Answer)    : 답변테스트\n",
    "5. 답변이미지      : 답변에 들어갈 이미지 URL, 없는 경우 공란"
   ]
  },
  {
   "cell_type": "code",
   "execution_count": 8,
   "id": "41a10f5d",
   "metadata": {},
   "outputs": [
    {
     "name": "stdout",
     "output_type": "stream",
     "text": [
      "Name: openpyxl\n",
      "Version: 3.0.10\n",
      "Summary: A Python library to read/write Excel 2010 xlsx/xlsm files\n",
      "Home-page: https://openpyxl.readthedocs.io\n",
      "Author: See AUTHORS\n",
      "Author-email: charlie.clark@clark-consulting.eu\n",
      "License: MIT\n",
      "Location: C:\\Anaconda3\\Lib\\site-packages\n",
      "Requires: et_xmlfile\n",
      "Required-by: \n"
     ]
    }
   ],
   "source": [
    "#!pip install openpyxl\n",
    "!pip show openpyxl"
   ]
  },
  {
   "cell_type": "code",
   "execution_count": 23,
   "id": "3f587fba",
   "metadata": {},
   "outputs": [
    {
     "name": "stdout",
     "output_type": "stream",
     "text": [
      "안녕하세요 저장\n",
      "반가워요 저장\n",
      "{B_FOOD} 주문할게요 저장\n",
      "{B_FOOD} 주문할게요 저장\n",
      "{B_DT} 예약 저장\n",
      "None 저장\n"
     ]
    }
   ],
   "source": [
    "#%%writefile .\\chatbot\\train_tools\\qna\\load_train_data.py\n",
    "import pymysql\n",
    "import openpyxl\n",
    "\n",
    "from chatbot.config.DatabaseConfig import *\n",
    "\n",
    "# 학습데이터초기화\n",
    "def all_clear_train_data(db):\n",
    "    # 기존 학습 데이터 삭제\n",
    "    sql = '''\n",
    "        delete from chatbot_train_data\n",
    "    '''\n",
    "    with db.cursor() as cursor:\n",
    "        cursor.execute(sql)    \n",
    "\n",
    "# db에 데이터저장\n",
    "def insert_data(db, xls_row):\n",
    "    intent, ner, query, answer, answer_img_url = xls_row\n",
    "    \n",
    "    sql = '''\n",
    "        INSERT chatbot_train_data(intent, ner, query, answer, answer_image) \n",
    "        values(\n",
    "         '%s', '%s', '%s', '%s', '%s'\n",
    "        )\n",
    "    ''' % (intent.value, ner.value, query.value, answer.value, answer_img_url.value)\n",
    "    \n",
    "    # 엑셀에서 블러온 cell에 데이터가 없을 경우 null로 치환\n",
    "    sql = sql.replace(\"None\", \"null\")\n",
    "    \n",
    "    with db.cursor() as cursor:\n",
    "        cursor.execute(sql)\n",
    "        print(f'{query.value} 저장')\n",
    "        db.commit()\n",
    "        \n",
    "train_file = './chatbot/train_tools/qna/train_data.xlsx'        \n",
    "\n",
    "db = None\n",
    "\n",
    "try:\n",
    "    db = pymysql.connect(\n",
    "        host=DB_HOST,\n",
    "        port=DB_PORT,\n",
    "        user=DB_USER,\n",
    "        passwd=DB_PASSWORD,\n",
    "        db=DB_NAME,\n",
    "        charset='utf8'\n",
    "    )\n",
    "    \n",
    "    # 기존학습데이터초기화\n",
    "    all_clear_train_data(db)\n",
    "    \n",
    "    # 학습파일(엑셀)로딩\n",
    "    wb = openpyxl.load_workbook(train_file)\n",
    "    sheet = wb['Sheet1']\n",
    "    \n",
    "    for row in sheet.iter_rows(min_row=2): # 헤더는 skip\n",
    "        # 데이터저장\n",
    "        insert_data(db, row)\n",
    "\n",
    "    wb.close()\n",
    "    \n",
    "except Exception as e:\n",
    "    print(e)\n",
    "\n",
    "finally:\n",
    "    if db is not None:\n",
    "        db.close()    "
   ]
  }
 ],
 "metadata": {
  "kernelspec": {
   "display_name": "Python 3 (ipykernel)",
   "language": "python",
   "name": "python3"
  },
  "language_info": {
   "codemirror_mode": {
    "name": "ipython",
    "version": 3
   },
   "file_extension": ".py",
   "mimetype": "text/x-python",
   "name": "python",
   "nbconvert_exporter": "python",
   "pygments_lexer": "ipython3",
   "version": "3.11.5"
  }
 },
 "nbformat": 4,
 "nbformat_minor": 5
}
