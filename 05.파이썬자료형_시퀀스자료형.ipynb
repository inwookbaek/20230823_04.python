{
 "cells": [
  {
   "cell_type": "markdown",
   "id": "3d152f99",
   "metadata": {},
   "source": [
    "# 시퀀스 자료형 활용하기\n",
    "\n",
    "* 지금까지 사용했던 `list, tuple, string`이외에 `range`등을 보면 공통점이 있다.\n",
    "* 이들 모두 값들이 연속적인 순서(sequence)가 있다는 점이다.\n",
    "\n",
    "><h6 align=\"center\">값이 연속적으로 이루어진 자료형</h6>\n",
    "><img src=\"./images/05.파이썬자료형_시퀀스자료형_01.png\" width=\"300\" height=\"200\">\n",
    "\n",
    "* 파이썬에서는 list, tuple, string, range처럼 값이 연속적으로 이어진 자료형을 `시퀀스객체`라고 한다.\n",
    "\n",
    "><img src=\"./images/05.파이썬자료형_시퀀스자료형_02.png\" width=\"300\" height=\"200\">\n",
    "\n",
    "## 1. 시퀀스자료형의 공통기능 사용하기\n",
    "\n",
    "* 시퀀스자료형의 가장 큰 특징은 공통된 동작과 기능을 제공한다는 점이다.\n",
    "* 따라서, 시퀀스 자료형의 기본적인 사용방법을 익혀두면 나중에 어떠한 시퀀스 자료형을 큰 어려움없이 바로 사용할 수 있게 된다.\n",
    "* 시퀀스 자료형으로 만든 객체를 `시퀀스객체`라고 하며, 시퀀스객체에 들어 있는 각각의 값들을 `요소(elements)`라고 한다.\n",
    "\n",
    "><h6 align=\"center\">시퀀스객체와 요소</h6>\n",
    "><img src=\"./images/05.파이썬자료형_시퀀스자료형_03.png\" width=\"300\" height=\"200\">"
   ]
  },
  {
   "cell_type": "code",
   "execution_count": 8,
   "id": "404dfddf",
   "metadata": {},
   "outputs": [
    {
     "name": "stdout",
     "output_type": "stream",
     "text": [
      "True\n",
      "False\n",
      "\n",
      "False\n",
      "True\n"
     ]
    }
   ],
   "source": [
    "# 특정값이 있는지 여부를 확인하기\n",
    "# 시퀀스 객체에 'in, not in'연사자를 사용할 수 있다.\n",
    "# 이 연산자를 사용해서 특정값의 유무를 True, False로 리턴\n",
    "a = (0,1,2,3,4,5,6,7,8)\n",
    "print(3 in a)\n",
    "print(3 not in a)\n",
    "print()\n",
    "\n",
    "print(9 in a)\n",
    "print(9 not in a)"
   ]
  },
  {
   "cell_type": "markdown",
   "id": "a28dc7c8",
   "metadata": {},
   "source": [
    "## 2. 시퀀스객체 연결하기\n",
    "\n",
    "* 시퀀스 객체는 `더하기(+)`연산자를 사용하여 객체를 서로 연결해서 새로운 객체를 만들 수 있다.\n",
    "* 단, 시퀀스 자료형중에서 range는 +연산자로 객체를 연결할 수 없다."
   ]
  },
  {
   "cell_type": "code",
   "execution_count": 20,
   "id": "af0ea7a6",
   "metadata": {},
   "outputs": [
    {
     "name": "stdout",
     "output_type": "stream",
     "text": [
      "[1, 2, 3, 'x', 'y', 'z']\n",
      "[1, 2, 3, 'a', 'b', 'c']\n",
      "(1, 2, 3, 'a', 'b', 'c')\n",
      "[0, 1, 2, 3, 4, 5, 6, 7, 8, 9]\n",
      "[10, 11, 12, 13, 14, 15, 16, 17, 18, 19]\n",
      "[0, 1, 2, 3, 4, 5, 6, 7, 8, 9, 10, 11, 12, 13, 14, 15, 16, 17, 18, 19]\n",
      "(0, 1, 2, 3, 4, 5, 6, 7, 8, 9)\n"
     ]
    }
   ],
   "source": [
    "a = [1,2,3]\n",
    "b = ['x', 'y', 'z']\n",
    "print(a+b)\n",
    "\n",
    "c = ('a','b','c')\n",
    "\n",
    "# print(a + c) TypeError: can only concatenate list (not \"tuple\") to list\n",
    "print(a + list(c))\n",
    "print(tuple(a) + c)\n",
    "\n",
    "# range(0, 10) + range(11,20) TypeError: unsupported operand type(s) for +: 'range' and 'range'\n",
    "print(list(range(0,10)))\n",
    "print(list(range(10,20)))\n",
    "print(list(range(0,10)) + list(range(10,20)))\n",
    "print(tuple(range(0,10)))"
   ]
  },
  {
   "cell_type": "code",
   "execution_count": 24,
   "id": "491eb41c",
   "metadata": {},
   "outputs": [
    {
     "name": "stdout",
     "output_type": "stream",
     "text": [
      "Hello, 10\n",
      "Hello, 10.5\n"
     ]
    }
   ],
   "source": [
    "# 문자열에 숫자를 연결하기\n",
    "# 'Hello, ' + 10 TypeError: can only concatenate str (not \"int\") to str\n",
    "\n",
    "# str() 변환함수\n",
    "print(\"Hello, \" + str(10))\n",
    "print(\"Hello, \" + str(10.5))\n",
    "\n",
    "# int(), float(), str(), list(), tuple(), dict()"
   ]
  },
  {
   "cell_type": "markdown",
   "id": "a75d5013",
   "metadata": {},
   "source": [
    "## 3. 시퀀스객체 반복하기\n",
    "\n",
    "* `곱하기(*)`연산자는 시퀀스 객체를 특정 횟수 만큼 반복해서 새 시퀀스객체를 만듬\n",
    "* 단, 0이나 음수를 곱하면 빈 객체가 리턴되고 실수로 곱할 수 는 없다."
   ]
  },
  {
   "cell_type": "code",
   "execution_count": 36,
   "id": "ae799418",
   "metadata": {},
   "outputs": [
    {
     "name": "stdout",
     "output_type": "stream",
     "text": [
      "[1, 2, 3, 4, 1, 2, 3, 4, 1, 2, 3, 4]\n",
      "[]\n",
      "[]\n",
      "range(1, 11, 2)\n",
      "[1, 3, 5, 7, 9]\n",
      "[1, 3, 5, 7, 9, 1, 3, 5, 7, 9]\n",
      "(1, 3, 5, 7, 9, 1, 3, 5, 7, 9)\n",
      "Hello Hello Hello \n"
     ]
    }
   ],
   "source": [
    "print([1,2,3,4] * 3)\n",
    "print([1,2,3,4] * 0)\n",
    "print([1,2,3,4] * -10000)\n",
    "# print([1,2] * 2.5) TypeError: can't multiply sequence by non-int of type 'float'\n",
    "\n",
    "# range객체는 반복 연산자를 사용할 수 없다.\n",
    "print(range(1, 11, 2))\n",
    "# print(range(1, 11, 2) * 2) TypeError: unsupported operand type(s) for *: 'range' and 'int'\n",
    "\n",
    "print(list(range(1, 11, 2)))\n",
    "print(list(range(1, 11, 2)) * 2)\n",
    "print(tuple(range(1, 11, 2)) * 2)\n",
    "print('Hello ' * 3)"
   ]
  },
  {
   "cell_type": "markdown",
   "id": "d958e17a",
   "metadata": {},
   "source": [
    "## 4. 리스트와 튜플 요소의 갯수 구하기"
   ]
  },
  {
   "cell_type": "code",
   "execution_count": 43,
   "id": "8475618d",
   "metadata": {},
   "outputs": [
    {
     "name": "stdout",
     "output_type": "stream",
     "text": [
      "10\n",
      "10\n",
      "12\n",
      "3\n",
      "6\n"
     ]
    }
   ],
   "source": [
    "# len?\n",
    "a = [1,2,3,4,5,6,7,8,9,10]\n",
    "print(len(a))\n",
    "\n",
    "b = (1,2,3,4,5,6,7,8,9,10)\n",
    "print(len(b))\n",
    "\n",
    "print(len('Hello Python'))\n",
    "\n",
    "c = {1:10, 2:20, 3:30}\n",
    "print(len(c))\n",
    "\n",
    "print(len(range(0, 11, 2)))"
   ]
  },
  {
   "cell_type": "code",
   "execution_count": 47,
   "id": "387e4c25",
   "metadata": {},
   "outputs": [
    {
     "name": "stdout",
     "output_type": "stream",
     "text": [
      "[0, 1, 2, 3, 4]\n",
      "[0, 2, 4, 6, 8, 10]\n",
      "6\n"
     ]
    }
   ],
   "source": [
    "# range함수 사용하기\n",
    "# range(stop)\n",
    "# range(start, stop [,step])\n",
    "print(list(range(5)))\n",
    "print(list(range(0, 11, 2)))\n",
    "print(len(range(0,11,2)))"
   ]
  },
  {
   "cell_type": "code",
   "execution_count": 51,
   "id": "23eb04e0",
   "metadata": {},
   "outputs": [
    {
     "name": "stdout",
     "output_type": "stream",
     "text": [
      "13\n",
      "5\n",
      "15\n",
      "10\n"
     ]
    }
   ],
   "source": [
    "# 문자열의 길이(문자셋)\n",
    "hello = 'Hello World!!'\n",
    "print(len(hello))\n",
    "\n",
    "hello = '안녕하세요'\n",
    "print(len(hello))\n",
    "\n",
    "# 문자셋기준(utf-8)\n",
    "print(len(hello.encode('utf-8')))  # 5 * 3byte = 15\n",
    "print(len(hello.encode('euc-kr'))) # 5 * 2byte = 10"
   ]
  },
  {
   "cell_type": "markdown",
   "id": "04ee8ec7",
   "metadata": {},
   "source": [
    "## 6. index사용하기\n",
    "\n",
    "* 시퀀스 객체에 `대괄호[]`를 붙이고 대괄호안에 각 요소의 인덱스로 접근한다.\n",
    "* 시퀀스 객체에 인덱스 항상 0부터 시작된다.\n",
    "* 시퀀스 객체의 인덱스를 지정하지 않으면 전체요소를 의미한다.\n",
    "\n",
    "* `__getitem__()`메서드는 시퀀스객체에서 `대괄호[]`로 호출이 된다.\n",
    ">`시퀀스객체[인덱스]`대신에 `시퀀스객체.__getitem__(인덱스)`로 호출"
   ]
  },
  {
   "cell_type": "code",
   "execution_count": 55,
   "id": "63f67ec9",
   "metadata": {},
   "outputs": [
    {
     "name": "stdout",
     "output_type": "stream",
     "text": [
      "['__add__', '__class__', '__class_getitem__', '__contains__', '__delattr__', '__delitem__', '__dir__', '__doc__', '__eq__', '__format__', '__ge__', '__getattribute__', '__getitem__', '__getstate__', '__gt__', '__hash__', '__iadd__', '__imul__', '__init__', '__init_subclass__', '__iter__', '__le__', '__len__', '__lt__', '__mul__', '__ne__', '__new__', '__reduce__', '__reduce_ex__', '__repr__', '__reversed__', '__rmul__', '__setattr__', '__setitem__', '__sizeof__', '__str__', '__subclasshook__', 'append', 'clear', 'copy', 'count', 'extend', 'index', 'insert', 'pop', 'remove', 'reverse', 'sort']\n"
     ]
    }
   ],
   "source": [
    "print(dir([]))"
   ]
  },
  {
   "cell_type": "code",
   "execution_count": 65,
   "id": "81b54b72",
   "metadata": {},
   "outputs": [
    {
     "name": "stdout",
     "output_type": "stream",
     "text": [
      "[1, 2, 3, 4, 5, 6, 7, 8, 9, 10]\n",
      "1 = 1\n"
     ]
    }
   ],
   "source": [
    "# 은닉화된 메서드 __getitem__() 사용하기\n",
    "a = [1, 2, 3, 4, 5, 6, 7, 8, 9, 10]\n",
    "print(a)\n",
    "print(a[0], '=', a.__getitem__(0))"
   ]
  }
 ],
 "metadata": {
  "kernelspec": {
   "display_name": "Python 3 (ipykernel)",
   "language": "python",
   "name": "python3"
  },
  "language_info": {
   "codemirror_mode": {
    "name": "ipython",
    "version": 3
   },
   "file_extension": ".py",
   "mimetype": "text/x-python",
   "name": "python",
   "nbconvert_exporter": "python",
   "pygments_lexer": "ipython3",
   "version": "3.11.5"
  }
 },
 "nbformat": 4,
 "nbformat_minor": 5
}
