{
 "cells": [
  {
   "cell_type": "markdown",
   "id": "e45f88bb",
   "metadata": {},
   "source": [
    "# 7. 챗봇API\n",
    "\n",
    "## 7.1 chatbot api?\n",
    "\n",
    "* 실습한 챗봇엔진서버와 직접통신을 하는 `카카오톡, 네이버톡톡등과 같은 메신저 플랫폼과 챗봇엔진을 사용할 수 있는 챗봇API서버를 구축`해야 한다.\n",
    "* 챗봇기능을 지원하는 매시전플랫폼과 통신하기 위해서는 `REST API방식으로 챗봇서버를 구현`해야 한다.\n",
    "\n",
    "## 7.2 파이썬 Flask\n",
    "\n",
    "* `웹애플리케이션 경량 프레임워크 Flask`를 사용\n",
    "* Flask는 파이썬 기반의 경령화된 프레임워크\n",
    "\n",
    "### 7.2.1 Hello Flask"
   ]
  },
  {
   "cell_type": "code",
   "execution_count": null,
   "id": "04f973d0",
   "metadata": {},
   "outputs": [],
   "source": [
    "!mkdir .\\hello_flask\n",
    "!pip show flask"
   ]
  },
  {
   "cell_type": "code",
   "execution_count": null,
   "id": "abd1654e",
   "metadata": {},
   "outputs": [],
   "source": [
    "# %%writefile ./hello_flask/app.py\n",
    "# 1. \"Hello Flask\"출력\n",
    "from flask import Flask\n",
    "\n",
    "app = Flask(__name__)\n",
    "\n",
    "@app.route('/')\n",
    "def hello():\n",
    "    return 'Hello Flask!!'\n",
    "\n",
    "if __name__ == '__main__':\n",
    "    app.run()"
   ]
  },
  {
   "cell_type": "code",
   "execution_count": null,
   "id": "8a005ca4",
   "metadata": {},
   "outputs": [],
   "source": [
    "%%writefile ./hello_flask/app.py\n",
    "# 2. 동적으로 변수처리 방법\n",
    "from flask import Flask, render_template\n",
    "\n",
    "app = Flask(__name__)\n",
    "\n",
    "@app.route('/')\n",
    "def hello():\n",
    "    return 'Hello Flask!!'\n",
    "    # return render_template(\"hello.html\", name=\"홍길동\")\n",
    "\n",
    "@app.route('/info/<name>') # http://localhost:5000/infor/홍길동\n",
    "def get_name(name):\n",
    "    return f\"Hello {name}\"\n",
    "\n",
    "@app.route('/user/<int:id>')\n",
    "def get_user(id):\n",
    "    return f\"User Id = {id}\"\n",
    "\n",
    "# http://127.0.0.1:5000/JSON/1000/자장면 1개 주문할게요\n",
    "@app.route('/JSON/<int:dest_id>/<message>')\n",
    "def send_message(dest_id, message):\n",
    "    json = {\n",
    "        \"bot_id\": dest_id,\n",
    "        \"message\": message\n",
    "    }\n",
    "    return json\n",
    "\n",
    "if __name__ == '__main__':\n",
    "    app.run()"
   ]
  },
  {
   "cell_type": "markdown",
   "id": "109ff516",
   "metadata": {},
   "source": [
    "### 7.2.2 기본적인 Rest API 서비스 구현"
   ]
  },
  {
   "cell_type": "code",
   "execution_count": null,
   "id": "2cb9a165",
   "metadata": {},
   "outputs": [],
   "source": [
    "!mkdir .\\basic_restapi"
   ]
  },
  {
   "cell_type": "code",
   "execution_count": 3,
   "id": "932cd80d",
   "metadata": {},
   "outputs": [
    {
     "name": "stdout",
     "output_type": "stream",
     "text": [
      "Overwriting ./basic_restapi/app.py\n"
     ]
    }
   ],
   "source": [
    "%%writefile ./basic_restapi/app.py\n",
    "# 3. 기본적인 Rest Api 서버 구현하기\n",
    "from flask import Flask, request, jsonify\n",
    "\n",
    "app = Flask(__name__)\n",
    "\n",
    "# 서버리소스\n",
    "resource = []\n",
    "\n",
    "# 1) 사용자정보조회\n",
    "@app.route('/user/<int:user_id>', methods=['GET'])\n",
    "def get_user(user_id):\n",
    "    \n",
    "    for user in resource:\n",
    "        if user['user_id'] is user_id:\n",
    "            return jsonify(user)\n",
    "        \n",
    "    return jsonify(None)\n",
    "    \n",
    "# 2) 사용자추가\n",
    "@app.route('/user', methods=['POST'])\n",
    "def add_user():\n",
    "    user = request.get_json()\n",
    "    resource.append(user)\n",
    "    return jsonify(resource)\n",
    "    \n",
    "if __name__ == '__main__':\n",
    "    app.run()"
   ]
  },
  {
   "cell_type": "markdown",
   "id": "fbeff498",
   "metadata": {},
   "source": [
    "## 7.3 챗봇API구현\n",
    "\n",
    "##### 발화자질문\n",
    "```json\n",
    "{\n",
    "  \"query\":\"오늘 자장면 주문할게요\"\n",
    "}\n",
    "```\n",
    "\n",
    "##### 질의답변\n",
    "```json\n",
    "{\n",
    "    \"Answer\": \"자장면 주문 처리 완료되었습니다. \\n주문해주셔서 감사합니다.\",\n",
    "    \"AnswerImageUrl\": null,\n",
    "    \"Intent\": \"주문\",\n",
    "    \"NER\": \"[('오늘', 'B_DT'), ('자장면', 'B_FOOD'), ('주문', 'O')]\",\n",
    "    \"Query\": \"오늘 자장면 주문할게요\"\n",
    "}\n",
    "```"
   ]
  },
  {
   "cell_type": "code",
   "execution_count": 4,
   "id": "4ab88a11",
   "metadata": {},
   "outputs": [],
   "source": [
    "!mkdir .\\chatbot_api"
   ]
  },
  {
   "cell_type": "code",
   "execution_count": 13,
   "id": "f2d1063a",
   "metadata": {},
   "outputs": [
    {
     "data": {
      "text/plain": [
       "'d:\\\\lec\\\\04.python'"
      ]
     },
     "execution_count": 13,
     "metadata": {},
     "output_type": "execute_result"
    }
   ],
   "source": [
    "%pwd"
   ]
  },
  {
   "cell_type": "code",
   "execution_count": 21,
   "id": "6033316a",
   "metadata": {},
   "outputs": [
    {
     "name": "stdout",
     "output_type": "stream",
     "text": [
      "Overwriting ./chatbot_api/app.py\n"
     ]
    }
   ],
   "source": [
    "%%writefile ./chatbot_api/app.py\n",
    "# chatbot rest api 서버 구현하기\n",
    "from flask import Flask, request, jsonify, abort, render_template\n",
    "import socket\n",
    "import json\n",
    "\n",
    "# 챗봇엔진서버접속정보\n",
    "host = \"127.0.0.1\"  # chatbot api server ip address\n",
    "port = 5050         # chatbot api server port no\n",
    "\n",
    "# flask app\n",
    "app = Flask(__name__)\n",
    "\n",
    "# ./chatbot_api/templates/hell.html\n",
    "@app.route('/', methods=[\"GET\"])\n",
    "def index():\n",
    "    return render_template(\"hello.html\")\n",
    "    # return \"Hello!!!\"\n",
    "    \n",
    "# 1) chatbot server와 통신\n",
    "def get_answer_from_engine(bottype, query):\n",
    "    # chatbot server와 연결\n",
    "    mySocket = socket.socket()\n",
    "    mySocket.connect((host, port))\n",
    "    \n",
    "    # chatbot server에 request(query)\n",
    "    json_data = {\n",
    "        'Query': query,\n",
    "        'BotType': bottype\n",
    "    }\n",
    "    \n",
    "    # chatbot server에 query 전송\n",
    "    message = json.dumps(json_data)\n",
    "    mySocket.send(message.encode()) \n",
    "    \n",
    "    # chatbot server에서 답변 리턴\n",
    "    data = mySocket.recv(2048).decode()\n",
    "    ret_data = json.loads(data)\n",
    "    \n",
    "    # chatbot server에 연결된 socket 자원 해제\n",
    "    mySocket.close()\n",
    "    \n",
    "    return ret_data\n",
    "\n",
    "# 2) chatbot엔진 query 전송 API\n",
    "# http://localhost:5000/query/TEST\n",
    "@app.route('/query/<bot_type>', methods=[\"POST\"]) \n",
    "def query(bot_type):\n",
    "    \n",
    "    body = request.get_json()\n",
    "    \n",
    "    try:\n",
    "        if bot_type == 'TEST':\n",
    "            # chatbot api test\n",
    "            ret = get_answer_from_engine(bottype=bot_type, query=body['query'])\n",
    "            return jsonify(ret)\n",
    "            \n",
    "        elif bot_type == \"KAKAO\": # 카카오톡 skill 처리\n",
    "            pass\n",
    "        elif bot_type == \"NAVER\": # 네이버톡톡 Web Hook 처리\n",
    "            pass\n",
    "        else:\n",
    "            # 정의되지 않은 bot_type인 경우 404 오류 발생\n",
    "            abort(404)\n",
    "    except Exception as e:\n",
    "        # 예외발생시 500 에러 발생\n",
    "        abort(500)\n",
    "\n",
    "if __name__ == '__main__':\n",
    "    app.run(host='0.0.0.0', port=5000)  # web server"
   ]
  }
 ],
 "metadata": {
  "kernelspec": {
   "display_name": "Python 3 (ipykernel)",
   "language": "python",
   "name": "python3"
  },
  "language_info": {
   "codemirror_mode": {
    "name": "ipython",
    "version": 3
   },
   "file_extension": ".py",
   "mimetype": "text/x-python",
   "name": "python",
   "nbconvert_exporter": "python",
   "pygments_lexer": "ipython3",
   "version": "3.11.5"
  }
 },
 "nbformat": 4,
 "nbformat_minor": 5
}
