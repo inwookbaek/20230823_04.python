{
 "cells": [
  {
   "cell_type": "markdown",
   "id": "68962a8e",
   "metadata": {},
   "source": [
    "1. numpy 배열\n",
    "1. numpy 배열의 생성과 변형\n",
    "1. numpy 배열의 연산\n",
    "1. 기술통계\n",
    "1. 난수발생과 카운팅\n",
    "\n",
    "* `Numpy의 핵심은 ndarray이다.`\n",
    "* `np.array()함수는 list, tuple, array로 부터 ndarrary객체를 생성`\n",
    "* ndarray는 N-dimensional Array의 약자이다. 즉, `다차원(1,2,...N차원)배열 자료구조를 지원`한다."
   ]
  },
  {
   "cell_type": "code",
   "execution_count": 1,
   "id": "1d95a718",
   "metadata": {},
   "outputs": [],
   "source": [
    "import numpy as np"
   ]
  },
  {
   "cell_type": "markdown",
   "id": "d9350db0",
   "metadata": {},
   "source": [
    "##### 1. numpy 배열"
   ]
  },
  {
   "cell_type": "code",
   "execution_count": 4,
   "id": "f6088d6b",
   "metadata": {},
   "outputs": [
    {
     "name": "stdout",
     "output_type": "stream",
     "text": [
      "<class 'numpy.ndarray'> [1 2 3 4 5]\n"
     ]
    }
   ],
   "source": [
    "# 1. 1차원배열 만들기\n",
    "# np.array()함수에 list자료형을 전달하면 ndarray 객체 즉, 배열로 리턴한다.\n",
    "# ndarray는 list와 유산한 구조처럼보이지만 배열객체와 리스트객체는 많은 차이가 있다.\n",
    "# 1. list에는 서로 다른 타입의 자료를 저장할 수 있지만 ndarray은 동일 타입의 자료만 저장이 가능\n",
    "# 2. ndarray는 다차원배열의 수치자료를 연산할 수 있다.\n",
    "arr1 = np.array([1,2,3,4,5])\n",
    "print(type(arr1), arr1)"
   ]
  },
  {
   "cell_type": "code",
   "execution_count": 12,
   "id": "bef257af",
   "metadata": {},
   "outputs": [
    {
     "name": "stdout",
     "output_type": "stream",
     "text": [
      "<class 'numpy.ndarray'> [1. 2. 3. 1.]\n",
      "\n",
      "<class 'numpy.ndarray'> ['1.0' '2' '3' '1.0']\n",
      "<class 'numpy.str_'> 1.0\n",
      "<class 'numpy.ndarray'> ['1.0' '2' '3' '일']\n",
      "<class 'numpy.str_'> 일\n"
     ]
    }
   ],
   "source": [
    "# 데이터타입이 틀린경우 강제형변환이 가능하다. \n",
    "# 1) 수치자료형은 상위의 데이터타입으로 변환이 된다.\n",
    "# 2) string 요소가 있을 경우에 수치타입은 전부 str타입으로 강제형변환된다.\n",
    "arr1 = np.array([1.0, 2, 3, 1.0])  # int -> float\n",
    "print(type(arr1), arr1)\n",
    "print()\n",
    "\n",
    "arr2 = np.array([1.0, 2, 3, '1.0']) # 각요소가 전부 string타입으로 강제형변환\n",
    "print(type(arr2), arr2)\n",
    "print(type(arr2[3]), arr2[3])\n",
    "\n",
    "arr3 = np.array([1.0, 2, 3, '일'])\n",
    "print(type(arr3), arr3)\n",
    "print(type(arr3[3]), arr3[3])"
   ]
  },
  {
   "cell_type": "code",
   "execution_count": 23,
   "id": "74d56617",
   "metadata": {},
   "outputs": [
    {
     "name": "stdout",
     "output_type": "stream",
     "text": [
      "<class 'list'> [1, 2, 3, '4', [5, 6]]\n",
      "<class 'numpy.ndarray'> [[1 2]\n",
      " [3 4]]\n"
     ]
    }
   ],
   "source": [
    "# 비동차는 지원하지 않는다. 차원이 다를 경우 에러가 발생된다.\n",
    "# 즉, ndarray의 요소의 차원수는 동일해야 한다.\n",
    "# 동차(homogeneous), 비동차(inhomogeneous)\n",
    "list1 = [1,2,3, '4', [5,6]]\n",
    "print(type(list1), list1)\n",
    "# arr4 = np.array(list1) # 비동차에러, inhomogeneous part\n",
    "\n",
    "list2 = [[1,2], [3,4]] # 첫 번쨰 요소와 두 번째 요소 모두 동차(1차원), \n",
    "arr4 = np.array(list2)\n",
    "print(type(arr4), arr4)"
   ]
  },
  {
   "cell_type": "code",
   "execution_count": 36,
   "id": "a3808b5a",
   "metadata": {},
   "outputs": [
    {
     "name": "stdout",
     "output_type": "stream",
     "text": [
      "<class 'list'> [0, 1, 2, 3, 4, 5, 6, 7, 8, 9, 0, 1, 2, 3, 4, 5, 6, 7, 8, 9]\n",
      "<class 'list'> [0, 2, 4, 6, 8, 10, 12, 14, 16, 18]\n",
      "<class 'numpy.ndarray'> [ 0  2  4  6  8 10 12 14 16 18]\n",
      "\n",
      "<class 'numpy.ndarray'> [False False  True False False False False False False False]\n",
      "<class 'numpy.ndarray'> [ True False  True False  True False  True False  True False]\n",
      "\n",
      "[False  True False]\n",
      "[False  True  True]\n",
      "\n",
      "[False  True False]\n"
     ]
    }
   ],
   "source": [
    "# ndarray는 벡터(Vector)와 행렬(Matrix)\n",
    "# 1) list의 연산(배수)\n",
    "data = [0,1,2,3,4,5,6,7,8,9] # 각 요소를 2배를 할 경우\n",
    "result = data * 2 \n",
    "print(type(result), result)  # list인 data를 2 times\n",
    "\n",
    "# list자료를 벡터화같은 연산을 할경우\n",
    "result = []\n",
    "for d in data:\n",
    "    result.append(d * 2)\n",
    "print(type(result), result)\n",
    "    \n",
    "# 2) 벡터화연산\n",
    "# 비교연산, 논리연산을 포함한 모든 종류의 수학 연산을 할 수가 있다.\n",
    "# 이 의미는 선형대수에 적용되는 연산(행렬연산)이 가능하다\n",
    "arr5 = np.array(data)  # 벡터의 연산\n",
    "result = arr5 * 2\n",
    "print(type(result), result)\n",
    "print()\n",
    "\n",
    "# a. 비교연산\n",
    "result = arr5 == 2   # if arr5[i] == 2\n",
    "print(type(result), result)\n",
    "result = arr5%2 == 0         # if arr5[i]%2 == 0\n",
    "print(type(result), result)\n",
    "print()\n",
    "\n",
    "a = np.array([1,2,3])\n",
    "b = np.array([10,20,30])\n",
    "\n",
    "print(a ==2)\n",
    "print(b > 10)\n",
    "print()\n",
    "\n",
    "print((a==2) & (b>10))"
   ]
  },
  {
   "cell_type": "code",
   "execution_count": null,
   "id": "b4fc5cf7",
   "metadata": {},
   "outputs": [],
   "source": [
    "# 2차원 배열 만들기, 2x3의 2차원배열 생성하기\n",
    "arr6 = np.array([[0,1,2],[3,4,5]])\n",
    "print(type(arr6), arr6)\n",
    "\n",
    "# arr7 = np.array([[0,1,2],[3,4,5,6]]) # inhomogeneous에러 즉 차원, 요소의 갯수가 다를 경우, 에러발생"
   ]
  },
  {
   "cell_type": "code",
   "execution_count": 42,
   "id": "feec856f",
   "metadata": {},
   "outputs": [
    {
     "name": "stdout",
     "output_type": "stream",
     "text": [
      "2\n",
      "3\n"
     ]
    }
   ],
   "source": [
    "# 2차원배열의 행과 열의 갯수구하기\n",
    "print(len(arr6))    # 행의 갯수\n",
    "print(len(arr6[0])) # 첫 번째행의 열의 갯수"
   ]
  },
  {
   "cell_type": "code",
   "execution_count": 47,
   "id": "949424d4",
   "metadata": {},
   "outputs": [
    {
     "name": "stdout",
     "output_type": "stream",
     "text": [
      "<class 'list'> [[[1, 2, 3, 4], [5, 6, 7, 8], [9, 10, 11, 12]], [[13, 14, 15, 16], [17, 18, 19, 20], [21, 22, 23, 24]]]\n",
      "<class 'numpy.ndarray'> [[[ 1  2  3  4]\n",
      "  [ 5  6  7  8]\n",
      "  [ 9 10 11 12]]\n",
      "\n",
      " [[13 14 15 16]\n",
      "  [17 18 19 20]\n",
      "  [21 22 23 24]]]\n"
     ]
    }
   ],
   "source": [
    "# 3차원배열 만들기 2x3x4\n",
    "list3 = [[[1,2,3,4], [5,6,7,8], [9,10,11,12]],           # 1면, 3행, 4열\n",
    "        [[13,14,15,16],[17,18,19,20],[21,22,23,24]]]     # 2면, 3행, 4열 \n",
    "print(type(list3), list3)   \n",
    "\n",
    "arr7 = np.array(list3)\n",
    "print(type(arr7), arr7)"
   ]
  },
  {
   "cell_type": "code",
   "execution_count": 57,
   "id": "88a1dfe9",
   "metadata": {},
   "outputs": [
    {
     "name": "stdout",
     "output_type": "stream",
     "text": [
      "배열의 차원 = 3 차원\n",
      "배열의 크기 = (2, 3, 4) 크기(형태)\n"
     ]
    }
   ],
   "source": [
    "# 배열의 차원과 크기 알아내기\n",
    "print(f'배열의 차원 = {arr7.ndim} 차원')\n",
    "print(f'배열의 크기 = {arr7.shape} 크기(형태)')"
   ]
  },
  {
   "cell_type": "markdown",
   "id": "8211ddf5",
   "metadata": {},
   "source": [
    "##### 2. numpy 배열의 indexing과 slicing"
   ]
  },
  {
   "cell_type": "code",
   "execution_count": 72,
   "id": "b15100ee",
   "metadata": {},
   "outputs": [
    {
     "name": "stdout",
     "output_type": "stream",
     "text": [
      "0 1 2 3 4\n",
      "1st행=[0 1 2], 2nd행=[3 4 5]\n",
      "\n",
      "1st행=[0 1 2], 1st행의 1st열=0\n",
      "1st행=[0 1 2], 1st행의 2nd열=1\n",
      "1st행=[0 1 2], 1st행의 3rd열=2\n",
      "\n",
      "2nd행=[3 4 5], 2nd행의 1st열=3\n",
      "2nd행=[3 4 5], 2nd행의 2nd열=4\n",
      "2nd행=[3 4 5], 2nd행의 3rd열=5\n",
      "\n",
      "5 = 5\n",
      "4 = 4\n",
      "3 = 3\n"
     ]
    }
   ],
   "source": [
    "# 1. indexing : 대괄호[인덱스]로 접근\n",
    "# 양수, 음수로 접근할 수 있는데 음수는 뒤에서 부터 인덱싱을 한다.\n",
    "\n",
    "# 1) 1차원일 경우\n",
    "# 배열명[인덱스]\n",
    "a = np.array([0,1,2,3,4])\n",
    "print(a[0],a[1],a[2],a[3],a[4])\n",
    "\n",
    "# 2) 2차원일 경우\n",
    "# 배열명[행,열]\n",
    "a = np.array([[0,1,2],[3,4,5]])\n",
    "print(f'1st행={a[0,]}, 2nd행={a[1,]}')\n",
    "print()\n",
    "\n",
    "print(f'1st행={a[0,]}, 1st행의 1st열={a[0,0]}')\n",
    "print(f'1st행={a[0,]}, 1st행의 2nd열={a[0,1]}')\n",
    "print(f'1st행={a[0,]}, 1st행의 3rd열={a[0,2]}')\n",
    "print()\n",
    "\n",
    "print(f'2nd행={a[1,]}, 2nd행의 1st열={a[1,0]}')\n",
    "print(f'2nd행={a[1,]}, 2nd행의 2nd열={a[1,1]}')\n",
    "print(f'2nd행={a[1,]}, 2nd행의 3rd열={a[1,2]}')\n",
    "print()\n",
    "\n",
    "#0 3) 음수로 인덱싱할 경우 - 뒤에서부터 접근\n",
    "print(a[-1,-1] , '=', a[1,2]) \n",
    "print(a[-1,-2] , '=', a[1,1])\n",
    "print(a[-1,-3] , '=', a[1,0]) "
   ]
  },
  {
   "cell_type": "code",
   "execution_count": 92,
   "id": "113c35a4",
   "metadata": {},
   "outputs": [
    {
     "name": "stdout",
     "output_type": "stream",
     "text": [
      "[[0 1 2 3]\n",
      " [4 5 6 7]] 2 (2, 4)\n",
      "\n",
      "1st행의 열의 전체 = [0 1 2 3]\n",
      "2nd행의 열의 전체 = [4 5 6 7]\n",
      "\n",
      "1st열의 행의 전체 = [0 4]\n",
      "2nd열의 행의 전체 = [1 5]\n",
      "3rd열의 행의 전체 = [2 6]\n",
      "4th열의 행의 전체 = [3 7]\n",
      "\n",
      "2nd행의 1st열 = [4]\n",
      "2nd행의 1st~2nd열 = [4 5]\n",
      "\n",
      "전체행의 전체열(1) = [[0 1 2 3]\n",
      " [4 5 6 7]]\n",
      "전체행의 전체열(2) = [[0 1 2 3]\n",
      " [4 5 6 7]]\n",
      "전체행의 전체열(3) = [[0 1 2 3]\n",
      " [4 5 6 7]]\n",
      "전체행의 전체열(4) = [[0 1 2 3]]\n",
      "\n",
      "마지막행의 마지막열(1) = [[7]]\n",
      "마지막행의 마지막열(2) = [[7]]\n"
     ]
    }
   ],
   "source": [
    "# 2. slicing : 대괄호[:,:] -> 슬라이싱은 :으로 구분 [:(행), :(열)]\n",
    "a = np.array([[0,1,2,3],[4,5,6,7]])\n",
    "print(a, a.ndim, a.shape)\n",
    "print()\n",
    "\n",
    "print(f'1st행의 열의 전체 = {a[0,:]}')\n",
    "print(f'2nd행의 열의 전체 = {a[1,:]}')\n",
    "print()\n",
    "\n",
    "print(f'1st열의 행의 전체 = {a[:,0]}')\n",
    "print(f'2nd열의 행의 전체 = {a[:,1]}')\n",
    "print(f'3rd열의 행의 전체 = {a[:,2]}')\n",
    "print(f'4th열의 행의 전체 = {a[:,3]}')\n",
    "print()\n",
    "\n",
    "print(f'2nd행의 1st열 = {a[1,0:1]}') # [start:end-1, strat:end-1]\n",
    "print(f'2nd행의 1st~2nd열 = {a[1,0:2]}')\n",
    "print()\n",
    "\n",
    "print(f'전체행의 전체열(1) = {a[:,:]}') # 콜론 전후로 지정값이 없을 경우 전은 맨앞, 후는 맨뒤의미\n",
    "print(f'전체행의 전체열(2) = {a[:,]}')\n",
    "print(f'전체행의 전체열(3) = {a[0:2,]}')\n",
    "print(f'전체행의 전체열(4) = {a[0:-1,]}')\n",
    "print()\n",
    "\n",
    "print(f'마지막행의 마지막열(1) = {a[1:,3:]}')\n",
    "print(f'마지막행의 마지막열(2) = {a[-1:,-1:]}')"
   ]
  },
  {
   "cell_type": "code",
   "execution_count": 98,
   "id": "a130e8f4",
   "metadata": {},
   "outputs": [
    {
     "name": "stdout",
     "output_type": "stream",
     "text": [
      "전체행중 2행씩 건너서 전체열 = [[ 0  1  2  3]\n",
      " [ 8  9 10 11]]\n",
      "전체행중 1행씩 건너서 전체열 = [[ 0  1  2  3]\n",
      " [ 4  5  6  7]\n",
      " [ 8  9 10 11]]\n",
      "\n",
      "전체행중 2행씩 건너서 전체열중 2열씩 건너서 = [[ 0  2]\n",
      " [ 8 10]]\n"
     ]
    }
   ],
   "source": [
    "# 슬라이싱의 step [start:end-1:step, start:end-1:step]\n",
    "a = np.array([[0,1,2,3],[4,5,6,7], [8,9,10,11]])\n",
    "print(f'전체행중 2행씩 건너서 전체열 = {a[::2,:]}')\n",
    "print(f'전체행중 1행씩 건너서 전체열 = {a[:,:]}')\n",
    "print()\n",
    "\n",
    "#  [[0,1,2,3], [8,9,10,11]] -> [[0,2], [8,10]]\n",
    "print(f'전체행중 2행씩 건너서 전체열중 2열씩 건너서 = {a[::2,::2]}')"
   ]
  },
  {
   "cell_type": "markdown",
   "id": "bc9f334d",
   "metadata": {},
   "source": [
    "##### 3. fancy indexing(배열인덱싱)\n",
    "\n",
    "* 인덱싱이란 이름이 부여됬지만 실제는 db의 query의 기능을 수행한다.\n",
    "* `불리언배열과, 정수배열`방식 2가지가 있다.\n",
    "   - 블리언인덱싱방식은 배열의 `원소가 True, False 2개의 값으로만 구성`되면 원ndarray와 크기가 동일해야 한다.\n",
    "   - 정수형 인덱싱은 인덱스가 존재한다면 원ndarray와 크기가 달라도 상관없다."
   ]
  },
  {
   "cell_type": "code",
   "execution_count": 105,
   "id": "23d81c00",
   "metadata": {},
   "outputs": [
    {
     "name": "stdout",
     "output_type": "stream",
     "text": [
      "(10,) (10,)\n",
      "[0 2 4 6 8]\n",
      "[0 1 0 1 0 1 0 1 0 1]\n",
      "[0 1 0 1 0 1 0 1 0 1]\n",
      "[0 2 4 6 8]\n"
     ]
    }
   ],
   "source": [
    "# 1. boolean indexing\n",
    "a = np.array([0,1,2,3,4,5,6,7,8,9])\n",
    "idx = np.array([True, False, True, False,True, False,True, False,True, False])\n",
    "print(a.shape, idx.shape)\n",
    "print(a[idx])\n",
    "\n",
    "# 조건식\n",
    "print(a % 2) # 나머지값\n",
    "print(a[a%2])\n",
    "print(a[a%2==0])\n",
    "\n"
   ]
  },
  {
   "cell_type": "code",
   "execution_count": 109,
   "id": "e484cca8",
   "metadata": {},
   "outputs": [
    {
     "name": "stdout",
     "output_type": "stream",
     "text": [
      "[0 2 4 6 8]\n",
      "[0 0 0]\n",
      "[0 8 9]\n",
      "[0 8 8 8 8 8 9 4 4 4 4 4 2 2 2 2]\n"
     ]
    }
   ],
   "source": [
    "# 2. 정수 indexing - 직접 요소의 위치 즉, 인덱스를 지정하는 방법\n",
    "# \n",
    "a = np.array([0,1,2,3,4,5,6,7,8,9])\n",
    "idx = np.array([0,2,4,6,8])\n",
    "print(a[idx])  \n",
    "\n",
    "idx = np.array([0,0,0]) # 원 배열과 크기가 다르다.\n",
    "print(a[idx])\n",
    "\n",
    "idx = np.array([0,8,9])\n",
    "print(a[idx])\n",
    "\n",
    "idx = np.array([0,8,8,8,8,8,9,4,4,4,4,4,2,2,2,2])\n",
    "print(a[idx])"
   ]
  },
  {
   "cell_type": "code",
   "execution_count": 11,
   "id": "a42718a2",
   "metadata": {},
   "outputs": [
    {
     "name": "stdout",
     "output_type": "stream",
     "text": [
      "배열의 크기 = (1, 3, 5)\n",
      "맨 처음 요소 = 0\n",
      "맨 2nd 요소 = 1\n",
      "\n",
      "[[[ 0  1  2  3  4]\n",
      "  [ 5  6  7  8  9]\n",
      "  [10 11 12 13 14]]]\n",
      "[[10 11 12 13 14]]\n"
     ]
    }
   ],
   "source": [
    "#### 3. 배열의 인덱싱은 다차원배열에도 적용할 수 있다.\n",
    "import numpy as np\n",
    "\n",
    "m = np.array([[[0,1,2,3,4],\n",
    "              [5,6,7,8,9],\n",
    "              [10,11,12,13,14]]])\n",
    "print(f'배열의 크기 = {m.shape}')\n",
    "\n",
    "# 1. 3차원의 인덱싱\n",
    "print(f'맨 처음 요소 = {m[0][0][0]}')\n",
    "print(f'맨 2nd 요소 = {m[0][0][1]}')\n",
    "print()\n",
    "\n",
    "# 2. 3차원의 슬라이싱\n",
    "print(m[:][:][:])\n",
    "print(m[:][:][:,-1])"
   ]
  },
  {
   "cell_type": "markdown",
   "id": "60cf0b1d",
   "metadata": {},
   "source": [
    "##### 4. 배열의 생성과 변형\n",
    "\n",
    "* 넘파이자료형 : ndarray의 요소는 모두 동일 자료형이어야 한다.\n",
    "* 명시적으로 데이터타입을 정의하려면 dtype인수를 사용해야 한다.\n",
    "* dtype를 정의하지 않았다면 python엔진이 자료형을 유추해서 결정한다."
   ]
  },
  {
   "cell_type": "code",
   "execution_count": 13,
   "id": "092cc033",
   "metadata": {},
   "outputs": [
    {
     "data": {
      "text/plain": [
       "dtype('float64')"
      ]
     },
     "execution_count": 13,
     "metadata": {},
     "output_type": "execute_result"
    }
   ],
   "source": [
    "# ndarray의 데이터타입속성\n",
    "x = np.array([1,2,3])\n",
    "print(x.dtype)\n",
    "\n",
    "x = np.array([1.0,2,3])\n",
    "print(x.dtype)"
   ]
  },
  {
   "cell_type": "markdown",
   "id": "15d5284e",
   "metadata": {},
   "source": [
    "* dtype인수로 지정할 자료형 `dtype 접두사`로 시작하는 문자열, 뒤에 숫자는 바이트수의미\n",
    "|dtype 접두사|설명|사용예|\n",
    "|:---:|:-------------|:-----------|\n",
    "|b|블리언|b(True or False)|\n",
    "|i|정수|i8(64bit)|\n",
    "|u|부호가 없는 정수|u8(64비트)|\n",
    "|f|부동소수점|f32(256비트)|\n",
    "|c|복소수|c16(128비트)|\n",
    "|o|객체|o(객체에 대한 메모리주소)|\n",
    "|s|바이트문자열|s24(24글자)|\n",
    "|U|유니코드문자열|U24(24유니코드글자)|\n"
   ]
  },
  {
   "cell_type": "code",
   "execution_count": 19,
   "id": "4c082398",
   "metadata": {},
   "outputs": [
    {
     "name": "stdout",
     "output_type": "stream",
     "text": [
      "float32 float32 3.0\n",
      "<U1 <U1 12\n"
     ]
    }
   ],
   "source": [
    "x = np.array([1,2,3], dtype='f')\n",
    "print(x.dtype, x[0].dtype, x[0]+x[1])\n",
    "\n",
    "x = np.array([1,2,3], dtype='U')\n",
    "print(x.dtype, x[0].dtype, x[0]+x[1])"
   ]
  },
  {
   "cell_type": "code",
   "execution_count": null,
   "id": "a63ec53b",
   "metadata": {},
   "outputs": [],
   "source": [
    "# Inf와 NaN\n",
    "# np.inf(infinity) : 정의할 수 없는 숫자\n",
    "# np.nan(Not a Number) : 수치가 아닌 값"
   ]
  },
  {
   "cell_type": "markdown",
   "id": "e224891f",
   "metadata": {},
   "source": [
    "#### 4. 배열생성함수\n",
    "\n",
    "* zeros, ones\n",
    "* zeros_like, ones_like\n",
    "* empty\n",
    "* arange\n",
    "* linspace, logspace"
   ]
  },
  {
   "cell_type": "code",
   "execution_count": 27,
   "id": "f12c1805",
   "metadata": {},
   "outputs": [
    {
     "name": "stdout",
     "output_type": "stream",
     "text": [
      "[0. 0. 0. 0. 0.]\n",
      "[[0. 0. 0.]\n",
      " [0. 0. 0.]] \n",
      "\n",
      "[[0 0 0]\n",
      " [0 0 0]] \n",
      "\n",
      "[[0. 0. 0.]\n",
      " [0. 0. 0.]] \n",
      "\n"
     ]
    }
   ],
   "source": [
    "# 1. zeros\n",
    "a = np.zeros(5)\n",
    "print(a)\n",
    "\n",
    "a = np.zeros((2,3))\n",
    "print(a, '\\n')\n",
    "\n",
    "# dtype을 설정할 수 있다.\n",
    "a = np.zeros((2,3), dtype=np.int32)\n",
    "print(a, '\\n')\n",
    "\n",
    "a = np.zeros((2,3), dtype='f')\n",
    "print(a, '\\n')"
   ]
  },
  {
   "cell_type": "code",
   "execution_count": 30,
   "id": "dec6abfd",
   "metadata": {},
   "outputs": [
    {
     "name": "stdout",
     "output_type": "stream",
     "text": [
      "[1. 1. 1. 1. 1.] \n",
      "\n",
      "[[1. 1. 1.]\n",
      " [1. 1. 1.]] \n",
      "\n",
      "[[[1 1 1 1 1]\n",
      "  [1 1 1 1 1]\n",
      "  [1 1 1 1 1]]\n",
      "\n",
      " [[1 1 1 1 1]\n",
      "  [1 1 1 1 1]\n",
      "  [1 1 1 1 1]]] \n",
      "\n"
     ]
    }
   ],
   "source": [
    "# 2. ones\n",
    "a = np.ones(5)\n",
    "print(a, '\\n')\n",
    "\n",
    "a = np.ones([2,3])\n",
    "print(a, '\\n')\n",
    "\n",
    "a = np.ones((2,3,5), dtype='i8')\n",
    "print(a, '\\n')"
   ]
  },
  {
   "cell_type": "code",
   "execution_count": 35,
   "id": "cf4407af",
   "metadata": {},
   "outputs": [
    {
     "name": "stdout",
     "output_type": "stream",
     "text": [
      "[[0 0 0]\n",
      " [0 0 0]] \n",
      "\n",
      "[[1 1 1]\n",
      " [1 1 1]] \n",
      "\n"
     ]
    }
   ],
   "source": [
    "# zeros_like, ones_like\n",
    "x = np.ones([2,3])\n",
    "y = np.zeros_like(x, dtype='i')\n",
    "print(y, '\\n')\n",
    "\n",
    "x = np.zeros([2,3])\n",
    "y = np.ones_like(x, dtype='i')\n",
    "print(y, '\\n')"
   ]
  },
  {
   "cell_type": "code",
   "execution_count": 39,
   "id": "9e81a6d9",
   "metadata": {},
   "outputs": [
    {
     "data": {
      "text/plain": [
       "array([[1.39192964e-311, 3.16202013e-322, 0.00000000e+000],\n",
       "       [0.00000000e+000, 1.78020168e-306, 2.61254673e-057],\n",
       "       [8.44777789e+169, 7.31391982e-042, 1.20990385e+161],\n",
       "       [7.19439966e-067, 1.36967665e-071, 3.12391854e-033]])"
      ]
     },
     "execution_count": 39,
     "metadata": {},
     "output_type": "execute_result"
    }
   ],
   "source": [
    "# empty\n",
    "# 배열의 크기가 커지면 배열을 초기화하는데도 시간이 많이 걸린다.\n",
    "# 이 시간을 단축하려면 배열만 생성하고 특정한 값으로 초기화하지 않는 함수\n",
    "%reset -f\n",
    "import numpy as np\n",
    "\n",
    "e = np.empty((4,3))\n",
    "e"
   ]
  },
  {
   "cell_type": "code",
   "execution_count": 42,
   "id": "71bcf572",
   "metadata": {},
   "outputs": [
    {
     "data": {
      "text/plain": [
       "array([10, 12, 14, 16, 18])"
      ]
     },
     "execution_count": 42,
     "metadata": {},
     "output_type": "execute_result"
    }
   ],
   "source": [
    "# arrange(start, end-1, step)\n",
    "np.arange(10) # 0~9\n",
    "np.arange(10, 20) # 10~19\n",
    "np.arange(10, 20, 2) # 10, 12, 14, 16, 18"
   ]
  },
  {
   "cell_type": "code",
   "execution_count": 48,
   "id": "c7c4ea06",
   "metadata": {},
   "outputs": [
    {
     "name": "stdout",
     "output_type": "stream",
     "text": [
      "[  0.  25.  50.  75. 100.]\n",
      "[1.e+000 1.e+025 1.e+050 1.e+075 1.e+100]\n"
     ]
    }
   ],
   "source": [
    "# linspace(start, end-1, size) : 선형구간을 지정한 구간의 수만큼 분할하는 함수\n",
    "print(np.linspace(0, 100, 5))\n",
    "print(np.logspace(0, 100, 5))"
   ]
  },
  {
   "cell_type": "code",
   "execution_count": 52,
   "id": "7dc51fd9",
   "metadata": {},
   "outputs": [
    {
     "name": "stdout",
     "output_type": "stream",
     "text": [
      "[[1 2 3]\n",
      " [4 5 6]]\n",
      "[[1 4]\n",
      " [2 5]\n",
      " [3 6]]\n"
     ]
    }
   ],
   "source": [
    "# 배열의 전치(pivot)\n",
    "# 2차원 배열의 전치(transpose)연산은 행과 열을 바꾸는 작업\n",
    "# T는 메서드가 아닌, 배열의 속성\n",
    "A = np.array([[1,2,3],[4,5,6]])\n",
    "print(A)\n",
    "print(A.T)"
   ]
  },
  {
   "cell_type": "markdown",
   "id": "e772a2bb",
   "metadata": {},
   "source": [
    "#### 5. 배열의 크기변형\n",
    "\n",
    "* reshape : 배열내부데이터는 보존한 채로 형태만 변환하는 함수\n",
    "* 예를 들어 12개원요소를 갖는 1차원행렬은 3x4형태의 2차원행렬을 만들 수가 있다."
   ]
  },
  {
   "cell_type": "code",
   "execution_count": 67,
   "id": "d7fbcefd",
   "metadata": {},
   "outputs": [
    {
     "name": "stdout",
     "output_type": "stream",
     "text": [
      "(12,)\n",
      "(3, 4)\n",
      "(3, 4)\n",
      "(2, 3, 2)\n"
     ]
    }
   ],
   "source": [
    "# reshape할 때는 원소의 갯수가 일치해야 한다.\n",
    "a = np.arange(12)\n",
    "print(a.shape)\n",
    "\n",
    "a = a.reshape(3,4)\n",
    "print(a.shape)\n",
    "\n",
    "a = a.reshape(3, -1)\n",
    "print(a.shape)\n",
    "\n",
    "a = a.reshape(2,3,2)\n",
    "print(a.shape)"
   ]
  },
  {
   "cell_type": "code",
   "execution_count": 73,
   "id": "d5e1b3b5",
   "metadata": {},
   "outputs": [
    {
     "name": "stdout",
     "output_type": "stream",
     "text": [
      "(12,)\n",
      "(2, 3, 2)\n",
      "(12,)\n"
     ]
    }
   ],
   "source": [
    "# 다차원배열을 무조건 1차원배열로 변환, flatten(), ravel()\n",
    "# flatten, ravel : 실행결과만 리턴, 원본자료는 변경되지 않는다.\n",
    "# numpy.ravel()과의 차이점?\n",
    "#   (1) flatten은 메모리를 차지하기 때문에 ravel보다 느리다.\n",
    "#   (2) ravel()은 일차원으로 바뀐 뷰를 리턴하고, flatten()은 일차원으로 바뀐 복사본을 리턴한다.\n",
    "a = a.flatten()\n",
    "print(a.shape)\n",
    "\n",
    "a = a.reshape(2,3,2) \n",
    "print(a.shape)\n",
    "\n",
    "a = a.ravel() \n",
    "print(a.shape)"
   ]
  },
  {
   "cell_type": "markdown",
   "id": "41baaf20",
   "metadata": {},
   "source": [
    "#### 6. 배열의 연결\n",
    "\n",
    "* hstack, vstack, dstack, stack, r_, c_, tile"
   ]
  },
  {
   "cell_type": "code",
   "execution_count": 78,
   "id": "900889fe",
   "metadata": {},
   "outputs": [
    {
     "name": "stdout",
     "output_type": "stream",
     "text": [
      "[[1. 1. 1.]\n",
      " [1. 1. 1.]] \n",
      " [[0. 0.]\n",
      " [0. 0.]]\n"
     ]
    },
    {
     "data": {
      "text/plain": [
       "array([[1., 1., 1., 0., 0.],\n",
       "       [1., 1., 1., 0., 0.]])"
      ]
     },
     "execution_count": 78,
     "metadata": {},
     "output_type": "execute_result"
    }
   ],
   "source": [
    "# 1. hstack : 행의 수가 같은 2개이상의 배열을 옆으로 연결\n",
    "# 전제조건 : 하나의 list로 저장해야 한다.\n",
    "a1 = np.ones((2,3))\n",
    "a2 = np.zeros((2,2))\n",
    "print(a1, '\\n', a2)\n",
    "\n",
    "np.hstack([a1,a2])"
   ]
  },
  {
   "cell_type": "code",
   "execution_count": 82,
   "id": "8ea4f07a",
   "metadata": {},
   "outputs": [
    {
     "name": "stdout",
     "output_type": "stream",
     "text": [
      "[[1. 1. 1.]\n",
      " [1. 1. 1.]] \n",
      "\n",
      " [[0. 0. 0.]\n",
      " [0. 0. 0.]\n",
      " [0. 0. 0.]]\n",
      "\n",
      "[[1. 1. 1.]\n",
      " [1. 1. 1.]\n",
      " [0. 0. 0.]\n",
      " [0. 0. 0.]\n",
      " [0. 0. 0.]]\n"
     ]
    }
   ],
   "source": [
    "# 2. vstack : 열의 수가 같은 2개이상의 배열을 위아래로 연결 즉, 행의 수가 증가\n",
    "# 연결할 배열은 list로 저장해야 한다.\n",
    "b1 = np.ones((2,3))\n",
    "b2 = np.zeros((3,3))\n",
    "print(b1, '\\n'*2, b2)\n",
    "print()\n",
    "print(np.vstack([b1, b2]))"
   ]
  },
  {
   "cell_type": "code",
   "execution_count": 85,
   "id": "10f0a697",
   "metadata": {},
   "outputs": [
    {
     "name": "stdout",
     "output_type": "stream",
     "text": [
      "[[1. 1. 1. 1.]\n",
      " [1. 1. 1. 1.]\n",
      " [1. 1. 1. 1.]] \n",
      "\n",
      " [[0. 0. 0. 0.]\n",
      " [0. 0. 0. 0.]\n",
      " [0. 0. 0. 0.]]\n",
      "\n",
      "[[[1. 0.]\n",
      "  [1. 0.]\n",
      "  [1. 0.]\n",
      "  [1. 0.]]\n",
      "\n",
      " [[1. 0.]\n",
      "  [1. 0.]\n",
      "  [1. 0.]\n",
      "  [1. 0.]]\n",
      "\n",
      " [[1. 0.]\n",
      "  [1. 0.]\n",
      "  [1. 0.]\n",
      "  [1. 0.]]]\n",
      "(3, 4, 2)\n"
     ]
    }
   ],
   "source": [
    "# 3. dstack : 3차원 즉, 행이나 열이 아닌 깊이방향으로 합친다\n",
    "# 원소의 차원이 증가\n",
    "c1 = np.ones((3,4))\n",
    "c2 = np.zeros((3,4))\n",
    "print(c1, '\\n'*2, c2)\n",
    "print()\n",
    "\n",
    "cx = np.dstack([c1, c2])\n",
    "print(cx)\n",
    "print(cx.shape)"
   ]
  },
  {
   "cell_type": "code",
   "execution_count": 88,
   "id": "3854162e",
   "metadata": {},
   "outputs": [
    {
     "name": "stdout",
     "output_type": "stream",
     "text": [
      "[[1. 1. 1. 1.]\n",
      " [1. 1. 1. 1.]\n",
      " [1. 1. 1. 1.]] \n",
      "\n",
      " [[0. 0. 0. 0.]\n",
      " [0. 0. 0. 0.]\n",
      " [0. 0. 0. 0.]]\n",
      "\n",
      "[[[1. 1. 1. 1.]\n",
      "  [1. 1. 1. 1.]\n",
      "  [1. 1. 1. 1.]]\n",
      "\n",
      " [[0. 0. 0. 0.]\n",
      "  [0. 0. 0. 0.]\n",
      "  [0. 0. 0. 0.]]]\n",
      "(2, 3, 4)\n",
      "\n",
      "[[[1. 1. 1. 1.]\n",
      "  [0. 0. 0. 0.]]\n",
      "\n",
      " [[1. 1. 1. 1.]\n",
      "  [0. 0. 0. 0.]]\n",
      "\n",
      " [[1. 1. 1. 1.]\n",
      "  [0. 0. 0. 0.]]]\n",
      "(3, 2, 4)\n"
     ]
    }
   ],
   "source": [
    "# 4. stack : dstack의 기능을 확장한 것으로 마지막차원으로 연결하는 것이 아니라\n",
    "# 사용자가 지정한 차원(축)으로 연결, axis(기본값 0)사용하여 연결후 회전방향을 결정\n",
    "c1 = np.ones((3,4))\n",
    "c2 = np.zeros((3,4))\n",
    "print(c1, '\\n'*2, c2)\n",
    "print()\n",
    "\n",
    "# 1) axis=0\n",
    "cx = np.stack([c1, c2])\n",
    "print(cx)\n",
    "print(cx.shape)\n",
    "print()\n",
    "\n",
    "# axis=1\n",
    "cx = np.stack([c1, c2], axis=1)\n",
    "print(cx)\n",
    "print(cx.shape)"
   ]
  },
  {
   "cell_type": "code",
   "execution_count": 89,
   "id": "4b7f7979",
   "metadata": {},
   "outputs": [
    {
     "data": {
      "text/plain": [
       "array([1, 2, 3, 4, 5, 6])"
      ]
     },
     "execution_count": 89,
     "metadata": {},
     "output_type": "execute_result"
    }
   ],
   "source": [
    "# 5. r_ : hstack과 유사하지만 좌우로 연결, \n",
    "# 메서드임에도 소괄호를 사용하지 않고 대괄호를 사용한다.\n",
    "np.r_[np.array([1,2,3]), np.array([4,5,6])] # 결과 1차원"
   ]
  },
  {
   "cell_type": "code",
   "execution_count": 90,
   "id": "748d090e",
   "metadata": {},
   "outputs": [
    {
     "data": {
      "text/plain": [
       "array([[1, 4],\n",
       "       [2, 5],\n",
       "       [3, 6]])"
      ]
     },
     "execution_count": 90,
     "metadata": {},
     "output_type": "execute_result"
    }
   ],
   "source": [
    "# 6. c_ : 배열의 차원을 증가후 좌우로 연결 즉, 1차원인 경우 2차원으로 변경\n",
    "np.c_[np.array([1,2,3]), np.array([4,5,6])] # 결과 2차원"
   ]
  },
  {
   "cell_type": "code",
   "execution_count": 93,
   "id": "9664c8b4",
   "metadata": {},
   "outputs": [
    {
     "name": "stdout",
     "output_type": "stream",
     "text": [
      "[[0 1 2 0 1 2]\n",
      " [3 4 5 3 4 5]]\n",
      "\n",
      "[[0 1 2 0 1 2]\n",
      " [3 4 5 3 4 5]\n",
      " [0 1 2 0 1 2]\n",
      " [3 4 5 3 4 5]\n",
      " [0 1 2 0 1 2]\n",
      " [3 4 5 3 4 5]]\n"
     ]
    }
   ],
   "source": [
    "# 7. tile : 동일한 배열을 반복\n",
    "a = np.array([[0,1,2], [3,4,5]])\n",
    "print(np.tile(a, 2))\n",
    "print()\n",
    "\n",
    "print(np.tile(a, (3,2)))"
   ]
  },
  {
   "cell_type": "code",
   "execution_count": 97,
   "id": "e03dcc27",
   "metadata": {},
   "outputs": [
    {
     "name": "stdout",
     "output_type": "stream",
     "text": [
      "[[0 1 2]\n",
      " [0 1 2]\n",
      " [0 1 2]\n",
      " [0 1 2]\n",
      " [0 1 2]] [[0 0 0]\n",
      " [1 1 1]\n",
      " [2 2 2]\n",
      " [3 3 3]\n",
      " [4 4 4]]\n"
     ]
    }
   ],
   "source": [
    "# 8. meshgrid명령 : 2차원함수의 쌍 즉, 그리드 포인트를 생성\n",
    "# 사각형영역안의 그리드 포인트를 생성\n",
    "x1 = np.arange(3)\n",
    "x1\n",
    "x2 = np.arange(5)\n",
    "x2\n",
    "\n",
    "X, y = np.meshgrid(x1, x2)\n",
    "print(X, y)"
   ]
  },
  {
   "cell_type": "code",
   "execution_count": 99,
   "id": "f43cb786",
   "metadata": {},
   "outputs": [
    {
     "data": {
      "text/plain": [
       "[[(0, 0), (1, 0), (2, 0)],\n",
       " [(0, 1), (1, 1), (2, 1)],\n",
       " [(0, 2), (1, 2), (2, 2)],\n",
       " [(0, 3), (1, 3), (2, 3)],\n",
       " [(0, 4), (1, 4), (2, 4)]]"
      ]
     },
     "execution_count": 99,
     "metadata": {},
     "output_type": "execute_result"
    }
   ],
   "source": [
    "[list(zip(X, y)) for X, y in zip(X, y)]"
   ]
  },
  {
   "cell_type": "markdown",
   "id": "a4082b38",
   "metadata": {},
   "source": [
    "#### 배열의 연산"
   ]
  },
  {
   "cell_type": "code",
   "execution_count": 105,
   "id": "b2f66765",
   "metadata": {},
   "outputs": [
    {
     "name": "stdout",
     "output_type": "stream",
     "text": [
      "CPU times: total: 0 ns\n",
      "Wall time: 0 ns\n",
      "\n"
     ]
    }
   ],
   "source": [
    "# z = x + y\n",
    "x = np.arange(1, 1000001)\n",
    "y = np.arange(1000001, 2000001)\n",
    "\n",
    "z = np.zeros_like(x)\n",
    "\n",
    "%time\n",
    "for i in range(1000000):\n",
    "    z[i] = x[i] + y[i]\n",
    "    \n",
    "print()"
   ]
  },
  {
   "cell_type": "code",
   "execution_count": 110,
   "id": "76727326",
   "metadata": {},
   "outputs": [
    {
     "name": "stdout",
     "output_type": "stream",
     "text": [
      "CPU times: total: 0 ns\n",
      "Wall time: 0 ns\n"
     ]
    },
    {
     "data": {
      "text/plain": [
       "array([9.999990e-07, 1.999996e-06, 2.999991e-06, 3.999984e-06,\n",
       "       4.999975e-06])"
      ]
     },
     "execution_count": 110,
     "metadata": {},
     "output_type": "execute_result"
    }
   ],
   "source": [
    "# 선형대수의 행렬연산(4칙연산) - 속도가 빠르다.\n",
    "%time\n",
    "z = x + y\n",
    "z[:5]"
   ]
  },
  {
   "cell_type": "code",
   "execution_count": 115,
   "id": "1259c121",
   "metadata": {},
   "outputs": [
    {
     "name": "stdout",
     "output_type": "stream",
     "text": [
      "[False  True False  True]\n",
      "[False  True  True  True]\n",
      "[ True  True False  True]\n",
      "False\n",
      "True\n"
     ]
    }
   ],
   "source": [
    "# 선형대수 논리연산\n",
    "a = np.array([1,2,3,4])\n",
    "b = np.array([4,2,2,4])\n",
    "c = np.array([1,2,3,4])\n",
    "print(a == b)\n",
    "print(a >= b)\n",
    "print(a <= b)\n",
    "\n",
    "# 배열의 각요소를 하나씩 비교하는 것이 아니라 모든가 다 같은지 여부\n",
    "print(np.all(a == b))\n",
    "print(np.all(a == c))"
   ]
  },
  {
   "cell_type": "code",
   "execution_count": 120,
   "id": "13ed5e79",
   "metadata": {},
   "outputs": [
    {
     "name": "stdout",
     "output_type": "stream",
     "text": [
      "[ 0 10 20 30 40 50 60 70 80 90]\n",
      "[[   0  100  200  300]\n",
      " [ 400  500  600  700]\n",
      " [ 800  900 1000 1100]]\n"
     ]
    }
   ],
   "source": [
    "# 스칼라와 벡터/행렬의 곱셈 (행렬연산)\n",
    "x = np.arange(10)\n",
    "x\n",
    "print(x * 10)\n",
    "\n",
    "x = np.arange(12).reshape(3,4)\n",
    "x\n",
    "print(x * 100)"
   ]
  },
  {
   "cell_type": "code",
   "execution_count": 126,
   "id": "29959683",
   "metadata": {},
   "outputs": [
    {
     "name": "stdout",
     "output_type": "stream",
     "text": [
      "(5,)\n",
      "[5 6 7 8 9]\n"
     ]
    }
   ],
   "source": [
    "# 브로드캐스팅 : 행렬의 차원크기가 다를 경우 행렬을 확장하는 개념\n",
    "x = np.arange(5)\n",
    "y = 5\n",
    "print(x.shape)\n",
    "print\n",
    "print(x + y)"
   ]
  },
  {
   "cell_type": "markdown",
   "id": "cbeab076",
   "metadata": {},
   "source": [
    "##### 차원축소연산\n",
    "\n",
    "* min, max, argmin, argmax\n",
    "* sum, mean, median, std, var\n",
    "* all, any : 블리언"
   ]
  },
  {
   "cell_type": "code",
   "execution_count": 135,
   "id": "ced0a223",
   "metadata": {},
   "outputs": [
    {
     "name": "stdout",
     "output_type": "stream",
     "text": [
      "10\n",
      "1\n",
      "4\n",
      "0\n",
      "3\n",
      "2.5\n",
      "2.5\n",
      "False\n",
      "True\n"
     ]
    }
   ],
   "source": [
    "x = np.array([1,2,3,4])\n",
    "print(np.sum(x))\n",
    "print(np.min(x))\n",
    "print(np.max(x))\n",
    "print(np.argmin(x))\n",
    "print(np.argmax(x))\n",
    "print(np.median(x))\n",
    "print(np.mean(x))\n",
    "\n",
    "print(np.all([True, True, False]))\n",
    "print(np.any([True, True, False]))"
   ]
  },
  {
   "cell_type": "code",
   "execution_count": 140,
   "id": "5dd02b14",
   "metadata": {},
   "outputs": [
    {
     "name": "stdout",
     "output_type": "stream",
     "text": [
      "[[ 3  4  5  7]\n",
      " [ 1  9 11 12]\n",
      " [ 1  2 14 15]]\n",
      "[[ 1  3  1  7]\n",
      " [ 2 12  5  9]\n",
      " [ 4 15 11 14]]\n"
     ]
    },
    {
     "data": {
      "text/plain": [
       "array([[1, 0, 2, 3],\n",
       "       [0, 3, 2, 1],\n",
       "       [2, 0, 3, 1]], dtype=int64)"
      ]
     },
     "execution_count": 140,
     "metadata": {},
     "output_type": "execute_result"
    }
   ],
   "source": [
    "# 정렬 : sort함수나 메서드를 사용하여 배열안의 원소크기를 정렬하여 새로운 배열을 생성\n",
    "# axis=0, axis=1\n",
    "# sort는 자체변화함수 즉 inplace=True\n",
    "a = np.array([[4,3,5,7],\n",
    "              [1,12,11,9],\n",
    "              [2,15,1,14]])\n",
    "a\n",
    "print(np.sort(a)) # axis=1 행\n",
    "print(np.sort(a, axis=0)) # axis=0 열\n",
    "\n",
    "# 자료가 변형되는 것이 아니라 순서만 알고 싶을 경우는 argsort명령을 사용\n",
    "# 정렬된 순서를 리턴\n",
    "a = np.array([[4,3,5,7],\n",
    "              [1,12,11,9],\n",
    "              [2,15,1,14]])\n",
    "np.argsort(a)"
   ]
  },
  {
   "cell_type": "code",
   "execution_count": null,
   "id": "52591b03",
   "metadata": {},
   "outputs": [],
   "source": [
    "print"
   ]
  }
 ],
 "metadata": {
  "kernelspec": {
   "display_name": "Python 3 (ipykernel)",
   "language": "python",
   "name": "python3"
  },
  "language_info": {
   "codemirror_mode": {
    "name": "ipython",
    "version": 3
   },
   "file_extension": ".py",
   "mimetype": "text/x-python",
   "name": "python",
   "nbconvert_exporter": "python",
   "pygments_lexer": "ipython3",
   "version": "3.11.5"
  }
 },
 "nbformat": 4,
 "nbformat_minor": 5
}
