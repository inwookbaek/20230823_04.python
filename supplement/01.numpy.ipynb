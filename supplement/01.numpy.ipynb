{
 "cells": [
  {
   "cell_type": "markdown",
   "id": "68962a8e",
   "metadata": {},
   "source": [
    "1. numpy 배열\n",
    "1. numpy 배열의 생성과 변형\n",
    "1. numpy 배열의 연산\n",
    "1. 기술통계\n",
    "1. 난수발생과 카운팅\n",
    "\n",
    "* `Numpy의 핵심은 ndarray이다.`\n",
    "* `np.array()함수는 list, tuple, array로 부터 ndarrary객체를 생성`\n",
    "* ndarray는 N-dimensional Array의 약자이다. 즉, `다차원(1,2,...N차원)배열 자료구조를 지원`한다."
   ]
  },
  {
   "cell_type": "code",
   "execution_count": 1,
   "id": "1d95a718",
   "metadata": {},
   "outputs": [],
   "source": [
    "import numpy as np"
   ]
  },
  {
   "cell_type": "markdown",
   "id": "d9350db0",
   "metadata": {},
   "source": [
    "##### 1. numpy 배열"
   ]
  },
  {
   "cell_type": "code",
   "execution_count": 4,
   "id": "f6088d6b",
   "metadata": {},
   "outputs": [
    {
     "name": "stdout",
     "output_type": "stream",
     "text": [
      "<class 'numpy.ndarray'> [1 2 3 4 5]\n"
     ]
    }
   ],
   "source": [
    "# 1. 1차원배열 만들기\n",
    "# np.array()함수에 list자료형을 전달하면 ndarray 객체 즉, 배열로 리턴한다.\n",
    "# ndarray는 list와 유산한 구조처럼보이지만 배열객체와 리스트객체는 많은 차이가 있다.\n",
    "# 1. list에는 서로 다른 타입의 자료를 저장할 수 있지만 ndarray은 동일 타입의 자료만 저장이 가능\n",
    "# 2. ndarray는 다차원배열의 수치자료를 연산할 수 있다.\n",
    "arr1 = np.array([1,2,3,4,5])\n",
    "print(type(arr1), arr1)"
   ]
  },
  {
   "cell_type": "code",
   "execution_count": 12,
   "id": "bef257af",
   "metadata": {},
   "outputs": [
    {
     "name": "stdout",
     "output_type": "stream",
     "text": [
      "<class 'numpy.ndarray'> [1. 2. 3. 1.]\n",
      "\n",
      "<class 'numpy.ndarray'> ['1.0' '2' '3' '1.0']\n",
      "<class 'numpy.str_'> 1.0\n",
      "<class 'numpy.ndarray'> ['1.0' '2' '3' '일']\n",
      "<class 'numpy.str_'> 일\n"
     ]
    }
   ],
   "source": [
    "# 데이터타입이 틀린경우 강제형변환이 가능하다. \n",
    "# 1) 수치자료형은 상위의 데이터타입으로 변환이 된다.\n",
    "# 2) string 요소가 있을 경우에 수치타입은 전부 str타입으로 강제형변환된다.\n",
    "arr1 = np.array([1.0, 2, 3, 1.0])  # int -> float\n",
    "print(type(arr1), arr1)\n",
    "print()\n",
    "\n",
    "arr2 = np.array([1.0, 2, 3, '1.0']) # 각요소가 전부 string타입으로 강제형변환\n",
    "print(type(arr2), arr2)\n",
    "print(type(arr2[3]), arr2[3])\n",
    "\n",
    "arr3 = np.array([1.0, 2, 3, '일'])\n",
    "print(type(arr3), arr3)\n",
    "print(type(arr3[3]), arr3[3])"
   ]
  },
  {
   "cell_type": "code",
   "execution_count": 23,
   "id": "74d56617",
   "metadata": {},
   "outputs": [
    {
     "name": "stdout",
     "output_type": "stream",
     "text": [
      "<class 'list'> [1, 2, 3, '4', [5, 6]]\n",
      "<class 'numpy.ndarray'> [[1 2]\n",
      " [3 4]]\n"
     ]
    }
   ],
   "source": [
    "# 비동차는 지원하지 않는다. 차원이 다를 경우 에러가 발생된다.\n",
    "# 즉, ndarray의 요소의 차원수는 동일해야 한다.\n",
    "# 동차(homogeneous), 비동차(inhomogeneous)\n",
    "list1 = [1,2,3, '4', [5,6]]\n",
    "print(type(list1), list1)\n",
    "# arr4 = np.array(list1) # 비동차에러, inhomogeneous part\n",
    "\n",
    "list2 = [[1,2], [3,4]] # 첫 번쨰 요소와 두 번째 요소 모두 동차(1차원), \n",
    "arr4 = np.array(list2)\n",
    "print(type(arr4), arr4)"
   ]
  },
  {
   "cell_type": "code",
   "execution_count": 36,
   "id": "a3808b5a",
   "metadata": {},
   "outputs": [
    {
     "name": "stdout",
     "output_type": "stream",
     "text": [
      "<class 'list'> [0, 1, 2, 3, 4, 5, 6, 7, 8, 9, 0, 1, 2, 3, 4, 5, 6, 7, 8, 9]\n",
      "<class 'list'> [0, 2, 4, 6, 8, 10, 12, 14, 16, 18]\n",
      "<class 'numpy.ndarray'> [ 0  2  4  6  8 10 12 14 16 18]\n",
      "\n",
      "<class 'numpy.ndarray'> [False False  True False False False False False False False]\n",
      "<class 'numpy.ndarray'> [ True False  True False  True False  True False  True False]\n",
      "\n",
      "[False  True False]\n",
      "[False  True  True]\n",
      "\n",
      "[False  True False]\n"
     ]
    }
   ],
   "source": [
    "# ndarray는 벡터(Vector)와 행렬(Matrix)\n",
    "# 1) list의 연산(배수)\n",
    "data = [0,1,2,3,4,5,6,7,8,9] # 각 요소를 2배를 할 경우\n",
    "result = data * 2 \n",
    "print(type(result), result)  # list인 data를 2 times\n",
    "\n",
    "# list자료를 벡터화같은 연산을 할경우\n",
    "result = []\n",
    "for d in data:\n",
    "    result.append(d * 2)\n",
    "print(type(result), result)\n",
    "    \n",
    "# 2) 벡터화연산\n",
    "# 비교연산, 논리연산을 포함한 모든 종류의 수학 연산을 할 수가 있다.\n",
    "# 이 의미는 선형대수에 적용되는 연산(행렬연산)이 가능하다\n",
    "arr5 = np.array(data)  # 벡터의 연산\n",
    "result = arr5 * 2\n",
    "print(type(result), result)\n",
    "print()\n",
    "\n",
    "# a. 비교연산\n",
    "result = arr5 == 2   # if arr5[i] == 2\n",
    "print(type(result), result)\n",
    "result = arr5%2 == 0         # if arr5[i]%2 == 0\n",
    "print(type(result), result)\n",
    "print()\n",
    "\n",
    "a = np.array([1,2,3])\n",
    "b = np.array([10,20,30])\n",
    "\n",
    "print(a ==2)\n",
    "print(b > 10)\n",
    "print()\n",
    "\n",
    "print((a==2) & (b>10))"
   ]
  },
  {
   "cell_type": "code",
   "execution_count": null,
   "id": "b4fc5cf7",
   "metadata": {},
   "outputs": [],
   "source": [
    "# 2차원 배열 만들기, 2x3의 2차원배열 생성하기\n",
    "arr6 = np.array([[0,1,2],[3,4,5]])\n",
    "print(type(arr6), arr6)\n",
    "\n",
    "# arr7 = np.array([[0,1,2],[3,4,5,6]]) # inhomogeneous에러 즉 차원, 요소의 갯수가 다를 경우, 에러발생"
   ]
  },
  {
   "cell_type": "code",
   "execution_count": 42,
   "id": "feec856f",
   "metadata": {},
   "outputs": [
    {
     "name": "stdout",
     "output_type": "stream",
     "text": [
      "2\n",
      "3\n"
     ]
    }
   ],
   "source": [
    "# 2차원배열의 행과 열의 갯수구하기\n",
    "print(len(arr6))    # 행의 갯수\n",
    "print(len(arr6[0])) # 첫 번째행의 열의 갯수"
   ]
  },
  {
   "cell_type": "code",
   "execution_count": 47,
   "id": "949424d4",
   "metadata": {},
   "outputs": [
    {
     "name": "stdout",
     "output_type": "stream",
     "text": [
      "<class 'list'> [[[1, 2, 3, 4], [5, 6, 7, 8], [9, 10, 11, 12]], [[13, 14, 15, 16], [17, 18, 19, 20], [21, 22, 23, 24]]]\n",
      "<class 'numpy.ndarray'> [[[ 1  2  3  4]\n",
      "  [ 5  6  7  8]\n",
      "  [ 9 10 11 12]]\n",
      "\n",
      " [[13 14 15 16]\n",
      "  [17 18 19 20]\n",
      "  [21 22 23 24]]]\n"
     ]
    }
   ],
   "source": [
    "# 3차원배열 만들기 2x3x4\n",
    "list3 = [[[1,2,3,4], [5,6,7,8], [9,10,11,12]],           # 1면, 3행, 4열\n",
    "        [[13,14,15,16],[17,18,19,20],[21,22,23,24]]]     # 2면, 3행, 4열 \n",
    "print(type(list3), list3)   \n",
    "\n",
    "arr7 = np.array(list3)\n",
    "print(type(arr7), arr7)"
   ]
  },
  {
   "cell_type": "code",
   "execution_count": 57,
   "id": "88a1dfe9",
   "metadata": {},
   "outputs": [
    {
     "name": "stdout",
     "output_type": "stream",
     "text": [
      "배열의 차원 = 3 차원\n",
      "배열의 크기 = (2, 3, 4) 크기(형태)\n"
     ]
    }
   ],
   "source": [
    "# 배열의 차원과 크기 알아내기\n",
    "print(f'배열의 차원 = {arr7.ndim} 차원')\n",
    "print(f'배열의 크기 = {arr7.shape} 크기(형태)')"
   ]
  },
  {
   "cell_type": "markdown",
   "id": "8211ddf5",
   "metadata": {},
   "source": [
    "##### 2. numpy 배열의 indexing과 slicing"
   ]
  },
  {
   "cell_type": "code",
   "execution_count": 72,
   "id": "b15100ee",
   "metadata": {},
   "outputs": [
    {
     "name": "stdout",
     "output_type": "stream",
     "text": [
      "0 1 2 3 4\n",
      "1st행=[0 1 2], 2nd행=[3 4 5]\n",
      "\n",
      "1st행=[0 1 2], 1st행의 1st열=0\n",
      "1st행=[0 1 2], 1st행의 2nd열=1\n",
      "1st행=[0 1 2], 1st행의 3rd열=2\n",
      "\n",
      "2nd행=[3 4 5], 2nd행의 1st열=3\n",
      "2nd행=[3 4 5], 2nd행의 2nd열=4\n",
      "2nd행=[3 4 5], 2nd행의 3rd열=5\n",
      "\n",
      "5 = 5\n",
      "4 = 4\n",
      "3 = 3\n"
     ]
    }
   ],
   "source": [
    "# 1. indexing : 대괄호[인덱스]로 접근\n",
    "# 양수, 음수로 접근할 수 있는데 음수는 뒤에서 부터 인덱싱을 한다.\n",
    "\n",
    "# 1) 1차원일 경우\n",
    "# 배열명[인덱스]\n",
    "a = np.array([0,1,2,3,4])\n",
    "print(a[0],a[1],a[2],a[3],a[4])\n",
    "\n",
    "# 2) 2차원일 경우\n",
    "# 배열명[행,열]\n",
    "a = np.array([[0,1,2],[3,4,5]])\n",
    "print(f'1st행={a[0,]}, 2nd행={a[1,]}')\n",
    "print()\n",
    "\n",
    "print(f'1st행={a[0,]}, 1st행의 1st열={a[0,0]}')\n",
    "print(f'1st행={a[0,]}, 1st행의 2nd열={a[0,1]}')\n",
    "print(f'1st행={a[0,]}, 1st행의 3rd열={a[0,2]}')\n",
    "print()\n",
    "\n",
    "print(f'2nd행={a[1,]}, 2nd행의 1st열={a[1,0]}')\n",
    "print(f'2nd행={a[1,]}, 2nd행의 2nd열={a[1,1]}')\n",
    "print(f'2nd행={a[1,]}, 2nd행의 3rd열={a[1,2]}')\n",
    "print()\n",
    "\n",
    "#0 3) 음수로 인덱싱할 경우 - 뒤에서부터 접근\n",
    "print(a[-1,-1] , '=', a[1,2]) \n",
    "print(a[-1,-2] , '=', a[1,1])\n",
    "print(a[-1,-3] , '=', a[1,0]) "
   ]
  },
  {
   "cell_type": "code",
   "execution_count": 92,
   "id": "113c35a4",
   "metadata": {},
   "outputs": [
    {
     "name": "stdout",
     "output_type": "stream",
     "text": [
      "[[0 1 2 3]\n",
      " [4 5 6 7]] 2 (2, 4)\n",
      "\n",
      "1st행의 열의 전체 = [0 1 2 3]\n",
      "2nd행의 열의 전체 = [4 5 6 7]\n",
      "\n",
      "1st열의 행의 전체 = [0 4]\n",
      "2nd열의 행의 전체 = [1 5]\n",
      "3rd열의 행의 전체 = [2 6]\n",
      "4th열의 행의 전체 = [3 7]\n",
      "\n",
      "2nd행의 1st열 = [4]\n",
      "2nd행의 1st~2nd열 = [4 5]\n",
      "\n",
      "전체행의 전체열(1) = [[0 1 2 3]\n",
      " [4 5 6 7]]\n",
      "전체행의 전체열(2) = [[0 1 2 3]\n",
      " [4 5 6 7]]\n",
      "전체행의 전체열(3) = [[0 1 2 3]\n",
      " [4 5 6 7]]\n",
      "전체행의 전체열(4) = [[0 1 2 3]]\n",
      "\n",
      "마지막행의 마지막열(1) = [[7]]\n",
      "마지막행의 마지막열(2) = [[7]]\n"
     ]
    }
   ],
   "source": [
    "# 2. slicing : 대괄호[:,:] -> 슬라이싱은 :으로 구분 [:(행), :(열)]\n",
    "a = np.array([[0,1,2,3],[4,5,6,7]])\n",
    "print(a, a.ndim, a.shape)\n",
    "print()\n",
    "\n",
    "print(f'1st행의 열의 전체 = {a[0,:]}')\n",
    "print(f'2nd행의 열의 전체 = {a[1,:]}')\n",
    "print()\n",
    "\n",
    "print(f'1st열의 행의 전체 = {a[:,0]}')\n",
    "print(f'2nd열의 행의 전체 = {a[:,1]}')\n",
    "print(f'3rd열의 행의 전체 = {a[:,2]}')\n",
    "print(f'4th열의 행의 전체 = {a[:,3]}')\n",
    "print()\n",
    "\n",
    "print(f'2nd행의 1st열 = {a[1,0:1]}') # [start:end-1, strat:end-1]\n",
    "print(f'2nd행의 1st~2nd열 = {a[1,0:2]}')\n",
    "print()\n",
    "\n",
    "print(f'전체행의 전체열(1) = {a[:,:]}') # 콜론 전후로 지정값이 없을 경우 전은 맨앞, 후는 맨뒤의미\n",
    "print(f'전체행의 전체열(2) = {a[:,]}')\n",
    "print(f'전체행의 전체열(3) = {a[0:2,]}')\n",
    "print(f'전체행의 전체열(4) = {a[0:-1,]}')\n",
    "print()\n",
    "\n",
    "print(f'마지막행의 마지막열(1) = {a[1:,3:]}')\n",
    "print(f'마지막행의 마지막열(2) = {a[-1:,-1:]}')"
   ]
  },
  {
   "cell_type": "code",
   "execution_count": 98,
   "id": "a130e8f4",
   "metadata": {},
   "outputs": [
    {
     "name": "stdout",
     "output_type": "stream",
     "text": [
      "전체행중 2행씩 건너서 전체열 = [[ 0  1  2  3]\n",
      " [ 8  9 10 11]]\n",
      "전체행중 1행씩 건너서 전체열 = [[ 0  1  2  3]\n",
      " [ 4  5  6  7]\n",
      " [ 8  9 10 11]]\n",
      "\n",
      "전체행중 2행씩 건너서 전체열중 2열씩 건너서 = [[ 0  2]\n",
      " [ 8 10]]\n"
     ]
    }
   ],
   "source": [
    "# 슬라이싱의 step [start:end-1:step, start:end-1:step]\n",
    "a = np.array([[0,1,2,3],[4,5,6,7], [8,9,10,11]])\n",
    "print(f'전체행중 2행씩 건너서 전체열 = {a[::2,:]}')\n",
    "print(f'전체행중 1행씩 건너서 전체열 = {a[:,:]}')\n",
    "print()\n",
    "\n",
    "#  [[0,1,2,3], [8,9,10,11]] -> [[0,2], [8,10]]\n",
    "print(f'전체행중 2행씩 건너서 전체열중 2열씩 건너서 = {a[::2,::2]}')"
   ]
  },
  {
   "cell_type": "markdown",
   "id": "bc9f334d",
   "metadata": {},
   "source": [
    "##### 3. fancy indexing(배열인덱싱)\n",
    "\n",
    "* 인덱싱이란 이름이 부여됬지만 실제는 db의 query의 기능을 수행한다.\n",
    "* `불리언배열과, 정수배열`방식 2가지가 있다.\n",
    "   - 블리언인덱싱방식은 배열의 `원소가 True, False 2개의 값으로만 구성`되면 원ndarray와 크기가 동일해야 한다.\n",
    "   - 정수형 인덱싱은 인덱스가 존재한다면 원ndarray와 크기가 달라도 상관없다."
   ]
  },
  {
   "cell_type": "code",
   "execution_count": 105,
   "id": "23d81c00",
   "metadata": {},
   "outputs": [
    {
     "name": "stdout",
     "output_type": "stream",
     "text": [
      "(10,) (10,)\n",
      "[0 2 4 6 8]\n",
      "[0 1 0 1 0 1 0 1 0 1]\n",
      "[0 1 0 1 0 1 0 1 0 1]\n",
      "[0 2 4 6 8]\n"
     ]
    }
   ],
   "source": [
    "# 1. boolean indexing\n",
    "a = np.array([0,1,2,3,4,5,6,7,8,9])\n",
    "idx = np.array([True, False, True, False,True, False,True, False,True, False])\n",
    "print(a.shape, idx.shape)\n",
    "print(a[idx])\n",
    "\n",
    "# 조건식\n",
    "print(a % 2) # 나머지값\n",
    "print(a[a%2])\n",
    "print(a[a%2==0])\n",
    "\n"
   ]
  },
  {
   "cell_type": "code",
   "execution_count": 109,
   "id": "e484cca8",
   "metadata": {},
   "outputs": [
    {
     "name": "stdout",
     "output_type": "stream",
     "text": [
      "[0 2 4 6 8]\n",
      "[0 0 0]\n",
      "[0 8 9]\n",
      "[0 8 8 8 8 8 9 4 4 4 4 4 2 2 2 2]\n"
     ]
    }
   ],
   "source": [
    "# 2. 정수 indexing - 직접 요소의 위치 즉, 인덱스를 지정하는 방법\n",
    "# \n",
    "a = np.array([0,1,2,3,4,5,6,7,8,9])\n",
    "idx = np.array([0,2,4,6,8])\n",
    "print(a[idx])  \n",
    "\n",
    "idx = np.array([0,0,0]) # 원 배열과 크기가 다르다.\n",
    "print(a[idx])\n",
    "\n",
    "idx = np.array([0,8,9])\n",
    "print(a[idx])\n",
    "\n",
    "idx = np.array([0,8,8,8,8,8,9,4,4,4,4,4,2,2,2,2])\n",
    "print(a[idx])"
   ]
  },
  {
   "cell_type": "code",
   "execution_count": 110,
   "id": "afdc9ddc",
   "metadata": {},
   "outputs": [],
   "source": [
    "# 3. 배열의 인덱싱은 다차원배열에도 적용할 수 있다."
   ]
  },
  {
   "cell_type": "code",
   "execution_count": null,
   "id": "71bcf572",
   "metadata": {},
   "outputs": [],
   "source": []
  }
 ],
 "metadata": {
  "kernelspec": {
   "display_name": "Python 3 (ipykernel)",
   "language": "python",
   "name": "python3"
  },
  "language_info": {
   "codemirror_mode": {
    "name": "ipython",
    "version": 3
   },
   "file_extension": ".py",
   "mimetype": "text/x-python",
   "name": "python",
   "nbconvert_exporter": "python",
   "pygments_lexer": "ipython3",
   "version": "3.11.5"
  }
 },
 "nbformat": 4,
 "nbformat_minor": 5
}
