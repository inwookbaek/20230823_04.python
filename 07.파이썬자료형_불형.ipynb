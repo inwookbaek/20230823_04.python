{
 "cells": [
  {
   "cell_type": "markdown",
   "id": "2830275c",
   "metadata": {},
   "source": [
    "# 불(Bool, Boolean)형\n",
    "\n",
    "* 불자료형이란 참과 거짓을 나타내는 자료형이다.\n",
    "* 불형은 2가지 값인 `True, False`값만 가질 수 있다.\n",
    "* 주의할 점은 True와 False 파이썬의 예약어로서 반드시 첫 글자가 대문자이어야 한다"
   ]
  },
  {
   "cell_type": "code",
   "execution_count": 5,
   "id": "1eb00f3b",
   "metadata": {},
   "outputs": [
    {
     "name": "stdout",
     "output_type": "stream",
     "text": [
      "['__abs__', '__add__', '__and__', '__bool__', '__ceil__', '__class__', '__delattr__', '__dir__', '__divmod__', '__doc__', '__eq__', '__float__', '__floor__', '__floordiv__', '__format__', '__ge__', '__getattribute__', '__getnewargs__', '__getstate__', '__gt__', '__hash__', '__index__', '__init__', '__init_subclass__', '__int__', '__invert__', '__le__', '__lshift__', '__lt__', '__mod__', '__mul__', '__ne__', '__neg__', '__new__', '__or__', '__pos__', '__pow__', '__radd__', '__rand__', '__rdivmod__', '__reduce__', '__reduce_ex__', '__repr__', '__rfloordiv__', '__rlshift__', '__rmod__', '__rmul__', '__ror__', '__round__', '__rpow__', '__rrshift__', '__rshift__', '__rsub__', '__rtruediv__', '__rxor__', '__setattr__', '__sizeof__', '__str__', '__sub__', '__subclasshook__', '__truediv__', '__trunc__', '__xor__', 'as_integer_ratio', 'bit_count', 'bit_length', 'conjugate', 'denominator', 'from_bytes', 'imag', 'numerator', 'real', 'to_bytes']\n",
      "\n",
      "True\n",
      "False\n"
     ]
    }
   ],
   "source": [
    "a = True\n",
    "print(dir(a))\n",
    "print()\n",
    "\n",
    "# a = true # NameError: name 'true' is not defined\n",
    "b = False\n",
    "\n",
    "print(1==1) # True\n",
    "print(1==2) # False"
   ]
  },
  {
   "cell_type": "code",
   "execution_count": 21,
   "id": "b01b3aef",
   "metadata": {},
   "outputs": [
    {
     "name": "stdout",
     "output_type": "stream",
     "text": [
      "True\n",
      "False\n",
      "True\n",
      "\n",
      "True\n",
      "True\n",
      "True\n",
      "True\n",
      "False\n",
      "False\n",
      "False\n",
      "False\n",
      "\n",
      "True\n",
      "False\n",
      "True\n",
      "True\n",
      "\n",
      "False\n",
      "<class 'NoneType'>\n",
      "Help on NoneType object:\n",
      "\n",
      "class NoneType(object)\n",
      " |  Methods defined here:\n",
      " |  \n",
      " |  __bool__(self, /)\n",
      " |      True if self else False\n",
      " |  \n",
      " |  __repr__(self, /)\n",
      " |      Return repr(self).\n",
      " |  \n",
      " |  ----------------------------------------------------------------------\n",
      " |  Static methods defined here:\n",
      " |  \n",
      " |  __new__(*args, **kwargs) from builtins.type\n",
      " |      Create and return a new object.  See help(type) for accurate signature.\n",
      "\n"
     ]
    }
   ],
   "source": [
    "# 각 자료형의 True와 False\n",
    "# 생성자함수 bool()함수를 이용하여 True, False를 형변환할 수 있다.\n",
    "\n",
    "# 1. 문자열 : 값이 있을 경우 True, 값이 없으면 False\n",
    "print(bool('문자열'))  # True\n",
    "print(bool(''))        # False \n",
    "print(bool('0'))       # True\n",
    "print()\n",
    "\n",
    "# 2. list, tuple, set, dict : 값이 있을 경우 True, 값이 없으면 False\n",
    "print(bool([1,2,3]))   # True\n",
    "print(bool((1,2,3)))   # True\n",
    "print(bool({1,2,3}))   # True\n",
    "print(bool({1:10,2:20,3:30})) # True\n",
    "print(bool([]))    # False \n",
    "print(bool(()))    # False \n",
    "print(bool(set())) # False \n",
    "print(bool({}))    # False \n",
    "print()\n",
    "\n",
    "# 3. 숫자일경우 0이면 False, 0이 아닌 모든 수(양수,음수)는 True\n",
    "print(bool(1))\n",
    "print(bool(0))\n",
    "print(bool(-1))\n",
    "print(bool(1000))\n",
    "print()\n",
    "\n",
    "# 4. None : 값이 없는 상태이기 때문에 False\n",
    "print(bool(None))\n",
    "print(type(None))\n",
    "help(None)"
   ]
  },
  {
   "cell_type": "markdown",
   "id": "96ccab81",
   "metadata": {},
   "source": [
    "##### 연습문제\n",
    "\n",
    "* 초보자를 위한 파이썬 300제 : https://wikidocs.net/book/922\n",
    "* 1~100문제의 '초보자를 위한 파이썬 300제_홍길동'파일을 월요일날 제출"
   ]
  },
  {
   "cell_type": "code",
   "execution_count": null,
   "id": "91b81a0a",
   "metadata": {},
   "outputs": [],
   "source": []
  },
  {
   "cell_type": "code",
   "execution_count": null,
   "id": "0848fc71",
   "metadata": {},
   "outputs": [],
   "source": []
  }
 ],
 "metadata": {
  "kernelspec": {
   "display_name": "Python 3 (ipykernel)",
   "language": "python",
   "name": "python3"
  },
  "language_info": {
   "codemirror_mode": {
    "name": "ipython",
    "version": 3
   },
   "file_extension": ".py",
   "mimetype": "text/x-python",
   "name": "python",
   "nbconvert_exporter": "python",
   "pygments_lexer": "ipython3",
   "version": "3.11.5"
  }
 },
 "nbformat": 4,
 "nbformat_minor": 5
}
