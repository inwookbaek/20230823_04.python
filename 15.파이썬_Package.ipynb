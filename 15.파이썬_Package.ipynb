{
 "cells": [
  {
   "cell_type": "markdown",
   "id": "b0d23913",
   "metadata": {},
   "source": [
    "# 패키지 Package\n",
    "\n",
    "* 파이썬의 패키지는 `디렉토리와 파이썬모듈(~.py)로 구성`된다.\n",
    "  1. 물리적으로 여러개의 모듈파일(~.py)을 모아 놓은 디렉토리이다.\n",
    "  1. `모듈은 확장자가 .py`인 파일이고 `패키지는 디렉토리 즉, 폴더`이다.\n",
    "  1. 패키지안에 `__init__.py`은 해당 폴더가 패키지임을 파이썬엔진에게 알려주는 역할을 한다.\n",
    "     * 파이썬V3.3이후 부터는 이 파일이 없어도 패키지로 인식된다.\n",
    "     * v3.3 이전 버전에서는 디렉토리안에 이 파일이 없으면 패키지로 인식되지 않는다.\n",
    "     * 하위버전과 호환성을 위해 dummy파일로 생성하는 것이 좋다.\n",
    "  1. 파이썬 모듈을 계층적(디렉토리)으로 관리하기 위해서는 `dot(.) 연산자를 사용`한다.\n",
    "  1. `__name__`변수에는 `패키지명.모듈명`의 형식으로 저장된다."
   ]
  },
  {
   "cell_type": "code",
   "execution_count": 1,
   "id": "7842a4fe",
   "metadata": {},
   "outputs": [],
   "source": [
    "# 1. source 하위폴더 /game, /game/sound, /game/graphic\n",
    "!mkdir d:\\\\lec\\\\04.python\\\\source\\\\game\\\\sound\n",
    "!mkdir d:\\\\lec\\\\04.python\\\\source\\\\game\\\\graphic"
   ]
  },
  {
   "cell_type": "code",
   "execution_count": null,
   "id": "ab8b16f6",
   "metadata": {},
   "outputs": [],
   "source": [
    "# 3개의 dir에 __init__.py\n",
    "# sound/echo.py\n",
    "def echo_test():\n",
    "    print('echo')\n",
    "    \n",
    "# graphic/render.py\n",
    "def render_test():\n",
    "    print('rendering')"
   ]
  },
  {
   "cell_type": "code",
   "execution_count": 2,
   "id": "38dc5db7",
   "metadata": {},
   "outputs": [
    {
     "data": {
      "text/plain": [
       "['d:\\\\lec\\\\04.python',\n",
       " 'C:\\\\Anaconda3\\\\python311.zip',\n",
       " 'C:\\\\Anaconda3\\\\DLLs',\n",
       " 'C:\\\\Anaconda3\\\\Lib',\n",
       " 'C:\\\\Anaconda3',\n",
       " '',\n",
       " 'C:\\\\Users\\\\gilbaek\\\\AppData\\\\Roaming\\\\Python\\\\Python311\\\\site-packages',\n",
       " 'C:\\\\Anaconda3\\\\Lib\\\\site-packages',\n",
       " 'C:\\\\Anaconda3\\\\Lib\\\\site-packages\\\\win32',\n",
       " 'C:\\\\Anaconda3\\\\Lib\\\\site-packages\\\\win32\\\\lib',\n",
       " 'C:\\\\Anaconda3\\\\Lib\\\\site-packages\\\\Pythonwin',\n",
       " 'd:/lec/04.python/source']"
      ]
     },
     "execution_count": 2,
     "metadata": {},
     "output_type": "execute_result"
    }
   ],
   "source": [
    "import sys\n",
    "sys.path.append('d:/lec/04.python/source')\n",
    "sys.path"
   ]
  },
  {
   "cell_type": "code",
   "execution_count": 5,
   "id": "900fe898",
   "metadata": {},
   "outputs": [
    {
     "name": "stdout",
     "output_type": "stream",
     "text": [
      "Variable   Type      Data/Info\n",
      "------------------------------\n",
      "game       module    <module 'game' from 'd:\\\\<...>urce\\\\game\\\\__init__.py'>\n",
      "sys        module    <module 'sys' (built-in)>\n",
      "\n",
      "echo\n"
     ]
    }
   ],
   "source": [
    "# 1. game.sound패키지에서 echo모듈 불러오기\n",
    "import game.sound.echo\n",
    "%whos\n",
    "print()\n",
    "\n",
    "game.sound.echo.echo_test()"
   ]
  },
  {
   "cell_type": "code",
   "execution_count": 7,
   "id": "43935c11",
   "metadata": {},
   "outputs": [
    {
     "name": "stdout",
     "output_type": "stream",
     "text": [
      "Variable   Type      Data/Info\n",
      "------------------------------\n",
      "echo       module    <module 'game.sound.echo'<...>e\\\\game\\\\sound\\\\echo.py'>\n",
      "game       module    <module 'game' from 'd:\\\\<...>urce\\\\game\\\\__init__.py'>\n",
      "sys        module    <module 'sys' (built-in)>\n",
      "\n",
      "echo\n"
     ]
    }
   ],
   "source": [
    "# 2. 모듈만 불러오기\n",
    "from game.sound import echo\n",
    "%whos\n",
    "print()\n",
    "\n",
    "echo.echo_test()"
   ]
  },
  {
   "cell_type": "code",
   "execution_count": 8,
   "id": "4491aa8e",
   "metadata": {},
   "outputs": [
    {
     "name": "stdout",
     "output_type": "stream",
     "text": [
      "Variable    Type        Data/Info\n",
      "---------------------------------\n",
      "echo        module      <module 'game.sound.echo'<...>e\\\\game\\\\sound\\\\echo.py'>\n",
      "echo_test   function    <function echo_test at 0x000002D5E252EAC0>\n",
      "game        module      <module 'game' from 'd:\\\\<...>urce\\\\game\\\\__init__.py'>\n",
      "sys         module      <module 'sys' (built-in)>\n",
      "\n",
      "echo\n"
     ]
    }
   ],
   "source": [
    "# 3. 함수만 불러오기\n",
    "from game.sound.echo import echo_test\n",
    "%whos\n",
    "print()\n",
    "echo_test()"
   ]
  },
  {
   "cell_type": "markdown",
   "id": "828c92c2",
   "metadata": {},
   "source": [
    "###### 실습\n",
    "\n",
    "* ./source/calcpkg 폴더 생성('__init__.py)'\n",
    "  1. operation.py  \n",
    "     - add, mul, \n",
    "  2. geometry.py\n",
    "     - triangle_area, rectangle_area \n",
    "     - 삼/사각형(width, height)\n",
    "  3. 패키지를 로딩해서 각 함수를 호출해서 출력(import, from)"
   ]
  },
  {
   "cell_type": "code",
   "execution_count": 10,
   "id": "4c8d4b24",
   "metadata": {},
   "outputs": [],
   "source": [
    "# 패키지사용하기\n",
    "import calcpkg.operation as op\n",
    "import calcpkg.geometry as go\n",
    "# import calcpkg.*"
   ]
  },
  {
   "cell_type": "code",
   "execution_count": 11,
   "id": "b530a409",
   "metadata": {},
   "outputs": [
    {
     "name": "stdout",
     "output_type": "stream",
     "text": [
      "Variable    Type        Data/Info\n",
      "---------------------------------\n",
      "echo        module      <module 'game.sound.echo'<...>e\\\\game\\\\sound\\\\echo.py'>\n",
      "echo_test   function    <function echo_test at 0x000002D5E252EAC0>\n",
      "game        module      <module 'game' from 'd:\\\\<...>urce\\\\game\\\\__init__.py'>\n",
      "go          module      <module 'calcpkg.geometry<...>e\\\\calcpkg\\\\geometry.py'>\n",
      "op          module      <module 'calcpkg.operatio<...>\\\\calcpkg\\\\operation.py'>\n",
      "sys         module      <module 'sys' (built-in)>\n"
     ]
    }
   ],
   "source": [
    "%whos"
   ]
  },
  {
   "cell_type": "code",
   "execution_count": 14,
   "id": "33a6f0be",
   "metadata": {},
   "outputs": [
    {
     "name": "stdout",
     "output_type": "stream",
     "text": [
      "20000\n",
      "143437271\n",
      "\n",
      "19533.0\n",
      "120712170\n"
     ]
    }
   ],
   "source": [
    "print(op.add(10000,10000))\n",
    "print(op.mul(3737,38383))\n",
    "print()\n",
    "\n",
    "print(go.triangle_area(102,383))\n",
    "print(go.rectangle_area(3030,39839))"
   ]
  }
 ],
 "metadata": {
  "kernelspec": {
   "display_name": "Python 3 (ipykernel)",
   "language": "python",
   "name": "python3"
  },
  "language_info": {
   "codemirror_mode": {
    "name": "ipython",
    "version": 3
   },
   "file_extension": ".py",
   "mimetype": "text/x-python",
   "name": "python",
   "nbconvert_exporter": "python",
   "pygments_lexer": "ipython3",
   "version": "3.11.5"
  }
 },
 "nbformat": 4,
 "nbformat_minor": 5
}
