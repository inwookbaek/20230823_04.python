{
 "cells": [
  {
   "cell_type": "markdown",
   "id": "e02f57d7",
   "metadata": {},
   "source": [
    "# 클래스 class\n",
    "\n",
    "##### 1. module vs class vs instance(객체, object)\n",
    "\n",
    "1. module은 확장자가 py인 파일(def, 변수, class(method)등이 포함된 파일)\n",
    "1. class : 새로운 객체(instance, object)를 만드는 설계도\n",
    "1. instance : class로 부터 생성된 객체를 instance라고 한다.\n",
    "\n",
    "##### 2. 클래스내부의 메서드(함수) 선언\n",
    "\n",
    "* 메서드는 일반함수(def 함수명(): pass)와 동일하게 정의하지만 다른 점은 반드시 첫 번째 인수로 `self`를 정의해야 한다.\n",
    "* 즉 `def 함수명(self)`의 형태로 정의해야 한다.\n",
    "* 이 self는 `객체 자기자신을 가리키는 것`으로 인스턴스(객체) 자기 자신을 가리킨다.\n",
    "* 정확하게는 `자신이 참조하고 있는 메모리주소`를 가리킨다.\n",
    "* 각가의 인스턴스는 self를 이용해서 자신에게 접근할 수 있다.\n",
    "\n",
    "###### 3. 클래스메서드(@classmethod)\n",
    "\n",
    "* 클래스메서드는 특정 객체에 소속되는 것이 아니라 `클래스로 생성된 모든 인스턴스에서 공통으로 사용`되는 메서드로서 `첫 번째 인수 cls로 전달되는 메서드`이다.\n",
    "* 즉, `def 메서드명(cls)`형태로 정의되는 메서드이다.\n",
    "* 클래스 메서드는 인스턴스(객체)에 소속된 멤버가 아니라 `클래스에 소속된 멤버`로서 `class namespace에 존재`하는 메서드이다.\n",
    "* 클래스메서드에 접근하기 위해서는 `클래스명.메서드()`형태로 접근한다.\n",
    "* 첫 번쨰 인수인 cls는 클래스의 인스턴스를 자동으로 전달받는 인자값이다.\n",
    "\n",
    "###### 4. 생성자(Constructor, __init__())함수\n",
    "\n",
    "* 파이썬에서는 `객체(인스턴스)가 생성될 때 자도으로 실행되는 메서드로서 생성자메서드`라고 한다.\n",
    "* 생성자메서드는 객체가 생성될 떄 자동으로 실행되는 메서드이다.\n",
    "* 파이썬에서는 다른 프로그램언어(Java, C등)와는 다르게 `오직 한 개의 생성자`만 정의할 수 있다.\n",
    "\n",
    "###### 5. 소멸자(__del__())함수\n",
    "\n",
    "* 파이썬에서는 메모리나 기타 자원들을 자동으로 관리한다.\n",
    "* 객체(인스턴스)가 소멸될 때 자동으로 실행되는 메서드이다.\n",
    "* 만약, 객체가 소멸될 때 수행할 로직이 있을 경우에는 소멸자 메서드에 코딩해 주면 된다.\n",
    "* 실행할 로직이 없을 경우에는 특별히 정의하지 않아도 된다.\n",
    "\n",
    "###### 6. 상속(Inheritance)\n",
    "\n",
    "* 파이썬은 `다중상속이 가능`하다.\n",
    "* 상속의 이점은 정보의 공유와 코드의 재사용이다.\n",
    "* 자식클래스는 상속을 해준 부모의 속성(필드, 기능)들을 사요할 수 있다.\n",
    "* 자식클래스에서 필요한 속성을 추가하거나 부모의 기능을 재정의(Override)해서 사용할 수 있다.\n",
    "\n",
    "###### 7. Override\n",
    "\n",
    "* 자식클래스(child, sub)에서 부모(Parent, Super)클래스에 정의된 메서드를 자식클래스에서 재정의하는 것을 오버라이드라고 한다.\n",
    "\n",
    "###### 8. 다형성( Plolymorphism)\n",
    "\n",
    "* 상속관계내의 다른 클래스들의 인스턴스들이 동일 멤버함수를 호출하는 것에 대해 다르게 실행되는 기능을 말한다.\n",
    "* 적은 코딩으로 다양한 형태의 인스턴스를 생성할 수 있다.\n",
    "* 코드의 가독성을 높인다."
   ]
  },
  {
   "cell_type": "code",
   "execution_count": 29,
   "id": "6218a8e3",
   "metadata": {},
   "outputs": [
    {
     "name": "stdout",
     "output_type": "stream",
     "text": [
      "클래스메서드 test2가 호출되었습니다!\n"
     ]
    }
   ],
   "source": [
    "# 1. 클래스를 정의하는 방법\n",
    "class Korean:\n",
    "    # 1) 속성(Properties)정의 : 변수(멤버(인스턴스, 객체)변수)\n",
    "    nation = '대한민국'\n",
    "    name = '홍길동'\n",
    "        \n",
    "    def __init__(self):  # 생성자\n",
    "        print(\"객체가 생성되었습니다!\")\n",
    "        \n",
    "    def test1(self):    # 메서드\n",
    "        print('클래스메서드 test1이 호출되었습니다!')\n",
    "         \n",
    "    def test2():        # 함수(class내부에서만 사용가능한 함수)\n",
    "        print('클래스메서드 test2가 호출되었습니다!')\n",
    "        \n",
    "    test2()"
   ]
  },
  {
   "cell_type": "code",
   "execution_count": 30,
   "id": "c396c501",
   "metadata": {},
   "outputs": [
    {
     "name": "stdout",
     "output_type": "stream",
     "text": [
      "객체가 생성되었습니다!\n",
      "<class '__main__.Korean'> 대한민국 홍길동\n",
      "클래스메서드 test1이 호출되었습니다!\n",
      "\n",
      "객체가 생성되었습니다!\n",
      "<class '__main__.Korean'> 대한민국 홍길동\n",
      "클래스메서드 test1이 호출되었습니다!\n",
      "\n",
      "객체가 생성되었습니다!\n",
      "<class '__main__.Korean'> 대한민국 홍길동\n",
      "클래스메서드 test1이 호출되었습니다!\n"
     ]
    }
   ],
   "source": [
    "hong = Korean()  # 클래스이름과 동일함 함수 즉, 생성자함수는 __init__()함수를 자동으로 호출한다.\n",
    "print(type(hong), hong.nation, hong.name)\n",
    "hong.test1()  # 인스턴스 메서드 test1을 호출\n",
    "# hong.test2()  # test2는 클래스내부의 함수로서 객체멤버가 아니다.\n",
    "print()\n",
    "\n",
    "kim = Korean()\n",
    "print(type(kim), kim.nation, kim.name)\n",
    "kim.test1()\n",
    "print()\n",
    "\n",
    "steve = Korean()\n",
    "print(type(steve), steve.nation, steve.name)\n",
    "S"
   ]
  },
  {
   "cell_type": "code",
   "execution_count": 34,
   "id": "6de6ae4c",
   "metadata": {},
   "outputs": [
    {
     "name": "stdout",
     "output_type": "stream",
     "text": [
      "['__class__', '__delattr__', '__dir__', '__doc__', '__eq__', '__format__', '__ge__', '__getattribute__', '__getstate__', '__gt__', '__hash__', '__init__', '__init_subclass__', '__le__', '__lt__', '__ne__', '__new__', '__reduce__', '__reduce_ex__', '__repr__', '__setattr__', '__sizeof__', '__str__', '__subclasshook__']\n",
      "\n",
      "['__class__', '__delattr__', '__dict__', '__dir__', '__doc__', '__eq__', '__format__', '__ge__', '__getattribute__', '__getstate__', '__gt__', '__hash__', '__init__', '__init_subclass__', '__le__', '__lt__', '__module__', '__ne__', '__new__', '__reduce__', '__reduce_ex__', '__repr__', '__setattr__', '__sizeof__', '__str__', '__subclasshook__', '__weakref__', 'name', 'nation', 'test1', 'test2']\n"
     ]
    }
   ],
   "source": [
    "print(dir(object)) # 파이썬에서 최상위 부모객체\n",
    "print()\n",
    "\n",
    "print(dir(Korean))"
   ]
  },
  {
   "cell_type": "code",
   "execution_count": 37,
   "id": "833a435b",
   "metadata": {},
   "outputs": [
    {
     "name": "stdout",
     "output_type": "stream",
     "text": [
      "객체가 생성되었습니다!\n",
      "객체가 생성되었습니다!\n",
      "kor1의 메모리주소 = 2875084256848\n",
      "kor2의 메모리주소 = 2875084074576\n",
      "<class '__main__.Korean'>\n"
     ]
    }
   ],
   "source": [
    "# 2. 객체를 만드는 방법\n",
    "# 문법 : 변수명 = 생성자함수 즉, 변수명 = 클래스명()\n",
    "# 변수는 객체변수 or 인스턴스변수라고 한다.\n",
    "\n",
    "# Korean() 생성자함수라고 하고 __init__()를 호출한다.\n",
    "kor1 = Korean()\n",
    "kor2 = Korean()\n",
    "\n",
    "# 참조변수이기 때문에 객체가 저장되어 있는 메모리주소를 참조한다.\n",
    "print(f'kor1의 메모리주소 = {id(kor1)}')\n",
    "print(f'kor2의 메모리주소 = {id(kor2)}')\n",
    "print(type(kor1))"
   ]
  },
  {
   "cell_type": "code",
   "execution_count": 39,
   "id": "65a62482",
   "metadata": {},
   "outputs": [
    {
     "name": "stdout",
     "output_type": "stream",
     "text": [
      "홍길동 홍길동\n",
      "클래스메서드 test1이 호출되었습니다!\n",
      "클래스메서드 test1이 호출되었습니다!\n",
      "None None\n"
     ]
    },
    {
     "ename": "TypeError",
     "evalue": "Korean.test2() takes 0 positional arguments but 1 was given",
     "output_type": "error",
     "traceback": [
      "\u001b[1;31m---------------------------------------------------------------------------\u001b[0m",
      "\u001b[1;31mTypeError\u001b[0m                                 Traceback (most recent call last)",
      "Cell \u001b[1;32mIn[39], line 5\u001b[0m\n\u001b[0;32m      3\u001b[0m \u001b[38;5;28mprint\u001b[39m(kor1\u001b[38;5;241m.\u001b[39mname, kor2\u001b[38;5;241m.\u001b[39mname)\n\u001b[0;32m      4\u001b[0m \u001b[38;5;28mprint\u001b[39m(kor1\u001b[38;5;241m.\u001b[39mtest1(), kor2\u001b[38;5;241m.\u001b[39mtest1())\n\u001b[1;32m----> 5\u001b[0m \u001b[38;5;28mprint\u001b[39m(kor1\u001b[38;5;241m.\u001b[39mtest2())\n",
      "\u001b[1;31mTypeError\u001b[0m: Korean.test2() takes 0 positional arguments but 1 was given"
     ]
    }
   ],
   "source": [
    "# 3. 객체의 속성(변수, 메서드)에 접근하는 방법\n",
    "# 객체변수.속성\n",
    "print(kor1.name, kor2.name)\n",
    "print(kor1.test1(), kor2.test1())\n",
    "print(kor1.test2())"
   ]
  },
  {
   "cell_type": "code",
   "execution_count": 43,
   "id": "12bcc43a",
   "metadata": {},
   "outputs": [
    {
     "name": "stdout",
     "output_type": "stream",
     "text": [
      "한국인 2875084597200 홍길동 대한민국\n",
      "미국놈 2875084514064 스티브 미국\n"
     ]
    }
   ],
   "source": [
    "# 다형성을 위한 생성자함수 정의하기\n",
    "class Person:\n",
    "    name = ''\n",
    "    nation = ''\n",
    "\n",
    "\n",
    "# 1) 다형성 - 외부에서 속성을 정의\n",
    "person1 = Person()\n",
    "person1.nation = '대한민국'\n",
    "person1.name = '홍길동'\n",
    "\n",
    "person2 = Person()\n",
    "person2.nation = '미국'\n",
    "person2.name = '스티브'\n",
    "\n",
    "print('한국인', id(person1), person1.name, person1.nation)\n",
    "print('미국놈', id(person2), person2.name, person2.nation)"
   ]
  },
  {
   "cell_type": "code",
   "execution_count": 47,
   "id": "168d659b",
   "metadata": {},
   "outputs": [
    {
     "name": "stdout",
     "output_type": "stream",
     "text": [
      "한국인 2875083221456 홍길동 대한민국\n",
      "미국인 2875083173072 Steve USA\n"
     ]
    }
   ],
   "source": [
    "# 2) 다형성 - 내부에서(생성자함수)\n",
    "class Person:\n",
    "    name = ''\n",
    "    nation = ''\n",
    "    \n",
    "    def __init__(self, name, nation):\n",
    "        self.name = name\n",
    "        self.nation = nation\n",
    "        \n",
    "person1 = Person('홍길동', '대한민국')\n",
    "print('한국인', id(person1), person1.name, person1.nation)\n",
    "\n",
    "person2 = Person('Steve', 'USA')\n",
    "print('미국인', id(person2), person2.name, person2.nation)"
   ]
  },
  {
   "cell_type": "markdown",
   "id": "c6fc26c7",
   "metadata": {},
   "source": [
    "### 2. 생성자로 정의한 클래스"
   ]
  },
  {
   "cell_type": "code",
   "execution_count": 48,
   "id": "149a032c",
   "metadata": {},
   "outputs": [],
   "source": [
    "%reset -f"
   ]
  },
  {
   "cell_type": "code",
   "execution_count": 51,
   "id": "91be461e",
   "metadata": {},
   "outputs": [
    {
     "name": "stdout",
     "output_type": "stream",
     "text": [
      "생성자함수가 호출되었습니다!\n",
      "메서드가 호출되었습니다!\n",
      "<class '__main__.Korean'>\n",
      "\n",
      "생성자함수가 호출되었습니다!\n",
      "<class 'NoneType'>\n"
     ]
    }
   ],
   "source": [
    "class Korean():\n",
    "    \n",
    "    def __init__(self):\n",
    "        print('생성자함수가 호출되었습니다!')\n",
    "        \n",
    "    def greeting(self):\n",
    "        print('메서드가 호출되었습니다!')\n",
    "        \n",
    "kor1 = Korean()\n",
    "kor1.greeting()\n",
    "print(type(kor1))\n",
    "print()\n",
    "\n",
    "kor2 = kor1.__init__(); \n",
    "# 생성자함수가 아니라 일반함수로 호출된 후 리턴값이 kor2에 저장, 리턴값이 없기 때문에 NontType\n",
    "# kor2.greeting()\n",
    "print(type(kor2))"
   ]
  },
  {
   "cell_type": "code",
   "execution_count": 58,
   "id": "faaa9b4e",
   "metadata": {},
   "outputs": [
    {
     "name": "stdout",
     "output_type": "stream",
     "text": [
      "안녕하세요?\n",
      "안녕하세요?\n"
     ]
    }
   ],
   "source": [
    "# 2. 클래스멤버변수\n",
    "class Korean2():\n",
    "    \n",
    "    # hello = '안녕하세요?'\n",
    "    \n",
    "    def __init__(self):\n",
    "        self.hello = \"Hi!! Python!!!\"\n",
    "        pass\n",
    "    \n",
    "    def greeting(self):\n",
    "        print(self.hello)\n",
    "        \n",
    "kor3 = Korean2()\n",
    "kor3.greeting()\n",
    "print(kor3.hello)"
   ]
  },
  {
   "cell_type": "code",
   "execution_count": 61,
   "id": "e2df6756",
   "metadata": {},
   "outputs": [],
   "source": [
    "# 3. 메서드오바라이드\n",
    "%reset -f\n",
    "class Person:\n",
    "    nation = '대한민국'\n",
    "    name = str()\n",
    "    age = int()\n",
    "    height = float()\n",
    "    weight = float()\n",
    "    \n",
    "    def display(self):\n",
    "        print(f'국적 = {self.nation}', end=\",\")\n",
    "        print(f'이름 = {self.name}', end=\",\")\n",
    "        print(f'나이 = {self.age}', end=\",\")\n",
    "        print(f'신장 = {self.height}', end=\",\")\n",
    "        print(f'체중 = {self.weight}')  "
   ]
  },
  {
   "cell_type": "code",
   "execution_count": 66,
   "id": "43d3c82b",
   "metadata": {},
   "outputs": [
    {
     "name": "stdout",
     "output_type": "stream",
     "text": [
      "국적 = 대한민국,이름 = 홍길동,나이 = 1000,신장 = 170.5,체중 = 70\n"
     ]
    },
    {
     "data": {
      "text/plain": [
       "'<__main__.Person object at 0x0000029D6782E510>'"
      ]
     },
     "execution_count": 66,
     "metadata": {},
     "output_type": "execute_result"
    }
   ],
   "source": [
    "kor1 = Person()\n",
    "kor1.name = '홍길동'\n",
    "kor1.age = 1000\n",
    "kor1.height = 170.5\n",
    "kor1.weight = 70\n",
    "\n",
    "kor1.display()\n",
    "kor1.__str__() \n",
    "# object에서 상속받은 메서드, __str__()메서드는 객체의 정보를 출력해 주는 메서드\n",
    "# object.__str__()은 객체가 저장되어 있는 메모리주소를 16진수로 리턴"
   ]
  },
  {
   "cell_type": "code",
   "execution_count": 63,
   "id": "986ad284",
   "metadata": {},
   "outputs": [
    {
     "name": "stdout",
     "output_type": "stream",
     "text": [
      "['__class__', '__delattr__', '__dict__', '__dir__', '__doc__', '__eq__', '__format__', '__ge__', '__getattribute__', '__getstate__', '__gt__', '__hash__', '__init__', '__init_subclass__', '__le__', '__lt__', '__module__', '__ne__', '__new__', '__reduce__', '__reduce_ex__', '__repr__', '__setattr__', '__sizeof__', '__str__', '__subclasshook__', '__weakref__', 'age', 'display', 'height', 'name', 'nation', 'weight']\n"
     ]
    }
   ],
   "source": [
    "print(dir(Person))"
   ]
  },
  {
   "cell_type": "code",
   "execution_count": 73,
   "id": "19408257",
   "metadata": {},
   "outputs": [],
   "source": [
    "%reset -f\n",
    "class Person:\n",
    "    nation = '대한민국'\n",
    "    name = str()\n",
    "    age = int()\n",
    "    height = float()\n",
    "    weight = float()\n",
    "    \n",
    "    def display(self):\n",
    "        print(f'국적 = {self.nation}', end=\",\")\n",
    "        print(f'이름 = {self.name}', end=\",\")\n",
    "        print(f'나이 = {self.age}', end=\",\")\n",
    "        print(f'신장 = {self.height}', end=\",\")\n",
    "        print(f'체중 = {self.weight}') \n",
    "        \n",
    "    # object.__str__()메서드를 자식에서 재정의(override)한 메서드\n",
    "    def __str__(self):\n",
    "        # print('__str__메서드가 호출되었습니다!')\n",
    "        # return 'return : __str__메서드가 호출되었습니다!'\n",
    "        return f'국적 = {self.nation}, 이름 = {self.name}, 나이 = {self.age}' \\\n",
    "               f'신장 = {self.height}, 체중 = {self.weight}'"
   ]
  },
  {
   "cell_type": "code",
   "execution_count": 76,
   "id": "c3a9fcd7",
   "metadata": {},
   "outputs": [
    {
     "name": "stdout",
     "output_type": "stream",
     "text": [
      "국적 = 대한민국,이름 = 홍길동,나이 = 1000,신장 = 170.5,체중 = 70\n",
      "국적 = 대한민국, 이름 = 홍길동, 나이 = 1000신장 = 170.5, 체중 = 70\n"
     ]
    }
   ],
   "source": [
    "kor1 = Person()\n",
    "kor1.name = '홍길동'\n",
    "kor1.age = 1000\n",
    "kor1.height = 170.5\n",
    "kor1.weight = 70\n",
    "\n",
    "kor1.display()\n",
    "kor1_str = kor1.__str__()\n",
    "print(kor1_str)"
   ]
  },
  {
   "cell_type": "markdown",
   "id": "4a10f50b",
   "metadata": {},
   "source": [
    "### 3. 생성자와 소멸자"
   ]
  },
  {
   "cell_type": "code",
   "execution_count": 98,
   "id": "8880a63e",
   "metadata": {},
   "outputs": [],
   "source": [
    "# 1. 생성자\n",
    "# 1) 기본생성자 및 중복생성자\n",
    "# 생성자의 중복은 허용하지 않지만 문법에러는 발생하지 않고 맨 마지막에 정의된 생성자가\n",
    "# 그 클래스의 생성자함수가 된다.\n",
    "%reset -f\n",
    "class Korean:\n",
    "    nation = '대한민국'\n",
    "          \n",
    "    def __init__(self):\n",
    "        print('기본생성자가 호출되었습니다')     \n",
    "        \n",
    "    def __init__(self, name, age, height, weight):\n",
    "        self.name = name\n",
    "        self.age = age\n",
    "        self.height = height\n",
    "        self.weight = weight   \n",
    "        \n",
    "    def __str__(self):\n",
    "        return f'국적 = {self.nation}, 이름 = {self.name}, 나이 = {self.age}' \\\n",
    "               f'신장 = {self.height}, 체중 = {self.weight}'        "
   ]
  },
  {
   "cell_type": "code",
   "execution_count": 100,
   "id": "afc0d662",
   "metadata": {},
   "outputs": [
    {
     "data": {
      "text/plain": [
       "'국적 = 대한민국, 이름 = 홍길동, 나이 = 1000신장 = 170.5, 체중 = 65.8'"
      ]
     },
     "execution_count": 100,
     "metadata": {},
     "output_type": "execute_result"
    }
   ],
   "source": [
    "kor1 = Korean('홍길동', 1000, 170.5, 65.8)\n",
    "# kor1 = Korean('홍길동')\n",
    "kor1.__str__()"
   ]
  },
  {
   "cell_type": "code",
   "execution_count": 112,
   "id": "2133903e",
   "metadata": {},
   "outputs": [],
   "source": [
    "# 2) 초기값을 가진 생성자\n",
    "%reset -f\n",
    "class Korean:   \n",
    "        \n",
    "    def __init__(self, nation='대한민국', name=None, age=1, height=None, weight=None):\n",
    "        self.nation = nation\n",
    "        self.name = name\n",
    "        self.age = age\n",
    "        self.height = height\n",
    "        self.weight = weight   \n",
    "        \n",
    "    def __str__(self):\n",
    "        return f'국적 = {self.nation}, 이름 = {self.name}, 나이 = {self.age}, ' \\\n",
    "               f'신장 = {self.height}, 체중 = {self.weight}' "
   ]
  },
  {
   "cell_type": "code",
   "execution_count": 113,
   "id": "761a8796",
   "metadata": {},
   "outputs": [
    {
     "name": "stdout",
     "output_type": "stream",
     "text": [
      "국적 = 홍길동, 이름 = None, 나이 = 1, 신장 = None, 체중 = None\n",
      "국적 = 홍길순, 이름 = 1000, 나이 = 1, 신장 = None, 체중 = None\n",
      "국적 = 영국, 이름 = 손흥민, 나이 = 900, 신장 = 170.5, 체중 = None\n"
     ]
    }
   ],
   "source": [
    "# 주의사항 : 초기값을 전달할 경우에는 매개변수순수와 동일하게 전달되어야 한다.\n",
    "kor1 = Korean('홍길동')\n",
    "print(kor1.__str__())\n",
    "\n",
    "kor2 = Korean('홍길순', 1000)\n",
    "print(kor2.__str__())\n",
    "\n",
    "kor3 = Korean('영국', '손흥민', 900, 170.5)\n",
    "print(kor3.__str__())"
   ]
  },
  {
   "cell_type": "code",
   "execution_count": 124,
   "id": "3efad3ed",
   "metadata": {},
   "outputs": [],
   "source": [
    "# 4) 소멸자\n",
    "%reset -f\n",
    "class Korean:   \n",
    "        \n",
    "    def __init__(self, nation='대한민국', name=None, age=1, height=None, weight=None):\n",
    "        self.nation = nation\n",
    "        self.name = name\n",
    "        self.age = age\n",
    "        self.height = height\n",
    "        self.weight = weight   \n",
    "        \n",
    "    def __str__(self):\n",
    "        return f'국적 = {self.nation}, 이름 = {self.name}, 나이 = {self.age}, ' \\\n",
    "               f'신장 = {self.height}, 체중 = {self.weight}' \n",
    "    \n",
    "    def __del__(self):\n",
    "        print('소멸자 메서드가 호출되었습니다!')"
   ]
  },
  {
   "cell_type": "code",
   "execution_count": 125,
   "id": "19591e1e",
   "metadata": {},
   "outputs": [
    {
     "name": "stdout",
     "output_type": "stream",
     "text": [
      "국적 = 조선, 이름 = 홍길동, 나이 = 1000, 신장 = 170.5, 체중 = 65.8\n"
     ]
    }
   ],
   "source": [
    "kor1 = Korean('조선', '홍길동', 1000, 170.5, 65.8)\n",
    "print(kor1) # __str__생략시 자동호출"
   ]
  },
  {
   "cell_type": "code",
   "execution_count": 126,
   "id": "7233740c",
   "metadata": {},
   "outputs": [
    {
     "name": "stdout",
     "output_type": "stream",
     "text": [
      "Variable   Type      Data/Info\n",
      "------------------------------\n",
      "Korean     type      <class '__main__.Korean'>\n",
      "kor1       Korean    국적 = 조선, 이름 = 홍길동, 나이 = 1<...>00, 신장 = 170.5, 체중 = 65.8\n"
     ]
    }
   ],
   "source": [
    "%whos"
   ]
  },
  {
   "cell_type": "code",
   "execution_count": 127,
   "id": "5d9421c1",
   "metadata": {},
   "outputs": [
    {
     "name": "stdout",
     "output_type": "stream",
     "text": [
      "소멸자 메서드가 호출되었습니다!\n",
      "Variable   Type    Data/Info\n",
      "----------------------------\n",
      "Korean     type    <class '__main__.Korean'>\n",
      "kor1       int     100\n"
     ]
    }
   ],
   "source": [
    "kor1 = 100\n",
    "%whos"
   ]
  },
  {
   "cell_type": "markdown",
   "id": "e85bdac1",
   "metadata": {},
   "source": [
    "### 4. static\n",
    "\n",
    "* 일반적으로 객체멤버(변수, 메서드...)에 접근하려면 객체(인스턴스)가 생성된 후에 접근할 수 있다.\n",
    "* 하지만, 객체가 생성되지 않았아도 클래스에 직접 접근해서 호출할 수 있도록 `static method`와 `class meehod`가 있다.\n",
    "* 파이썬에서는 기본적으로 모든 변수와 메서드에 접근할 수 있다.\n",
    "* 하지만, 캡슐화(은닉화)를 통해서 특정변수와 특정 메서드에 접근할 수 없도록 제한할 수가 있다.\n",
    "* Java나 C처럼 완벽한 캡슐화(은닉화)는 어렵다.\n",
    "\n",
    "#### 1) static method\n",
    "\n",
    "* 정적메서드는 메서드정의 바로 위에 `@staticmethod`라는 키워드(메타정보)를 선언한다.\n",
    "* 주의할점은 `정적메서드는 매개변수에 self를 정의하지 않는다`)\n",
    "```python\n",
    "class 클래스명:\n",
    "    @staticmethod\n",
    "    def 메서드명(매개변수1,...):\n",
    "        pass\n",
    "```\n",
    "* 정적메서드는 self를 선언하지 않기 때문에 객체(인스턴스)에서 접근할 수 없다.\n",
    "* 그래서 보통 정적메서드는 인스턴스속성과 인스턴스메서드가 필요없을 때 사용한다.\n",
    "\n",
    "#### 2) class method\n",
    "\n",
    "* 정적메서드와 비슷하지만 약간의 차이점이 있다.\n",
    "* 클래스 메서드는 메서드선언문 바로 위에 `@classmethod`라는 메타정보를 선언한다.\n",
    "* 이때 클래스메서드의 `첫 번째인자값으로 cls로 선언`한다.\n",
    "```python\n",
    "class 클래스명:\n",
    "    @classmethod\n",
    "    def 메서드명(cls, 매개변수1,...):\n",
    "        pass\n",
    "```\n",
    "\n",
    "#### 3) @데코레이터(@decorator)\n",
    "\n",
    "* 파이썬은 `데코레이터 decorator라는 기능을 제공`한다.\n",
    "* 데코레이터는 '장식하다, 꾸민다'라는 뜻과 같이 @staticmethod, @classmethod와 같이 `@로 시작`한다.\n",
    "* 즉, 메서드나 변수를 장식한다고해서 이런 이름이 붙여 졌다."
   ]
  },
  {
   "cell_type": "code",
   "execution_count": 25,
   "id": "6574cec1",
   "metadata": {},
   "outputs": [],
   "source": [
    "%reset -f\n",
    "class _class():\n",
    "    def xxx(self): print('객체(인스턴스)에 소속된 메서드 호출!!!')\n",
    "    \n",
    "    @staticmethod\n",
    "    def yyy(): print('정적메서드호출!!!')\n",
    "    \n",
    "    @classmethod\n",
    "    def zzz(cls): print('클래스에 소속된 메소드 호출!!!')\n",
    "        \n",
    "    # def __init__(self): pass"
   ]
  },
  {
   "cell_type": "code",
   "execution_count": 26,
   "id": "6076441e",
   "metadata": {},
   "outputs": [
    {
     "name": "stdout",
     "output_type": "stream",
     "text": [
      "정적메서드호출!!!\n",
      "클래스에 소속된 메소드 호출!!!\n"
     ]
    }
   ],
   "source": [
    "# 1. 객체생성없이 직접 클래스에 접근할 경우 \n",
    "# 클래스.xxx() # TypeError: 클래스.xxx() missing 1 required positional argument: 'self'\n",
    "_class.yyy()\n",
    "_class.zzz()"
   ]
  },
  {
   "cell_type": "code",
   "execution_count": 31,
   "id": "fe17dd4e",
   "metadata": {},
   "outputs": [
    {
     "name": "stdout",
     "output_type": "stream",
     "text": [
      "객체(인스턴스)에 소속된 메서드 호출!!!\n",
      "정적메서드호출!!!\n",
      "클래스에 소속된 메소드 호출!!!\n"
     ]
    }
   ],
   "source": [
    "# 2. 객체생성후 객체로 접근할 경우 \n",
    "# 객체에서 yyy(), zzz()를 접근할 수있다.\n",
    "# 이점이 java와 c처럼 완벽한 은닉화(캡슐화)를 구현할 수 없다.\n",
    "a = _class()\n",
    "a.xxx()\n",
    "a.yyy()\n",
    "a.zzz()"
   ]
  },
  {
   "cell_type": "code",
   "execution_count": 57,
   "id": "64bb9a65",
   "metadata": {},
   "outputs": [
    {
     "name": "stdout",
     "output_type": "stream",
     "text": [
      "['__class__', '__delattr__', '__dict__', '__dir__', '__doc__', '__eq__', '__format__', '__ge__', '__getattribute__', '__getstate__', '__gt__', '__hash__', '__init__', '__init_subclass__', '__le__', '__lt__', '__module__', '__ne__', '__new__', '__reduce__', '__reduce_ex__', '__repr__', '__setattr__', '__sizeof__', '__str__', '__subclasshook__', '__weakref__', 'add', 'mul']\n",
      "\n"
     ]
    }
   ],
   "source": [
    "# 3. static method / variable\n",
    "\n",
    "# 1) static method(클래스멤버)\n",
    "# static메서드는 매개변수에 self가 없는 경우에 static method라고 한다.\n",
    "# 일반(객체멤버)메서드와 구분하기 위해 명시적으로 @staticmethod라는 데코레이터를 선언한다.\n",
    "# static메서드를 호출할 경우에는 '클래스명.스태틱메서드()'형태로 호출한다.\n",
    "# 주의할 점\n",
    "# 동일이름이 있는 메서드가 있을 경우에는 매개변수와 상관없이 맨 마지막에 정의된 메서드로 대체가 된다.\n",
    "\n",
    "%reset -f\n",
    "class Calc:\n",
    "    \n",
    "    @staticmethod\n",
    "    def add(a, b):\n",
    "        return f'static 메서드 add() 호출 {a} + {b} = {a + b}'\n",
    "   \n",
    "    @staticmethod\n",
    "    def mul(a, b):\n",
    "        \"\"\"정적메서드\"\"\"\n",
    "        return f'static 메서드 mul() 호출 {a} * {b} = {a * b}'\n",
    "    \n",
    "    def mul(self, x, y):\n",
    "        \"\"\"일반(객체)메서드\"\"\"\n",
    "        return f'객체(일반) 메서드 mul() 호출 {x} * {y}= {x * y}'\n",
    "    \n",
    "    \n",
    "print(dir(Calc))\n",
    "print()\n",
    "\n",
    "# 동일이름을 갖는 static method와 object method\n",
    "Calc.mul?"
   ]
  },
  {
   "cell_type": "code",
   "execution_count": 58,
   "id": "98dc530c",
   "metadata": {
    "scrolled": true
   },
   "outputs": [
    {
     "name": "stdout",
     "output_type": "stream",
     "text": [
      "객체에서 호출된 메서드 : static 메서드 add() 호출 10 + 10 = 20\n",
      "객체에서 호출된 메서드 : 객체(일반) 메서드 mul() 호출 10 * 10= 100\n"
     ]
    }
   ],
   "source": [
    "# a. 객체로 접근\n",
    "calc = Calc()\n",
    "print(f\"객체에서 호출된 메서드 : {calc.add(10,10)}\")\n",
    "print(f\"객체에서 호출된 메서드 : {calc.mul(10,10)}\")"
   ]
  },
  {
   "cell_type": "code",
   "execution_count": 60,
   "id": "73469add",
   "metadata": {},
   "outputs": [
    {
     "name": "stdout",
     "output_type": "stream",
     "text": [
      "객체에서 호출된 메서드 : static 메서드 add() 호출 10 + 10 = 20\n"
     ]
    },
    {
     "ename": "TypeError",
     "evalue": "Calc.mul() missing 1 required positional argument: 'y'",
     "output_type": "error",
     "traceback": [
      "\u001b[1;31m---------------------------------------------------------------------------\u001b[0m",
      "\u001b[1;31mTypeError\u001b[0m                                 Traceback (most recent call last)",
      "Cell \u001b[1;32mIn[60], line 3\u001b[0m\n\u001b[0;32m      1\u001b[0m \u001b[38;5;66;03m# b. 클래스로 접근\u001b[39;00m\n\u001b[0;32m      2\u001b[0m \u001b[38;5;28mprint\u001b[39m(\u001b[38;5;124mf\u001b[39m\u001b[38;5;124m\"\u001b[39m\u001b[38;5;124m객체에서 호출된 메서드 : \u001b[39m\u001b[38;5;132;01m{\u001b[39;00mCalc\u001b[38;5;241m.\u001b[39madd(\u001b[38;5;241m10\u001b[39m,\u001b[38;5;241m10\u001b[39m)\u001b[38;5;132;01m}\u001b[39;00m\u001b[38;5;124m\"\u001b[39m)\n\u001b[1;32m----> 3\u001b[0m \u001b[38;5;28mprint\u001b[39m(\u001b[38;5;124mf\u001b[39m\u001b[38;5;124m\"\u001b[39m\u001b[38;5;124m객체에서 호출된 메서드 : \u001b[39m\u001b[38;5;132;01m{\u001b[39;00mCalc\u001b[38;5;241m.\u001b[39mmul(\u001b[38;5;241m10\u001b[39m,\u001b[38;5;241m10\u001b[39m)\u001b[38;5;132;01m}\u001b[39;00m\u001b[38;5;124m\"\u001b[39m)\n",
      "\u001b[1;31mTypeError\u001b[0m: Calc.mul() missing 1 required positional argument: 'y'"
     ]
    }
   ],
   "source": [
    "# b. 클래스로 접근\n",
    "print(f\"객체에서 호출된 메서드 : {Calc.add(10,10)}\")\n",
    "print(f\"객체에서 호출된 메서드 : {Calc.mul(10,10)}\") # 동일명 메서드가 있을 경우 맨 뒤에 정의된 메서드"
   ]
  },
  {
   "cell_type": "code",
   "execution_count": 87,
   "id": "e26bed50",
   "metadata": {},
   "outputs": [],
   "source": [
    "# 2) static variable(정적변수) - 클래스멤버\n",
    "\n",
    "%reset -f\n",
    "class Korean:\n",
    "    \n",
    "    # 클래스멤버, 클래스변수, 정확하게는 static변수\n",
    "    nation = \"대한민국\"\n",
    "    \n",
    "    def __init__(self, name=None, age=None, addr=None):\n",
    "        # 객체(인스턴스, 일반)변수 즉, 객체에 소속된 변수\n",
    "        self.name = name\n",
    "        self.age = age\n",
    "        self.addr = addr\n",
    "        print(\"생성자메서드 __init__() 호출!!!\")\n",
    "        \n",
    "    def display(self):\n",
    "        print(\"일반메서드 display() 호출!!!\")\n",
    "        \n",
    "    @staticmethod\n",
    "    def toString():\n",
    "        print('정적메서드 toString() 호출!!')\n",
    "        print(f'이 객체의 국적속성 값은 {Korean.nation}') \n",
    "#         print(f'이 객체의 국적속성 값은 {nation}')  # self.nation와 동일\n",
    "#         print(f'이 객체의 이름속성의 값은 {self.name}')\n",
    "#         print(f'이 객체의 나이속성의 값은 {self.age}')\n",
    "#         print(f'이 객체의 주소속성의 값은 {self.addr}')     "
   ]
  },
  {
   "cell_type": "code",
   "execution_count": 88,
   "id": "a44e4c7c",
   "metadata": {},
   "outputs": [
    {
     "name": "stdout",
     "output_type": "stream",
     "text": [
      "대한민국\n",
      "정적메서드 toString() 호출!!\n",
      "이 객체의 국적속성 값은 대한민국\n"
     ]
    }
   ],
   "source": [
    "print(Korean.nation) \n",
    "Korean.toString()\n",
    "# Korean.name # name은 객체멤버이기 때문에 클래스로 접근불가\n",
    "# Korean.display() # display()메서드는 객체멤버이기 때문에 클래스로 접근 불가"
   ]
  },
  {
   "cell_type": "code",
   "execution_count": 90,
   "id": "a1b4d2c1",
   "metadata": {},
   "outputs": [
    {
     "name": "stdout",
     "output_type": "stream",
     "text": [
      "생성자메서드 __init__() 호출!!!\n",
      "대한민국 김민재 23 독일\n",
      "정적메서드 toString() 호출!!\n",
      "이 객체의 국적속성 값은 대한민국\n",
      "일반메서드 display() 호출!!!\n",
      "<class '__main__.Korean'>\n"
     ]
    }
   ],
   "source": [
    "kim = Korean('김민재', 23, '독일')\n",
    "print(kim.nation, kim.name, kim.age, kim.addr)\n",
    "kim.toString()\n",
    "kim.display()\n",
    "print(type(kim))"
   ]
  },
  {
   "cell_type": "code",
   "execution_count": 124,
   "id": "ae3a4ccb",
   "metadata": {},
   "outputs": [],
   "source": [
    "# 4. class method, class variable\n",
    "%reset -f\n",
    "class Person:\n",
    "    \n",
    "    # count는 클래스멤버 즉, 공통사용변수\n",
    "    count = 0;\n",
    "    \n",
    "    def __init__(self):\n",
    "        Person.count += 1 # Person객체가 생성될 떄 마다 static변수인 count에 1씩증가\n",
    "        \n",
    "    @classmethod\n",
    "    def print_count(cls): # cls는 현재의 클래스가 전달된다.\n",
    "        print(f'{cls.count}개의 Person객체가 생성되었습니다!') # cls변수로 클래스속성(count)에 접근"
   ]
  },
  {
   "cell_type": "code",
   "execution_count": 148,
   "id": "65efaef8",
   "metadata": {},
   "outputs": [
    {
     "name": "stdout",
     "output_type": "stream",
     "text": [
      "3 3 3\n",
      "0 0 0\n",
      "0개의 Person객체가 생성되었습니다!\n"
     ]
    }
   ],
   "source": [
    "adam = Person()\n",
    "eve = Person()\n",
    "kain = Person()\n",
    "\n",
    "print(adam.count, eve.count, kain.count)\n",
    "\n",
    "Person.count = 0\n",
    "print(adam.count, eve.count, kain.count)\n",
    "\n",
    "Person.print_count()\n",
    "\n",
    "# 클래스메서드는 정적메서드처럼 인스턴스(객체)생성없이 호출할 수 있다는 점에서는 동일하지만\n",
    "# 클래스메서드는 메서드안에서 클래스의 속성(클래스멤버변수)과 클래스메서드에 접근할 떄 사용한다.\n",
    "# 특히, cls를 사용하면 메서드안에서 현재 클래스의 인스턴스(객체)를 만들 수 있다.\n",
    "# 즉, cls는 현재의 클래스이므로 Person과 동일하다."
   ]
  },
  {
   "cell_type": "code",
   "execution_count": 149,
   "id": "4c369470",
   "metadata": {},
   "outputs": [],
   "source": [
    "%reset -f\n",
    "# 생성자를 사용하지 않고 객체를 생성하는 방법\n",
    "class Human:\n",
    "    \n",
    "    @classmethod\n",
    "    def create(cls):\n",
    "        p = cls() # cls() 즉 Human()와 동일, cls메서드로 p라는 객체를 생성 즉, cls()은 생성자함수호출\n",
    "        return p"
   ]
  },
  {
   "cell_type": "code",
   "execution_count": 154,
   "id": "b94deb31",
   "metadata": {},
   "outputs": [
    {
     "name": "stdout",
     "output_type": "stream",
     "text": [
      "<class '__main__.Human'> <class '__main__.Human'> <class '__main__.Human'>\n",
      "\n",
      "['__class__', '__delattr__', '__dict__', '__dir__', '__doc__', '__eq__', '__format__', '__ge__', '__getattribute__', '__getstate__', '__gt__', '__hash__', '__init__', '__init_subclass__', '__le__', '__lt__', '__module__', '__ne__', '__new__', '__reduce__', '__reduce_ex__', '__repr__', '__setattr__', '__sizeof__', '__str__', '__subclasshook__', '__weakref__', 'create']\n"
     ]
    }
   ],
   "source": [
    "men = Human.create() # men = Human()와 동일\n",
    "women = Human.create()\n",
    "kim = Human()\n",
    "print(type(men), type(women), type(kim))\n",
    "print()\n",
    "\n",
    "print(dir(kim))"
   ]
  },
  {
   "cell_type": "markdown",
   "id": "ce75085a",
   "metadata": {},
   "source": [
    "### 5. 클래스의 상속\n",
    "\n",
    "* 파이썬에서 상속이란 특정 클래스를 만들 때 해당 클래스의 속성(변수)과 기능(메서드)을 상속할 수 있도록 하는 기능이다.\n",
    "* 부모클래스를 상속할 경우에는 부모의 생성자도 상속이 된다.\n",
    "* 파이썬에서는 Java와는 다르게 `다중상속이 가능`하다.\n",
    "###### 1) 문법\n",
    "```python\n",
    "class 클래스명(부모클래스,...):\n",
    "    pass\n",
    "```\n",
    "\n",
    "###### 2) object\n",
    "* 파이썬에 `최상위 부모클래스는 object클래스`이다. \n",
    "* 파이썬에서 생성되는 객체는 예외 없이 모두 object클래스를 부모클래스로 상속받는다.\n",
    "* 따라서, 별도의 정의 없어도 기본적으로 object클래스에서 상속을 받는다."
   ]
  },
  {
   "cell_type": "code",
   "execution_count": 162,
   "id": "1ada4eda",
   "metadata": {},
   "outputs": [],
   "source": [
    "%reset -f\n",
    "class Calculator:\n",
    "    pass"
   ]
  },
  {
   "cell_type": "code",
   "execution_count": 163,
   "id": "c265ef57",
   "metadata": {},
   "outputs": [
    {
     "name": "stdout",
     "output_type": "stream",
     "text": [
      "['__class__', '__delattr__', '__dir__', '__doc__', '__eq__', '__format__', '__ge__', '__getattribute__', '__getstate__', '__gt__', '__hash__', '__init__', '__init_subclass__', '__le__', '__lt__', '__ne__', '__new__', '__reduce__', '__reduce_ex__', '__repr__', '__setattr__', '__sizeof__', '__str__', '__subclasshook__']\n",
      "\n",
      "['__class__', '__delattr__', '__dict__', '__dir__', '__doc__', '__eq__', '__format__', '__ge__', '__getattribute__', '__getstate__', '__gt__', '__hash__', '__init__', '__init_subclass__', '__le__', '__lt__', '__module__', '__ne__', '__new__', '__reduce__', '__reduce_ex__', '__repr__', '__setattr__', '__sizeof__', '__str__', '__subclasshook__', '__weakref__']\n"
     ]
    }
   ],
   "source": [
    "print(dir(object))\n",
    "print()\n",
    "\n",
    "print(dir(Calculator))"
   ]
  },
  {
   "cell_type": "code",
   "execution_count": 165,
   "id": "2077e4f3",
   "metadata": {},
   "outputs": [],
   "source": [
    "%reset -f\n",
    "class Calculator:\n",
    "    \n",
    "    def __init__(self, first=None, second=None):\n",
    "        self.first = 0 if first is None else first\n",
    "        self.second = 0 if second is None else second\n",
    "    \n",
    "    def add(self):\n",
    "        result = self.first + self.second\n",
    "        return result\n",
    "    \n",
    "    def sub(self):\n",
    "        return self.first - self.second\n",
    "    \n",
    "    def mul(self):\n",
    "        return self.first * self.second\n",
    "\n",
    "    def div(self):   \n",
    "        return self.first / self.second "
   ]
  },
  {
   "cell_type": "code",
   "execution_count": 166,
   "id": "10034714",
   "metadata": {},
   "outputs": [
    {
     "name": "stdout",
     "output_type": "stream",
     "text": [
      "30\n",
      "-10\n",
      "200\n",
      "0.5\n"
     ]
    }
   ],
   "source": [
    "cal = Calculator(10, 20)\n",
    "print(cal.add())\n",
    "print(cal.sub())\n",
    "print(cal.mul())\n",
    "print(cal.div())"
   ]
  },
  {
   "cell_type": "code",
   "execution_count": 176,
   "id": "c940d516",
   "metadata": {},
   "outputs": [],
   "source": [
    "# 제곱근을 계산하는 계산기 추가\n",
    "# 1. 상속후 pow()메서드만 추가\n",
    "#    생성자는 부모생성자를 호출(super())\n",
    "class Calculator1(Calculator):\n",
    "    \n",
    "#     def __init__(self, first=None, second=None):\n",
    "#         super(first, second) # super는 부모의 생성자를 의미\n",
    "    \n",
    "    def pow(self):\n",
    "        return self.first ** self.second"
   ]
  },
  {
   "cell_type": "code",
   "execution_count": 177,
   "id": "95d417af",
   "metadata": {},
   "outputs": [
    {
     "name": "stdout",
     "output_type": "stream",
     "text": [
      "30\n",
      "-10\n",
      "200\n",
      "0.5\n",
      "100000000000000000000\n"
     ]
    }
   ],
   "source": [
    "cal1 = Calculator1(10, 20)\n",
    "\n",
    "# 부모메서드호출\n",
    "print(cal1.add())\n",
    "print(cal1.sub())\n",
    "print(cal1.mul())\n",
    "print(cal1.div())\n",
    "\n",
    "# 자식메서드호출\n",
    "print(cal1.pow())"
   ]
  },
  {
   "cell_type": "code",
   "execution_count": 178,
   "id": "815125f7",
   "metadata": {},
   "outputs": [
    {
     "name": "stdout",
     "output_type": "stream",
     "text": [
      "['__class__', '__delattr__', '__dict__', '__dir__', '__doc__', '__eq__', '__format__', '__ge__', '__getattribute__', '__getstate__', '__gt__', '__hash__', '__init__', '__init_subclass__', '__le__', '__lt__', '__module__', '__ne__', '__new__', '__reduce__', '__reduce_ex__', '__repr__', '__setattr__', '__sizeof__', '__str__', '__subclasshook__', '__weakref__', 'add', 'div', 'first', 'mul', 'second', 'sub']\n",
      "\n",
      "['__class__', '__delattr__', '__dict__', '__dir__', '__doc__', '__eq__', '__format__', '__ge__', '__getattribute__', '__getstate__', '__gt__', '__hash__', '__init__', '__init_subclass__', '__le__', '__lt__', '__module__', '__ne__', '__new__', '__reduce__', '__reduce_ex__', '__repr__', '__setattr__', '__sizeof__', '__str__', '__subclasshook__', '__weakref__', 'add', 'div', 'first', 'mul', 'pow', 'second', 'sub']\n"
     ]
    }
   ],
   "source": [
    "print(dir(cal))\n",
    "print()\n",
    "\n",
    "print(dir(cal1))"
   ]
  },
  {
   "cell_type": "code",
   "execution_count": 181,
   "id": "2dd1fff8",
   "metadata": {},
   "outputs": [
    {
     "name": "stdout",
     "output_type": "stream",
     "text": [
      "3\n",
      "3\n",
      "0\n"
     ]
    },
    {
     "ename": "ZeroDivisionError",
     "evalue": "division by zero",
     "output_type": "error",
     "traceback": [
      "\u001b[1;31m---------------------------------------------------------------------------\u001b[0m",
      "\u001b[1;31mZeroDivisionError\u001b[0m                         Traceback (most recent call last)",
      "Cell \u001b[1;32mIn[181], line 8\u001b[0m\n\u001b[0;32m      6\u001b[0m \u001b[38;5;28mprint\u001b[39m(cal2\u001b[38;5;241m.\u001b[39msub())\n\u001b[0;32m      7\u001b[0m \u001b[38;5;28mprint\u001b[39m(cal2\u001b[38;5;241m.\u001b[39mmul())\n\u001b[1;32m----> 8\u001b[0m \u001b[38;5;28mprint\u001b[39m(cal2\u001b[38;5;241m.\u001b[39mdiv()) \u001b[38;5;66;03m# ZeroDivisionError \u001b[39;00m\n\u001b[0;32m      9\u001b[0m \u001b[38;5;28mprint\u001b[39m(cal2\u001b[38;5;241m.\u001b[39mpow())\n",
      "Cell \u001b[1;32mIn[165], line 19\u001b[0m, in \u001b[0;36mCalculator.div\u001b[1;34m(self)\u001b[0m\n\u001b[0;32m     18\u001b[0m \u001b[38;5;28;01mdef\u001b[39;00m \u001b[38;5;21mdiv\u001b[39m(\u001b[38;5;28mself\u001b[39m):   \n\u001b[1;32m---> 19\u001b[0m     \u001b[38;5;28;01mreturn\u001b[39;00m \u001b[38;5;28mself\u001b[39m\u001b[38;5;241m.\u001b[39mfirst \u001b[38;5;241m/\u001b[39m \u001b[38;5;28mself\u001b[39m\u001b[38;5;241m.\u001b[39msecond\n",
      "\u001b[1;31mZeroDivisionError\u001b[0m: division by zero"
     ]
    }
   ],
   "source": [
    "# 2. 상속 : 부모에서 상속받은 메서드를 재정의(메서드 오버라이딩)\n",
    "# 오버라이딩? 부모의 메서드를 재정의하는 것을 말한다.\n",
    "\n",
    "cal2 = Calculator1(3, 0)\n",
    "print(cal2.add())\n",
    "print(cal2.sub())\n",
    "print(cal2.mul())\n",
    "print(cal2.div()) # ZeroDivisionError \n",
    "print(cal2.pow())"
   ]
  },
  {
   "cell_type": "code",
   "execution_count": 182,
   "id": "44fff467",
   "metadata": {},
   "outputs": [],
   "source": [
    "# 0으로 나누는 문제를 수정 즉, 오버라이딩\n",
    "class Calculator2(Calculator1):\n",
    "    \n",
    "    # 부모메서드를 재정의 : 분모가 0일 경우를 방지하는 로직을 추가\n",
    "    def div(self):\n",
    "        if self.second == 0:\n",
    "            print('분모값은 0일 수가 없습니다!')\n",
    "            return 0\n",
    "        else:\n",
    "            return self.first / self.second\n",
    "        "
   ]
  },
  {
   "cell_type": "code",
   "execution_count": 183,
   "id": "8b05b81f",
   "metadata": {},
   "outputs": [
    {
     "name": "stdout",
     "output_type": "stream",
     "text": [
      "3\n",
      "3\n",
      "0\n",
      "분모값은 0일 수가 없습니다!\n",
      "0\n",
      "1\n"
     ]
    }
   ],
   "source": [
    "cal2 = Calculator2(3, 0)\n",
    "print(cal2.add())\n",
    "print(cal2.sub())\n",
    "print(cal2.mul())\n",
    "print(cal2.div()) \n",
    "print(cal2.pow())\n"
   ]
  },
  {
   "cell_type": "markdown",
   "id": "48ef2e74",
   "metadata": {},
   "source": [
    "###### 3) 다중상속"
   ]
  },
  {
   "cell_type": "code",
   "execution_count": 184,
   "id": "b6d908fc",
   "metadata": {},
   "outputs": [
    {
     "ename": "TypeError",
     "evalue": "Cannot create a consistent method resolution\norder (MRO) for bases Calculator1, Calculator2",
     "output_type": "error",
     "traceback": [
      "\u001b[1;31m---------------------------------------------------------------------------\u001b[0m",
      "\u001b[1;31mTypeError\u001b[0m                                 Traceback (most recent call last)",
      "Cell \u001b[1;32mIn[184], line 1\u001b[0m\n\u001b[1;32m----> 1\u001b[0m \u001b[38;5;28;01mclass\u001b[39;00m \u001b[38;5;21;01mCalculator3\u001b[39;00m(Calculator1, Calculator2):\n\u001b[0;32m      2\u001b[0m     \u001b[38;5;28;01mpass\u001b[39;00m\n",
      "\u001b[1;31mTypeError\u001b[0m: Cannot create a consistent method resolution\norder (MRO) for bases Calculator1, Calculator2"
     ]
    }
   ],
   "source": [
    "# 다중상속에 문제(MRO, method resolution order)\n",
    "class Calculator3(Calculator1, Calculator2):\n",
    "    pass"
   ]
  },
  {
   "cell_type": "code",
   "execution_count": 186,
   "id": "9db9ab48",
   "metadata": {},
   "outputs": [
    {
     "name": "stdout",
     "output_type": "stream",
     "text": [
      "안녕하세요? 반갑습니다\n",
      "학생은 공부를 합니다!\n"
     ]
    }
   ],
   "source": [
    "# 1. 상속관계\n",
    "class Person:\n",
    "    def greeting(self):\n",
    "        print('안녕하세요? 반갑습니다')\n",
    "        \n",
    "class Student(Person):\n",
    "    def study(self):\n",
    "        print('학생은 공부를 합니다!')\n",
    "\n",
    "student = Student()\n",
    "student.greeting()\n",
    "student.study()\n",
    "\n",
    "# 학생(Student)은 사람(Person)이기 때문에 같은 종류이다(즉, 같은 Person 객체데이터타입)\n",
    "# 이와 같이 상속은 명확하게 같은 데이터타입이며 동등한 관계일 때 사용한다.\n",
    "# 즉, \"학생은 사람이다\"라고 했을 경우에 동등한 객체이다.\n",
    "# 그래서 상속관계를 영어로 \"is-a관계\"라고 한다.(Student is a Person)"
   ]
  },
  {
   "cell_type": "code",
   "execution_count": 187,
   "id": "d09830df",
   "metadata": {},
   "outputs": [],
   "source": [
    "# 2. 포함관계\n",
    "# 하지만, 학생클래스가 아니라 사람목록을 관리하는 클래스를 만들 경우에는\n",
    "# 별도의 변수, 예를 들어 list자료형에 Person객체(클래스)를 관리하는 경우\n",
    "# 포함관계라고 한다.\n",
    "class Person:\n",
    "    def greeting(self):\n",
    "        print('안녕하세요? 반갑습니다')\n",
    "        \n",
    "class PersonList:\n",
    "    \n",
    "    def __ini__(self):\n",
    "        self.person_list = [] # list자료형 즉, person_list에 Person객체를 저장관리\n",
    "    \n",
    "    def append_person(self, person):\n",
    "        self.person_list.append(person) # peson_list에 person객체를 저장\n",
    "        \n",
    "# 포함관계는 상속을 사용하지 않고 속성에 객체(인스턴스)를 저장해서 관리하기 때문에\n",
    "# PersonList가 Person객체를 포함하고 있기 때문에 PersonList와 Person은 동등관계가 \n",
    "# 아니라 포함관계이다. \"PersonList가 Person을 가지고 있다\"라고 말할 수 있기 때문에\n",
    "# 이런 관계를 \"has-a관계\"라고 한다(PersonList has a Person)\n",
    "\n",
    "# 결론은 같은 종류에 동등한 관계일 때는 상속을 사용하고 그 외에는 객체를 저장하는\n",
    "# 형태 즉, 포함방식으로 사용하면 된다."
   ]
  },
  {
   "cell_type": "markdown",
   "id": "b251c286",
   "metadata": {},
   "source": [
    "###### 5) 부모클래스의 속성 사용하기"
   ]
  },
  {
   "cell_type": "code",
   "execution_count": 196,
   "id": "668825d3",
   "metadata": {},
   "outputs": [
    {
     "name": "stdout",
     "output_type": "stream",
     "text": [
      "Person 생성자 호출!!\n",
      "안녕하세요!!\n",
      "\n",
      "Student 생성자 호출!!\n",
      "홍길동\n"
     ]
    },
    {
     "ename": "AttributeError",
     "evalue": "'Student' object has no attribute 'hello'",
     "output_type": "error",
     "traceback": [
      "\u001b[1;31m---------------------------------------------------------------------------\u001b[0m",
      "\u001b[1;31mAttributeError\u001b[0m                            Traceback (most recent call last)",
      "Cell \u001b[1;32mIn[196], line 22\u001b[0m\n\u001b[0;32m     20\u001b[0m student \u001b[38;5;241m=\u001b[39m Student()\n\u001b[0;32m     21\u001b[0m \u001b[38;5;28mprint\u001b[39m(student\u001b[38;5;241m.\u001b[39mname)\n\u001b[1;32m---> 22\u001b[0m \u001b[38;5;28mprint\u001b[39m(student\u001b[38;5;241m.\u001b[39mhello)\n",
      "\u001b[1;31mAttributeError\u001b[0m: 'Student' object has no attribute 'hello'"
     ]
    }
   ],
   "source": [
    "# 1. 부모클래스의 인스턴스속성사용\n",
    "%reset -f\n",
    "class Person:\n",
    "#     hello = \"Hello Python!!\"  # 주석처리를 토글하면서 실습하기\n",
    "    \n",
    "    def __init__(self):\n",
    "        print(\"Person 생성자 호출!!\")\n",
    "        self.hello = \"안녕하세요!!\"\n",
    "\n",
    "class Student(Person):\n",
    "\n",
    "    def __init__(self):\n",
    "        print(\"Student 생성자 호출!!\")\n",
    "        self.name = \"홍길동\"\n",
    "\n",
    "person = Person()\n",
    "print(person.hello)\n",
    "print() \n",
    "\n",
    "student = Student()\n",
    "print(student.name)\n",
    "print(student.hello) # hello를 주석처리 즉, 부모속성에 hello속성이 없기 때문에 상속되지 않는다.\n",
    "\n",
    "# hello에 주석처리를 했을 경우 에러가 발생하는 이유는 hello는 객체변수이기 때문에\n",
    "# 즉. Person클래스로 생성된 객체의 변수이기 때문이다. \n",
    "# Stundent의 객체가 생성될 때 Persion.__init__가 호출되는 것이 아니라 Student.__init__가 호출\n",
    "# 되기 때문이다."
   ]
  },
  {
   "cell_type": "code",
   "execution_count": 199,
   "id": "497db8c1",
   "metadata": {},
   "outputs": [
    {
     "name": "stdout",
     "output_type": "stream",
     "text": [
      "Person 생성자 호출!!\n",
      "Student 생성자 호출!!\n",
      "홍길동\n",
      "안녕하세요!!\n"
     ]
    }
   ],
   "source": [
    "# 2. super()메서드로 부모클래스 초기화 하기\n",
    "# 상기예제에서 hello변수를 사용하기 위해서는 부모생성자를 호출해야만\n",
    "# 객체멤버변수인 hello에 접근할 수 있다.\n",
    "%reset -f\n",
    "class Person:\n",
    "\n",
    "    def __init__(self):\n",
    "        print(\"Person 생성자 호출!!\")\n",
    "        self.hello = \"안녕하세요!!\"\n",
    "\n",
    "class Student(Person):\n",
    "\n",
    "    def __init__(self):\n",
    "        super().__init__()  # super메서드로 부모생성자를 호출\n",
    "        print(\"Student 생성자 호출!!\")\n",
    "        self.name = \"홍길동\"\n",
    "        \n",
    "        \n",
    "student = Student()\n",
    "print(student.name)\n",
    "print(student.hello) \n",
    "\n",
    "# 결론 : 부모클래스의 객체멤버변수를 초기화 방법\n",
    "# 부모객체의 속성에 접근하기 위해서는 즉, 부모객체멤버변수에 자식객체에서 접근하려면\n",
    "# 부모생성자를 \"super()__init__()메서드를 자식생성자에서 호출\"해야만 부모의 객체멤버변수에\n",
    "# 접근할 수 있다."
   ]
  },
  {
   "cell_type": "markdown",
   "id": "4d96cfa5",
   "metadata": {},
   "source": [
    "###### 부모클래스의 속성을 찾는 과정\n",
    "><img src=\"./images/16.클래스_class_07.png\" width=\"500\" height=\"400\" />"
   ]
  },
  {
   "cell_type": "code",
   "execution_count": 202,
   "id": "5b4e5cad",
   "metadata": {},
   "outputs": [
    {
     "name": "stdout",
     "output_type": "stream",
     "text": [
      "Person 생성자 호출!!\n",
      "홍길동\n",
      "안녕하세요!!\n"
     ]
    }
   ],
   "source": [
    "# 3. 부모클래스를 초기화 하지 않아도 되는 경우\n",
    "# 만약에 자식클래스에서 생성자메서드를 명시적으로 정의하지 않았다면\n",
    "# 즉, 생략이 되었다면 자동으로 부모클래스의 생성자가 호출되기 때문에\n",
    "# super()메서드를 사용하지 않아도 된다.\n",
    "\n",
    "%reset -f\n",
    "class Person:\n",
    "\n",
    "    def __init__(self):\n",
    "        print(\"Person 생성자 호출!!\")\n",
    "        self.hello = \"안녕하세요!!\"\n",
    "\n",
    "class Student(Person):\n",
    "    name = '홍길동'\n",
    "    pass\n",
    "#     def __init__(self):\n",
    "#         super()\n",
    "\n",
    "student = Student()\n",
    "print(student.name)\n",
    "print(student.hello)"
   ]
  },
  {
   "cell_type": "code",
   "execution_count": 203,
   "id": "98e902f2",
   "metadata": {},
   "outputs": [
    {
     "name": "stdout",
     "output_type": "stream",
     "text": [
      "Person 생성자 호출!!\n",
      "Student 생성자 호출!!\n",
      "홍길동\n",
      "안녕하세요!!\n"
     ]
    }
   ],
   "source": [
    "# 4. 명확하게 super()메서드 사용하기\n",
    "# super(자식클래스, self)와 같이 super는 자식클래스와 self를 전달해서\n",
    "# 현재 클래스가 어떤 클래스인지를 명확하게 표시하는 방법이 있다.\n",
    "\n",
    "%reset -f\n",
    "class Person:\n",
    "\n",
    "    def __init__(self):\n",
    "        print(\"Person 생성자 호출!!\")\n",
    "        self.hello = \"안녕하세요!!\"\n",
    "\n",
    "class Student(Person):\n",
    "    def __init__(self):\n",
    "        super(Student, self).__init__()  # 부모생성자호출\n",
    "        print(\"Student 생성자 호출!!\")\n",
    "        self.name = '홍길동'\n",
    "        \n",
    "student = Student()\n",
    "print(student.name)\n",
    "print(student.hello)"
   ]
  },
  {
   "cell_type": "markdown",
   "id": "2c703bd3",
   "metadata": {},
   "source": [
    "###### 6) 다중상속\n",
    "\n",
    "><img src=\"./images/16.클래스_class_08.png\" width=\"500\" height=\"400\" />\n",
    "><img src=\"./images/16.클래스_class_09.png\" width=\"500\" height=\"400\" />"
   ]
  },
  {
   "cell_type": "code",
   "execution_count": 206,
   "id": "31343760",
   "metadata": {},
   "outputs": [
    {
     "name": "stdout",
     "output_type": "stream",
     "text": [
      "전화통화기능\n",
      "촬영기능\n",
      "영상통화기능\n"
     ]
    }
   ],
   "source": [
    "# 1. 다중상속 : 통화 > 카메라 > 동영상\n",
    "class Phone:\n",
    "    def call(self):\n",
    "        print(\"전화통화기능\")\n",
    "\n",
    "class Camera:\n",
    "    def photo(self):\n",
    "        print(\"촬영기능\")\n",
    "\n",
    "class SmartPhone(Phone, Camera):\n",
    "    def photo_call(self):\n",
    "        print(\"영상통화기능\")\n",
    "\n",
    "phone = SmartPhone()\n",
    "phone.call()\n",
    "phone.photo()\n",
    "phone.photo_call()"
   ]
  },
  {
   "cell_type": "code",
   "execution_count": 218,
   "id": "4ec980cf",
   "metadata": {},
   "outputs": [
    {
     "name": "stdout",
     "output_type": "stream",
     "text": [
      "안녕하세요? 저는 B입니다\n"
     ]
    }
   ],
   "source": [
    "# 2. 다이몬드상속\n",
    "class A:\n",
    "    def greeting(self):\n",
    "        print('안녕하세요? 저는 A입니다')\n",
    "        \n",
    "class B(A):\n",
    "    def greeting(self):\n",
    "        print('안녕하세요? 저는 B입니다')    \n",
    "    \n",
    "class C(A):\n",
    "    def greeting(self):\n",
    "        print('안녕하세요? 저는 C입니다')\n",
    "        \n",
    "class D(B, C): \n",
    "    pass\n",
    "\n",
    "sample = D()\n",
    "sample.greeting()\n",
    "\n",
    "# 상기와 같이 클래스간에 다이아몬드처럼 생겨서 객체지향프로그램언어에서는 이런 상속관계를\n",
    "# 다이아몬드상속이라고 한다. D에서는 B와 C를 다중상속, B,C에서는 A를 상속 받을 때 D에서는\n",
    "# A, B, C 어느 부모에서 상속받을 지 애매모호하기 때문에 명확하지 않게 된다.\n",
    "# 프로그램에서 상황에 따라 상속받는 것이 모호하다면 사람의 생명을 다루는 프로그램에서는\n",
    "# 심각한 문제가 초래가 된다.\n",
    "# 이러한 문제를 해결하기 위해서는 파이썬에서는 \"메서드탐색순서 MRO\"를 정의하고 있다."
   ]
  },
  {
   "cell_type": "code",
   "execution_count": 224,
   "id": "ff58c19b",
   "metadata": {},
   "outputs": [
    {
     "name": "stdout",
     "output_type": "stream",
     "text": [
      "['__class__', '__delattr__', '__dict__', '__dir__', '__doc__', '__eq__', '__format__', '__ge__', '__getattribute__', '__getstate__', '__gt__', '__hash__', '__init__', '__init_subclass__', '__le__', '__lt__', '__module__', '__ne__', '__new__', '__reduce__', '__reduce_ex__', '__repr__', '__setattr__', '__sizeof__', '__str__', '__subclasshook__', '__weakref__', 'greeting']\n",
      "\n",
      "[<class '__main__.D'>, <class '__main__.B'>, <class '__main__.C'>, <class '__main__.A'>, <class 'object'>]\n",
      "[<class 'int'>, <class 'object'>]\n",
      "[<class 'str'>, <class 'object'>]\n",
      "[<class 'list'>, <class 'object'>]\n"
     ]
    }
   ],
   "source": [
    "# 3. 다이아몬드상속의 문제해결\n",
    "# 파이썬에서는 다이어몬드 상속에 대한 해결책을 제사하고 있는데 파이썬에서는\n",
    "# \"메서드탐색순서 Method Resolution Order, MRO\"를 준수한다.\n",
    "# MRO를 확인 위해서는 \"클래스명.mro()\"함수를 이용하면 MRO를 확인할 수 있다.\n",
    "print(dir(D))\n",
    "print()\n",
    "\n",
    "print(D.mro())\n",
    "print(int.mro())\n",
    "print(str.mro())\n",
    "print(list.mro())"
   ]
  },
  {
   "cell_type": "markdown",
   "id": "8e41d9de",
   "metadata": {},
   "source": [
    "### 7) 추상클래스\n",
    "\n",
    "* 파이썬에서는 Java와 같이 `추상클래스(abstract class)를 제공`한다.\n",
    "* 추상클래스는 메서드의 목록만 가진 즉, 실행문이 없는 메서드만 가진 클래스이다.\n",
    "* 추상클래스의 주된 목적 상속받는 클래스에서 메서드의 구현을 강제화하기 위해 사용한다.\n",
    "* 추상클래스를 만들기 위해서는 `import abc`처럼 abc(Abstract Base Class)모둘을 불러와야 한다.\n",
    "* 그리고, 클래스의 소괄호안에 `metaclass=ABCMeta를 지정`하고 메서드 선언 위에 `@abstractmethod`를 선언해서 추상메서드로 선언한다.\n",
    "\n",
    "```python\n",
    "from abc import *\n",
    "class 추상클래스명(metaclass=ABCMeta)\n",
    "\n",
    "    @abstractmethdo\n",
    "    def 추상메서드명(self)\n",
    "```"
   ]
  },
  {
   "cell_type": "code",
   "execution_count": 240,
   "id": "d1cc6331",
   "metadata": {},
   "outputs": [],
   "source": [
    "# 1. 추상클래스만들기\n",
    "from abc import *\n",
    "\n",
    "class StudentAbstract(metaclass=ABCMeta):\n",
    "    \n",
    "    @abstractmethod # 추상메서드로 선언하면 상속받는 클래스에서는 반드시 구현해야 한다.\n",
    "    def study(self): pass\n",
    "\n",
    "class Student(StudentAbstract):\n",
    "    \n",
    "    def study(self):\n",
    "        print(\"학생은 공부를 합니다!!\")\n",
    "        \n",
    "    def goto_school(self):\n",
    "        print(\"학교를 갑니다!!\")"
   ]
  },
  {
   "cell_type": "code",
   "execution_count": 241,
   "id": "0598b612",
   "metadata": {},
   "outputs": [
    {
     "name": "stdout",
     "output_type": "stream",
     "text": [
      "학생은 공부를 합니다!!\n",
      "학교를 갑니다!!\n"
     ]
    }
   ],
   "source": [
    "student = Student()\n",
    "student.study() # TypeError: Can't instantiate abstract class Student with abstract method study\n",
    "student.goto_school()"
   ]
  },
  {
   "cell_type": "code",
   "execution_count": 244,
   "id": "bf7d306e",
   "metadata": {},
   "outputs": [
    {
     "ename": "TypeError",
     "evalue": "Can't instantiate abstract class StudentAbstract with abstract method study",
     "output_type": "error",
     "traceback": [
      "\u001b[1;31m---------------------------------------------------------------------------\u001b[0m",
      "\u001b[1;31mTypeError\u001b[0m                                 Traceback (most recent call last)",
      "Cell \u001b[1;32mIn[244], line 1\u001b[0m\n\u001b[1;32m----> 1\u001b[0m xxx \u001b[38;5;241m=\u001b[39m StudentAbstract()\n",
      "\u001b[1;31mTypeError\u001b[0m: Can't instantiate abstract class StudentAbstract with abstract method study"
     ]
    }
   ],
   "source": [
    "xxx = StudentAbstract() \n",
    "# TypeError: Can't instantiate abstract class StudentAbstract with abstract method study\n",
    "\n",
    "# 추상클래스에 메서드선언만 하는 이유는\n",
    "# 추상클래스는 객체를 생성할 수 없다. 즉, 상속만 되는 부모클래스의 역할만 가능하다.\n",
    "# 따라서, 추상클래스는 인스턴스를 생성할 떄 사용하지 않고 오직 상속에만 사용된다.\n",
    "# 구현클래스 즉, 자식클래스는 부모클래스에서 정된 추상메서드를 반드시 구현해야 한다.\n",
    "# 구현되지 않은 메서드가 존재한다면 에러가 발생한다."
   ]
  },
  {
   "cell_type": "markdown",
   "id": "381392bd",
   "metadata": {},
   "source": [
    "### 8) 클래스변수\n",
    "\n",
    "* 파이썬에서 클래스변수는 `클래스에 의해 생성된 모든 인스턴스(객체)에서 공유`된다는 특징이 있다."
   ]
  },
  {
   "cell_type": "code",
   "execution_count": 260,
   "id": "400cacc9",
   "metadata": {},
   "outputs": [
    {
     "name": "stdout",
     "output_type": "stream",
     "text": [
      "홍\n",
      "홍\n"
     ]
    }
   ],
   "source": [
    "class Family:\n",
    "    last_name = '홍'\n",
    "    first_name = str()\n",
    "    \n",
    "hong1 = Family()\n",
    "hong2 = Family()\n",
    "\n",
    "print(hong1.last_name)\n",
    "print(hong2.last_name)"
   ]
  },
  {
   "cell_type": "code",
   "execution_count": 261,
   "id": "baf54edd",
   "metadata": {},
   "outputs": [
    {
     "name": "stdout",
     "output_type": "stream",
     "text": [
      "2308433784992\n",
      "2308433784992\n",
      "2308433784992\n",
      "\n",
      "2308433784992\n",
      "2308433784992\n",
      "2308433784992\n"
     ]
    }
   ],
   "source": [
    "# 동일변수여부 확인하기\n",
    "print(id(Family.last_name))\n",
    "print(id(hong1.last_name))\n",
    "print(id(hong2.last_name))\n",
    "print()\n",
    "\n",
    "print(id(Family.last_name))\n",
    "print(id(hong1.last_name))\n",
    "print(id(hong2.last_name))"
   ]
  },
  {
   "cell_type": "code",
   "execution_count": 262,
   "id": "2d559408",
   "metadata": {},
   "outputs": [
    {
     "name": "stdout",
     "output_type": "stream",
     "text": [
      "Family : 홍\n",
      "hong1  : 홍\n",
      "hong2  : 김\n",
      "\n",
      "Family : Trump\n",
      "hong1  : Trump\n",
      "hong2  : 김\n",
      "\n",
      "2308441499632\n",
      "2308441499632\n",
      "2308435439056\n"
     ]
    }
   ],
   "source": [
    "hong2.last_name = \"김\"  # 객체의 last_name을 김으로 변경\n",
    "print(f'Family : {Family.last_name}')\n",
    "print(f'hong1  : {hong1.last_name}')\n",
    "print(f'hong2  : {hong2.last_name}')\n",
    "print()\n",
    "\n",
    "Family.last_name = \"Trump\" # 클래스의 last_name을 Trump로 변경 즉, Trump가 저장된 메모리주소를 참조\n",
    "print(f'Family : {Family.last_name}')\n",
    "print(f'hong1  : {hong1.last_name}')\n",
    "print(f'hong2  : {hong2.last_name}')\n",
    "print()\n",
    "\n",
    "print(id(Family.last_name))\n",
    "print(id(hong1.last_name))\n",
    "print(id(hong2.last_name))\n"
   ]
  },
  {
   "cell_type": "markdown",
   "id": "7f9a598b",
   "metadata": {},
   "source": [
    "### 8) 클래스속성(변수\n",
    "\n",
    "* 클래스의 속성에는 `클새스속성(클래스멤버)과 인스턴스속성(객체멤버)` 두 가지 종류가 있다.\n",
    "* 생성자에 의해 정의된 속성은 인스턴스(객체)속성이고 class에서 선언된 속성은 클래스속성이다."
   ]
  },
  {
   "cell_type": "code",
   "execution_count": 265,
   "id": "7a21086a",
   "metadata": {},
   "outputs": [
    {
     "name": "stdout",
     "output_type": "stream",
     "text": [
      "[] [] []\n",
      "['자동차키', '핸드폰', '노트북'] ['자동차키', '핸드폰', '노트북'] ['자동차키', '핸드폰', '노트북']\n"
     ]
    }
   ],
   "source": [
    "# 1. 클래스속성 사용하기\n",
    "%reset -f\n",
    "class Person:\n",
    "    \n",
    "    bag = [] # 클래스속성(클래스멤버), Person로 생성된 모든 객체에서 공유되는 속성\n",
    "    \n",
    "    def put_bag(self, stuff):\n",
    "        self.bag.append(stuff)\n",
    "        \n",
    "kim = Person()\n",
    "lee = Person()\n",
    "park = Person()\n",
    "\n",
    "print(kim.bag, lee.bag, park.bag)\n",
    "\n",
    "kim.put_bag('자동차키')\n",
    "lee.put_bag('핸드폰')\n",
    "park.put_bag('노트북')\n",
    "\n",
    "print(kim.bag, lee.bag, park.bag)"
   ]
  },
  {
   "cell_type": "code",
   "execution_count": 268,
   "id": "a4737deb",
   "metadata": {},
   "outputs": [
    {
     "name": "stdout",
     "output_type": "stream",
     "text": [
      "bag:  [] [] []\n",
      "bag:  ['자동차키', '핸드폰', '노트북'] ['자동차키', '핸드폰', '노트북'] ['자동차키', '핸드폰', '노트북']\n",
      "name:  김씨 이씨 박씨\n"
     ]
    }
   ],
   "source": [
    "%reset -f\n",
    "class Person:\n",
    "    \n",
    "    bag = [] # 클래스속성(클래스멤버), Person로 생성된 모든 객체에서 공유되는 속성\n",
    "    \n",
    "    def put_bag(self, stuff, name):\n",
    "        self.bag.append(stuff)\n",
    "        self.name = name  # 인스턴스속성(객체멤버), Person으로 생성된 객체만 사용되는 속성\n",
    "\n",
    "kim = Person()\n",
    "lee = Person()\n",
    "park = Person()\n",
    "\n",
    "print('bag: ', kim.bag, lee.bag, park.bag)   \n",
    "# print('name: ', kim.name, lee.name, park.name)   \n",
    "\n",
    "kim.put_bag('자동차키', '김씨')\n",
    "lee.put_bag('핸드폰', '이씨')\n",
    "park.put_bag('노트북', '박씨')\n",
    "print('bag: ', kim.bag, lee.bag, park.bag)   \n",
    "print('name: ', kim.name, lee.name, park.name)  "
   ]
  },
  {
   "cell_type": "code",
   "execution_count": 271,
   "id": "0ec9b0ad",
   "metadata": {},
   "outputs": [
    {
     "name": "stdout",
     "output_type": "stream",
     "text": [
      "{'name': '김씨'}\n",
      "{'name': '이씨'}\n",
      "\n",
      "{'__module__': '__main__', 'bag': ['자동차키', '핸드폰', '노트북'], 'put_bag': <function Person.put_bag at 0x0000021979855EE0>, '__dict__': <attribute '__dict__' of 'Person' objects>, '__weakref__': <attribute '__weakref__' of 'Person' objects>, '__doc__': None}\n"
     ]
    }
   ],
   "source": [
    "# 해당변수가 클래스속성인지 객체속성인지 확인\n",
    "# __dict__ 속성으로 확인\n",
    "print(kim.__dict__)\n",
    "print(lee.__dict__)\n",
    "print()\n",
    "\n",
    "print(Person.__dict__)"
   ]
  },
  {
   "cell_type": "code",
   "execution_count": 274,
   "id": "0d593bd6",
   "metadata": {},
   "outputs": [
    {
     "name": "stdout",
     "output_type": "stream",
     "text": [
      "bag:  ['자동차키'] ['핸드폰'] ['노트북']\n",
      "name:  김씨 이씨 박씨\n"
     ]
    }
   ],
   "source": [
    "# 객체속성사용하기\n",
    "# 특정 변수를 객체에서만 사용하기 위해서는 해당변수를 클래스멤버로 선언하는 것이 아니라\n",
    "# 객체멤버로 선언해야 한다.\n",
    "%reset -f\n",
    "class Person:\n",
    "    \n",
    "    def __init__(self):\n",
    "        self.bag = []\n",
    "    \n",
    "    def put_bag(self, stuff, name):\n",
    "        self.bag.append(stuff)\n",
    "        self.name = name\n",
    "\n",
    "kim = Person()\n",
    "lee = Person()\n",
    "park = Person()\n",
    "\n",
    "kim.put_bag('자동차키', '김씨')\n",
    "lee.put_bag('핸드폰', '이씨')\n",
    "park.put_bag('노트북', '박씨')\n",
    "\n",
    "print('bag: ', kim.bag, lee.bag, park.bag)   \n",
    "print('name: ', kim.name, lee.name, park.name)        "
   ]
  },
  {
   "cell_type": "code",
   "execution_count": 309,
   "id": "bfe1b30f",
   "metadata": {},
   "outputs": [
    {
     "name": "stdout",
     "output_type": "stream",
     "text": [
      "대한민국\n",
      "Korea\n",
      "캡슐화(은닉화) : 비공개속성은 접근할 수 없어요!!!\n"
     ]
    }
   ],
   "source": [
    "# 비공개 클래스속성사용하기 (캡슐화 or 은닉화)\n",
    "# 클래스속성인데 객체속성처럼 비공개속성(비공유속성)으로 선언한 수가 있다.\n",
    "# 클래스속성을 비공개속성으로 선언할 때는 \"__속성명\"으로 선언하면 비공개 속성이 된다.\n",
    "# 비공개속성은 클래스안에서만 접근할 수 있고 클래스 외부에서는 접근할 수 없다.\n",
    "\n",
    "# 파이썬에서는 Java와 같이 완벽한 비공개, 즉 캡슐화(은닉화)는 어렵다.\n",
    "# \"__속성명__\"와 같이 선언된 속성은 캡슐화와는 상관이 없다 즉, 공개속성\n",
    "# \"__속성명\"와 같이 선언된 속성은 비공개 속성이다.\n",
    "%reset -f\n",
    "class Korean:\n",
    "    country = \"대한민국\"\n",
    "    __country__ = \"Korea\"\n",
    "    __country = \"Republic of Korea\"\n",
    "\n",
    "    def getCountry(self): # get속성명() 선언된 함수를 getter함수라고 한다.\n",
    "        return '캡슐화(은닉화) : 비공개속성은 접근할 수 없어요!!!' \n",
    "        return Korean.__country\n",
    "    \n",
    "    \n",
    "kor = Korean()\n",
    "print(kor.country)\n",
    "print(kor.__country__)\n",
    "# print(kor.__country)  # 비공개 속성이기 때문에 외부에서 접근불가\n",
    "\n",
    "print(kor.getCountry()) # 비공개속성(은닉화된 속성)은 getter를 통해서 접근 가능"
   ]
  },
  {
   "cell_type": "code",
   "execution_count": 311,
   "id": "bd931720",
   "metadata": {},
   "outputs": [
    {
     "name": "stdout",
     "output_type": "stream",
     "text": [
      "대한민국\n",
      "Korea\n",
      "미국\n",
      "캡슐화(은닉화) : 비공개속성은 접근할 수 없어요!!!\n"
     ]
    }
   ],
   "source": [
    "# 파이썬에서는 불완전한 캡슐화(1)\n",
    "# Korean.__country # AttributeError: type object 'Korean' has no attribute '__country'\n",
    "Korean.__country = \"미국\"\n",
    "print(kor.country)\n",
    "print(kor.__country__)\n",
    "print(kor.__country)\n",
    "print(kor.getCountry())"
   ]
  },
  {
   "cell_type": "code",
   "execution_count": 312,
   "id": "449ce390",
   "metadata": {},
   "outputs": [
    {
     "name": "stdout",
     "output_type": "stream",
     "text": [
      "['_Korean__country', '__class__', '__country', '__country__', '__delattr__', '__dict__', '__dir__', '__doc__', '__eq__', '__format__', '__ge__', '__getattribute__', '__getstate__', '__gt__', '__hash__', '__init__', '__init_subclass__', '__le__', '__lt__', '__module__', '__ne__', '__new__', '__reduce__', '__reduce_ex__', '__repr__', '__setattr__', '__sizeof__', '__str__', '__subclasshook__', '__weakref__', 'country', 'getCountry']\n",
      "\n",
      "미국\n",
      "Republic of Korea\n",
      "\n",
      "['_Korean__country', '__class__', '__country', '__country__', '__delattr__', '__dict__', '__dir__', '__doc__', '__eq__', '__format__', '__ge__', '__getattribute__', '__getstate__', '__gt__', '__hash__', '__init__', '__init_subclass__', '__le__', '__lt__', '__module__', '__ne__', '__new__', '__reduce__', '__reduce_ex__', '__repr__', '__setattr__', '__sizeof__', '__str__', '__subclasshook__', '__weakref__', 'country', 'getCountry']\n"
     ]
    }
   ],
   "source": [
    "# 파이썬에서는 불완전한 캡슐화(2)\n",
    "print(dir(Korean))\n",
    "print()\n",
    "\n",
    "print(kor.__country)\n",
    "print(kor._Korean__country)\n",
    "# 언더바 2개를 붙여서 선언된 변수의 이름은 내부적으로 \"_클래스명__변수명\"으로 이름이 변경되어 저장\n",
    "# 된다. 확인하는 방법은 dir()함수로 확인할 수 있고 클래스와 객체의 각각의 변수를 확인해 볼 수 있다.\n",
    "print()\n",
    "\n",
    "print(dir(kor))"
   ]
  },
  {
   "cell_type": "code",
   "execution_count": 313,
   "id": "e1b8c36a",
   "metadata": {},
   "outputs": [
    {
     "name": "stdout",
     "output_type": "stream",
     "text": [
      "Republic of Korea\n",
      "미국\n",
      "\n",
      "미국\n",
      "\n",
      "['_Korean__country', '__class__', '__country__', '__delattr__', '__dict__', '__dir__', '__doc__', '__eq__', '__format__', '__ge__', '__getattribute__', '__getstate__', '__gt__', '__hash__', '__init__', '__init_subclass__', '__le__', '__lt__', '__module__', '__ne__', '__new__', '__reduce__', '__reduce_ex__', '__repr__', '__setattr__', '__sizeof__', '__str__', '__subclasshook__', '__weakref__', 'country', 'getCountry', 'setCountry']\n",
      "\n",
      "중국 중국\n"
     ]
    }
   ],
   "source": [
    "# 캡슐화(은닉화, 비공개)된 변수는 직접 변경하는 것이 아니라 setter(set변수명)를 통해서 변경\n",
    "%reset -f\n",
    "class Korean:\n",
    "    country = \"대한민국\"\n",
    "    __country__ = \"Korea\"\n",
    "    __country = \"Republic of Korea\"\n",
    "\n",
    "    def getCountry(self): \n",
    "        return self.__country\n",
    "    \n",
    "    def setCountry(self, nation):\n",
    "        self.__country = nation\n",
    "        \n",
    "kor = Korean()\n",
    "print(kor.getCountry())\n",
    "\n",
    "kor.setCountry('미국')\n",
    "print(kor.getCountry())\n",
    "print()\n",
    "\n",
    "# print(kor.__country)\n",
    "print(kor._Korean__country)\n",
    "print()\n",
    "\n",
    "print(dir(kor))\n",
    "print()\n",
    "\n",
    "# 완벽한 캡슐화가 되지 않는다는 의미는 비공개속성의 변수를 \"클래스명._클래스명__변수명\"으로\n",
    "# 접근 또는 수정할 수 있기 때문이다.\n",
    "kor._Korean__country = \"중국\"\n",
    "print(kor._Korean__country, kor.getCountry())"
   ]
  },
  {
   "cell_type": "markdown",
   "id": "be764ece",
   "metadata": {},
   "source": [
    "#### 9) 다형성(Polymorphism)"
   ]
  },
  {
   "cell_type": "code",
   "execution_count": 314,
   "id": "7136a50c",
   "metadata": {},
   "outputs": [
    {
     "name": "stdout",
     "output_type": "stream",
     "text": [
      "통화기능\n",
      "폴더폰:통화기능\n",
      "영상통화기능\n",
      "통화,촬영,인터넷서핑기능!\n"
     ]
    }
   ],
   "source": [
    "class Phone:\n",
    "    def call(self):\n",
    "        print(\"통화기능\")\n",
    "        \n",
    "class FolderPhone(Phone):\n",
    "    def call(self):\n",
    "        print(\"폴더폰:통화기능\")\n",
    "        \n",
    "class CameraPhone(Phone):\n",
    "    def call(self):\n",
    "        print(\"영상통화기능\")\n",
    "        \n",
    "class SmartPhone(Phone):\n",
    "    def call(self):\n",
    "        print(\"통화,촬영,인터넷서핑기능!\")\n",
    "        \n",
    "        \n",
    "phone = Phone()\n",
    "phone.call()\n",
    "\n",
    "phone = FolderPhone()\n",
    "phone.call()\n",
    "\n",
    "phone = CameraPhone()\n",
    "phone.call()\n",
    "\n",
    "phone = SmartPhone()\n",
    "phone.call()"
   ]
  }
 ],
 "metadata": {
  "kernelspec": {
   "display_name": "Python 3 (ipykernel)",
   "language": "python",
   "name": "python3"
  },
  "language_info": {
   "codemirror_mode": {
    "name": "ipython",
    "version": 3
   },
   "file_extension": ".py",
   "mimetype": "text/x-python",
   "name": "python",
   "nbconvert_exporter": "python",
   "pygments_lexer": "ipython3",
   "version": "3.11.5"
  }
 },
 "nbformat": 4,
 "nbformat_minor": 5
}
