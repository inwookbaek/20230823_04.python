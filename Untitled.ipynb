{
 "cells": [
  {
   "cell_type": "code",
   "execution_count": null,
   "id": "f50e09a4",
   "metadata": {},
   "outputs": [],
   "source": []
  },
  {
   "cell_type": "code",
   "execution_count": 1,
   "id": "2afc6a80",
   "metadata": {},
   "outputs": [
    {
     "name": "stdout",
     "output_type": "stream",
     "text": [
      "Epoch 1/10\n",
      "1/1 [==============================] - 5s 5s/step - loss: 1.1019 - accuracy: 0.2500 - val_loss: 1.1134 - val_accuracy: 0.0000e+00\n",
      "Epoch 2/10\n",
      "1/1 [==============================] - 0s 40ms/step - loss: 1.0914 - accuracy: 0.5000 - val_loss: 1.1092 - val_accuracy: 0.0000e+00\n",
      "Epoch 3/10\n",
      "1/1 [==============================] - 0s 41ms/step - loss: 1.0809 - accuracy: 0.7500 - val_loss: 1.1051 - val_accuracy: 0.0000e+00\n",
      "Epoch 4/10\n",
      "1/1 [==============================] - 0s 41ms/step - loss: 1.0705 - accuracy: 0.7500 - val_loss: 1.1013 - val_accuracy: 0.0000e+00\n",
      "Epoch 5/10\n",
      "1/1 [==============================] - 0s 38ms/step - loss: 1.0599 - accuracy: 0.5000 - val_loss: 1.0975 - val_accuracy: 0.0000e+00\n",
      "Epoch 6/10\n",
      "1/1 [==============================] - 0s 42ms/step - loss: 1.0491 - accuracy: 0.5000 - val_loss: 1.0938 - val_accuracy: 0.0000e+00\n",
      "Epoch 7/10\n",
      "1/1 [==============================] - 0s 41ms/step - loss: 1.0380 - accuracy: 0.7500 - val_loss: 1.0902 - val_accuracy: 0.0000e+00\n",
      "Epoch 8/10\n",
      "1/1 [==============================] - 0s 44ms/step - loss: 1.0264 - accuracy: 0.7500 - val_loss: 1.0866 - val_accuracy: 0.0000e+00\n",
      "Epoch 9/10\n",
      "1/1 [==============================] - 0s 45ms/step - loss: 1.0142 - accuracy: 0.7500 - val_loss: 1.0829 - val_accuracy: 0.0000e+00\n",
      "Epoch 10/10\n",
      "1/1 [==============================] - 0s 42ms/step - loss: 1.0013 - accuracy: 0.7500 - val_loss: 1.0793 - val_accuracy: 0.0000e+00\n"
     ]
    },
    {
     "name": "stderr",
     "output_type": "stream",
     "text": [
      "C:\\Users\\gilbaek\\AppData\\Roaming\\Python\\Python311\\site-packages\\keras\\src\\engine\\training.py:3079: UserWarning: You are saving your model as an HDF5 file via `model.save()`. This file format is considered legacy. We recommend using instead the native Keras format, e.g. `model.save('my_model.keras')`.\n",
      "  saving_api.save_model(\n"
     ]
    }
   ],
   "source": [
    "from tensorflow.keras.models import Sequential\n",
    "from tensorflow.keras.layers import Embedding, Bidirectional, LSTM, Dense\n",
    "from tensorflow.keras.preprocessing.text import Tokenizer\n",
    "from tensorflow.keras.preprocessing.sequence import pad_sequences\n",
    "from sklearn.model_selection import train_test_split\n",
    "import numpy as np\n",
    "\n",
    "# 가상의 챗봇 데이터\n",
    "corpus = [\n",
    "    \"안녕하세요\",\n",
    "    \"안녕\",\n",
    "    \"반갑습니다\",\n",
    "    \"오늘 날씨 어때?\",\n",
    "    \"음식 추천해줄래?\",\n",
    "    \"뭐 먹을까?\",\n",
    "    # ... 다양한 채팅 데이터 추가\n",
    "]\n",
    "\n",
    "labels = [\n",
    "    \"인사\",\n",
    "    \"인사\",\n",
    "    \"인사\",\n",
    "    \"날씨\",\n",
    "    \"음식\",\n",
    "    \"음식\",\n",
    "    # ... 각 문장에 해당하는 레이블 추가\n",
    "]\n",
    "\n",
    "# 토크나이저 생성 및 텍스트를 시퀀스로 변환\n",
    "tokenizer = Tokenizer()\n",
    "tokenizer.fit_on_texts(corpus)\n",
    "total_words = len(tokenizer.word_index) + 1\n",
    "\n",
    "# 문장을 시퀀스로 변환하는 함수\n",
    "def text_to_sequence(text):\n",
    "    tokens = tokenizer.texts_to_sequences([text])\n",
    "    return tokens[0]\n",
    "\n",
    "# 데이터를 시퀀스로 변환\n",
    "sequences = [text_to_sequence(chat) for chat in corpus]\n",
    "\n",
    "# 패딩을 추가하여 시퀀스의 길이를 맞춤\n",
    "max_sequence_length = max(len(seq) for seq in sequences)\n",
    "padded_sequences = pad_sequences(sequences, maxlen=max_sequence_length, padding='post')\n",
    "\n",
    "# 레이블을 원-핫 인코딩\n",
    "label_dict = {label: idx for idx, label in enumerate(set(labels))}\n",
    "encoded_labels = np.array([label_dict[label] for label in labels])\n",
    "one_hot_labels = np.zeros((len(encoded_labels), len(label_dict)))\n",
    "one_hot_labels[np.arange(len(encoded_labels)), encoded_labels] = 1\n",
    "\n",
    "# 훈련 데이터와 테스트 데이터로 분리\n",
    "X_train, X_test, y_train, y_test = train_test_split(padded_sequences, one_hot_labels, test_size=0.2, random_state=42)\n",
    "\n",
    "# BI-LSTM 모델 구성\n",
    "model = Sequential()\n",
    "model.add(Embedding(input_dim=total_words, output_dim=100, input_length=max_sequence_length))\n",
    "model.add(Bidirectional(LSTM(64)))\n",
    "model.add(Dense(len(label_dict), activation='softmax'))\n",
    "\n",
    "# 모델 컴파일\n",
    "model.compile(optimizer='adam', loss='categorical_crossentropy', metrics=['accuracy'])\n",
    "\n",
    "# 모델 훈련\n",
    "model.fit(X_train, y_train, epochs=10, validation_data=(X_test, y_test))\n",
    "\n",
    "# 모델 저장\n",
    "model.save('chatbot_model.h5')\n",
    "\n",
    "# 토크나이저 저장\n",
    "import pickle\n",
    "with open('tokenizer.pickle', 'wb') as handle:\n",
    "    pickle.dump(tokenizer, handle, protocol=pickle.HIGHEST_PROTOCOL)\n"
   ]
  },
  {
   "cell_type": "code",
   "execution_count": null,
   "id": "24b881f7",
   "metadata": {},
   "outputs": [],
   "source": []
  }
 ],
 "metadata": {
  "kernelspec": {
   "display_name": "Python 3 (ipykernel)",
   "language": "python",
   "name": "python3"
  },
  "language_info": {
   "codemirror_mode": {
    "name": "ipython",
    "version": 3
   },
   "file_extension": ".py",
   "mimetype": "text/x-python",
   "name": "python",
   "nbconvert_exporter": "python",
   "pygments_lexer": "ipython3",
   "version": "3.11.5"
  }
 },
 "nbformat": 4,
 "nbformat_minor": 5
}
