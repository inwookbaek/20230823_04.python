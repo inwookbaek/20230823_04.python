{
 "cells": [
  {
   "cell_type": "code",
   "execution_count": 24,
   "id": "f1715924",
   "metadata": {},
   "outputs": [
    {
     "name": "stdout",
     "output_type": "stream",
     "text": [
      "Overwriting dangun.py\n"
     ]
    }
   ],
   "source": [
    "%%writefile dangun.py\n",
    "from selenium import webdriver\n",
    "from selenium.webdriver.common.by import By\n",
    "from selenium.webdriver.common.keys import Keys\n",
    "import time\n",
    "import pyperclip\n",
    "\n",
    "# 서울%20브롬톤\n",
    "search = input('검색단어 => ')\n",
    "driver = webdriver.Chrome()  # 크롬웹브라우저를 생성\n",
    "driver.get(f'https://www.daangn.com/search/{search}/') # 로그인하기 위한 사이트주소\n",
    "time.sleep(1)   # 3초지연(대기시간)\n",
    "\n",
    "for i in range(200):\n",
    "    more_btn = driver.find_element(By.CLASS_NAME, 'more-btn')\n",
    "    more_btn.click()\n",
    "    time.sleep(0.5)\n",
    "    if i == 199:\n",
    "        time.sleep(600)"
   ]
  },
  {
   "cell_type": "code",
   "execution_count": 20,
   "id": "307d1461",
   "metadata": {},
   "outputs": [
    {
     "name": "stdout",
     "output_type": "stream",
     "text": [
      "^C\n"
     ]
    }
   ],
   "source": [
    "!python dangun.py"
   ]
  },
  {
   "cell_type": "code",
   "execution_count": null,
   "id": "3760c5c8",
   "metadata": {},
   "outputs": [],
   "source": []
  }
 ],
 "metadata": {
  "kernelspec": {
   "display_name": "Python 3 (ipykernel)",
   "language": "python",
   "name": "python3"
  },
  "language_info": {
   "codemirror_mode": {
    "name": "ipython",
    "version": 3
   },
   "file_extension": ".py",
   "mimetype": "text/x-python",
   "name": "python",
   "nbconvert_exporter": "python",
   "pygments_lexer": "ipython3",
   "version": "3.11.5"
  }
 },
 "nbformat": 4,
 "nbformat_minor": 5
}
