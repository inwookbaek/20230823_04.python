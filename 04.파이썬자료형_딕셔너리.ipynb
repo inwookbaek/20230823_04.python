{
 "cells": [
  {
   "cell_type": "markdown",
   "id": "c4c0fddf",
   "metadata": {},
   "source": [
    "# 딕셔너리(dictionary, dict)자료형\n",
    "\n",
    "><img src=\"./images/04.파이썬자료형_딕셔너리_01.png\" width=\"300\" height=\"200\" />\n",
    "\n",
    "* 파이썬에서의 딕셔너리자료형이란 `키 key와 값 value를 한쌍`으로 갖는 자료형\n",
    "* JavaScript에서 `map or JSON`형태와 유사한 자료형이다.\n",
    "* 이런 대응관계를 연관배열(Associative array) or 해시(Hash)라고 한다.\n",
    "* 파이썬에서는 이러한 자료형을 `Dictionary`라고 하는데 딕셔너리는 튜플이나 리스트처럼 순차적(Sequential)으로 즉, index로 해당 요소에 접근할 수 없고 `Key를 통해서 value을 처리`한다.\n",
    "\n",
    "##### dictionary의 특징\n",
    "\n",
    "1. 딕셔너리의 선언은 `중괄호{}`로 선언한다.\n",
    ">{key:value, ... key:value}\n",
    "1. 딕셔너리는 `immutable한 key와 mutable한 value`로 맵핑되어 있는 순서가 없는 자료형이다.\n",
    "1. Key값으로는 immutable한 값은 사용할 수 있지만, mutable한 객체는 사용불가\n",
    "1. value는 중복이 가능하지만 Key는 중복는 중복 불가능하다.\n",
    "1. 만약, key가 중복된 것이 있다면 마지막에 정의한 value를 덮어 쓴다.\n",
    "1. 순서가 없기 때문에 인덱스로는 접근불가, `Key로 value에 접근`할 수 있다.\n",
    "1. dict는 mutable한 객체이기 때문에 key로 접근해서 value을 수정할 수 있다.\n",
    "1. list안에는 list나 tuple, tuple안에는 list, tuple의 값을 key와 value로 입력하면 Dictionary를 변경할 수 있다.\n",
    "\n",
    "## 1. 딕셔너리의 선언"
   ]
  },
  {
   "cell_type": "code",
   "execution_count": 16,
   "id": "2f8225ab",
   "metadata": {},
   "outputs": [
    {
     "name": "stdout",
     "output_type": "stream",
     "text": [
      "{} <class 'dict'>\n",
      "{} <class 'dict'>\n",
      "{1: 5, 2: 4} <class 'dict'>\n",
      "{(1, 2): 1000, (3, 4): 2000} <class 'dict'>\n",
      "{3.1452: 'PI'} <class 'dict'>\n",
      "{'name': '소향', 'age': 43} <class 'dict'>\n",
      "{True: '좋아요', False: '나빠요'} <class 'dict'>\n",
      "\n",
      "4\n",
      "2000\n",
      "PI\n",
      "소향\n",
      "좋아요 나빠요\n"
     ]
    }
   ],
   "source": [
    "# A. key가 immutable인 자료형\n",
    "\n",
    "# 1. 중괄호\n",
    "a = {}\n",
    "print(a, type(a))\n",
    "# a?\n",
    "\n",
    "# 2. dict() 생성자함수로 생성\n",
    "b = dict()\n",
    "print(b, type(b))\n",
    "\n",
    "# 3. 값을 가진 dict\n",
    "c = {1:5, 2:4} # key가 int type인 1,2, 값이 int type인 5, 4\n",
    "print(c, type(c))\n",
    "\n",
    "# 4. key는 immutable인 자료이어야 한다.\n",
    "# tuple이 키인 dictionary선언\n",
    "d = {(1,2):1000, (3,4):2000}\n",
    "print(d, type(d))\n",
    "\n",
    "# 5. key가 float형인 dict선언\n",
    "e = {3.1452:'PI', }\n",
    "print(e, type(e))\n",
    "\n",
    "# 6. key가 str인 dict 선언\n",
    "f = {'name':'소향', 'age':43}\n",
    "print(f, type(f))\n",
    "\n",
    "# 7. key가 boolean형인 dict 선언 \n",
    "g = {True:'좋아요', False:'나빠요'}\n",
    "print(g, type(g))\n",
    "print()\n",
    "\n",
    "print(c[2])   # list의 인덱스처럼 생겼지만 dict[key]이다.\n",
    "print(d[(3,4)])\n",
    "print(e[3.1452])\n",
    "print(f['name'])\n",
    "print(g[True], g[False])"
   ]
  },
  {
   "cell_type": "code",
   "execution_count": 21,
   "id": "c7c7f56c",
   "metadata": {},
   "outputs": [],
   "source": [
    "# B. key가 mutable인 자료형 -> 에러\n",
    "\n",
    "# d = {[1,2]:1000, [3,4]:2000} TypeError: unhashable type: 'list'\n",
    "# d = {{1:2}:1000, {3:4}:2000} TypeError: unhashable type: 'dict'\n",
    "# d = {{1,2}:1000, {3,4}:2000} TypeError: unhashable type: 'set'"
   ]
  },
  {
   "cell_type": "code",
   "execution_count": 25,
   "id": "caeb1cfb",
   "metadata": {},
   "outputs": [
    {
     "name": "stdout",
     "output_type": "stream",
     "text": [
      "{'name': '나얼'} <class 'dict'>\n",
      "나얼\n",
      "\n",
      "{'name': '소향'} <class 'dict'>\n",
      "소향\n",
      "100\n"
     ]
    }
   ],
   "source": [
    "# C. Key가 중복이 될 경우\n",
    "# Key는 중복이 될 수 없고, value는 중복이 될 수 있다.\n",
    "# 만약, key가 중복이 된다면 마지막에 정의된 값으로 덮어 쓴다.\n",
    "a = {'name':'소향', 'name':'나얼'}\n",
    "print(a, type(a))\n",
    "print(a['name'])\n",
    "print()\n",
    "\n",
    "a = {'name':'나얼', 'name':'소향'}\n",
    "print(a, type(a))\n",
    "print(a['name'])\n",
    "\n",
    "a = {1:99, 2:89, 3:82, 2:100}\n",
    "print(a[2])"
   ]
  },
  {
   "cell_type": "code",
   "execution_count": 29,
   "id": "69ea77af",
   "metadata": {},
   "outputs": [
    {
     "name": "stdout",
     "output_type": "stream",
     "text": [
      "99\n",
      "89\n",
      "82\n",
      "\n",
      "{'name': '소향', 'addr': '서울', 'age': 43} <class 'dict'>\n",
      "소향 서울 43\n"
     ]
    }
   ],
   "source": [
    "# D. 딕셔너리에 접근하기\n",
    "a = {1:99, 200:89, 30:82}\n",
    "# a[0] '0'이라는 키가 없기 때문에 에러 발생\n",
    "print(a[1])\n",
    "print(a[200])\n",
    "print(a[30])\n",
    "print()\n",
    "\n",
    "a = {'name':'소향', 'addr':'서울', 'age':43}\n",
    "print(a, type(a))\n",
    "print(a['name'], a['addr'], a['age'])"
   ]
  },
  {
   "cell_type": "markdown",
   "id": "ca5062e7",
   "metadata": {},
   "source": [
    "## 2. dict의 수정/삭제/추가"
   ]
  },
  {
   "cell_type": "code",
   "execution_count": 30,
   "id": "a33f40f1",
   "metadata": {},
   "outputs": [
    {
     "name": "stdout",
     "output_type": "stream",
     "text": [
      "['__class__', '__class_getitem__', '__contains__', '__delattr__', '__delitem__', '__dir__', '__doc__', '__eq__', '__format__', '__ge__', '__getattribute__', '__getitem__', '__getstate__', '__gt__', '__hash__', '__init__', '__init_subclass__', '__ior__', '__iter__', '__le__', '__len__', '__lt__', '__ne__', '__new__', '__or__', '__reduce__', '__reduce_ex__', '__repr__', '__reversed__', '__ror__', '__setattr__', '__setitem__', '__sizeof__', '__str__', '__subclasshook__', 'clear', 'copy', 'fromkeys', 'get', 'items', 'keys', 'pop', 'popitem', 'setdefault', 'update', 'values']\n"
     ]
    }
   ],
   "source": [
    "print(dir({}))"
   ]
  },
  {
   "cell_type": "code",
   "execution_count": 41,
   "id": "5936016f",
   "metadata": {},
   "outputs": [
    {
     "name": "stdout",
     "output_type": "stream",
     "text": [
      "{1: '소향'}\n",
      "{1: '소향', 2: '홍길동'}\n",
      "{1: '소향', 2: '홍길동', 3: [1, 2, 3, ['x', 'y', 'z']]}\n",
      "{1: '소향', 2: '홍길동', 3: [1, 2, 3, ['x', 'y', 'z']], 'name': '나얼'}\n",
      "{1: '소향', 2: '홍길동', 3: [1, 2, 3, ['x', 'y', 'z']], 'name': '나얼', 'addr': ('서울', '서초구', '신논현동', '이젠아카데이')}\n",
      "<built-in function print>\n",
      "딕셔너리에 값이 함수인 요소 출력하기\n"
     ]
    }
   ],
   "source": [
    "# 1. dict 추가하기\n",
    "a = {1:'소향'}\n",
    "print(a)\n",
    "\n",
    "a[2] = '홍길동'\n",
    "print(a)\n",
    "\n",
    "a[3] = [1,2,3,['x','y','z']]\n",
    "print(a)\n",
    "\n",
    "a['name'] = '나얼'\n",
    "print(a)\n",
    "\n",
    "a['addr'] = ('서울','서초구','신논현동','이젠아카데이')\n",
    "print(a)\n",
    "\n",
    "a['fn_print'] = print\n",
    "print(a['fn_print'])\n",
    "\n",
    "a['fn_print']('딕셔너리에 값이 함수인 요소 출력하기')"
   ]
  },
  {
   "cell_type": "code",
   "execution_count": 43,
   "id": "55ec884a",
   "metadata": {},
   "outputs": [
    {
     "name": "stdout",
     "output_type": "stream",
     "text": [
      "print\n",
      "{1: '소향', 2: '손흥민', 3: [1, 2, 3, ['x', 'y', 'z']], 'name': '나얼', 'addr': ('서울', '서초구', '신논현동', '이젠아카데이'), 'fn_print': 'print'} <class 'dict'>\n",
      "{1: '소향', 2: '손흥민', 3: [1, 2, 3, ['x', 'y', 'z']], 'name': '나얼', 'addr': ('서울', '서초구', '신논현동', '이젠아카데이'), 'fn_print': 'print', 10: '이강인'} <class 'dict'>\n"
     ]
    }
   ],
   "source": [
    "# 2. dict 수정하기\n",
    "a['fn_print'] = 'print'\n",
    "# a['fn_print']() TypeError: 'str' object is not callable\n",
    "print(a['fn_print'])\n",
    "\n",
    "a[2] = '손흥민'\n",
    "print(a, type(a))\n",
    "\n",
    "a[10] = '이강인'\n",
    "print(a, type(a))"
   ]
  },
  {
   "cell_type": "code",
   "execution_count": 45,
   "id": "b82975ba",
   "metadata": {},
   "outputs": [
    {
     "name": "stdout",
     "output_type": "stream",
     "text": [
      "{1: '소향', 2: '손흥민', 3: [1, 2, 3, ['x', 'y', 'z']], 'name': '나얼', 'addr': ('서울', '서초구', '신논현동', '이젠아카데이'), 10: '이강인'}\n"
     ]
    }
   ],
   "source": [
    "# 3. 딕셔너리삭제 : del명령사용\n",
    "# del명령으로 dict를 삭제할 때 키를 찾지 못했을 경우 에러 발생\n",
    "# del a[100] KeyError: 100\n",
    "del a['fn_print']\n",
    "print(a)"
   ]
  },
  {
   "cell_type": "markdown",
   "id": "2378cb51",
   "metadata": {},
   "source": [
    "### 3. 딕셔너리사용하기"
   ]
  },
  {
   "cell_type": "code",
   "execution_count": 48,
   "id": "7471f6bf",
   "metadata": {},
   "outputs": [
    {
     "name": "stdout",
     "output_type": "stream",
     "text": [
      "{'홍길동': 80, '손흥민': 100, '이강인': 88, '김민재': 89} 4\n",
      "손흥민의 점수 =  100\n",
      "{(1, 2): '안녕하세요?', ('a', 'x'): '반갑습니다.'} <class 'dict'>\n"
     ]
    }
   ],
   "source": [
    "# 1. key를 이용해서 value를 얻기\n",
    "grade = {\"홍길동\":80,\"손흥민\":99,\"이강인\":88,\"김민재\":89,\"손흥민\":100}\n",
    "print(grade, len(grade))\n",
    "print('손흥민의 점수 = ', grade['손흥민'])\n",
    "\n",
    "# 리스트나, 튜플, 문자열은 요소의 값을 구할 때 인덱싱이나 슬라이싱을 이용하지만\n",
    "# 딕셔너리는 key를 이용하는 방법밖에 없다.\n",
    "# 딕셔너리를 만들 때 주의할 사항\n",
    "# 1. key는 고유한 값이어야 하지만 중복오류는 발생하지 않는다.\n",
    "#    하지만, key로 값을 구할 경우에 마지막에 정의한 값을 가져온다.\n",
    "# 2. key에는 list같은 mutable한 객체는 사용할 수 없지만 tuple같은 immutable\n",
    "#    객체는 사용할 수 있다.\n",
    "\n",
    "a = {(1,2):'안녕하세요?', ('a', 'x'):'반갑습니다.'}\n",
    "print(a, type(a))"
   ]
  },
  {
   "cell_type": "markdown",
   "id": "2f8c3c4b",
   "metadata": {},
   "source": [
    "### 4. 딕셔너리관련함수\n",
    "\n",
    "* keys()   : Key의 목록을 리턴\n",
    "* values() : Values의 목록을 리턴\n",
    "* items()  : Key와 Value를 한쌍의 목록을 리턴\n",
    "* get()    : Key로 값을 리턴\n",
    "* clear()  : dictionay전체를 삭제\n",
    "* in, not in : 해당 key의 유무여부를 리턴\n",
    "* update() : 여러개의 값을 일괄로 수정\n",
    "* copy()   : 딕셔너리를 복사"
   ]
  },
  {
   "cell_type": "code",
   "execution_count": 53,
   "id": "e2a494da",
   "metadata": {},
   "outputs": [
    {
     "name": "stdout",
     "output_type": "stream",
     "text": [
      "dict_keys(['홍길동', '이강인', '김민재', '손흥민'])\n",
      "<class 'dict_keys'>\n",
      "['__and__', '__class__', '__contains__', '__delattr__', '__dir__', '__doc__', '__eq__', '__format__', '__ge__', '__getattribute__', '__getstate__', '__gt__', '__hash__', '__init__', '__init_subclass__', '__iter__', '__le__', '__len__', '__lt__', '__ne__', '__new__', '__or__', '__rand__', '__reduce__', '__reduce_ex__', '__repr__', '__reversed__', '__ror__', '__rsub__', '__rxor__', '__setattr__', '__sizeof__', '__str__', '__sub__', '__subclasshook__', '__xor__', 'isdisjoint', 'mapping']\n"
     ]
    }
   ],
   "source": [
    "# 1. keys() : Key의 목록을 리턴\n",
    "grade = {\"홍길동\":80,\"이강인\":88,\"김민재\":89,\"손흥민\":100}\n",
    "print(grade.keys())\n",
    "print(type(grade.keys())) # dict_keys객체는 list형처럼 사용가능\n",
    "print(dir(grade.keys()))\n",
    "\n",
    "# keys()함수는 key의 목록을 dict_keys라는 객체로 리턴\n",
    "# dict_keys객체는 리스트를 사용하는 것과 유사하게 사용할 수 있지만\n",
    "# list고유함수인 append, insert, pop, sort등과 같은 함수는 없다."
   ]
  },
  {
   "cell_type": "code",
   "execution_count": 54,
   "id": "c5025ac5",
   "metadata": {},
   "outputs": [
    {
     "name": "stdout",
     "output_type": "stream",
     "text": [
      "dict_values([80, 88, 89, 100])\n",
      "<class 'dict_values'>\n",
      "['__class__', '__delattr__', '__dir__', '__doc__', '__eq__', '__format__', '__ge__', '__getattribute__', '__getstate__', '__gt__', '__hash__', '__init__', '__init_subclass__', '__iter__', '__le__', '__len__', '__lt__', '__ne__', '__new__', '__reduce__', '__reduce_ex__', '__repr__', '__reversed__', '__setattr__', '__sizeof__', '__str__', '__subclasshook__', 'mapping']\n"
     ]
    }
   ],
   "source": [
    "# 2. values() : value의 목록을 리턴(dict_values객체를 리턴)\n",
    "grade = {\"홍길동\":80,\"이강인\":88,\"김민재\":89,\"손흥민\":100}\n",
    "print(grade.values())\n",
    "print(type(grade.values())) # dict_values객체는 list형처럼 사용가능\n",
    "print(dir(grade.values()))"
   ]
  },
  {
   "cell_type": "code",
   "execution_count": 59,
   "id": "ec967d4b",
   "metadata": {},
   "outputs": [
    {
     "name": "stdout",
     "output_type": "stream",
     "text": [
      "dict_items([('홍길동', 80), ('이강인', 88), ('김민재', 89), ('손흥민', 100)])\n",
      "<class 'dict_items'>\n",
      "\n",
      "['__and__', '__class__', '__contains__', '__delattr__', '__dir__', '__doc__', '__eq__', '__format__', '__ge__', '__getattribute__', '__getstate__', '__gt__', '__hash__', '__init__', '__init_subclass__', '__iter__', '__le__', '__len__', '__lt__', '__ne__', '__new__', '__or__', '__rand__', '__reduce__', '__reduce_ex__', '__repr__', '__reversed__', '__ror__', '__rsub__', '__rxor__', '__setattr__', '__sizeof__', '__str__', '__sub__', '__subclasshook__', '__xor__', 'isdisjoint', 'mapping']\n"
     ]
    },
    {
     "data": {
      "text/plain": [
       "dict_items([('홍길동', 80), ('이강인', 88), ('김민재', 89), ('손흥민', 100)])"
      ]
     },
     "execution_count": 59,
     "metadata": {},
     "output_type": "execute_result"
    }
   ],
   "source": [
    "# 3. items() : Key와 Value를 한쌍의 목록을 튜플자료형으로 리턴\n",
    "grade = {\"홍길동\":80,\"이강인\":88,\"김민재\":89,\"손흥민\":100}\n",
    "print(grade.items())\n",
    "print(type(grade.items())) # dict_items객체는 list형처럼 사용가능\n",
    "print()\n",
    "\n",
    "print(dir(grade.items()))\n",
    "\n",
    "# 주의할 점\n",
    "a = grade.items()\n",
    "# a[0] TypeError: 'dict_items' object is not subscriptable\n",
    "# dict_items객체는 리스트형태이지만 list객체가 아니기 때문에 index를 사용할\n",
    "# 수 없기 때문에 에러 발생"
   ]
  },
  {
   "cell_type": "code",
   "execution_count": 68,
   "id": "d4b292a8",
   "metadata": {},
   "outputs": [
    {
     "name": "stdout",
     "output_type": "stream",
     "text": [
      "100\n",
      "None\n",
      "소향이라는 키는 없습니다!!\n"
     ]
    },
    {
     "ename": "KeyError",
     "evalue": "'소향'",
     "output_type": "error",
     "traceback": [
      "\u001b[1;31m---------------------------------------------------------------------------\u001b[0m",
      "\u001b[1;31mKeyError\u001b[0m                                  Traceback (most recent call last)",
      "Cell \u001b[1;32mIn[68], line 12\u001b[0m\n\u001b[0;32m      9\u001b[0m \u001b[38;5;28mprint\u001b[39m(grade\u001b[38;5;241m.\u001b[39mget(\u001b[38;5;124m'\u001b[39m\u001b[38;5;124m소향\u001b[39m\u001b[38;5;124m'\u001b[39m))\n\u001b[0;32m     10\u001b[0m \u001b[38;5;28mprint\u001b[39m(grade\u001b[38;5;241m.\u001b[39mget(\u001b[38;5;124m'\u001b[39m\u001b[38;5;124m소향\u001b[39m\u001b[38;5;124m'\u001b[39m, \u001b[38;5;124m'\u001b[39m\u001b[38;5;124m소향이라는 키는 없습니다!!\u001b[39m\u001b[38;5;124m'\u001b[39m))\n\u001b[1;32m---> 12\u001b[0m grade[\u001b[38;5;124m'\u001b[39m\u001b[38;5;124m소향\u001b[39m\u001b[38;5;124m'\u001b[39m]\n",
      "\u001b[1;31mKeyError\u001b[0m: '소향'"
     ]
    }
   ],
   "source": [
    "# 4. get() : Key로 값을 리턴\n",
    "# get(키)라는 함수는 key에 해당하는 값을 리턴한다.\n",
    "# grade['no_key']와 get('no_key')은 값을 리턴하는 기능은 동일하지만\n",
    "# 차이점은 키가 없을 경우 grade['no_key']은 에러가 발생하지만 get('no_key')은\n",
    "# default옵션에 정의된 값을 리턴한다. 기본값은 None(거짓이라는 의미)\n",
    "# grade.get?\n",
    "\n",
    "print(grade.get('손흥민'))\n",
    "print(grade.get('소향'))\n",
    "print(grade.get('소향', '소향이라는 키는 없습니다!!'))\n",
    "\n",
    "grade['소향']"
   ]
  },
  {
   "cell_type": "code",
   "execution_count": 69,
   "id": "021dab60",
   "metadata": {},
   "outputs": [
    {
     "name": "stdout",
     "output_type": "stream",
     "text": [
      "{}\n"
     ]
    }
   ],
   "source": [
    "# 5. clear() : dictionay전체를 삭제\n",
    "grade.clear()\n",
    "print(grade)"
   ]
  },
  {
   "cell_type": "code",
   "execution_count": 73,
   "id": "beac6bb6",
   "metadata": {},
   "outputs": [
    {
     "name": "stdout",
     "output_type": "stream",
     "text": [
      "False\n",
      "True\n",
      "\n",
      "True\n",
      "False\n"
     ]
    }
   ],
   "source": [
    "# 6. in, not in : 해당 key의 유무여부를 리턴\n",
    "grade = {\"홍길동\":80,\"이강인\":88,\"김민재\":89,\"손흥민\":100}\n",
    "\n",
    "print('소향' in grade)\n",
    "print('소향' not in grade)\n",
    "print()\n",
    "\n",
    "print('손흥민' in grade)\n",
    "print('손흥민' not in grade)"
   ]
  },
  {
   "cell_type": "code",
   "execution_count": 76,
   "id": "0770e87a",
   "metadata": {},
   "outputs": [
    {
     "name": "stdout",
     "output_type": "stream",
     "text": [
      "{'홍길동': 80, '이강인': 88, '김민재': 89, '손흥민': 0}\n",
      "{'홍길동': 85, '이강인': 99, '김민재': 89, '손흥민': 95, '소향': 100}\n"
     ]
    }
   ],
   "source": [
    "# 7. update() : 여러개의 값을 일괄로 수정\n",
    "grade = {\"홍길동\":80,\"이강인\":88,\"김민재\":89,\"손흥민\":100}\n",
    "\n",
    "grade['손흥민'] = 0\n",
    "print(grade)\n",
    "\n",
    "# 일괄로 수정하기\n",
    "grade.update({'홍길동': 85, '이강인':99, '손흥민':95, '소향':100})\n",
    "print(grade)"
   ]
  },
  {
   "cell_type": "code",
   "execution_count": 84,
   "id": "ab3183f3",
   "metadata": {},
   "outputs": [
    {
     "name": "stdout",
     "output_type": "stream",
     "text": [
      "{'홍길동': [1, 2, 3], '이강인': 88, '김민재': 89, '손흥민': 100}\n",
      "{'홍길동': [1, 2, 3], '이강인': 88, '김민재': 89, '손흥민': 100}\n",
      "1709503214528\n",
      "1709503214528\n",
      "1709505374464\n",
      "1709505374464\n",
      "\n",
      "{'홍길동': [1, 2, 3, 'x'], '이강인': 88, '김민재': 89, '손흥민': 100}\n",
      "{'홍길동': [1, 2, 3, 'x'], '이강인': 88, '김민재': 89, '손흥민': 100}\n",
      "1709503214528\n",
      "1709503214528\n",
      "1709505374464\n",
      "1709505374464\n",
      "\n"
     ]
    }
   ],
   "source": [
    "# 8. copy() : 딕셔너리를 복사(얕은 복사)\n",
    "# 1) 얕은 복사\n",
    "d0 = {\"홍길동\":[1,2,3],\"이강인\":88,\"김민재\":89,\"손흥민\":100}\n",
    "d1 = d0 \n",
    "print(d0)\n",
    "print(d1)\n",
    "print(id(d0))\n",
    "print(id(d1))\n",
    "print(id(d0['홍길동']))\n",
    "print(id(d1['홍길동']))\n",
    "print()\n",
    "\n",
    "d1['홍길동'].append('x')\n",
    "print(d0)\n",
    "print(d1)\n",
    "print(id(d0))\n",
    "print(id(d1))\n",
    "print(id(d0['홍길동']))\n",
    "print(id(d1['홍길동']))\n",
    "print()"
   ]
  },
  {
   "cell_type": "code",
   "execution_count": 90,
   "id": "de22f699",
   "metadata": {},
   "outputs": [
    {
     "name": "stdout",
     "output_type": "stream",
     "text": [
      "{'홍길동': [1, 2, 3, 'x'], '이강인': 88, '김민재': 89, '손흥민': 100}\n",
      "{'홍길동': [1, 2, 3, 'x'], '이강인': 88, '김민재': 89, '손흥민': 100}\n",
      "d0의 id =  1709505826048\n",
      "d1의 id =  1709502644160\n",
      "d0['홍길동'] =  1709492985792\n",
      "d1['홍길동'] =  1709492985792\n",
      "\n",
      "{'홍길동': [1, 2, 3], '이강인': 88, '김민재': 89, '손흥민': 100}\n",
      "{'홍길동': [1, 2, 3, 'x'], '이강인': 88, '김민재': 89, '손흥민': 100}\n",
      "d0의 id =  1709493606592\n",
      "d1의 id =  1709506102976\n",
      "d0['홍길동'] =  1709505456320\n",
      "d1['홍길동'] =  1709506062336\n",
      "\n"
     ]
    }
   ],
   "source": [
    "# 2) 깊은 복사\n",
    "d0 = {\"홍길동\":[1,2,3],\"이강인\":88,\"김민재\":89,\"손흥민\":100}\n",
    "\n",
    "# a. 얕은 복사\n",
    "d1 = d0.copy() \n",
    "# d1 = copy.copy(d0)\n",
    "\n",
    "d1['홍길동'].append('x')\n",
    "print(d0)\n",
    "print(d1)\n",
    "print('d0의 id = ', id(d0))\n",
    "print('d1의 id = ', id(d1))\n",
    "print(\"d0['홍길동'] = \", id(d0['홍길동']))\n",
    "print(\"d1['홍길동'] = \", id(d1['홍길동']))\n",
    "print()\n",
    "\n",
    "# b. 깊은 복사\n",
    "import copy\n",
    "d0 = {\"홍길동\":[1,2,3],\"이강인\":88,\"김민재\":89,\"손흥민\":100}\n",
    "\n",
    "d1 = copy.deepcopy(d0)\n",
    "\n",
    "d1['홍길동'].append('x')\n",
    "print(d0)\n",
    "print(d1)\n",
    "print('d0의 id = ', id(d0))\n",
    "print('d1의 id = ', id(d1))\n",
    "print(\"d0['홍길동'] = \", id(d0['홍길동']))\n",
    "print(\"d1['홍길동'] = \",id(d1['홍길동']))\n",
    "print()"
   ]
  },
  {
   "cell_type": "code",
   "execution_count": 95,
   "id": "17386329",
   "metadata": {},
   "outputs": [
    {
     "name": "stdout",
     "output_type": "stream",
     "text": [
      "<class 'dict'> ['__class__', '__class_getitem__', '__contains__', '__delattr__', '__delitem__', '__dir__', '__doc__', '__eq__', '__format__', '__ge__', '__getattribute__', '__getitem__', '__getstate__', '__gt__', '__hash__', '__init__', '__init_subclass__', '__ior__', '__iter__', '__le__', '__len__', '__lt__', '__ne__', '__new__', '__or__', '__reduce__', '__reduce_ex__', '__repr__', '__reversed__', '__ror__', '__setattr__', '__setitem__', '__sizeof__', '__str__', '__subclasshook__', 'clear', 'copy', 'fromkeys', 'get', 'items', 'keys', 'pop', 'popitem', 'setdefault', 'update', 'values']\n",
      "\n",
      "<class 'set'> ['__and__', '__class__', '__class_getitem__', '__contains__', '__delattr__', '__dir__', '__doc__', '__eq__', '__format__', '__ge__', '__getattribute__', '__getstate__', '__gt__', '__hash__', '__iand__', '__init__', '__init_subclass__', '__ior__', '__isub__', '__iter__', '__ixor__', '__le__', '__len__', '__lt__', '__ne__', '__new__', '__or__', '__rand__', '__reduce__', '__reduce_ex__', '__repr__', '__ror__', '__rsub__', '__rxor__', '__setattr__', '__sizeof__', '__str__', '__sub__', '__subclasshook__', '__xor__', 'add', 'clear', 'copy', 'difference', 'difference_update', 'discard', 'intersection', 'intersection_update', 'isdisjoint', 'issubset', 'issuperset', 'pop', 'remove', 'symmetric_difference', 'symmetric_difference_update', 'union', 'update']\n"
     ]
    }
   ],
   "source": [
    "# dictionary와 set 자료형\n",
    "# {} 빈 객체이면 dictionay티입이고 값만 있을 경우 즉, {1}의 자료형은 set이다.\n",
    "print(type({}), dir({})) # dict자료형\n",
    "print()\n",
    "\n",
    "print(type({1}), dir({1})) # set자료형"
   ]
  },
  {
   "cell_type": "code",
   "execution_count": 105,
   "id": "1eaad7c4",
   "metadata": {},
   "outputs": [
    {
     "name": "stdout",
     "output_type": "stream",
     "text": [
      "<class 'list'>\n",
      "{'홍길동': '서울', '홍길자': '부산'} <class 'dict'>\n",
      "['홍길동', '홍길자'] <class 'list'>\n",
      "('홍길동', '홍길자') <class 'tuple'>\n",
      "(['홍길동', '서울'], ['홍길자', '부산']) <class 'tuple'>\n",
      "[['홍길동', '서울'], ['홍길자', '부산']] <class 'list'>\n"
     ]
    }
   ],
   "source": [
    "# 자료형변환함수\n",
    "# dict(x), list(x), tuple(x) : 변환함수\n",
    "# 매개값으로 주어진 x객체는 각 자료형으로 변환할 수 있는 형태의 자료이어야 한다.\n",
    "# dict()함수의 x객체는 key와 value한 쌍으로 구성된 자료이어야 한다.\n",
    "# list()함수의 x객체는 list형태로 tuple()함수의 x객체는 tuple형태로 변환할\n",
    "# 수 있는 형태이어야 한다.\n",
    "\n",
    "name_addr = [['홍길동', '서울'],['홍길자', '부산']]\n",
    "print(type(name_addr))\n",
    "\n",
    "# 1. dict()\n",
    "d = dict(name_addr)\n",
    "print(d, type(d))\n",
    "\n",
    "# name_addr = [['홍길동', '서울', 1],['홍길자', '부산', 2]]\n",
    "# d = dict(name_addr) # dict로 변환불가\n",
    "# print(d, type(d))\n",
    "\n",
    "# 2.list\n",
    "l = list(d)  #  dict -> list, key만 리스트의 값을 변환\n",
    "print(l, type(l))\n",
    "\n",
    "# 3. tuple\n",
    "t = tuple(d)   # dict -> tuple, key만 tuple의 값을 변환\n",
    "print(t, type(t))\n",
    "\n",
    "t = tuple(name_addr) # list -> tuple\n",
    "print(t, type(t))\n",
    "\n",
    "# 4. tuple -> list\n",
    "l = list(t)\n",
    "print(l, type(l))"
   ]
  },
  {
   "cell_type": "code",
   "execution_count": 108,
   "id": "afc8977d",
   "metadata": {},
   "outputs": [
    {
     "name": "stdout",
     "output_type": "stream",
     "text": [
      "{'홍길동': [1, 2, 3], '홍길순': 90, '홍길녀': ('x', 'y', 'z'), '홍길자': {1, 2, 3, 4, 5, 6}, '홍미녀': '이쁘다'}\n"
     ]
    },
    {
     "data": {
      "text/plain": [
       "{'홍길동': [1, 2, 3],\n",
       " '홍길순': 90,\n",
       " '홍길녀': ('x', 'y', 'z'),\n",
       " '홍길자': {1, 2, 3, 4, 5, 6},\n",
       " '홍미녀': '이쁘다'}"
      ]
     },
     "execution_count": 108,
     "metadata": {},
     "output_type": "execute_result"
    }
   ],
   "source": [
    "d = {'홍길동':[1,2,3],'홍길순':90,'홍길녀':('x','y', 'z'),\n",
    "     '홍길자':{1,2,3,4,5,6},'홍미녀':'이쁘다'}\n",
    "print(d)\n",
    "d"
   ]
  },
  {
   "cell_type": "code",
   "execution_count": 113,
   "id": "071e21fd",
   "metadata": {},
   "outputs": [
    {
     "name": "stdout",
     "output_type": "stream",
     "text": [
      "{'홍길동': [1, 2, 3], '홍길순': 90, '홍길녀': ('x', 'y', 'z'), '홍길자': {1, 2, 3, 4, 5, 6}, '홍미녀': '이쁘다'}\n",
      "\n",
      "{'홍길녀': ('x', 'y', 'z'),\n",
      " '홍길동': [1, 2, 3],\n",
      " '홍길순': 90,\n",
      " '홍길자': {1, 2, 3, 4, 5, 6},\n",
      " '홍미녀': '이쁘다'}\n",
      "\n",
      "['__annotations__', '__builtins__', '__call__', '__class__', '__closure__', '__code__', '__defaults__', '__delattr__', '__dict__', '__dir__', '__doc__', '__eq__', '__format__', '__ge__', '__get__', '__getattribute__', '__getstate__', '__globals__', '__gt__', '__hash__', '__init__', '__init_subclass__', '__kwdefaults__', '__le__', '__lt__', '__module__', '__name__', '__ne__', '__new__', '__qualname__', '__reduce__', '__reduce_ex__', '__repr__', '__setattr__', '__sizeof__', '__str__', '__subclasshook__']\n"
     ]
    }
   ],
   "source": [
    "# pprint : dict, list, tuple등의 자료를 읽기 쉽게 출력해 주는 모듈\n",
    "from pprint import pprint as pp\n",
    "print(d)\n",
    "print()\n",
    "\n",
    "pp(d)\n",
    "print()"
   ]
  },
  {
   "cell_type": "code",
   "execution_count": 115,
   "id": "6d7f8cfb",
   "metadata": {},
   "outputs": [
    {
     "name": "stdout",
     "output_type": "stream",
     "text": [
      "Defaulting to user installation because normal site-packages is not writeable\n"
     ]
    },
    {
     "name": "stderr",
     "output_type": "stream",
     "text": [
      "ERROR: Could not find a version that satisfies the requirement pprint (from versions: none)\n",
      "ERROR: No matching distribution found for pprint\n"
     ]
    }
   ],
   "source": [
    "# 해당모듈이 없을 경우 모듈을 설치하는 방법\n",
    "# pip(pytion install package) : python 패키지(모듈)를 설치하는 명령\n",
    "!pip install pprint"
   ]
  },
  {
   "cell_type": "code",
   "execution_count": 118,
   "id": "f12de676",
   "metadata": {},
   "outputs": [
    {
     "name": "stdout",
     "output_type": "stream",
     "text": [
      "Defaulting to user installation because normal site-packages is not writeable\n",
      "Requirement already satisfied: pip in c:\\anaconda3\\lib\\site-packages (23.2.1)\n"
     ]
    }
   ],
   "source": [
    "# pip프로그램을 upgrade가 되어야만 즉, 최신버전인 모듈을 설치하려면 \n",
    "# pip 프로그램도 upgrade를 시켜야할 때가 있다. 업그레이드를 시키는 명령\n",
    "!python -m pip install --upgrade pip"
   ]
  },
  {
   "cell_type": "markdown",
   "id": "9f110b40",
   "metadata": {},
   "source": [
    "##### 연습문제"
   ]
  },
  {
   "cell_type": "code",
   "execution_count": 121,
   "id": "3a1c4d3e",
   "metadata": {},
   "outputs": [
    {
     "name": "stdout",
     "output_type": "stream",
     "text": [
      "80\n",
      "{'A': 90, 'C': 70}\n"
     ]
    }
   ],
   "source": [
    "# 1. 딕셔너리 a에서 'B'에 해당되는 값을 추출하고 삭제\n",
    "a = {'A':90, 'B':80, 'C':70}\n",
    "# a.pop?\n",
    "result = a.pop('B')\n",
    "print(result)\n",
    "print(a)"
   ]
  },
  {
   "cell_type": "code",
   "execution_count": 124,
   "id": "7abae9fd",
   "metadata": {},
   "outputs": [
    {
     "name": "stdout",
     "output_type": "stream",
     "text": [
      "최소값 =  70\n",
      "최대값 =  90\n"
     ]
    }
   ],
   "source": [
    "# 2. 딕셔너리 a의 value중에서 최소/최대 값을 출력  min(), max()\n",
    "# 내장함수 min() 함수\n",
    "a = {'A':90, 'B':80, 'C':70}\n",
    "print('최소값 = ', min(a.values()))\n",
    "print('최대값 = ', max(a.values()))"
   ]
  },
  {
   "cell_type": "code",
   "execution_count": 127,
   "id": "1603c3ae",
   "metadata": {},
   "outputs": [
    {
     "name": "stdout",
     "output_type": "stream",
     "text": [
      "dict_items([('A', 90), ('B', 80), ('C', 70)])\n",
      "리스트 =  [('A', 90), ('B', 80), ('C', 70)]\n",
      "\n",
      "[('A', 70), ('B', 80), ('C', 90)]\n"
     ]
    }
   ],
   "source": [
    "# 3. 딕셔너리 a를 다음과 같은 리스트로 변환 list(), list로 변환된 변수를 \n",
    "#  dict으로 변환 dict()\n",
    "# a = {'A':90, 'B':80, 'C':70}\n",
    "# [('A', 90), ('B', 80), ('C', 70)]\n",
    "\n",
    "a = {'A':90, 'B':80, 'C':70}\n",
    "print(a.items())\n",
    "print('리스트 = ', list(a.items()))\n",
    "print()\n",
    "\n",
    "b = {'C':90, 'B':80, 'A':70}\n",
    "print(sorted(list(b.items()))) # key순으로 정렬"
   ]
  },
  {
   "cell_type": "code",
   "execution_count": 138,
   "id": "fea98b9c",
   "metadata": {},
   "outputs": [
    {
     "name": "stdout",
     "output_type": "stream",
     "text": [
      "[300, 20]\n",
      "<class 'list'>\n",
      "300\n",
      "메로나의 재고수량은 20, 가격은 300원입니다!\n",
      "\n",
      "조스바의 재고수량은 20, 가격은 250원입니다!\n"
     ]
    }
   ],
   "source": [
    "# 4. 딕셔너리 인덱싱\n",
    "# 1) 메로나의 재고수량?, 2) 조스바의 재고수량은?\n",
    "inventory = {'메로나':[300, 20], \n",
    "             '비비빅':[400, 3], \n",
    "             '붕어빵':[200, 10], \n",
    "             '조스바':{'가격':250, '재고':20}}\n",
    "\n",
    "# 메로나의 재고수량\n",
    "print(inventory['메로나'])\n",
    "print(type(inventory['메로나']))\n",
    "print(inventory['메로나'][0])\n",
    "print(f'메로나의 재고수량은 {inventory[\"메로나\"][1]},' \\\n",
    "      f' 가격은 {inventory[\"메로나\"][0]}원입니다!')\n",
    "print()\n",
    "\n",
    "print(f'조스바의 재고수량은 {inventory[\"조스바\"][\"재고\"]},' \n",
    "      f' 가격은 {inventory[\"조스바\"][\"가격\"]}원입니다!')"
   ]
  }
 ],
 "metadata": {
  "kernelspec": {
   "display_name": "Python 3 (ipykernel)",
   "language": "python",
   "name": "python3"
  },
  "language_info": {
   "codemirror_mode": {
    "name": "ipython",
    "version": 3
   },
   "file_extension": ".py",
   "mimetype": "text/x-python",
   "name": "python",
   "nbconvert_exporter": "python",
   "pygments_lexer": "ipython3",
   "version": "3.11.5"
  }
 },
 "nbformat": 4,
 "nbformat_minor": 5
}
