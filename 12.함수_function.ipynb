{
 "cells": [
  {
   "cell_type": "markdown",
   "id": "c88dc588",
   "metadata": {},
   "source": [
    "# 함수(function)\n",
    "\n",
    "* 함수란? 프로그램을 작성하다 보면 동일한 내용을 반복해서 작성하는 경우\n",
    "* 이런 `반복적인 코드를 함수로 선언`하고 필요시 `재사용`할 수 있도록 한다.\n",
    "* 파이썬은 함수(function)라는 기능을 제공하고 있는데 `특정용도의 코드를 모아놓은 곳`을 의미하는데 input(), print()등이 파이썬에서 내장되어 있는 `내장함수`이고\n",
    "* 사용정의한 `사용자함수`가 있다.\n",
    "\n",
    "## 1. 함수사용의 이점\n",
    "\n",
    "1. 코드를 사용목적에 따라 구분관리가 가능하다.\n",
    "1. `코드의 재사용`을 할 수 있다.\n",
    "1. 코딩의 실수, 시간등을 줄일 수가 있다.\n",
    "\n",
    "## 2. 함수선언방법\n",
    ">* `def 예약어로 선언`한다.\n",
    ">* 선언방법\n",
    ">>def 함수명(arg1,...argn):\n",
    ">>pass\n",
    "\n",
    "* 함수명은 명명규칙에 맞게 사용자가 임의로 부여한다.\n",
    "* 함수의 호출은 `함수명() or 함수명(arg1,...argn)`의 형태로 호출한다.\n",
    "* 매개변수와 인자: `매개변수(parameter)와 인자(인수, argument)`라는 단어는 혼용해서 사용하는데 엄밀히 구분하자면 매개변수는 함수에 입력으로 전달되는 값을 받는 변수이고 인수(인자) 함수호출할 때 전달하는 값을 의미\n",
    "\n",
    "## 3. 함수호출 및 전달방법\n",
    "\n",
    "><img src=\"./images/12.함수_function_01.png\" width=\"300\" height=\"150\" />\n",
    "><img src=\"./images/12.함수_function_02.png\" width=\"300\" height=\"150\" />\n",
    "\n",
    "## 4. 반환값이 있는 함수(return)\n",
    "\n",
    ">* 함수는 반환값이 있는 함수와 없는 함수가 있다.\n",
    ">* 반환값이 있는 경우는 반드시 값을 반환해 주는 명령어인 `return`문이 있어야 한다.\n",
    "><img src=\"./images/12.함수_function_02_01.png\" width=\"300\" height=\"150\" />"
   ]
  },
  {
   "cell_type": "code",
   "execution_count": 5,
   "id": "4305b6c0",
   "metadata": {},
   "outputs": [
    {
     "name": "stdout",
     "output_type": "stream",
     "text": [
      "Hello World!!\n",
      "Variable   Type        Data/Info\n",
      "--------------------------------\n",
      "hello      function    <function hello at 0x0000022175F8D800>\n",
      "<class 'function'>\n",
      "['__annotations__', '__builtins__', '__call__', '__class__', '__closure__', '__code__', '__defaults__', '__delattr__', '__dict__', '__dir__', '__doc__', '__eq__', '__format__', '__ge__', '__get__', '__getattribute__', '__getstate__', '__globals__', '__gt__', '__hash__', '__init__', '__init_subclass__', '__kwdefaults__', '__le__', '__lt__', '__module__', '__name__', '__ne__', '__new__', '__qualname__', '__reduce__', '__reduce_ex__', '__repr__', '__setattr__', '__sizeof__', '__str__', '__subclasshook__']\n"
     ]
    }
   ],
   "source": [
    "# 1. 함수 선언하기\n",
    "# 'Hello World!!'를 출력하는 함수(hello)작성하기\n",
    "def hello():\n",
    "    print('Hello World!!')\n",
    "    \n",
    "# 2. 함수호출하기\n",
    "hello()\n",
    "\n",
    "%whos\n",
    "print(type(hello))\n",
    "print(dir(hello))"
   ]
  },
  {
   "cell_type": "code",
   "execution_count": 27,
   "id": "1f78c126",
   "metadata": {},
   "outputs": [
    {
     "name": "stdout",
     "output_type": "stream",
     "text": [
      "10 + 20 = 30\n",
      "10 + 20 = 30\n",
      "None\n",
      "\n",
      "10 + 10 = 20\n",
      "\n",
      "Hello?\n",
      "소향님 환영합니다!!\n"
     ]
    }
   ],
   "source": [
    "# 3. 함수사용하기\n",
    "# 1) 반환값이 없는 경우\n",
    "def add(a, b):\n",
    "    print(f'{a} + {b } = {a+b}')\n",
    "add(10,20)\n",
    "result = add(10,20)\n",
    "print(result) # None\n",
    "print()\n",
    "\n",
    "# 2) 반환값이 있는 경우\n",
    "def add_return(a, b):\n",
    "    return a+b;\n",
    "\n",
    "a = b = 10\n",
    "result = add_return(a,b)\n",
    "print(f'{a} + {b } = {result}')  # 반환값\n",
    "print()\n",
    "\n",
    "# 3) 절달값이 없는 경우\n",
    "def say():\n",
    "    print('Hello?')\n",
    "say()\n",
    "# say('소향') # TypeError\n",
    "\n",
    "# 4) 전달값이 있는 경우\n",
    "def say_hello(name):\n",
    "    print(f'{name}님 환영합니다!!')\n",
    "    \n",
    "say_hello('소향')\n",
    "# say_hello()  # TypeError:"
   ]
  },
  {
   "cell_type": "code",
   "execution_count": 25,
   "id": "8c16155e",
   "metadata": {},
   "outputs": [
    {
     "name": "stdout",
     "output_type": "stream",
     "text": [
      "20 - 10 = 10\n",
      "10 - 20 = -10\n",
      "\n",
      "10 - 20 = -10\n",
      "10 - 20 = -10\n",
      "10 - 20 = 10\n"
     ]
    }
   ],
   "source": [
    "# 매개변수에 이름을 부여하기\n",
    "# 장점 : 매개변수의 순서와 상관없이 자유롭게 호출이 가능\n",
    "def sub(a=90, b=10):\n",
    "    return a - b\n",
    "a, b, = 20, 10\n",
    "print(f'{a} - {b} = {sub(a, b)}')\n",
    "\n",
    "x, y, = 10, 20\n",
    "print(f'{x} - {y} = {sub(x, y)}')\n",
    "print()\n",
    "\n",
    "print(f'{x} - {y} = {sub(a=x, b=y)}')\n",
    "print(f'{x} - {y} = {sub(b=y, a=x)}')\n",
    "print(f'{x} - {y} = {sub(a=y, b=x)}')\n",
    "\n",
    "# print(f'{x} - {y} = {sub(xxx=y, b=x)}')\n",
    "# 매개변수의 이름을 지정할 경우 반드시 함수의 매개변수이름과 동일해야 한다."
   ]
  },
  {
   "cell_type": "markdown",
   "id": "5eaf36ec",
   "metadata": {},
   "source": [
    "## 5. 함수의 Docstring\n",
    "\n",
    "* 파이썬에서는 함수의 콜론(:) 바로 다음줄에 `큰 따옴표 3개로 문자열을 입력`하면\n",
    "* 사용자정의함수에 주석(설명)을 정의할 수 있다.\n",
    "* 이런 방식의 문자열을 파이썬에서는 `Docstring, Documentation String, 문서화문자열`이라고 한다.\n",
    "* `Docstring은 맨 위에 정의`가 되어야 한다. DocString위에 다른 코드 정의 불가\n",
    "* Docstring은 작은 따옴표 or 큰 따옴표로 정의가능하지만 '파이썬코딩스타일가이드(PEP8)에서는 큰 따옴표 3개로 작성을 권장한다.'\n",
    "* Docstring은 함수의 사용방버만 기록할 뿐이고 함수를 호출해도 출려되지 않는다.\n",
    "* Docstring을 출력하려면 `함수명.__doc__`와 같이 doc변수값이 출력 된다.\n",
    "* 또는 `help(), ?함수명`을 사용하면 도움말형태로 출력된다."
   ]
  },
  {
   "cell_type": "code",
   "execution_count": 33,
   "id": "9009c205",
   "metadata": {},
   "outputs": [
    {
     "name": "stdout",
     "output_type": "stream",
     "text": [
      "['__call__', '__class__', '__delattr__', '__dir__', '__doc__', '__eq__', '__format__', '__ge__', '__getattribute__', '__getstate__', '__gt__', '__hash__', '__init__', '__init_subclass__', '__le__', '__lt__', '__module__', '__name__', '__ne__', '__new__', '__qualname__', '__reduce__', '__reduce_ex__', '__repr__', '__self__', '__setattr__', '__sizeof__', '__str__', '__subclasshook__', '__text_signature__']\n",
      "<class 'str'>\n"
     ]
    }
   ],
   "source": [
    "print(dir(print))\n",
    "print(type(print.__doc__))"
   ]
  },
  {
   "cell_type": "code",
   "execution_count": 42,
   "id": "80eee4e3",
   "metadata": {},
   "outputs": [
    {
     "name": "stdout",
     "output_type": "stream",
     "text": [
      "10 - 10 = 20\n",
      "\n",
      "        이 함수는 2개의 변수를 전달 받아서\n",
      "        그 값의 합을 전달해 주는 함수이다.\n",
      "    \n",
      "['__annotations__', '__builtins__', '__call__', '__class__', '__closure__', '__code__', '__defaults__', '__delattr__', '__dict__', '__dir__', '__doc__', '__eq__', '__format__', '__ge__', '__get__', '__getattribute__', '__getstate__', '__globals__', '__gt__', '__hash__', '__init__', '__init_subclass__', '__kwdefaults__', '__le__', '__lt__', '__module__', '__name__', '__ne__', '__new__', '__qualname__', '__reduce__', '__reduce_ex__', '__repr__', '__setattr__', '__sizeof__', '__str__', '__subclasshook__']\n",
      "\n",
      "<class 'builtin_function_or_method'>\n",
      "['__new__', '__repr__', '__call__', '__get__', '__closure__', '__doc__', '__globals__', '__module__', '__builtins__', '__code__', '__defaults__', '__kwdefaults__', '__annotations__', '__dict__', '__name__', '__qualname__', '__hash__', '__str__', '__getattribute__', '__setattr__', '__delattr__', '__lt__', '__le__', '__eq__', '__ne__', '__gt__', '__ge__', '__init__', '__reduce_ex__', '__reduce__', '__getstate__', '__subclasshook__', '__init_subclass__', '__format__', '__sizeof__', '__dir__', '__class__']\n"
     ]
    }
   ],
   "source": [
    "def add_docstring(num1, num2):\n",
    "    \"\"\"\n",
    "        이 함수는 2개의 변수를 전달 받아서\n",
    "        그 값의 합을 전달해 주는 함수이다.\n",
    "    \"\"\"\n",
    "    return a+b\n",
    "\n",
    "print(f'{a} - {b} = {add_docstring(a, b)}')\n",
    "print(add_docstring.__doc__)\n",
    "print(dir(add_docstring))\n",
    "print()\n",
    "\n",
    "print(type(add_docstring.__dir__))\n",
    "print(add_docstring.__dir__())"
   ]
  },
  {
   "cell_type": "markdown",
   "id": "d8e3b24d",
   "metadata": {},
   "source": [
    "## 6. 여러개의 값을 반환하는 함수\n"
   ]
  },
  {
   "cell_type": "code",
   "execution_count": 51,
   "id": "9803407f",
   "metadata": {},
   "outputs": [
    {
     "name": "stdout",
     "output_type": "stream",
     "text": [
      "(30, 10, 200, 2.0) <class 'tuple'>\n",
      "(30, 10, 200, 2.0)\n",
      "\n",
      "30 10 200 2.0\n"
     ]
    }
   ],
   "source": [
    "# 함수에서 여러개의 값을 반환하기\n",
    "def muilt_return(num1, num2):\n",
    "    return num1 + num2, num1 - num2, num1 * num2, num1 / num2\n",
    "\n",
    "print(muilt_return(20, 10), type(muilt_return(20, 10)))\n",
    "\n",
    "result = muilt_return(20, 10)\n",
    "print(result)\n",
    "print()\n",
    "\n",
    "a, b, c, d = muilt_return(20, 10)\n",
    "print(a, b, c, d)\n",
    "\n",
    "# 변수의 갯수와 리턴갯수가 다를 경우에는 에러발생\n",
    "# 즉, 변수갯수와 리턴갯수는 동수이어야 한다.\n",
    "# a, b, c, d, e = muilt_return(20, 10) # 리턴갯수보다 변수갯수가 많을 경우 에러\n",
    "# a, b, c = muilt_return(20, 10) # 변수갯수가 리턴갯수보다 많을 경우 에러"
   ]
  },
  {
   "cell_type": "markdown",
   "id": "e2b130bc",
   "metadata": {},
   "source": [
    "## 7. 입력되는 매개변수가 몇개인지 모를 경우\n",
    "\n",
    ">def 함수명(`*args`): pass\n",
    ">> `*args의 데이터타입은 tuple`\n",
    ">> `*args는 예약어가 아닌 변수로 처리되기 때문에 '*임의의 변수명'형태로 정의`\n",
    "\n",
    ">def 함수명(`**kwargs`): pass\n",
    ">>1. `*kwargs 데이터타입은 dictionary` \n",
    ">>1. `**kwargs`는 keyword arguments의 약어이다.\n",
    ">>1. `**kwargs`은 `*args`와는 다르게 별표가 2개로 정의한다.\n",
    ">>1. 이 의미는 함수의 인수로 `**kwargs`로 주어 졌다면 `key와 value`의 한쌍\n",
    ">>1. 이 인수의 자료형은 `dict 타입으로 변환되어 전달`된다."
   ]
  },
  {
   "cell_type": "code",
   "execution_count": 68,
   "id": "101e8a5e",
   "metadata": {},
   "outputs": [
    {
     "name": "stdout",
     "output_type": "stream",
     "text": [
      "<class 'tuple'> 1\n",
      "합계 = 1\n",
      "<class 'tuple'> 3\n",
      "합계 = 6\n",
      "<class 'tuple'> 10\n",
      "합계 = 55\n"
     ]
    }
   ],
   "source": [
    "# 1. *args : 입력되는 값이 여러개일 경우 정의하는 매개변수이다.\n",
    "# 1~100까지의 합 or 1000, 10000...처럼 가변적일 경우에 사용\n",
    "def my_sum(*args):\n",
    "    print(type(args), len(args))\n",
    "    sum = 0\n",
    "    for i in args:\n",
    "        sum += i\n",
    "    return sum\n",
    "\n",
    "print(f'합계 = {my_sum(1)}')\n",
    "print(f'합계 = {my_sum(1,2,3)}')\n",
    "print(f'합계 = {my_sum(1,2,3,4,5,6,7,8,9,10)}')"
   ]
  },
  {
   "cell_type": "code",
   "execution_count": 79,
   "id": "1b0a27f6",
   "metadata": {},
   "outputs": [
    {
     "name": "stdout",
     "output_type": "stream",
     "text": [
      "55\n",
      "-6\n",
      "0\n",
      "0.0\n"
     ]
    }
   ],
   "source": [
    "# 실습 : 유동적으로 작동되는 계산기 함수 만들기\n",
    "# 사칙연산을 하는 계산기 함수 calculator(operator, *args)\n",
    "# operator -> +, -, *, /\n",
    "# hint) if, for\n",
    "def calculator(operator, *xxx):\n",
    "    result = 0\n",
    "    \n",
    "    if operator == '+':\n",
    "        for i in xxx:\n",
    "            result += i\n",
    "\n",
    "    if operator == '-':\n",
    "        for i in xxx:\n",
    "            result -= i\n",
    "    \n",
    "    if operator == '*':\n",
    "        for i in xxx:\n",
    "            result *= i\n",
    "            \n",
    "    if operator == '/':\n",
    "        for i in xxx:\n",
    "            result /= i\n",
    "    \n",
    "    return result\n",
    "\n",
    "\n",
    "print(calculator('+',1,2,3,4,5,6,7,8,9,10))\n",
    "print(calculator('-',1,2,3,))\n",
    "print(calculator('*',1,2,))\n",
    "print(calculator('/',1,2,3,4,5,6,7))"
   ]
  },
  {
   "cell_type": "code",
   "execution_count": 84,
   "id": "041777c2",
   "metadata": {},
   "outputs": [
    {
     "name": "stdout",
     "output_type": "stream",
     "text": [
      "<class 'dict'> {'a': 1}\n",
      "<class 'dict'> {'a': 1, 'b': 2}\n",
      "<class 'dict'> {'name': '소향', 'age': 43, 'addr': '서울'}\n"
     ]
    }
   ],
   "source": [
    "# 2. **kwargs\n",
    "def kw_func(**kwargs):\n",
    "    print(type(kwargs), kwargs)\n",
    "\n",
    "kw_func(a=1)\n",
    "kw_func(a=1, b=2)\n",
    "# kw_func(1) # TypeError : kwargs는 반드시 키와 값의 한 쌍으로 전달해야 한다.\n",
    "kw_func(name='소향', age=43, addr='서울')"
   ]
  },
  {
   "cell_type": "code",
   "execution_count": 97,
   "id": "2d1127f8",
   "metadata": {},
   "outputs": [
    {
     "ename": "SyntaxError",
     "evalue": "positional argument follows keyword argument (4227402814.py, line 11)",
     "output_type": "error",
     "traceback": [
      "\u001b[1;36m  Cell \u001b[1;32mIn[97], line 11\u001b[1;36m\u001b[0m\n\u001b[1;33m    mix_func(name='소향', age=43, addr='서울', 1,2,3,4,5,6)\u001b[0m\n\u001b[1;37m                                                      ^\u001b[0m\n\u001b[1;31mSyntaxError\u001b[0m\u001b[1;31m:\u001b[0m positional argument follows keyword argument\n"
     ]
    }
   ],
   "source": [
    "# 3. *args와 **kwargs를 같이 사용할 경우\n",
    "# 값만 있는 경우와 key=value로 전달할 경우에는 정의된 순서에 맞게 전달해야 한다.\n",
    "def mix_func(*args, **kwargs):\n",
    "    print(args, kwargs)\n",
    "    \n",
    "mix_func(1, name='소향')\n",
    "mix_func(1,2,3,4,5,6, name='소향', age=43, addr='서울')\n",
    "# mix_func(1,2,3,4,5, name='소향', 'xxx', age=43, addr='서울') # SyntaxError\n",
    "# *args, **kwargs에 순서에 맞게 전달되지 않았기 때문에 에러 발생\n",
    "\n",
    "mix_func(name='소향', age=43, addr='서울', 1,2,3,4,5,6)"
   ]
  },
  {
   "cell_type": "markdown",
   "id": "2d6ed891",
   "metadata": {},
   "source": [
    "## 8. 전달되는 인자를 이름으로 정의하기"
   ]
  },
  {
   "cell_type": "code",
   "execution_count": 101,
   "id": "c490e232",
   "metadata": {},
   "outputs": [
    {
     "name": "stdout",
     "output_type": "stream",
     "text": [
      "이름=소향, 나이=43, 주소=서울\n",
      "이름=43, 나이=서울, 주소=소향\n",
      "\n",
      "이름=소향, 나이=43, 주소=서울\n",
      "이름=소향, 나이=43, 주소=서울\n"
     ]
    }
   ],
   "source": [
    "# 개인정보를 출력하는 예제\n",
    "def personal_intro(name, age, addr):\n",
    "    print(f'이름={name}, 나이={age}, 주소={addr}')\n",
    "    \n",
    "personal_intro('소향', 43, '서울')\n",
    "personal_intro(43, '서울', '소향') # 문법에러는 아니지만 로직에러이다.\n",
    "print()\n",
    "\n",
    "personal_intro('소향', 43, '서울')\n",
    "personal_intro(age=43, addr='서울', name='소향')"
   ]
  },
  {
   "cell_type": "markdown",
   "id": "90e77a84",
   "metadata": {},
   "source": [
    "## dictionary unpacking\n",
    "\n",
    "><img src='./images/12.함수_function_04.png' width=\"300\" height=\"200\" />\n",
    "\n",
    "* unpacking할 경우 주의할 점은 변수와 값이 동수이어야 한다."
   ]
  },
  {
   "cell_type": "code",
   "execution_count": 115,
   "id": "0025b587",
   "metadata": {},
   "outputs": [
    {
     "name": "stdout",
     "output_type": "stream",
     "text": [
      "이름={'name': '소향', 'age': 43, 'addr': '서울'}, 나이={'name': '소향', 'age': 43, 'addr': '서울'}, 주소={'name': '소향', 'age': 43, 'addr': '서울'}\n",
      "\n",
      "이름=소향, 나이=43, 주소=서울\n",
      "이름=name, 나이=xxx, 주소=addr\n",
      "\n",
      "이름=나얼, 나이=45, 주소=부산\n"
     ]
    }
   ],
   "source": [
    "# dict unpacking\n",
    "def personal_intro(name, age, addr):\n",
    "    print(f'이름={name}, 나이={age}, 주소={addr}')\n",
    "    \n",
    "x = {'name': '소향', 'age': 43, 'addr': '서울'}\n",
    "personal_intro(x,x,x)\n",
    "# personal_intro(x,x,x,x)\n",
    "print()\n",
    "\n",
    "personal_intro(**x)\n",
    "\n",
    "x = {'name': '소향', 'xxx': 43, 'addr': '서울'}\n",
    "# personal_intro(**x) # age와 맵핑되는 정보가 없기 때문에 에러(변수명으로 맵핑)\n",
    "\n",
    "personal_intro(*x) # *일경우 키가 값으로 전달 \n",
    "print()\n",
    "\n",
    "y = {'age': 45, 'addr': '부산', 'name': '나얼'}\n",
    "personal_intro(**y)"
   ]
  },
  {
   "cell_type": "code",
   "execution_count": 119,
   "id": "dd5c04ee",
   "metadata": {},
   "outputs": [
    {
     "name": "stdout",
     "output_type": "stream",
     "text": [
      "<class 'tuple'> (20, 0, 100, 1.0)\n",
      "<class 'int'> 20\n"
     ]
    }
   ],
   "source": [
    "# return문이 여러개 있을 경우\n",
    "def calculator1(a, b):\n",
    "    return a+b,a-b,a*b,a/b\n",
    "\n",
    "def calculator2(a, b):\n",
    "    return a+b\n",
    "    return a-b\n",
    "    return a*b\n",
    "    return a/b\n",
    "\n",
    "result = calculator1(10,10)\n",
    "print(type(result), result)\n",
    "\n",
    "result = calculator2(10,10)\n",
    "print(type(result), result)"
   ]
  },
  {
   "cell_type": "markdown",
   "id": "9192aae7",
   "metadata": {},
   "source": [
    "## 10. 매개변수에 초기값을 사전에 설정해서 전달"
   ]
  },
  {
   "cell_type": "code",
   "execution_count": 124,
   "id": "3be6854a",
   "metadata": {},
   "outputs": [
    {
     "name": "stdout",
     "output_type": "stream",
     "text": [
      "이름은 홍길동입니다. 나이는 1000살입니다. 나는 여자입니다!\n",
      "이름은 홍길동입니다. 나이는 1000살입니다. 나는 남자입니다!\n",
      "이름은 소향입니다. 나이는 45살입니다. 나는 여자입니다!\n"
     ]
    }
   ],
   "source": [
    "# 1. 매개변수에 초기값을 설정하기\n",
    "def selfIntro1(name, age, gender):\n",
    "    print(f'이름은 {name}입니다. 나이는 {age}살입니다.', end=' ')\n",
    "    if gender:\n",
    "        print('나는 남자입니다!')\n",
    "    else:\n",
    "        print('나는 여자입니다!')\n",
    "        \n",
    "selfIntro1('홍길동', 1000, False)  # 변수개수 <> 값개수\n",
    "\n",
    "def selfIntro2(name, age, gender=True):\n",
    "    print(f'이름은 {name}입니다. 나이는 {age}살입니다.', end=' ')\n",
    "    if gender:\n",
    "        print('나는 남자입니다!')\n",
    "    else:\n",
    "        print('나는 여자입니다!')\n",
    "        \n",
    "selfIntro2('홍길동', 1000)       \n",
    "selfIntro2('소향', 45, False)   "
   ]
  },
  {
   "cell_type": "code",
   "execution_count": 133,
   "id": "ebbe48fe",
   "metadata": {},
   "outputs": [
    {
     "ename": "SyntaxError",
     "evalue": "non-default argument follows default argument (2850313507.py, line 14)",
     "output_type": "error",
     "traceback": [
      "\u001b[1;36m  Cell \u001b[1;32mIn[133], line 14\u001b[1;36m\u001b[0m\n\u001b[1;33m    def selfIntro4(name, gender=True, age):\u001b[0m\n\u001b[1;37m                                      ^\u001b[0m\n\u001b[1;31mSyntaxError\u001b[0m\u001b[1;31m:\u001b[0m non-default argument follows default argument\n"
     ]
    }
   ],
   "source": [
    "# 2. 초기값설정시 주의사항\n",
    "# 초기화시키는 매개변수는 항상 맨 뒤에 위치해야 한다.\n",
    "# default argument라고 한다.\n",
    "def selfIntro3(name, age, gender=True):\n",
    "    print(f'이름은 {name}입니다. 나이는 {age}살입니다.', end=' ')\n",
    "    if gender:\n",
    "        print('나는 남자입니다!')\n",
    "    else:\n",
    "        print('나는 여자입니다!')\n",
    "        \n",
    "selfIntro3('홍길동', 1000)          \n",
    "selfIntro3('소향', 45, False)  \n",
    "\n",
    "def selfIntro4(name, gender=True, age):\n",
    "# SyntaxError: non-default argument follows default argument\n",
    "    print(f'이름은 {name}입니다. 나이는 {age}살입니다.', end=' ')\n",
    "    if gender:\n",
    "        print('나는 남자입니다!')\n",
    "    else:\n",
    "        print('나는 여자입니다!')  "
   ]
  },
  {
   "cell_type": "markdown",
   "id": "b0a4f70b",
   "metadata": {},
   "source": [
    "## 11. lambda함수\n",
    "\n",
    "* 파이썬에서 `lambda함수`란? 런타임시에 사용할 수 있는 `익명함수`이다.\n",
    "* lambda함수를 생성할 때 사용하는 예약어로 def로 함수를 정의하는다는 점에서는 동일하지만 일반함수는 함수명을 가져야 하지만 `lambda로 생성되는 함수는 이름이 없다`\n",
    "* 그래서 이름이 없기 때문에 익명함수라 한다.\n",
    "* lambda함수를 사용하는 가장 큰 이유는 수행할 명령이 한 문장만 있는 함수와 같이\n",
    "  1. def로 생성할 정도로 복잡하지 않거나\n",
    "  1. def를 사용할 수 없는 곳에서 사용이 가능\n",
    "  1. lambda사용법\n",
    "  >* `lambda arg...: 매개변수를 이용한 한줄의 실행문`\n",
    "  >* lambda식이 나오게 된 가장 큰 이유는 `def보다 간결`하게 사용할 수 있다.\n",
    "  >* def로 함수를 정의할 수 없는 곳에서도 사용이 가능하다.  "
   ]
  },
  {
   "cell_type": "code",
   "execution_count": 149,
   "id": "75a2a723",
   "metadata": {},
   "outputs": [
    {
     "name": "stdout",
     "output_type": "stream",
     "text": [
      "10 + 10 = 20\n",
      "<class 'function'>\n",
      "<class 'function'>\n",
      "\n",
      "일반함수 : 10 + 10 = 20\n",
      "람다합수 : 10 + 10 = 20\n",
      "\n",
      "나의 이름은 소향입니다.\n",
      "\n",
      "나의 이름은 홍길동입니다.\n"
     ]
    }
   ],
   "source": [
    "# 1. def로 생성할 정도로 복잡하지 않은 경우\n",
    "def add(a, b):\n",
    "    return a+b\n",
    "print(f'{10} + {10} = {add(10,10)}')\n",
    "print(type(a))\n",
    "\n",
    "# lambda함수 즉, 익명함수\n",
    "add_lambda = lambda a,b:a+b\n",
    "print(type(add_lambda))\n",
    "print()\n",
    "\n",
    "print(f'일반함수 : 10 + 10 = {add(10,10)}')\n",
    "print(f'람다합수 : 10 + 10 = {add_lambda(10,10)}')\n",
    "print()\n",
    "\n",
    "a = lambda name: print(f'나의 이름은 {name}입니다.')\n",
    "a('소향')\n",
    "print()\n",
    "\n",
    "a = lambda : print(f'나의 이름은 홍길동입니다.')\n",
    "a()"
   ]
  },
  {
   "cell_type": "code",
   "execution_count": 159,
   "id": "c7aac93f",
   "metadata": {},
   "outputs": [
    {
     "name": "stdout",
     "output_type": "stream",
     "text": [
      "더하기=2, 뺴기=0\n",
      "더하기=2, 뺴기=0\n",
      "\n",
      "<class 'list'> <class 'function'> <class 'function'>\n",
      "15 5\n",
      "<class 'list'> [15, 5]\n"
     ]
    }
   ],
   "source": [
    "# 2. def를 사용할 수 없는 곳에서 함수를 사용할 경우\n",
    "def sum(a, b): return a+b\n",
    "def sub(a, b): return a-b\n",
    "\n",
    "x = sum(1,1)\n",
    "y = sub(1,1)\n",
    "l1 = [x, y]\n",
    "print(f'더하기={l1[0]}, 뺴기={l1[1]}')\n",
    "\n",
    "l2 = [sum(1,1), sub(1,1)]\n",
    "print(f'더하기={l2[0]}, 뺴기={l2[1]}')\n",
    "print()\n",
    "\n",
    "# l3 = [def sum(a, b): return a+b, def sub(a, b): return a-b] # SyntaxError\n",
    "l3 = [lambda a,b:a+b, lambda a,b:a-b]\n",
    "print(type(l3), type(l3[0]), type(l3[1]))\n",
    "print(l3[0](10,5), l3[1](10,5))\n",
    "\n",
    "l4 = [l3[0](10,5), l3[1](10,5)]\n",
    "print(type(l4), l4)"
   ]
  },
  {
   "cell_type": "markdown",
   "id": "f31a34ec",
   "metadata": {},
   "source": [
    "##### 연습문제"
   ]
  },
  {
   "cell_type": "code",
   "execution_count": 10,
   "id": "654c69ab",
   "metadata": {},
   "outputs": [
    {
     "name": "stdout",
     "output_type": "stream",
     "text": [
      "짝수입니다!\n",
      "홀수입니다!\n",
      "\n",
      "홀수입니다!\n",
      "짝수입니다!\n",
      "\n",
      "홀수입니다!\n",
      "짝수입니다!\n",
      "\n",
      "홀수입니다!\n"
     ]
    }
   ],
   "source": [
    "# 1. 홀수, 짝수를 구변하는 is_odd()함수를 작성\n",
    "# 주어진 숫자가 홀수인지 짝수인지를 구별해서\n",
    "# '짝수입니다' or '홀수입니다'를 출력하세요\n",
    "# 1) 일반함수 is_odd(number)\n",
    "def is_odd(n):\n",
    "    if n%2 == 0:\n",
    "        print('짝수입니다!')\n",
    "    else:\n",
    "        print('홀수입니다!')\n",
    "        \n",
    "is_odd(2)\n",
    "is_odd(1)\n",
    "print()\n",
    "\n",
    "# 2) lambda함수 - return이 없는 경우\n",
    "is_odd_lambda1 = lambda n: print('짝수입니다!') if n%2==0 else print('홀수입니다!')\n",
    "is_odd_lambda1(1)\n",
    "is_odd_lambda1(2)\n",
    "print()\n",
    "\n",
    "# 3) lambda함수 - return이 생략된 경우\n",
    "is_odd_lambda2 = lambda xxx: '짝수입니다!' if xxx%2==0 else '홀수입니다!'\n",
    "print(is_odd_lambda2(1))\n",
    "print(is_odd_lambda2(2))\n",
    "print()\n",
    "\n",
    "result = is_odd_lambda2(1)\n",
    "print(result)"
   ]
  },
  {
   "cell_type": "code",
   "execution_count": 102,
   "id": "9329431d",
   "metadata": {},
   "outputs": [
    {
     "ename": "UnboundLocalError",
     "evalue": "cannot access local variable 'result' where it is not associated with a value",
     "output_type": "error",
     "traceback": [
      "\u001b[1;31m---------------------------------------------------------------------------\u001b[0m",
      "\u001b[1;31mUnboundLocalError\u001b[0m                         Traceback (most recent call last)",
      "Cell \u001b[1;32mIn[102], line 10\u001b[0m\n\u001b[0;32m      7\u001b[0m         result \u001b[38;5;241m+\u001b[39m\u001b[38;5;241m=\u001b[39m num\n\u001b[0;32m      8\u001b[0m     \u001b[38;5;28;01mreturn\u001b[39;00m(result \u001b[38;5;241m/\u001b[39m \u001b[38;5;28mlen\u001b[39m(numbers))\n\u001b[1;32m---> 10\u001b[0m \u001b[38;5;28mprint\u001b[39m(funcAvg(\u001b[38;5;241m1\u001b[39m,\u001b[38;5;241m2\u001b[39m,\u001b[38;5;241m3\u001b[39m,\u001b[38;5;241m4\u001b[39m,\u001b[38;5;241m5\u001b[39m))\n\u001b[0;32m     11\u001b[0m \u001b[38;5;28mprint\u001b[39m(funcAvg(\u001b[38;5;241m1\u001b[39m,\u001b[38;5;241m2\u001b[39m,\u001b[38;5;241m3\u001b[39m,\u001b[38;5;241m4\u001b[39m,\u001b[38;5;241m5\u001b[39m,\u001b[38;5;241m6\u001b[39m,\u001b[38;5;241m7\u001b[39m,\u001b[38;5;241m8\u001b[39m,\u001b[38;5;241m9\u001b[39m,\u001b[38;5;241m10\u001b[39m))\n\u001b[0;32m     12\u001b[0m \u001b[38;5;28mprint\u001b[39m()\n",
      "Cell \u001b[1;32mIn[102], line 7\u001b[0m, in \u001b[0;36mfuncAvg\u001b[1;34m(*numbers)\u001b[0m\n\u001b[0;32m      5\u001b[0m \u001b[38;5;28;01mdef\u001b[39;00m \u001b[38;5;21mfuncAvg\u001b[39m(\u001b[38;5;241m*\u001b[39mnumbers):\n\u001b[0;32m      6\u001b[0m     \u001b[38;5;28;01mfor\u001b[39;00m num \u001b[38;5;129;01min\u001b[39;00m numbers:\n\u001b[1;32m----> 7\u001b[0m         result \u001b[38;5;241m+\u001b[39m\u001b[38;5;241m=\u001b[39m num\n\u001b[0;32m      8\u001b[0m     \u001b[38;5;28;01mreturn\u001b[39;00m(result \u001b[38;5;241m/\u001b[39m \u001b[38;5;28mlen\u001b[39m(numbers))\n",
      "\u001b[1;31mUnboundLocalError\u001b[0m: cannot access local variable 'result' where it is not associated with a value"
     ]
    }
   ],
   "source": [
    "# 2. 입력된 모든 수의 평균을 계산하는 funcAvg()함수를 작성\n",
    "# 단, 입력매개변수의 갯수는 정해져 있지 않다.\n",
    "# funcAvg()\n",
    "def funcAvg(*numbers):\n",
    "    result = 0\n",
    "    for num in numbers:\n",
    "        result += num\n",
    "    return(result / len(numbers))\n",
    "\n",
    "print(funcAvg(1,2,3,4,5))\n",
    "print(funcAvg(1,2,3,4,5,6,7,8,9,10))\n",
    "print()\n",
    "\n",
    "# 멀티매개값을 list, tuple로 한 개의 값으로 전달하는 법\n",
    "print(funcAvg(*(1,2,3,4,5)))\n",
    "print(funcAvg(*[1,2,3,4,5,6,7,8,9,10]))"
   ]
  },
  {
   "cell_type": "code",
   "execution_count": 23,
   "id": "1912be56",
   "metadata": {},
   "outputs": [
    {
     "name": "stdout",
     "output_type": "stream",
     "text": [
      "9 x 2 = 18\n",
      "9 x 3 = 27\n",
      "9 x 4 = 36\n",
      "9 x 5 = 45\n",
      "9 x 6 = 54\n",
      "9 x 7 = 63\n",
      "9 x 8 = 72\n",
      "9 x 9 = 81\n",
      "\n",
      "2 x 2 =  4\n",
      "2 x 3 =  6\n",
      "2 x 4 =  8\n",
      "2 x 5 = 10\n",
      "2 x 6 = 12\n",
      "2 x 7 = 14\n",
      "2 x 8 = 16\n",
      "2 x 9 = 18\n",
      "\n",
      "단을 입력하세요 => 7\n",
      "7 x 2 = 14\n",
      "7 x 3 = 21\n",
      "7 x 4 = 28\n",
      "7 x 5 = 35\n",
      "7 x 6 = 42\n",
      "7 x 7 = 49\n",
      "7 x 8 = 56\n",
      "7 x 9 = 63\n"
     ]
    }
   ],
   "source": [
    "# 3. 구구단을 출력하는 함수 gugudan()함수를 작성\n",
    "# 입력값은 2~9단까지 한개의 임의의 단을 입력\n",
    "# gugudan(9)\n",
    "def gugudan(dan):\n",
    "    for i in range(2, 10):\n",
    "        print(f'{dan} x {i} = {dan*i:2d}')\n",
    "        \n",
    "gugudan(9)\n",
    "print()\n",
    "\n",
    "gugudan(2)\n",
    "print()\n",
    "\n",
    "gugudan(int(input('단을 입력하세요 => ')))\n"
   ]
  },
  {
   "cell_type": "code",
   "execution_count": 27,
   "id": "6da16f77",
   "metadata": {},
   "outputs": [
    {
     "name": "stdout",
     "output_type": "stream",
     "text": [
      "[6, 7, 8]\n",
      "[6, 7, 8]\n"
     ]
    }
   ],
   "source": [
    "# 4. 리스트 [2,3,4,5,6,7,8]에서 5보다 큰 수만 리턴하는 \n",
    "# 1) funcReturn()함수작성\n",
    "def funcReturn(numbers):\n",
    "    l = []\n",
    "    for num in numbers:\n",
    "        if num > 5:\n",
    "            l.append(num)\n",
    "    return l\n",
    "\n",
    "print(funcReturn([2,3,4,5,6,7,8]))\n",
    "\n",
    "# 2) lambda식으로 작성, 이름은 funcReturnLambda\n",
    "funcReturnLambda = lambda numbers: [num for num in numbers if num > 5]\n",
    "print(funcReturnLambda([2,3,4,5,6,7,8]))"
   ]
  },
  {
   "cell_type": "code",
   "execution_count": null,
   "id": "4762945d",
   "metadata": {},
   "outputs": [],
   "source": [
    "# 5. 초보자를 위한 파이썬 300제 131~240"
   ]
  },
  {
   "cell_type": "markdown",
   "id": "40a4a68a",
   "metadata": {},
   "source": [
    "##### 클로저(Clouser)\n",
    "><img src=\"./images/12.함수_function_05.png\" width=\"300\" height=\"200\" />\n",
    "><img src=\"./images/12.함수_function_06.png\" width=\"300\" height=\"200\" />"
   ]
  },
  {
   "cell_type": "code",
   "execution_count": 35,
   "id": "242c6f13",
   "metadata": {},
   "outputs": [
    {
     "name": "stdout",
     "output_type": "stream",
     "text": [
      "함수안에서 사용할 수 있는 전역변수 x = 100\n"
     ]
    }
   ],
   "source": [
    "# 1. 변수의 사용범위\n",
    "# 1) 전역변수(global variable)\n",
    "\n",
    "x = 100\n",
    "def closer1():\n",
    "    print(f'함수안에서 사용할 수 있는 전역변수 x = {x}')\n",
    "\n",
    "closer1()\n",
    "# del x"
   ]
  },
  {
   "cell_type": "code",
   "execution_count": 36,
   "id": "dc63af4f",
   "metadata": {},
   "outputs": [
    {
     "name": "stdout",
     "output_type": "stream",
     "text": [
      "Variable           Type        Data/Info\n",
      "----------------------------------------\n",
      "closer             function    <function closer at 0x000001DC0AD0FBA0>\n",
      "closer1            function    <function closer1 at 0x000001DC0B5F0720>\n",
      "closer2            function    <function closer2 at 0x000001DC0B5F09A0>\n",
      "funcAvg            function    <function funcAvg at 0x000001DC0A397BA0>\n",
      "funcReturn         function    <function funcReturn at 0x000001DC0A863F60>\n",
      "funcReturnLambda   function    <function <lambda> at 0x000001DC0AAB23E0>\n",
      "gugudan            function    <function gugudan at 0x000001DC0AD0D080>\n",
      "is_odd             function    <function is_odd at 0x000001DC0A11E520>\n",
      "is_odd_lambda      function    <function <lambda> at 0x000001DC0AD0C220>\n",
      "is_odd_lambda1     function    <function <lambda> at 0x000001DC0A11E660>\n",
      "is_odd_lambda2     function    <function <lambda> at 0x000001DC0AD0C4A0>\n",
      "result             str         홀수입니다!\n",
      "x                  int         100\n"
     ]
    }
   ],
   "source": [
    "%whos"
   ]
  },
  {
   "cell_type": "code",
   "execution_count": 43,
   "id": "bb66cc9d",
   "metadata": {},
   "outputs": [
    {
     "name": "stdout",
     "output_type": "stream",
     "text": [
      "함수안에서 사용할 수 있는 지역변수 y = 문자열 100\n"
     ]
    },
    {
     "ename": "NameError",
     "evalue": "name 'y' is not defined",
     "output_type": "error",
     "traceback": [
      "\u001b[1;31m---------------------------------------------------------------------------\u001b[0m",
      "\u001b[1;31mNameError\u001b[0m                                 Traceback (most recent call last)",
      "Cell \u001b[1;32mIn[43], line 10\u001b[0m\n\u001b[0;32m      7\u001b[0m closer2()\n\u001b[0;32m      9\u001b[0m \u001b[38;5;66;03m# 지역변수 y은 외부에서 접근불가능\u001b[39;00m\n\u001b[1;32m---> 10\u001b[0m \u001b[38;5;28mprint\u001b[39m(y)\n",
      "\u001b[1;31mNameError\u001b[0m: name 'y' is not defined"
     ]
    }
   ],
   "source": [
    "# 2) 지역변수(local variable)\n",
    "\n",
    "def closer2():\n",
    "    y = '문자열 100'\n",
    "    print(f'함수안에서 사용할 수 있는 지역변수 y = {y}')\n",
    "\n",
    "closer2()\n",
    "\n",
    "# 지역변수 y은 외부에서 접근불가능\n",
    "print(y) # NameError: name 'y' is not defined"
   ]
  },
  {
   "cell_type": "code",
   "execution_count": 52,
   "id": "8b913d75",
   "metadata": {},
   "outputs": [
    {
     "name": "stdout",
     "output_type": "stream",
     "text": [
      "전역변수 x의 메모리주소 = 140720135380872\n",
      "지역변수 x의 메모리주소 = 140720135384072\n",
      "Variable   Type        Data/Info\n",
      "--------------------------------\n",
      "closer1    function    <function closer1 at 0x000001DC0A26BF60>\n",
      "x          int         100\n"
     ]
    }
   ],
   "source": [
    "# 2. 함수안에서 전역변수 사용(변경)하기\n",
    "%reset -f\n",
    "\n",
    "x = 100\n",
    "print(f'전역변수 x의 메모리주소 = {id(x)}')\n",
    "def closer1():\n",
    "    x = 200\n",
    "    print(f'지역변수 x의 메모리주소 = {id(x)}')\n",
    "    \n",
    "closer1()\n",
    "%whos"
   ]
  },
  {
   "cell_type": "code",
   "execution_count": 60,
   "id": "fdb4beda",
   "metadata": {},
   "outputs": [
    {
     "name": "stdout",
     "output_type": "stream",
     "text": [
      "전역변수 y의 메모리주소 = 140720135380872\n",
      "전역변수 y의 메모리주소 = 140720135384072, \n",
      "\n",
      "지역에서 전역변수로 선언된 y의 값 = 200\n",
      "전역에서의 y의 값 = 200\n"
     ]
    }
   ],
   "source": [
    "# 1) 전역변수를 정의하는 방법(1)\n",
    "y = 100\n",
    "print(f'전역변수 y의 메모리주소 = {id(y)}')\n",
    "def closer2():\n",
    "    global y # y는 지역변수가 아니라 전역변수로 선언\n",
    "    y = 200\n",
    "    print(f'전역변수 y의 메모리주소 = {id(y)} \\n\\n지역에서 전역변수로 선언된 y의 값 = {y}')\n",
    "    \n",
    "closer2() \n",
    "print(f'전역에서의 y의 값 = {y}')"
   ]
  },
  {
   "cell_type": "code",
   "execution_count": 67,
   "id": "ff39692f",
   "metadata": {},
   "outputs": [
    {
     "name": "stdout",
     "output_type": "stream",
     "text": [
      "지역에서선언된 z의 메모리주소 = 2044594452272\n",
      "지역에서선언된 z의 값 = 300\n",
      "지역에서선언된 z의 값 = 300\n"
     ]
    }
   ],
   "source": [
    "# 2) 전역변수를 정의하는 방법(2)\n",
    "def closer3():\n",
    "    global z\n",
    "    z = 300\n",
    "    print(f'지역에서선언된 z의 메모리주소 = {id(z)}')\n",
    "    print(f'지역에서선언된 z의 값 = {z}')\n",
    "\n",
    "closer3() \n",
    "\n",
    "print(f'지역에서선언된 z의 값 = {z}')"
   ]
  },
  {
   "cell_type": "markdown",
   "id": "f745a838",
   "metadata": {},
   "source": [
    "#### 파이썬의 NameSpace\n",
    "><img src=\"./images/12.함수_function_07.png\" width=\"300\" height=\"200\" />\n",
    "\n",
    "*  네임스페이스(Namespace, 이름공간)란? 프로그램언어에서 특정한 객체(object)를 이름에 따라 구분할 수 있는 범위(메모리공간)를 의미한다.\n",
    "* 파이썬 내부의 모든 것은 객체로 구성되며 이들 각각은 특정이름과 매핑관계를 갖게 되는데 이 매핑을 포함하고 있는 공간을 말한다.\n",
    "* 네임스페이스가 필요한 이유는 프로그래밍을 수행하다 보면 모든 변수의 이름과 함수의 이름을 정의하는 것이 중요한데 이들 모두 겹치지 않게 정의하는 것이 번거롭고 복잡한 일이다. 따라서\n",
    ">* 파이썬에서는 네임스페이스라는 개념을 도입하여 특정한 하나의 변수(이름)이 통용될 수 있도록 제한한다.\n",
    ">* 즉, 소속된 `네임스페이스 다르면 동일 이름이라도 다른 객체로 관리`된다.\n",
    "\n",
    "##### 파이썬의 네임스페이스는 3가지로 구분된다.\n",
    ">* 지역네임스페이스 : 함수 및 메서드별로 존재하며 함수 내의 지역변수들이 소속된다\n",
    ">* 전역네임스페이스 : 모듈별로 존재하며, 모듈 전체에서 사용될 수 있는 변수(전역)들이 소속된다.\n",
    ">* 빌트인네임스페이스 : 기본 내장함수 및 기본예외객체들이 이름이 소속된다. 파이썬으로 작성된 모든 코드들의 범위가 포함된다.\n",
    "\n",
    "##### 파이썬의 네이스페이스는 다음과 같은 특징이 있다.\n",
    ">* 네임스페이스는 `딕셔너리형태로 구현`된다.\n",
    ">* 모든 이름 자체는 문자열로 되어 있고 각각은 해당 네임스페이스 범위에서 실제 객체를 참조한다.\n",
    ">* 이름과 실제 객체 사이의 매핑은 가변(mutable)이기 때문에 실행하는 동안 새로운 이름이 추가될 수 있다.\n",
    ">* 다만, 빌트인네임스페이스는 함부로 추가하거나 삭제할 수 없다."
   ]
  },
  {
   "cell_type": "code",
   "execution_count": 77,
   "id": "ad6d4701",
   "metadata": {},
   "outputs": [
    {
     "name": "stdout",
     "output_type": "stream",
     "text": [
      "Variable   Type    Data/Info\n",
      "----------------------------\n",
      "a          int     3\n"
     ]
    },
    {
     "data": {
      "text/plain": [
       "{'__name__': '__main__',\n",
       " '__builtin__': <module 'builtins' (built-in)>,\n",
       " '__builtins__': <module 'builtins' (built-in)>,\n",
       " '_ih': ['',\n",
       "  \"# 1. 홀수, 짝수를 구변하는 is_odd()함수를 작성\\n# 주어진 숫자가 홀수인지 짝수인지를 구별해서\\n# '짝수입니다' or '홀수입니다'를 출력하세요\\n# 1) 일반함수 is_odd(number)\\ndef is_odd(n):\\n    if n%2 == 0:\\n        print('짝수입니다!')\\n    else:\\n        print('홀수입니다!')\\n        \\nis_odd(1)\\n# 2) lambda함수\",\n",
       "  \"# 1. 홀수, 짝수를 구변하는 is_odd()함수를 작성\\n# 주어진 숫자가 홀수인지 짝수인지를 구별해서\\n# '짝수입니다' or '홀수입니다'를 출력하세요\\n# 1) 일반함수 is_odd(number)\\ndef is_odd(n):\\n    if n%2 == 0:\\n        print('짝수입니다!')\\n    else:\\n        print('홀수입니다!')\\n        \\nis_odd(2)\\n\\n# 2) lambda함수\",\n",
       "  \"# 1. 홀수, 짝수를 구변하는 is_odd()함수를 작성\\n# 주어진 숫자가 홀수인지 짝수인지를 구별해서\\n# '짝수입니다' or '홀수입니다'를 출력하세요\\n# 1) 일반함수 is_odd(number)\\ndef is_odd(n):\\n    if n%2 == 0:\\n        print('짝수입니다!')\\n    else:\\n        print('홀수입니다!')\\n        \\nis_odd(2)\\n\\n# 2) lambda함수\\nis_odd_lambda = lambda n: print('짝수입니다!') if n%2==0 else print('홀수입니다!')\\nis_odd_lambda(1)\",\n",
       "  \"# 1. 홀수, 짝수를 구변하는 is_odd()함수를 작성\\n# 주어진 숫자가 홀수인지 짝수인지를 구별해서\\n# '짝수입니다' or '홀수입니다'를 출력하세요\\n# 1) 일반함수 is_odd(number)\\ndef is_odd(n):\\n    if n%2 == 0:\\n        print('짝수입니다!')\\n    else:\\n        print('홀수입니다!')\\n        \\nis_odd(2)\\n\\n# 2) lambda함수\\nis_odd_lambda = lambda n: print('짝수입니다!') if n%2==0 else print('홀수입니다!')\\nis_odd_lambda(1)\\nis_odd_lambda(2)\",\n",
       "  \"# 1. 홀수, 짝수를 구변하는 is_odd()함수를 작성\\n# 주어진 숫자가 홀수인지 짝수인지를 구별해서\\n# '짝수입니다' or '홀수입니다'를 출력하세요\\n# 1) 일반함수 is_odd(number)\\ndef is_odd(n):\\n    if n%2 == 0:\\n        print('짝수입니다!')\\n    else:\\n        print('홀수입니다!')\\n        \\nis_odd(2)\\nis_odd(1)\\nprint()\\n\\n# 2) lambda함수\\nis_odd_lambda = lambda n: print('짝수입니다!') if n%2==0 else print('홀수입니다!')\\nis_odd_lambda(1)\\nis_odd_lambda(2)\",\n",
       "  \"# 1. 홀수, 짝수를 구변하는 is_odd()함수를 작성\\n# 주어진 숫자가 홀수인지 짝수인지를 구별해서\\n# '짝수입니다' or '홀수입니다'를 출력하세요\\n# 1) 일반함수 is_odd(number)\\ndef is_odd(n):\\n    if n%2 == 0:\\n        print('짝수입니다!')\\n    else:\\n        print('홀수입니다!')\\n        \\nis_odd(2)\\nis_odd(1)\\nprint()\\n\\n# 2) lambda함수\\nis_odd_lambda1 = lambda n: print('짝수입니다!') if n%2==0 else print('홀수입니다!')\\nis_odd_lambda1(1)\\nis_odd_lambda1(2)\\n\\nis_odd_lambda2 = lambda n: '짝수입니다!' if n%2==0 else '홀수입니다!'\\nis_odd_lambda2(1)\\nis_odd_lambda2(2)\",\n",
       "  \"# 1. 홀수, 짝수를 구변하는 is_odd()함수를 작성\\n# 주어진 숫자가 홀수인지 짝수인지를 구별해서\\n# '짝수입니다' or '홀수입니다'를 출력하세요\\n# 1) 일반함수 is_odd(number)\\ndef is_odd(n):\\n    if n%2 == 0:\\n        print('짝수입니다!')\\n    else:\\n        print('홀수입니다!')\\n        \\nis_odd(2)\\nis_odd(1)\\nprint()\\n\\n# 2) lambda함수\\nis_odd_lambda1 = lambda n: print('짝수입니다!') if n%2==0 else print('홀수입니다!')\\nis_odd_lambda1(1)\\nis_odd_lambda1(2)\\n\\nis_odd_lambda2 = lambda n: '짝수입니다!' if n%2==0 else '홀수입니다!'\\nprint(is_odd_lambda2(1))\\nprint(is_odd_lambda2(2))\",\n",
       "  \"# 1. 홀수, 짝수를 구변하는 is_odd()함수를 작성\\n# 주어진 숫자가 홀수인지 짝수인지를 구별해서\\n# '짝수입니다' or '홀수입니다'를 출력하세요\\n# 1) 일반함수 is_odd(number)\\ndef is_odd(n):\\n    if n%2 == 0:\\n        print('짝수입니다!')\\n    else:\\n        print('홀수입니다!')\\n        \\nis_odd(2)\\nis_odd(1)\\nprint()\\n\\n# 2) lambda함수\\nis_odd_lambda1 = lambda n: print('짝수입니다!') if n%2==0 else print('홀수입니다!')\\nis_odd_lambda1(1)\\nis_odd_lambda1(2)\\nprint()\\n\\nis_odd_lambda2 = lambda n: '짝수입니다!' if n%2==0 else '홀수입니다!'\\nprint(is_odd_lambda2(1))\\nprint(is_odd_lambda2(2))\",\n",
       "  \"# 1. 홀수, 짝수를 구변하는 is_odd()함수를 작성\\n# 주어진 숫자가 홀수인지 짝수인지를 구별해서\\n# '짝수입니다' or '홀수입니다'를 출력하세요\\n# 1) 일반함수 is_odd(number)\\ndef is_odd(n):\\n    if n%2 == 0:\\n        print('짝수입니다!')\\n    else:\\n        print('홀수입니다!')\\n        \\nis_odd(2)\\nis_odd(1)\\nprint()\\n\\n# 2) lambda함수 - return이 없는 경우\\nis_odd_lambda1 = lambda n: print('짝수입니다!') if n%2==0 else print('홀수입니다!')\\nis_odd_lambda1(1)\\nis_odd_lambda1(2)\\nprint()\\n\\n# 3) lambda함수 - return이 생략된 경우\\nis_odd_lambda2 = lambda n: '짝수입니다!' if n%2==0 else '홀수입니다!'\\nprint(is_odd_lambda2(1))\\nprint(is_odd_lambda2(2))\\n\\nresult = is_odd_lambda2(1)\\nprint(result)\",\n",
       "  \"# 1. 홀수, 짝수를 구변하는 is_odd()함수를 작성\\n# 주어진 숫자가 홀수인지 짝수인지를 구별해서\\n# '짝수입니다' or '홀수입니다'를 출력하세요\\n# 1) 일반함수 is_odd(number)\\ndef is_odd(n):\\n    if n%2 == 0:\\n        print('짝수입니다!')\\n    else:\\n        print('홀수입니다!')\\n        \\nis_odd(2)\\nis_odd(1)\\nprint()\\n\\n# 2) lambda함수 - return이 없는 경우\\nis_odd_lambda1 = lambda n: print('짝수입니다!') if n%2==0 else print('홀수입니다!')\\nis_odd_lambda1(1)\\nis_odd_lambda1(2)\\nprint()\\n\\n# 3) lambda함수 - return이 생략된 경우\\nis_odd_lambda2 = lambda xxx: '짝수입니다!' if xxx%2==0 else '홀수입니다!'\\nprint(is_odd_lambda2(1))\\nprint(is_odd_lambda2(2))\\nprint()\\n\\nresult = is_odd_lambda2(1)\\nprint(result)\",\n",
       "  '# 2. 입력된 모든 수의 평균을 계산하는 funcAvg()함수를 작성\\n# 단, 입력매개변수의 갯수는 정해져 있지 않다.\\n# funcAvg()\\ndef funcAvg():\\n    pass\\n\\nfuncAvg()',\n",
       "  '# 2. 입력된 모든 수의 평균을 계산하는 funcAvg()함수를 작성\\n# 단, 입력매개변수의 갯수는 정해져 있지 않다.\\n# funcAvg()\\ndef funcAvg(*numbers):\\n    result = 0\\n    for num in numbers:\\n        result += num\\n    return(result / len(numbers))\\n\\nprint(funcAvg(1,2,3,4,5))',\n",
       "  '# 2. 입력된 모든 수의 평균을 계산하는 funcAvg()함수를 작성\\n# 단, 입력매개변수의 갯수는 정해져 있지 않다.\\n# funcAvg()\\ndef funcAvg(*numbers):\\n    result = 0\\n    for num in numbers:\\n        result += num\\n    return(result / len(numbers))\\n\\nprint(funcAvg(1,2,3,4,5))\\nprint(funcAvg(1,2,3,4,5,6,7,8,9,10))',\n",
       "  '# 2. 입력된 모든 수의 평균을 계산하는 funcAvg()함수를 작성\\n# 단, 입력매개변수의 갯수는 정해져 있지 않다.\\n# funcAvg()\\ndef funcAvg(*numbers):\\n    result = 0\\n    for num in numbers:\\n        result += num\\n    return(result / len(numbers))\\n\\nprint(funcAvg(1,2,3,4,5))\\nprint(funcAvg(1,2,3,4,5,6,7,8,9,10))\\nprint()\\n\\n# 멀티매개값을 list, tuple로 한 개의 값으로 전달하는 법\\nprint(funcAvg([1,2,3,4,5]))',\n",
       "  '# 2. 입력된 모든 수의 평균을 계산하는 funcAvg()함수를 작성\\n# 단, 입력매개변수의 갯수는 정해져 있지 않다.\\n# funcAvg()\\ndef funcAvg(*numbers):\\n    result = 0\\n    for num in numbers:\\n        result += num\\n    return(result / len(numbers))\\n\\nprint(funcAvg(1,2,3,4,5))\\nprint(funcAvg(1,2,3,4,5,6,7,8,9,10))\\nprint()\\n\\n# 멀티매개값을 list, tuple로 한 개의 값으로 전달하는 법\\nprint(funcAvg((1,2,3,4,5))',\n",
       "  '# 2. 입력된 모든 수의 평균을 계산하는 funcAvg()함수를 작성\\n# 단, 입력매개변수의 갯수는 정해져 있지 않다.\\n# funcAvg()\\ndef funcAvg(*numbers):\\n    result = 0\\n    for num in numbers:\\n        result += num\\n    return(result / len(numbers))\\n\\nprint(funcAvg(1,2,3,4,5))\\nprint(funcAvg(1,2,3,4,5,6,7,8,9,10))\\nprint()\\n\\n# 멀티매개값을 list, tuple로 한 개의 값으로 전달하는 법\\nprint(funcAvg((1,2,3,4,5)))',\n",
       "  '# 2. 입력된 모든 수의 평균을 계산하는 funcAvg()함수를 작성\\n# 단, 입력매개변수의 갯수는 정해져 있지 않다.\\n# funcAvg()\\ndef funcAvg(*numbers):\\n    result = 0\\n    for num in numbers:\\n        result += num\\n    return(result / len(numbers))\\n\\nprint(funcAvg(1,2,3,4,5))\\nprint(funcAvg(1,2,3,4,5,6,7,8,9,10))\\nprint()\\n\\n# 멀티매개값을 list, tuple로 한 개의 값으로 전달하는 법\\nprint(funcAvg(*(1,2,3,4,5)))',\n",
       "  '# 2. 입력된 모든 수의 평균을 계산하는 funcAvg()함수를 작성\\n# 단, 입력매개변수의 갯수는 정해져 있지 않다.\\n# funcAvg()\\ndef funcAvg(*numbers):\\n    result = 0\\n    for num in numbers:\\n        result += num\\n    return(result / len(numbers))\\n\\nprint(funcAvg(1,2,3,4,5))\\nprint(funcAvg(1,2,3,4,5,6,7,8,9,10))\\nprint()\\n\\n# 멀티매개값을 list, tuple로 한 개의 값으로 전달하는 법\\nprint(funcAvg(*(1,2,3,4,5)))\\nprint(funcAvg([1,2,3,4,5,6,7,8,9,10]))',\n",
       "  '# 2. 입력된 모든 수의 평균을 계산하는 funcAvg()함수를 작성\\n# 단, 입력매개변수의 갯수는 정해져 있지 않다.\\n# funcAvg()\\ndef funcAvg(*numbers):\\n    result = 0\\n    for num in numbers:\\n        result += num\\n    return(result / len(numbers))\\n\\nprint(funcAvg(1,2,3,4,5))\\nprint(funcAvg(1,2,3,4,5,6,7,8,9,10))\\nprint()\\n\\n# 멀티매개값을 list, tuple로 한 개의 값으로 전달하는 법\\nprint(funcAvg(*(1,2,3,4,5)))\\nprint(funcAvg(*[1,2,3,4,5,6,7,8,9,10]))',\n",
       "  \"# 3. 구구단을 출력하는 함수 gugudan()함수를 작성\\n# 입력값은 2~9단까지 한개의 임의의 단을 입력\\n# gugudan(9)\\ndef gugudan(dan):\\n    for i in range(2, 10):\\n        print(f'{dan} x {i} = {dan*i:2d}')\\n        \\ngugudan(9)\",\n",
       "  \"# 3. 구구단을 출력하는 함수 gugudan()함수를 작성\\n# 입력값은 2~9단까지 한개의 임의의 단을 입력\\n# gugudan(9)\\ndef gugudan(dan):\\n    for i in range(2, 10):\\n        print(f'{dan} x {i} = {dan*i:2d}')\\n        \\ngugudan(9)\\nprint()\\n\\ngugudan(2)\",\n",
       "  \"# 3. 구구단을 출력하는 함수 gugudan()함수를 작성\\n# 입력값은 2~9단까지 한개의 임의의 단을 입력\\n# gugudan(9)\\ndef gugudan(dan):\\n    for i in range(2, 10):\\n        print(f'{dan} x {i} = {dan*i:2d}')\\n        \\ngugudan(9)\\nprint()\\n\\ngugudan(2)\\nprint()\\n\\ngugudan(int(input('단을 입력하세요 => ')))\",\n",
       "  \"# 3. 구구단을 출력하는 함수 gugudan()함수를 작성\\n# 입력값은 2~9단까지 한개의 임의의 단을 입력\\n# gugudan(9)\\ndef gugudan(dan):\\n    for i in range(2, 10):\\n        print(f'{dan} x {i} = {dan*i:2d}')\\n        \\ngugudan(9)\\nprint()\\n\\ngugudan(2)\\nprint()\\n\\ngugudan(int(input('단을 입력하세요 => ')))\",\n",
       "  '# 4. 리스트 [2,3,4,5,6,7,8]에서 5보다 큰 수만 리턴하는 \\n# 1) funcReturn()함수작성\\ndef funcReturn(numbers):\\n    l = []\\n    for num in numbers:\\n        if num > 5:\\n            l.append(num)\\n    return l\\n\\nprint(funcAvg([2,3,4,5,6,7,8]))\\n\\n# 2) lambda식으로 작성, 이름은 funcReturnLambda',\n",
       "  '# 4. 리스트 [2,3,4,5,6,7,8]에서 5보다 큰 수만 리턴하는 \\n# 1) funcReturn()함수작성\\ndef funcReturn(numbers):\\n    l = []\\n    for num in numbers:\\n        if num > 5:\\n            l.append(num)\\n    return l\\n\\nprint(funcReturn([2,3,4,5,6,7,8]))\\n\\n# 2) lambda식으로 작성, 이름은 funcReturnLambda',\n",
       "  '# 4. 리스트 [2,3,4,5,6,7,8]에서 5보다 큰 수만 리턴하는 \\n# 1) funcReturn()함수작성\\ndef funcReturn(numbers):\\n    l = []\\n    for num in numbers:\\n        if num > 5:\\n            l.append(num)\\n    return l\\n\\nprint(funcReturn([2,3,4,5,6,7,8]))\\n\\n# 2) lambda식으로 작성, 이름은 funcReturnLambda\\nfuncReturnLambda = lambda numbers: [num for num in numbers if number > 5]\\nprint(funcReturnLambda([2,3,4,5,6,7,8]))',\n",
       "  '# 4. 리스트 [2,3,4,5,6,7,8]에서 5보다 큰 수만 리턴하는 \\n# 1) funcReturn()함수작성\\ndef funcReturn(numbers):\\n    l = []\\n    for num in numbers:\\n        if num > 5:\\n            l.append(num)\\n    return l\\n\\nprint(funcReturn([2,3,4,5,6,7,8]))\\n\\n# 2) lambda식으로 작성, 이름은 funcReturnLambda\\nfuncReturnLambda = lambda numbers: [num for num in numbers if num > 5]\\nprint(funcReturnLambda([2,3,4,5,6,7,8]))',\n",
       "  \"# 1. 변수의 사용범위\\n# 1) 전역변수(global variable)\\ndef closer():\\n    print(f'함수안에서 사용할 수 있는 전역변수 x = {x}')\\n\\ncloser()\\n\\n# 2) 지역변수(local variable)\",\n",
       "  \"# 1. 변수의 사용범위\\n# 1) 전역변수(global variable)\\n\\nx = 100\\ndef closer():\\n    print(f'함수안에서 사용할 수 있는 전역변수 x = {x}')\\n\\ncloser()\\n\\n# 2) 지역변수(local variable)\",\n",
       "  \"# 1. 변수의 사용범위\\n# 1) 전역변수(global variable)\\n\\nx = 100\\ndef closer1():\\n    print(f'함수안에서 사용할 수 있는 전역변수 x = {x}')\\n\\ncloser1()\",\n",
       "  \"# 2) 지역변수(local variable)\\ndef closer2():\\n    print(f'함수안에서 사용할 수 있는 전역변수 x = {x}')\\n\\ncloser2()\",\n",
       "  \"# 1. 변수의 사용범위\\n# 1) 전역변수(global variable)\\n\\nx = 100\\ndef closer1():\\n    print(f'함수안에서 사용할 수 있는 전역변수 x = {x}')\\n\\ncloser1()\\ndel x\",\n",
       "  \"get_ipython().run_line_magic('whos', '')\\n# 2) 지역변수(local variable)\\n\\ndef closer2():\\n    print(f'함수안에서 사용할 수 있는 전역변수 x = {x}')\\n\\ncloser2()\",\n",
       "  \"get_ipython().run_line_magic('whos', '')\\n# 2) 지역변수(local variable)\\n\\ndef closer2():\\n    x = '문자열 100'\\n    print(f'함수안에서 사용할 수 있는 지역변수 x = {x}')\\n\\ncloser2()\",\n",
       "  \"# 1. 변수의 사용범위\\n# 1) 전역변수(global variable)\\n\\nx = 100\\ndef closer1():\\n    print(f'함수안에서 사용할 수 있는 전역변수 x = {x}')\\n\\ncloser1()\\n# del x\",\n",
       "  \"get_ipython().run_line_magic('whos', '')\",\n",
       "  \"# 2) 지역변수(local variable)\\n\\ndef closer2():\\n#     x = '문자열 100'\\n    print(f'함수안에서 사용할 수 있는 지역변수 x = {x}')\\n\\ncloser2()\",\n",
       "  \"# 2) 지역변수(local variable)\\n\\ndef closer2():\\n    x = '문자열 100'\\n    print(f'함수안에서 사용할 수 있는 지역변수 x = {x}')\\n\\ncloser2()\",\n",
       "  \"get_ipython().run_line_magic('whos', '')\",\n",
       "  \"# 2) 지역변수(local variable)\\n\\ndef closer2():\\n    y = '문자열 100'\\n    print(f'함수안에서 사용할 수 있는 지역변수 y = {y}')\\n\\ncloser2()\",\n",
       "  \"get_ipython().run_line_magic('whos', '')\",\n",
       "  \"# 2) 지역변수(local variable)\\n\\ndef closer2():\\n    y = '문자열 100'\\n    print(f'함수안에서 사용할 수 있는 지역변수 y = {y}')\\n\\ncloser2()\\n\\nprint(y)\",\n",
       "  \"# 2) 지역변수(local variable)\\n\\ndef closer2():\\n    y = '문자열 100'\\n    print(f'함수안에서 사용할 수 있는 지역변수 y = {y}')\\n\\ncloser2()\\n\\n# 지역변수 y은 외부에서 접근불가능\\nprint(y) # NameError: name 'y' is not defined\",\n",
       "  \"# 2. 함수안에서 전역변수 사용(변경)하기\\nget_ipython().run_line_magic('whos', '')\",\n",
       "  \"# 2. 함수안에서 전역변수 사용(변경)하기\\nget_ipython().run_line_magic('reset', '')\",\n",
       "  \"# 2. 함수안에서 전역변수 사용(변경)하기\\nget_ipython().run_line_magic('reset', '-f')\",\n",
       "  \"get_ipython().run_line_magic('whos', '')\",\n",
       "  \"# 2. 함수안에서 전역변수 사용(변경)하기\\nget_ipython().run_line_magic('reset', '-f')\\n\\nx = 100\\nprint(f'전역변수 x의 메모리주소 = {id(x)}')\\ndef closer1():\\n    x = 200\\n    print(f'지역변수 x의 메모리주소 = {id(x)}')\\n    \\ncloser1()\",\n",
       "  \"# 2. 함수안에서 전역변수 사용(변경)하기\\nget_ipython().run_line_magic('reset', '-f')\\n\\nx = 100\\nprint(f'전역변수 x의 메모리주소 = {id(x)}')\\ndef closer1():\\n    x = 200\\n    print(f'지역변수 x의 메모리주소 = {id(x)}')\\n    \\ncloser1()\\nget_ipython().run_line_magic('whos', '')\",\n",
       "  \"# 1) 전역변수를 정의하는 방법(1)\\ny = 100\\nprint(f'전역변수 y의 메모리주소 = {id(y)}')\\ndef closer2():\\n    y = 200\\n    print(f'지역변수 y의 메모리주소 = {id(y)}')\\n    \\ncloser2()  \",\n",
       "  \"# 1) 전역변수를 정의하는 방법(1)\\ny = 100\\nprint(f'전역변수 y의 메모리주소 = {id(y)}')\\ndef closer2():\\n    global y # y는 지역변수가 아니라 전역변수로 선언\\n    y = 200\\n    print(f'지역변수 y의 메모리주소 = {id(y)}')\\n    \\ncloser2()  \",\n",
       "  \"# 2. 함수안에서 전역변수 사용(변경)하기\\nget_ipython().run_line_magic('reset', '-f')\\n\\nx = 100\\nprint(f'전역변수 x의 메모리주소 = {id(x)}')\\ndef closer1():\\n    x = 200\\n    print(f'지역변수 x의 메모리주소 = {id(x)}')\\n    \\ncloser1()\\nget_ipython().run_line_magic('whos', '')\",\n",
       "  \"# 1) 전역변수를 정의하는 방법(1)\\ny = 100\\nprint(f'전역변수 y의 메모리주소 = {id(y)}')\\ndef closer2():\\n    global y # y는 지역변수가 아니라 전역변수로 선언\\n    y = 200\\n    print(f'지역변수 y의 메모리주소 = {id(y)}, y의 값 = {y}')\\n    \\ncloser2() \\nprint(y)\",\n",
       "  \"# 1) 전역변수를 정의하는 방법(1)\\ny = 100\\nprint(f'전역변수 y의 메모리주소 = {id(y)}')\\ndef closer2():\\n    global y # y는 지역변수가 아니라 전역변수로 선언\\n    y = 200\\n    print(f'지역변수 y의 메모리주소 = {id(y)}, \\\\ny의 값 = {y}')\\n    \\ncloser2() \\nprint(f'y의 값 = {y}')\",\n",
       "  \"# 1) 전역변수를 정의하는 방법(1)\\ny = 100\\nprint(f'전역변수 y의 메모리주소 = {id(y)}')\\ndef closer2():\\n    global y # y는 지역변수가 아니라 전역변수로 선언\\n    y = 200\\n    print(f'전역변수 y의 메모리주소 = {id(y)}, \\\\n지역에서의 y의 값 = {y}')\\n    \\ncloser2() \\nprint(f'전역에서의 y의 값 = {y}')\",\n",
       "  \"# 1) 전역변수를 정의하는 방법(1)\\ny = 100\\nprint(f'전역변수 y의 메모리주소 = {id(y)}')\\nprint()\\n\\ndef closer2():\\n    global y # y는 지역변수가 아니라 전역변수로 선언\\n    y = 200\\n    print(f'전역변수 y의 메모리주소 = {id(y)}, \\\\n지역에서의 y의 값 = {y}')\\n    \\ncloser2() \\nprint(f'전역에서의 y의 값 = {y}')\",\n",
       "  \"# 1) 전역변수를 정의하는 방법(1)\\ny = 100\\nprint(f'전역변수 y의 메모리주소 = {id(y)}')\\ndef closer2():\\n    global y # y는 지역변수가 아니라 전역변수로 선언\\n    y = 200\\n    print(f'전역변수 y의 메모리주소 = {id(y)}, \\\\n\\\\n지역에서의 y의 값 = {y}')\\n    \\ncloser2() \\nprint(f'전역에서의 y의 값 = {y}')\",\n",
       "  \"# 1) 전역변수를 정의하는 방법(1)\\ny = 100\\nprint(f'전역변수 y의 메모리주소 = {id(y)}')\\ndef closer2():\\n    global y # y는 지역변수가 아니라 전역변수로 선언\\n    y = 200\\n    print(f'전역변수 y의 메모리주소 = {id(y)}, \\\\n\\\\n지역에서 전역변수로 선언된 y의 값 = {y}')\\n    \\ncloser2() \\nprint(f'전역에서의 y의 값 = {y}')\",\n",
       "  \"# 1) 전역변수를 정의하는 방법(1)\\ny = 100\\nprint(f'전역변수 y의 메모리주소 = {id(y)}')\\ndef closer2():\\n    # global y # y는 지역변수가 아니라 전역변수로 선언\\n    y = 200\\n    print(f'전역변수 y의 메모리주소 = {id(y)}, \\\\n\\\\n지역에서 전역변수로 선언된 y의 값 = {y}')\\n    \\ncloser2() \\nprint(f'전역에서의 y의 값 = {y}')\",\n",
       "  \"# 1) 전역변수를 정의하는 방법(1)\\ny = 100\\nprint(f'전역변수 y의 메모리주소 = {id(y)}')\\ndef closer2():\\n    global y # y는 지역변수가 아니라 전역변수로 선언\\n    y = 200\\n    print(f'전역변수 y의 메모리주소 = {id(y)}, \\\\n\\\\n지역에서 전역변수로 선언된 y의 값 = {y}')\\n    \\ncloser2() \\nprint(f'전역에서의 y의 값 = {y}')\",\n",
       "  \"# 2) 전역변수를 정의하는 방법(2)\\ndef closer3():\\n    z = 300\\n    print(f'지역변수 z의 메모리주소 = {id(z)}')\\n\\ncloser3()    \",\n",
       "  \"# 2) 전역변수를 정의하는 방법(2)\\ndef closer3():\\n    z = 300\\n    print(f'지역변수 z의 메모리주소 = {id(z)}')\\n    print(f'지역변수 z의 값 = {z}')\\n\\ncloser3()    \",\n",
       "  \"# 2) 전역변수를 정의하는 방법(2)\\ndef closer3():\\n    z = 300\\n    print(f'지역에서선언된 z의 메모리주소 = {id(z)}')\\n    print(f'지역에서선언된 z의 값 = {z}')\\n\\ncloser3() \\n\\nprint(f'지역에서선언된 z의 값 = {z}')\",\n",
       "  \"# 2) 전역변수를 정의하는 방법(2)\\ndef closer3():\\n    global\\n    z = 300\\n    print(f'지역에서선언된 z의 메모리주소 = {id(z)}')\\n    print(f'지역에서선언된 z의 값 = {z}')\\n\\ncloser3() \\n\\nprint(f'지역에서선언된 z의 값 = {z}')\",\n",
       "  \"# 2) 전역변수를 정의하는 방법(2)\\ndef closer3():\\n    global z\\n    z = 300\\n    print(f'지역에서선언된 z의 메모리주소 = {id(z)}')\\n    print(f'지역에서선언된 z의 값 = {z}')\\n\\ncloser3() \\n\\nprint(f'지역에서선언된 z의 값 = {z}')\",\n",
       "  \"# 2) 전역변수를 정의하는 방법(2)\\ndef closer3():\\n    global z = 300\\n    print(f'지역에서선언된 z의 메모리주소 = {id(z)}')\\n    print(f'지역에서선언된 z의 값 = {z}')\\n\\ncloser3() \\n\\nprint(f'지역에서선언된 z의 값 = {z}')\",\n",
       "  \"# 2) 전역변수를 정의하는 방법(2)\\ndef closer3():\\n    global z\\n    z = 300\\n    print(f'지역에서선언된 z의 메모리주소 = {id(z)}')\\n    print(f'지역에서선언된 z의 값 = {z}')\\n\\ncloser3() \\n\\nprint(f'지역에서선언된 z의 값 = {z}')\",\n",
       "  'import copy',\n",
       "  \"# 네임스페이스\\n# 파이썬에서는 변수들은 네임스페이스에 저장된다.\\n# 네임스페이스를 확인하려면 globals(), local()함수를 이용하면\\n# 현재의 Namespase를 딕셔너리형태로 출력한다.\\n# 또한, Jupyter Notebook의 매직명령어 %who, %whos, %whos_ls로도 확인 가능하다.\\nget_ipython().run_line_magic('who', '')\",\n",
       "  \"# 네임스페이스\\n# 파이썬에서는 변수들은 네임스페이스에 저장된다.\\n# 네임스페이스를 확인하려면 globals(), local()함수를 이용하면\\n# 현재의 Namespase를 딕셔너리형태로 출력한다.\\n# 또한, Jupyter Notebook의 매직명령어 %who, %whos, %whos_ls로도 확인 가능하다.\\nget_ipython().run_line_magic('whos', '')\",\n",
       "  \"# 네임스페이스\\n# 파이썬에서는 변수들은 네임스페이스에 저장된다.\\n# 네임스페이스를 확인하려면 globals(), local()함수를 이용하면\\n# 현재의 Namespase를 딕셔너리형태로 출력한다.\\n# 또한, Jupyter Notebook의 매직명령어 %who, %whos, %whos_ls로도 확인 가능하다.\\nget_ipython().run_line_magic('whos_ls', '')\",\n",
       "  \"# 네임스페이스\\n# 파이썬에서는 변수들은 네임스페이스에 저장된다.\\n# 네임스페이스를 확인하려면 globals(), local()함수를 이용하면\\n# 현재의 Namespase를 딕셔너리형태로 출력한다.\\n# 또한, Jupyter Notebook의 매직명령어 %who, %whos, %whos_ls로도 확인 가능하다.\\nget_ipython().run_line_magic('who_ls', '')\",\n",
       "  \"# 네임스페이스\\n# 파이썬에서는 변수들은 네임스페이스에 저장된다.\\n# 네임스페이스를 확인하려면 globals(), local()함수를 이용하면\\n# 현재의 Namespase를 딕셔너리형태로 출력한다.\\n# 또한, Jupyter Notebook의 매직명령어 %who, %whos, %whos_ls로도 확인 가능하다.\\nget_ipython().run_line_magic('whos', '')\",\n",
       "  \"# 네임스페이스\\n# 파이썬에서는 변수들은 네임스페이스에 저장된다.\\n# 네임스페이스를 확인하려면 globals(), local()함수를 이용하면\\n# 현재의 Namespase를 딕셔너리형태로 출력한다.\\n# 또한, Jupyter Notebook의 매직명령어 %who, %whos, %whos_ls로도 확인 가능하다.\\nget_ipython().run_line_magic('whos', '')\\nget_ipython().run_line_magic('reset', '-f')\\n\\na = 3\\nget_ipython().run_line_magic('whos', '')\",\n",
       "  \"# 네임스페이스\\n# 파이썬에서는 변수들은 네임스페이스에 저장된다.\\n# 네임스페이스를 확인하려면 globals(), local()함수를 이용하면\\n# 현재의 Namespase를 딕셔너리형태로 출력한다.\\n# 또한, Jupyter Notebook의 매직명령어 %who, %whos, %whos_ls로도 확인 가능하다.\\nget_ipython().run_line_magic('whos', '')\\nget_ipython().run_line_magic('reset', '-f')\\n\\na = 3\\nget_ipython().run_line_magic('whos', '')\",\n",
       "  \"# 네임스페이스\\n# 파이썬에서는 변수들은 네임스페이스에 저장된다.\\n# 네임스페이스를 확인하려면 globals(), local()함수를 이용하면\\n# 현재의 Namespase를 딕셔너리형태로 출력한다.\\n# 또한, Jupyter Notebook의 매직명령어 %who, %whos, %whos_ls로도 확인 가능하다.\\nget_ipython().run_line_magic('reset', '-f')\\n\\na = 3\\nget_ipython().run_line_magic('whos', '')\",\n",
       "  \"# 네임스페이스\\n# 파이썬에서는 변수들은 네임스페이스에 저장된다.\\n# 네임스페이스를 확인하려면 globals(), local()함수를 이용하면\\n# 현재의 Namespase를 딕셔너리형태로 출력한다.\\n# 또한, Jupyter Notebook의 매직명령어 %who, %whos, %whos_ls로도 확인 가능하다.\\nget_ipython().run_line_magic('reset', '-f')\\n\\na = 3\\nget_ipython().run_line_magic('whos', '')\\n\\nlocals()\"],\n",
       " '_oh': {},\n",
       " '_dh': [WindowsPath('d:/lec/04.python')],\n",
       " 'In': ['',\n",
       "  \"# 1. 홀수, 짝수를 구변하는 is_odd()함수를 작성\\n# 주어진 숫자가 홀수인지 짝수인지를 구별해서\\n# '짝수입니다' or '홀수입니다'를 출력하세요\\n# 1) 일반함수 is_odd(number)\\ndef is_odd(n):\\n    if n%2 == 0:\\n        print('짝수입니다!')\\n    else:\\n        print('홀수입니다!')\\n        \\nis_odd(1)\\n# 2) lambda함수\",\n",
       "  \"# 1. 홀수, 짝수를 구변하는 is_odd()함수를 작성\\n# 주어진 숫자가 홀수인지 짝수인지를 구별해서\\n# '짝수입니다' or '홀수입니다'를 출력하세요\\n# 1) 일반함수 is_odd(number)\\ndef is_odd(n):\\n    if n%2 == 0:\\n        print('짝수입니다!')\\n    else:\\n        print('홀수입니다!')\\n        \\nis_odd(2)\\n\\n# 2) lambda함수\",\n",
       "  \"# 1. 홀수, 짝수를 구변하는 is_odd()함수를 작성\\n# 주어진 숫자가 홀수인지 짝수인지를 구별해서\\n# '짝수입니다' or '홀수입니다'를 출력하세요\\n# 1) 일반함수 is_odd(number)\\ndef is_odd(n):\\n    if n%2 == 0:\\n        print('짝수입니다!')\\n    else:\\n        print('홀수입니다!')\\n        \\nis_odd(2)\\n\\n# 2) lambda함수\\nis_odd_lambda = lambda n: print('짝수입니다!') if n%2==0 else print('홀수입니다!')\\nis_odd_lambda(1)\",\n",
       "  \"# 1. 홀수, 짝수를 구변하는 is_odd()함수를 작성\\n# 주어진 숫자가 홀수인지 짝수인지를 구별해서\\n# '짝수입니다' or '홀수입니다'를 출력하세요\\n# 1) 일반함수 is_odd(number)\\ndef is_odd(n):\\n    if n%2 == 0:\\n        print('짝수입니다!')\\n    else:\\n        print('홀수입니다!')\\n        \\nis_odd(2)\\n\\n# 2) lambda함수\\nis_odd_lambda = lambda n: print('짝수입니다!') if n%2==0 else print('홀수입니다!')\\nis_odd_lambda(1)\\nis_odd_lambda(2)\",\n",
       "  \"# 1. 홀수, 짝수를 구변하는 is_odd()함수를 작성\\n# 주어진 숫자가 홀수인지 짝수인지를 구별해서\\n# '짝수입니다' or '홀수입니다'를 출력하세요\\n# 1) 일반함수 is_odd(number)\\ndef is_odd(n):\\n    if n%2 == 0:\\n        print('짝수입니다!')\\n    else:\\n        print('홀수입니다!')\\n        \\nis_odd(2)\\nis_odd(1)\\nprint()\\n\\n# 2) lambda함수\\nis_odd_lambda = lambda n: print('짝수입니다!') if n%2==0 else print('홀수입니다!')\\nis_odd_lambda(1)\\nis_odd_lambda(2)\",\n",
       "  \"# 1. 홀수, 짝수를 구변하는 is_odd()함수를 작성\\n# 주어진 숫자가 홀수인지 짝수인지를 구별해서\\n# '짝수입니다' or '홀수입니다'를 출력하세요\\n# 1) 일반함수 is_odd(number)\\ndef is_odd(n):\\n    if n%2 == 0:\\n        print('짝수입니다!')\\n    else:\\n        print('홀수입니다!')\\n        \\nis_odd(2)\\nis_odd(1)\\nprint()\\n\\n# 2) lambda함수\\nis_odd_lambda1 = lambda n: print('짝수입니다!') if n%2==0 else print('홀수입니다!')\\nis_odd_lambda1(1)\\nis_odd_lambda1(2)\\n\\nis_odd_lambda2 = lambda n: '짝수입니다!' if n%2==0 else '홀수입니다!'\\nis_odd_lambda2(1)\\nis_odd_lambda2(2)\",\n",
       "  \"# 1. 홀수, 짝수를 구변하는 is_odd()함수를 작성\\n# 주어진 숫자가 홀수인지 짝수인지를 구별해서\\n# '짝수입니다' or '홀수입니다'를 출력하세요\\n# 1) 일반함수 is_odd(number)\\ndef is_odd(n):\\n    if n%2 == 0:\\n        print('짝수입니다!')\\n    else:\\n        print('홀수입니다!')\\n        \\nis_odd(2)\\nis_odd(1)\\nprint()\\n\\n# 2) lambda함수\\nis_odd_lambda1 = lambda n: print('짝수입니다!') if n%2==0 else print('홀수입니다!')\\nis_odd_lambda1(1)\\nis_odd_lambda1(2)\\n\\nis_odd_lambda2 = lambda n: '짝수입니다!' if n%2==0 else '홀수입니다!'\\nprint(is_odd_lambda2(1))\\nprint(is_odd_lambda2(2))\",\n",
       "  \"# 1. 홀수, 짝수를 구변하는 is_odd()함수를 작성\\n# 주어진 숫자가 홀수인지 짝수인지를 구별해서\\n# '짝수입니다' or '홀수입니다'를 출력하세요\\n# 1) 일반함수 is_odd(number)\\ndef is_odd(n):\\n    if n%2 == 0:\\n        print('짝수입니다!')\\n    else:\\n        print('홀수입니다!')\\n        \\nis_odd(2)\\nis_odd(1)\\nprint()\\n\\n# 2) lambda함수\\nis_odd_lambda1 = lambda n: print('짝수입니다!') if n%2==0 else print('홀수입니다!')\\nis_odd_lambda1(1)\\nis_odd_lambda1(2)\\nprint()\\n\\nis_odd_lambda2 = lambda n: '짝수입니다!' if n%2==0 else '홀수입니다!'\\nprint(is_odd_lambda2(1))\\nprint(is_odd_lambda2(2))\",\n",
       "  \"# 1. 홀수, 짝수를 구변하는 is_odd()함수를 작성\\n# 주어진 숫자가 홀수인지 짝수인지를 구별해서\\n# '짝수입니다' or '홀수입니다'를 출력하세요\\n# 1) 일반함수 is_odd(number)\\ndef is_odd(n):\\n    if n%2 == 0:\\n        print('짝수입니다!')\\n    else:\\n        print('홀수입니다!')\\n        \\nis_odd(2)\\nis_odd(1)\\nprint()\\n\\n# 2) lambda함수 - return이 없는 경우\\nis_odd_lambda1 = lambda n: print('짝수입니다!') if n%2==0 else print('홀수입니다!')\\nis_odd_lambda1(1)\\nis_odd_lambda1(2)\\nprint()\\n\\n# 3) lambda함수 - return이 생략된 경우\\nis_odd_lambda2 = lambda n: '짝수입니다!' if n%2==0 else '홀수입니다!'\\nprint(is_odd_lambda2(1))\\nprint(is_odd_lambda2(2))\\n\\nresult = is_odd_lambda2(1)\\nprint(result)\",\n",
       "  \"# 1. 홀수, 짝수를 구변하는 is_odd()함수를 작성\\n# 주어진 숫자가 홀수인지 짝수인지를 구별해서\\n# '짝수입니다' or '홀수입니다'를 출력하세요\\n# 1) 일반함수 is_odd(number)\\ndef is_odd(n):\\n    if n%2 == 0:\\n        print('짝수입니다!')\\n    else:\\n        print('홀수입니다!')\\n        \\nis_odd(2)\\nis_odd(1)\\nprint()\\n\\n# 2) lambda함수 - return이 없는 경우\\nis_odd_lambda1 = lambda n: print('짝수입니다!') if n%2==0 else print('홀수입니다!')\\nis_odd_lambda1(1)\\nis_odd_lambda1(2)\\nprint()\\n\\n# 3) lambda함수 - return이 생략된 경우\\nis_odd_lambda2 = lambda xxx: '짝수입니다!' if xxx%2==0 else '홀수입니다!'\\nprint(is_odd_lambda2(1))\\nprint(is_odd_lambda2(2))\\nprint()\\n\\nresult = is_odd_lambda2(1)\\nprint(result)\",\n",
       "  '# 2. 입력된 모든 수의 평균을 계산하는 funcAvg()함수를 작성\\n# 단, 입력매개변수의 갯수는 정해져 있지 않다.\\n# funcAvg()\\ndef funcAvg():\\n    pass\\n\\nfuncAvg()',\n",
       "  '# 2. 입력된 모든 수의 평균을 계산하는 funcAvg()함수를 작성\\n# 단, 입력매개변수의 갯수는 정해져 있지 않다.\\n# funcAvg()\\ndef funcAvg(*numbers):\\n    result = 0\\n    for num in numbers:\\n        result += num\\n    return(result / len(numbers))\\n\\nprint(funcAvg(1,2,3,4,5))',\n",
       "  '# 2. 입력된 모든 수의 평균을 계산하는 funcAvg()함수를 작성\\n# 단, 입력매개변수의 갯수는 정해져 있지 않다.\\n# funcAvg()\\ndef funcAvg(*numbers):\\n    result = 0\\n    for num in numbers:\\n        result += num\\n    return(result / len(numbers))\\n\\nprint(funcAvg(1,2,3,4,5))\\nprint(funcAvg(1,2,3,4,5,6,7,8,9,10))',\n",
       "  '# 2. 입력된 모든 수의 평균을 계산하는 funcAvg()함수를 작성\\n# 단, 입력매개변수의 갯수는 정해져 있지 않다.\\n# funcAvg()\\ndef funcAvg(*numbers):\\n    result = 0\\n    for num in numbers:\\n        result += num\\n    return(result / len(numbers))\\n\\nprint(funcAvg(1,2,3,4,5))\\nprint(funcAvg(1,2,3,4,5,6,7,8,9,10))\\nprint()\\n\\n# 멀티매개값을 list, tuple로 한 개의 값으로 전달하는 법\\nprint(funcAvg([1,2,3,4,5]))',\n",
       "  '# 2. 입력된 모든 수의 평균을 계산하는 funcAvg()함수를 작성\\n# 단, 입력매개변수의 갯수는 정해져 있지 않다.\\n# funcAvg()\\ndef funcAvg(*numbers):\\n    result = 0\\n    for num in numbers:\\n        result += num\\n    return(result / len(numbers))\\n\\nprint(funcAvg(1,2,3,4,5))\\nprint(funcAvg(1,2,3,4,5,6,7,8,9,10))\\nprint()\\n\\n# 멀티매개값을 list, tuple로 한 개의 값으로 전달하는 법\\nprint(funcAvg((1,2,3,4,5))',\n",
       "  '# 2. 입력된 모든 수의 평균을 계산하는 funcAvg()함수를 작성\\n# 단, 입력매개변수의 갯수는 정해져 있지 않다.\\n# funcAvg()\\ndef funcAvg(*numbers):\\n    result = 0\\n    for num in numbers:\\n        result += num\\n    return(result / len(numbers))\\n\\nprint(funcAvg(1,2,3,4,5))\\nprint(funcAvg(1,2,3,4,5,6,7,8,9,10))\\nprint()\\n\\n# 멀티매개값을 list, tuple로 한 개의 값으로 전달하는 법\\nprint(funcAvg((1,2,3,4,5)))',\n",
       "  '# 2. 입력된 모든 수의 평균을 계산하는 funcAvg()함수를 작성\\n# 단, 입력매개변수의 갯수는 정해져 있지 않다.\\n# funcAvg()\\ndef funcAvg(*numbers):\\n    result = 0\\n    for num in numbers:\\n        result += num\\n    return(result / len(numbers))\\n\\nprint(funcAvg(1,2,3,4,5))\\nprint(funcAvg(1,2,3,4,5,6,7,8,9,10))\\nprint()\\n\\n# 멀티매개값을 list, tuple로 한 개의 값으로 전달하는 법\\nprint(funcAvg(*(1,2,3,4,5)))',\n",
       "  '# 2. 입력된 모든 수의 평균을 계산하는 funcAvg()함수를 작성\\n# 단, 입력매개변수의 갯수는 정해져 있지 않다.\\n# funcAvg()\\ndef funcAvg(*numbers):\\n    result = 0\\n    for num in numbers:\\n        result += num\\n    return(result / len(numbers))\\n\\nprint(funcAvg(1,2,3,4,5))\\nprint(funcAvg(1,2,3,4,5,6,7,8,9,10))\\nprint()\\n\\n# 멀티매개값을 list, tuple로 한 개의 값으로 전달하는 법\\nprint(funcAvg(*(1,2,3,4,5)))\\nprint(funcAvg([1,2,3,4,5,6,7,8,9,10]))',\n",
       "  '# 2. 입력된 모든 수의 평균을 계산하는 funcAvg()함수를 작성\\n# 단, 입력매개변수의 갯수는 정해져 있지 않다.\\n# funcAvg()\\ndef funcAvg(*numbers):\\n    result = 0\\n    for num in numbers:\\n        result += num\\n    return(result / len(numbers))\\n\\nprint(funcAvg(1,2,3,4,5))\\nprint(funcAvg(1,2,3,4,5,6,7,8,9,10))\\nprint()\\n\\n# 멀티매개값을 list, tuple로 한 개의 값으로 전달하는 법\\nprint(funcAvg(*(1,2,3,4,5)))\\nprint(funcAvg(*[1,2,3,4,5,6,7,8,9,10]))',\n",
       "  \"# 3. 구구단을 출력하는 함수 gugudan()함수를 작성\\n# 입력값은 2~9단까지 한개의 임의의 단을 입력\\n# gugudan(9)\\ndef gugudan(dan):\\n    for i in range(2, 10):\\n        print(f'{dan} x {i} = {dan*i:2d}')\\n        \\ngugudan(9)\",\n",
       "  \"# 3. 구구단을 출력하는 함수 gugudan()함수를 작성\\n# 입력값은 2~9단까지 한개의 임의의 단을 입력\\n# gugudan(9)\\ndef gugudan(dan):\\n    for i in range(2, 10):\\n        print(f'{dan} x {i} = {dan*i:2d}')\\n        \\ngugudan(9)\\nprint()\\n\\ngugudan(2)\",\n",
       "  \"# 3. 구구단을 출력하는 함수 gugudan()함수를 작성\\n# 입력값은 2~9단까지 한개의 임의의 단을 입력\\n# gugudan(9)\\ndef gugudan(dan):\\n    for i in range(2, 10):\\n        print(f'{dan} x {i} = {dan*i:2d}')\\n        \\ngugudan(9)\\nprint()\\n\\ngugudan(2)\\nprint()\\n\\ngugudan(int(input('단을 입력하세요 => ')))\",\n",
       "  \"# 3. 구구단을 출력하는 함수 gugudan()함수를 작성\\n# 입력값은 2~9단까지 한개의 임의의 단을 입력\\n# gugudan(9)\\ndef gugudan(dan):\\n    for i in range(2, 10):\\n        print(f'{dan} x {i} = {dan*i:2d}')\\n        \\ngugudan(9)\\nprint()\\n\\ngugudan(2)\\nprint()\\n\\ngugudan(int(input('단을 입력하세요 => ')))\",\n",
       "  '# 4. 리스트 [2,3,4,5,6,7,8]에서 5보다 큰 수만 리턴하는 \\n# 1) funcReturn()함수작성\\ndef funcReturn(numbers):\\n    l = []\\n    for num in numbers:\\n        if num > 5:\\n            l.append(num)\\n    return l\\n\\nprint(funcAvg([2,3,4,5,6,7,8]))\\n\\n# 2) lambda식으로 작성, 이름은 funcReturnLambda',\n",
       "  '# 4. 리스트 [2,3,4,5,6,7,8]에서 5보다 큰 수만 리턴하는 \\n# 1) funcReturn()함수작성\\ndef funcReturn(numbers):\\n    l = []\\n    for num in numbers:\\n        if num > 5:\\n            l.append(num)\\n    return l\\n\\nprint(funcReturn([2,3,4,5,6,7,8]))\\n\\n# 2) lambda식으로 작성, 이름은 funcReturnLambda',\n",
       "  '# 4. 리스트 [2,3,4,5,6,7,8]에서 5보다 큰 수만 리턴하는 \\n# 1) funcReturn()함수작성\\ndef funcReturn(numbers):\\n    l = []\\n    for num in numbers:\\n        if num > 5:\\n            l.append(num)\\n    return l\\n\\nprint(funcReturn([2,3,4,5,6,7,8]))\\n\\n# 2) lambda식으로 작성, 이름은 funcReturnLambda\\nfuncReturnLambda = lambda numbers: [num for num in numbers if number > 5]\\nprint(funcReturnLambda([2,3,4,5,6,7,8]))',\n",
       "  '# 4. 리스트 [2,3,4,5,6,7,8]에서 5보다 큰 수만 리턴하는 \\n# 1) funcReturn()함수작성\\ndef funcReturn(numbers):\\n    l = []\\n    for num in numbers:\\n        if num > 5:\\n            l.append(num)\\n    return l\\n\\nprint(funcReturn([2,3,4,5,6,7,8]))\\n\\n# 2) lambda식으로 작성, 이름은 funcReturnLambda\\nfuncReturnLambda = lambda numbers: [num for num in numbers if num > 5]\\nprint(funcReturnLambda([2,3,4,5,6,7,8]))',\n",
       "  \"# 1. 변수의 사용범위\\n# 1) 전역변수(global variable)\\ndef closer():\\n    print(f'함수안에서 사용할 수 있는 전역변수 x = {x}')\\n\\ncloser()\\n\\n# 2) 지역변수(local variable)\",\n",
       "  \"# 1. 변수의 사용범위\\n# 1) 전역변수(global variable)\\n\\nx = 100\\ndef closer():\\n    print(f'함수안에서 사용할 수 있는 전역변수 x = {x}')\\n\\ncloser()\\n\\n# 2) 지역변수(local variable)\",\n",
       "  \"# 1. 변수의 사용범위\\n# 1) 전역변수(global variable)\\n\\nx = 100\\ndef closer1():\\n    print(f'함수안에서 사용할 수 있는 전역변수 x = {x}')\\n\\ncloser1()\",\n",
       "  \"# 2) 지역변수(local variable)\\ndef closer2():\\n    print(f'함수안에서 사용할 수 있는 전역변수 x = {x}')\\n\\ncloser2()\",\n",
       "  \"# 1. 변수의 사용범위\\n# 1) 전역변수(global variable)\\n\\nx = 100\\ndef closer1():\\n    print(f'함수안에서 사용할 수 있는 전역변수 x = {x}')\\n\\ncloser1()\\ndel x\",\n",
       "  \"get_ipython().run_line_magic('whos', '')\\n# 2) 지역변수(local variable)\\n\\ndef closer2():\\n    print(f'함수안에서 사용할 수 있는 전역변수 x = {x}')\\n\\ncloser2()\",\n",
       "  \"get_ipython().run_line_magic('whos', '')\\n# 2) 지역변수(local variable)\\n\\ndef closer2():\\n    x = '문자열 100'\\n    print(f'함수안에서 사용할 수 있는 지역변수 x = {x}')\\n\\ncloser2()\",\n",
       "  \"# 1. 변수의 사용범위\\n# 1) 전역변수(global variable)\\n\\nx = 100\\ndef closer1():\\n    print(f'함수안에서 사용할 수 있는 전역변수 x = {x}')\\n\\ncloser1()\\n# del x\",\n",
       "  \"get_ipython().run_line_magic('whos', '')\",\n",
       "  \"# 2) 지역변수(local variable)\\n\\ndef closer2():\\n#     x = '문자열 100'\\n    print(f'함수안에서 사용할 수 있는 지역변수 x = {x}')\\n\\ncloser2()\",\n",
       "  \"# 2) 지역변수(local variable)\\n\\ndef closer2():\\n    x = '문자열 100'\\n    print(f'함수안에서 사용할 수 있는 지역변수 x = {x}')\\n\\ncloser2()\",\n",
       "  \"get_ipython().run_line_magic('whos', '')\",\n",
       "  \"# 2) 지역변수(local variable)\\n\\ndef closer2():\\n    y = '문자열 100'\\n    print(f'함수안에서 사용할 수 있는 지역변수 y = {y}')\\n\\ncloser2()\",\n",
       "  \"get_ipython().run_line_magic('whos', '')\",\n",
       "  \"# 2) 지역변수(local variable)\\n\\ndef closer2():\\n    y = '문자열 100'\\n    print(f'함수안에서 사용할 수 있는 지역변수 y = {y}')\\n\\ncloser2()\\n\\nprint(y)\",\n",
       "  \"# 2) 지역변수(local variable)\\n\\ndef closer2():\\n    y = '문자열 100'\\n    print(f'함수안에서 사용할 수 있는 지역변수 y = {y}')\\n\\ncloser2()\\n\\n# 지역변수 y은 외부에서 접근불가능\\nprint(y) # NameError: name 'y' is not defined\",\n",
       "  \"# 2. 함수안에서 전역변수 사용(변경)하기\\nget_ipython().run_line_magic('whos', '')\",\n",
       "  \"# 2. 함수안에서 전역변수 사용(변경)하기\\nget_ipython().run_line_magic('reset', '')\",\n",
       "  \"# 2. 함수안에서 전역변수 사용(변경)하기\\nget_ipython().run_line_magic('reset', '-f')\",\n",
       "  \"get_ipython().run_line_magic('whos', '')\",\n",
       "  \"# 2. 함수안에서 전역변수 사용(변경)하기\\nget_ipython().run_line_magic('reset', '-f')\\n\\nx = 100\\nprint(f'전역변수 x의 메모리주소 = {id(x)}')\\ndef closer1():\\n    x = 200\\n    print(f'지역변수 x의 메모리주소 = {id(x)}')\\n    \\ncloser1()\",\n",
       "  \"# 2. 함수안에서 전역변수 사용(변경)하기\\nget_ipython().run_line_magic('reset', '-f')\\n\\nx = 100\\nprint(f'전역변수 x의 메모리주소 = {id(x)}')\\ndef closer1():\\n    x = 200\\n    print(f'지역변수 x의 메모리주소 = {id(x)}')\\n    \\ncloser1()\\nget_ipython().run_line_magic('whos', '')\",\n",
       "  \"# 1) 전역변수를 정의하는 방법(1)\\ny = 100\\nprint(f'전역변수 y의 메모리주소 = {id(y)}')\\ndef closer2():\\n    y = 200\\n    print(f'지역변수 y의 메모리주소 = {id(y)}')\\n    \\ncloser2()  \",\n",
       "  \"# 1) 전역변수를 정의하는 방법(1)\\ny = 100\\nprint(f'전역변수 y의 메모리주소 = {id(y)}')\\ndef closer2():\\n    global y # y는 지역변수가 아니라 전역변수로 선언\\n    y = 200\\n    print(f'지역변수 y의 메모리주소 = {id(y)}')\\n    \\ncloser2()  \",\n",
       "  \"# 2. 함수안에서 전역변수 사용(변경)하기\\nget_ipython().run_line_magic('reset', '-f')\\n\\nx = 100\\nprint(f'전역변수 x의 메모리주소 = {id(x)}')\\ndef closer1():\\n    x = 200\\n    print(f'지역변수 x의 메모리주소 = {id(x)}')\\n    \\ncloser1()\\nget_ipython().run_line_magic('whos', '')\",\n",
       "  \"# 1) 전역변수를 정의하는 방법(1)\\ny = 100\\nprint(f'전역변수 y의 메모리주소 = {id(y)}')\\ndef closer2():\\n    global y # y는 지역변수가 아니라 전역변수로 선언\\n    y = 200\\n    print(f'지역변수 y의 메모리주소 = {id(y)}, y의 값 = {y}')\\n    \\ncloser2() \\nprint(y)\",\n",
       "  \"# 1) 전역변수를 정의하는 방법(1)\\ny = 100\\nprint(f'전역변수 y의 메모리주소 = {id(y)}')\\ndef closer2():\\n    global y # y는 지역변수가 아니라 전역변수로 선언\\n    y = 200\\n    print(f'지역변수 y의 메모리주소 = {id(y)}, \\\\ny의 값 = {y}')\\n    \\ncloser2() \\nprint(f'y의 값 = {y}')\",\n",
       "  \"# 1) 전역변수를 정의하는 방법(1)\\ny = 100\\nprint(f'전역변수 y의 메모리주소 = {id(y)}')\\ndef closer2():\\n    global y # y는 지역변수가 아니라 전역변수로 선언\\n    y = 200\\n    print(f'전역변수 y의 메모리주소 = {id(y)}, \\\\n지역에서의 y의 값 = {y}')\\n    \\ncloser2() \\nprint(f'전역에서의 y의 값 = {y}')\",\n",
       "  \"# 1) 전역변수를 정의하는 방법(1)\\ny = 100\\nprint(f'전역변수 y의 메모리주소 = {id(y)}')\\nprint()\\n\\ndef closer2():\\n    global y # y는 지역변수가 아니라 전역변수로 선언\\n    y = 200\\n    print(f'전역변수 y의 메모리주소 = {id(y)}, \\\\n지역에서의 y의 값 = {y}')\\n    \\ncloser2() \\nprint(f'전역에서의 y의 값 = {y}')\",\n",
       "  \"# 1) 전역변수를 정의하는 방법(1)\\ny = 100\\nprint(f'전역변수 y의 메모리주소 = {id(y)}')\\ndef closer2():\\n    global y # y는 지역변수가 아니라 전역변수로 선언\\n    y = 200\\n    print(f'전역변수 y의 메모리주소 = {id(y)}, \\\\n\\\\n지역에서의 y의 값 = {y}')\\n    \\ncloser2() \\nprint(f'전역에서의 y의 값 = {y}')\",\n",
       "  \"# 1) 전역변수를 정의하는 방법(1)\\ny = 100\\nprint(f'전역변수 y의 메모리주소 = {id(y)}')\\ndef closer2():\\n    global y # y는 지역변수가 아니라 전역변수로 선언\\n    y = 200\\n    print(f'전역변수 y의 메모리주소 = {id(y)}, \\\\n\\\\n지역에서 전역변수로 선언된 y의 값 = {y}')\\n    \\ncloser2() \\nprint(f'전역에서의 y의 값 = {y}')\",\n",
       "  \"# 1) 전역변수를 정의하는 방법(1)\\ny = 100\\nprint(f'전역변수 y의 메모리주소 = {id(y)}')\\ndef closer2():\\n    # global y # y는 지역변수가 아니라 전역변수로 선언\\n    y = 200\\n    print(f'전역변수 y의 메모리주소 = {id(y)}, \\\\n\\\\n지역에서 전역변수로 선언된 y의 값 = {y}')\\n    \\ncloser2() \\nprint(f'전역에서의 y의 값 = {y}')\",\n",
       "  \"# 1) 전역변수를 정의하는 방법(1)\\ny = 100\\nprint(f'전역변수 y의 메모리주소 = {id(y)}')\\ndef closer2():\\n    global y # y는 지역변수가 아니라 전역변수로 선언\\n    y = 200\\n    print(f'전역변수 y의 메모리주소 = {id(y)}, \\\\n\\\\n지역에서 전역변수로 선언된 y의 값 = {y}')\\n    \\ncloser2() \\nprint(f'전역에서의 y의 값 = {y}')\",\n",
       "  \"# 2) 전역변수를 정의하는 방법(2)\\ndef closer3():\\n    z = 300\\n    print(f'지역변수 z의 메모리주소 = {id(z)}')\\n\\ncloser3()    \",\n",
       "  \"# 2) 전역변수를 정의하는 방법(2)\\ndef closer3():\\n    z = 300\\n    print(f'지역변수 z의 메모리주소 = {id(z)}')\\n    print(f'지역변수 z의 값 = {z}')\\n\\ncloser3()    \",\n",
       "  \"# 2) 전역변수를 정의하는 방법(2)\\ndef closer3():\\n    z = 300\\n    print(f'지역에서선언된 z의 메모리주소 = {id(z)}')\\n    print(f'지역에서선언된 z의 값 = {z}')\\n\\ncloser3() \\n\\nprint(f'지역에서선언된 z의 값 = {z}')\",\n",
       "  \"# 2) 전역변수를 정의하는 방법(2)\\ndef closer3():\\n    global\\n    z = 300\\n    print(f'지역에서선언된 z의 메모리주소 = {id(z)}')\\n    print(f'지역에서선언된 z의 값 = {z}')\\n\\ncloser3() \\n\\nprint(f'지역에서선언된 z의 값 = {z}')\",\n",
       "  \"# 2) 전역변수를 정의하는 방법(2)\\ndef closer3():\\n    global z\\n    z = 300\\n    print(f'지역에서선언된 z의 메모리주소 = {id(z)}')\\n    print(f'지역에서선언된 z의 값 = {z}')\\n\\ncloser3() \\n\\nprint(f'지역에서선언된 z의 값 = {z}')\",\n",
       "  \"# 2) 전역변수를 정의하는 방법(2)\\ndef closer3():\\n    global z = 300\\n    print(f'지역에서선언된 z의 메모리주소 = {id(z)}')\\n    print(f'지역에서선언된 z의 값 = {z}')\\n\\ncloser3() \\n\\nprint(f'지역에서선언된 z의 값 = {z}')\",\n",
       "  \"# 2) 전역변수를 정의하는 방법(2)\\ndef closer3():\\n    global z\\n    z = 300\\n    print(f'지역에서선언된 z의 메모리주소 = {id(z)}')\\n    print(f'지역에서선언된 z의 값 = {z}')\\n\\ncloser3() \\n\\nprint(f'지역에서선언된 z의 값 = {z}')\",\n",
       "  'import copy',\n",
       "  \"# 네임스페이스\\n# 파이썬에서는 변수들은 네임스페이스에 저장된다.\\n# 네임스페이스를 확인하려면 globals(), local()함수를 이용하면\\n# 현재의 Namespase를 딕셔너리형태로 출력한다.\\n# 또한, Jupyter Notebook의 매직명령어 %who, %whos, %whos_ls로도 확인 가능하다.\\nget_ipython().run_line_magic('who', '')\",\n",
       "  \"# 네임스페이스\\n# 파이썬에서는 변수들은 네임스페이스에 저장된다.\\n# 네임스페이스를 확인하려면 globals(), local()함수를 이용하면\\n# 현재의 Namespase를 딕셔너리형태로 출력한다.\\n# 또한, Jupyter Notebook의 매직명령어 %who, %whos, %whos_ls로도 확인 가능하다.\\nget_ipython().run_line_magic('whos', '')\",\n",
       "  \"# 네임스페이스\\n# 파이썬에서는 변수들은 네임스페이스에 저장된다.\\n# 네임스페이스를 확인하려면 globals(), local()함수를 이용하면\\n# 현재의 Namespase를 딕셔너리형태로 출력한다.\\n# 또한, Jupyter Notebook의 매직명령어 %who, %whos, %whos_ls로도 확인 가능하다.\\nget_ipython().run_line_magic('whos_ls', '')\",\n",
       "  \"# 네임스페이스\\n# 파이썬에서는 변수들은 네임스페이스에 저장된다.\\n# 네임스페이스를 확인하려면 globals(), local()함수를 이용하면\\n# 현재의 Namespase를 딕셔너리형태로 출력한다.\\n# 또한, Jupyter Notebook의 매직명령어 %who, %whos, %whos_ls로도 확인 가능하다.\\nget_ipython().run_line_magic('who_ls', '')\",\n",
       "  \"# 네임스페이스\\n# 파이썬에서는 변수들은 네임스페이스에 저장된다.\\n# 네임스페이스를 확인하려면 globals(), local()함수를 이용하면\\n# 현재의 Namespase를 딕셔너리형태로 출력한다.\\n# 또한, Jupyter Notebook의 매직명령어 %who, %whos, %whos_ls로도 확인 가능하다.\\nget_ipython().run_line_magic('whos', '')\",\n",
       "  \"# 네임스페이스\\n# 파이썬에서는 변수들은 네임스페이스에 저장된다.\\n# 네임스페이스를 확인하려면 globals(), local()함수를 이용하면\\n# 현재의 Namespase를 딕셔너리형태로 출력한다.\\n# 또한, Jupyter Notebook의 매직명령어 %who, %whos, %whos_ls로도 확인 가능하다.\\nget_ipython().run_line_magic('whos', '')\\nget_ipython().run_line_magic('reset', '-f')\\n\\na = 3\\nget_ipython().run_line_magic('whos', '')\",\n",
       "  \"# 네임스페이스\\n# 파이썬에서는 변수들은 네임스페이스에 저장된다.\\n# 네임스페이스를 확인하려면 globals(), local()함수를 이용하면\\n# 현재의 Namespase를 딕셔너리형태로 출력한다.\\n# 또한, Jupyter Notebook의 매직명령어 %who, %whos, %whos_ls로도 확인 가능하다.\\nget_ipython().run_line_magic('whos', '')\\nget_ipython().run_line_magic('reset', '-f')\\n\\na = 3\\nget_ipython().run_line_magic('whos', '')\",\n",
       "  \"# 네임스페이스\\n# 파이썬에서는 변수들은 네임스페이스에 저장된다.\\n# 네임스페이스를 확인하려면 globals(), local()함수를 이용하면\\n# 현재의 Namespase를 딕셔너리형태로 출력한다.\\n# 또한, Jupyter Notebook의 매직명령어 %who, %whos, %whos_ls로도 확인 가능하다.\\nget_ipython().run_line_magic('reset', '-f')\\n\\na = 3\\nget_ipython().run_line_magic('whos', '')\",\n",
       "  \"# 네임스페이스\\n# 파이썬에서는 변수들은 네임스페이스에 저장된다.\\n# 네임스페이스를 확인하려면 globals(), local()함수를 이용하면\\n# 현재의 Namespase를 딕셔너리형태로 출력한다.\\n# 또한, Jupyter Notebook의 매직명령어 %who, %whos, %whos_ls로도 확인 가능하다.\\nget_ipython().run_line_magic('reset', '-f')\\n\\na = 3\\nget_ipython().run_line_magic('whos', '')\\n\\nlocals()\"],\n",
       " 'Out': {},\n",
       " 'get_ipython': <bound method InteractiveShell.get_ipython of <ipykernel.zmqshell.ZMQInteractiveShell object at 0x000001DC0A0FCA50>>,\n",
       " 'exit': <IPython.core.autocall.ZMQExitAutocall at 0x1dc0a117bd0>,\n",
       " 'quit': <IPython.core.autocall.ZMQExitAutocall at 0x1dc0a117bd0>,\n",
       " 'open': <function io.open(file, mode='r', buffering=-1, encoding=None, errors=None, newline=None, closefd=True, opener=None)>,\n",
       " 'a': 3}"
      ]
     },
     "execution_count": 77,
     "metadata": {},
     "output_type": "execute_result"
    }
   ],
   "source": [
    "# 네임스페이스\n",
    "# 파이썬에서는 변수들은 네임스페이스에 저장된다.\n",
    "# 네임스페이스를 확인하려면 globals(), local()함수를 이용하면\n",
    "# 현재의 Namespase를 딕셔너리형태로 출력한다.\n",
    "# 또한, Jupyter Notebook의 매직명령어 %who, %whos, %whos_ls로도 확인 가능하다.\n",
    "%reset -f\n",
    "\n",
    "a = 3\n",
    "%whos\n",
    "\n",
    "locals()"
   ]
  },
  {
   "cell_type": "code",
   "execution_count": 78,
   "id": "583083c8",
   "metadata": {},
   "outputs": [
    {
     "name": "stdout",
     "output_type": "stream",
     "text": [
      "{'__name__': '__main__', '__builtin__': <module 'builtins' (built-in)>, '__builtins__': <module 'builtins' (built-in)>, '_ih': ['', \"# 1. 홀수, 짝수를 구변하는 is_odd()함수를 작성\\n# 주어진 숫자가 홀수인지 짝수인지를 구별해서\\n# '짝수입니다' or '홀수입니다'를 출력하세요\\n# 1) 일반함수 is_odd(number)\\ndef is_odd(n):\\n    if n%2 == 0:\\n        print('짝수입니다!')\\n    else:\\n        print('홀수입니다!')\\n        \\nis_odd(1)\\n# 2) lambda함수\", \"# 1. 홀수, 짝수를 구변하는 is_odd()함수를 작성\\n# 주어진 숫자가 홀수인지 짝수인지를 구별해서\\n# '짝수입니다' or '홀수입니다'를 출력하세요\\n# 1) 일반함수 is_odd(number)\\ndef is_odd(n):\\n    if n%2 == 0:\\n        print('짝수입니다!')\\n    else:\\n        print('홀수입니다!')\\n        \\nis_odd(2)\\n\\n# 2) lambda함수\", \"# 1. 홀수, 짝수를 구변하는 is_odd()함수를 작성\\n# 주어진 숫자가 홀수인지 짝수인지를 구별해서\\n# '짝수입니다' or '홀수입니다'를 출력하세요\\n# 1) 일반함수 is_odd(number)\\ndef is_odd(n):\\n    if n%2 == 0:\\n        print('짝수입니다!')\\n    else:\\n        print('홀수입니다!')\\n        \\nis_odd(2)\\n\\n# 2) lambda함수\\nis_odd_lambda = lambda n: print('짝수입니다!') if n%2==0 else print('홀수입니다!')\\nis_odd_lambda(1)\", \"# 1. 홀수, 짝수를 구변하는 is_odd()함수를 작성\\n# 주어진 숫자가 홀수인지 짝수인지를 구별해서\\n# '짝수입니다' or '홀수입니다'를 출력하세요\\n# 1) 일반함수 is_odd(number)\\ndef is_odd(n):\\n    if n%2 == 0:\\n        print('짝수입니다!')\\n    else:\\n        print('홀수입니다!')\\n        \\nis_odd(2)\\n\\n# 2) lambda함수\\nis_odd_lambda = lambda n: print('짝수입니다!') if n%2==0 else print('홀수입니다!')\\nis_odd_lambda(1)\\nis_odd_lambda(2)\", \"# 1. 홀수, 짝수를 구변하는 is_odd()함수를 작성\\n# 주어진 숫자가 홀수인지 짝수인지를 구별해서\\n# '짝수입니다' or '홀수입니다'를 출력하세요\\n# 1) 일반함수 is_odd(number)\\ndef is_odd(n):\\n    if n%2 == 0:\\n        print('짝수입니다!')\\n    else:\\n        print('홀수입니다!')\\n        \\nis_odd(2)\\nis_odd(1)\\nprint()\\n\\n# 2) lambda함수\\nis_odd_lambda = lambda n: print('짝수입니다!') if n%2==0 else print('홀수입니다!')\\nis_odd_lambda(1)\\nis_odd_lambda(2)\", \"# 1. 홀수, 짝수를 구변하는 is_odd()함수를 작성\\n# 주어진 숫자가 홀수인지 짝수인지를 구별해서\\n# '짝수입니다' or '홀수입니다'를 출력하세요\\n# 1) 일반함수 is_odd(number)\\ndef is_odd(n):\\n    if n%2 == 0:\\n        print('짝수입니다!')\\n    else:\\n        print('홀수입니다!')\\n        \\nis_odd(2)\\nis_odd(1)\\nprint()\\n\\n# 2) lambda함수\\nis_odd_lambda1 = lambda n: print('짝수입니다!') if n%2==0 else print('홀수입니다!')\\nis_odd_lambda1(1)\\nis_odd_lambda1(2)\\n\\nis_odd_lambda2 = lambda n: '짝수입니다!' if n%2==0 else '홀수입니다!'\\nis_odd_lambda2(1)\\nis_odd_lambda2(2)\", \"# 1. 홀수, 짝수를 구변하는 is_odd()함수를 작성\\n# 주어진 숫자가 홀수인지 짝수인지를 구별해서\\n# '짝수입니다' or '홀수입니다'를 출력하세요\\n# 1) 일반함수 is_odd(number)\\ndef is_odd(n):\\n    if n%2 == 0:\\n        print('짝수입니다!')\\n    else:\\n        print('홀수입니다!')\\n        \\nis_odd(2)\\nis_odd(1)\\nprint()\\n\\n# 2) lambda함수\\nis_odd_lambda1 = lambda n: print('짝수입니다!') if n%2==0 else print('홀수입니다!')\\nis_odd_lambda1(1)\\nis_odd_lambda1(2)\\n\\nis_odd_lambda2 = lambda n: '짝수입니다!' if n%2==0 else '홀수입니다!'\\nprint(is_odd_lambda2(1))\\nprint(is_odd_lambda2(2))\", \"# 1. 홀수, 짝수를 구변하는 is_odd()함수를 작성\\n# 주어진 숫자가 홀수인지 짝수인지를 구별해서\\n# '짝수입니다' or '홀수입니다'를 출력하세요\\n# 1) 일반함수 is_odd(number)\\ndef is_odd(n):\\n    if n%2 == 0:\\n        print('짝수입니다!')\\n    else:\\n        print('홀수입니다!')\\n        \\nis_odd(2)\\nis_odd(1)\\nprint()\\n\\n# 2) lambda함수\\nis_odd_lambda1 = lambda n: print('짝수입니다!') if n%2==0 else print('홀수입니다!')\\nis_odd_lambda1(1)\\nis_odd_lambda1(2)\\nprint()\\n\\nis_odd_lambda2 = lambda n: '짝수입니다!' if n%2==0 else '홀수입니다!'\\nprint(is_odd_lambda2(1))\\nprint(is_odd_lambda2(2))\", \"# 1. 홀수, 짝수를 구변하는 is_odd()함수를 작성\\n# 주어진 숫자가 홀수인지 짝수인지를 구별해서\\n# '짝수입니다' or '홀수입니다'를 출력하세요\\n# 1) 일반함수 is_odd(number)\\ndef is_odd(n):\\n    if n%2 == 0:\\n        print('짝수입니다!')\\n    else:\\n        print('홀수입니다!')\\n        \\nis_odd(2)\\nis_odd(1)\\nprint()\\n\\n# 2) lambda함수 - return이 없는 경우\\nis_odd_lambda1 = lambda n: print('짝수입니다!') if n%2==0 else print('홀수입니다!')\\nis_odd_lambda1(1)\\nis_odd_lambda1(2)\\nprint()\\n\\n# 3) lambda함수 - return이 생략된 경우\\nis_odd_lambda2 = lambda n: '짝수입니다!' if n%2==0 else '홀수입니다!'\\nprint(is_odd_lambda2(1))\\nprint(is_odd_lambda2(2))\\n\\nresult = is_odd_lambda2(1)\\nprint(result)\", \"# 1. 홀수, 짝수를 구변하는 is_odd()함수를 작성\\n# 주어진 숫자가 홀수인지 짝수인지를 구별해서\\n# '짝수입니다' or '홀수입니다'를 출력하세요\\n# 1) 일반함수 is_odd(number)\\ndef is_odd(n):\\n    if n%2 == 0:\\n        print('짝수입니다!')\\n    else:\\n        print('홀수입니다!')\\n        \\nis_odd(2)\\nis_odd(1)\\nprint()\\n\\n# 2) lambda함수 - return이 없는 경우\\nis_odd_lambda1 = lambda n: print('짝수입니다!') if n%2==0 else print('홀수입니다!')\\nis_odd_lambda1(1)\\nis_odd_lambda1(2)\\nprint()\\n\\n# 3) lambda함수 - return이 생략된 경우\\nis_odd_lambda2 = lambda xxx: '짝수입니다!' if xxx%2==0 else '홀수입니다!'\\nprint(is_odd_lambda2(1))\\nprint(is_odd_lambda2(2))\\nprint()\\n\\nresult = is_odd_lambda2(1)\\nprint(result)\", '# 2. 입력된 모든 수의 평균을 계산하는 funcAvg()함수를 작성\\n# 단, 입력매개변수의 갯수는 정해져 있지 않다.\\n# funcAvg()\\ndef funcAvg():\\n    pass\\n\\nfuncAvg()', '# 2. 입력된 모든 수의 평균을 계산하는 funcAvg()함수를 작성\\n# 단, 입력매개변수의 갯수는 정해져 있지 않다.\\n# funcAvg()\\ndef funcAvg(*numbers):\\n    result = 0\\n    for num in numbers:\\n        result += num\\n    return(result / len(numbers))\\n\\nprint(funcAvg(1,2,3,4,5))', '# 2. 입력된 모든 수의 평균을 계산하는 funcAvg()함수를 작성\\n# 단, 입력매개변수의 갯수는 정해져 있지 않다.\\n# funcAvg()\\ndef funcAvg(*numbers):\\n    result = 0\\n    for num in numbers:\\n        result += num\\n    return(result / len(numbers))\\n\\nprint(funcAvg(1,2,3,4,5))\\nprint(funcAvg(1,2,3,4,5,6,7,8,9,10))', '# 2. 입력된 모든 수의 평균을 계산하는 funcAvg()함수를 작성\\n# 단, 입력매개변수의 갯수는 정해져 있지 않다.\\n# funcAvg()\\ndef funcAvg(*numbers):\\n    result = 0\\n    for num in numbers:\\n        result += num\\n    return(result / len(numbers))\\n\\nprint(funcAvg(1,2,3,4,5))\\nprint(funcAvg(1,2,3,4,5,6,7,8,9,10))\\nprint()\\n\\n# 멀티매개값을 list, tuple로 한 개의 값으로 전달하는 법\\nprint(funcAvg([1,2,3,4,5]))', '# 2. 입력된 모든 수의 평균을 계산하는 funcAvg()함수를 작성\\n# 단, 입력매개변수의 갯수는 정해져 있지 않다.\\n# funcAvg()\\ndef funcAvg(*numbers):\\n    result = 0\\n    for num in numbers:\\n        result += num\\n    return(result / len(numbers))\\n\\nprint(funcAvg(1,2,3,4,5))\\nprint(funcAvg(1,2,3,4,5,6,7,8,9,10))\\nprint()\\n\\n# 멀티매개값을 list, tuple로 한 개의 값으로 전달하는 법\\nprint(funcAvg((1,2,3,4,5))', '# 2. 입력된 모든 수의 평균을 계산하는 funcAvg()함수를 작성\\n# 단, 입력매개변수의 갯수는 정해져 있지 않다.\\n# funcAvg()\\ndef funcAvg(*numbers):\\n    result = 0\\n    for num in numbers:\\n        result += num\\n    return(result / len(numbers))\\n\\nprint(funcAvg(1,2,3,4,5))\\nprint(funcAvg(1,2,3,4,5,6,7,8,9,10))\\nprint()\\n\\n# 멀티매개값을 list, tuple로 한 개의 값으로 전달하는 법\\nprint(funcAvg((1,2,3,4,5)))', '# 2. 입력된 모든 수의 평균을 계산하는 funcAvg()함수를 작성\\n# 단, 입력매개변수의 갯수는 정해져 있지 않다.\\n# funcAvg()\\ndef funcAvg(*numbers):\\n    result = 0\\n    for num in numbers:\\n        result += num\\n    return(result / len(numbers))\\n\\nprint(funcAvg(1,2,3,4,5))\\nprint(funcAvg(1,2,3,4,5,6,7,8,9,10))\\nprint()\\n\\n# 멀티매개값을 list, tuple로 한 개의 값으로 전달하는 법\\nprint(funcAvg(*(1,2,3,4,5)))', '# 2. 입력된 모든 수의 평균을 계산하는 funcAvg()함수를 작성\\n# 단, 입력매개변수의 갯수는 정해져 있지 않다.\\n# funcAvg()\\ndef funcAvg(*numbers):\\n    result = 0\\n    for num in numbers:\\n        result += num\\n    return(result / len(numbers))\\n\\nprint(funcAvg(1,2,3,4,5))\\nprint(funcAvg(1,2,3,4,5,6,7,8,9,10))\\nprint()\\n\\n# 멀티매개값을 list, tuple로 한 개의 값으로 전달하는 법\\nprint(funcAvg(*(1,2,3,4,5)))\\nprint(funcAvg([1,2,3,4,5,6,7,8,9,10]))', '# 2. 입력된 모든 수의 평균을 계산하는 funcAvg()함수를 작성\\n# 단, 입력매개변수의 갯수는 정해져 있지 않다.\\n# funcAvg()\\ndef funcAvg(*numbers):\\n    result = 0\\n    for num in numbers:\\n        result += num\\n    return(result / len(numbers))\\n\\nprint(funcAvg(1,2,3,4,5))\\nprint(funcAvg(1,2,3,4,5,6,7,8,9,10))\\nprint()\\n\\n# 멀티매개값을 list, tuple로 한 개의 값으로 전달하는 법\\nprint(funcAvg(*(1,2,3,4,5)))\\nprint(funcAvg(*[1,2,3,4,5,6,7,8,9,10]))', \"# 3. 구구단을 출력하는 함수 gugudan()함수를 작성\\n# 입력값은 2~9단까지 한개의 임의의 단을 입력\\n# gugudan(9)\\ndef gugudan(dan):\\n    for i in range(2, 10):\\n        print(f'{dan} x {i} = {dan*i:2d}')\\n        \\ngugudan(9)\", \"# 3. 구구단을 출력하는 함수 gugudan()함수를 작성\\n# 입력값은 2~9단까지 한개의 임의의 단을 입력\\n# gugudan(9)\\ndef gugudan(dan):\\n    for i in range(2, 10):\\n        print(f'{dan} x {i} = {dan*i:2d}')\\n        \\ngugudan(9)\\nprint()\\n\\ngugudan(2)\", \"# 3. 구구단을 출력하는 함수 gugudan()함수를 작성\\n# 입력값은 2~9단까지 한개의 임의의 단을 입력\\n# gugudan(9)\\ndef gugudan(dan):\\n    for i in range(2, 10):\\n        print(f'{dan} x {i} = {dan*i:2d}')\\n        \\ngugudan(9)\\nprint()\\n\\ngugudan(2)\\nprint()\\n\\ngugudan(int(input('단을 입력하세요 => ')))\", \"# 3. 구구단을 출력하는 함수 gugudan()함수를 작성\\n# 입력값은 2~9단까지 한개의 임의의 단을 입력\\n# gugudan(9)\\ndef gugudan(dan):\\n    for i in range(2, 10):\\n        print(f'{dan} x {i} = {dan*i:2d}')\\n        \\ngugudan(9)\\nprint()\\n\\ngugudan(2)\\nprint()\\n\\ngugudan(int(input('단을 입력하세요 => ')))\", '# 4. 리스트 [2,3,4,5,6,7,8]에서 5보다 큰 수만 리턴하는 \\n# 1) funcReturn()함수작성\\ndef funcReturn(numbers):\\n    l = []\\n    for num in numbers:\\n        if num > 5:\\n            l.append(num)\\n    return l\\n\\nprint(funcAvg([2,3,4,5,6,7,8]))\\n\\n# 2) lambda식으로 작성, 이름은 funcReturnLambda', '# 4. 리스트 [2,3,4,5,6,7,8]에서 5보다 큰 수만 리턴하는 \\n# 1) funcReturn()함수작성\\ndef funcReturn(numbers):\\n    l = []\\n    for num in numbers:\\n        if num > 5:\\n            l.append(num)\\n    return l\\n\\nprint(funcReturn([2,3,4,5,6,7,8]))\\n\\n# 2) lambda식으로 작성, 이름은 funcReturnLambda', '# 4. 리스트 [2,3,4,5,6,7,8]에서 5보다 큰 수만 리턴하는 \\n# 1) funcReturn()함수작성\\ndef funcReturn(numbers):\\n    l = []\\n    for num in numbers:\\n        if num > 5:\\n            l.append(num)\\n    return l\\n\\nprint(funcReturn([2,3,4,5,6,7,8]))\\n\\n# 2) lambda식으로 작성, 이름은 funcReturnLambda\\nfuncReturnLambda = lambda numbers: [num for num in numbers if number > 5]\\nprint(funcReturnLambda([2,3,4,5,6,7,8]))', '# 4. 리스트 [2,3,4,5,6,7,8]에서 5보다 큰 수만 리턴하는 \\n# 1) funcReturn()함수작성\\ndef funcReturn(numbers):\\n    l = []\\n    for num in numbers:\\n        if num > 5:\\n            l.append(num)\\n    return l\\n\\nprint(funcReturn([2,3,4,5,6,7,8]))\\n\\n# 2) lambda식으로 작성, 이름은 funcReturnLambda\\nfuncReturnLambda = lambda numbers: [num for num in numbers if num > 5]\\nprint(funcReturnLambda([2,3,4,5,6,7,8]))', \"# 1. 변수의 사용범위\\n# 1) 전역변수(global variable)\\ndef closer():\\n    print(f'함수안에서 사용할 수 있는 전역변수 x = {x}')\\n\\ncloser()\\n\\n# 2) 지역변수(local variable)\", \"# 1. 변수의 사용범위\\n# 1) 전역변수(global variable)\\n\\nx = 100\\ndef closer():\\n    print(f'함수안에서 사용할 수 있는 전역변수 x = {x}')\\n\\ncloser()\\n\\n# 2) 지역변수(local variable)\", \"# 1. 변수의 사용범위\\n# 1) 전역변수(global variable)\\n\\nx = 100\\ndef closer1():\\n    print(f'함수안에서 사용할 수 있는 전역변수 x = {x}')\\n\\ncloser1()\", \"# 2) 지역변수(local variable)\\ndef closer2():\\n    print(f'함수안에서 사용할 수 있는 전역변수 x = {x}')\\n\\ncloser2()\", \"# 1. 변수의 사용범위\\n# 1) 전역변수(global variable)\\n\\nx = 100\\ndef closer1():\\n    print(f'함수안에서 사용할 수 있는 전역변수 x = {x}')\\n\\ncloser1()\\ndel x\", \"get_ipython().run_line_magic('whos', '')\\n# 2) 지역변수(local variable)\\n\\ndef closer2():\\n    print(f'함수안에서 사용할 수 있는 전역변수 x = {x}')\\n\\ncloser2()\", \"get_ipython().run_line_magic('whos', '')\\n# 2) 지역변수(local variable)\\n\\ndef closer2():\\n    x = '문자열 100'\\n    print(f'함수안에서 사용할 수 있는 지역변수 x = {x}')\\n\\ncloser2()\", \"# 1. 변수의 사용범위\\n# 1) 전역변수(global variable)\\n\\nx = 100\\ndef closer1():\\n    print(f'함수안에서 사용할 수 있는 전역변수 x = {x}')\\n\\ncloser1()\\n# del x\", \"get_ipython().run_line_magic('whos', '')\", \"# 2) 지역변수(local variable)\\n\\ndef closer2():\\n#     x = '문자열 100'\\n    print(f'함수안에서 사용할 수 있는 지역변수 x = {x}')\\n\\ncloser2()\", \"# 2) 지역변수(local variable)\\n\\ndef closer2():\\n    x = '문자열 100'\\n    print(f'함수안에서 사용할 수 있는 지역변수 x = {x}')\\n\\ncloser2()\", \"get_ipython().run_line_magic('whos', '')\", \"# 2) 지역변수(local variable)\\n\\ndef closer2():\\n    y = '문자열 100'\\n    print(f'함수안에서 사용할 수 있는 지역변수 y = {y}')\\n\\ncloser2()\", \"get_ipython().run_line_magic('whos', '')\", \"# 2) 지역변수(local variable)\\n\\ndef closer2():\\n    y = '문자열 100'\\n    print(f'함수안에서 사용할 수 있는 지역변수 y = {y}')\\n\\ncloser2()\\n\\nprint(y)\", \"# 2) 지역변수(local variable)\\n\\ndef closer2():\\n    y = '문자열 100'\\n    print(f'함수안에서 사용할 수 있는 지역변수 y = {y}')\\n\\ncloser2()\\n\\n# 지역변수 y은 외부에서 접근불가능\\nprint(y) # NameError: name 'y' is not defined\", \"# 2. 함수안에서 전역변수 사용(변경)하기\\nget_ipython().run_line_magic('whos', '')\", \"# 2. 함수안에서 전역변수 사용(변경)하기\\nget_ipython().run_line_magic('reset', '')\", \"# 2. 함수안에서 전역변수 사용(변경)하기\\nget_ipython().run_line_magic('reset', '-f')\", \"get_ipython().run_line_magic('whos', '')\", \"# 2. 함수안에서 전역변수 사용(변경)하기\\nget_ipython().run_line_magic('reset', '-f')\\n\\nx = 100\\nprint(f'전역변수 x의 메모리주소 = {id(x)}')\\ndef closer1():\\n    x = 200\\n    print(f'지역변수 x의 메모리주소 = {id(x)}')\\n    \\ncloser1()\", \"# 2. 함수안에서 전역변수 사용(변경)하기\\nget_ipython().run_line_magic('reset', '-f')\\n\\nx = 100\\nprint(f'전역변수 x의 메모리주소 = {id(x)}')\\ndef closer1():\\n    x = 200\\n    print(f'지역변수 x의 메모리주소 = {id(x)}')\\n    \\ncloser1()\\nget_ipython().run_line_magic('whos', '')\", \"# 1) 전역변수를 정의하는 방법(1)\\ny = 100\\nprint(f'전역변수 y의 메모리주소 = {id(y)}')\\ndef closer2():\\n    y = 200\\n    print(f'지역변수 y의 메모리주소 = {id(y)}')\\n    \\ncloser2()  \", \"# 1) 전역변수를 정의하는 방법(1)\\ny = 100\\nprint(f'전역변수 y의 메모리주소 = {id(y)}')\\ndef closer2():\\n    global y # y는 지역변수가 아니라 전역변수로 선언\\n    y = 200\\n    print(f'지역변수 y의 메모리주소 = {id(y)}')\\n    \\ncloser2()  \", \"# 2. 함수안에서 전역변수 사용(변경)하기\\nget_ipython().run_line_magic('reset', '-f')\\n\\nx = 100\\nprint(f'전역변수 x의 메모리주소 = {id(x)}')\\ndef closer1():\\n    x = 200\\n    print(f'지역변수 x의 메모리주소 = {id(x)}')\\n    \\ncloser1()\\nget_ipython().run_line_magic('whos', '')\", \"# 1) 전역변수를 정의하는 방법(1)\\ny = 100\\nprint(f'전역변수 y의 메모리주소 = {id(y)}')\\ndef closer2():\\n    global y # y는 지역변수가 아니라 전역변수로 선언\\n    y = 200\\n    print(f'지역변수 y의 메모리주소 = {id(y)}, y의 값 = {y}')\\n    \\ncloser2() \\nprint(y)\", \"# 1) 전역변수를 정의하는 방법(1)\\ny = 100\\nprint(f'전역변수 y의 메모리주소 = {id(y)}')\\ndef closer2():\\n    global y # y는 지역변수가 아니라 전역변수로 선언\\n    y = 200\\n    print(f'지역변수 y의 메모리주소 = {id(y)}, \\\\ny의 값 = {y}')\\n    \\ncloser2() \\nprint(f'y의 값 = {y}')\", \"# 1) 전역변수를 정의하는 방법(1)\\ny = 100\\nprint(f'전역변수 y의 메모리주소 = {id(y)}')\\ndef closer2():\\n    global y # y는 지역변수가 아니라 전역변수로 선언\\n    y = 200\\n    print(f'전역변수 y의 메모리주소 = {id(y)}, \\\\n지역에서의 y의 값 = {y}')\\n    \\ncloser2() \\nprint(f'전역에서의 y의 값 = {y}')\", \"# 1) 전역변수를 정의하는 방법(1)\\ny = 100\\nprint(f'전역변수 y의 메모리주소 = {id(y)}')\\nprint()\\n\\ndef closer2():\\n    global y # y는 지역변수가 아니라 전역변수로 선언\\n    y = 200\\n    print(f'전역변수 y의 메모리주소 = {id(y)}, \\\\n지역에서의 y의 값 = {y}')\\n    \\ncloser2() \\nprint(f'전역에서의 y의 값 = {y}')\", \"# 1) 전역변수를 정의하는 방법(1)\\ny = 100\\nprint(f'전역변수 y의 메모리주소 = {id(y)}')\\ndef closer2():\\n    global y # y는 지역변수가 아니라 전역변수로 선언\\n    y = 200\\n    print(f'전역변수 y의 메모리주소 = {id(y)}, \\\\n\\\\n지역에서의 y의 값 = {y}')\\n    \\ncloser2() \\nprint(f'전역에서의 y의 값 = {y}')\", \"# 1) 전역변수를 정의하는 방법(1)\\ny = 100\\nprint(f'전역변수 y의 메모리주소 = {id(y)}')\\ndef closer2():\\n    global y # y는 지역변수가 아니라 전역변수로 선언\\n    y = 200\\n    print(f'전역변수 y의 메모리주소 = {id(y)}, \\\\n\\\\n지역에서 전역변수로 선언된 y의 값 = {y}')\\n    \\ncloser2() \\nprint(f'전역에서의 y의 값 = {y}')\", \"# 1) 전역변수를 정의하는 방법(1)\\ny = 100\\nprint(f'전역변수 y의 메모리주소 = {id(y)}')\\ndef closer2():\\n    # global y # y는 지역변수가 아니라 전역변수로 선언\\n    y = 200\\n    print(f'전역변수 y의 메모리주소 = {id(y)}, \\\\n\\\\n지역에서 전역변수로 선언된 y의 값 = {y}')\\n    \\ncloser2() \\nprint(f'전역에서의 y의 값 = {y}')\", \"# 1) 전역변수를 정의하는 방법(1)\\ny = 100\\nprint(f'전역변수 y의 메모리주소 = {id(y)}')\\ndef closer2():\\n    global y # y는 지역변수가 아니라 전역변수로 선언\\n    y = 200\\n    print(f'전역변수 y의 메모리주소 = {id(y)}, \\\\n\\\\n지역에서 전역변수로 선언된 y의 값 = {y}')\\n    \\ncloser2() \\nprint(f'전역에서의 y의 값 = {y}')\", \"# 2) 전역변수를 정의하는 방법(2)\\ndef closer3():\\n    z = 300\\n    print(f'지역변수 z의 메모리주소 = {id(z)}')\\n\\ncloser3()    \", \"# 2) 전역변수를 정의하는 방법(2)\\ndef closer3():\\n    z = 300\\n    print(f'지역변수 z의 메모리주소 = {id(z)}')\\n    print(f'지역변수 z의 값 = {z}')\\n\\ncloser3()    \", \"# 2) 전역변수를 정의하는 방법(2)\\ndef closer3():\\n    z = 300\\n    print(f'지역에서선언된 z의 메모리주소 = {id(z)}')\\n    print(f'지역에서선언된 z의 값 = {z}')\\n\\ncloser3() \\n\\nprint(f'지역에서선언된 z의 값 = {z}')\", \"# 2) 전역변수를 정의하는 방법(2)\\ndef closer3():\\n    global\\n    z = 300\\n    print(f'지역에서선언된 z의 메모리주소 = {id(z)}')\\n    print(f'지역에서선언된 z의 값 = {z}')\\n\\ncloser3() \\n\\nprint(f'지역에서선언된 z의 값 = {z}')\", \"# 2) 전역변수를 정의하는 방법(2)\\ndef closer3():\\n    global z\\n    z = 300\\n    print(f'지역에서선언된 z의 메모리주소 = {id(z)}')\\n    print(f'지역에서선언된 z의 값 = {z}')\\n\\ncloser3() \\n\\nprint(f'지역에서선언된 z의 값 = {z}')\", \"# 2) 전역변수를 정의하는 방법(2)\\ndef closer3():\\n    global z = 300\\n    print(f'지역에서선언된 z의 메모리주소 = {id(z)}')\\n    print(f'지역에서선언된 z의 값 = {z}')\\n\\ncloser3() \\n\\nprint(f'지역에서선언된 z의 값 = {z}')\", \"# 2) 전역변수를 정의하는 방법(2)\\ndef closer3():\\n    global z\\n    z = 300\\n    print(f'지역에서선언된 z의 메모리주소 = {id(z)}')\\n    print(f'지역에서선언된 z의 값 = {z}')\\n\\ncloser3() \\n\\nprint(f'지역에서선언된 z의 값 = {z}')\", 'import copy', \"# 네임스페이스\\n# 파이썬에서는 변수들은 네임스페이스에 저장된다.\\n# 네임스페이스를 확인하려면 globals(), local()함수를 이용하면\\n# 현재의 Namespase를 딕셔너리형태로 출력한다.\\n# 또한, Jupyter Notebook의 매직명령어 %who, %whos, %whos_ls로도 확인 가능하다.\\nget_ipython().run_line_magic('who', '')\", \"# 네임스페이스\\n# 파이썬에서는 변수들은 네임스페이스에 저장된다.\\n# 네임스페이스를 확인하려면 globals(), local()함수를 이용하면\\n# 현재의 Namespase를 딕셔너리형태로 출력한다.\\n# 또한, Jupyter Notebook의 매직명령어 %who, %whos, %whos_ls로도 확인 가능하다.\\nget_ipython().run_line_magic('whos', '')\", \"# 네임스페이스\\n# 파이썬에서는 변수들은 네임스페이스에 저장된다.\\n# 네임스페이스를 확인하려면 globals(), local()함수를 이용하면\\n# 현재의 Namespase를 딕셔너리형태로 출력한다.\\n# 또한, Jupyter Notebook의 매직명령어 %who, %whos, %whos_ls로도 확인 가능하다.\\nget_ipython().run_line_magic('whos_ls', '')\", \"# 네임스페이스\\n# 파이썬에서는 변수들은 네임스페이스에 저장된다.\\n# 네임스페이스를 확인하려면 globals(), local()함수를 이용하면\\n# 현재의 Namespase를 딕셔너리형태로 출력한다.\\n# 또한, Jupyter Notebook의 매직명령어 %who, %whos, %whos_ls로도 확인 가능하다.\\nget_ipython().run_line_magic('who_ls', '')\", \"# 네임스페이스\\n# 파이썬에서는 변수들은 네임스페이스에 저장된다.\\n# 네임스페이스를 확인하려면 globals(), local()함수를 이용하면\\n# 현재의 Namespase를 딕셔너리형태로 출력한다.\\n# 또한, Jupyter Notebook의 매직명령어 %who, %whos, %whos_ls로도 확인 가능하다.\\nget_ipython().run_line_magic('whos', '')\", \"# 네임스페이스\\n# 파이썬에서는 변수들은 네임스페이스에 저장된다.\\n# 네임스페이스를 확인하려면 globals(), local()함수를 이용하면\\n# 현재의 Namespase를 딕셔너리형태로 출력한다.\\n# 또한, Jupyter Notebook의 매직명령어 %who, %whos, %whos_ls로도 확인 가능하다.\\nget_ipython().run_line_magic('whos', '')\\nget_ipython().run_line_magic('reset', '-f')\\n\\na = 3\\nget_ipython().run_line_magic('whos', '')\", \"# 네임스페이스\\n# 파이썬에서는 변수들은 네임스페이스에 저장된다.\\n# 네임스페이스를 확인하려면 globals(), local()함수를 이용하면\\n# 현재의 Namespase를 딕셔너리형태로 출력한다.\\n# 또한, Jupyter Notebook의 매직명령어 %who, %whos, %whos_ls로도 확인 가능하다.\\nget_ipython().run_line_magic('whos', '')\\nget_ipython().run_line_magic('reset', '-f')\\n\\na = 3\\nget_ipython().run_line_magic('whos', '')\", \"# 네임스페이스\\n# 파이썬에서는 변수들은 네임스페이스에 저장된다.\\n# 네임스페이스를 확인하려면 globals(), local()함수를 이용하면\\n# 현재의 Namespase를 딕셔너리형태로 출력한다.\\n# 또한, Jupyter Notebook의 매직명령어 %who, %whos, %whos_ls로도 확인 가능하다.\\nget_ipython().run_line_magic('reset', '-f')\\n\\na = 3\\nget_ipython().run_line_magic('whos', '')\", \"# 네임스페이스\\n# 파이썬에서는 변수들은 네임스페이스에 저장된다.\\n# 네임스페이스를 확인하려면 globals(), local()함수를 이용하면\\n# 현재의 Namespase를 딕셔너리형태로 출력한다.\\n# 또한, Jupyter Notebook의 매직명령어 %who, %whos, %whos_ls로도 확인 가능하다.\\nget_ipython().run_line_magic('reset', '-f')\\n\\na = 3\\nget_ipython().run_line_magic('whos', '')\\n\\nlocals()\", 'a = 10\\nprint(globals())'], '_oh': {77: {...}}, '_dh': [WindowsPath('d:/lec/04.python')], 'In': ['', \"# 1. 홀수, 짝수를 구변하는 is_odd()함수를 작성\\n# 주어진 숫자가 홀수인지 짝수인지를 구별해서\\n# '짝수입니다' or '홀수입니다'를 출력하세요\\n# 1) 일반함수 is_odd(number)\\ndef is_odd(n):\\n    if n%2 == 0:\\n        print('짝수입니다!')\\n    else:\\n        print('홀수입니다!')\\n        \\nis_odd(1)\\n# 2) lambda함수\", \"# 1. 홀수, 짝수를 구변하는 is_odd()함수를 작성\\n# 주어진 숫자가 홀수인지 짝수인지를 구별해서\\n# '짝수입니다' or '홀수입니다'를 출력하세요\\n# 1) 일반함수 is_odd(number)\\ndef is_odd(n):\\n    if n%2 == 0:\\n        print('짝수입니다!')\\n    else:\\n        print('홀수입니다!')\\n        \\nis_odd(2)\\n\\n# 2) lambda함수\", \"# 1. 홀수, 짝수를 구변하는 is_odd()함수를 작성\\n# 주어진 숫자가 홀수인지 짝수인지를 구별해서\\n# '짝수입니다' or '홀수입니다'를 출력하세요\\n# 1) 일반함수 is_odd(number)\\ndef is_odd(n):\\n    if n%2 == 0:\\n        print('짝수입니다!')\\n    else:\\n        print('홀수입니다!')\\n        \\nis_odd(2)\\n\\n# 2) lambda함수\\nis_odd_lambda = lambda n: print('짝수입니다!') if n%2==0 else print('홀수입니다!')\\nis_odd_lambda(1)\", \"# 1. 홀수, 짝수를 구변하는 is_odd()함수를 작성\\n# 주어진 숫자가 홀수인지 짝수인지를 구별해서\\n# '짝수입니다' or '홀수입니다'를 출력하세요\\n# 1) 일반함수 is_odd(number)\\ndef is_odd(n):\\n    if n%2 == 0:\\n        print('짝수입니다!')\\n    else:\\n        print('홀수입니다!')\\n        \\nis_odd(2)\\n\\n# 2) lambda함수\\nis_odd_lambda = lambda n: print('짝수입니다!') if n%2==0 else print('홀수입니다!')\\nis_odd_lambda(1)\\nis_odd_lambda(2)\", \"# 1. 홀수, 짝수를 구변하는 is_odd()함수를 작성\\n# 주어진 숫자가 홀수인지 짝수인지를 구별해서\\n# '짝수입니다' or '홀수입니다'를 출력하세요\\n# 1) 일반함수 is_odd(number)\\ndef is_odd(n):\\n    if n%2 == 0:\\n        print('짝수입니다!')\\n    else:\\n        print('홀수입니다!')\\n        \\nis_odd(2)\\nis_odd(1)\\nprint()\\n\\n# 2) lambda함수\\nis_odd_lambda = lambda n: print('짝수입니다!') if n%2==0 else print('홀수입니다!')\\nis_odd_lambda(1)\\nis_odd_lambda(2)\", \"# 1. 홀수, 짝수를 구변하는 is_odd()함수를 작성\\n# 주어진 숫자가 홀수인지 짝수인지를 구별해서\\n# '짝수입니다' or '홀수입니다'를 출력하세요\\n# 1) 일반함수 is_odd(number)\\ndef is_odd(n):\\n    if n%2 == 0:\\n        print('짝수입니다!')\\n    else:\\n        print('홀수입니다!')\\n        \\nis_odd(2)\\nis_odd(1)\\nprint()\\n\\n# 2) lambda함수\\nis_odd_lambda1 = lambda n: print('짝수입니다!') if n%2==0 else print('홀수입니다!')\\nis_odd_lambda1(1)\\nis_odd_lambda1(2)\\n\\nis_odd_lambda2 = lambda n: '짝수입니다!' if n%2==0 else '홀수입니다!'\\nis_odd_lambda2(1)\\nis_odd_lambda2(2)\", \"# 1. 홀수, 짝수를 구변하는 is_odd()함수를 작성\\n# 주어진 숫자가 홀수인지 짝수인지를 구별해서\\n# '짝수입니다' or '홀수입니다'를 출력하세요\\n# 1) 일반함수 is_odd(number)\\ndef is_odd(n):\\n    if n%2 == 0:\\n        print('짝수입니다!')\\n    else:\\n        print('홀수입니다!')\\n        \\nis_odd(2)\\nis_odd(1)\\nprint()\\n\\n# 2) lambda함수\\nis_odd_lambda1 = lambda n: print('짝수입니다!') if n%2==0 else print('홀수입니다!')\\nis_odd_lambda1(1)\\nis_odd_lambda1(2)\\n\\nis_odd_lambda2 = lambda n: '짝수입니다!' if n%2==0 else '홀수입니다!'\\nprint(is_odd_lambda2(1))\\nprint(is_odd_lambda2(2))\", \"# 1. 홀수, 짝수를 구변하는 is_odd()함수를 작성\\n# 주어진 숫자가 홀수인지 짝수인지를 구별해서\\n# '짝수입니다' or '홀수입니다'를 출력하세요\\n# 1) 일반함수 is_odd(number)\\ndef is_odd(n):\\n    if n%2 == 0:\\n        print('짝수입니다!')\\n    else:\\n        print('홀수입니다!')\\n        \\nis_odd(2)\\nis_odd(1)\\nprint()\\n\\n# 2) lambda함수\\nis_odd_lambda1 = lambda n: print('짝수입니다!') if n%2==0 else print('홀수입니다!')\\nis_odd_lambda1(1)\\nis_odd_lambda1(2)\\nprint()\\n\\nis_odd_lambda2 = lambda n: '짝수입니다!' if n%2==0 else '홀수입니다!'\\nprint(is_odd_lambda2(1))\\nprint(is_odd_lambda2(2))\", \"# 1. 홀수, 짝수를 구변하는 is_odd()함수를 작성\\n# 주어진 숫자가 홀수인지 짝수인지를 구별해서\\n# '짝수입니다' or '홀수입니다'를 출력하세요\\n# 1) 일반함수 is_odd(number)\\ndef is_odd(n):\\n    if n%2 == 0:\\n        print('짝수입니다!')\\n    else:\\n        print('홀수입니다!')\\n        \\nis_odd(2)\\nis_odd(1)\\nprint()\\n\\n# 2) lambda함수 - return이 없는 경우\\nis_odd_lambda1 = lambda n: print('짝수입니다!') if n%2==0 else print('홀수입니다!')\\nis_odd_lambda1(1)\\nis_odd_lambda1(2)\\nprint()\\n\\n# 3) lambda함수 - return이 생략된 경우\\nis_odd_lambda2 = lambda n: '짝수입니다!' if n%2==0 else '홀수입니다!'\\nprint(is_odd_lambda2(1))\\nprint(is_odd_lambda2(2))\\n\\nresult = is_odd_lambda2(1)\\nprint(result)\", \"# 1. 홀수, 짝수를 구변하는 is_odd()함수를 작성\\n# 주어진 숫자가 홀수인지 짝수인지를 구별해서\\n# '짝수입니다' or '홀수입니다'를 출력하세요\\n# 1) 일반함수 is_odd(number)\\ndef is_odd(n):\\n    if n%2 == 0:\\n        print('짝수입니다!')\\n    else:\\n        print('홀수입니다!')\\n        \\nis_odd(2)\\nis_odd(1)\\nprint()\\n\\n# 2) lambda함수 - return이 없는 경우\\nis_odd_lambda1 = lambda n: print('짝수입니다!') if n%2==0 else print('홀수입니다!')\\nis_odd_lambda1(1)\\nis_odd_lambda1(2)\\nprint()\\n\\n# 3) lambda함수 - return이 생략된 경우\\nis_odd_lambda2 = lambda xxx: '짝수입니다!' if xxx%2==0 else '홀수입니다!'\\nprint(is_odd_lambda2(1))\\nprint(is_odd_lambda2(2))\\nprint()\\n\\nresult = is_odd_lambda2(1)\\nprint(result)\", '# 2. 입력된 모든 수의 평균을 계산하는 funcAvg()함수를 작성\\n# 단, 입력매개변수의 갯수는 정해져 있지 않다.\\n# funcAvg()\\ndef funcAvg():\\n    pass\\n\\nfuncAvg()', '# 2. 입력된 모든 수의 평균을 계산하는 funcAvg()함수를 작성\\n# 단, 입력매개변수의 갯수는 정해져 있지 않다.\\n# funcAvg()\\ndef funcAvg(*numbers):\\n    result = 0\\n    for num in numbers:\\n        result += num\\n    return(result / len(numbers))\\n\\nprint(funcAvg(1,2,3,4,5))', '# 2. 입력된 모든 수의 평균을 계산하는 funcAvg()함수를 작성\\n# 단, 입력매개변수의 갯수는 정해져 있지 않다.\\n# funcAvg()\\ndef funcAvg(*numbers):\\n    result = 0\\n    for num in numbers:\\n        result += num\\n    return(result / len(numbers))\\n\\nprint(funcAvg(1,2,3,4,5))\\nprint(funcAvg(1,2,3,4,5,6,7,8,9,10))', '# 2. 입력된 모든 수의 평균을 계산하는 funcAvg()함수를 작성\\n# 단, 입력매개변수의 갯수는 정해져 있지 않다.\\n# funcAvg()\\ndef funcAvg(*numbers):\\n    result = 0\\n    for num in numbers:\\n        result += num\\n    return(result / len(numbers))\\n\\nprint(funcAvg(1,2,3,4,5))\\nprint(funcAvg(1,2,3,4,5,6,7,8,9,10))\\nprint()\\n\\n# 멀티매개값을 list, tuple로 한 개의 값으로 전달하는 법\\nprint(funcAvg([1,2,3,4,5]))', '# 2. 입력된 모든 수의 평균을 계산하는 funcAvg()함수를 작성\\n# 단, 입력매개변수의 갯수는 정해져 있지 않다.\\n# funcAvg()\\ndef funcAvg(*numbers):\\n    result = 0\\n    for num in numbers:\\n        result += num\\n    return(result / len(numbers))\\n\\nprint(funcAvg(1,2,3,4,5))\\nprint(funcAvg(1,2,3,4,5,6,7,8,9,10))\\nprint()\\n\\n# 멀티매개값을 list, tuple로 한 개의 값으로 전달하는 법\\nprint(funcAvg((1,2,3,4,5))', '# 2. 입력된 모든 수의 평균을 계산하는 funcAvg()함수를 작성\\n# 단, 입력매개변수의 갯수는 정해져 있지 않다.\\n# funcAvg()\\ndef funcAvg(*numbers):\\n    result = 0\\n    for num in numbers:\\n        result += num\\n    return(result / len(numbers))\\n\\nprint(funcAvg(1,2,3,4,5))\\nprint(funcAvg(1,2,3,4,5,6,7,8,9,10))\\nprint()\\n\\n# 멀티매개값을 list, tuple로 한 개의 값으로 전달하는 법\\nprint(funcAvg((1,2,3,4,5)))', '# 2. 입력된 모든 수의 평균을 계산하는 funcAvg()함수를 작성\\n# 단, 입력매개변수의 갯수는 정해져 있지 않다.\\n# funcAvg()\\ndef funcAvg(*numbers):\\n    result = 0\\n    for num in numbers:\\n        result += num\\n    return(result / len(numbers))\\n\\nprint(funcAvg(1,2,3,4,5))\\nprint(funcAvg(1,2,3,4,5,6,7,8,9,10))\\nprint()\\n\\n# 멀티매개값을 list, tuple로 한 개의 값으로 전달하는 법\\nprint(funcAvg(*(1,2,3,4,5)))', '# 2. 입력된 모든 수의 평균을 계산하는 funcAvg()함수를 작성\\n# 단, 입력매개변수의 갯수는 정해져 있지 않다.\\n# funcAvg()\\ndef funcAvg(*numbers):\\n    result = 0\\n    for num in numbers:\\n        result += num\\n    return(result / len(numbers))\\n\\nprint(funcAvg(1,2,3,4,5))\\nprint(funcAvg(1,2,3,4,5,6,7,8,9,10))\\nprint()\\n\\n# 멀티매개값을 list, tuple로 한 개의 값으로 전달하는 법\\nprint(funcAvg(*(1,2,3,4,5)))\\nprint(funcAvg([1,2,3,4,5,6,7,8,9,10]))', '# 2. 입력된 모든 수의 평균을 계산하는 funcAvg()함수를 작성\\n# 단, 입력매개변수의 갯수는 정해져 있지 않다.\\n# funcAvg()\\ndef funcAvg(*numbers):\\n    result = 0\\n    for num in numbers:\\n        result += num\\n    return(result / len(numbers))\\n\\nprint(funcAvg(1,2,3,4,5))\\nprint(funcAvg(1,2,3,4,5,6,7,8,9,10))\\nprint()\\n\\n# 멀티매개값을 list, tuple로 한 개의 값으로 전달하는 법\\nprint(funcAvg(*(1,2,3,4,5)))\\nprint(funcAvg(*[1,2,3,4,5,6,7,8,9,10]))', \"# 3. 구구단을 출력하는 함수 gugudan()함수를 작성\\n# 입력값은 2~9단까지 한개의 임의의 단을 입력\\n# gugudan(9)\\ndef gugudan(dan):\\n    for i in range(2, 10):\\n        print(f'{dan} x {i} = {dan*i:2d}')\\n        \\ngugudan(9)\", \"# 3. 구구단을 출력하는 함수 gugudan()함수를 작성\\n# 입력값은 2~9단까지 한개의 임의의 단을 입력\\n# gugudan(9)\\ndef gugudan(dan):\\n    for i in range(2, 10):\\n        print(f'{dan} x {i} = {dan*i:2d}')\\n        \\ngugudan(9)\\nprint()\\n\\ngugudan(2)\", \"# 3. 구구단을 출력하는 함수 gugudan()함수를 작성\\n# 입력값은 2~9단까지 한개의 임의의 단을 입력\\n# gugudan(9)\\ndef gugudan(dan):\\n    for i in range(2, 10):\\n        print(f'{dan} x {i} = {dan*i:2d}')\\n        \\ngugudan(9)\\nprint()\\n\\ngugudan(2)\\nprint()\\n\\ngugudan(int(input('단을 입력하세요 => ')))\", \"# 3. 구구단을 출력하는 함수 gugudan()함수를 작성\\n# 입력값은 2~9단까지 한개의 임의의 단을 입력\\n# gugudan(9)\\ndef gugudan(dan):\\n    for i in range(2, 10):\\n        print(f'{dan} x {i} = {dan*i:2d}')\\n        \\ngugudan(9)\\nprint()\\n\\ngugudan(2)\\nprint()\\n\\ngugudan(int(input('단을 입력하세요 => ')))\", '# 4. 리스트 [2,3,4,5,6,7,8]에서 5보다 큰 수만 리턴하는 \\n# 1) funcReturn()함수작성\\ndef funcReturn(numbers):\\n    l = []\\n    for num in numbers:\\n        if num > 5:\\n            l.append(num)\\n    return l\\n\\nprint(funcAvg([2,3,4,5,6,7,8]))\\n\\n# 2) lambda식으로 작성, 이름은 funcReturnLambda', '# 4. 리스트 [2,3,4,5,6,7,8]에서 5보다 큰 수만 리턴하는 \\n# 1) funcReturn()함수작성\\ndef funcReturn(numbers):\\n    l = []\\n    for num in numbers:\\n        if num > 5:\\n            l.append(num)\\n    return l\\n\\nprint(funcReturn([2,3,4,5,6,7,8]))\\n\\n# 2) lambda식으로 작성, 이름은 funcReturnLambda', '# 4. 리스트 [2,3,4,5,6,7,8]에서 5보다 큰 수만 리턴하는 \\n# 1) funcReturn()함수작성\\ndef funcReturn(numbers):\\n    l = []\\n    for num in numbers:\\n        if num > 5:\\n            l.append(num)\\n    return l\\n\\nprint(funcReturn([2,3,4,5,6,7,8]))\\n\\n# 2) lambda식으로 작성, 이름은 funcReturnLambda\\nfuncReturnLambda = lambda numbers: [num for num in numbers if number > 5]\\nprint(funcReturnLambda([2,3,4,5,6,7,8]))', '# 4. 리스트 [2,3,4,5,6,7,8]에서 5보다 큰 수만 리턴하는 \\n# 1) funcReturn()함수작성\\ndef funcReturn(numbers):\\n    l = []\\n    for num in numbers:\\n        if num > 5:\\n            l.append(num)\\n    return l\\n\\nprint(funcReturn([2,3,4,5,6,7,8]))\\n\\n# 2) lambda식으로 작성, 이름은 funcReturnLambda\\nfuncReturnLambda = lambda numbers: [num for num in numbers if num > 5]\\nprint(funcReturnLambda([2,3,4,5,6,7,8]))', \"# 1. 변수의 사용범위\\n# 1) 전역변수(global variable)\\ndef closer():\\n    print(f'함수안에서 사용할 수 있는 전역변수 x = {x}')\\n\\ncloser()\\n\\n# 2) 지역변수(local variable)\", \"# 1. 변수의 사용범위\\n# 1) 전역변수(global variable)\\n\\nx = 100\\ndef closer():\\n    print(f'함수안에서 사용할 수 있는 전역변수 x = {x}')\\n\\ncloser()\\n\\n# 2) 지역변수(local variable)\", \"# 1. 변수의 사용범위\\n# 1) 전역변수(global variable)\\n\\nx = 100\\ndef closer1():\\n    print(f'함수안에서 사용할 수 있는 전역변수 x = {x}')\\n\\ncloser1()\", \"# 2) 지역변수(local variable)\\ndef closer2():\\n    print(f'함수안에서 사용할 수 있는 전역변수 x = {x}')\\n\\ncloser2()\", \"# 1. 변수의 사용범위\\n# 1) 전역변수(global variable)\\n\\nx = 100\\ndef closer1():\\n    print(f'함수안에서 사용할 수 있는 전역변수 x = {x}')\\n\\ncloser1()\\ndel x\", \"get_ipython().run_line_magic('whos', '')\\n# 2) 지역변수(local variable)\\n\\ndef closer2():\\n    print(f'함수안에서 사용할 수 있는 전역변수 x = {x}')\\n\\ncloser2()\", \"get_ipython().run_line_magic('whos', '')\\n# 2) 지역변수(local variable)\\n\\ndef closer2():\\n    x = '문자열 100'\\n    print(f'함수안에서 사용할 수 있는 지역변수 x = {x}')\\n\\ncloser2()\", \"# 1. 변수의 사용범위\\n# 1) 전역변수(global variable)\\n\\nx = 100\\ndef closer1():\\n    print(f'함수안에서 사용할 수 있는 전역변수 x = {x}')\\n\\ncloser1()\\n# del x\", \"get_ipython().run_line_magic('whos', '')\", \"# 2) 지역변수(local variable)\\n\\ndef closer2():\\n#     x = '문자열 100'\\n    print(f'함수안에서 사용할 수 있는 지역변수 x = {x}')\\n\\ncloser2()\", \"# 2) 지역변수(local variable)\\n\\ndef closer2():\\n    x = '문자열 100'\\n    print(f'함수안에서 사용할 수 있는 지역변수 x = {x}')\\n\\ncloser2()\", \"get_ipython().run_line_magic('whos', '')\", \"# 2) 지역변수(local variable)\\n\\ndef closer2():\\n    y = '문자열 100'\\n    print(f'함수안에서 사용할 수 있는 지역변수 y = {y}')\\n\\ncloser2()\", \"get_ipython().run_line_magic('whos', '')\", \"# 2) 지역변수(local variable)\\n\\ndef closer2():\\n    y = '문자열 100'\\n    print(f'함수안에서 사용할 수 있는 지역변수 y = {y}')\\n\\ncloser2()\\n\\nprint(y)\", \"# 2) 지역변수(local variable)\\n\\ndef closer2():\\n    y = '문자열 100'\\n    print(f'함수안에서 사용할 수 있는 지역변수 y = {y}')\\n\\ncloser2()\\n\\n# 지역변수 y은 외부에서 접근불가능\\nprint(y) # NameError: name 'y' is not defined\", \"# 2. 함수안에서 전역변수 사용(변경)하기\\nget_ipython().run_line_magic('whos', '')\", \"# 2. 함수안에서 전역변수 사용(변경)하기\\nget_ipython().run_line_magic('reset', '')\", \"# 2. 함수안에서 전역변수 사용(변경)하기\\nget_ipython().run_line_magic('reset', '-f')\", \"get_ipython().run_line_magic('whos', '')\", \"# 2. 함수안에서 전역변수 사용(변경)하기\\nget_ipython().run_line_magic('reset', '-f')\\n\\nx = 100\\nprint(f'전역변수 x의 메모리주소 = {id(x)}')\\ndef closer1():\\n    x = 200\\n    print(f'지역변수 x의 메모리주소 = {id(x)}')\\n    \\ncloser1()\", \"# 2. 함수안에서 전역변수 사용(변경)하기\\nget_ipython().run_line_magic('reset', '-f')\\n\\nx = 100\\nprint(f'전역변수 x의 메모리주소 = {id(x)}')\\ndef closer1():\\n    x = 200\\n    print(f'지역변수 x의 메모리주소 = {id(x)}')\\n    \\ncloser1()\\nget_ipython().run_line_magic('whos', '')\", \"# 1) 전역변수를 정의하는 방법(1)\\ny = 100\\nprint(f'전역변수 y의 메모리주소 = {id(y)}')\\ndef closer2():\\n    y = 200\\n    print(f'지역변수 y의 메모리주소 = {id(y)}')\\n    \\ncloser2()  \", \"# 1) 전역변수를 정의하는 방법(1)\\ny = 100\\nprint(f'전역변수 y의 메모리주소 = {id(y)}')\\ndef closer2():\\n    global y # y는 지역변수가 아니라 전역변수로 선언\\n    y = 200\\n    print(f'지역변수 y의 메모리주소 = {id(y)}')\\n    \\ncloser2()  \", \"# 2. 함수안에서 전역변수 사용(변경)하기\\nget_ipython().run_line_magic('reset', '-f')\\n\\nx = 100\\nprint(f'전역변수 x의 메모리주소 = {id(x)}')\\ndef closer1():\\n    x = 200\\n    print(f'지역변수 x의 메모리주소 = {id(x)}')\\n    \\ncloser1()\\nget_ipython().run_line_magic('whos', '')\", \"# 1) 전역변수를 정의하는 방법(1)\\ny = 100\\nprint(f'전역변수 y의 메모리주소 = {id(y)}')\\ndef closer2():\\n    global y # y는 지역변수가 아니라 전역변수로 선언\\n    y = 200\\n    print(f'지역변수 y의 메모리주소 = {id(y)}, y의 값 = {y}')\\n    \\ncloser2() \\nprint(y)\", \"# 1) 전역변수를 정의하는 방법(1)\\ny = 100\\nprint(f'전역변수 y의 메모리주소 = {id(y)}')\\ndef closer2():\\n    global y # y는 지역변수가 아니라 전역변수로 선언\\n    y = 200\\n    print(f'지역변수 y의 메모리주소 = {id(y)}, \\\\ny의 값 = {y}')\\n    \\ncloser2() \\nprint(f'y의 값 = {y}')\", \"# 1) 전역변수를 정의하는 방법(1)\\ny = 100\\nprint(f'전역변수 y의 메모리주소 = {id(y)}')\\ndef closer2():\\n    global y # y는 지역변수가 아니라 전역변수로 선언\\n    y = 200\\n    print(f'전역변수 y의 메모리주소 = {id(y)}, \\\\n지역에서의 y의 값 = {y}')\\n    \\ncloser2() \\nprint(f'전역에서의 y의 값 = {y}')\", \"# 1) 전역변수를 정의하는 방법(1)\\ny = 100\\nprint(f'전역변수 y의 메모리주소 = {id(y)}')\\nprint()\\n\\ndef closer2():\\n    global y # y는 지역변수가 아니라 전역변수로 선언\\n    y = 200\\n    print(f'전역변수 y의 메모리주소 = {id(y)}, \\\\n지역에서의 y의 값 = {y}')\\n    \\ncloser2() \\nprint(f'전역에서의 y의 값 = {y}')\", \"# 1) 전역변수를 정의하는 방법(1)\\ny = 100\\nprint(f'전역변수 y의 메모리주소 = {id(y)}')\\ndef closer2():\\n    global y # y는 지역변수가 아니라 전역변수로 선언\\n    y = 200\\n    print(f'전역변수 y의 메모리주소 = {id(y)}, \\\\n\\\\n지역에서의 y의 값 = {y}')\\n    \\ncloser2() \\nprint(f'전역에서의 y의 값 = {y}')\", \"# 1) 전역변수를 정의하는 방법(1)\\ny = 100\\nprint(f'전역변수 y의 메모리주소 = {id(y)}')\\ndef closer2():\\n    global y # y는 지역변수가 아니라 전역변수로 선언\\n    y = 200\\n    print(f'전역변수 y의 메모리주소 = {id(y)}, \\\\n\\\\n지역에서 전역변수로 선언된 y의 값 = {y}')\\n    \\ncloser2() \\nprint(f'전역에서의 y의 값 = {y}')\", \"# 1) 전역변수를 정의하는 방법(1)\\ny = 100\\nprint(f'전역변수 y의 메모리주소 = {id(y)}')\\ndef closer2():\\n    # global y # y는 지역변수가 아니라 전역변수로 선언\\n    y = 200\\n    print(f'전역변수 y의 메모리주소 = {id(y)}, \\\\n\\\\n지역에서 전역변수로 선언된 y의 값 = {y}')\\n    \\ncloser2() \\nprint(f'전역에서의 y의 값 = {y}')\", \"# 1) 전역변수를 정의하는 방법(1)\\ny = 100\\nprint(f'전역변수 y의 메모리주소 = {id(y)}')\\ndef closer2():\\n    global y # y는 지역변수가 아니라 전역변수로 선언\\n    y = 200\\n    print(f'전역변수 y의 메모리주소 = {id(y)}, \\\\n\\\\n지역에서 전역변수로 선언된 y의 값 = {y}')\\n    \\ncloser2() \\nprint(f'전역에서의 y의 값 = {y}')\", \"# 2) 전역변수를 정의하는 방법(2)\\ndef closer3():\\n    z = 300\\n    print(f'지역변수 z의 메모리주소 = {id(z)}')\\n\\ncloser3()    \", \"# 2) 전역변수를 정의하는 방법(2)\\ndef closer3():\\n    z = 300\\n    print(f'지역변수 z의 메모리주소 = {id(z)}')\\n    print(f'지역변수 z의 값 = {z}')\\n\\ncloser3()    \", \"# 2) 전역변수를 정의하는 방법(2)\\ndef closer3():\\n    z = 300\\n    print(f'지역에서선언된 z의 메모리주소 = {id(z)}')\\n    print(f'지역에서선언된 z의 값 = {z}')\\n\\ncloser3() \\n\\nprint(f'지역에서선언된 z의 값 = {z}')\", \"# 2) 전역변수를 정의하는 방법(2)\\ndef closer3():\\n    global\\n    z = 300\\n    print(f'지역에서선언된 z의 메모리주소 = {id(z)}')\\n    print(f'지역에서선언된 z의 값 = {z}')\\n\\ncloser3() \\n\\nprint(f'지역에서선언된 z의 값 = {z}')\", \"# 2) 전역변수를 정의하는 방법(2)\\ndef closer3():\\n    global z\\n    z = 300\\n    print(f'지역에서선언된 z의 메모리주소 = {id(z)}')\\n    print(f'지역에서선언된 z의 값 = {z}')\\n\\ncloser3() \\n\\nprint(f'지역에서선언된 z의 값 = {z}')\", \"# 2) 전역변수를 정의하는 방법(2)\\ndef closer3():\\n    global z = 300\\n    print(f'지역에서선언된 z의 메모리주소 = {id(z)}')\\n    print(f'지역에서선언된 z의 값 = {z}')\\n\\ncloser3() \\n\\nprint(f'지역에서선언된 z의 값 = {z}')\", \"# 2) 전역변수를 정의하는 방법(2)\\ndef closer3():\\n    global z\\n    z = 300\\n    print(f'지역에서선언된 z의 메모리주소 = {id(z)}')\\n    print(f'지역에서선언된 z의 값 = {z}')\\n\\ncloser3() \\n\\nprint(f'지역에서선언된 z의 값 = {z}')\", 'import copy', \"# 네임스페이스\\n# 파이썬에서는 변수들은 네임스페이스에 저장된다.\\n# 네임스페이스를 확인하려면 globals(), local()함수를 이용하면\\n# 현재의 Namespase를 딕셔너리형태로 출력한다.\\n# 또한, Jupyter Notebook의 매직명령어 %who, %whos, %whos_ls로도 확인 가능하다.\\nget_ipython().run_line_magic('who', '')\", \"# 네임스페이스\\n# 파이썬에서는 변수들은 네임스페이스에 저장된다.\\n# 네임스페이스를 확인하려면 globals(), local()함수를 이용하면\\n# 현재의 Namespase를 딕셔너리형태로 출력한다.\\n# 또한, Jupyter Notebook의 매직명령어 %who, %whos, %whos_ls로도 확인 가능하다.\\nget_ipython().run_line_magic('whos', '')\", \"# 네임스페이스\\n# 파이썬에서는 변수들은 네임스페이스에 저장된다.\\n# 네임스페이스를 확인하려면 globals(), local()함수를 이용하면\\n# 현재의 Namespase를 딕셔너리형태로 출력한다.\\n# 또한, Jupyter Notebook의 매직명령어 %who, %whos, %whos_ls로도 확인 가능하다.\\nget_ipython().run_line_magic('whos_ls', '')\", \"# 네임스페이스\\n# 파이썬에서는 변수들은 네임스페이스에 저장된다.\\n# 네임스페이스를 확인하려면 globals(), local()함수를 이용하면\\n# 현재의 Namespase를 딕셔너리형태로 출력한다.\\n# 또한, Jupyter Notebook의 매직명령어 %who, %whos, %whos_ls로도 확인 가능하다.\\nget_ipython().run_line_magic('who_ls', '')\", \"# 네임스페이스\\n# 파이썬에서는 변수들은 네임스페이스에 저장된다.\\n# 네임스페이스를 확인하려면 globals(), local()함수를 이용하면\\n# 현재의 Namespase를 딕셔너리형태로 출력한다.\\n# 또한, Jupyter Notebook의 매직명령어 %who, %whos, %whos_ls로도 확인 가능하다.\\nget_ipython().run_line_magic('whos', '')\", \"# 네임스페이스\\n# 파이썬에서는 변수들은 네임스페이스에 저장된다.\\n# 네임스페이스를 확인하려면 globals(), local()함수를 이용하면\\n# 현재의 Namespase를 딕셔너리형태로 출력한다.\\n# 또한, Jupyter Notebook의 매직명령어 %who, %whos, %whos_ls로도 확인 가능하다.\\nget_ipython().run_line_magic('whos', '')\\nget_ipython().run_line_magic('reset', '-f')\\n\\na = 3\\nget_ipython().run_line_magic('whos', '')\", \"# 네임스페이스\\n# 파이썬에서는 변수들은 네임스페이스에 저장된다.\\n# 네임스페이스를 확인하려면 globals(), local()함수를 이용하면\\n# 현재의 Namespase를 딕셔너리형태로 출력한다.\\n# 또한, Jupyter Notebook의 매직명령어 %who, %whos, %whos_ls로도 확인 가능하다.\\nget_ipython().run_line_magic('whos', '')\\nget_ipython().run_line_magic('reset', '-f')\\n\\na = 3\\nget_ipython().run_line_magic('whos', '')\", \"# 네임스페이스\\n# 파이썬에서는 변수들은 네임스페이스에 저장된다.\\n# 네임스페이스를 확인하려면 globals(), local()함수를 이용하면\\n# 현재의 Namespase를 딕셔너리형태로 출력한다.\\n# 또한, Jupyter Notebook의 매직명령어 %who, %whos, %whos_ls로도 확인 가능하다.\\nget_ipython().run_line_magic('reset', '-f')\\n\\na = 3\\nget_ipython().run_line_magic('whos', '')\", \"# 네임스페이스\\n# 파이썬에서는 변수들은 네임스페이스에 저장된다.\\n# 네임스페이스를 확인하려면 globals(), local()함수를 이용하면\\n# 현재의 Namespase를 딕셔너리형태로 출력한다.\\n# 또한, Jupyter Notebook의 매직명령어 %who, %whos, %whos_ls로도 확인 가능하다.\\nget_ipython().run_line_magic('reset', '-f')\\n\\na = 3\\nget_ipython().run_line_magic('whos', '')\\n\\nlocals()\", 'a = 10\\nprint(globals())'], 'Out': {77: {...}}, 'get_ipython': <bound method InteractiveShell.get_ipython of <ipykernel.zmqshell.ZMQInteractiveShell object at 0x000001DC0A0FCA50>>, 'exit': <IPython.core.autocall.ZMQExitAutocall object at 0x000001DC0A117BD0>, 'quit': <IPython.core.autocall.ZMQExitAutocall object at 0x000001DC0A117BD0>, 'open': <function open at 0x000001DC080A9620>, 'a': 10, '_': {...}, '__': '', '___': '', '_77': {...}, '_i': '# 네임스페이스\\n# 파이썬에서는 변수들은 네임스페이스에 저장된다.\\n# 네임스페이스를 확인하려면 globals(), local()함수를 이용하면\\n# 현재의 Namespase를 딕셔너리형태로 출력한다.\\n# 또한, Jupyter Notebook의 매직명령어 %who, %whos, %whos_ls로도 확인 가능하다.\\n%reset -f\\n\\na = 3\\n%whos\\n\\nlocals()', '_ii': '# 네임스페이스\\n# 파이썬에서는 변수들은 네임스페이스에 저장된다.\\n# 네임스페이스를 확인하려면 globals(), local()함수를 이용하면\\n# 현재의 Namespase를 딕셔너리형태로 출력한다.\\n# 또한, Jupyter Notebook의 매직명령어 %who, %whos, %whos_ls로도 확인 가능하다.\\n%reset -f\\n\\na = 3\\n%whos', '_iii': '# 네임스페이스\\n# 파이썬에서는 변수들은 네임스페이스에 저장된다.\\n# 네임스페이스를 확인하려면 globals(), local()함수를 이용하면\\n# 현재의 Namespase를 딕셔너리형태로 출력한다.\\n# 또한, Jupyter Notebook의 매직명령어 %who, %whos, %whos_ls로도 확인 가능하다.\\n%whos\\n%reset -f\\n\\na = 3\\n%whos', '_i78': 'a = 10\\nprint(globals())'}\n"
     ]
    }
   ],
   "source": [
    "a = 10\n",
    "print(globals())\n",
    "\n",
    "# 전역(globals)네임스페이스를 확인하는 globals()함수를 실행하면\n",
    "# 정의한 적이 없는 변수들과 a라는 객체에 10이라는 값이 저장되어 있는 것을\n",
    "# 확인할 수 있다."
   ]
  },
  {
   "cell_type": "code",
   "execution_count": 80,
   "id": "83f69750",
   "metadata": {},
   "outputs": [
    {
     "name": "stdout",
     "output_type": "stream",
     "text": [
      "{'__name__': '__main__', '__builtin__': <module 'builtins' (built-in)>, '__builtins__': <module 'builtins' (built-in)>, '_ih': ['', \"# 1. 홀수, 짝수를 구변하는 is_odd()함수를 작성\\n# 주어진 숫자가 홀수인지 짝수인지를 구별해서\\n# '짝수입니다' or '홀수입니다'를 출력하세요\\n# 1) 일반함수 is_odd(number)\\ndef is_odd(n):\\n    if n%2 == 0:\\n        print('짝수입니다!')\\n    else:\\n        print('홀수입니다!')\\n        \\nis_odd(1)\\n# 2) lambda함수\", \"# 1. 홀수, 짝수를 구변하는 is_odd()함수를 작성\\n# 주어진 숫자가 홀수인지 짝수인지를 구별해서\\n# '짝수입니다' or '홀수입니다'를 출력하세요\\n# 1) 일반함수 is_odd(number)\\ndef is_odd(n):\\n    if n%2 == 0:\\n        print('짝수입니다!')\\n    else:\\n        print('홀수입니다!')\\n        \\nis_odd(2)\\n\\n# 2) lambda함수\", \"# 1. 홀수, 짝수를 구변하는 is_odd()함수를 작성\\n# 주어진 숫자가 홀수인지 짝수인지를 구별해서\\n# '짝수입니다' or '홀수입니다'를 출력하세요\\n# 1) 일반함수 is_odd(number)\\ndef is_odd(n):\\n    if n%2 == 0:\\n        print('짝수입니다!')\\n    else:\\n        print('홀수입니다!')\\n        \\nis_odd(2)\\n\\n# 2) lambda함수\\nis_odd_lambda = lambda n: print('짝수입니다!') if n%2==0 else print('홀수입니다!')\\nis_odd_lambda(1)\", \"# 1. 홀수, 짝수를 구변하는 is_odd()함수를 작성\\n# 주어진 숫자가 홀수인지 짝수인지를 구별해서\\n# '짝수입니다' or '홀수입니다'를 출력하세요\\n# 1) 일반함수 is_odd(number)\\ndef is_odd(n):\\n    if n%2 == 0:\\n        print('짝수입니다!')\\n    else:\\n        print('홀수입니다!')\\n        \\nis_odd(2)\\n\\n# 2) lambda함수\\nis_odd_lambda = lambda n: print('짝수입니다!') if n%2==0 else print('홀수입니다!')\\nis_odd_lambda(1)\\nis_odd_lambda(2)\", \"# 1. 홀수, 짝수를 구변하는 is_odd()함수를 작성\\n# 주어진 숫자가 홀수인지 짝수인지를 구별해서\\n# '짝수입니다' or '홀수입니다'를 출력하세요\\n# 1) 일반함수 is_odd(number)\\ndef is_odd(n):\\n    if n%2 == 0:\\n        print('짝수입니다!')\\n    else:\\n        print('홀수입니다!')\\n        \\nis_odd(2)\\nis_odd(1)\\nprint()\\n\\n# 2) lambda함수\\nis_odd_lambda = lambda n: print('짝수입니다!') if n%2==0 else print('홀수입니다!')\\nis_odd_lambda(1)\\nis_odd_lambda(2)\", \"# 1. 홀수, 짝수를 구변하는 is_odd()함수를 작성\\n# 주어진 숫자가 홀수인지 짝수인지를 구별해서\\n# '짝수입니다' or '홀수입니다'를 출력하세요\\n# 1) 일반함수 is_odd(number)\\ndef is_odd(n):\\n    if n%2 == 0:\\n        print('짝수입니다!')\\n    else:\\n        print('홀수입니다!')\\n        \\nis_odd(2)\\nis_odd(1)\\nprint()\\n\\n# 2) lambda함수\\nis_odd_lambda1 = lambda n: print('짝수입니다!') if n%2==0 else print('홀수입니다!')\\nis_odd_lambda1(1)\\nis_odd_lambda1(2)\\n\\nis_odd_lambda2 = lambda n: '짝수입니다!' if n%2==0 else '홀수입니다!'\\nis_odd_lambda2(1)\\nis_odd_lambda2(2)\", \"# 1. 홀수, 짝수를 구변하는 is_odd()함수를 작성\\n# 주어진 숫자가 홀수인지 짝수인지를 구별해서\\n# '짝수입니다' or '홀수입니다'를 출력하세요\\n# 1) 일반함수 is_odd(number)\\ndef is_odd(n):\\n    if n%2 == 0:\\n        print('짝수입니다!')\\n    else:\\n        print('홀수입니다!')\\n        \\nis_odd(2)\\nis_odd(1)\\nprint()\\n\\n# 2) lambda함수\\nis_odd_lambda1 = lambda n: print('짝수입니다!') if n%2==0 else print('홀수입니다!')\\nis_odd_lambda1(1)\\nis_odd_lambda1(2)\\n\\nis_odd_lambda2 = lambda n: '짝수입니다!' if n%2==0 else '홀수입니다!'\\nprint(is_odd_lambda2(1))\\nprint(is_odd_lambda2(2))\", \"# 1. 홀수, 짝수를 구변하는 is_odd()함수를 작성\\n# 주어진 숫자가 홀수인지 짝수인지를 구별해서\\n# '짝수입니다' or '홀수입니다'를 출력하세요\\n# 1) 일반함수 is_odd(number)\\ndef is_odd(n):\\n    if n%2 == 0:\\n        print('짝수입니다!')\\n    else:\\n        print('홀수입니다!')\\n        \\nis_odd(2)\\nis_odd(1)\\nprint()\\n\\n# 2) lambda함수\\nis_odd_lambda1 = lambda n: print('짝수입니다!') if n%2==0 else print('홀수입니다!')\\nis_odd_lambda1(1)\\nis_odd_lambda1(2)\\nprint()\\n\\nis_odd_lambda2 = lambda n: '짝수입니다!' if n%2==0 else '홀수입니다!'\\nprint(is_odd_lambda2(1))\\nprint(is_odd_lambda2(2))\", \"# 1. 홀수, 짝수를 구변하는 is_odd()함수를 작성\\n# 주어진 숫자가 홀수인지 짝수인지를 구별해서\\n# '짝수입니다' or '홀수입니다'를 출력하세요\\n# 1) 일반함수 is_odd(number)\\ndef is_odd(n):\\n    if n%2 == 0:\\n        print('짝수입니다!')\\n    else:\\n        print('홀수입니다!')\\n        \\nis_odd(2)\\nis_odd(1)\\nprint()\\n\\n# 2) lambda함수 - return이 없는 경우\\nis_odd_lambda1 = lambda n: print('짝수입니다!') if n%2==0 else print('홀수입니다!')\\nis_odd_lambda1(1)\\nis_odd_lambda1(2)\\nprint()\\n\\n# 3) lambda함수 - return이 생략된 경우\\nis_odd_lambda2 = lambda n: '짝수입니다!' if n%2==0 else '홀수입니다!'\\nprint(is_odd_lambda2(1))\\nprint(is_odd_lambda2(2))\\n\\nresult = is_odd_lambda2(1)\\nprint(result)\", \"# 1. 홀수, 짝수를 구변하는 is_odd()함수를 작성\\n# 주어진 숫자가 홀수인지 짝수인지를 구별해서\\n# '짝수입니다' or '홀수입니다'를 출력하세요\\n# 1) 일반함수 is_odd(number)\\ndef is_odd(n):\\n    if n%2 == 0:\\n        print('짝수입니다!')\\n    else:\\n        print('홀수입니다!')\\n        \\nis_odd(2)\\nis_odd(1)\\nprint()\\n\\n# 2) lambda함수 - return이 없는 경우\\nis_odd_lambda1 = lambda n: print('짝수입니다!') if n%2==0 else print('홀수입니다!')\\nis_odd_lambda1(1)\\nis_odd_lambda1(2)\\nprint()\\n\\n# 3) lambda함수 - return이 생략된 경우\\nis_odd_lambda2 = lambda xxx: '짝수입니다!' if xxx%2==0 else '홀수입니다!'\\nprint(is_odd_lambda2(1))\\nprint(is_odd_lambda2(2))\\nprint()\\n\\nresult = is_odd_lambda2(1)\\nprint(result)\", '# 2. 입력된 모든 수의 평균을 계산하는 funcAvg()함수를 작성\\n# 단, 입력매개변수의 갯수는 정해져 있지 않다.\\n# funcAvg()\\ndef funcAvg():\\n    pass\\n\\nfuncAvg()', '# 2. 입력된 모든 수의 평균을 계산하는 funcAvg()함수를 작성\\n# 단, 입력매개변수의 갯수는 정해져 있지 않다.\\n# funcAvg()\\ndef funcAvg(*numbers):\\n    result = 0\\n    for num in numbers:\\n        result += num\\n    return(result / len(numbers))\\n\\nprint(funcAvg(1,2,3,4,5))', '# 2. 입력된 모든 수의 평균을 계산하는 funcAvg()함수를 작성\\n# 단, 입력매개변수의 갯수는 정해져 있지 않다.\\n# funcAvg()\\ndef funcAvg(*numbers):\\n    result = 0\\n    for num in numbers:\\n        result += num\\n    return(result / len(numbers))\\n\\nprint(funcAvg(1,2,3,4,5))\\nprint(funcAvg(1,2,3,4,5,6,7,8,9,10))', '# 2. 입력된 모든 수의 평균을 계산하는 funcAvg()함수를 작성\\n# 단, 입력매개변수의 갯수는 정해져 있지 않다.\\n# funcAvg()\\ndef funcAvg(*numbers):\\n    result = 0\\n    for num in numbers:\\n        result += num\\n    return(result / len(numbers))\\n\\nprint(funcAvg(1,2,3,4,5))\\nprint(funcAvg(1,2,3,4,5,6,7,8,9,10))\\nprint()\\n\\n# 멀티매개값을 list, tuple로 한 개의 값으로 전달하는 법\\nprint(funcAvg([1,2,3,4,5]))', '# 2. 입력된 모든 수의 평균을 계산하는 funcAvg()함수를 작성\\n# 단, 입력매개변수의 갯수는 정해져 있지 않다.\\n# funcAvg()\\ndef funcAvg(*numbers):\\n    result = 0\\n    for num in numbers:\\n        result += num\\n    return(result / len(numbers))\\n\\nprint(funcAvg(1,2,3,4,5))\\nprint(funcAvg(1,2,3,4,5,6,7,8,9,10))\\nprint()\\n\\n# 멀티매개값을 list, tuple로 한 개의 값으로 전달하는 법\\nprint(funcAvg((1,2,3,4,5))', '# 2. 입력된 모든 수의 평균을 계산하는 funcAvg()함수를 작성\\n# 단, 입력매개변수의 갯수는 정해져 있지 않다.\\n# funcAvg()\\ndef funcAvg(*numbers):\\n    result = 0\\n    for num in numbers:\\n        result += num\\n    return(result / len(numbers))\\n\\nprint(funcAvg(1,2,3,4,5))\\nprint(funcAvg(1,2,3,4,5,6,7,8,9,10))\\nprint()\\n\\n# 멀티매개값을 list, tuple로 한 개의 값으로 전달하는 법\\nprint(funcAvg((1,2,3,4,5)))', '# 2. 입력된 모든 수의 평균을 계산하는 funcAvg()함수를 작성\\n# 단, 입력매개변수의 갯수는 정해져 있지 않다.\\n# funcAvg()\\ndef funcAvg(*numbers):\\n    result = 0\\n    for num in numbers:\\n        result += num\\n    return(result / len(numbers))\\n\\nprint(funcAvg(1,2,3,4,5))\\nprint(funcAvg(1,2,3,4,5,6,7,8,9,10))\\nprint()\\n\\n# 멀티매개값을 list, tuple로 한 개의 값으로 전달하는 법\\nprint(funcAvg(*(1,2,3,4,5)))', '# 2. 입력된 모든 수의 평균을 계산하는 funcAvg()함수를 작성\\n# 단, 입력매개변수의 갯수는 정해져 있지 않다.\\n# funcAvg()\\ndef funcAvg(*numbers):\\n    result = 0\\n    for num in numbers:\\n        result += num\\n    return(result / len(numbers))\\n\\nprint(funcAvg(1,2,3,4,5))\\nprint(funcAvg(1,2,3,4,5,6,7,8,9,10))\\nprint()\\n\\n# 멀티매개값을 list, tuple로 한 개의 값으로 전달하는 법\\nprint(funcAvg(*(1,2,3,4,5)))\\nprint(funcAvg([1,2,3,4,5,6,7,8,9,10]))', '# 2. 입력된 모든 수의 평균을 계산하는 funcAvg()함수를 작성\\n# 단, 입력매개변수의 갯수는 정해져 있지 않다.\\n# funcAvg()\\ndef funcAvg(*numbers):\\n    result = 0\\n    for num in numbers:\\n        result += num\\n    return(result / len(numbers))\\n\\nprint(funcAvg(1,2,3,4,5))\\nprint(funcAvg(1,2,3,4,5,6,7,8,9,10))\\nprint()\\n\\n# 멀티매개값을 list, tuple로 한 개의 값으로 전달하는 법\\nprint(funcAvg(*(1,2,3,4,5)))\\nprint(funcAvg(*[1,2,3,4,5,6,7,8,9,10]))', \"# 3. 구구단을 출력하는 함수 gugudan()함수를 작성\\n# 입력값은 2~9단까지 한개의 임의의 단을 입력\\n# gugudan(9)\\ndef gugudan(dan):\\n    for i in range(2, 10):\\n        print(f'{dan} x {i} = {dan*i:2d}')\\n        \\ngugudan(9)\", \"# 3. 구구단을 출력하는 함수 gugudan()함수를 작성\\n# 입력값은 2~9단까지 한개의 임의의 단을 입력\\n# gugudan(9)\\ndef gugudan(dan):\\n    for i in range(2, 10):\\n        print(f'{dan} x {i} = {dan*i:2d}')\\n        \\ngugudan(9)\\nprint()\\n\\ngugudan(2)\", \"# 3. 구구단을 출력하는 함수 gugudan()함수를 작성\\n# 입력값은 2~9단까지 한개의 임의의 단을 입력\\n# gugudan(9)\\ndef gugudan(dan):\\n    for i in range(2, 10):\\n        print(f'{dan} x {i} = {dan*i:2d}')\\n        \\ngugudan(9)\\nprint()\\n\\ngugudan(2)\\nprint()\\n\\ngugudan(int(input('단을 입력하세요 => ')))\", \"# 3. 구구단을 출력하는 함수 gugudan()함수를 작성\\n# 입력값은 2~9단까지 한개의 임의의 단을 입력\\n# gugudan(9)\\ndef gugudan(dan):\\n    for i in range(2, 10):\\n        print(f'{dan} x {i} = {dan*i:2d}')\\n        \\ngugudan(9)\\nprint()\\n\\ngugudan(2)\\nprint()\\n\\ngugudan(int(input('단을 입력하세요 => ')))\", '# 4. 리스트 [2,3,4,5,6,7,8]에서 5보다 큰 수만 리턴하는 \\n# 1) funcReturn()함수작성\\ndef funcReturn(numbers):\\n    l = []\\n    for num in numbers:\\n        if num > 5:\\n            l.append(num)\\n    return l\\n\\nprint(funcAvg([2,3,4,5,6,7,8]))\\n\\n# 2) lambda식으로 작성, 이름은 funcReturnLambda', '# 4. 리스트 [2,3,4,5,6,7,8]에서 5보다 큰 수만 리턴하는 \\n# 1) funcReturn()함수작성\\ndef funcReturn(numbers):\\n    l = []\\n    for num in numbers:\\n        if num > 5:\\n            l.append(num)\\n    return l\\n\\nprint(funcReturn([2,3,4,5,6,7,8]))\\n\\n# 2) lambda식으로 작성, 이름은 funcReturnLambda', '# 4. 리스트 [2,3,4,5,6,7,8]에서 5보다 큰 수만 리턴하는 \\n# 1) funcReturn()함수작성\\ndef funcReturn(numbers):\\n    l = []\\n    for num in numbers:\\n        if num > 5:\\n            l.append(num)\\n    return l\\n\\nprint(funcReturn([2,3,4,5,6,7,8]))\\n\\n# 2) lambda식으로 작성, 이름은 funcReturnLambda\\nfuncReturnLambda = lambda numbers: [num for num in numbers if number > 5]\\nprint(funcReturnLambda([2,3,4,5,6,7,8]))', '# 4. 리스트 [2,3,4,5,6,7,8]에서 5보다 큰 수만 리턴하는 \\n# 1) funcReturn()함수작성\\ndef funcReturn(numbers):\\n    l = []\\n    for num in numbers:\\n        if num > 5:\\n            l.append(num)\\n    return l\\n\\nprint(funcReturn([2,3,4,5,6,7,8]))\\n\\n# 2) lambda식으로 작성, 이름은 funcReturnLambda\\nfuncReturnLambda = lambda numbers: [num for num in numbers if num > 5]\\nprint(funcReturnLambda([2,3,4,5,6,7,8]))', \"# 1. 변수의 사용범위\\n# 1) 전역변수(global variable)\\ndef closer():\\n    print(f'함수안에서 사용할 수 있는 전역변수 x = {x}')\\n\\ncloser()\\n\\n# 2) 지역변수(local variable)\", \"# 1. 변수의 사용범위\\n# 1) 전역변수(global variable)\\n\\nx = 100\\ndef closer():\\n    print(f'함수안에서 사용할 수 있는 전역변수 x = {x}')\\n\\ncloser()\\n\\n# 2) 지역변수(local variable)\", \"# 1. 변수의 사용범위\\n# 1) 전역변수(global variable)\\n\\nx = 100\\ndef closer1():\\n    print(f'함수안에서 사용할 수 있는 전역변수 x = {x}')\\n\\ncloser1()\", \"# 2) 지역변수(local variable)\\ndef closer2():\\n    print(f'함수안에서 사용할 수 있는 전역변수 x = {x}')\\n\\ncloser2()\", \"# 1. 변수의 사용범위\\n# 1) 전역변수(global variable)\\n\\nx = 100\\ndef closer1():\\n    print(f'함수안에서 사용할 수 있는 전역변수 x = {x}')\\n\\ncloser1()\\ndel x\", \"get_ipython().run_line_magic('whos', '')\\n# 2) 지역변수(local variable)\\n\\ndef closer2():\\n    print(f'함수안에서 사용할 수 있는 전역변수 x = {x}')\\n\\ncloser2()\", \"get_ipython().run_line_magic('whos', '')\\n# 2) 지역변수(local variable)\\n\\ndef closer2():\\n    x = '문자열 100'\\n    print(f'함수안에서 사용할 수 있는 지역변수 x = {x}')\\n\\ncloser2()\", \"# 1. 변수의 사용범위\\n# 1) 전역변수(global variable)\\n\\nx = 100\\ndef closer1():\\n    print(f'함수안에서 사용할 수 있는 전역변수 x = {x}')\\n\\ncloser1()\\n# del x\", \"get_ipython().run_line_magic('whos', '')\", \"# 2) 지역변수(local variable)\\n\\ndef closer2():\\n#     x = '문자열 100'\\n    print(f'함수안에서 사용할 수 있는 지역변수 x = {x}')\\n\\ncloser2()\", \"# 2) 지역변수(local variable)\\n\\ndef closer2():\\n    x = '문자열 100'\\n    print(f'함수안에서 사용할 수 있는 지역변수 x = {x}')\\n\\ncloser2()\", \"get_ipython().run_line_magic('whos', '')\", \"# 2) 지역변수(local variable)\\n\\ndef closer2():\\n    y = '문자열 100'\\n    print(f'함수안에서 사용할 수 있는 지역변수 y = {y}')\\n\\ncloser2()\", \"get_ipython().run_line_magic('whos', '')\", \"# 2) 지역변수(local variable)\\n\\ndef closer2():\\n    y = '문자열 100'\\n    print(f'함수안에서 사용할 수 있는 지역변수 y = {y}')\\n\\ncloser2()\\n\\nprint(y)\", \"# 2) 지역변수(local variable)\\n\\ndef closer2():\\n    y = '문자열 100'\\n    print(f'함수안에서 사용할 수 있는 지역변수 y = {y}')\\n\\ncloser2()\\n\\n# 지역변수 y은 외부에서 접근불가능\\nprint(y) # NameError: name 'y' is not defined\", \"# 2. 함수안에서 전역변수 사용(변경)하기\\nget_ipython().run_line_magic('whos', '')\", \"# 2. 함수안에서 전역변수 사용(변경)하기\\nget_ipython().run_line_magic('reset', '')\", \"# 2. 함수안에서 전역변수 사용(변경)하기\\nget_ipython().run_line_magic('reset', '-f')\", \"get_ipython().run_line_magic('whos', '')\", \"# 2. 함수안에서 전역변수 사용(변경)하기\\nget_ipython().run_line_magic('reset', '-f')\\n\\nx = 100\\nprint(f'전역변수 x의 메모리주소 = {id(x)}')\\ndef closer1():\\n    x = 200\\n    print(f'지역변수 x의 메모리주소 = {id(x)}')\\n    \\ncloser1()\", \"# 2. 함수안에서 전역변수 사용(변경)하기\\nget_ipython().run_line_magic('reset', '-f')\\n\\nx = 100\\nprint(f'전역변수 x의 메모리주소 = {id(x)}')\\ndef closer1():\\n    x = 200\\n    print(f'지역변수 x의 메모리주소 = {id(x)}')\\n    \\ncloser1()\\nget_ipython().run_line_magic('whos', '')\", \"# 1) 전역변수를 정의하는 방법(1)\\ny = 100\\nprint(f'전역변수 y의 메모리주소 = {id(y)}')\\ndef closer2():\\n    y = 200\\n    print(f'지역변수 y의 메모리주소 = {id(y)}')\\n    \\ncloser2()  \", \"# 1) 전역변수를 정의하는 방법(1)\\ny = 100\\nprint(f'전역변수 y의 메모리주소 = {id(y)}')\\ndef closer2():\\n    global y # y는 지역변수가 아니라 전역변수로 선언\\n    y = 200\\n    print(f'지역변수 y의 메모리주소 = {id(y)}')\\n    \\ncloser2()  \", \"# 2. 함수안에서 전역변수 사용(변경)하기\\nget_ipython().run_line_magic('reset', '-f')\\n\\nx = 100\\nprint(f'전역변수 x의 메모리주소 = {id(x)}')\\ndef closer1():\\n    x = 200\\n    print(f'지역변수 x의 메모리주소 = {id(x)}')\\n    \\ncloser1()\\nget_ipython().run_line_magic('whos', '')\", \"# 1) 전역변수를 정의하는 방법(1)\\ny = 100\\nprint(f'전역변수 y의 메모리주소 = {id(y)}')\\ndef closer2():\\n    global y # y는 지역변수가 아니라 전역변수로 선언\\n    y = 200\\n    print(f'지역변수 y의 메모리주소 = {id(y)}, y의 값 = {y}')\\n    \\ncloser2() \\nprint(y)\", \"# 1) 전역변수를 정의하는 방법(1)\\ny = 100\\nprint(f'전역변수 y의 메모리주소 = {id(y)}')\\ndef closer2():\\n    global y # y는 지역변수가 아니라 전역변수로 선언\\n    y = 200\\n    print(f'지역변수 y의 메모리주소 = {id(y)}, \\\\ny의 값 = {y}')\\n    \\ncloser2() \\nprint(f'y의 값 = {y}')\", \"# 1) 전역변수를 정의하는 방법(1)\\ny = 100\\nprint(f'전역변수 y의 메모리주소 = {id(y)}')\\ndef closer2():\\n    global y # y는 지역변수가 아니라 전역변수로 선언\\n    y = 200\\n    print(f'전역변수 y의 메모리주소 = {id(y)}, \\\\n지역에서의 y의 값 = {y}')\\n    \\ncloser2() \\nprint(f'전역에서의 y의 값 = {y}')\", \"# 1) 전역변수를 정의하는 방법(1)\\ny = 100\\nprint(f'전역변수 y의 메모리주소 = {id(y)}')\\nprint()\\n\\ndef closer2():\\n    global y # y는 지역변수가 아니라 전역변수로 선언\\n    y = 200\\n    print(f'전역변수 y의 메모리주소 = {id(y)}, \\\\n지역에서의 y의 값 = {y}')\\n    \\ncloser2() \\nprint(f'전역에서의 y의 값 = {y}')\", \"# 1) 전역변수를 정의하는 방법(1)\\ny = 100\\nprint(f'전역변수 y의 메모리주소 = {id(y)}')\\ndef closer2():\\n    global y # y는 지역변수가 아니라 전역변수로 선언\\n    y = 200\\n    print(f'전역변수 y의 메모리주소 = {id(y)}, \\\\n\\\\n지역에서의 y의 값 = {y}')\\n    \\ncloser2() \\nprint(f'전역에서의 y의 값 = {y}')\", \"# 1) 전역변수를 정의하는 방법(1)\\ny = 100\\nprint(f'전역변수 y의 메모리주소 = {id(y)}')\\ndef closer2():\\n    global y # y는 지역변수가 아니라 전역변수로 선언\\n    y = 200\\n    print(f'전역변수 y의 메모리주소 = {id(y)}, \\\\n\\\\n지역에서 전역변수로 선언된 y의 값 = {y}')\\n    \\ncloser2() \\nprint(f'전역에서의 y의 값 = {y}')\", \"# 1) 전역변수를 정의하는 방법(1)\\ny = 100\\nprint(f'전역변수 y의 메모리주소 = {id(y)}')\\ndef closer2():\\n    # global y # y는 지역변수가 아니라 전역변수로 선언\\n    y = 200\\n    print(f'전역변수 y의 메모리주소 = {id(y)}, \\\\n\\\\n지역에서 전역변수로 선언된 y의 값 = {y}')\\n    \\ncloser2() \\nprint(f'전역에서의 y의 값 = {y}')\", \"# 1) 전역변수를 정의하는 방법(1)\\ny = 100\\nprint(f'전역변수 y의 메모리주소 = {id(y)}')\\ndef closer2():\\n    global y # y는 지역변수가 아니라 전역변수로 선언\\n    y = 200\\n    print(f'전역변수 y의 메모리주소 = {id(y)}, \\\\n\\\\n지역에서 전역변수로 선언된 y의 값 = {y}')\\n    \\ncloser2() \\nprint(f'전역에서의 y의 값 = {y}')\", \"# 2) 전역변수를 정의하는 방법(2)\\ndef closer3():\\n    z = 300\\n    print(f'지역변수 z의 메모리주소 = {id(z)}')\\n\\ncloser3()    \", \"# 2) 전역변수를 정의하는 방법(2)\\ndef closer3():\\n    z = 300\\n    print(f'지역변수 z의 메모리주소 = {id(z)}')\\n    print(f'지역변수 z의 값 = {z}')\\n\\ncloser3()    \", \"# 2) 전역변수를 정의하는 방법(2)\\ndef closer3():\\n    z = 300\\n    print(f'지역에서선언된 z의 메모리주소 = {id(z)}')\\n    print(f'지역에서선언된 z의 값 = {z}')\\n\\ncloser3() \\n\\nprint(f'지역에서선언된 z의 값 = {z}')\", \"# 2) 전역변수를 정의하는 방법(2)\\ndef closer3():\\n    global\\n    z = 300\\n    print(f'지역에서선언된 z의 메모리주소 = {id(z)}')\\n    print(f'지역에서선언된 z의 값 = {z}')\\n\\ncloser3() \\n\\nprint(f'지역에서선언된 z의 값 = {z}')\", \"# 2) 전역변수를 정의하는 방법(2)\\ndef closer3():\\n    global z\\n    z = 300\\n    print(f'지역에서선언된 z의 메모리주소 = {id(z)}')\\n    print(f'지역에서선언된 z의 값 = {z}')\\n\\ncloser3() \\n\\nprint(f'지역에서선언된 z의 값 = {z}')\", \"# 2) 전역변수를 정의하는 방법(2)\\ndef closer3():\\n    global z = 300\\n    print(f'지역에서선언된 z의 메모리주소 = {id(z)}')\\n    print(f'지역에서선언된 z의 값 = {z}')\\n\\ncloser3() \\n\\nprint(f'지역에서선언된 z의 값 = {z}')\", \"# 2) 전역변수를 정의하는 방법(2)\\ndef closer3():\\n    global z\\n    z = 300\\n    print(f'지역에서선언된 z의 메모리주소 = {id(z)}')\\n    print(f'지역에서선언된 z의 값 = {z}')\\n\\ncloser3() \\n\\nprint(f'지역에서선언된 z의 값 = {z}')\", 'import copy', \"# 네임스페이스\\n# 파이썬에서는 변수들은 네임스페이스에 저장된다.\\n# 네임스페이스를 확인하려면 globals(), local()함수를 이용하면\\n# 현재의 Namespase를 딕셔너리형태로 출력한다.\\n# 또한, Jupyter Notebook의 매직명령어 %who, %whos, %whos_ls로도 확인 가능하다.\\nget_ipython().run_line_magic('who', '')\", \"# 네임스페이스\\n# 파이썬에서는 변수들은 네임스페이스에 저장된다.\\n# 네임스페이스를 확인하려면 globals(), local()함수를 이용하면\\n# 현재의 Namespase를 딕셔너리형태로 출력한다.\\n# 또한, Jupyter Notebook의 매직명령어 %who, %whos, %whos_ls로도 확인 가능하다.\\nget_ipython().run_line_magic('whos', '')\", \"# 네임스페이스\\n# 파이썬에서는 변수들은 네임스페이스에 저장된다.\\n# 네임스페이스를 확인하려면 globals(), local()함수를 이용하면\\n# 현재의 Namespase를 딕셔너리형태로 출력한다.\\n# 또한, Jupyter Notebook의 매직명령어 %who, %whos, %whos_ls로도 확인 가능하다.\\nget_ipython().run_line_magic('whos_ls', '')\", \"# 네임스페이스\\n# 파이썬에서는 변수들은 네임스페이스에 저장된다.\\n# 네임스페이스를 확인하려면 globals(), local()함수를 이용하면\\n# 현재의 Namespase를 딕셔너리형태로 출력한다.\\n# 또한, Jupyter Notebook의 매직명령어 %who, %whos, %whos_ls로도 확인 가능하다.\\nget_ipython().run_line_magic('who_ls', '')\", \"# 네임스페이스\\n# 파이썬에서는 변수들은 네임스페이스에 저장된다.\\n# 네임스페이스를 확인하려면 globals(), local()함수를 이용하면\\n# 현재의 Namespase를 딕셔너리형태로 출력한다.\\n# 또한, Jupyter Notebook의 매직명령어 %who, %whos, %whos_ls로도 확인 가능하다.\\nget_ipython().run_line_magic('whos', '')\", \"# 네임스페이스\\n# 파이썬에서는 변수들은 네임스페이스에 저장된다.\\n# 네임스페이스를 확인하려면 globals(), local()함수를 이용하면\\n# 현재의 Namespase를 딕셔너리형태로 출력한다.\\n# 또한, Jupyter Notebook의 매직명령어 %who, %whos, %whos_ls로도 확인 가능하다.\\nget_ipython().run_line_magic('whos', '')\\nget_ipython().run_line_magic('reset', '-f')\\n\\na = 3\\nget_ipython().run_line_magic('whos', '')\", \"# 네임스페이스\\n# 파이썬에서는 변수들은 네임스페이스에 저장된다.\\n# 네임스페이스를 확인하려면 globals(), local()함수를 이용하면\\n# 현재의 Namespase를 딕셔너리형태로 출력한다.\\n# 또한, Jupyter Notebook의 매직명령어 %who, %whos, %whos_ls로도 확인 가능하다.\\nget_ipython().run_line_magic('whos', '')\\nget_ipython().run_line_magic('reset', '-f')\\n\\na = 3\\nget_ipython().run_line_magic('whos', '')\", \"# 네임스페이스\\n# 파이썬에서는 변수들은 네임스페이스에 저장된다.\\n# 네임스페이스를 확인하려면 globals(), local()함수를 이용하면\\n# 현재의 Namespase를 딕셔너리형태로 출력한다.\\n# 또한, Jupyter Notebook의 매직명령어 %who, %whos, %whos_ls로도 확인 가능하다.\\nget_ipython().run_line_magic('reset', '-f')\\n\\na = 3\\nget_ipython().run_line_magic('whos', '')\", \"# 네임스페이스\\n# 파이썬에서는 변수들은 네임스페이스에 저장된다.\\n# 네임스페이스를 확인하려면 globals(), local()함수를 이용하면\\n# 현재의 Namespase를 딕셔너리형태로 출력한다.\\n# 또한, Jupyter Notebook의 매직명령어 %who, %whos, %whos_ls로도 확인 가능하다.\\nget_ipython().run_line_magic('reset', '-f')\\n\\na = 3\\nget_ipython().run_line_magic('whos', '')\\n\\nlocals()\", 'a = 10\\nprint(globals())', \"# 함수는 전역과는 별개의 네임스페이스를 갖는다.\\na = 200\\ndef func():\\n    a = 300\\n    b = 'python'\\n    \\nfunc()\", \"# 함수는 전역과는 별개의 네임스페이스를 갖는다.\\na = 200\\ndef func():\\n    a = 300\\n    b = 'python'\\n    \\nfunc()\\nprint(globals())\\nprint('-'*60)\\nprint(locals())\"], '_oh': {77: {...}}, '_dh': [WindowsPath('d:/lec/04.python')], 'In': ['', \"# 1. 홀수, 짝수를 구변하는 is_odd()함수를 작성\\n# 주어진 숫자가 홀수인지 짝수인지를 구별해서\\n# '짝수입니다' or '홀수입니다'를 출력하세요\\n# 1) 일반함수 is_odd(number)\\ndef is_odd(n):\\n    if n%2 == 0:\\n        print('짝수입니다!')\\n    else:\\n        print('홀수입니다!')\\n        \\nis_odd(1)\\n# 2) lambda함수\", \"# 1. 홀수, 짝수를 구변하는 is_odd()함수를 작성\\n# 주어진 숫자가 홀수인지 짝수인지를 구별해서\\n# '짝수입니다' or '홀수입니다'를 출력하세요\\n# 1) 일반함수 is_odd(number)\\ndef is_odd(n):\\n    if n%2 == 0:\\n        print('짝수입니다!')\\n    else:\\n        print('홀수입니다!')\\n        \\nis_odd(2)\\n\\n# 2) lambda함수\", \"# 1. 홀수, 짝수를 구변하는 is_odd()함수를 작성\\n# 주어진 숫자가 홀수인지 짝수인지를 구별해서\\n# '짝수입니다' or '홀수입니다'를 출력하세요\\n# 1) 일반함수 is_odd(number)\\ndef is_odd(n):\\n    if n%2 == 0:\\n        print('짝수입니다!')\\n    else:\\n        print('홀수입니다!')\\n        \\nis_odd(2)\\n\\n# 2) lambda함수\\nis_odd_lambda = lambda n: print('짝수입니다!') if n%2==0 else print('홀수입니다!')\\nis_odd_lambda(1)\", \"# 1. 홀수, 짝수를 구변하는 is_odd()함수를 작성\\n# 주어진 숫자가 홀수인지 짝수인지를 구별해서\\n# '짝수입니다' or '홀수입니다'를 출력하세요\\n# 1) 일반함수 is_odd(number)\\ndef is_odd(n):\\n    if n%2 == 0:\\n        print('짝수입니다!')\\n    else:\\n        print('홀수입니다!')\\n        \\nis_odd(2)\\n\\n# 2) lambda함수\\nis_odd_lambda = lambda n: print('짝수입니다!') if n%2==0 else print('홀수입니다!')\\nis_odd_lambda(1)\\nis_odd_lambda(2)\", \"# 1. 홀수, 짝수를 구변하는 is_odd()함수를 작성\\n# 주어진 숫자가 홀수인지 짝수인지를 구별해서\\n# '짝수입니다' or '홀수입니다'를 출력하세요\\n# 1) 일반함수 is_odd(number)\\ndef is_odd(n):\\n    if n%2 == 0:\\n        print('짝수입니다!')\\n    else:\\n        print('홀수입니다!')\\n        \\nis_odd(2)\\nis_odd(1)\\nprint()\\n\\n# 2) lambda함수\\nis_odd_lambda = lambda n: print('짝수입니다!') if n%2==0 else print('홀수입니다!')\\nis_odd_lambda(1)\\nis_odd_lambda(2)\", \"# 1. 홀수, 짝수를 구변하는 is_odd()함수를 작성\\n# 주어진 숫자가 홀수인지 짝수인지를 구별해서\\n# '짝수입니다' or '홀수입니다'를 출력하세요\\n# 1) 일반함수 is_odd(number)\\ndef is_odd(n):\\n    if n%2 == 0:\\n        print('짝수입니다!')\\n    else:\\n        print('홀수입니다!')\\n        \\nis_odd(2)\\nis_odd(1)\\nprint()\\n\\n# 2) lambda함수\\nis_odd_lambda1 = lambda n: print('짝수입니다!') if n%2==0 else print('홀수입니다!')\\nis_odd_lambda1(1)\\nis_odd_lambda1(2)\\n\\nis_odd_lambda2 = lambda n: '짝수입니다!' if n%2==0 else '홀수입니다!'\\nis_odd_lambda2(1)\\nis_odd_lambda2(2)\", \"# 1. 홀수, 짝수를 구변하는 is_odd()함수를 작성\\n# 주어진 숫자가 홀수인지 짝수인지를 구별해서\\n# '짝수입니다' or '홀수입니다'를 출력하세요\\n# 1) 일반함수 is_odd(number)\\ndef is_odd(n):\\n    if n%2 == 0:\\n        print('짝수입니다!')\\n    else:\\n        print('홀수입니다!')\\n        \\nis_odd(2)\\nis_odd(1)\\nprint()\\n\\n# 2) lambda함수\\nis_odd_lambda1 = lambda n: print('짝수입니다!') if n%2==0 else print('홀수입니다!')\\nis_odd_lambda1(1)\\nis_odd_lambda1(2)\\n\\nis_odd_lambda2 = lambda n: '짝수입니다!' if n%2==0 else '홀수입니다!'\\nprint(is_odd_lambda2(1))\\nprint(is_odd_lambda2(2))\", \"# 1. 홀수, 짝수를 구변하는 is_odd()함수를 작성\\n# 주어진 숫자가 홀수인지 짝수인지를 구별해서\\n# '짝수입니다' or '홀수입니다'를 출력하세요\\n# 1) 일반함수 is_odd(number)\\ndef is_odd(n):\\n    if n%2 == 0:\\n        print('짝수입니다!')\\n    else:\\n        print('홀수입니다!')\\n        \\nis_odd(2)\\nis_odd(1)\\nprint()\\n\\n# 2) lambda함수\\nis_odd_lambda1 = lambda n: print('짝수입니다!') if n%2==0 else print('홀수입니다!')\\nis_odd_lambda1(1)\\nis_odd_lambda1(2)\\nprint()\\n\\nis_odd_lambda2 = lambda n: '짝수입니다!' if n%2==0 else '홀수입니다!'\\nprint(is_odd_lambda2(1))\\nprint(is_odd_lambda2(2))\", \"# 1. 홀수, 짝수를 구변하는 is_odd()함수를 작성\\n# 주어진 숫자가 홀수인지 짝수인지를 구별해서\\n# '짝수입니다' or '홀수입니다'를 출력하세요\\n# 1) 일반함수 is_odd(number)\\ndef is_odd(n):\\n    if n%2 == 0:\\n        print('짝수입니다!')\\n    else:\\n        print('홀수입니다!')\\n        \\nis_odd(2)\\nis_odd(1)\\nprint()\\n\\n# 2) lambda함수 - return이 없는 경우\\nis_odd_lambda1 = lambda n: print('짝수입니다!') if n%2==0 else print('홀수입니다!')\\nis_odd_lambda1(1)\\nis_odd_lambda1(2)\\nprint()\\n\\n# 3) lambda함수 - return이 생략된 경우\\nis_odd_lambda2 = lambda n: '짝수입니다!' if n%2==0 else '홀수입니다!'\\nprint(is_odd_lambda2(1))\\nprint(is_odd_lambda2(2))\\n\\nresult = is_odd_lambda2(1)\\nprint(result)\", \"# 1. 홀수, 짝수를 구변하는 is_odd()함수를 작성\\n# 주어진 숫자가 홀수인지 짝수인지를 구별해서\\n# '짝수입니다' or '홀수입니다'를 출력하세요\\n# 1) 일반함수 is_odd(number)\\ndef is_odd(n):\\n    if n%2 == 0:\\n        print('짝수입니다!')\\n    else:\\n        print('홀수입니다!')\\n        \\nis_odd(2)\\nis_odd(1)\\nprint()\\n\\n# 2) lambda함수 - return이 없는 경우\\nis_odd_lambda1 = lambda n: print('짝수입니다!') if n%2==0 else print('홀수입니다!')\\nis_odd_lambda1(1)\\nis_odd_lambda1(2)\\nprint()\\n\\n# 3) lambda함수 - return이 생략된 경우\\nis_odd_lambda2 = lambda xxx: '짝수입니다!' if xxx%2==0 else '홀수입니다!'\\nprint(is_odd_lambda2(1))\\nprint(is_odd_lambda2(2))\\nprint()\\n\\nresult = is_odd_lambda2(1)\\nprint(result)\", '# 2. 입력된 모든 수의 평균을 계산하는 funcAvg()함수를 작성\\n# 단, 입력매개변수의 갯수는 정해져 있지 않다.\\n# funcAvg()\\ndef funcAvg():\\n    pass\\n\\nfuncAvg()', '# 2. 입력된 모든 수의 평균을 계산하는 funcAvg()함수를 작성\\n# 단, 입력매개변수의 갯수는 정해져 있지 않다.\\n# funcAvg()\\ndef funcAvg(*numbers):\\n    result = 0\\n    for num in numbers:\\n        result += num\\n    return(result / len(numbers))\\n\\nprint(funcAvg(1,2,3,4,5))', '# 2. 입력된 모든 수의 평균을 계산하는 funcAvg()함수를 작성\\n# 단, 입력매개변수의 갯수는 정해져 있지 않다.\\n# funcAvg()\\ndef funcAvg(*numbers):\\n    result = 0\\n    for num in numbers:\\n        result += num\\n    return(result / len(numbers))\\n\\nprint(funcAvg(1,2,3,4,5))\\nprint(funcAvg(1,2,3,4,5,6,7,8,9,10))', '# 2. 입력된 모든 수의 평균을 계산하는 funcAvg()함수를 작성\\n# 단, 입력매개변수의 갯수는 정해져 있지 않다.\\n# funcAvg()\\ndef funcAvg(*numbers):\\n    result = 0\\n    for num in numbers:\\n        result += num\\n    return(result / len(numbers))\\n\\nprint(funcAvg(1,2,3,4,5))\\nprint(funcAvg(1,2,3,4,5,6,7,8,9,10))\\nprint()\\n\\n# 멀티매개값을 list, tuple로 한 개의 값으로 전달하는 법\\nprint(funcAvg([1,2,3,4,5]))', '# 2. 입력된 모든 수의 평균을 계산하는 funcAvg()함수를 작성\\n# 단, 입력매개변수의 갯수는 정해져 있지 않다.\\n# funcAvg()\\ndef funcAvg(*numbers):\\n    result = 0\\n    for num in numbers:\\n        result += num\\n    return(result / len(numbers))\\n\\nprint(funcAvg(1,2,3,4,5))\\nprint(funcAvg(1,2,3,4,5,6,7,8,9,10))\\nprint()\\n\\n# 멀티매개값을 list, tuple로 한 개의 값으로 전달하는 법\\nprint(funcAvg((1,2,3,4,5))', '# 2. 입력된 모든 수의 평균을 계산하는 funcAvg()함수를 작성\\n# 단, 입력매개변수의 갯수는 정해져 있지 않다.\\n# funcAvg()\\ndef funcAvg(*numbers):\\n    result = 0\\n    for num in numbers:\\n        result += num\\n    return(result / len(numbers))\\n\\nprint(funcAvg(1,2,3,4,5))\\nprint(funcAvg(1,2,3,4,5,6,7,8,9,10))\\nprint()\\n\\n# 멀티매개값을 list, tuple로 한 개의 값으로 전달하는 법\\nprint(funcAvg((1,2,3,4,5)))', '# 2. 입력된 모든 수의 평균을 계산하는 funcAvg()함수를 작성\\n# 단, 입력매개변수의 갯수는 정해져 있지 않다.\\n# funcAvg()\\ndef funcAvg(*numbers):\\n    result = 0\\n    for num in numbers:\\n        result += num\\n    return(result / len(numbers))\\n\\nprint(funcAvg(1,2,3,4,5))\\nprint(funcAvg(1,2,3,4,5,6,7,8,9,10))\\nprint()\\n\\n# 멀티매개값을 list, tuple로 한 개의 값으로 전달하는 법\\nprint(funcAvg(*(1,2,3,4,5)))', '# 2. 입력된 모든 수의 평균을 계산하는 funcAvg()함수를 작성\\n# 단, 입력매개변수의 갯수는 정해져 있지 않다.\\n# funcAvg()\\ndef funcAvg(*numbers):\\n    result = 0\\n    for num in numbers:\\n        result += num\\n    return(result / len(numbers))\\n\\nprint(funcAvg(1,2,3,4,5))\\nprint(funcAvg(1,2,3,4,5,6,7,8,9,10))\\nprint()\\n\\n# 멀티매개값을 list, tuple로 한 개의 값으로 전달하는 법\\nprint(funcAvg(*(1,2,3,4,5)))\\nprint(funcAvg([1,2,3,4,5,6,7,8,9,10]))', '# 2. 입력된 모든 수의 평균을 계산하는 funcAvg()함수를 작성\\n# 단, 입력매개변수의 갯수는 정해져 있지 않다.\\n# funcAvg()\\ndef funcAvg(*numbers):\\n    result = 0\\n    for num in numbers:\\n        result += num\\n    return(result / len(numbers))\\n\\nprint(funcAvg(1,2,3,4,5))\\nprint(funcAvg(1,2,3,4,5,6,7,8,9,10))\\nprint()\\n\\n# 멀티매개값을 list, tuple로 한 개의 값으로 전달하는 법\\nprint(funcAvg(*(1,2,3,4,5)))\\nprint(funcAvg(*[1,2,3,4,5,6,7,8,9,10]))', \"# 3. 구구단을 출력하는 함수 gugudan()함수를 작성\\n# 입력값은 2~9단까지 한개의 임의의 단을 입력\\n# gugudan(9)\\ndef gugudan(dan):\\n    for i in range(2, 10):\\n        print(f'{dan} x {i} = {dan*i:2d}')\\n        \\ngugudan(9)\", \"# 3. 구구단을 출력하는 함수 gugudan()함수를 작성\\n# 입력값은 2~9단까지 한개의 임의의 단을 입력\\n# gugudan(9)\\ndef gugudan(dan):\\n    for i in range(2, 10):\\n        print(f'{dan} x {i} = {dan*i:2d}')\\n        \\ngugudan(9)\\nprint()\\n\\ngugudan(2)\", \"# 3. 구구단을 출력하는 함수 gugudan()함수를 작성\\n# 입력값은 2~9단까지 한개의 임의의 단을 입력\\n# gugudan(9)\\ndef gugudan(dan):\\n    for i in range(2, 10):\\n        print(f'{dan} x {i} = {dan*i:2d}')\\n        \\ngugudan(9)\\nprint()\\n\\ngugudan(2)\\nprint()\\n\\ngugudan(int(input('단을 입력하세요 => ')))\", \"# 3. 구구단을 출력하는 함수 gugudan()함수를 작성\\n# 입력값은 2~9단까지 한개의 임의의 단을 입력\\n# gugudan(9)\\ndef gugudan(dan):\\n    for i in range(2, 10):\\n        print(f'{dan} x {i} = {dan*i:2d}')\\n        \\ngugudan(9)\\nprint()\\n\\ngugudan(2)\\nprint()\\n\\ngugudan(int(input('단을 입력하세요 => ')))\", '# 4. 리스트 [2,3,4,5,6,7,8]에서 5보다 큰 수만 리턴하는 \\n# 1) funcReturn()함수작성\\ndef funcReturn(numbers):\\n    l = []\\n    for num in numbers:\\n        if num > 5:\\n            l.append(num)\\n    return l\\n\\nprint(funcAvg([2,3,4,5,6,7,8]))\\n\\n# 2) lambda식으로 작성, 이름은 funcReturnLambda', '# 4. 리스트 [2,3,4,5,6,7,8]에서 5보다 큰 수만 리턴하는 \\n# 1) funcReturn()함수작성\\ndef funcReturn(numbers):\\n    l = []\\n    for num in numbers:\\n        if num > 5:\\n            l.append(num)\\n    return l\\n\\nprint(funcReturn([2,3,4,5,6,7,8]))\\n\\n# 2) lambda식으로 작성, 이름은 funcReturnLambda', '# 4. 리스트 [2,3,4,5,6,7,8]에서 5보다 큰 수만 리턴하는 \\n# 1) funcReturn()함수작성\\ndef funcReturn(numbers):\\n    l = []\\n    for num in numbers:\\n        if num > 5:\\n            l.append(num)\\n    return l\\n\\nprint(funcReturn([2,3,4,5,6,7,8]))\\n\\n# 2) lambda식으로 작성, 이름은 funcReturnLambda\\nfuncReturnLambda = lambda numbers: [num for num in numbers if number > 5]\\nprint(funcReturnLambda([2,3,4,5,6,7,8]))', '# 4. 리스트 [2,3,4,5,6,7,8]에서 5보다 큰 수만 리턴하는 \\n# 1) funcReturn()함수작성\\ndef funcReturn(numbers):\\n    l = []\\n    for num in numbers:\\n        if num > 5:\\n            l.append(num)\\n    return l\\n\\nprint(funcReturn([2,3,4,5,6,7,8]))\\n\\n# 2) lambda식으로 작성, 이름은 funcReturnLambda\\nfuncReturnLambda = lambda numbers: [num for num in numbers if num > 5]\\nprint(funcReturnLambda([2,3,4,5,6,7,8]))', \"# 1. 변수의 사용범위\\n# 1) 전역변수(global variable)\\ndef closer():\\n    print(f'함수안에서 사용할 수 있는 전역변수 x = {x}')\\n\\ncloser()\\n\\n# 2) 지역변수(local variable)\", \"# 1. 변수의 사용범위\\n# 1) 전역변수(global variable)\\n\\nx = 100\\ndef closer():\\n    print(f'함수안에서 사용할 수 있는 전역변수 x = {x}')\\n\\ncloser()\\n\\n# 2) 지역변수(local variable)\", \"# 1. 변수의 사용범위\\n# 1) 전역변수(global variable)\\n\\nx = 100\\ndef closer1():\\n    print(f'함수안에서 사용할 수 있는 전역변수 x = {x}')\\n\\ncloser1()\", \"# 2) 지역변수(local variable)\\ndef closer2():\\n    print(f'함수안에서 사용할 수 있는 전역변수 x = {x}')\\n\\ncloser2()\", \"# 1. 변수의 사용범위\\n# 1) 전역변수(global variable)\\n\\nx = 100\\ndef closer1():\\n    print(f'함수안에서 사용할 수 있는 전역변수 x = {x}')\\n\\ncloser1()\\ndel x\", \"get_ipython().run_line_magic('whos', '')\\n# 2) 지역변수(local variable)\\n\\ndef closer2():\\n    print(f'함수안에서 사용할 수 있는 전역변수 x = {x}')\\n\\ncloser2()\", \"get_ipython().run_line_magic('whos', '')\\n# 2) 지역변수(local variable)\\n\\ndef closer2():\\n    x = '문자열 100'\\n    print(f'함수안에서 사용할 수 있는 지역변수 x = {x}')\\n\\ncloser2()\", \"# 1. 변수의 사용범위\\n# 1) 전역변수(global variable)\\n\\nx = 100\\ndef closer1():\\n    print(f'함수안에서 사용할 수 있는 전역변수 x = {x}')\\n\\ncloser1()\\n# del x\", \"get_ipython().run_line_magic('whos', '')\", \"# 2) 지역변수(local variable)\\n\\ndef closer2():\\n#     x = '문자열 100'\\n    print(f'함수안에서 사용할 수 있는 지역변수 x = {x}')\\n\\ncloser2()\", \"# 2) 지역변수(local variable)\\n\\ndef closer2():\\n    x = '문자열 100'\\n    print(f'함수안에서 사용할 수 있는 지역변수 x = {x}')\\n\\ncloser2()\", \"get_ipython().run_line_magic('whos', '')\", \"# 2) 지역변수(local variable)\\n\\ndef closer2():\\n    y = '문자열 100'\\n    print(f'함수안에서 사용할 수 있는 지역변수 y = {y}')\\n\\ncloser2()\", \"get_ipython().run_line_magic('whos', '')\", \"# 2) 지역변수(local variable)\\n\\ndef closer2():\\n    y = '문자열 100'\\n    print(f'함수안에서 사용할 수 있는 지역변수 y = {y}')\\n\\ncloser2()\\n\\nprint(y)\", \"# 2) 지역변수(local variable)\\n\\ndef closer2():\\n    y = '문자열 100'\\n    print(f'함수안에서 사용할 수 있는 지역변수 y = {y}')\\n\\ncloser2()\\n\\n# 지역변수 y은 외부에서 접근불가능\\nprint(y) # NameError: name 'y' is not defined\", \"# 2. 함수안에서 전역변수 사용(변경)하기\\nget_ipython().run_line_magic('whos', '')\", \"# 2. 함수안에서 전역변수 사용(변경)하기\\nget_ipython().run_line_magic('reset', '')\", \"# 2. 함수안에서 전역변수 사용(변경)하기\\nget_ipython().run_line_magic('reset', '-f')\", \"get_ipython().run_line_magic('whos', '')\", \"# 2. 함수안에서 전역변수 사용(변경)하기\\nget_ipython().run_line_magic('reset', '-f')\\n\\nx = 100\\nprint(f'전역변수 x의 메모리주소 = {id(x)}')\\ndef closer1():\\n    x = 200\\n    print(f'지역변수 x의 메모리주소 = {id(x)}')\\n    \\ncloser1()\", \"# 2. 함수안에서 전역변수 사용(변경)하기\\nget_ipython().run_line_magic('reset', '-f')\\n\\nx = 100\\nprint(f'전역변수 x의 메모리주소 = {id(x)}')\\ndef closer1():\\n    x = 200\\n    print(f'지역변수 x의 메모리주소 = {id(x)}')\\n    \\ncloser1()\\nget_ipython().run_line_magic('whos', '')\", \"# 1) 전역변수를 정의하는 방법(1)\\ny = 100\\nprint(f'전역변수 y의 메모리주소 = {id(y)}')\\ndef closer2():\\n    y = 200\\n    print(f'지역변수 y의 메모리주소 = {id(y)}')\\n    \\ncloser2()  \", \"# 1) 전역변수를 정의하는 방법(1)\\ny = 100\\nprint(f'전역변수 y의 메모리주소 = {id(y)}')\\ndef closer2():\\n    global y # y는 지역변수가 아니라 전역변수로 선언\\n    y = 200\\n    print(f'지역변수 y의 메모리주소 = {id(y)}')\\n    \\ncloser2()  \", \"# 2. 함수안에서 전역변수 사용(변경)하기\\nget_ipython().run_line_magic('reset', '-f')\\n\\nx = 100\\nprint(f'전역변수 x의 메모리주소 = {id(x)}')\\ndef closer1():\\n    x = 200\\n    print(f'지역변수 x의 메모리주소 = {id(x)}')\\n    \\ncloser1()\\nget_ipython().run_line_magic('whos', '')\", \"# 1) 전역변수를 정의하는 방법(1)\\ny = 100\\nprint(f'전역변수 y의 메모리주소 = {id(y)}')\\ndef closer2():\\n    global y # y는 지역변수가 아니라 전역변수로 선언\\n    y = 200\\n    print(f'지역변수 y의 메모리주소 = {id(y)}, y의 값 = {y}')\\n    \\ncloser2() \\nprint(y)\", \"# 1) 전역변수를 정의하는 방법(1)\\ny = 100\\nprint(f'전역변수 y의 메모리주소 = {id(y)}')\\ndef closer2():\\n    global y # y는 지역변수가 아니라 전역변수로 선언\\n    y = 200\\n    print(f'지역변수 y의 메모리주소 = {id(y)}, \\\\ny의 값 = {y}')\\n    \\ncloser2() \\nprint(f'y의 값 = {y}')\", \"# 1) 전역변수를 정의하는 방법(1)\\ny = 100\\nprint(f'전역변수 y의 메모리주소 = {id(y)}')\\ndef closer2():\\n    global y # y는 지역변수가 아니라 전역변수로 선언\\n    y = 200\\n    print(f'전역변수 y의 메모리주소 = {id(y)}, \\\\n지역에서의 y의 값 = {y}')\\n    \\ncloser2() \\nprint(f'전역에서의 y의 값 = {y}')\", \"# 1) 전역변수를 정의하는 방법(1)\\ny = 100\\nprint(f'전역변수 y의 메모리주소 = {id(y)}')\\nprint()\\n\\ndef closer2():\\n    global y # y는 지역변수가 아니라 전역변수로 선언\\n    y = 200\\n    print(f'전역변수 y의 메모리주소 = {id(y)}, \\\\n지역에서의 y의 값 = {y}')\\n    \\ncloser2() \\nprint(f'전역에서의 y의 값 = {y}')\", \"# 1) 전역변수를 정의하는 방법(1)\\ny = 100\\nprint(f'전역변수 y의 메모리주소 = {id(y)}')\\ndef closer2():\\n    global y # y는 지역변수가 아니라 전역변수로 선언\\n    y = 200\\n    print(f'전역변수 y의 메모리주소 = {id(y)}, \\\\n\\\\n지역에서의 y의 값 = {y}')\\n    \\ncloser2() \\nprint(f'전역에서의 y의 값 = {y}')\", \"# 1) 전역변수를 정의하는 방법(1)\\ny = 100\\nprint(f'전역변수 y의 메모리주소 = {id(y)}')\\ndef closer2():\\n    global y # y는 지역변수가 아니라 전역변수로 선언\\n    y = 200\\n    print(f'전역변수 y의 메모리주소 = {id(y)}, \\\\n\\\\n지역에서 전역변수로 선언된 y의 값 = {y}')\\n    \\ncloser2() \\nprint(f'전역에서의 y의 값 = {y}')\", \"# 1) 전역변수를 정의하는 방법(1)\\ny = 100\\nprint(f'전역변수 y의 메모리주소 = {id(y)}')\\ndef closer2():\\n    # global y # y는 지역변수가 아니라 전역변수로 선언\\n    y = 200\\n    print(f'전역변수 y의 메모리주소 = {id(y)}, \\\\n\\\\n지역에서 전역변수로 선언된 y의 값 = {y}')\\n    \\ncloser2() \\nprint(f'전역에서의 y의 값 = {y}')\", \"# 1) 전역변수를 정의하는 방법(1)\\ny = 100\\nprint(f'전역변수 y의 메모리주소 = {id(y)}')\\ndef closer2():\\n    global y # y는 지역변수가 아니라 전역변수로 선언\\n    y = 200\\n    print(f'전역변수 y의 메모리주소 = {id(y)}, \\\\n\\\\n지역에서 전역변수로 선언된 y의 값 = {y}')\\n    \\ncloser2() \\nprint(f'전역에서의 y의 값 = {y}')\", \"# 2) 전역변수를 정의하는 방법(2)\\ndef closer3():\\n    z = 300\\n    print(f'지역변수 z의 메모리주소 = {id(z)}')\\n\\ncloser3()    \", \"# 2) 전역변수를 정의하는 방법(2)\\ndef closer3():\\n    z = 300\\n    print(f'지역변수 z의 메모리주소 = {id(z)}')\\n    print(f'지역변수 z의 값 = {z}')\\n\\ncloser3()    \", \"# 2) 전역변수를 정의하는 방법(2)\\ndef closer3():\\n    z = 300\\n    print(f'지역에서선언된 z의 메모리주소 = {id(z)}')\\n    print(f'지역에서선언된 z의 값 = {z}')\\n\\ncloser3() \\n\\nprint(f'지역에서선언된 z의 값 = {z}')\", \"# 2) 전역변수를 정의하는 방법(2)\\ndef closer3():\\n    global\\n    z = 300\\n    print(f'지역에서선언된 z의 메모리주소 = {id(z)}')\\n    print(f'지역에서선언된 z의 값 = {z}')\\n\\ncloser3() \\n\\nprint(f'지역에서선언된 z의 값 = {z}')\", \"# 2) 전역변수를 정의하는 방법(2)\\ndef closer3():\\n    global z\\n    z = 300\\n    print(f'지역에서선언된 z의 메모리주소 = {id(z)}')\\n    print(f'지역에서선언된 z의 값 = {z}')\\n\\ncloser3() \\n\\nprint(f'지역에서선언된 z의 값 = {z}')\", \"# 2) 전역변수를 정의하는 방법(2)\\ndef closer3():\\n    global z = 300\\n    print(f'지역에서선언된 z의 메모리주소 = {id(z)}')\\n    print(f'지역에서선언된 z의 값 = {z}')\\n\\ncloser3() \\n\\nprint(f'지역에서선언된 z의 값 = {z}')\", \"# 2) 전역변수를 정의하는 방법(2)\\ndef closer3():\\n    global z\\n    z = 300\\n    print(f'지역에서선언된 z의 메모리주소 = {id(z)}')\\n    print(f'지역에서선언된 z의 값 = {z}')\\n\\ncloser3() \\n\\nprint(f'지역에서선언된 z의 값 = {z}')\", 'import copy', \"# 네임스페이스\\n# 파이썬에서는 변수들은 네임스페이스에 저장된다.\\n# 네임스페이스를 확인하려면 globals(), local()함수를 이용하면\\n# 현재의 Namespase를 딕셔너리형태로 출력한다.\\n# 또한, Jupyter Notebook의 매직명령어 %who, %whos, %whos_ls로도 확인 가능하다.\\nget_ipython().run_line_magic('who', '')\", \"# 네임스페이스\\n# 파이썬에서는 변수들은 네임스페이스에 저장된다.\\n# 네임스페이스를 확인하려면 globals(), local()함수를 이용하면\\n# 현재의 Namespase를 딕셔너리형태로 출력한다.\\n# 또한, Jupyter Notebook의 매직명령어 %who, %whos, %whos_ls로도 확인 가능하다.\\nget_ipython().run_line_magic('whos', '')\", \"# 네임스페이스\\n# 파이썬에서는 변수들은 네임스페이스에 저장된다.\\n# 네임스페이스를 확인하려면 globals(), local()함수를 이용하면\\n# 현재의 Namespase를 딕셔너리형태로 출력한다.\\n# 또한, Jupyter Notebook의 매직명령어 %who, %whos, %whos_ls로도 확인 가능하다.\\nget_ipython().run_line_magic('whos_ls', '')\", \"# 네임스페이스\\n# 파이썬에서는 변수들은 네임스페이스에 저장된다.\\n# 네임스페이스를 확인하려면 globals(), local()함수를 이용하면\\n# 현재의 Namespase를 딕셔너리형태로 출력한다.\\n# 또한, Jupyter Notebook의 매직명령어 %who, %whos, %whos_ls로도 확인 가능하다.\\nget_ipython().run_line_magic('who_ls', '')\", \"# 네임스페이스\\n# 파이썬에서는 변수들은 네임스페이스에 저장된다.\\n# 네임스페이스를 확인하려면 globals(), local()함수를 이용하면\\n# 현재의 Namespase를 딕셔너리형태로 출력한다.\\n# 또한, Jupyter Notebook의 매직명령어 %who, %whos, %whos_ls로도 확인 가능하다.\\nget_ipython().run_line_magic('whos', '')\", \"# 네임스페이스\\n# 파이썬에서는 변수들은 네임스페이스에 저장된다.\\n# 네임스페이스를 확인하려면 globals(), local()함수를 이용하면\\n# 현재의 Namespase를 딕셔너리형태로 출력한다.\\n# 또한, Jupyter Notebook의 매직명령어 %who, %whos, %whos_ls로도 확인 가능하다.\\nget_ipython().run_line_magic('whos', '')\\nget_ipython().run_line_magic('reset', '-f')\\n\\na = 3\\nget_ipython().run_line_magic('whos', '')\", \"# 네임스페이스\\n# 파이썬에서는 변수들은 네임스페이스에 저장된다.\\n# 네임스페이스를 확인하려면 globals(), local()함수를 이용하면\\n# 현재의 Namespase를 딕셔너리형태로 출력한다.\\n# 또한, Jupyter Notebook의 매직명령어 %who, %whos, %whos_ls로도 확인 가능하다.\\nget_ipython().run_line_magic('whos', '')\\nget_ipython().run_line_magic('reset', '-f')\\n\\na = 3\\nget_ipython().run_line_magic('whos', '')\", \"# 네임스페이스\\n# 파이썬에서는 변수들은 네임스페이스에 저장된다.\\n# 네임스페이스를 확인하려면 globals(), local()함수를 이용하면\\n# 현재의 Namespase를 딕셔너리형태로 출력한다.\\n# 또한, Jupyter Notebook의 매직명령어 %who, %whos, %whos_ls로도 확인 가능하다.\\nget_ipython().run_line_magic('reset', '-f')\\n\\na = 3\\nget_ipython().run_line_magic('whos', '')\", \"# 네임스페이스\\n# 파이썬에서는 변수들은 네임스페이스에 저장된다.\\n# 네임스페이스를 확인하려면 globals(), local()함수를 이용하면\\n# 현재의 Namespase를 딕셔너리형태로 출력한다.\\n# 또한, Jupyter Notebook의 매직명령어 %who, %whos, %whos_ls로도 확인 가능하다.\\nget_ipython().run_line_magic('reset', '-f')\\n\\na = 3\\nget_ipython().run_line_magic('whos', '')\\n\\nlocals()\", 'a = 10\\nprint(globals())', \"# 함수는 전역과는 별개의 네임스페이스를 갖는다.\\na = 200\\ndef func():\\n    a = 300\\n    b = 'python'\\n    \\nfunc()\", \"# 함수는 전역과는 별개의 네임스페이스를 갖는다.\\na = 200\\ndef func():\\n    a = 300\\n    b = 'python'\\n    \\nfunc()\\nprint(globals())\\nprint('-'*60)\\nprint(locals())\"], 'Out': {77: {...}}, 'get_ipython': <bound method InteractiveShell.get_ipython of <ipykernel.zmqshell.ZMQInteractiveShell object at 0x000001DC0A0FCA50>>, 'exit': <IPython.core.autocall.ZMQExitAutocall object at 0x000001DC0A117BD0>, 'quit': <IPython.core.autocall.ZMQExitAutocall object at 0x000001DC0A117BD0>, 'open': <function open at 0x000001DC080A9620>, 'a': 200, '_': {...}, '__': '', '___': '', '_77': {...}, '_i': \"# 함수는 전역과는 별개의 네임스페이스를 갖는다.\\na = 200\\ndef func():\\n    a = 300\\n    b = 'python'\\n    \\nfunc()\", '_ii': 'a = 10\\nprint(globals())', '_iii': '# 네임스페이스\\n# 파이썬에서는 변수들은 네임스페이스에 저장된다.\\n# 네임스페이스를 확인하려면 globals(), local()함수를 이용하면\\n# 현재의 Namespase를 딕셔너리형태로 출력한다.\\n# 또한, Jupyter Notebook의 매직명령어 %who, %whos, %whos_ls로도 확인 가능하다.\\n%reset -f\\n\\na = 3\\n%whos\\n\\nlocals()', '_i78': 'a = 10\\nprint(globals())', '_i79': \"# 함수는 전역과는 별개의 네임스페이스를 갖는다.\\na = 200\\ndef func():\\n    a = 300\\n    b = 'python'\\n    \\nfunc()\", 'func': <function func at 0x000001DC0AAB14E0>, '_i80': \"# 함수는 전역과는 별개의 네임스페이스를 갖는다.\\na = 200\\ndef func():\\n    a = 300\\n    b = 'python'\\n    \\nfunc()\\nprint(globals())\\nprint('-'*60)\\nprint(locals())\"}\n",
      "------------------------------------------------------------\n",
      "{'__name__': '__main__', '__builtin__': <module 'builtins' (built-in)>, '__builtins__': <module 'builtins' (built-in)>, '_ih': ['', \"# 1. 홀수, 짝수를 구변하는 is_odd()함수를 작성\\n# 주어진 숫자가 홀수인지 짝수인지를 구별해서\\n# '짝수입니다' or '홀수입니다'를 출력하세요\\n# 1) 일반함수 is_odd(number)\\ndef is_odd(n):\\n    if n%2 == 0:\\n        print('짝수입니다!')\\n    else:\\n        print('홀수입니다!')\\n        \\nis_odd(1)\\n# 2) lambda함수\", \"# 1. 홀수, 짝수를 구변하는 is_odd()함수를 작성\\n# 주어진 숫자가 홀수인지 짝수인지를 구별해서\\n# '짝수입니다' or '홀수입니다'를 출력하세요\\n# 1) 일반함수 is_odd(number)\\ndef is_odd(n):\\n    if n%2 == 0:\\n        print('짝수입니다!')\\n    else:\\n        print('홀수입니다!')\\n        \\nis_odd(2)\\n\\n# 2) lambda함수\", \"# 1. 홀수, 짝수를 구변하는 is_odd()함수를 작성\\n# 주어진 숫자가 홀수인지 짝수인지를 구별해서\\n# '짝수입니다' or '홀수입니다'를 출력하세요\\n# 1) 일반함수 is_odd(number)\\ndef is_odd(n):\\n    if n%2 == 0:\\n        print('짝수입니다!')\\n    else:\\n        print('홀수입니다!')\\n        \\nis_odd(2)\\n\\n# 2) lambda함수\\nis_odd_lambda = lambda n: print('짝수입니다!') if n%2==0 else print('홀수입니다!')\\nis_odd_lambda(1)\", \"# 1. 홀수, 짝수를 구변하는 is_odd()함수를 작성\\n# 주어진 숫자가 홀수인지 짝수인지를 구별해서\\n# '짝수입니다' or '홀수입니다'를 출력하세요\\n# 1) 일반함수 is_odd(number)\\ndef is_odd(n):\\n    if n%2 == 0:\\n        print('짝수입니다!')\\n    else:\\n        print('홀수입니다!')\\n        \\nis_odd(2)\\n\\n# 2) lambda함수\\nis_odd_lambda = lambda n: print('짝수입니다!') if n%2==0 else print('홀수입니다!')\\nis_odd_lambda(1)\\nis_odd_lambda(2)\", \"# 1. 홀수, 짝수를 구변하는 is_odd()함수를 작성\\n# 주어진 숫자가 홀수인지 짝수인지를 구별해서\\n# '짝수입니다' or '홀수입니다'를 출력하세요\\n# 1) 일반함수 is_odd(number)\\ndef is_odd(n):\\n    if n%2 == 0:\\n        print('짝수입니다!')\\n    else:\\n        print('홀수입니다!')\\n        \\nis_odd(2)\\nis_odd(1)\\nprint()\\n\\n# 2) lambda함수\\nis_odd_lambda = lambda n: print('짝수입니다!') if n%2==0 else print('홀수입니다!')\\nis_odd_lambda(1)\\nis_odd_lambda(2)\", \"# 1. 홀수, 짝수를 구변하는 is_odd()함수를 작성\\n# 주어진 숫자가 홀수인지 짝수인지를 구별해서\\n# '짝수입니다' or '홀수입니다'를 출력하세요\\n# 1) 일반함수 is_odd(number)\\ndef is_odd(n):\\n    if n%2 == 0:\\n        print('짝수입니다!')\\n    else:\\n        print('홀수입니다!')\\n        \\nis_odd(2)\\nis_odd(1)\\nprint()\\n\\n# 2) lambda함수\\nis_odd_lambda1 = lambda n: print('짝수입니다!') if n%2==0 else print('홀수입니다!')\\nis_odd_lambda1(1)\\nis_odd_lambda1(2)\\n\\nis_odd_lambda2 = lambda n: '짝수입니다!' if n%2==0 else '홀수입니다!'\\nis_odd_lambda2(1)\\nis_odd_lambda2(2)\", \"# 1. 홀수, 짝수를 구변하는 is_odd()함수를 작성\\n# 주어진 숫자가 홀수인지 짝수인지를 구별해서\\n# '짝수입니다' or '홀수입니다'를 출력하세요\\n# 1) 일반함수 is_odd(number)\\ndef is_odd(n):\\n    if n%2 == 0:\\n        print('짝수입니다!')\\n    else:\\n        print('홀수입니다!')\\n        \\nis_odd(2)\\nis_odd(1)\\nprint()\\n\\n# 2) lambda함수\\nis_odd_lambda1 = lambda n: print('짝수입니다!') if n%2==0 else print('홀수입니다!')\\nis_odd_lambda1(1)\\nis_odd_lambda1(2)\\n\\nis_odd_lambda2 = lambda n: '짝수입니다!' if n%2==0 else '홀수입니다!'\\nprint(is_odd_lambda2(1))\\nprint(is_odd_lambda2(2))\", \"# 1. 홀수, 짝수를 구변하는 is_odd()함수를 작성\\n# 주어진 숫자가 홀수인지 짝수인지를 구별해서\\n# '짝수입니다' or '홀수입니다'를 출력하세요\\n# 1) 일반함수 is_odd(number)\\ndef is_odd(n):\\n    if n%2 == 0:\\n        print('짝수입니다!')\\n    else:\\n        print('홀수입니다!')\\n        \\nis_odd(2)\\nis_odd(1)\\nprint()\\n\\n# 2) lambda함수\\nis_odd_lambda1 = lambda n: print('짝수입니다!') if n%2==0 else print('홀수입니다!')\\nis_odd_lambda1(1)\\nis_odd_lambda1(2)\\nprint()\\n\\nis_odd_lambda2 = lambda n: '짝수입니다!' if n%2==0 else '홀수입니다!'\\nprint(is_odd_lambda2(1))\\nprint(is_odd_lambda2(2))\", \"# 1. 홀수, 짝수를 구변하는 is_odd()함수를 작성\\n# 주어진 숫자가 홀수인지 짝수인지를 구별해서\\n# '짝수입니다' or '홀수입니다'를 출력하세요\\n# 1) 일반함수 is_odd(number)\\ndef is_odd(n):\\n    if n%2 == 0:\\n        print('짝수입니다!')\\n    else:\\n        print('홀수입니다!')\\n        \\nis_odd(2)\\nis_odd(1)\\nprint()\\n\\n# 2) lambda함수 - return이 없는 경우\\nis_odd_lambda1 = lambda n: print('짝수입니다!') if n%2==0 else print('홀수입니다!')\\nis_odd_lambda1(1)\\nis_odd_lambda1(2)\\nprint()\\n\\n# 3) lambda함수 - return이 생략된 경우\\nis_odd_lambda2 = lambda n: '짝수입니다!' if n%2==0 else '홀수입니다!'\\nprint(is_odd_lambda2(1))\\nprint(is_odd_lambda2(2))\\n\\nresult = is_odd_lambda2(1)\\nprint(result)\", \"# 1. 홀수, 짝수를 구변하는 is_odd()함수를 작성\\n# 주어진 숫자가 홀수인지 짝수인지를 구별해서\\n# '짝수입니다' or '홀수입니다'를 출력하세요\\n# 1) 일반함수 is_odd(number)\\ndef is_odd(n):\\n    if n%2 == 0:\\n        print('짝수입니다!')\\n    else:\\n        print('홀수입니다!')\\n        \\nis_odd(2)\\nis_odd(1)\\nprint()\\n\\n# 2) lambda함수 - return이 없는 경우\\nis_odd_lambda1 = lambda n: print('짝수입니다!') if n%2==0 else print('홀수입니다!')\\nis_odd_lambda1(1)\\nis_odd_lambda1(2)\\nprint()\\n\\n# 3) lambda함수 - return이 생략된 경우\\nis_odd_lambda2 = lambda xxx: '짝수입니다!' if xxx%2==0 else '홀수입니다!'\\nprint(is_odd_lambda2(1))\\nprint(is_odd_lambda2(2))\\nprint()\\n\\nresult = is_odd_lambda2(1)\\nprint(result)\", '# 2. 입력된 모든 수의 평균을 계산하는 funcAvg()함수를 작성\\n# 단, 입력매개변수의 갯수는 정해져 있지 않다.\\n# funcAvg()\\ndef funcAvg():\\n    pass\\n\\nfuncAvg()', '# 2. 입력된 모든 수의 평균을 계산하는 funcAvg()함수를 작성\\n# 단, 입력매개변수의 갯수는 정해져 있지 않다.\\n# funcAvg()\\ndef funcAvg(*numbers):\\n    result = 0\\n    for num in numbers:\\n        result += num\\n    return(result / len(numbers))\\n\\nprint(funcAvg(1,2,3,4,5))', '# 2. 입력된 모든 수의 평균을 계산하는 funcAvg()함수를 작성\\n# 단, 입력매개변수의 갯수는 정해져 있지 않다.\\n# funcAvg()\\ndef funcAvg(*numbers):\\n    result = 0\\n    for num in numbers:\\n        result += num\\n    return(result / len(numbers))\\n\\nprint(funcAvg(1,2,3,4,5))\\nprint(funcAvg(1,2,3,4,5,6,7,8,9,10))', '# 2. 입력된 모든 수의 평균을 계산하는 funcAvg()함수를 작성\\n# 단, 입력매개변수의 갯수는 정해져 있지 않다.\\n# funcAvg()\\ndef funcAvg(*numbers):\\n    result = 0\\n    for num in numbers:\\n        result += num\\n    return(result / len(numbers))\\n\\nprint(funcAvg(1,2,3,4,5))\\nprint(funcAvg(1,2,3,4,5,6,7,8,9,10))\\nprint()\\n\\n# 멀티매개값을 list, tuple로 한 개의 값으로 전달하는 법\\nprint(funcAvg([1,2,3,4,5]))', '# 2. 입력된 모든 수의 평균을 계산하는 funcAvg()함수를 작성\\n# 단, 입력매개변수의 갯수는 정해져 있지 않다.\\n# funcAvg()\\ndef funcAvg(*numbers):\\n    result = 0\\n    for num in numbers:\\n        result += num\\n    return(result / len(numbers))\\n\\nprint(funcAvg(1,2,3,4,5))\\nprint(funcAvg(1,2,3,4,5,6,7,8,9,10))\\nprint()\\n\\n# 멀티매개값을 list, tuple로 한 개의 값으로 전달하는 법\\nprint(funcAvg((1,2,3,4,5))', '# 2. 입력된 모든 수의 평균을 계산하는 funcAvg()함수를 작성\\n# 단, 입력매개변수의 갯수는 정해져 있지 않다.\\n# funcAvg()\\ndef funcAvg(*numbers):\\n    result = 0\\n    for num in numbers:\\n        result += num\\n    return(result / len(numbers))\\n\\nprint(funcAvg(1,2,3,4,5))\\nprint(funcAvg(1,2,3,4,5,6,7,8,9,10))\\nprint()\\n\\n# 멀티매개값을 list, tuple로 한 개의 값으로 전달하는 법\\nprint(funcAvg((1,2,3,4,5)))', '# 2. 입력된 모든 수의 평균을 계산하는 funcAvg()함수를 작성\\n# 단, 입력매개변수의 갯수는 정해져 있지 않다.\\n# funcAvg()\\ndef funcAvg(*numbers):\\n    result = 0\\n    for num in numbers:\\n        result += num\\n    return(result / len(numbers))\\n\\nprint(funcAvg(1,2,3,4,5))\\nprint(funcAvg(1,2,3,4,5,6,7,8,9,10))\\nprint()\\n\\n# 멀티매개값을 list, tuple로 한 개의 값으로 전달하는 법\\nprint(funcAvg(*(1,2,3,4,5)))', '# 2. 입력된 모든 수의 평균을 계산하는 funcAvg()함수를 작성\\n# 단, 입력매개변수의 갯수는 정해져 있지 않다.\\n# funcAvg()\\ndef funcAvg(*numbers):\\n    result = 0\\n    for num in numbers:\\n        result += num\\n    return(result / len(numbers))\\n\\nprint(funcAvg(1,2,3,4,5))\\nprint(funcAvg(1,2,3,4,5,6,7,8,9,10))\\nprint()\\n\\n# 멀티매개값을 list, tuple로 한 개의 값으로 전달하는 법\\nprint(funcAvg(*(1,2,3,4,5)))\\nprint(funcAvg([1,2,3,4,5,6,7,8,9,10]))', '# 2. 입력된 모든 수의 평균을 계산하는 funcAvg()함수를 작성\\n# 단, 입력매개변수의 갯수는 정해져 있지 않다.\\n# funcAvg()\\ndef funcAvg(*numbers):\\n    result = 0\\n    for num in numbers:\\n        result += num\\n    return(result / len(numbers))\\n\\nprint(funcAvg(1,2,3,4,5))\\nprint(funcAvg(1,2,3,4,5,6,7,8,9,10))\\nprint()\\n\\n# 멀티매개값을 list, tuple로 한 개의 값으로 전달하는 법\\nprint(funcAvg(*(1,2,3,4,5)))\\nprint(funcAvg(*[1,2,3,4,5,6,7,8,9,10]))', \"# 3. 구구단을 출력하는 함수 gugudan()함수를 작성\\n# 입력값은 2~9단까지 한개의 임의의 단을 입력\\n# gugudan(9)\\ndef gugudan(dan):\\n    for i in range(2, 10):\\n        print(f'{dan} x {i} = {dan*i:2d}')\\n        \\ngugudan(9)\", \"# 3. 구구단을 출력하는 함수 gugudan()함수를 작성\\n# 입력값은 2~9단까지 한개의 임의의 단을 입력\\n# gugudan(9)\\ndef gugudan(dan):\\n    for i in range(2, 10):\\n        print(f'{dan} x {i} = {dan*i:2d}')\\n        \\ngugudan(9)\\nprint()\\n\\ngugudan(2)\", \"# 3. 구구단을 출력하는 함수 gugudan()함수를 작성\\n# 입력값은 2~9단까지 한개의 임의의 단을 입력\\n# gugudan(9)\\ndef gugudan(dan):\\n    for i in range(2, 10):\\n        print(f'{dan} x {i} = {dan*i:2d}')\\n        \\ngugudan(9)\\nprint()\\n\\ngugudan(2)\\nprint()\\n\\ngugudan(int(input('단을 입력하세요 => ')))\", \"# 3. 구구단을 출력하는 함수 gugudan()함수를 작성\\n# 입력값은 2~9단까지 한개의 임의의 단을 입력\\n# gugudan(9)\\ndef gugudan(dan):\\n    for i in range(2, 10):\\n        print(f'{dan} x {i} = {dan*i:2d}')\\n        \\ngugudan(9)\\nprint()\\n\\ngugudan(2)\\nprint()\\n\\ngugudan(int(input('단을 입력하세요 => ')))\", '# 4. 리스트 [2,3,4,5,6,7,8]에서 5보다 큰 수만 리턴하는 \\n# 1) funcReturn()함수작성\\ndef funcReturn(numbers):\\n    l = []\\n    for num in numbers:\\n        if num > 5:\\n            l.append(num)\\n    return l\\n\\nprint(funcAvg([2,3,4,5,6,7,8]))\\n\\n# 2) lambda식으로 작성, 이름은 funcReturnLambda', '# 4. 리스트 [2,3,4,5,6,7,8]에서 5보다 큰 수만 리턴하는 \\n# 1) funcReturn()함수작성\\ndef funcReturn(numbers):\\n    l = []\\n    for num in numbers:\\n        if num > 5:\\n            l.append(num)\\n    return l\\n\\nprint(funcReturn([2,3,4,5,6,7,8]))\\n\\n# 2) lambda식으로 작성, 이름은 funcReturnLambda', '# 4. 리스트 [2,3,4,5,6,7,8]에서 5보다 큰 수만 리턴하는 \\n# 1) funcReturn()함수작성\\ndef funcReturn(numbers):\\n    l = []\\n    for num in numbers:\\n        if num > 5:\\n            l.append(num)\\n    return l\\n\\nprint(funcReturn([2,3,4,5,6,7,8]))\\n\\n# 2) lambda식으로 작성, 이름은 funcReturnLambda\\nfuncReturnLambda = lambda numbers: [num for num in numbers if number > 5]\\nprint(funcReturnLambda([2,3,4,5,6,7,8]))', '# 4. 리스트 [2,3,4,5,6,7,8]에서 5보다 큰 수만 리턴하는 \\n# 1) funcReturn()함수작성\\ndef funcReturn(numbers):\\n    l = []\\n    for num in numbers:\\n        if num > 5:\\n            l.append(num)\\n    return l\\n\\nprint(funcReturn([2,3,4,5,6,7,8]))\\n\\n# 2) lambda식으로 작성, 이름은 funcReturnLambda\\nfuncReturnLambda = lambda numbers: [num for num in numbers if num > 5]\\nprint(funcReturnLambda([2,3,4,5,6,7,8]))', \"# 1. 변수의 사용범위\\n# 1) 전역변수(global variable)\\ndef closer():\\n    print(f'함수안에서 사용할 수 있는 전역변수 x = {x}')\\n\\ncloser()\\n\\n# 2) 지역변수(local variable)\", \"# 1. 변수의 사용범위\\n# 1) 전역변수(global variable)\\n\\nx = 100\\ndef closer():\\n    print(f'함수안에서 사용할 수 있는 전역변수 x = {x}')\\n\\ncloser()\\n\\n# 2) 지역변수(local variable)\", \"# 1. 변수의 사용범위\\n# 1) 전역변수(global variable)\\n\\nx = 100\\ndef closer1():\\n    print(f'함수안에서 사용할 수 있는 전역변수 x = {x}')\\n\\ncloser1()\", \"# 2) 지역변수(local variable)\\ndef closer2():\\n    print(f'함수안에서 사용할 수 있는 전역변수 x = {x}')\\n\\ncloser2()\", \"# 1. 변수의 사용범위\\n# 1) 전역변수(global variable)\\n\\nx = 100\\ndef closer1():\\n    print(f'함수안에서 사용할 수 있는 전역변수 x = {x}')\\n\\ncloser1()\\ndel x\", \"get_ipython().run_line_magic('whos', '')\\n# 2) 지역변수(local variable)\\n\\ndef closer2():\\n    print(f'함수안에서 사용할 수 있는 전역변수 x = {x}')\\n\\ncloser2()\", \"get_ipython().run_line_magic('whos', '')\\n# 2) 지역변수(local variable)\\n\\ndef closer2():\\n    x = '문자열 100'\\n    print(f'함수안에서 사용할 수 있는 지역변수 x = {x}')\\n\\ncloser2()\", \"# 1. 변수의 사용범위\\n# 1) 전역변수(global variable)\\n\\nx = 100\\ndef closer1():\\n    print(f'함수안에서 사용할 수 있는 전역변수 x = {x}')\\n\\ncloser1()\\n# del x\", \"get_ipython().run_line_magic('whos', '')\", \"# 2) 지역변수(local variable)\\n\\ndef closer2():\\n#     x = '문자열 100'\\n    print(f'함수안에서 사용할 수 있는 지역변수 x = {x}')\\n\\ncloser2()\", \"# 2) 지역변수(local variable)\\n\\ndef closer2():\\n    x = '문자열 100'\\n    print(f'함수안에서 사용할 수 있는 지역변수 x = {x}')\\n\\ncloser2()\", \"get_ipython().run_line_magic('whos', '')\", \"# 2) 지역변수(local variable)\\n\\ndef closer2():\\n    y = '문자열 100'\\n    print(f'함수안에서 사용할 수 있는 지역변수 y = {y}')\\n\\ncloser2()\", \"get_ipython().run_line_magic('whos', '')\", \"# 2) 지역변수(local variable)\\n\\ndef closer2():\\n    y = '문자열 100'\\n    print(f'함수안에서 사용할 수 있는 지역변수 y = {y}')\\n\\ncloser2()\\n\\nprint(y)\", \"# 2) 지역변수(local variable)\\n\\ndef closer2():\\n    y = '문자열 100'\\n    print(f'함수안에서 사용할 수 있는 지역변수 y = {y}')\\n\\ncloser2()\\n\\n# 지역변수 y은 외부에서 접근불가능\\nprint(y) # NameError: name 'y' is not defined\", \"# 2. 함수안에서 전역변수 사용(변경)하기\\nget_ipython().run_line_magic('whos', '')\", \"# 2. 함수안에서 전역변수 사용(변경)하기\\nget_ipython().run_line_magic('reset', '')\", \"# 2. 함수안에서 전역변수 사용(변경)하기\\nget_ipython().run_line_magic('reset', '-f')\", \"get_ipython().run_line_magic('whos', '')\", \"# 2. 함수안에서 전역변수 사용(변경)하기\\nget_ipython().run_line_magic('reset', '-f')\\n\\nx = 100\\nprint(f'전역변수 x의 메모리주소 = {id(x)}')\\ndef closer1():\\n    x = 200\\n    print(f'지역변수 x의 메모리주소 = {id(x)}')\\n    \\ncloser1()\", \"# 2. 함수안에서 전역변수 사용(변경)하기\\nget_ipython().run_line_magic('reset', '-f')\\n\\nx = 100\\nprint(f'전역변수 x의 메모리주소 = {id(x)}')\\ndef closer1():\\n    x = 200\\n    print(f'지역변수 x의 메모리주소 = {id(x)}')\\n    \\ncloser1()\\nget_ipython().run_line_magic('whos', '')\", \"# 1) 전역변수를 정의하는 방법(1)\\ny = 100\\nprint(f'전역변수 y의 메모리주소 = {id(y)}')\\ndef closer2():\\n    y = 200\\n    print(f'지역변수 y의 메모리주소 = {id(y)}')\\n    \\ncloser2()  \", \"# 1) 전역변수를 정의하는 방법(1)\\ny = 100\\nprint(f'전역변수 y의 메모리주소 = {id(y)}')\\ndef closer2():\\n    global y # y는 지역변수가 아니라 전역변수로 선언\\n    y = 200\\n    print(f'지역변수 y의 메모리주소 = {id(y)}')\\n    \\ncloser2()  \", \"# 2. 함수안에서 전역변수 사용(변경)하기\\nget_ipython().run_line_magic('reset', '-f')\\n\\nx = 100\\nprint(f'전역변수 x의 메모리주소 = {id(x)}')\\ndef closer1():\\n    x = 200\\n    print(f'지역변수 x의 메모리주소 = {id(x)}')\\n    \\ncloser1()\\nget_ipython().run_line_magic('whos', '')\", \"# 1) 전역변수를 정의하는 방법(1)\\ny = 100\\nprint(f'전역변수 y의 메모리주소 = {id(y)}')\\ndef closer2():\\n    global y # y는 지역변수가 아니라 전역변수로 선언\\n    y = 200\\n    print(f'지역변수 y의 메모리주소 = {id(y)}, y의 값 = {y}')\\n    \\ncloser2() \\nprint(y)\", \"# 1) 전역변수를 정의하는 방법(1)\\ny = 100\\nprint(f'전역변수 y의 메모리주소 = {id(y)}')\\ndef closer2():\\n    global y # y는 지역변수가 아니라 전역변수로 선언\\n    y = 200\\n    print(f'지역변수 y의 메모리주소 = {id(y)}, \\\\ny의 값 = {y}')\\n    \\ncloser2() \\nprint(f'y의 값 = {y}')\", \"# 1) 전역변수를 정의하는 방법(1)\\ny = 100\\nprint(f'전역변수 y의 메모리주소 = {id(y)}')\\ndef closer2():\\n    global y # y는 지역변수가 아니라 전역변수로 선언\\n    y = 200\\n    print(f'전역변수 y의 메모리주소 = {id(y)}, \\\\n지역에서의 y의 값 = {y}')\\n    \\ncloser2() \\nprint(f'전역에서의 y의 값 = {y}')\", \"# 1) 전역변수를 정의하는 방법(1)\\ny = 100\\nprint(f'전역변수 y의 메모리주소 = {id(y)}')\\nprint()\\n\\ndef closer2():\\n    global y # y는 지역변수가 아니라 전역변수로 선언\\n    y = 200\\n    print(f'전역변수 y의 메모리주소 = {id(y)}, \\\\n지역에서의 y의 값 = {y}')\\n    \\ncloser2() \\nprint(f'전역에서의 y의 값 = {y}')\", \"# 1) 전역변수를 정의하는 방법(1)\\ny = 100\\nprint(f'전역변수 y의 메모리주소 = {id(y)}')\\ndef closer2():\\n    global y # y는 지역변수가 아니라 전역변수로 선언\\n    y = 200\\n    print(f'전역변수 y의 메모리주소 = {id(y)}, \\\\n\\\\n지역에서의 y의 값 = {y}')\\n    \\ncloser2() \\nprint(f'전역에서의 y의 값 = {y}')\", \"# 1) 전역변수를 정의하는 방법(1)\\ny = 100\\nprint(f'전역변수 y의 메모리주소 = {id(y)}')\\ndef closer2():\\n    global y # y는 지역변수가 아니라 전역변수로 선언\\n    y = 200\\n    print(f'전역변수 y의 메모리주소 = {id(y)}, \\\\n\\\\n지역에서 전역변수로 선언된 y의 값 = {y}')\\n    \\ncloser2() \\nprint(f'전역에서의 y의 값 = {y}')\", \"# 1) 전역변수를 정의하는 방법(1)\\ny = 100\\nprint(f'전역변수 y의 메모리주소 = {id(y)}')\\ndef closer2():\\n    # global y # y는 지역변수가 아니라 전역변수로 선언\\n    y = 200\\n    print(f'전역변수 y의 메모리주소 = {id(y)}, \\\\n\\\\n지역에서 전역변수로 선언된 y의 값 = {y}')\\n    \\ncloser2() \\nprint(f'전역에서의 y의 값 = {y}')\", \"# 1) 전역변수를 정의하는 방법(1)\\ny = 100\\nprint(f'전역변수 y의 메모리주소 = {id(y)}')\\ndef closer2():\\n    global y # y는 지역변수가 아니라 전역변수로 선언\\n    y = 200\\n    print(f'전역변수 y의 메모리주소 = {id(y)}, \\\\n\\\\n지역에서 전역변수로 선언된 y의 값 = {y}')\\n    \\ncloser2() \\nprint(f'전역에서의 y의 값 = {y}')\", \"# 2) 전역변수를 정의하는 방법(2)\\ndef closer3():\\n    z = 300\\n    print(f'지역변수 z의 메모리주소 = {id(z)}')\\n\\ncloser3()    \", \"# 2) 전역변수를 정의하는 방법(2)\\ndef closer3():\\n    z = 300\\n    print(f'지역변수 z의 메모리주소 = {id(z)}')\\n    print(f'지역변수 z의 값 = {z}')\\n\\ncloser3()    \", \"# 2) 전역변수를 정의하는 방법(2)\\ndef closer3():\\n    z = 300\\n    print(f'지역에서선언된 z의 메모리주소 = {id(z)}')\\n    print(f'지역에서선언된 z의 값 = {z}')\\n\\ncloser3() \\n\\nprint(f'지역에서선언된 z의 값 = {z}')\", \"# 2) 전역변수를 정의하는 방법(2)\\ndef closer3():\\n    global\\n    z = 300\\n    print(f'지역에서선언된 z의 메모리주소 = {id(z)}')\\n    print(f'지역에서선언된 z의 값 = {z}')\\n\\ncloser3() \\n\\nprint(f'지역에서선언된 z의 값 = {z}')\", \"# 2) 전역변수를 정의하는 방법(2)\\ndef closer3():\\n    global z\\n    z = 300\\n    print(f'지역에서선언된 z의 메모리주소 = {id(z)}')\\n    print(f'지역에서선언된 z의 값 = {z}')\\n\\ncloser3() \\n\\nprint(f'지역에서선언된 z의 값 = {z}')\", \"# 2) 전역변수를 정의하는 방법(2)\\ndef closer3():\\n    global z = 300\\n    print(f'지역에서선언된 z의 메모리주소 = {id(z)}')\\n    print(f'지역에서선언된 z의 값 = {z}')\\n\\ncloser3() \\n\\nprint(f'지역에서선언된 z의 값 = {z}')\", \"# 2) 전역변수를 정의하는 방법(2)\\ndef closer3():\\n    global z\\n    z = 300\\n    print(f'지역에서선언된 z의 메모리주소 = {id(z)}')\\n    print(f'지역에서선언된 z의 값 = {z}')\\n\\ncloser3() \\n\\nprint(f'지역에서선언된 z의 값 = {z}')\", 'import copy', \"# 네임스페이스\\n# 파이썬에서는 변수들은 네임스페이스에 저장된다.\\n# 네임스페이스를 확인하려면 globals(), local()함수를 이용하면\\n# 현재의 Namespase를 딕셔너리형태로 출력한다.\\n# 또한, Jupyter Notebook의 매직명령어 %who, %whos, %whos_ls로도 확인 가능하다.\\nget_ipython().run_line_magic('who', '')\", \"# 네임스페이스\\n# 파이썬에서는 변수들은 네임스페이스에 저장된다.\\n# 네임스페이스를 확인하려면 globals(), local()함수를 이용하면\\n# 현재의 Namespase를 딕셔너리형태로 출력한다.\\n# 또한, Jupyter Notebook의 매직명령어 %who, %whos, %whos_ls로도 확인 가능하다.\\nget_ipython().run_line_magic('whos', '')\", \"# 네임스페이스\\n# 파이썬에서는 변수들은 네임스페이스에 저장된다.\\n# 네임스페이스를 확인하려면 globals(), local()함수를 이용하면\\n# 현재의 Namespase를 딕셔너리형태로 출력한다.\\n# 또한, Jupyter Notebook의 매직명령어 %who, %whos, %whos_ls로도 확인 가능하다.\\nget_ipython().run_line_magic('whos_ls', '')\", \"# 네임스페이스\\n# 파이썬에서는 변수들은 네임스페이스에 저장된다.\\n# 네임스페이스를 확인하려면 globals(), local()함수를 이용하면\\n# 현재의 Namespase를 딕셔너리형태로 출력한다.\\n# 또한, Jupyter Notebook의 매직명령어 %who, %whos, %whos_ls로도 확인 가능하다.\\nget_ipython().run_line_magic('who_ls', '')\", \"# 네임스페이스\\n# 파이썬에서는 변수들은 네임스페이스에 저장된다.\\n# 네임스페이스를 확인하려면 globals(), local()함수를 이용하면\\n# 현재의 Namespase를 딕셔너리형태로 출력한다.\\n# 또한, Jupyter Notebook의 매직명령어 %who, %whos, %whos_ls로도 확인 가능하다.\\nget_ipython().run_line_magic('whos', '')\", \"# 네임스페이스\\n# 파이썬에서는 변수들은 네임스페이스에 저장된다.\\n# 네임스페이스를 확인하려면 globals(), local()함수를 이용하면\\n# 현재의 Namespase를 딕셔너리형태로 출력한다.\\n# 또한, Jupyter Notebook의 매직명령어 %who, %whos, %whos_ls로도 확인 가능하다.\\nget_ipython().run_line_magic('whos', '')\\nget_ipython().run_line_magic('reset', '-f')\\n\\na = 3\\nget_ipython().run_line_magic('whos', '')\", \"# 네임스페이스\\n# 파이썬에서는 변수들은 네임스페이스에 저장된다.\\n# 네임스페이스를 확인하려면 globals(), local()함수를 이용하면\\n# 현재의 Namespase를 딕셔너리형태로 출력한다.\\n# 또한, Jupyter Notebook의 매직명령어 %who, %whos, %whos_ls로도 확인 가능하다.\\nget_ipython().run_line_magic('whos', '')\\nget_ipython().run_line_magic('reset', '-f')\\n\\na = 3\\nget_ipython().run_line_magic('whos', '')\", \"# 네임스페이스\\n# 파이썬에서는 변수들은 네임스페이스에 저장된다.\\n# 네임스페이스를 확인하려면 globals(), local()함수를 이용하면\\n# 현재의 Namespase를 딕셔너리형태로 출력한다.\\n# 또한, Jupyter Notebook의 매직명령어 %who, %whos, %whos_ls로도 확인 가능하다.\\nget_ipython().run_line_magic('reset', '-f')\\n\\na = 3\\nget_ipython().run_line_magic('whos', '')\", \"# 네임스페이스\\n# 파이썬에서는 변수들은 네임스페이스에 저장된다.\\n# 네임스페이스를 확인하려면 globals(), local()함수를 이용하면\\n# 현재의 Namespase를 딕셔너리형태로 출력한다.\\n# 또한, Jupyter Notebook의 매직명령어 %who, %whos, %whos_ls로도 확인 가능하다.\\nget_ipython().run_line_magic('reset', '-f')\\n\\na = 3\\nget_ipython().run_line_magic('whos', '')\\n\\nlocals()\", 'a = 10\\nprint(globals())', \"# 함수는 전역과는 별개의 네임스페이스를 갖는다.\\na = 200\\ndef func():\\n    a = 300\\n    b = 'python'\\n    \\nfunc()\", \"# 함수는 전역과는 별개의 네임스페이스를 갖는다.\\na = 200\\ndef func():\\n    a = 300\\n    b = 'python'\\n    \\nfunc()\\nprint(globals())\\nprint('-'*60)\\nprint(locals())\"], '_oh': {77: {...}}, '_dh': [WindowsPath('d:/lec/04.python')], 'In': ['', \"# 1. 홀수, 짝수를 구변하는 is_odd()함수를 작성\\n# 주어진 숫자가 홀수인지 짝수인지를 구별해서\\n# '짝수입니다' or '홀수입니다'를 출력하세요\\n# 1) 일반함수 is_odd(number)\\ndef is_odd(n):\\n    if n%2 == 0:\\n        print('짝수입니다!')\\n    else:\\n        print('홀수입니다!')\\n        \\nis_odd(1)\\n# 2) lambda함수\", \"# 1. 홀수, 짝수를 구변하는 is_odd()함수를 작성\\n# 주어진 숫자가 홀수인지 짝수인지를 구별해서\\n# '짝수입니다' or '홀수입니다'를 출력하세요\\n# 1) 일반함수 is_odd(number)\\ndef is_odd(n):\\n    if n%2 == 0:\\n        print('짝수입니다!')\\n    else:\\n        print('홀수입니다!')\\n        \\nis_odd(2)\\n\\n# 2) lambda함수\", \"# 1. 홀수, 짝수를 구변하는 is_odd()함수를 작성\\n# 주어진 숫자가 홀수인지 짝수인지를 구별해서\\n# '짝수입니다' or '홀수입니다'를 출력하세요\\n# 1) 일반함수 is_odd(number)\\ndef is_odd(n):\\n    if n%2 == 0:\\n        print('짝수입니다!')\\n    else:\\n        print('홀수입니다!')\\n        \\nis_odd(2)\\n\\n# 2) lambda함수\\nis_odd_lambda = lambda n: print('짝수입니다!') if n%2==0 else print('홀수입니다!')\\nis_odd_lambda(1)\", \"# 1. 홀수, 짝수를 구변하는 is_odd()함수를 작성\\n# 주어진 숫자가 홀수인지 짝수인지를 구별해서\\n# '짝수입니다' or '홀수입니다'를 출력하세요\\n# 1) 일반함수 is_odd(number)\\ndef is_odd(n):\\n    if n%2 == 0:\\n        print('짝수입니다!')\\n    else:\\n        print('홀수입니다!')\\n        \\nis_odd(2)\\n\\n# 2) lambda함수\\nis_odd_lambda = lambda n: print('짝수입니다!') if n%2==0 else print('홀수입니다!')\\nis_odd_lambda(1)\\nis_odd_lambda(2)\", \"# 1. 홀수, 짝수를 구변하는 is_odd()함수를 작성\\n# 주어진 숫자가 홀수인지 짝수인지를 구별해서\\n# '짝수입니다' or '홀수입니다'를 출력하세요\\n# 1) 일반함수 is_odd(number)\\ndef is_odd(n):\\n    if n%2 == 0:\\n        print('짝수입니다!')\\n    else:\\n        print('홀수입니다!')\\n        \\nis_odd(2)\\nis_odd(1)\\nprint()\\n\\n# 2) lambda함수\\nis_odd_lambda = lambda n: print('짝수입니다!') if n%2==0 else print('홀수입니다!')\\nis_odd_lambda(1)\\nis_odd_lambda(2)\", \"# 1. 홀수, 짝수를 구변하는 is_odd()함수를 작성\\n# 주어진 숫자가 홀수인지 짝수인지를 구별해서\\n# '짝수입니다' or '홀수입니다'를 출력하세요\\n# 1) 일반함수 is_odd(number)\\ndef is_odd(n):\\n    if n%2 == 0:\\n        print('짝수입니다!')\\n    else:\\n        print('홀수입니다!')\\n        \\nis_odd(2)\\nis_odd(1)\\nprint()\\n\\n# 2) lambda함수\\nis_odd_lambda1 = lambda n: print('짝수입니다!') if n%2==0 else print('홀수입니다!')\\nis_odd_lambda1(1)\\nis_odd_lambda1(2)\\n\\nis_odd_lambda2 = lambda n: '짝수입니다!' if n%2==0 else '홀수입니다!'\\nis_odd_lambda2(1)\\nis_odd_lambda2(2)\", \"# 1. 홀수, 짝수를 구변하는 is_odd()함수를 작성\\n# 주어진 숫자가 홀수인지 짝수인지를 구별해서\\n# '짝수입니다' or '홀수입니다'를 출력하세요\\n# 1) 일반함수 is_odd(number)\\ndef is_odd(n):\\n    if n%2 == 0:\\n        print('짝수입니다!')\\n    else:\\n        print('홀수입니다!')\\n        \\nis_odd(2)\\nis_odd(1)\\nprint()\\n\\n# 2) lambda함수\\nis_odd_lambda1 = lambda n: print('짝수입니다!') if n%2==0 else print('홀수입니다!')\\nis_odd_lambda1(1)\\nis_odd_lambda1(2)\\n\\nis_odd_lambda2 = lambda n: '짝수입니다!' if n%2==0 else '홀수입니다!'\\nprint(is_odd_lambda2(1))\\nprint(is_odd_lambda2(2))\", \"# 1. 홀수, 짝수를 구변하는 is_odd()함수를 작성\\n# 주어진 숫자가 홀수인지 짝수인지를 구별해서\\n# '짝수입니다' or '홀수입니다'를 출력하세요\\n# 1) 일반함수 is_odd(number)\\ndef is_odd(n):\\n    if n%2 == 0:\\n        print('짝수입니다!')\\n    else:\\n        print('홀수입니다!')\\n        \\nis_odd(2)\\nis_odd(1)\\nprint()\\n\\n# 2) lambda함수\\nis_odd_lambda1 = lambda n: print('짝수입니다!') if n%2==0 else print('홀수입니다!')\\nis_odd_lambda1(1)\\nis_odd_lambda1(2)\\nprint()\\n\\nis_odd_lambda2 = lambda n: '짝수입니다!' if n%2==0 else '홀수입니다!'\\nprint(is_odd_lambda2(1))\\nprint(is_odd_lambda2(2))\", \"# 1. 홀수, 짝수를 구변하는 is_odd()함수를 작성\\n# 주어진 숫자가 홀수인지 짝수인지를 구별해서\\n# '짝수입니다' or '홀수입니다'를 출력하세요\\n# 1) 일반함수 is_odd(number)\\ndef is_odd(n):\\n    if n%2 == 0:\\n        print('짝수입니다!')\\n    else:\\n        print('홀수입니다!')\\n        \\nis_odd(2)\\nis_odd(1)\\nprint()\\n\\n# 2) lambda함수 - return이 없는 경우\\nis_odd_lambda1 = lambda n: print('짝수입니다!') if n%2==0 else print('홀수입니다!')\\nis_odd_lambda1(1)\\nis_odd_lambda1(2)\\nprint()\\n\\n# 3) lambda함수 - return이 생략된 경우\\nis_odd_lambda2 = lambda n: '짝수입니다!' if n%2==0 else '홀수입니다!'\\nprint(is_odd_lambda2(1))\\nprint(is_odd_lambda2(2))\\n\\nresult = is_odd_lambda2(1)\\nprint(result)\", \"# 1. 홀수, 짝수를 구변하는 is_odd()함수를 작성\\n# 주어진 숫자가 홀수인지 짝수인지를 구별해서\\n# '짝수입니다' or '홀수입니다'를 출력하세요\\n# 1) 일반함수 is_odd(number)\\ndef is_odd(n):\\n    if n%2 == 0:\\n        print('짝수입니다!')\\n    else:\\n        print('홀수입니다!')\\n        \\nis_odd(2)\\nis_odd(1)\\nprint()\\n\\n# 2) lambda함수 - return이 없는 경우\\nis_odd_lambda1 = lambda n: print('짝수입니다!') if n%2==0 else print('홀수입니다!')\\nis_odd_lambda1(1)\\nis_odd_lambda1(2)\\nprint()\\n\\n# 3) lambda함수 - return이 생략된 경우\\nis_odd_lambda2 = lambda xxx: '짝수입니다!' if xxx%2==0 else '홀수입니다!'\\nprint(is_odd_lambda2(1))\\nprint(is_odd_lambda2(2))\\nprint()\\n\\nresult = is_odd_lambda2(1)\\nprint(result)\", '# 2. 입력된 모든 수의 평균을 계산하는 funcAvg()함수를 작성\\n# 단, 입력매개변수의 갯수는 정해져 있지 않다.\\n# funcAvg()\\ndef funcAvg():\\n    pass\\n\\nfuncAvg()', '# 2. 입력된 모든 수의 평균을 계산하는 funcAvg()함수를 작성\\n# 단, 입력매개변수의 갯수는 정해져 있지 않다.\\n# funcAvg()\\ndef funcAvg(*numbers):\\n    result = 0\\n    for num in numbers:\\n        result += num\\n    return(result / len(numbers))\\n\\nprint(funcAvg(1,2,3,4,5))', '# 2. 입력된 모든 수의 평균을 계산하는 funcAvg()함수를 작성\\n# 단, 입력매개변수의 갯수는 정해져 있지 않다.\\n# funcAvg()\\ndef funcAvg(*numbers):\\n    result = 0\\n    for num in numbers:\\n        result += num\\n    return(result / len(numbers))\\n\\nprint(funcAvg(1,2,3,4,5))\\nprint(funcAvg(1,2,3,4,5,6,7,8,9,10))', '# 2. 입력된 모든 수의 평균을 계산하는 funcAvg()함수를 작성\\n# 단, 입력매개변수의 갯수는 정해져 있지 않다.\\n# funcAvg()\\ndef funcAvg(*numbers):\\n    result = 0\\n    for num in numbers:\\n        result += num\\n    return(result / len(numbers))\\n\\nprint(funcAvg(1,2,3,4,5))\\nprint(funcAvg(1,2,3,4,5,6,7,8,9,10))\\nprint()\\n\\n# 멀티매개값을 list, tuple로 한 개의 값으로 전달하는 법\\nprint(funcAvg([1,2,3,4,5]))', '# 2. 입력된 모든 수의 평균을 계산하는 funcAvg()함수를 작성\\n# 단, 입력매개변수의 갯수는 정해져 있지 않다.\\n# funcAvg()\\ndef funcAvg(*numbers):\\n    result = 0\\n    for num in numbers:\\n        result += num\\n    return(result / len(numbers))\\n\\nprint(funcAvg(1,2,3,4,5))\\nprint(funcAvg(1,2,3,4,5,6,7,8,9,10))\\nprint()\\n\\n# 멀티매개값을 list, tuple로 한 개의 값으로 전달하는 법\\nprint(funcAvg((1,2,3,4,5))', '# 2. 입력된 모든 수의 평균을 계산하는 funcAvg()함수를 작성\\n# 단, 입력매개변수의 갯수는 정해져 있지 않다.\\n# funcAvg()\\ndef funcAvg(*numbers):\\n    result = 0\\n    for num in numbers:\\n        result += num\\n    return(result / len(numbers))\\n\\nprint(funcAvg(1,2,3,4,5))\\nprint(funcAvg(1,2,3,4,5,6,7,8,9,10))\\nprint()\\n\\n# 멀티매개값을 list, tuple로 한 개의 값으로 전달하는 법\\nprint(funcAvg((1,2,3,4,5)))', '# 2. 입력된 모든 수의 평균을 계산하는 funcAvg()함수를 작성\\n# 단, 입력매개변수의 갯수는 정해져 있지 않다.\\n# funcAvg()\\ndef funcAvg(*numbers):\\n    result = 0\\n    for num in numbers:\\n        result += num\\n    return(result / len(numbers))\\n\\nprint(funcAvg(1,2,3,4,5))\\nprint(funcAvg(1,2,3,4,5,6,7,8,9,10))\\nprint()\\n\\n# 멀티매개값을 list, tuple로 한 개의 값으로 전달하는 법\\nprint(funcAvg(*(1,2,3,4,5)))', '# 2. 입력된 모든 수의 평균을 계산하는 funcAvg()함수를 작성\\n# 단, 입력매개변수의 갯수는 정해져 있지 않다.\\n# funcAvg()\\ndef funcAvg(*numbers):\\n    result = 0\\n    for num in numbers:\\n        result += num\\n    return(result / len(numbers))\\n\\nprint(funcAvg(1,2,3,4,5))\\nprint(funcAvg(1,2,3,4,5,6,7,8,9,10))\\nprint()\\n\\n# 멀티매개값을 list, tuple로 한 개의 값으로 전달하는 법\\nprint(funcAvg(*(1,2,3,4,5)))\\nprint(funcAvg([1,2,3,4,5,6,7,8,9,10]))', '# 2. 입력된 모든 수의 평균을 계산하는 funcAvg()함수를 작성\\n# 단, 입력매개변수의 갯수는 정해져 있지 않다.\\n# funcAvg()\\ndef funcAvg(*numbers):\\n    result = 0\\n    for num in numbers:\\n        result += num\\n    return(result / len(numbers))\\n\\nprint(funcAvg(1,2,3,4,5))\\nprint(funcAvg(1,2,3,4,5,6,7,8,9,10))\\nprint()\\n\\n# 멀티매개값을 list, tuple로 한 개의 값으로 전달하는 법\\nprint(funcAvg(*(1,2,3,4,5)))\\nprint(funcAvg(*[1,2,3,4,5,6,7,8,9,10]))', \"# 3. 구구단을 출력하는 함수 gugudan()함수를 작성\\n# 입력값은 2~9단까지 한개의 임의의 단을 입력\\n# gugudan(9)\\ndef gugudan(dan):\\n    for i in range(2, 10):\\n        print(f'{dan} x {i} = {dan*i:2d}')\\n        \\ngugudan(9)\", \"# 3. 구구단을 출력하는 함수 gugudan()함수를 작성\\n# 입력값은 2~9단까지 한개의 임의의 단을 입력\\n# gugudan(9)\\ndef gugudan(dan):\\n    for i in range(2, 10):\\n        print(f'{dan} x {i} = {dan*i:2d}')\\n        \\ngugudan(9)\\nprint()\\n\\ngugudan(2)\", \"# 3. 구구단을 출력하는 함수 gugudan()함수를 작성\\n# 입력값은 2~9단까지 한개의 임의의 단을 입력\\n# gugudan(9)\\ndef gugudan(dan):\\n    for i in range(2, 10):\\n        print(f'{dan} x {i} = {dan*i:2d}')\\n        \\ngugudan(9)\\nprint()\\n\\ngugudan(2)\\nprint()\\n\\ngugudan(int(input('단을 입력하세요 => ')))\", \"# 3. 구구단을 출력하는 함수 gugudan()함수를 작성\\n# 입력값은 2~9단까지 한개의 임의의 단을 입력\\n# gugudan(9)\\ndef gugudan(dan):\\n    for i in range(2, 10):\\n        print(f'{dan} x {i} = {dan*i:2d}')\\n        \\ngugudan(9)\\nprint()\\n\\ngugudan(2)\\nprint()\\n\\ngugudan(int(input('단을 입력하세요 => ')))\", '# 4. 리스트 [2,3,4,5,6,7,8]에서 5보다 큰 수만 리턴하는 \\n# 1) funcReturn()함수작성\\ndef funcReturn(numbers):\\n    l = []\\n    for num in numbers:\\n        if num > 5:\\n            l.append(num)\\n    return l\\n\\nprint(funcAvg([2,3,4,5,6,7,8]))\\n\\n# 2) lambda식으로 작성, 이름은 funcReturnLambda', '# 4. 리스트 [2,3,4,5,6,7,8]에서 5보다 큰 수만 리턴하는 \\n# 1) funcReturn()함수작성\\ndef funcReturn(numbers):\\n    l = []\\n    for num in numbers:\\n        if num > 5:\\n            l.append(num)\\n    return l\\n\\nprint(funcReturn([2,3,4,5,6,7,8]))\\n\\n# 2) lambda식으로 작성, 이름은 funcReturnLambda', '# 4. 리스트 [2,3,4,5,6,7,8]에서 5보다 큰 수만 리턴하는 \\n# 1) funcReturn()함수작성\\ndef funcReturn(numbers):\\n    l = []\\n    for num in numbers:\\n        if num > 5:\\n            l.append(num)\\n    return l\\n\\nprint(funcReturn([2,3,4,5,6,7,8]))\\n\\n# 2) lambda식으로 작성, 이름은 funcReturnLambda\\nfuncReturnLambda = lambda numbers: [num for num in numbers if number > 5]\\nprint(funcReturnLambda([2,3,4,5,6,7,8]))', '# 4. 리스트 [2,3,4,5,6,7,8]에서 5보다 큰 수만 리턴하는 \\n# 1) funcReturn()함수작성\\ndef funcReturn(numbers):\\n    l = []\\n    for num in numbers:\\n        if num > 5:\\n            l.append(num)\\n    return l\\n\\nprint(funcReturn([2,3,4,5,6,7,8]))\\n\\n# 2) lambda식으로 작성, 이름은 funcReturnLambda\\nfuncReturnLambda = lambda numbers: [num for num in numbers if num > 5]\\nprint(funcReturnLambda([2,3,4,5,6,7,8]))', \"# 1. 변수의 사용범위\\n# 1) 전역변수(global variable)\\ndef closer():\\n    print(f'함수안에서 사용할 수 있는 전역변수 x = {x}')\\n\\ncloser()\\n\\n# 2) 지역변수(local variable)\", \"# 1. 변수의 사용범위\\n# 1) 전역변수(global variable)\\n\\nx = 100\\ndef closer():\\n    print(f'함수안에서 사용할 수 있는 전역변수 x = {x}')\\n\\ncloser()\\n\\n# 2) 지역변수(local variable)\", \"# 1. 변수의 사용범위\\n# 1) 전역변수(global variable)\\n\\nx = 100\\ndef closer1():\\n    print(f'함수안에서 사용할 수 있는 전역변수 x = {x}')\\n\\ncloser1()\", \"# 2) 지역변수(local variable)\\ndef closer2():\\n    print(f'함수안에서 사용할 수 있는 전역변수 x = {x}')\\n\\ncloser2()\", \"# 1. 변수의 사용범위\\n# 1) 전역변수(global variable)\\n\\nx = 100\\ndef closer1():\\n    print(f'함수안에서 사용할 수 있는 전역변수 x = {x}')\\n\\ncloser1()\\ndel x\", \"get_ipython().run_line_magic('whos', '')\\n# 2) 지역변수(local variable)\\n\\ndef closer2():\\n    print(f'함수안에서 사용할 수 있는 전역변수 x = {x}')\\n\\ncloser2()\", \"get_ipython().run_line_magic('whos', '')\\n# 2) 지역변수(local variable)\\n\\ndef closer2():\\n    x = '문자열 100'\\n    print(f'함수안에서 사용할 수 있는 지역변수 x = {x}')\\n\\ncloser2()\", \"# 1. 변수의 사용범위\\n# 1) 전역변수(global variable)\\n\\nx = 100\\ndef closer1():\\n    print(f'함수안에서 사용할 수 있는 전역변수 x = {x}')\\n\\ncloser1()\\n# del x\", \"get_ipython().run_line_magic('whos', '')\", \"# 2) 지역변수(local variable)\\n\\ndef closer2():\\n#     x = '문자열 100'\\n    print(f'함수안에서 사용할 수 있는 지역변수 x = {x}')\\n\\ncloser2()\", \"# 2) 지역변수(local variable)\\n\\ndef closer2():\\n    x = '문자열 100'\\n    print(f'함수안에서 사용할 수 있는 지역변수 x = {x}')\\n\\ncloser2()\", \"get_ipython().run_line_magic('whos', '')\", \"# 2) 지역변수(local variable)\\n\\ndef closer2():\\n    y = '문자열 100'\\n    print(f'함수안에서 사용할 수 있는 지역변수 y = {y}')\\n\\ncloser2()\", \"get_ipython().run_line_magic('whos', '')\", \"# 2) 지역변수(local variable)\\n\\ndef closer2():\\n    y = '문자열 100'\\n    print(f'함수안에서 사용할 수 있는 지역변수 y = {y}')\\n\\ncloser2()\\n\\nprint(y)\", \"# 2) 지역변수(local variable)\\n\\ndef closer2():\\n    y = '문자열 100'\\n    print(f'함수안에서 사용할 수 있는 지역변수 y = {y}')\\n\\ncloser2()\\n\\n# 지역변수 y은 외부에서 접근불가능\\nprint(y) # NameError: name 'y' is not defined\", \"# 2. 함수안에서 전역변수 사용(변경)하기\\nget_ipython().run_line_magic('whos', '')\", \"# 2. 함수안에서 전역변수 사용(변경)하기\\nget_ipython().run_line_magic('reset', '')\", \"# 2. 함수안에서 전역변수 사용(변경)하기\\nget_ipython().run_line_magic('reset', '-f')\", \"get_ipython().run_line_magic('whos', '')\", \"# 2. 함수안에서 전역변수 사용(변경)하기\\nget_ipython().run_line_magic('reset', '-f')\\n\\nx = 100\\nprint(f'전역변수 x의 메모리주소 = {id(x)}')\\ndef closer1():\\n    x = 200\\n    print(f'지역변수 x의 메모리주소 = {id(x)}')\\n    \\ncloser1()\", \"# 2. 함수안에서 전역변수 사용(변경)하기\\nget_ipython().run_line_magic('reset', '-f')\\n\\nx = 100\\nprint(f'전역변수 x의 메모리주소 = {id(x)}')\\ndef closer1():\\n    x = 200\\n    print(f'지역변수 x의 메모리주소 = {id(x)}')\\n    \\ncloser1()\\nget_ipython().run_line_magic('whos', '')\", \"# 1) 전역변수를 정의하는 방법(1)\\ny = 100\\nprint(f'전역변수 y의 메모리주소 = {id(y)}')\\ndef closer2():\\n    y = 200\\n    print(f'지역변수 y의 메모리주소 = {id(y)}')\\n    \\ncloser2()  \", \"# 1) 전역변수를 정의하는 방법(1)\\ny = 100\\nprint(f'전역변수 y의 메모리주소 = {id(y)}')\\ndef closer2():\\n    global y # y는 지역변수가 아니라 전역변수로 선언\\n    y = 200\\n    print(f'지역변수 y의 메모리주소 = {id(y)}')\\n    \\ncloser2()  \", \"# 2. 함수안에서 전역변수 사용(변경)하기\\nget_ipython().run_line_magic('reset', '-f')\\n\\nx = 100\\nprint(f'전역변수 x의 메모리주소 = {id(x)}')\\ndef closer1():\\n    x = 200\\n    print(f'지역변수 x의 메모리주소 = {id(x)}')\\n    \\ncloser1()\\nget_ipython().run_line_magic('whos', '')\", \"# 1) 전역변수를 정의하는 방법(1)\\ny = 100\\nprint(f'전역변수 y의 메모리주소 = {id(y)}')\\ndef closer2():\\n    global y # y는 지역변수가 아니라 전역변수로 선언\\n    y = 200\\n    print(f'지역변수 y의 메모리주소 = {id(y)}, y의 값 = {y}')\\n    \\ncloser2() \\nprint(y)\", \"# 1) 전역변수를 정의하는 방법(1)\\ny = 100\\nprint(f'전역변수 y의 메모리주소 = {id(y)}')\\ndef closer2():\\n    global y # y는 지역변수가 아니라 전역변수로 선언\\n    y = 200\\n    print(f'지역변수 y의 메모리주소 = {id(y)}, \\\\ny의 값 = {y}')\\n    \\ncloser2() \\nprint(f'y의 값 = {y}')\", \"# 1) 전역변수를 정의하는 방법(1)\\ny = 100\\nprint(f'전역변수 y의 메모리주소 = {id(y)}')\\ndef closer2():\\n    global y # y는 지역변수가 아니라 전역변수로 선언\\n    y = 200\\n    print(f'전역변수 y의 메모리주소 = {id(y)}, \\\\n지역에서의 y의 값 = {y}')\\n    \\ncloser2() \\nprint(f'전역에서의 y의 값 = {y}')\", \"# 1) 전역변수를 정의하는 방법(1)\\ny = 100\\nprint(f'전역변수 y의 메모리주소 = {id(y)}')\\nprint()\\n\\ndef closer2():\\n    global y # y는 지역변수가 아니라 전역변수로 선언\\n    y = 200\\n    print(f'전역변수 y의 메모리주소 = {id(y)}, \\\\n지역에서의 y의 값 = {y}')\\n    \\ncloser2() \\nprint(f'전역에서의 y의 값 = {y}')\", \"# 1) 전역변수를 정의하는 방법(1)\\ny = 100\\nprint(f'전역변수 y의 메모리주소 = {id(y)}')\\ndef closer2():\\n    global y # y는 지역변수가 아니라 전역변수로 선언\\n    y = 200\\n    print(f'전역변수 y의 메모리주소 = {id(y)}, \\\\n\\\\n지역에서의 y의 값 = {y}')\\n    \\ncloser2() \\nprint(f'전역에서의 y의 값 = {y}')\", \"# 1) 전역변수를 정의하는 방법(1)\\ny = 100\\nprint(f'전역변수 y의 메모리주소 = {id(y)}')\\ndef closer2():\\n    global y # y는 지역변수가 아니라 전역변수로 선언\\n    y = 200\\n    print(f'전역변수 y의 메모리주소 = {id(y)}, \\\\n\\\\n지역에서 전역변수로 선언된 y의 값 = {y}')\\n    \\ncloser2() \\nprint(f'전역에서의 y의 값 = {y}')\", \"# 1) 전역변수를 정의하는 방법(1)\\ny = 100\\nprint(f'전역변수 y의 메모리주소 = {id(y)}')\\ndef closer2():\\n    # global y # y는 지역변수가 아니라 전역변수로 선언\\n    y = 200\\n    print(f'전역변수 y의 메모리주소 = {id(y)}, \\\\n\\\\n지역에서 전역변수로 선언된 y의 값 = {y}')\\n    \\ncloser2() \\nprint(f'전역에서의 y의 값 = {y}')\", \"# 1) 전역변수를 정의하는 방법(1)\\ny = 100\\nprint(f'전역변수 y의 메모리주소 = {id(y)}')\\ndef closer2():\\n    global y # y는 지역변수가 아니라 전역변수로 선언\\n    y = 200\\n    print(f'전역변수 y의 메모리주소 = {id(y)}, \\\\n\\\\n지역에서 전역변수로 선언된 y의 값 = {y}')\\n    \\ncloser2() \\nprint(f'전역에서의 y의 값 = {y}')\", \"# 2) 전역변수를 정의하는 방법(2)\\ndef closer3():\\n    z = 300\\n    print(f'지역변수 z의 메모리주소 = {id(z)}')\\n\\ncloser3()    \", \"# 2) 전역변수를 정의하는 방법(2)\\ndef closer3():\\n    z = 300\\n    print(f'지역변수 z의 메모리주소 = {id(z)}')\\n    print(f'지역변수 z의 값 = {z}')\\n\\ncloser3()    \", \"# 2) 전역변수를 정의하는 방법(2)\\ndef closer3():\\n    z = 300\\n    print(f'지역에서선언된 z의 메모리주소 = {id(z)}')\\n    print(f'지역에서선언된 z의 값 = {z}')\\n\\ncloser3() \\n\\nprint(f'지역에서선언된 z의 값 = {z}')\", \"# 2) 전역변수를 정의하는 방법(2)\\ndef closer3():\\n    global\\n    z = 300\\n    print(f'지역에서선언된 z의 메모리주소 = {id(z)}')\\n    print(f'지역에서선언된 z의 값 = {z}')\\n\\ncloser3() \\n\\nprint(f'지역에서선언된 z의 값 = {z}')\", \"# 2) 전역변수를 정의하는 방법(2)\\ndef closer3():\\n    global z\\n    z = 300\\n    print(f'지역에서선언된 z의 메모리주소 = {id(z)}')\\n    print(f'지역에서선언된 z의 값 = {z}')\\n\\ncloser3() \\n\\nprint(f'지역에서선언된 z의 값 = {z}')\", \"# 2) 전역변수를 정의하는 방법(2)\\ndef closer3():\\n    global z = 300\\n    print(f'지역에서선언된 z의 메모리주소 = {id(z)}')\\n    print(f'지역에서선언된 z의 값 = {z}')\\n\\ncloser3() \\n\\nprint(f'지역에서선언된 z의 값 = {z}')\", \"# 2) 전역변수를 정의하는 방법(2)\\ndef closer3():\\n    global z\\n    z = 300\\n    print(f'지역에서선언된 z의 메모리주소 = {id(z)}')\\n    print(f'지역에서선언된 z의 값 = {z}')\\n\\ncloser3() \\n\\nprint(f'지역에서선언된 z의 값 = {z}')\", 'import copy', \"# 네임스페이스\\n# 파이썬에서는 변수들은 네임스페이스에 저장된다.\\n# 네임스페이스를 확인하려면 globals(), local()함수를 이용하면\\n# 현재의 Namespase를 딕셔너리형태로 출력한다.\\n# 또한, Jupyter Notebook의 매직명령어 %who, %whos, %whos_ls로도 확인 가능하다.\\nget_ipython().run_line_magic('who', '')\", \"# 네임스페이스\\n# 파이썬에서는 변수들은 네임스페이스에 저장된다.\\n# 네임스페이스를 확인하려면 globals(), local()함수를 이용하면\\n# 현재의 Namespase를 딕셔너리형태로 출력한다.\\n# 또한, Jupyter Notebook의 매직명령어 %who, %whos, %whos_ls로도 확인 가능하다.\\nget_ipython().run_line_magic('whos', '')\", \"# 네임스페이스\\n# 파이썬에서는 변수들은 네임스페이스에 저장된다.\\n# 네임스페이스를 확인하려면 globals(), local()함수를 이용하면\\n# 현재의 Namespase를 딕셔너리형태로 출력한다.\\n# 또한, Jupyter Notebook의 매직명령어 %who, %whos, %whos_ls로도 확인 가능하다.\\nget_ipython().run_line_magic('whos_ls', '')\", \"# 네임스페이스\\n# 파이썬에서는 변수들은 네임스페이스에 저장된다.\\n# 네임스페이스를 확인하려면 globals(), local()함수를 이용하면\\n# 현재의 Namespase를 딕셔너리형태로 출력한다.\\n# 또한, Jupyter Notebook의 매직명령어 %who, %whos, %whos_ls로도 확인 가능하다.\\nget_ipython().run_line_magic('who_ls', '')\", \"# 네임스페이스\\n# 파이썬에서는 변수들은 네임스페이스에 저장된다.\\n# 네임스페이스를 확인하려면 globals(), local()함수를 이용하면\\n# 현재의 Namespase를 딕셔너리형태로 출력한다.\\n# 또한, Jupyter Notebook의 매직명령어 %who, %whos, %whos_ls로도 확인 가능하다.\\nget_ipython().run_line_magic('whos', '')\", \"# 네임스페이스\\n# 파이썬에서는 변수들은 네임스페이스에 저장된다.\\n# 네임스페이스를 확인하려면 globals(), local()함수를 이용하면\\n# 현재의 Namespase를 딕셔너리형태로 출력한다.\\n# 또한, Jupyter Notebook의 매직명령어 %who, %whos, %whos_ls로도 확인 가능하다.\\nget_ipython().run_line_magic('whos', '')\\nget_ipython().run_line_magic('reset', '-f')\\n\\na = 3\\nget_ipython().run_line_magic('whos', '')\", \"# 네임스페이스\\n# 파이썬에서는 변수들은 네임스페이스에 저장된다.\\n# 네임스페이스를 확인하려면 globals(), local()함수를 이용하면\\n# 현재의 Namespase를 딕셔너리형태로 출력한다.\\n# 또한, Jupyter Notebook의 매직명령어 %who, %whos, %whos_ls로도 확인 가능하다.\\nget_ipython().run_line_magic('whos', '')\\nget_ipython().run_line_magic('reset', '-f')\\n\\na = 3\\nget_ipython().run_line_magic('whos', '')\", \"# 네임스페이스\\n# 파이썬에서는 변수들은 네임스페이스에 저장된다.\\n# 네임스페이스를 확인하려면 globals(), local()함수를 이용하면\\n# 현재의 Namespase를 딕셔너리형태로 출력한다.\\n# 또한, Jupyter Notebook의 매직명령어 %who, %whos, %whos_ls로도 확인 가능하다.\\nget_ipython().run_line_magic('reset', '-f')\\n\\na = 3\\nget_ipython().run_line_magic('whos', '')\", \"# 네임스페이스\\n# 파이썬에서는 변수들은 네임스페이스에 저장된다.\\n# 네임스페이스를 확인하려면 globals(), local()함수를 이용하면\\n# 현재의 Namespase를 딕셔너리형태로 출력한다.\\n# 또한, Jupyter Notebook의 매직명령어 %who, %whos, %whos_ls로도 확인 가능하다.\\nget_ipython().run_line_magic('reset', '-f')\\n\\na = 3\\nget_ipython().run_line_magic('whos', '')\\n\\nlocals()\", 'a = 10\\nprint(globals())', \"# 함수는 전역과는 별개의 네임스페이스를 갖는다.\\na = 200\\ndef func():\\n    a = 300\\n    b = 'python'\\n    \\nfunc()\", \"# 함수는 전역과는 별개의 네임스페이스를 갖는다.\\na = 200\\ndef func():\\n    a = 300\\n    b = 'python'\\n    \\nfunc()\\nprint(globals())\\nprint('-'*60)\\nprint(locals())\"], 'Out': {77: {...}}, 'get_ipython': <bound method InteractiveShell.get_ipython of <ipykernel.zmqshell.ZMQInteractiveShell object at 0x000001DC0A0FCA50>>, 'exit': <IPython.core.autocall.ZMQExitAutocall object at 0x000001DC0A117BD0>, 'quit': <IPython.core.autocall.ZMQExitAutocall object at 0x000001DC0A117BD0>, 'open': <function open at 0x000001DC080A9620>, 'a': 200, '_': {...}, '__': '', '___': '', '_77': {...}, '_i': \"# 함수는 전역과는 별개의 네임스페이스를 갖는다.\\na = 200\\ndef func():\\n    a = 300\\n    b = 'python'\\n    \\nfunc()\", '_ii': 'a = 10\\nprint(globals())', '_iii': '# 네임스페이스\\n# 파이썬에서는 변수들은 네임스페이스에 저장된다.\\n# 네임스페이스를 확인하려면 globals(), local()함수를 이용하면\\n# 현재의 Namespase를 딕셔너리형태로 출력한다.\\n# 또한, Jupyter Notebook의 매직명령어 %who, %whos, %whos_ls로도 확인 가능하다.\\n%reset -f\\n\\na = 3\\n%whos\\n\\nlocals()', '_i78': 'a = 10\\nprint(globals())', '_i79': \"# 함수는 전역과는 별개의 네임스페이스를 갖는다.\\na = 200\\ndef func():\\n    a = 300\\n    b = 'python'\\n    \\nfunc()\", 'func': <function func at 0x000001DC0AAB14E0>, '_i80': \"# 함수는 전역과는 별개의 네임스페이스를 갖는다.\\na = 200\\ndef func():\\n    a = 300\\n    b = 'python'\\n    \\nfunc()\\nprint(globals())\\nprint('-'*60)\\nprint(locals())\"}\n"
     ]
    }
   ],
   "source": [
    "# 함수는 전역과는 별개의 네임스페이스를 갖는다.\n",
    "a = 200\n",
    "def func():\n",
    "    a = 300\n",
    "    b = 'python'\n",
    "    \n",
    "func()\n",
    "print(globals())\n",
    "print('-'*60)\n",
    "print(locals())"
   ]
  },
  {
   "cell_type": "code",
   "execution_count": 82,
   "id": "1a8ddafd",
   "metadata": {},
   "outputs": [
    {
     "name": "stdout",
     "output_type": "stream",
     "text": [
      "함수 내부 지역 Namespace {'a': 100, 'b': 'python'}\n",
      "함수 내부 전역 Namespace {'__name__': '__main__', '__builtin__': <module 'builtins' (built-in)>, '__builtins__': <module 'builtins' (built-in)>, '_ih': ['', \"# 1. 홀수, 짝수를 구변하는 is_odd()함수를 작성\\n# 주어진 숫자가 홀수인지 짝수인지를 구별해서\\n# '짝수입니다' or '홀수입니다'를 출력하세요\\n# 1) 일반함수 is_odd(number)\\ndef is_odd(n):\\n    if n%2 == 0:\\n        print('짝수입니다!')\\n    else:\\n        print('홀수입니다!')\\n        \\nis_odd(1)\\n# 2) lambda함수\", \"# 1. 홀수, 짝수를 구변하는 is_odd()함수를 작성\\n# 주어진 숫자가 홀수인지 짝수인지를 구별해서\\n# '짝수입니다' or '홀수입니다'를 출력하세요\\n# 1) 일반함수 is_odd(number)\\ndef is_odd(n):\\n    if n%2 == 0:\\n        print('짝수입니다!')\\n    else:\\n        print('홀수입니다!')\\n        \\nis_odd(2)\\n\\n# 2) lambda함수\", \"# 1. 홀수, 짝수를 구변하는 is_odd()함수를 작성\\n# 주어진 숫자가 홀수인지 짝수인지를 구별해서\\n# '짝수입니다' or '홀수입니다'를 출력하세요\\n# 1) 일반함수 is_odd(number)\\ndef is_odd(n):\\n    if n%2 == 0:\\n        print('짝수입니다!')\\n    else:\\n        print('홀수입니다!')\\n        \\nis_odd(2)\\n\\n# 2) lambda함수\\nis_odd_lambda = lambda n: print('짝수입니다!') if n%2==0 else print('홀수입니다!')\\nis_odd_lambda(1)\", \"# 1. 홀수, 짝수를 구변하는 is_odd()함수를 작성\\n# 주어진 숫자가 홀수인지 짝수인지를 구별해서\\n# '짝수입니다' or '홀수입니다'를 출력하세요\\n# 1) 일반함수 is_odd(number)\\ndef is_odd(n):\\n    if n%2 == 0:\\n        print('짝수입니다!')\\n    else:\\n        print('홀수입니다!')\\n        \\nis_odd(2)\\n\\n# 2) lambda함수\\nis_odd_lambda = lambda n: print('짝수입니다!') if n%2==0 else print('홀수입니다!')\\nis_odd_lambda(1)\\nis_odd_lambda(2)\", \"# 1. 홀수, 짝수를 구변하는 is_odd()함수를 작성\\n# 주어진 숫자가 홀수인지 짝수인지를 구별해서\\n# '짝수입니다' or '홀수입니다'를 출력하세요\\n# 1) 일반함수 is_odd(number)\\ndef is_odd(n):\\n    if n%2 == 0:\\n        print('짝수입니다!')\\n    else:\\n        print('홀수입니다!')\\n        \\nis_odd(2)\\nis_odd(1)\\nprint()\\n\\n# 2) lambda함수\\nis_odd_lambda = lambda n: print('짝수입니다!') if n%2==0 else print('홀수입니다!')\\nis_odd_lambda(1)\\nis_odd_lambda(2)\", \"# 1. 홀수, 짝수를 구변하는 is_odd()함수를 작성\\n# 주어진 숫자가 홀수인지 짝수인지를 구별해서\\n# '짝수입니다' or '홀수입니다'를 출력하세요\\n# 1) 일반함수 is_odd(number)\\ndef is_odd(n):\\n    if n%2 == 0:\\n        print('짝수입니다!')\\n    else:\\n        print('홀수입니다!')\\n        \\nis_odd(2)\\nis_odd(1)\\nprint()\\n\\n# 2) lambda함수\\nis_odd_lambda1 = lambda n: print('짝수입니다!') if n%2==0 else print('홀수입니다!')\\nis_odd_lambda1(1)\\nis_odd_lambda1(2)\\n\\nis_odd_lambda2 = lambda n: '짝수입니다!' if n%2==0 else '홀수입니다!'\\nis_odd_lambda2(1)\\nis_odd_lambda2(2)\", \"# 1. 홀수, 짝수를 구변하는 is_odd()함수를 작성\\n# 주어진 숫자가 홀수인지 짝수인지를 구별해서\\n# '짝수입니다' or '홀수입니다'를 출력하세요\\n# 1) 일반함수 is_odd(number)\\ndef is_odd(n):\\n    if n%2 == 0:\\n        print('짝수입니다!')\\n    else:\\n        print('홀수입니다!')\\n        \\nis_odd(2)\\nis_odd(1)\\nprint()\\n\\n# 2) lambda함수\\nis_odd_lambda1 = lambda n: print('짝수입니다!') if n%2==0 else print('홀수입니다!')\\nis_odd_lambda1(1)\\nis_odd_lambda1(2)\\n\\nis_odd_lambda2 = lambda n: '짝수입니다!' if n%2==0 else '홀수입니다!'\\nprint(is_odd_lambda2(1))\\nprint(is_odd_lambda2(2))\", \"# 1. 홀수, 짝수를 구변하는 is_odd()함수를 작성\\n# 주어진 숫자가 홀수인지 짝수인지를 구별해서\\n# '짝수입니다' or '홀수입니다'를 출력하세요\\n# 1) 일반함수 is_odd(number)\\ndef is_odd(n):\\n    if n%2 == 0:\\n        print('짝수입니다!')\\n    else:\\n        print('홀수입니다!')\\n        \\nis_odd(2)\\nis_odd(1)\\nprint()\\n\\n# 2) lambda함수\\nis_odd_lambda1 = lambda n: print('짝수입니다!') if n%2==0 else print('홀수입니다!')\\nis_odd_lambda1(1)\\nis_odd_lambda1(2)\\nprint()\\n\\nis_odd_lambda2 = lambda n: '짝수입니다!' if n%2==0 else '홀수입니다!'\\nprint(is_odd_lambda2(1))\\nprint(is_odd_lambda2(2))\", \"# 1. 홀수, 짝수를 구변하는 is_odd()함수를 작성\\n# 주어진 숫자가 홀수인지 짝수인지를 구별해서\\n# '짝수입니다' or '홀수입니다'를 출력하세요\\n# 1) 일반함수 is_odd(number)\\ndef is_odd(n):\\n    if n%2 == 0:\\n        print('짝수입니다!')\\n    else:\\n        print('홀수입니다!')\\n        \\nis_odd(2)\\nis_odd(1)\\nprint()\\n\\n# 2) lambda함수 - return이 없는 경우\\nis_odd_lambda1 = lambda n: print('짝수입니다!') if n%2==0 else print('홀수입니다!')\\nis_odd_lambda1(1)\\nis_odd_lambda1(2)\\nprint()\\n\\n# 3) lambda함수 - return이 생략된 경우\\nis_odd_lambda2 = lambda n: '짝수입니다!' if n%2==0 else '홀수입니다!'\\nprint(is_odd_lambda2(1))\\nprint(is_odd_lambda2(2))\\n\\nresult = is_odd_lambda2(1)\\nprint(result)\", \"# 1. 홀수, 짝수를 구변하는 is_odd()함수를 작성\\n# 주어진 숫자가 홀수인지 짝수인지를 구별해서\\n# '짝수입니다' or '홀수입니다'를 출력하세요\\n# 1) 일반함수 is_odd(number)\\ndef is_odd(n):\\n    if n%2 == 0:\\n        print('짝수입니다!')\\n    else:\\n        print('홀수입니다!')\\n        \\nis_odd(2)\\nis_odd(1)\\nprint()\\n\\n# 2) lambda함수 - return이 없는 경우\\nis_odd_lambda1 = lambda n: print('짝수입니다!') if n%2==0 else print('홀수입니다!')\\nis_odd_lambda1(1)\\nis_odd_lambda1(2)\\nprint()\\n\\n# 3) lambda함수 - return이 생략된 경우\\nis_odd_lambda2 = lambda xxx: '짝수입니다!' if xxx%2==0 else '홀수입니다!'\\nprint(is_odd_lambda2(1))\\nprint(is_odd_lambda2(2))\\nprint()\\n\\nresult = is_odd_lambda2(1)\\nprint(result)\", '# 2. 입력된 모든 수의 평균을 계산하는 funcAvg()함수를 작성\\n# 단, 입력매개변수의 갯수는 정해져 있지 않다.\\n# funcAvg()\\ndef funcAvg():\\n    pass\\n\\nfuncAvg()', '# 2. 입력된 모든 수의 평균을 계산하는 funcAvg()함수를 작성\\n# 단, 입력매개변수의 갯수는 정해져 있지 않다.\\n# funcAvg()\\ndef funcAvg(*numbers):\\n    result = 0\\n    for num in numbers:\\n        result += num\\n    return(result / len(numbers))\\n\\nprint(funcAvg(1,2,3,4,5))', '# 2. 입력된 모든 수의 평균을 계산하는 funcAvg()함수를 작성\\n# 단, 입력매개변수의 갯수는 정해져 있지 않다.\\n# funcAvg()\\ndef funcAvg(*numbers):\\n    result = 0\\n    for num in numbers:\\n        result += num\\n    return(result / len(numbers))\\n\\nprint(funcAvg(1,2,3,4,5))\\nprint(funcAvg(1,2,3,4,5,6,7,8,9,10))', '# 2. 입력된 모든 수의 평균을 계산하는 funcAvg()함수를 작성\\n# 단, 입력매개변수의 갯수는 정해져 있지 않다.\\n# funcAvg()\\ndef funcAvg(*numbers):\\n    result = 0\\n    for num in numbers:\\n        result += num\\n    return(result / len(numbers))\\n\\nprint(funcAvg(1,2,3,4,5))\\nprint(funcAvg(1,2,3,4,5,6,7,8,9,10))\\nprint()\\n\\n# 멀티매개값을 list, tuple로 한 개의 값으로 전달하는 법\\nprint(funcAvg([1,2,3,4,5]))', '# 2. 입력된 모든 수의 평균을 계산하는 funcAvg()함수를 작성\\n# 단, 입력매개변수의 갯수는 정해져 있지 않다.\\n# funcAvg()\\ndef funcAvg(*numbers):\\n    result = 0\\n    for num in numbers:\\n        result += num\\n    return(result / len(numbers))\\n\\nprint(funcAvg(1,2,3,4,5))\\nprint(funcAvg(1,2,3,4,5,6,7,8,9,10))\\nprint()\\n\\n# 멀티매개값을 list, tuple로 한 개의 값으로 전달하는 법\\nprint(funcAvg((1,2,3,4,5))', '# 2. 입력된 모든 수의 평균을 계산하는 funcAvg()함수를 작성\\n# 단, 입력매개변수의 갯수는 정해져 있지 않다.\\n# funcAvg()\\ndef funcAvg(*numbers):\\n    result = 0\\n    for num in numbers:\\n        result += num\\n    return(result / len(numbers))\\n\\nprint(funcAvg(1,2,3,4,5))\\nprint(funcAvg(1,2,3,4,5,6,7,8,9,10))\\nprint()\\n\\n# 멀티매개값을 list, tuple로 한 개의 값으로 전달하는 법\\nprint(funcAvg((1,2,3,4,5)))', '# 2. 입력된 모든 수의 평균을 계산하는 funcAvg()함수를 작성\\n# 단, 입력매개변수의 갯수는 정해져 있지 않다.\\n# funcAvg()\\ndef funcAvg(*numbers):\\n    result = 0\\n    for num in numbers:\\n        result += num\\n    return(result / len(numbers))\\n\\nprint(funcAvg(1,2,3,4,5))\\nprint(funcAvg(1,2,3,4,5,6,7,8,9,10))\\nprint()\\n\\n# 멀티매개값을 list, tuple로 한 개의 값으로 전달하는 법\\nprint(funcAvg(*(1,2,3,4,5)))', '# 2. 입력된 모든 수의 평균을 계산하는 funcAvg()함수를 작성\\n# 단, 입력매개변수의 갯수는 정해져 있지 않다.\\n# funcAvg()\\ndef funcAvg(*numbers):\\n    result = 0\\n    for num in numbers:\\n        result += num\\n    return(result / len(numbers))\\n\\nprint(funcAvg(1,2,3,4,5))\\nprint(funcAvg(1,2,3,4,5,6,7,8,9,10))\\nprint()\\n\\n# 멀티매개값을 list, tuple로 한 개의 값으로 전달하는 법\\nprint(funcAvg(*(1,2,3,4,5)))\\nprint(funcAvg([1,2,3,4,5,6,7,8,9,10]))', '# 2. 입력된 모든 수의 평균을 계산하는 funcAvg()함수를 작성\\n# 단, 입력매개변수의 갯수는 정해져 있지 않다.\\n# funcAvg()\\ndef funcAvg(*numbers):\\n    result = 0\\n    for num in numbers:\\n        result += num\\n    return(result / len(numbers))\\n\\nprint(funcAvg(1,2,3,4,5))\\nprint(funcAvg(1,2,3,4,5,6,7,8,9,10))\\nprint()\\n\\n# 멀티매개값을 list, tuple로 한 개의 값으로 전달하는 법\\nprint(funcAvg(*(1,2,3,4,5)))\\nprint(funcAvg(*[1,2,3,4,5,6,7,8,9,10]))', \"# 3. 구구단을 출력하는 함수 gugudan()함수를 작성\\n# 입력값은 2~9단까지 한개의 임의의 단을 입력\\n# gugudan(9)\\ndef gugudan(dan):\\n    for i in range(2, 10):\\n        print(f'{dan} x {i} = {dan*i:2d}')\\n        \\ngugudan(9)\", \"# 3. 구구단을 출력하는 함수 gugudan()함수를 작성\\n# 입력값은 2~9단까지 한개의 임의의 단을 입력\\n# gugudan(9)\\ndef gugudan(dan):\\n    for i in range(2, 10):\\n        print(f'{dan} x {i} = {dan*i:2d}')\\n        \\ngugudan(9)\\nprint()\\n\\ngugudan(2)\", \"# 3. 구구단을 출력하는 함수 gugudan()함수를 작성\\n# 입력값은 2~9단까지 한개의 임의의 단을 입력\\n# gugudan(9)\\ndef gugudan(dan):\\n    for i in range(2, 10):\\n        print(f'{dan} x {i} = {dan*i:2d}')\\n        \\ngugudan(9)\\nprint()\\n\\ngugudan(2)\\nprint()\\n\\ngugudan(int(input('단을 입력하세요 => ')))\", \"# 3. 구구단을 출력하는 함수 gugudan()함수를 작성\\n# 입력값은 2~9단까지 한개의 임의의 단을 입력\\n# gugudan(9)\\ndef gugudan(dan):\\n    for i in range(2, 10):\\n        print(f'{dan} x {i} = {dan*i:2d}')\\n        \\ngugudan(9)\\nprint()\\n\\ngugudan(2)\\nprint()\\n\\ngugudan(int(input('단을 입력하세요 => ')))\", '# 4. 리스트 [2,3,4,5,6,7,8]에서 5보다 큰 수만 리턴하는 \\n# 1) funcReturn()함수작성\\ndef funcReturn(numbers):\\n    l = []\\n    for num in numbers:\\n        if num > 5:\\n            l.append(num)\\n    return l\\n\\nprint(funcAvg([2,3,4,5,6,7,8]))\\n\\n# 2) lambda식으로 작성, 이름은 funcReturnLambda', '# 4. 리스트 [2,3,4,5,6,7,8]에서 5보다 큰 수만 리턴하는 \\n# 1) funcReturn()함수작성\\ndef funcReturn(numbers):\\n    l = []\\n    for num in numbers:\\n        if num > 5:\\n            l.append(num)\\n    return l\\n\\nprint(funcReturn([2,3,4,5,6,7,8]))\\n\\n# 2) lambda식으로 작성, 이름은 funcReturnLambda', '# 4. 리스트 [2,3,4,5,6,7,8]에서 5보다 큰 수만 리턴하는 \\n# 1) funcReturn()함수작성\\ndef funcReturn(numbers):\\n    l = []\\n    for num in numbers:\\n        if num > 5:\\n            l.append(num)\\n    return l\\n\\nprint(funcReturn([2,3,4,5,6,7,8]))\\n\\n# 2) lambda식으로 작성, 이름은 funcReturnLambda\\nfuncReturnLambda = lambda numbers: [num for num in numbers if number > 5]\\nprint(funcReturnLambda([2,3,4,5,6,7,8]))', '# 4. 리스트 [2,3,4,5,6,7,8]에서 5보다 큰 수만 리턴하는 \\n# 1) funcReturn()함수작성\\ndef funcReturn(numbers):\\n    l = []\\n    for num in numbers:\\n        if num > 5:\\n            l.append(num)\\n    return l\\n\\nprint(funcReturn([2,3,4,5,6,7,8]))\\n\\n# 2) lambda식으로 작성, 이름은 funcReturnLambda\\nfuncReturnLambda = lambda numbers: [num for num in numbers if num > 5]\\nprint(funcReturnLambda([2,3,4,5,6,7,8]))', \"# 1. 변수의 사용범위\\n# 1) 전역변수(global variable)\\ndef closer():\\n    print(f'함수안에서 사용할 수 있는 전역변수 x = {x}')\\n\\ncloser()\\n\\n# 2) 지역변수(local variable)\", \"# 1. 변수의 사용범위\\n# 1) 전역변수(global variable)\\n\\nx = 100\\ndef closer():\\n    print(f'함수안에서 사용할 수 있는 전역변수 x = {x}')\\n\\ncloser()\\n\\n# 2) 지역변수(local variable)\", \"# 1. 변수의 사용범위\\n# 1) 전역변수(global variable)\\n\\nx = 100\\ndef closer1():\\n    print(f'함수안에서 사용할 수 있는 전역변수 x = {x}')\\n\\ncloser1()\", \"# 2) 지역변수(local variable)\\ndef closer2():\\n    print(f'함수안에서 사용할 수 있는 전역변수 x = {x}')\\n\\ncloser2()\", \"# 1. 변수의 사용범위\\n# 1) 전역변수(global variable)\\n\\nx = 100\\ndef closer1():\\n    print(f'함수안에서 사용할 수 있는 전역변수 x = {x}')\\n\\ncloser1()\\ndel x\", \"get_ipython().run_line_magic('whos', '')\\n# 2) 지역변수(local variable)\\n\\ndef closer2():\\n    print(f'함수안에서 사용할 수 있는 전역변수 x = {x}')\\n\\ncloser2()\", \"get_ipython().run_line_magic('whos', '')\\n# 2) 지역변수(local variable)\\n\\ndef closer2():\\n    x = '문자열 100'\\n    print(f'함수안에서 사용할 수 있는 지역변수 x = {x}')\\n\\ncloser2()\", \"# 1. 변수의 사용범위\\n# 1) 전역변수(global variable)\\n\\nx = 100\\ndef closer1():\\n    print(f'함수안에서 사용할 수 있는 전역변수 x = {x}')\\n\\ncloser1()\\n# del x\", \"get_ipython().run_line_magic('whos', '')\", \"# 2) 지역변수(local variable)\\n\\ndef closer2():\\n#     x = '문자열 100'\\n    print(f'함수안에서 사용할 수 있는 지역변수 x = {x}')\\n\\ncloser2()\", \"# 2) 지역변수(local variable)\\n\\ndef closer2():\\n    x = '문자열 100'\\n    print(f'함수안에서 사용할 수 있는 지역변수 x = {x}')\\n\\ncloser2()\", \"get_ipython().run_line_magic('whos', '')\", \"# 2) 지역변수(local variable)\\n\\ndef closer2():\\n    y = '문자열 100'\\n    print(f'함수안에서 사용할 수 있는 지역변수 y = {y}')\\n\\ncloser2()\", \"get_ipython().run_line_magic('whos', '')\", \"# 2) 지역변수(local variable)\\n\\ndef closer2():\\n    y = '문자열 100'\\n    print(f'함수안에서 사용할 수 있는 지역변수 y = {y}')\\n\\ncloser2()\\n\\nprint(y)\", \"# 2) 지역변수(local variable)\\n\\ndef closer2():\\n    y = '문자열 100'\\n    print(f'함수안에서 사용할 수 있는 지역변수 y = {y}')\\n\\ncloser2()\\n\\n# 지역변수 y은 외부에서 접근불가능\\nprint(y) # NameError: name 'y' is not defined\", \"# 2. 함수안에서 전역변수 사용(변경)하기\\nget_ipython().run_line_magic('whos', '')\", \"# 2. 함수안에서 전역변수 사용(변경)하기\\nget_ipython().run_line_magic('reset', '')\", \"# 2. 함수안에서 전역변수 사용(변경)하기\\nget_ipython().run_line_magic('reset', '-f')\", \"get_ipython().run_line_magic('whos', '')\", \"# 2. 함수안에서 전역변수 사용(변경)하기\\nget_ipython().run_line_magic('reset', '-f')\\n\\nx = 100\\nprint(f'전역변수 x의 메모리주소 = {id(x)}')\\ndef closer1():\\n    x = 200\\n    print(f'지역변수 x의 메모리주소 = {id(x)}')\\n    \\ncloser1()\", \"# 2. 함수안에서 전역변수 사용(변경)하기\\nget_ipython().run_line_magic('reset', '-f')\\n\\nx = 100\\nprint(f'전역변수 x의 메모리주소 = {id(x)}')\\ndef closer1():\\n    x = 200\\n    print(f'지역변수 x의 메모리주소 = {id(x)}')\\n    \\ncloser1()\\nget_ipython().run_line_magic('whos', '')\", \"# 1) 전역변수를 정의하는 방법(1)\\ny = 100\\nprint(f'전역변수 y의 메모리주소 = {id(y)}')\\ndef closer2():\\n    y = 200\\n    print(f'지역변수 y의 메모리주소 = {id(y)}')\\n    \\ncloser2()  \", \"# 1) 전역변수를 정의하는 방법(1)\\ny = 100\\nprint(f'전역변수 y의 메모리주소 = {id(y)}')\\ndef closer2():\\n    global y # y는 지역변수가 아니라 전역변수로 선언\\n    y = 200\\n    print(f'지역변수 y의 메모리주소 = {id(y)}')\\n    \\ncloser2()  \", \"# 2. 함수안에서 전역변수 사용(변경)하기\\nget_ipython().run_line_magic('reset', '-f')\\n\\nx = 100\\nprint(f'전역변수 x의 메모리주소 = {id(x)}')\\ndef closer1():\\n    x = 200\\n    print(f'지역변수 x의 메모리주소 = {id(x)}')\\n    \\ncloser1()\\nget_ipython().run_line_magic('whos', '')\", \"# 1) 전역변수를 정의하는 방법(1)\\ny = 100\\nprint(f'전역변수 y의 메모리주소 = {id(y)}')\\ndef closer2():\\n    global y # y는 지역변수가 아니라 전역변수로 선언\\n    y = 200\\n    print(f'지역변수 y의 메모리주소 = {id(y)}, y의 값 = {y}')\\n    \\ncloser2() \\nprint(y)\", \"# 1) 전역변수를 정의하는 방법(1)\\ny = 100\\nprint(f'전역변수 y의 메모리주소 = {id(y)}')\\ndef closer2():\\n    global y # y는 지역변수가 아니라 전역변수로 선언\\n    y = 200\\n    print(f'지역변수 y의 메모리주소 = {id(y)}, \\\\ny의 값 = {y}')\\n    \\ncloser2() \\nprint(f'y의 값 = {y}')\", \"# 1) 전역변수를 정의하는 방법(1)\\ny = 100\\nprint(f'전역변수 y의 메모리주소 = {id(y)}')\\ndef closer2():\\n    global y # y는 지역변수가 아니라 전역변수로 선언\\n    y = 200\\n    print(f'전역변수 y의 메모리주소 = {id(y)}, \\\\n지역에서의 y의 값 = {y}')\\n    \\ncloser2() \\nprint(f'전역에서의 y의 값 = {y}')\", \"# 1) 전역변수를 정의하는 방법(1)\\ny = 100\\nprint(f'전역변수 y의 메모리주소 = {id(y)}')\\nprint()\\n\\ndef closer2():\\n    global y # y는 지역변수가 아니라 전역변수로 선언\\n    y = 200\\n    print(f'전역변수 y의 메모리주소 = {id(y)}, \\\\n지역에서의 y의 값 = {y}')\\n    \\ncloser2() \\nprint(f'전역에서의 y의 값 = {y}')\", \"# 1) 전역변수를 정의하는 방법(1)\\ny = 100\\nprint(f'전역변수 y의 메모리주소 = {id(y)}')\\ndef closer2():\\n    global y # y는 지역변수가 아니라 전역변수로 선언\\n    y = 200\\n    print(f'전역변수 y의 메모리주소 = {id(y)}, \\\\n\\\\n지역에서의 y의 값 = {y}')\\n    \\ncloser2() \\nprint(f'전역에서의 y의 값 = {y}')\", \"# 1) 전역변수를 정의하는 방법(1)\\ny = 100\\nprint(f'전역변수 y의 메모리주소 = {id(y)}')\\ndef closer2():\\n    global y # y는 지역변수가 아니라 전역변수로 선언\\n    y = 200\\n    print(f'전역변수 y의 메모리주소 = {id(y)}, \\\\n\\\\n지역에서 전역변수로 선언된 y의 값 = {y}')\\n    \\ncloser2() \\nprint(f'전역에서의 y의 값 = {y}')\", \"# 1) 전역변수를 정의하는 방법(1)\\ny = 100\\nprint(f'전역변수 y의 메모리주소 = {id(y)}')\\ndef closer2():\\n    # global y # y는 지역변수가 아니라 전역변수로 선언\\n    y = 200\\n    print(f'전역변수 y의 메모리주소 = {id(y)}, \\\\n\\\\n지역에서 전역변수로 선언된 y의 값 = {y}')\\n    \\ncloser2() \\nprint(f'전역에서의 y의 값 = {y}')\", \"# 1) 전역변수를 정의하는 방법(1)\\ny = 100\\nprint(f'전역변수 y의 메모리주소 = {id(y)}')\\ndef closer2():\\n    global y # y는 지역변수가 아니라 전역변수로 선언\\n    y = 200\\n    print(f'전역변수 y의 메모리주소 = {id(y)}, \\\\n\\\\n지역에서 전역변수로 선언된 y의 값 = {y}')\\n    \\ncloser2() \\nprint(f'전역에서의 y의 값 = {y}')\", \"# 2) 전역변수를 정의하는 방법(2)\\ndef closer3():\\n    z = 300\\n    print(f'지역변수 z의 메모리주소 = {id(z)}')\\n\\ncloser3()    \", \"# 2) 전역변수를 정의하는 방법(2)\\ndef closer3():\\n    z = 300\\n    print(f'지역변수 z의 메모리주소 = {id(z)}')\\n    print(f'지역변수 z의 값 = {z}')\\n\\ncloser3()    \", \"# 2) 전역변수를 정의하는 방법(2)\\ndef closer3():\\n    z = 300\\n    print(f'지역에서선언된 z의 메모리주소 = {id(z)}')\\n    print(f'지역에서선언된 z의 값 = {z}')\\n\\ncloser3() \\n\\nprint(f'지역에서선언된 z의 값 = {z}')\", \"# 2) 전역변수를 정의하는 방법(2)\\ndef closer3():\\n    global\\n    z = 300\\n    print(f'지역에서선언된 z의 메모리주소 = {id(z)}')\\n    print(f'지역에서선언된 z의 값 = {z}')\\n\\ncloser3() \\n\\nprint(f'지역에서선언된 z의 값 = {z}')\", \"# 2) 전역변수를 정의하는 방법(2)\\ndef closer3():\\n    global z\\n    z = 300\\n    print(f'지역에서선언된 z의 메모리주소 = {id(z)}')\\n    print(f'지역에서선언된 z의 값 = {z}')\\n\\ncloser3() \\n\\nprint(f'지역에서선언된 z의 값 = {z}')\", \"# 2) 전역변수를 정의하는 방법(2)\\ndef closer3():\\n    global z = 300\\n    print(f'지역에서선언된 z의 메모리주소 = {id(z)}')\\n    print(f'지역에서선언된 z의 값 = {z}')\\n\\ncloser3() \\n\\nprint(f'지역에서선언된 z의 값 = {z}')\", \"# 2) 전역변수를 정의하는 방법(2)\\ndef closer3():\\n    global z\\n    z = 300\\n    print(f'지역에서선언된 z의 메모리주소 = {id(z)}')\\n    print(f'지역에서선언된 z의 값 = {z}')\\n\\ncloser3() \\n\\nprint(f'지역에서선언된 z의 값 = {z}')\", 'import copy', \"# 네임스페이스\\n# 파이썬에서는 변수들은 네임스페이스에 저장된다.\\n# 네임스페이스를 확인하려면 globals(), local()함수를 이용하면\\n# 현재의 Namespase를 딕셔너리형태로 출력한다.\\n# 또한, Jupyter Notebook의 매직명령어 %who, %whos, %whos_ls로도 확인 가능하다.\\nget_ipython().run_line_magic('who', '')\", \"# 네임스페이스\\n# 파이썬에서는 변수들은 네임스페이스에 저장된다.\\n# 네임스페이스를 확인하려면 globals(), local()함수를 이용하면\\n# 현재의 Namespase를 딕셔너리형태로 출력한다.\\n# 또한, Jupyter Notebook의 매직명령어 %who, %whos, %whos_ls로도 확인 가능하다.\\nget_ipython().run_line_magic('whos', '')\", \"# 네임스페이스\\n# 파이썬에서는 변수들은 네임스페이스에 저장된다.\\n# 네임스페이스를 확인하려면 globals(), local()함수를 이용하면\\n# 현재의 Namespase를 딕셔너리형태로 출력한다.\\n# 또한, Jupyter Notebook의 매직명령어 %who, %whos, %whos_ls로도 확인 가능하다.\\nget_ipython().run_line_magic('whos_ls', '')\", \"# 네임스페이스\\n# 파이썬에서는 변수들은 네임스페이스에 저장된다.\\n# 네임스페이스를 확인하려면 globals(), local()함수를 이용하면\\n# 현재의 Namespase를 딕셔너리형태로 출력한다.\\n# 또한, Jupyter Notebook의 매직명령어 %who, %whos, %whos_ls로도 확인 가능하다.\\nget_ipython().run_line_magic('who_ls', '')\", \"# 네임스페이스\\n# 파이썬에서는 변수들은 네임스페이스에 저장된다.\\n# 네임스페이스를 확인하려면 globals(), local()함수를 이용하면\\n# 현재의 Namespase를 딕셔너리형태로 출력한다.\\n# 또한, Jupyter Notebook의 매직명령어 %who, %whos, %whos_ls로도 확인 가능하다.\\nget_ipython().run_line_magic('whos', '')\", \"# 네임스페이스\\n# 파이썬에서는 변수들은 네임스페이스에 저장된다.\\n# 네임스페이스를 확인하려면 globals(), local()함수를 이용하면\\n# 현재의 Namespase를 딕셔너리형태로 출력한다.\\n# 또한, Jupyter Notebook의 매직명령어 %who, %whos, %whos_ls로도 확인 가능하다.\\nget_ipython().run_line_magic('whos', '')\\nget_ipython().run_line_magic('reset', '-f')\\n\\na = 3\\nget_ipython().run_line_magic('whos', '')\", \"# 네임스페이스\\n# 파이썬에서는 변수들은 네임스페이스에 저장된다.\\n# 네임스페이스를 확인하려면 globals(), local()함수를 이용하면\\n# 현재의 Namespase를 딕셔너리형태로 출력한다.\\n# 또한, Jupyter Notebook의 매직명령어 %who, %whos, %whos_ls로도 확인 가능하다.\\nget_ipython().run_line_magic('whos', '')\\nget_ipython().run_line_magic('reset', '-f')\\n\\na = 3\\nget_ipython().run_line_magic('whos', '')\", \"# 네임스페이스\\n# 파이썬에서는 변수들은 네임스페이스에 저장된다.\\n# 네임스페이스를 확인하려면 globals(), local()함수를 이용하면\\n# 현재의 Namespase를 딕셔너리형태로 출력한다.\\n# 또한, Jupyter Notebook의 매직명령어 %who, %whos, %whos_ls로도 확인 가능하다.\\nget_ipython().run_line_magic('reset', '-f')\\n\\na = 3\\nget_ipython().run_line_magic('whos', '')\", \"# 네임스페이스\\n# 파이썬에서는 변수들은 네임스페이스에 저장된다.\\n# 네임스페이스를 확인하려면 globals(), local()함수를 이용하면\\n# 현재의 Namespase를 딕셔너리형태로 출력한다.\\n# 또한, Jupyter Notebook의 매직명령어 %who, %whos, %whos_ls로도 확인 가능하다.\\nget_ipython().run_line_magic('reset', '-f')\\n\\na = 3\\nget_ipython().run_line_magic('whos', '')\\n\\nlocals()\", 'a = 10\\nprint(globals())', \"# 함수는 전역과는 별개의 네임스페이스를 갖는다.\\na = 200\\ndef func():\\n    a = 300\\n    b = 'python'\\n    \\nfunc()\", \"# 함수는 전역과는 별개의 네임스페이스를 갖는다.\\na = 200\\ndef func():\\n    a = 300\\n    b = 'python'\\n    \\nfunc()\\nprint(globals())\\nprint('-'*60)\\nprint(locals())\", \"# 전역에서 지역함수 yyy에 어떻게 접근할 수 있는가?\\nget_ipython().run_line_magic('rest', '-f')\\n\\na = 3\\nc = 'hello'\\n\\ndef func():\\n    a = 100\\n    b = 'python'\\n    print(f'함수 내부 지역 Namespace {locals()}')\\n    print(f'함수 내부 전역 Namespace {globals()}')\\n    \\nfunc()\\nprint(f'함수 외부에서 전역 Namespace {globals()}')\", \"# 전역에서 지역함수 yyy에 어떻게 접근할 수 있는가?\\nget_ipython().run_line_magic('reset', '-f')\\n\\na = 3\\nc = 'hello'\\n\\ndef func():\\n    a = 100\\n    b = 'python'\\n    print(f'함수 내부 지역 Namespace {locals()}')\\n    print(f'함수 내부 전역 Namespace {globals()}')\\n    \\nfunc()\\nprint(f'함수 외부에서 전역 Namespace {globals()}')\"], '_oh': {}, '_dh': [WindowsPath('d:/lec/04.python')], 'In': ['', \"# 1. 홀수, 짝수를 구변하는 is_odd()함수를 작성\\n# 주어진 숫자가 홀수인지 짝수인지를 구별해서\\n# '짝수입니다' or '홀수입니다'를 출력하세요\\n# 1) 일반함수 is_odd(number)\\ndef is_odd(n):\\n    if n%2 == 0:\\n        print('짝수입니다!')\\n    else:\\n        print('홀수입니다!')\\n        \\nis_odd(1)\\n# 2) lambda함수\", \"# 1. 홀수, 짝수를 구변하는 is_odd()함수를 작성\\n# 주어진 숫자가 홀수인지 짝수인지를 구별해서\\n# '짝수입니다' or '홀수입니다'를 출력하세요\\n# 1) 일반함수 is_odd(number)\\ndef is_odd(n):\\n    if n%2 == 0:\\n        print('짝수입니다!')\\n    else:\\n        print('홀수입니다!')\\n        \\nis_odd(2)\\n\\n# 2) lambda함수\", \"# 1. 홀수, 짝수를 구변하는 is_odd()함수를 작성\\n# 주어진 숫자가 홀수인지 짝수인지를 구별해서\\n# '짝수입니다' or '홀수입니다'를 출력하세요\\n# 1) 일반함수 is_odd(number)\\ndef is_odd(n):\\n    if n%2 == 0:\\n        print('짝수입니다!')\\n    else:\\n        print('홀수입니다!')\\n        \\nis_odd(2)\\n\\n# 2) lambda함수\\nis_odd_lambda = lambda n: print('짝수입니다!') if n%2==0 else print('홀수입니다!')\\nis_odd_lambda(1)\", \"# 1. 홀수, 짝수를 구변하는 is_odd()함수를 작성\\n# 주어진 숫자가 홀수인지 짝수인지를 구별해서\\n# '짝수입니다' or '홀수입니다'를 출력하세요\\n# 1) 일반함수 is_odd(number)\\ndef is_odd(n):\\n    if n%2 == 0:\\n        print('짝수입니다!')\\n    else:\\n        print('홀수입니다!')\\n        \\nis_odd(2)\\n\\n# 2) lambda함수\\nis_odd_lambda = lambda n: print('짝수입니다!') if n%2==0 else print('홀수입니다!')\\nis_odd_lambda(1)\\nis_odd_lambda(2)\", \"# 1. 홀수, 짝수를 구변하는 is_odd()함수를 작성\\n# 주어진 숫자가 홀수인지 짝수인지를 구별해서\\n# '짝수입니다' or '홀수입니다'를 출력하세요\\n# 1) 일반함수 is_odd(number)\\ndef is_odd(n):\\n    if n%2 == 0:\\n        print('짝수입니다!')\\n    else:\\n        print('홀수입니다!')\\n        \\nis_odd(2)\\nis_odd(1)\\nprint()\\n\\n# 2) lambda함수\\nis_odd_lambda = lambda n: print('짝수입니다!') if n%2==0 else print('홀수입니다!')\\nis_odd_lambda(1)\\nis_odd_lambda(2)\", \"# 1. 홀수, 짝수를 구변하는 is_odd()함수를 작성\\n# 주어진 숫자가 홀수인지 짝수인지를 구별해서\\n# '짝수입니다' or '홀수입니다'를 출력하세요\\n# 1) 일반함수 is_odd(number)\\ndef is_odd(n):\\n    if n%2 == 0:\\n        print('짝수입니다!')\\n    else:\\n        print('홀수입니다!')\\n        \\nis_odd(2)\\nis_odd(1)\\nprint()\\n\\n# 2) lambda함수\\nis_odd_lambda1 = lambda n: print('짝수입니다!') if n%2==0 else print('홀수입니다!')\\nis_odd_lambda1(1)\\nis_odd_lambda1(2)\\n\\nis_odd_lambda2 = lambda n: '짝수입니다!' if n%2==0 else '홀수입니다!'\\nis_odd_lambda2(1)\\nis_odd_lambda2(2)\", \"# 1. 홀수, 짝수를 구변하는 is_odd()함수를 작성\\n# 주어진 숫자가 홀수인지 짝수인지를 구별해서\\n# '짝수입니다' or '홀수입니다'를 출력하세요\\n# 1) 일반함수 is_odd(number)\\ndef is_odd(n):\\n    if n%2 == 0:\\n        print('짝수입니다!')\\n    else:\\n        print('홀수입니다!')\\n        \\nis_odd(2)\\nis_odd(1)\\nprint()\\n\\n# 2) lambda함수\\nis_odd_lambda1 = lambda n: print('짝수입니다!') if n%2==0 else print('홀수입니다!')\\nis_odd_lambda1(1)\\nis_odd_lambda1(2)\\n\\nis_odd_lambda2 = lambda n: '짝수입니다!' if n%2==0 else '홀수입니다!'\\nprint(is_odd_lambda2(1))\\nprint(is_odd_lambda2(2))\", \"# 1. 홀수, 짝수를 구변하는 is_odd()함수를 작성\\n# 주어진 숫자가 홀수인지 짝수인지를 구별해서\\n# '짝수입니다' or '홀수입니다'를 출력하세요\\n# 1) 일반함수 is_odd(number)\\ndef is_odd(n):\\n    if n%2 == 0:\\n        print('짝수입니다!')\\n    else:\\n        print('홀수입니다!')\\n        \\nis_odd(2)\\nis_odd(1)\\nprint()\\n\\n# 2) lambda함수\\nis_odd_lambda1 = lambda n: print('짝수입니다!') if n%2==0 else print('홀수입니다!')\\nis_odd_lambda1(1)\\nis_odd_lambda1(2)\\nprint()\\n\\nis_odd_lambda2 = lambda n: '짝수입니다!' if n%2==0 else '홀수입니다!'\\nprint(is_odd_lambda2(1))\\nprint(is_odd_lambda2(2))\", \"# 1. 홀수, 짝수를 구변하는 is_odd()함수를 작성\\n# 주어진 숫자가 홀수인지 짝수인지를 구별해서\\n# '짝수입니다' or '홀수입니다'를 출력하세요\\n# 1) 일반함수 is_odd(number)\\ndef is_odd(n):\\n    if n%2 == 0:\\n        print('짝수입니다!')\\n    else:\\n        print('홀수입니다!')\\n        \\nis_odd(2)\\nis_odd(1)\\nprint()\\n\\n# 2) lambda함수 - return이 없는 경우\\nis_odd_lambda1 = lambda n: print('짝수입니다!') if n%2==0 else print('홀수입니다!')\\nis_odd_lambda1(1)\\nis_odd_lambda1(2)\\nprint()\\n\\n# 3) lambda함수 - return이 생략된 경우\\nis_odd_lambda2 = lambda n: '짝수입니다!' if n%2==0 else '홀수입니다!'\\nprint(is_odd_lambda2(1))\\nprint(is_odd_lambda2(2))\\n\\nresult = is_odd_lambda2(1)\\nprint(result)\", \"# 1. 홀수, 짝수를 구변하는 is_odd()함수를 작성\\n# 주어진 숫자가 홀수인지 짝수인지를 구별해서\\n# '짝수입니다' or '홀수입니다'를 출력하세요\\n# 1) 일반함수 is_odd(number)\\ndef is_odd(n):\\n    if n%2 == 0:\\n        print('짝수입니다!')\\n    else:\\n        print('홀수입니다!')\\n        \\nis_odd(2)\\nis_odd(1)\\nprint()\\n\\n# 2) lambda함수 - return이 없는 경우\\nis_odd_lambda1 = lambda n: print('짝수입니다!') if n%2==0 else print('홀수입니다!')\\nis_odd_lambda1(1)\\nis_odd_lambda1(2)\\nprint()\\n\\n# 3) lambda함수 - return이 생략된 경우\\nis_odd_lambda2 = lambda xxx: '짝수입니다!' if xxx%2==0 else '홀수입니다!'\\nprint(is_odd_lambda2(1))\\nprint(is_odd_lambda2(2))\\nprint()\\n\\nresult = is_odd_lambda2(1)\\nprint(result)\", '# 2. 입력된 모든 수의 평균을 계산하는 funcAvg()함수를 작성\\n# 단, 입력매개변수의 갯수는 정해져 있지 않다.\\n# funcAvg()\\ndef funcAvg():\\n    pass\\n\\nfuncAvg()', '# 2. 입력된 모든 수의 평균을 계산하는 funcAvg()함수를 작성\\n# 단, 입력매개변수의 갯수는 정해져 있지 않다.\\n# funcAvg()\\ndef funcAvg(*numbers):\\n    result = 0\\n    for num in numbers:\\n        result += num\\n    return(result / len(numbers))\\n\\nprint(funcAvg(1,2,3,4,5))', '# 2. 입력된 모든 수의 평균을 계산하는 funcAvg()함수를 작성\\n# 단, 입력매개변수의 갯수는 정해져 있지 않다.\\n# funcAvg()\\ndef funcAvg(*numbers):\\n    result = 0\\n    for num in numbers:\\n        result += num\\n    return(result / len(numbers))\\n\\nprint(funcAvg(1,2,3,4,5))\\nprint(funcAvg(1,2,3,4,5,6,7,8,9,10))', '# 2. 입력된 모든 수의 평균을 계산하는 funcAvg()함수를 작성\\n# 단, 입력매개변수의 갯수는 정해져 있지 않다.\\n# funcAvg()\\ndef funcAvg(*numbers):\\n    result = 0\\n    for num in numbers:\\n        result += num\\n    return(result / len(numbers))\\n\\nprint(funcAvg(1,2,3,4,5))\\nprint(funcAvg(1,2,3,4,5,6,7,8,9,10))\\nprint()\\n\\n# 멀티매개값을 list, tuple로 한 개의 값으로 전달하는 법\\nprint(funcAvg([1,2,3,4,5]))', '# 2. 입력된 모든 수의 평균을 계산하는 funcAvg()함수를 작성\\n# 단, 입력매개변수의 갯수는 정해져 있지 않다.\\n# funcAvg()\\ndef funcAvg(*numbers):\\n    result = 0\\n    for num in numbers:\\n        result += num\\n    return(result / len(numbers))\\n\\nprint(funcAvg(1,2,3,4,5))\\nprint(funcAvg(1,2,3,4,5,6,7,8,9,10))\\nprint()\\n\\n# 멀티매개값을 list, tuple로 한 개의 값으로 전달하는 법\\nprint(funcAvg((1,2,3,4,5))', '# 2. 입력된 모든 수의 평균을 계산하는 funcAvg()함수를 작성\\n# 단, 입력매개변수의 갯수는 정해져 있지 않다.\\n# funcAvg()\\ndef funcAvg(*numbers):\\n    result = 0\\n    for num in numbers:\\n        result += num\\n    return(result / len(numbers))\\n\\nprint(funcAvg(1,2,3,4,5))\\nprint(funcAvg(1,2,3,4,5,6,7,8,9,10))\\nprint()\\n\\n# 멀티매개값을 list, tuple로 한 개의 값으로 전달하는 법\\nprint(funcAvg((1,2,3,4,5)))', '# 2. 입력된 모든 수의 평균을 계산하는 funcAvg()함수를 작성\\n# 단, 입력매개변수의 갯수는 정해져 있지 않다.\\n# funcAvg()\\ndef funcAvg(*numbers):\\n    result = 0\\n    for num in numbers:\\n        result += num\\n    return(result / len(numbers))\\n\\nprint(funcAvg(1,2,3,4,5))\\nprint(funcAvg(1,2,3,4,5,6,7,8,9,10))\\nprint()\\n\\n# 멀티매개값을 list, tuple로 한 개의 값으로 전달하는 법\\nprint(funcAvg(*(1,2,3,4,5)))', '# 2. 입력된 모든 수의 평균을 계산하는 funcAvg()함수를 작성\\n# 단, 입력매개변수의 갯수는 정해져 있지 않다.\\n# funcAvg()\\ndef funcAvg(*numbers):\\n    result = 0\\n    for num in numbers:\\n        result += num\\n    return(result / len(numbers))\\n\\nprint(funcAvg(1,2,3,4,5))\\nprint(funcAvg(1,2,3,4,5,6,7,8,9,10))\\nprint()\\n\\n# 멀티매개값을 list, tuple로 한 개의 값으로 전달하는 법\\nprint(funcAvg(*(1,2,3,4,5)))\\nprint(funcAvg([1,2,3,4,5,6,7,8,9,10]))', '# 2. 입력된 모든 수의 평균을 계산하는 funcAvg()함수를 작성\\n# 단, 입력매개변수의 갯수는 정해져 있지 않다.\\n# funcAvg()\\ndef funcAvg(*numbers):\\n    result = 0\\n    for num in numbers:\\n        result += num\\n    return(result / len(numbers))\\n\\nprint(funcAvg(1,2,3,4,5))\\nprint(funcAvg(1,2,3,4,5,6,7,8,9,10))\\nprint()\\n\\n# 멀티매개값을 list, tuple로 한 개의 값으로 전달하는 법\\nprint(funcAvg(*(1,2,3,4,5)))\\nprint(funcAvg(*[1,2,3,4,5,6,7,8,9,10]))', \"# 3. 구구단을 출력하는 함수 gugudan()함수를 작성\\n# 입력값은 2~9단까지 한개의 임의의 단을 입력\\n# gugudan(9)\\ndef gugudan(dan):\\n    for i in range(2, 10):\\n        print(f'{dan} x {i} = {dan*i:2d}')\\n        \\ngugudan(9)\", \"# 3. 구구단을 출력하는 함수 gugudan()함수를 작성\\n# 입력값은 2~9단까지 한개의 임의의 단을 입력\\n# gugudan(9)\\ndef gugudan(dan):\\n    for i in range(2, 10):\\n        print(f'{dan} x {i} = {dan*i:2d}')\\n        \\ngugudan(9)\\nprint()\\n\\ngugudan(2)\", \"# 3. 구구단을 출력하는 함수 gugudan()함수를 작성\\n# 입력값은 2~9단까지 한개의 임의의 단을 입력\\n# gugudan(9)\\ndef gugudan(dan):\\n    for i in range(2, 10):\\n        print(f'{dan} x {i} = {dan*i:2d}')\\n        \\ngugudan(9)\\nprint()\\n\\ngugudan(2)\\nprint()\\n\\ngugudan(int(input('단을 입력하세요 => ')))\", \"# 3. 구구단을 출력하는 함수 gugudan()함수를 작성\\n# 입력값은 2~9단까지 한개의 임의의 단을 입력\\n# gugudan(9)\\ndef gugudan(dan):\\n    for i in range(2, 10):\\n        print(f'{dan} x {i} = {dan*i:2d}')\\n        \\ngugudan(9)\\nprint()\\n\\ngugudan(2)\\nprint()\\n\\ngugudan(int(input('단을 입력하세요 => ')))\", '# 4. 리스트 [2,3,4,5,6,7,8]에서 5보다 큰 수만 리턴하는 \\n# 1) funcReturn()함수작성\\ndef funcReturn(numbers):\\n    l = []\\n    for num in numbers:\\n        if num > 5:\\n            l.append(num)\\n    return l\\n\\nprint(funcAvg([2,3,4,5,6,7,8]))\\n\\n# 2) lambda식으로 작성, 이름은 funcReturnLambda', '# 4. 리스트 [2,3,4,5,6,7,8]에서 5보다 큰 수만 리턴하는 \\n# 1) funcReturn()함수작성\\ndef funcReturn(numbers):\\n    l = []\\n    for num in numbers:\\n        if num > 5:\\n            l.append(num)\\n    return l\\n\\nprint(funcReturn([2,3,4,5,6,7,8]))\\n\\n# 2) lambda식으로 작성, 이름은 funcReturnLambda', '# 4. 리스트 [2,3,4,5,6,7,8]에서 5보다 큰 수만 리턴하는 \\n# 1) funcReturn()함수작성\\ndef funcReturn(numbers):\\n    l = []\\n    for num in numbers:\\n        if num > 5:\\n            l.append(num)\\n    return l\\n\\nprint(funcReturn([2,3,4,5,6,7,8]))\\n\\n# 2) lambda식으로 작성, 이름은 funcReturnLambda\\nfuncReturnLambda = lambda numbers: [num for num in numbers if number > 5]\\nprint(funcReturnLambda([2,3,4,5,6,7,8]))', '# 4. 리스트 [2,3,4,5,6,7,8]에서 5보다 큰 수만 리턴하는 \\n# 1) funcReturn()함수작성\\ndef funcReturn(numbers):\\n    l = []\\n    for num in numbers:\\n        if num > 5:\\n            l.append(num)\\n    return l\\n\\nprint(funcReturn([2,3,4,5,6,7,8]))\\n\\n# 2) lambda식으로 작성, 이름은 funcReturnLambda\\nfuncReturnLambda = lambda numbers: [num for num in numbers if num > 5]\\nprint(funcReturnLambda([2,3,4,5,6,7,8]))', \"# 1. 변수의 사용범위\\n# 1) 전역변수(global variable)\\ndef closer():\\n    print(f'함수안에서 사용할 수 있는 전역변수 x = {x}')\\n\\ncloser()\\n\\n# 2) 지역변수(local variable)\", \"# 1. 변수의 사용범위\\n# 1) 전역변수(global variable)\\n\\nx = 100\\ndef closer():\\n    print(f'함수안에서 사용할 수 있는 전역변수 x = {x}')\\n\\ncloser()\\n\\n# 2) 지역변수(local variable)\", \"# 1. 변수의 사용범위\\n# 1) 전역변수(global variable)\\n\\nx = 100\\ndef closer1():\\n    print(f'함수안에서 사용할 수 있는 전역변수 x = {x}')\\n\\ncloser1()\", \"# 2) 지역변수(local variable)\\ndef closer2():\\n    print(f'함수안에서 사용할 수 있는 전역변수 x = {x}')\\n\\ncloser2()\", \"# 1. 변수의 사용범위\\n# 1) 전역변수(global variable)\\n\\nx = 100\\ndef closer1():\\n    print(f'함수안에서 사용할 수 있는 전역변수 x = {x}')\\n\\ncloser1()\\ndel x\", \"get_ipython().run_line_magic('whos', '')\\n# 2) 지역변수(local variable)\\n\\ndef closer2():\\n    print(f'함수안에서 사용할 수 있는 전역변수 x = {x}')\\n\\ncloser2()\", \"get_ipython().run_line_magic('whos', '')\\n# 2) 지역변수(local variable)\\n\\ndef closer2():\\n    x = '문자열 100'\\n    print(f'함수안에서 사용할 수 있는 지역변수 x = {x}')\\n\\ncloser2()\", \"# 1. 변수의 사용범위\\n# 1) 전역변수(global variable)\\n\\nx = 100\\ndef closer1():\\n    print(f'함수안에서 사용할 수 있는 전역변수 x = {x}')\\n\\ncloser1()\\n# del x\", \"get_ipython().run_line_magic('whos', '')\", \"# 2) 지역변수(local variable)\\n\\ndef closer2():\\n#     x = '문자열 100'\\n    print(f'함수안에서 사용할 수 있는 지역변수 x = {x}')\\n\\ncloser2()\", \"# 2) 지역변수(local variable)\\n\\ndef closer2():\\n    x = '문자열 100'\\n    print(f'함수안에서 사용할 수 있는 지역변수 x = {x}')\\n\\ncloser2()\", \"get_ipython().run_line_magic('whos', '')\", \"# 2) 지역변수(local variable)\\n\\ndef closer2():\\n    y = '문자열 100'\\n    print(f'함수안에서 사용할 수 있는 지역변수 y = {y}')\\n\\ncloser2()\", \"get_ipython().run_line_magic('whos', '')\", \"# 2) 지역변수(local variable)\\n\\ndef closer2():\\n    y = '문자열 100'\\n    print(f'함수안에서 사용할 수 있는 지역변수 y = {y}')\\n\\ncloser2()\\n\\nprint(y)\", \"# 2) 지역변수(local variable)\\n\\ndef closer2():\\n    y = '문자열 100'\\n    print(f'함수안에서 사용할 수 있는 지역변수 y = {y}')\\n\\ncloser2()\\n\\n# 지역변수 y은 외부에서 접근불가능\\nprint(y) # NameError: name 'y' is not defined\", \"# 2. 함수안에서 전역변수 사용(변경)하기\\nget_ipython().run_line_magic('whos', '')\", \"# 2. 함수안에서 전역변수 사용(변경)하기\\nget_ipython().run_line_magic('reset', '')\", \"# 2. 함수안에서 전역변수 사용(변경)하기\\nget_ipython().run_line_magic('reset', '-f')\", \"get_ipython().run_line_magic('whos', '')\", \"# 2. 함수안에서 전역변수 사용(변경)하기\\nget_ipython().run_line_magic('reset', '-f')\\n\\nx = 100\\nprint(f'전역변수 x의 메모리주소 = {id(x)}')\\ndef closer1():\\n    x = 200\\n    print(f'지역변수 x의 메모리주소 = {id(x)}')\\n    \\ncloser1()\", \"# 2. 함수안에서 전역변수 사용(변경)하기\\nget_ipython().run_line_magic('reset', '-f')\\n\\nx = 100\\nprint(f'전역변수 x의 메모리주소 = {id(x)}')\\ndef closer1():\\n    x = 200\\n    print(f'지역변수 x의 메모리주소 = {id(x)}')\\n    \\ncloser1()\\nget_ipython().run_line_magic('whos', '')\", \"# 1) 전역변수를 정의하는 방법(1)\\ny = 100\\nprint(f'전역변수 y의 메모리주소 = {id(y)}')\\ndef closer2():\\n    y = 200\\n    print(f'지역변수 y의 메모리주소 = {id(y)}')\\n    \\ncloser2()  \", \"# 1) 전역변수를 정의하는 방법(1)\\ny = 100\\nprint(f'전역변수 y의 메모리주소 = {id(y)}')\\ndef closer2():\\n    global y # y는 지역변수가 아니라 전역변수로 선언\\n    y = 200\\n    print(f'지역변수 y의 메모리주소 = {id(y)}')\\n    \\ncloser2()  \", \"# 2. 함수안에서 전역변수 사용(변경)하기\\nget_ipython().run_line_magic('reset', '-f')\\n\\nx = 100\\nprint(f'전역변수 x의 메모리주소 = {id(x)}')\\ndef closer1():\\n    x = 200\\n    print(f'지역변수 x의 메모리주소 = {id(x)}')\\n    \\ncloser1()\\nget_ipython().run_line_magic('whos', '')\", \"# 1) 전역변수를 정의하는 방법(1)\\ny = 100\\nprint(f'전역변수 y의 메모리주소 = {id(y)}')\\ndef closer2():\\n    global y # y는 지역변수가 아니라 전역변수로 선언\\n    y = 200\\n    print(f'지역변수 y의 메모리주소 = {id(y)}, y의 값 = {y}')\\n    \\ncloser2() \\nprint(y)\", \"# 1) 전역변수를 정의하는 방법(1)\\ny = 100\\nprint(f'전역변수 y의 메모리주소 = {id(y)}')\\ndef closer2():\\n    global y # y는 지역변수가 아니라 전역변수로 선언\\n    y = 200\\n    print(f'지역변수 y의 메모리주소 = {id(y)}, \\\\ny의 값 = {y}')\\n    \\ncloser2() \\nprint(f'y의 값 = {y}')\", \"# 1) 전역변수를 정의하는 방법(1)\\ny = 100\\nprint(f'전역변수 y의 메모리주소 = {id(y)}')\\ndef closer2():\\n    global y # y는 지역변수가 아니라 전역변수로 선언\\n    y = 200\\n    print(f'전역변수 y의 메모리주소 = {id(y)}, \\\\n지역에서의 y의 값 = {y}')\\n    \\ncloser2() \\nprint(f'전역에서의 y의 값 = {y}')\", \"# 1) 전역변수를 정의하는 방법(1)\\ny = 100\\nprint(f'전역변수 y의 메모리주소 = {id(y)}')\\nprint()\\n\\ndef closer2():\\n    global y # y는 지역변수가 아니라 전역변수로 선언\\n    y = 200\\n    print(f'전역변수 y의 메모리주소 = {id(y)}, \\\\n지역에서의 y의 값 = {y}')\\n    \\ncloser2() \\nprint(f'전역에서의 y의 값 = {y}')\", \"# 1) 전역변수를 정의하는 방법(1)\\ny = 100\\nprint(f'전역변수 y의 메모리주소 = {id(y)}')\\ndef closer2():\\n    global y # y는 지역변수가 아니라 전역변수로 선언\\n    y = 200\\n    print(f'전역변수 y의 메모리주소 = {id(y)}, \\\\n\\\\n지역에서의 y의 값 = {y}')\\n    \\ncloser2() \\nprint(f'전역에서의 y의 값 = {y}')\", \"# 1) 전역변수를 정의하는 방법(1)\\ny = 100\\nprint(f'전역변수 y의 메모리주소 = {id(y)}')\\ndef closer2():\\n    global y # y는 지역변수가 아니라 전역변수로 선언\\n    y = 200\\n    print(f'전역변수 y의 메모리주소 = {id(y)}, \\\\n\\\\n지역에서 전역변수로 선언된 y의 값 = {y}')\\n    \\ncloser2() \\nprint(f'전역에서의 y의 값 = {y}')\", \"# 1) 전역변수를 정의하는 방법(1)\\ny = 100\\nprint(f'전역변수 y의 메모리주소 = {id(y)}')\\ndef closer2():\\n    # global y # y는 지역변수가 아니라 전역변수로 선언\\n    y = 200\\n    print(f'전역변수 y의 메모리주소 = {id(y)}, \\\\n\\\\n지역에서 전역변수로 선언된 y의 값 = {y}')\\n    \\ncloser2() \\nprint(f'전역에서의 y의 값 = {y}')\", \"# 1) 전역변수를 정의하는 방법(1)\\ny = 100\\nprint(f'전역변수 y의 메모리주소 = {id(y)}')\\ndef closer2():\\n    global y # y는 지역변수가 아니라 전역변수로 선언\\n    y = 200\\n    print(f'전역변수 y의 메모리주소 = {id(y)}, \\\\n\\\\n지역에서 전역변수로 선언된 y의 값 = {y}')\\n    \\ncloser2() \\nprint(f'전역에서의 y의 값 = {y}')\", \"# 2) 전역변수를 정의하는 방법(2)\\ndef closer3():\\n    z = 300\\n    print(f'지역변수 z의 메모리주소 = {id(z)}')\\n\\ncloser3()    \", \"# 2) 전역변수를 정의하는 방법(2)\\ndef closer3():\\n    z = 300\\n    print(f'지역변수 z의 메모리주소 = {id(z)}')\\n    print(f'지역변수 z의 값 = {z}')\\n\\ncloser3()    \", \"# 2) 전역변수를 정의하는 방법(2)\\ndef closer3():\\n    z = 300\\n    print(f'지역에서선언된 z의 메모리주소 = {id(z)}')\\n    print(f'지역에서선언된 z의 값 = {z}')\\n\\ncloser3() \\n\\nprint(f'지역에서선언된 z의 값 = {z}')\", \"# 2) 전역변수를 정의하는 방법(2)\\ndef closer3():\\n    global\\n    z = 300\\n    print(f'지역에서선언된 z의 메모리주소 = {id(z)}')\\n    print(f'지역에서선언된 z의 값 = {z}')\\n\\ncloser3() \\n\\nprint(f'지역에서선언된 z의 값 = {z}')\", \"# 2) 전역변수를 정의하는 방법(2)\\ndef closer3():\\n    global z\\n    z = 300\\n    print(f'지역에서선언된 z의 메모리주소 = {id(z)}')\\n    print(f'지역에서선언된 z의 값 = {z}')\\n\\ncloser3() \\n\\nprint(f'지역에서선언된 z의 값 = {z}')\", \"# 2) 전역변수를 정의하는 방법(2)\\ndef closer3():\\n    global z = 300\\n    print(f'지역에서선언된 z의 메모리주소 = {id(z)}')\\n    print(f'지역에서선언된 z의 값 = {z}')\\n\\ncloser3() \\n\\nprint(f'지역에서선언된 z의 값 = {z}')\", \"# 2) 전역변수를 정의하는 방법(2)\\ndef closer3():\\n    global z\\n    z = 300\\n    print(f'지역에서선언된 z의 메모리주소 = {id(z)}')\\n    print(f'지역에서선언된 z의 값 = {z}')\\n\\ncloser3() \\n\\nprint(f'지역에서선언된 z의 값 = {z}')\", 'import copy', \"# 네임스페이스\\n# 파이썬에서는 변수들은 네임스페이스에 저장된다.\\n# 네임스페이스를 확인하려면 globals(), local()함수를 이용하면\\n# 현재의 Namespase를 딕셔너리형태로 출력한다.\\n# 또한, Jupyter Notebook의 매직명령어 %who, %whos, %whos_ls로도 확인 가능하다.\\nget_ipython().run_line_magic('who', '')\", \"# 네임스페이스\\n# 파이썬에서는 변수들은 네임스페이스에 저장된다.\\n# 네임스페이스를 확인하려면 globals(), local()함수를 이용하면\\n# 현재의 Namespase를 딕셔너리형태로 출력한다.\\n# 또한, Jupyter Notebook의 매직명령어 %who, %whos, %whos_ls로도 확인 가능하다.\\nget_ipython().run_line_magic('whos', '')\", \"# 네임스페이스\\n# 파이썬에서는 변수들은 네임스페이스에 저장된다.\\n# 네임스페이스를 확인하려면 globals(), local()함수를 이용하면\\n# 현재의 Namespase를 딕셔너리형태로 출력한다.\\n# 또한, Jupyter Notebook의 매직명령어 %who, %whos, %whos_ls로도 확인 가능하다.\\nget_ipython().run_line_magic('whos_ls', '')\", \"# 네임스페이스\\n# 파이썬에서는 변수들은 네임스페이스에 저장된다.\\n# 네임스페이스를 확인하려면 globals(), local()함수를 이용하면\\n# 현재의 Namespase를 딕셔너리형태로 출력한다.\\n# 또한, Jupyter Notebook의 매직명령어 %who, %whos, %whos_ls로도 확인 가능하다.\\nget_ipython().run_line_magic('who_ls', '')\", \"# 네임스페이스\\n# 파이썬에서는 변수들은 네임스페이스에 저장된다.\\n# 네임스페이스를 확인하려면 globals(), local()함수를 이용하면\\n# 현재의 Namespase를 딕셔너리형태로 출력한다.\\n# 또한, Jupyter Notebook의 매직명령어 %who, %whos, %whos_ls로도 확인 가능하다.\\nget_ipython().run_line_magic('whos', '')\", \"# 네임스페이스\\n# 파이썬에서는 변수들은 네임스페이스에 저장된다.\\n# 네임스페이스를 확인하려면 globals(), local()함수를 이용하면\\n# 현재의 Namespase를 딕셔너리형태로 출력한다.\\n# 또한, Jupyter Notebook의 매직명령어 %who, %whos, %whos_ls로도 확인 가능하다.\\nget_ipython().run_line_magic('whos', '')\\nget_ipython().run_line_magic('reset', '-f')\\n\\na = 3\\nget_ipython().run_line_magic('whos', '')\", \"# 네임스페이스\\n# 파이썬에서는 변수들은 네임스페이스에 저장된다.\\n# 네임스페이스를 확인하려면 globals(), local()함수를 이용하면\\n# 현재의 Namespase를 딕셔너리형태로 출력한다.\\n# 또한, Jupyter Notebook의 매직명령어 %who, %whos, %whos_ls로도 확인 가능하다.\\nget_ipython().run_line_magic('whos', '')\\nget_ipython().run_line_magic('reset', '-f')\\n\\na = 3\\nget_ipython().run_line_magic('whos', '')\", \"# 네임스페이스\\n# 파이썬에서는 변수들은 네임스페이스에 저장된다.\\n# 네임스페이스를 확인하려면 globals(), local()함수를 이용하면\\n# 현재의 Namespase를 딕셔너리형태로 출력한다.\\n# 또한, Jupyter Notebook의 매직명령어 %who, %whos, %whos_ls로도 확인 가능하다.\\nget_ipython().run_line_magic('reset', '-f')\\n\\na = 3\\nget_ipython().run_line_magic('whos', '')\", \"# 네임스페이스\\n# 파이썬에서는 변수들은 네임스페이스에 저장된다.\\n# 네임스페이스를 확인하려면 globals(), local()함수를 이용하면\\n# 현재의 Namespase를 딕셔너리형태로 출력한다.\\n# 또한, Jupyter Notebook의 매직명령어 %who, %whos, %whos_ls로도 확인 가능하다.\\nget_ipython().run_line_magic('reset', '-f')\\n\\na = 3\\nget_ipython().run_line_magic('whos', '')\\n\\nlocals()\", 'a = 10\\nprint(globals())', \"# 함수는 전역과는 별개의 네임스페이스를 갖는다.\\na = 200\\ndef func():\\n    a = 300\\n    b = 'python'\\n    \\nfunc()\", \"# 함수는 전역과는 별개의 네임스페이스를 갖는다.\\na = 200\\ndef func():\\n    a = 300\\n    b = 'python'\\n    \\nfunc()\\nprint(globals())\\nprint('-'*60)\\nprint(locals())\", \"# 전역에서 지역함수 yyy에 어떻게 접근할 수 있는가?\\nget_ipython().run_line_magic('rest', '-f')\\n\\na = 3\\nc = 'hello'\\n\\ndef func():\\n    a = 100\\n    b = 'python'\\n    print(f'함수 내부 지역 Namespace {locals()}')\\n    print(f'함수 내부 전역 Namespace {globals()}')\\n    \\nfunc()\\nprint(f'함수 외부에서 전역 Namespace {globals()}')\", \"# 전역에서 지역함수 yyy에 어떻게 접근할 수 있는가?\\nget_ipython().run_line_magic('reset', '-f')\\n\\na = 3\\nc = 'hello'\\n\\ndef func():\\n    a = 100\\n    b = 'python'\\n    print(f'함수 내부 지역 Namespace {locals()}')\\n    print(f'함수 내부 전역 Namespace {globals()}')\\n    \\nfunc()\\nprint(f'함수 외부에서 전역 Namespace {globals()}')\"], 'Out': {}, 'get_ipython': <bound method InteractiveShell.get_ipython of <ipykernel.zmqshell.ZMQInteractiveShell object at 0x000001DC0A0FCA50>>, 'exit': <IPython.core.autocall.ZMQExitAutocall object at 0x000001DC0A117BD0>, 'quit': <IPython.core.autocall.ZMQExitAutocall object at 0x000001DC0A117BD0>, 'open': <function open at 0x000001DC080A9620>, 'a': 3, 'c': 'hello', 'func': <function func at 0x000001DC0AAB0EA0>}\n",
      "함수 외부에서 전역 Namespace {'__name__': '__main__', '__builtin__': <module 'builtins' (built-in)>, '__builtins__': <module 'builtins' (built-in)>, '_ih': ['', \"# 1. 홀수, 짝수를 구변하는 is_odd()함수를 작성\\n# 주어진 숫자가 홀수인지 짝수인지를 구별해서\\n# '짝수입니다' or '홀수입니다'를 출력하세요\\n# 1) 일반함수 is_odd(number)\\ndef is_odd(n):\\n    if n%2 == 0:\\n        print('짝수입니다!')\\n    else:\\n        print('홀수입니다!')\\n        \\nis_odd(1)\\n# 2) lambda함수\", \"# 1. 홀수, 짝수를 구변하는 is_odd()함수를 작성\\n# 주어진 숫자가 홀수인지 짝수인지를 구별해서\\n# '짝수입니다' or '홀수입니다'를 출력하세요\\n# 1) 일반함수 is_odd(number)\\ndef is_odd(n):\\n    if n%2 == 0:\\n        print('짝수입니다!')\\n    else:\\n        print('홀수입니다!')\\n        \\nis_odd(2)\\n\\n# 2) lambda함수\", \"# 1. 홀수, 짝수를 구변하는 is_odd()함수를 작성\\n# 주어진 숫자가 홀수인지 짝수인지를 구별해서\\n# '짝수입니다' or '홀수입니다'를 출력하세요\\n# 1) 일반함수 is_odd(number)\\ndef is_odd(n):\\n    if n%2 == 0:\\n        print('짝수입니다!')\\n    else:\\n        print('홀수입니다!')\\n        \\nis_odd(2)\\n\\n# 2) lambda함수\\nis_odd_lambda = lambda n: print('짝수입니다!') if n%2==0 else print('홀수입니다!')\\nis_odd_lambda(1)\", \"# 1. 홀수, 짝수를 구변하는 is_odd()함수를 작성\\n# 주어진 숫자가 홀수인지 짝수인지를 구별해서\\n# '짝수입니다' or '홀수입니다'를 출력하세요\\n# 1) 일반함수 is_odd(number)\\ndef is_odd(n):\\n    if n%2 == 0:\\n        print('짝수입니다!')\\n    else:\\n        print('홀수입니다!')\\n        \\nis_odd(2)\\n\\n# 2) lambda함수\\nis_odd_lambda = lambda n: print('짝수입니다!') if n%2==0 else print('홀수입니다!')\\nis_odd_lambda(1)\\nis_odd_lambda(2)\", \"# 1. 홀수, 짝수를 구변하는 is_odd()함수를 작성\\n# 주어진 숫자가 홀수인지 짝수인지를 구별해서\\n# '짝수입니다' or '홀수입니다'를 출력하세요\\n# 1) 일반함수 is_odd(number)\\ndef is_odd(n):\\n    if n%2 == 0:\\n        print('짝수입니다!')\\n    else:\\n        print('홀수입니다!')\\n        \\nis_odd(2)\\nis_odd(1)\\nprint()\\n\\n# 2) lambda함수\\nis_odd_lambda = lambda n: print('짝수입니다!') if n%2==0 else print('홀수입니다!')\\nis_odd_lambda(1)\\nis_odd_lambda(2)\", \"# 1. 홀수, 짝수를 구변하는 is_odd()함수를 작성\\n# 주어진 숫자가 홀수인지 짝수인지를 구별해서\\n# '짝수입니다' or '홀수입니다'를 출력하세요\\n# 1) 일반함수 is_odd(number)\\ndef is_odd(n):\\n    if n%2 == 0:\\n        print('짝수입니다!')\\n    else:\\n        print('홀수입니다!')\\n        \\nis_odd(2)\\nis_odd(1)\\nprint()\\n\\n# 2) lambda함수\\nis_odd_lambda1 = lambda n: print('짝수입니다!') if n%2==0 else print('홀수입니다!')\\nis_odd_lambda1(1)\\nis_odd_lambda1(2)\\n\\nis_odd_lambda2 = lambda n: '짝수입니다!' if n%2==0 else '홀수입니다!'\\nis_odd_lambda2(1)\\nis_odd_lambda2(2)\", \"# 1. 홀수, 짝수를 구변하는 is_odd()함수를 작성\\n# 주어진 숫자가 홀수인지 짝수인지를 구별해서\\n# '짝수입니다' or '홀수입니다'를 출력하세요\\n# 1) 일반함수 is_odd(number)\\ndef is_odd(n):\\n    if n%2 == 0:\\n        print('짝수입니다!')\\n    else:\\n        print('홀수입니다!')\\n        \\nis_odd(2)\\nis_odd(1)\\nprint()\\n\\n# 2) lambda함수\\nis_odd_lambda1 = lambda n: print('짝수입니다!') if n%2==0 else print('홀수입니다!')\\nis_odd_lambda1(1)\\nis_odd_lambda1(2)\\n\\nis_odd_lambda2 = lambda n: '짝수입니다!' if n%2==0 else '홀수입니다!'\\nprint(is_odd_lambda2(1))\\nprint(is_odd_lambda2(2))\", \"# 1. 홀수, 짝수를 구변하는 is_odd()함수를 작성\\n# 주어진 숫자가 홀수인지 짝수인지를 구별해서\\n# '짝수입니다' or '홀수입니다'를 출력하세요\\n# 1) 일반함수 is_odd(number)\\ndef is_odd(n):\\n    if n%2 == 0:\\n        print('짝수입니다!')\\n    else:\\n        print('홀수입니다!')\\n        \\nis_odd(2)\\nis_odd(1)\\nprint()\\n\\n# 2) lambda함수\\nis_odd_lambda1 = lambda n: print('짝수입니다!') if n%2==0 else print('홀수입니다!')\\nis_odd_lambda1(1)\\nis_odd_lambda1(2)\\nprint()\\n\\nis_odd_lambda2 = lambda n: '짝수입니다!' if n%2==0 else '홀수입니다!'\\nprint(is_odd_lambda2(1))\\nprint(is_odd_lambda2(2))\", \"# 1. 홀수, 짝수를 구변하는 is_odd()함수를 작성\\n# 주어진 숫자가 홀수인지 짝수인지를 구별해서\\n# '짝수입니다' or '홀수입니다'를 출력하세요\\n# 1) 일반함수 is_odd(number)\\ndef is_odd(n):\\n    if n%2 == 0:\\n        print('짝수입니다!')\\n    else:\\n        print('홀수입니다!')\\n        \\nis_odd(2)\\nis_odd(1)\\nprint()\\n\\n# 2) lambda함수 - return이 없는 경우\\nis_odd_lambda1 = lambda n: print('짝수입니다!') if n%2==0 else print('홀수입니다!')\\nis_odd_lambda1(1)\\nis_odd_lambda1(2)\\nprint()\\n\\n# 3) lambda함수 - return이 생략된 경우\\nis_odd_lambda2 = lambda n: '짝수입니다!' if n%2==0 else '홀수입니다!'\\nprint(is_odd_lambda2(1))\\nprint(is_odd_lambda2(2))\\n\\nresult = is_odd_lambda2(1)\\nprint(result)\", \"# 1. 홀수, 짝수를 구변하는 is_odd()함수를 작성\\n# 주어진 숫자가 홀수인지 짝수인지를 구별해서\\n# '짝수입니다' or '홀수입니다'를 출력하세요\\n# 1) 일반함수 is_odd(number)\\ndef is_odd(n):\\n    if n%2 == 0:\\n        print('짝수입니다!')\\n    else:\\n        print('홀수입니다!')\\n        \\nis_odd(2)\\nis_odd(1)\\nprint()\\n\\n# 2) lambda함수 - return이 없는 경우\\nis_odd_lambda1 = lambda n: print('짝수입니다!') if n%2==0 else print('홀수입니다!')\\nis_odd_lambda1(1)\\nis_odd_lambda1(2)\\nprint()\\n\\n# 3) lambda함수 - return이 생략된 경우\\nis_odd_lambda2 = lambda xxx: '짝수입니다!' if xxx%2==0 else '홀수입니다!'\\nprint(is_odd_lambda2(1))\\nprint(is_odd_lambda2(2))\\nprint()\\n\\nresult = is_odd_lambda2(1)\\nprint(result)\", '# 2. 입력된 모든 수의 평균을 계산하는 funcAvg()함수를 작성\\n# 단, 입력매개변수의 갯수는 정해져 있지 않다.\\n# funcAvg()\\ndef funcAvg():\\n    pass\\n\\nfuncAvg()', '# 2. 입력된 모든 수의 평균을 계산하는 funcAvg()함수를 작성\\n# 단, 입력매개변수의 갯수는 정해져 있지 않다.\\n# funcAvg()\\ndef funcAvg(*numbers):\\n    result = 0\\n    for num in numbers:\\n        result += num\\n    return(result / len(numbers))\\n\\nprint(funcAvg(1,2,3,4,5))', '# 2. 입력된 모든 수의 평균을 계산하는 funcAvg()함수를 작성\\n# 단, 입력매개변수의 갯수는 정해져 있지 않다.\\n# funcAvg()\\ndef funcAvg(*numbers):\\n    result = 0\\n    for num in numbers:\\n        result += num\\n    return(result / len(numbers))\\n\\nprint(funcAvg(1,2,3,4,5))\\nprint(funcAvg(1,2,3,4,5,6,7,8,9,10))', '# 2. 입력된 모든 수의 평균을 계산하는 funcAvg()함수를 작성\\n# 단, 입력매개변수의 갯수는 정해져 있지 않다.\\n# funcAvg()\\ndef funcAvg(*numbers):\\n    result = 0\\n    for num in numbers:\\n        result += num\\n    return(result / len(numbers))\\n\\nprint(funcAvg(1,2,3,4,5))\\nprint(funcAvg(1,2,3,4,5,6,7,8,9,10))\\nprint()\\n\\n# 멀티매개값을 list, tuple로 한 개의 값으로 전달하는 법\\nprint(funcAvg([1,2,3,4,5]))', '# 2. 입력된 모든 수의 평균을 계산하는 funcAvg()함수를 작성\\n# 단, 입력매개변수의 갯수는 정해져 있지 않다.\\n# funcAvg()\\ndef funcAvg(*numbers):\\n    result = 0\\n    for num in numbers:\\n        result += num\\n    return(result / len(numbers))\\n\\nprint(funcAvg(1,2,3,4,5))\\nprint(funcAvg(1,2,3,4,5,6,7,8,9,10))\\nprint()\\n\\n# 멀티매개값을 list, tuple로 한 개의 값으로 전달하는 법\\nprint(funcAvg((1,2,3,4,5))', '# 2. 입력된 모든 수의 평균을 계산하는 funcAvg()함수를 작성\\n# 단, 입력매개변수의 갯수는 정해져 있지 않다.\\n# funcAvg()\\ndef funcAvg(*numbers):\\n    result = 0\\n    for num in numbers:\\n        result += num\\n    return(result / len(numbers))\\n\\nprint(funcAvg(1,2,3,4,5))\\nprint(funcAvg(1,2,3,4,5,6,7,8,9,10))\\nprint()\\n\\n# 멀티매개값을 list, tuple로 한 개의 값으로 전달하는 법\\nprint(funcAvg((1,2,3,4,5)))', '# 2. 입력된 모든 수의 평균을 계산하는 funcAvg()함수를 작성\\n# 단, 입력매개변수의 갯수는 정해져 있지 않다.\\n# funcAvg()\\ndef funcAvg(*numbers):\\n    result = 0\\n    for num in numbers:\\n        result += num\\n    return(result / len(numbers))\\n\\nprint(funcAvg(1,2,3,4,5))\\nprint(funcAvg(1,2,3,4,5,6,7,8,9,10))\\nprint()\\n\\n# 멀티매개값을 list, tuple로 한 개의 값으로 전달하는 법\\nprint(funcAvg(*(1,2,3,4,5)))', '# 2. 입력된 모든 수의 평균을 계산하는 funcAvg()함수를 작성\\n# 단, 입력매개변수의 갯수는 정해져 있지 않다.\\n# funcAvg()\\ndef funcAvg(*numbers):\\n    result = 0\\n    for num in numbers:\\n        result += num\\n    return(result / len(numbers))\\n\\nprint(funcAvg(1,2,3,4,5))\\nprint(funcAvg(1,2,3,4,5,6,7,8,9,10))\\nprint()\\n\\n# 멀티매개값을 list, tuple로 한 개의 값으로 전달하는 법\\nprint(funcAvg(*(1,2,3,4,5)))\\nprint(funcAvg([1,2,3,4,5,6,7,8,9,10]))', '# 2. 입력된 모든 수의 평균을 계산하는 funcAvg()함수를 작성\\n# 단, 입력매개변수의 갯수는 정해져 있지 않다.\\n# funcAvg()\\ndef funcAvg(*numbers):\\n    result = 0\\n    for num in numbers:\\n        result += num\\n    return(result / len(numbers))\\n\\nprint(funcAvg(1,2,3,4,5))\\nprint(funcAvg(1,2,3,4,5,6,7,8,9,10))\\nprint()\\n\\n# 멀티매개값을 list, tuple로 한 개의 값으로 전달하는 법\\nprint(funcAvg(*(1,2,3,4,5)))\\nprint(funcAvg(*[1,2,3,4,5,6,7,8,9,10]))', \"# 3. 구구단을 출력하는 함수 gugudan()함수를 작성\\n# 입력값은 2~9단까지 한개의 임의의 단을 입력\\n# gugudan(9)\\ndef gugudan(dan):\\n    for i in range(2, 10):\\n        print(f'{dan} x {i} = {dan*i:2d}')\\n        \\ngugudan(9)\", \"# 3. 구구단을 출력하는 함수 gugudan()함수를 작성\\n# 입력값은 2~9단까지 한개의 임의의 단을 입력\\n# gugudan(9)\\ndef gugudan(dan):\\n    for i in range(2, 10):\\n        print(f'{dan} x {i} = {dan*i:2d}')\\n        \\ngugudan(9)\\nprint()\\n\\ngugudan(2)\", \"# 3. 구구단을 출력하는 함수 gugudan()함수를 작성\\n# 입력값은 2~9단까지 한개의 임의의 단을 입력\\n# gugudan(9)\\ndef gugudan(dan):\\n    for i in range(2, 10):\\n        print(f'{dan} x {i} = {dan*i:2d}')\\n        \\ngugudan(9)\\nprint()\\n\\ngugudan(2)\\nprint()\\n\\ngugudan(int(input('단을 입력하세요 => ')))\", \"# 3. 구구단을 출력하는 함수 gugudan()함수를 작성\\n# 입력값은 2~9단까지 한개의 임의의 단을 입력\\n# gugudan(9)\\ndef gugudan(dan):\\n    for i in range(2, 10):\\n        print(f'{dan} x {i} = {dan*i:2d}')\\n        \\ngugudan(9)\\nprint()\\n\\ngugudan(2)\\nprint()\\n\\ngugudan(int(input('단을 입력하세요 => ')))\", '# 4. 리스트 [2,3,4,5,6,7,8]에서 5보다 큰 수만 리턴하는 \\n# 1) funcReturn()함수작성\\ndef funcReturn(numbers):\\n    l = []\\n    for num in numbers:\\n        if num > 5:\\n            l.append(num)\\n    return l\\n\\nprint(funcAvg([2,3,4,5,6,7,8]))\\n\\n# 2) lambda식으로 작성, 이름은 funcReturnLambda', '# 4. 리스트 [2,3,4,5,6,7,8]에서 5보다 큰 수만 리턴하는 \\n# 1) funcReturn()함수작성\\ndef funcReturn(numbers):\\n    l = []\\n    for num in numbers:\\n        if num > 5:\\n            l.append(num)\\n    return l\\n\\nprint(funcReturn([2,3,4,5,6,7,8]))\\n\\n# 2) lambda식으로 작성, 이름은 funcReturnLambda', '# 4. 리스트 [2,3,4,5,6,7,8]에서 5보다 큰 수만 리턴하는 \\n# 1) funcReturn()함수작성\\ndef funcReturn(numbers):\\n    l = []\\n    for num in numbers:\\n        if num > 5:\\n            l.append(num)\\n    return l\\n\\nprint(funcReturn([2,3,4,5,6,7,8]))\\n\\n# 2) lambda식으로 작성, 이름은 funcReturnLambda\\nfuncReturnLambda = lambda numbers: [num for num in numbers if number > 5]\\nprint(funcReturnLambda([2,3,4,5,6,7,8]))', '# 4. 리스트 [2,3,4,5,6,7,8]에서 5보다 큰 수만 리턴하는 \\n# 1) funcReturn()함수작성\\ndef funcReturn(numbers):\\n    l = []\\n    for num in numbers:\\n        if num > 5:\\n            l.append(num)\\n    return l\\n\\nprint(funcReturn([2,3,4,5,6,7,8]))\\n\\n# 2) lambda식으로 작성, 이름은 funcReturnLambda\\nfuncReturnLambda = lambda numbers: [num for num in numbers if num > 5]\\nprint(funcReturnLambda([2,3,4,5,6,7,8]))', \"# 1. 변수의 사용범위\\n# 1) 전역변수(global variable)\\ndef closer():\\n    print(f'함수안에서 사용할 수 있는 전역변수 x = {x}')\\n\\ncloser()\\n\\n# 2) 지역변수(local variable)\", \"# 1. 변수의 사용범위\\n# 1) 전역변수(global variable)\\n\\nx = 100\\ndef closer():\\n    print(f'함수안에서 사용할 수 있는 전역변수 x = {x}')\\n\\ncloser()\\n\\n# 2) 지역변수(local variable)\", \"# 1. 변수의 사용범위\\n# 1) 전역변수(global variable)\\n\\nx = 100\\ndef closer1():\\n    print(f'함수안에서 사용할 수 있는 전역변수 x = {x}')\\n\\ncloser1()\", \"# 2) 지역변수(local variable)\\ndef closer2():\\n    print(f'함수안에서 사용할 수 있는 전역변수 x = {x}')\\n\\ncloser2()\", \"# 1. 변수의 사용범위\\n# 1) 전역변수(global variable)\\n\\nx = 100\\ndef closer1():\\n    print(f'함수안에서 사용할 수 있는 전역변수 x = {x}')\\n\\ncloser1()\\ndel x\", \"get_ipython().run_line_magic('whos', '')\\n# 2) 지역변수(local variable)\\n\\ndef closer2():\\n    print(f'함수안에서 사용할 수 있는 전역변수 x = {x}')\\n\\ncloser2()\", \"get_ipython().run_line_magic('whos', '')\\n# 2) 지역변수(local variable)\\n\\ndef closer2():\\n    x = '문자열 100'\\n    print(f'함수안에서 사용할 수 있는 지역변수 x = {x}')\\n\\ncloser2()\", \"# 1. 변수의 사용범위\\n# 1) 전역변수(global variable)\\n\\nx = 100\\ndef closer1():\\n    print(f'함수안에서 사용할 수 있는 전역변수 x = {x}')\\n\\ncloser1()\\n# del x\", \"get_ipython().run_line_magic('whos', '')\", \"# 2) 지역변수(local variable)\\n\\ndef closer2():\\n#     x = '문자열 100'\\n    print(f'함수안에서 사용할 수 있는 지역변수 x = {x}')\\n\\ncloser2()\", \"# 2) 지역변수(local variable)\\n\\ndef closer2():\\n    x = '문자열 100'\\n    print(f'함수안에서 사용할 수 있는 지역변수 x = {x}')\\n\\ncloser2()\", \"get_ipython().run_line_magic('whos', '')\", \"# 2) 지역변수(local variable)\\n\\ndef closer2():\\n    y = '문자열 100'\\n    print(f'함수안에서 사용할 수 있는 지역변수 y = {y}')\\n\\ncloser2()\", \"get_ipython().run_line_magic('whos', '')\", \"# 2) 지역변수(local variable)\\n\\ndef closer2():\\n    y = '문자열 100'\\n    print(f'함수안에서 사용할 수 있는 지역변수 y = {y}')\\n\\ncloser2()\\n\\nprint(y)\", \"# 2) 지역변수(local variable)\\n\\ndef closer2():\\n    y = '문자열 100'\\n    print(f'함수안에서 사용할 수 있는 지역변수 y = {y}')\\n\\ncloser2()\\n\\n# 지역변수 y은 외부에서 접근불가능\\nprint(y) # NameError: name 'y' is not defined\", \"# 2. 함수안에서 전역변수 사용(변경)하기\\nget_ipython().run_line_magic('whos', '')\", \"# 2. 함수안에서 전역변수 사용(변경)하기\\nget_ipython().run_line_magic('reset', '')\", \"# 2. 함수안에서 전역변수 사용(변경)하기\\nget_ipython().run_line_magic('reset', '-f')\", \"get_ipython().run_line_magic('whos', '')\", \"# 2. 함수안에서 전역변수 사용(변경)하기\\nget_ipython().run_line_magic('reset', '-f')\\n\\nx = 100\\nprint(f'전역변수 x의 메모리주소 = {id(x)}')\\ndef closer1():\\n    x = 200\\n    print(f'지역변수 x의 메모리주소 = {id(x)}')\\n    \\ncloser1()\", \"# 2. 함수안에서 전역변수 사용(변경)하기\\nget_ipython().run_line_magic('reset', '-f')\\n\\nx = 100\\nprint(f'전역변수 x의 메모리주소 = {id(x)}')\\ndef closer1():\\n    x = 200\\n    print(f'지역변수 x의 메모리주소 = {id(x)}')\\n    \\ncloser1()\\nget_ipython().run_line_magic('whos', '')\", \"# 1) 전역변수를 정의하는 방법(1)\\ny = 100\\nprint(f'전역변수 y의 메모리주소 = {id(y)}')\\ndef closer2():\\n    y = 200\\n    print(f'지역변수 y의 메모리주소 = {id(y)}')\\n    \\ncloser2()  \", \"# 1) 전역변수를 정의하는 방법(1)\\ny = 100\\nprint(f'전역변수 y의 메모리주소 = {id(y)}')\\ndef closer2():\\n    global y # y는 지역변수가 아니라 전역변수로 선언\\n    y = 200\\n    print(f'지역변수 y의 메모리주소 = {id(y)}')\\n    \\ncloser2()  \", \"# 2. 함수안에서 전역변수 사용(변경)하기\\nget_ipython().run_line_magic('reset', '-f')\\n\\nx = 100\\nprint(f'전역변수 x의 메모리주소 = {id(x)}')\\ndef closer1():\\n    x = 200\\n    print(f'지역변수 x의 메모리주소 = {id(x)}')\\n    \\ncloser1()\\nget_ipython().run_line_magic('whos', '')\", \"# 1) 전역변수를 정의하는 방법(1)\\ny = 100\\nprint(f'전역변수 y의 메모리주소 = {id(y)}')\\ndef closer2():\\n    global y # y는 지역변수가 아니라 전역변수로 선언\\n    y = 200\\n    print(f'지역변수 y의 메모리주소 = {id(y)}, y의 값 = {y}')\\n    \\ncloser2() \\nprint(y)\", \"# 1) 전역변수를 정의하는 방법(1)\\ny = 100\\nprint(f'전역변수 y의 메모리주소 = {id(y)}')\\ndef closer2():\\n    global y # y는 지역변수가 아니라 전역변수로 선언\\n    y = 200\\n    print(f'지역변수 y의 메모리주소 = {id(y)}, \\\\ny의 값 = {y}')\\n    \\ncloser2() \\nprint(f'y의 값 = {y}')\", \"# 1) 전역변수를 정의하는 방법(1)\\ny = 100\\nprint(f'전역변수 y의 메모리주소 = {id(y)}')\\ndef closer2():\\n    global y # y는 지역변수가 아니라 전역변수로 선언\\n    y = 200\\n    print(f'전역변수 y의 메모리주소 = {id(y)}, \\\\n지역에서의 y의 값 = {y}')\\n    \\ncloser2() \\nprint(f'전역에서의 y의 값 = {y}')\", \"# 1) 전역변수를 정의하는 방법(1)\\ny = 100\\nprint(f'전역변수 y의 메모리주소 = {id(y)}')\\nprint()\\n\\ndef closer2():\\n    global y # y는 지역변수가 아니라 전역변수로 선언\\n    y = 200\\n    print(f'전역변수 y의 메모리주소 = {id(y)}, \\\\n지역에서의 y의 값 = {y}')\\n    \\ncloser2() \\nprint(f'전역에서의 y의 값 = {y}')\", \"# 1) 전역변수를 정의하는 방법(1)\\ny = 100\\nprint(f'전역변수 y의 메모리주소 = {id(y)}')\\ndef closer2():\\n    global y # y는 지역변수가 아니라 전역변수로 선언\\n    y = 200\\n    print(f'전역변수 y의 메모리주소 = {id(y)}, \\\\n\\\\n지역에서의 y의 값 = {y}')\\n    \\ncloser2() \\nprint(f'전역에서의 y의 값 = {y}')\", \"# 1) 전역변수를 정의하는 방법(1)\\ny = 100\\nprint(f'전역변수 y의 메모리주소 = {id(y)}')\\ndef closer2():\\n    global y # y는 지역변수가 아니라 전역변수로 선언\\n    y = 200\\n    print(f'전역변수 y의 메모리주소 = {id(y)}, \\\\n\\\\n지역에서 전역변수로 선언된 y의 값 = {y}')\\n    \\ncloser2() \\nprint(f'전역에서의 y의 값 = {y}')\", \"# 1) 전역변수를 정의하는 방법(1)\\ny = 100\\nprint(f'전역변수 y의 메모리주소 = {id(y)}')\\ndef closer2():\\n    # global y # y는 지역변수가 아니라 전역변수로 선언\\n    y = 200\\n    print(f'전역변수 y의 메모리주소 = {id(y)}, \\\\n\\\\n지역에서 전역변수로 선언된 y의 값 = {y}')\\n    \\ncloser2() \\nprint(f'전역에서의 y의 값 = {y}')\", \"# 1) 전역변수를 정의하는 방법(1)\\ny = 100\\nprint(f'전역변수 y의 메모리주소 = {id(y)}')\\ndef closer2():\\n    global y # y는 지역변수가 아니라 전역변수로 선언\\n    y = 200\\n    print(f'전역변수 y의 메모리주소 = {id(y)}, \\\\n\\\\n지역에서 전역변수로 선언된 y의 값 = {y}')\\n    \\ncloser2() \\nprint(f'전역에서의 y의 값 = {y}')\", \"# 2) 전역변수를 정의하는 방법(2)\\ndef closer3():\\n    z = 300\\n    print(f'지역변수 z의 메모리주소 = {id(z)}')\\n\\ncloser3()    \", \"# 2) 전역변수를 정의하는 방법(2)\\ndef closer3():\\n    z = 300\\n    print(f'지역변수 z의 메모리주소 = {id(z)}')\\n    print(f'지역변수 z의 값 = {z}')\\n\\ncloser3()    \", \"# 2) 전역변수를 정의하는 방법(2)\\ndef closer3():\\n    z = 300\\n    print(f'지역에서선언된 z의 메모리주소 = {id(z)}')\\n    print(f'지역에서선언된 z의 값 = {z}')\\n\\ncloser3() \\n\\nprint(f'지역에서선언된 z의 값 = {z}')\", \"# 2) 전역변수를 정의하는 방법(2)\\ndef closer3():\\n    global\\n    z = 300\\n    print(f'지역에서선언된 z의 메모리주소 = {id(z)}')\\n    print(f'지역에서선언된 z의 값 = {z}')\\n\\ncloser3() \\n\\nprint(f'지역에서선언된 z의 값 = {z}')\", \"# 2) 전역변수를 정의하는 방법(2)\\ndef closer3():\\n    global z\\n    z = 300\\n    print(f'지역에서선언된 z의 메모리주소 = {id(z)}')\\n    print(f'지역에서선언된 z의 값 = {z}')\\n\\ncloser3() \\n\\nprint(f'지역에서선언된 z의 값 = {z}')\", \"# 2) 전역변수를 정의하는 방법(2)\\ndef closer3():\\n    global z = 300\\n    print(f'지역에서선언된 z의 메모리주소 = {id(z)}')\\n    print(f'지역에서선언된 z의 값 = {z}')\\n\\ncloser3() \\n\\nprint(f'지역에서선언된 z의 값 = {z}')\", \"# 2) 전역변수를 정의하는 방법(2)\\ndef closer3():\\n    global z\\n    z = 300\\n    print(f'지역에서선언된 z의 메모리주소 = {id(z)}')\\n    print(f'지역에서선언된 z의 값 = {z}')\\n\\ncloser3() \\n\\nprint(f'지역에서선언된 z의 값 = {z}')\", 'import copy', \"# 네임스페이스\\n# 파이썬에서는 변수들은 네임스페이스에 저장된다.\\n# 네임스페이스를 확인하려면 globals(), local()함수를 이용하면\\n# 현재의 Namespase를 딕셔너리형태로 출력한다.\\n# 또한, Jupyter Notebook의 매직명령어 %who, %whos, %whos_ls로도 확인 가능하다.\\nget_ipython().run_line_magic('who', '')\", \"# 네임스페이스\\n# 파이썬에서는 변수들은 네임스페이스에 저장된다.\\n# 네임스페이스를 확인하려면 globals(), local()함수를 이용하면\\n# 현재의 Namespase를 딕셔너리형태로 출력한다.\\n# 또한, Jupyter Notebook의 매직명령어 %who, %whos, %whos_ls로도 확인 가능하다.\\nget_ipython().run_line_magic('whos', '')\", \"# 네임스페이스\\n# 파이썬에서는 변수들은 네임스페이스에 저장된다.\\n# 네임스페이스를 확인하려면 globals(), local()함수를 이용하면\\n# 현재의 Namespase를 딕셔너리형태로 출력한다.\\n# 또한, Jupyter Notebook의 매직명령어 %who, %whos, %whos_ls로도 확인 가능하다.\\nget_ipython().run_line_magic('whos_ls', '')\", \"# 네임스페이스\\n# 파이썬에서는 변수들은 네임스페이스에 저장된다.\\n# 네임스페이스를 확인하려면 globals(), local()함수를 이용하면\\n# 현재의 Namespase를 딕셔너리형태로 출력한다.\\n# 또한, Jupyter Notebook의 매직명령어 %who, %whos, %whos_ls로도 확인 가능하다.\\nget_ipython().run_line_magic('who_ls', '')\", \"# 네임스페이스\\n# 파이썬에서는 변수들은 네임스페이스에 저장된다.\\n# 네임스페이스를 확인하려면 globals(), local()함수를 이용하면\\n# 현재의 Namespase를 딕셔너리형태로 출력한다.\\n# 또한, Jupyter Notebook의 매직명령어 %who, %whos, %whos_ls로도 확인 가능하다.\\nget_ipython().run_line_magic('whos', '')\", \"# 네임스페이스\\n# 파이썬에서는 변수들은 네임스페이스에 저장된다.\\n# 네임스페이스를 확인하려면 globals(), local()함수를 이용하면\\n# 현재의 Namespase를 딕셔너리형태로 출력한다.\\n# 또한, Jupyter Notebook의 매직명령어 %who, %whos, %whos_ls로도 확인 가능하다.\\nget_ipython().run_line_magic('whos', '')\\nget_ipython().run_line_magic('reset', '-f')\\n\\na = 3\\nget_ipython().run_line_magic('whos', '')\", \"# 네임스페이스\\n# 파이썬에서는 변수들은 네임스페이스에 저장된다.\\n# 네임스페이스를 확인하려면 globals(), local()함수를 이용하면\\n# 현재의 Namespase를 딕셔너리형태로 출력한다.\\n# 또한, Jupyter Notebook의 매직명령어 %who, %whos, %whos_ls로도 확인 가능하다.\\nget_ipython().run_line_magic('whos', '')\\nget_ipython().run_line_magic('reset', '-f')\\n\\na = 3\\nget_ipython().run_line_magic('whos', '')\", \"# 네임스페이스\\n# 파이썬에서는 변수들은 네임스페이스에 저장된다.\\n# 네임스페이스를 확인하려면 globals(), local()함수를 이용하면\\n# 현재의 Namespase를 딕셔너리형태로 출력한다.\\n# 또한, Jupyter Notebook의 매직명령어 %who, %whos, %whos_ls로도 확인 가능하다.\\nget_ipython().run_line_magic('reset', '-f')\\n\\na = 3\\nget_ipython().run_line_magic('whos', '')\", \"# 네임스페이스\\n# 파이썬에서는 변수들은 네임스페이스에 저장된다.\\n# 네임스페이스를 확인하려면 globals(), local()함수를 이용하면\\n# 현재의 Namespase를 딕셔너리형태로 출력한다.\\n# 또한, Jupyter Notebook의 매직명령어 %who, %whos, %whos_ls로도 확인 가능하다.\\nget_ipython().run_line_magic('reset', '-f')\\n\\na = 3\\nget_ipython().run_line_magic('whos', '')\\n\\nlocals()\", 'a = 10\\nprint(globals())', \"# 함수는 전역과는 별개의 네임스페이스를 갖는다.\\na = 200\\ndef func():\\n    a = 300\\n    b = 'python'\\n    \\nfunc()\", \"# 함수는 전역과는 별개의 네임스페이스를 갖는다.\\na = 200\\ndef func():\\n    a = 300\\n    b = 'python'\\n    \\nfunc()\\nprint(globals())\\nprint('-'*60)\\nprint(locals())\", \"# 전역에서 지역함수 yyy에 어떻게 접근할 수 있는가?\\nget_ipython().run_line_magic('rest', '-f')\\n\\na = 3\\nc = 'hello'\\n\\ndef func():\\n    a = 100\\n    b = 'python'\\n    print(f'함수 내부 지역 Namespace {locals()}')\\n    print(f'함수 내부 전역 Namespace {globals()}')\\n    \\nfunc()\\nprint(f'함수 외부에서 전역 Namespace {globals()}')\", \"# 전역에서 지역함수 yyy에 어떻게 접근할 수 있는가?\\nget_ipython().run_line_magic('reset', '-f')\\n\\na = 3\\nc = 'hello'\\n\\ndef func():\\n    a = 100\\n    b = 'python'\\n    print(f'함수 내부 지역 Namespace {locals()}')\\n    print(f'함수 내부 전역 Namespace {globals()}')\\n    \\nfunc()\\nprint(f'함수 외부에서 전역 Namespace {globals()}')\"], '_oh': {}, '_dh': [WindowsPath('d:/lec/04.python')], 'In': ['', \"# 1. 홀수, 짝수를 구변하는 is_odd()함수를 작성\\n# 주어진 숫자가 홀수인지 짝수인지를 구별해서\\n# '짝수입니다' or '홀수입니다'를 출력하세요\\n# 1) 일반함수 is_odd(number)\\ndef is_odd(n):\\n    if n%2 == 0:\\n        print('짝수입니다!')\\n    else:\\n        print('홀수입니다!')\\n        \\nis_odd(1)\\n# 2) lambda함수\", \"# 1. 홀수, 짝수를 구변하는 is_odd()함수를 작성\\n# 주어진 숫자가 홀수인지 짝수인지를 구별해서\\n# '짝수입니다' or '홀수입니다'를 출력하세요\\n# 1) 일반함수 is_odd(number)\\ndef is_odd(n):\\n    if n%2 == 0:\\n        print('짝수입니다!')\\n    else:\\n        print('홀수입니다!')\\n        \\nis_odd(2)\\n\\n# 2) lambda함수\", \"# 1. 홀수, 짝수를 구변하는 is_odd()함수를 작성\\n# 주어진 숫자가 홀수인지 짝수인지를 구별해서\\n# '짝수입니다' or '홀수입니다'를 출력하세요\\n# 1) 일반함수 is_odd(number)\\ndef is_odd(n):\\n    if n%2 == 0:\\n        print('짝수입니다!')\\n    else:\\n        print('홀수입니다!')\\n        \\nis_odd(2)\\n\\n# 2) lambda함수\\nis_odd_lambda = lambda n: print('짝수입니다!') if n%2==0 else print('홀수입니다!')\\nis_odd_lambda(1)\", \"# 1. 홀수, 짝수를 구변하는 is_odd()함수를 작성\\n# 주어진 숫자가 홀수인지 짝수인지를 구별해서\\n# '짝수입니다' or '홀수입니다'를 출력하세요\\n# 1) 일반함수 is_odd(number)\\ndef is_odd(n):\\n    if n%2 == 0:\\n        print('짝수입니다!')\\n    else:\\n        print('홀수입니다!')\\n        \\nis_odd(2)\\n\\n# 2) lambda함수\\nis_odd_lambda = lambda n: print('짝수입니다!') if n%2==0 else print('홀수입니다!')\\nis_odd_lambda(1)\\nis_odd_lambda(2)\", \"# 1. 홀수, 짝수를 구변하는 is_odd()함수를 작성\\n# 주어진 숫자가 홀수인지 짝수인지를 구별해서\\n# '짝수입니다' or '홀수입니다'를 출력하세요\\n# 1) 일반함수 is_odd(number)\\ndef is_odd(n):\\n    if n%2 == 0:\\n        print('짝수입니다!')\\n    else:\\n        print('홀수입니다!')\\n        \\nis_odd(2)\\nis_odd(1)\\nprint()\\n\\n# 2) lambda함수\\nis_odd_lambda = lambda n: print('짝수입니다!') if n%2==0 else print('홀수입니다!')\\nis_odd_lambda(1)\\nis_odd_lambda(2)\", \"# 1. 홀수, 짝수를 구변하는 is_odd()함수를 작성\\n# 주어진 숫자가 홀수인지 짝수인지를 구별해서\\n# '짝수입니다' or '홀수입니다'를 출력하세요\\n# 1) 일반함수 is_odd(number)\\ndef is_odd(n):\\n    if n%2 == 0:\\n        print('짝수입니다!')\\n    else:\\n        print('홀수입니다!')\\n        \\nis_odd(2)\\nis_odd(1)\\nprint()\\n\\n# 2) lambda함수\\nis_odd_lambda1 = lambda n: print('짝수입니다!') if n%2==0 else print('홀수입니다!')\\nis_odd_lambda1(1)\\nis_odd_lambda1(2)\\n\\nis_odd_lambda2 = lambda n: '짝수입니다!' if n%2==0 else '홀수입니다!'\\nis_odd_lambda2(1)\\nis_odd_lambda2(2)\", \"# 1. 홀수, 짝수를 구변하는 is_odd()함수를 작성\\n# 주어진 숫자가 홀수인지 짝수인지를 구별해서\\n# '짝수입니다' or '홀수입니다'를 출력하세요\\n# 1) 일반함수 is_odd(number)\\ndef is_odd(n):\\n    if n%2 == 0:\\n        print('짝수입니다!')\\n    else:\\n        print('홀수입니다!')\\n        \\nis_odd(2)\\nis_odd(1)\\nprint()\\n\\n# 2) lambda함수\\nis_odd_lambda1 = lambda n: print('짝수입니다!') if n%2==0 else print('홀수입니다!')\\nis_odd_lambda1(1)\\nis_odd_lambda1(2)\\n\\nis_odd_lambda2 = lambda n: '짝수입니다!' if n%2==0 else '홀수입니다!'\\nprint(is_odd_lambda2(1))\\nprint(is_odd_lambda2(2))\", \"# 1. 홀수, 짝수를 구변하는 is_odd()함수를 작성\\n# 주어진 숫자가 홀수인지 짝수인지를 구별해서\\n# '짝수입니다' or '홀수입니다'를 출력하세요\\n# 1) 일반함수 is_odd(number)\\ndef is_odd(n):\\n    if n%2 == 0:\\n        print('짝수입니다!')\\n    else:\\n        print('홀수입니다!')\\n        \\nis_odd(2)\\nis_odd(1)\\nprint()\\n\\n# 2) lambda함수\\nis_odd_lambda1 = lambda n: print('짝수입니다!') if n%2==0 else print('홀수입니다!')\\nis_odd_lambda1(1)\\nis_odd_lambda1(2)\\nprint()\\n\\nis_odd_lambda2 = lambda n: '짝수입니다!' if n%2==0 else '홀수입니다!'\\nprint(is_odd_lambda2(1))\\nprint(is_odd_lambda2(2))\", \"# 1. 홀수, 짝수를 구변하는 is_odd()함수를 작성\\n# 주어진 숫자가 홀수인지 짝수인지를 구별해서\\n# '짝수입니다' or '홀수입니다'를 출력하세요\\n# 1) 일반함수 is_odd(number)\\ndef is_odd(n):\\n    if n%2 == 0:\\n        print('짝수입니다!')\\n    else:\\n        print('홀수입니다!')\\n        \\nis_odd(2)\\nis_odd(1)\\nprint()\\n\\n# 2) lambda함수 - return이 없는 경우\\nis_odd_lambda1 = lambda n: print('짝수입니다!') if n%2==0 else print('홀수입니다!')\\nis_odd_lambda1(1)\\nis_odd_lambda1(2)\\nprint()\\n\\n# 3) lambda함수 - return이 생략된 경우\\nis_odd_lambda2 = lambda n: '짝수입니다!' if n%2==0 else '홀수입니다!'\\nprint(is_odd_lambda2(1))\\nprint(is_odd_lambda2(2))\\n\\nresult = is_odd_lambda2(1)\\nprint(result)\", \"# 1. 홀수, 짝수를 구변하는 is_odd()함수를 작성\\n# 주어진 숫자가 홀수인지 짝수인지를 구별해서\\n# '짝수입니다' or '홀수입니다'를 출력하세요\\n# 1) 일반함수 is_odd(number)\\ndef is_odd(n):\\n    if n%2 == 0:\\n        print('짝수입니다!')\\n    else:\\n        print('홀수입니다!')\\n        \\nis_odd(2)\\nis_odd(1)\\nprint()\\n\\n# 2) lambda함수 - return이 없는 경우\\nis_odd_lambda1 = lambda n: print('짝수입니다!') if n%2==0 else print('홀수입니다!')\\nis_odd_lambda1(1)\\nis_odd_lambda1(2)\\nprint()\\n\\n# 3) lambda함수 - return이 생략된 경우\\nis_odd_lambda2 = lambda xxx: '짝수입니다!' if xxx%2==0 else '홀수입니다!'\\nprint(is_odd_lambda2(1))\\nprint(is_odd_lambda2(2))\\nprint()\\n\\nresult = is_odd_lambda2(1)\\nprint(result)\", '# 2. 입력된 모든 수의 평균을 계산하는 funcAvg()함수를 작성\\n# 단, 입력매개변수의 갯수는 정해져 있지 않다.\\n# funcAvg()\\ndef funcAvg():\\n    pass\\n\\nfuncAvg()', '# 2. 입력된 모든 수의 평균을 계산하는 funcAvg()함수를 작성\\n# 단, 입력매개변수의 갯수는 정해져 있지 않다.\\n# funcAvg()\\ndef funcAvg(*numbers):\\n    result = 0\\n    for num in numbers:\\n        result += num\\n    return(result / len(numbers))\\n\\nprint(funcAvg(1,2,3,4,5))', '# 2. 입력된 모든 수의 평균을 계산하는 funcAvg()함수를 작성\\n# 단, 입력매개변수의 갯수는 정해져 있지 않다.\\n# funcAvg()\\ndef funcAvg(*numbers):\\n    result = 0\\n    for num in numbers:\\n        result += num\\n    return(result / len(numbers))\\n\\nprint(funcAvg(1,2,3,4,5))\\nprint(funcAvg(1,2,3,4,5,6,7,8,9,10))', '# 2. 입력된 모든 수의 평균을 계산하는 funcAvg()함수를 작성\\n# 단, 입력매개변수의 갯수는 정해져 있지 않다.\\n# funcAvg()\\ndef funcAvg(*numbers):\\n    result = 0\\n    for num in numbers:\\n        result += num\\n    return(result / len(numbers))\\n\\nprint(funcAvg(1,2,3,4,5))\\nprint(funcAvg(1,2,3,4,5,6,7,8,9,10))\\nprint()\\n\\n# 멀티매개값을 list, tuple로 한 개의 값으로 전달하는 법\\nprint(funcAvg([1,2,3,4,5]))', '# 2. 입력된 모든 수의 평균을 계산하는 funcAvg()함수를 작성\\n# 단, 입력매개변수의 갯수는 정해져 있지 않다.\\n# funcAvg()\\ndef funcAvg(*numbers):\\n    result = 0\\n    for num in numbers:\\n        result += num\\n    return(result / len(numbers))\\n\\nprint(funcAvg(1,2,3,4,5))\\nprint(funcAvg(1,2,3,4,5,6,7,8,9,10))\\nprint()\\n\\n# 멀티매개값을 list, tuple로 한 개의 값으로 전달하는 법\\nprint(funcAvg((1,2,3,4,5))', '# 2. 입력된 모든 수의 평균을 계산하는 funcAvg()함수를 작성\\n# 단, 입력매개변수의 갯수는 정해져 있지 않다.\\n# funcAvg()\\ndef funcAvg(*numbers):\\n    result = 0\\n    for num in numbers:\\n        result += num\\n    return(result / len(numbers))\\n\\nprint(funcAvg(1,2,3,4,5))\\nprint(funcAvg(1,2,3,4,5,6,7,8,9,10))\\nprint()\\n\\n# 멀티매개값을 list, tuple로 한 개의 값으로 전달하는 법\\nprint(funcAvg((1,2,3,4,5)))', '# 2. 입력된 모든 수의 평균을 계산하는 funcAvg()함수를 작성\\n# 단, 입력매개변수의 갯수는 정해져 있지 않다.\\n# funcAvg()\\ndef funcAvg(*numbers):\\n    result = 0\\n    for num in numbers:\\n        result += num\\n    return(result / len(numbers))\\n\\nprint(funcAvg(1,2,3,4,5))\\nprint(funcAvg(1,2,3,4,5,6,7,8,9,10))\\nprint()\\n\\n# 멀티매개값을 list, tuple로 한 개의 값으로 전달하는 법\\nprint(funcAvg(*(1,2,3,4,5)))', '# 2. 입력된 모든 수의 평균을 계산하는 funcAvg()함수를 작성\\n# 단, 입력매개변수의 갯수는 정해져 있지 않다.\\n# funcAvg()\\ndef funcAvg(*numbers):\\n    result = 0\\n    for num in numbers:\\n        result += num\\n    return(result / len(numbers))\\n\\nprint(funcAvg(1,2,3,4,5))\\nprint(funcAvg(1,2,3,4,5,6,7,8,9,10))\\nprint()\\n\\n# 멀티매개값을 list, tuple로 한 개의 값으로 전달하는 법\\nprint(funcAvg(*(1,2,3,4,5)))\\nprint(funcAvg([1,2,3,4,5,6,7,8,9,10]))', '# 2. 입력된 모든 수의 평균을 계산하는 funcAvg()함수를 작성\\n# 단, 입력매개변수의 갯수는 정해져 있지 않다.\\n# funcAvg()\\ndef funcAvg(*numbers):\\n    result = 0\\n    for num in numbers:\\n        result += num\\n    return(result / len(numbers))\\n\\nprint(funcAvg(1,2,3,4,5))\\nprint(funcAvg(1,2,3,4,5,6,7,8,9,10))\\nprint()\\n\\n# 멀티매개값을 list, tuple로 한 개의 값으로 전달하는 법\\nprint(funcAvg(*(1,2,3,4,5)))\\nprint(funcAvg(*[1,2,3,4,5,6,7,8,9,10]))', \"# 3. 구구단을 출력하는 함수 gugudan()함수를 작성\\n# 입력값은 2~9단까지 한개의 임의의 단을 입력\\n# gugudan(9)\\ndef gugudan(dan):\\n    for i in range(2, 10):\\n        print(f'{dan} x {i} = {dan*i:2d}')\\n        \\ngugudan(9)\", \"# 3. 구구단을 출력하는 함수 gugudan()함수를 작성\\n# 입력값은 2~9단까지 한개의 임의의 단을 입력\\n# gugudan(9)\\ndef gugudan(dan):\\n    for i in range(2, 10):\\n        print(f'{dan} x {i} = {dan*i:2d}')\\n        \\ngugudan(9)\\nprint()\\n\\ngugudan(2)\", \"# 3. 구구단을 출력하는 함수 gugudan()함수를 작성\\n# 입력값은 2~9단까지 한개의 임의의 단을 입력\\n# gugudan(9)\\ndef gugudan(dan):\\n    for i in range(2, 10):\\n        print(f'{dan} x {i} = {dan*i:2d}')\\n        \\ngugudan(9)\\nprint()\\n\\ngugudan(2)\\nprint()\\n\\ngugudan(int(input('단을 입력하세요 => ')))\", \"# 3. 구구단을 출력하는 함수 gugudan()함수를 작성\\n# 입력값은 2~9단까지 한개의 임의의 단을 입력\\n# gugudan(9)\\ndef gugudan(dan):\\n    for i in range(2, 10):\\n        print(f'{dan} x {i} = {dan*i:2d}')\\n        \\ngugudan(9)\\nprint()\\n\\ngugudan(2)\\nprint()\\n\\ngugudan(int(input('단을 입력하세요 => ')))\", '# 4. 리스트 [2,3,4,5,6,7,8]에서 5보다 큰 수만 리턴하는 \\n# 1) funcReturn()함수작성\\ndef funcReturn(numbers):\\n    l = []\\n    for num in numbers:\\n        if num > 5:\\n            l.append(num)\\n    return l\\n\\nprint(funcAvg([2,3,4,5,6,7,8]))\\n\\n# 2) lambda식으로 작성, 이름은 funcReturnLambda', '# 4. 리스트 [2,3,4,5,6,7,8]에서 5보다 큰 수만 리턴하는 \\n# 1) funcReturn()함수작성\\ndef funcReturn(numbers):\\n    l = []\\n    for num in numbers:\\n        if num > 5:\\n            l.append(num)\\n    return l\\n\\nprint(funcReturn([2,3,4,5,6,7,8]))\\n\\n# 2) lambda식으로 작성, 이름은 funcReturnLambda', '# 4. 리스트 [2,3,4,5,6,7,8]에서 5보다 큰 수만 리턴하는 \\n# 1) funcReturn()함수작성\\ndef funcReturn(numbers):\\n    l = []\\n    for num in numbers:\\n        if num > 5:\\n            l.append(num)\\n    return l\\n\\nprint(funcReturn([2,3,4,5,6,7,8]))\\n\\n# 2) lambda식으로 작성, 이름은 funcReturnLambda\\nfuncReturnLambda = lambda numbers: [num for num in numbers if number > 5]\\nprint(funcReturnLambda([2,3,4,5,6,7,8]))', '# 4. 리스트 [2,3,4,5,6,7,8]에서 5보다 큰 수만 리턴하는 \\n# 1) funcReturn()함수작성\\ndef funcReturn(numbers):\\n    l = []\\n    for num in numbers:\\n        if num > 5:\\n            l.append(num)\\n    return l\\n\\nprint(funcReturn([2,3,4,5,6,7,8]))\\n\\n# 2) lambda식으로 작성, 이름은 funcReturnLambda\\nfuncReturnLambda = lambda numbers: [num for num in numbers if num > 5]\\nprint(funcReturnLambda([2,3,4,5,6,7,8]))', \"# 1. 변수의 사용범위\\n# 1) 전역변수(global variable)\\ndef closer():\\n    print(f'함수안에서 사용할 수 있는 전역변수 x = {x}')\\n\\ncloser()\\n\\n# 2) 지역변수(local variable)\", \"# 1. 변수의 사용범위\\n# 1) 전역변수(global variable)\\n\\nx = 100\\ndef closer():\\n    print(f'함수안에서 사용할 수 있는 전역변수 x = {x}')\\n\\ncloser()\\n\\n# 2) 지역변수(local variable)\", \"# 1. 변수의 사용범위\\n# 1) 전역변수(global variable)\\n\\nx = 100\\ndef closer1():\\n    print(f'함수안에서 사용할 수 있는 전역변수 x = {x}')\\n\\ncloser1()\", \"# 2) 지역변수(local variable)\\ndef closer2():\\n    print(f'함수안에서 사용할 수 있는 전역변수 x = {x}')\\n\\ncloser2()\", \"# 1. 변수의 사용범위\\n# 1) 전역변수(global variable)\\n\\nx = 100\\ndef closer1():\\n    print(f'함수안에서 사용할 수 있는 전역변수 x = {x}')\\n\\ncloser1()\\ndel x\", \"get_ipython().run_line_magic('whos', '')\\n# 2) 지역변수(local variable)\\n\\ndef closer2():\\n    print(f'함수안에서 사용할 수 있는 전역변수 x = {x}')\\n\\ncloser2()\", \"get_ipython().run_line_magic('whos', '')\\n# 2) 지역변수(local variable)\\n\\ndef closer2():\\n    x = '문자열 100'\\n    print(f'함수안에서 사용할 수 있는 지역변수 x = {x}')\\n\\ncloser2()\", \"# 1. 변수의 사용범위\\n# 1) 전역변수(global variable)\\n\\nx = 100\\ndef closer1():\\n    print(f'함수안에서 사용할 수 있는 전역변수 x = {x}')\\n\\ncloser1()\\n# del x\", \"get_ipython().run_line_magic('whos', '')\", \"# 2) 지역변수(local variable)\\n\\ndef closer2():\\n#     x = '문자열 100'\\n    print(f'함수안에서 사용할 수 있는 지역변수 x = {x}')\\n\\ncloser2()\", \"# 2) 지역변수(local variable)\\n\\ndef closer2():\\n    x = '문자열 100'\\n    print(f'함수안에서 사용할 수 있는 지역변수 x = {x}')\\n\\ncloser2()\", \"get_ipython().run_line_magic('whos', '')\", \"# 2) 지역변수(local variable)\\n\\ndef closer2():\\n    y = '문자열 100'\\n    print(f'함수안에서 사용할 수 있는 지역변수 y = {y}')\\n\\ncloser2()\", \"get_ipython().run_line_magic('whos', '')\", \"# 2) 지역변수(local variable)\\n\\ndef closer2():\\n    y = '문자열 100'\\n    print(f'함수안에서 사용할 수 있는 지역변수 y = {y}')\\n\\ncloser2()\\n\\nprint(y)\", \"# 2) 지역변수(local variable)\\n\\ndef closer2():\\n    y = '문자열 100'\\n    print(f'함수안에서 사용할 수 있는 지역변수 y = {y}')\\n\\ncloser2()\\n\\n# 지역변수 y은 외부에서 접근불가능\\nprint(y) # NameError: name 'y' is not defined\", \"# 2. 함수안에서 전역변수 사용(변경)하기\\nget_ipython().run_line_magic('whos', '')\", \"# 2. 함수안에서 전역변수 사용(변경)하기\\nget_ipython().run_line_magic('reset', '')\", \"# 2. 함수안에서 전역변수 사용(변경)하기\\nget_ipython().run_line_magic('reset', '-f')\", \"get_ipython().run_line_magic('whos', '')\", \"# 2. 함수안에서 전역변수 사용(변경)하기\\nget_ipython().run_line_magic('reset', '-f')\\n\\nx = 100\\nprint(f'전역변수 x의 메모리주소 = {id(x)}')\\ndef closer1():\\n    x = 200\\n    print(f'지역변수 x의 메모리주소 = {id(x)}')\\n    \\ncloser1()\", \"# 2. 함수안에서 전역변수 사용(변경)하기\\nget_ipython().run_line_magic('reset', '-f')\\n\\nx = 100\\nprint(f'전역변수 x의 메모리주소 = {id(x)}')\\ndef closer1():\\n    x = 200\\n    print(f'지역변수 x의 메모리주소 = {id(x)}')\\n    \\ncloser1()\\nget_ipython().run_line_magic('whos', '')\", \"# 1) 전역변수를 정의하는 방법(1)\\ny = 100\\nprint(f'전역변수 y의 메모리주소 = {id(y)}')\\ndef closer2():\\n    y = 200\\n    print(f'지역변수 y의 메모리주소 = {id(y)}')\\n    \\ncloser2()  \", \"# 1) 전역변수를 정의하는 방법(1)\\ny = 100\\nprint(f'전역변수 y의 메모리주소 = {id(y)}')\\ndef closer2():\\n    global y # y는 지역변수가 아니라 전역변수로 선언\\n    y = 200\\n    print(f'지역변수 y의 메모리주소 = {id(y)}')\\n    \\ncloser2()  \", \"# 2. 함수안에서 전역변수 사용(변경)하기\\nget_ipython().run_line_magic('reset', '-f')\\n\\nx = 100\\nprint(f'전역변수 x의 메모리주소 = {id(x)}')\\ndef closer1():\\n    x = 200\\n    print(f'지역변수 x의 메모리주소 = {id(x)}')\\n    \\ncloser1()\\nget_ipython().run_line_magic('whos', '')\", \"# 1) 전역변수를 정의하는 방법(1)\\ny = 100\\nprint(f'전역변수 y의 메모리주소 = {id(y)}')\\ndef closer2():\\n    global y # y는 지역변수가 아니라 전역변수로 선언\\n    y = 200\\n    print(f'지역변수 y의 메모리주소 = {id(y)}, y의 값 = {y}')\\n    \\ncloser2() \\nprint(y)\", \"# 1) 전역변수를 정의하는 방법(1)\\ny = 100\\nprint(f'전역변수 y의 메모리주소 = {id(y)}')\\ndef closer2():\\n    global y # y는 지역변수가 아니라 전역변수로 선언\\n    y = 200\\n    print(f'지역변수 y의 메모리주소 = {id(y)}, \\\\ny의 값 = {y}')\\n    \\ncloser2() \\nprint(f'y의 값 = {y}')\", \"# 1) 전역변수를 정의하는 방법(1)\\ny = 100\\nprint(f'전역변수 y의 메모리주소 = {id(y)}')\\ndef closer2():\\n    global y # y는 지역변수가 아니라 전역변수로 선언\\n    y = 200\\n    print(f'전역변수 y의 메모리주소 = {id(y)}, \\\\n지역에서의 y의 값 = {y}')\\n    \\ncloser2() \\nprint(f'전역에서의 y의 값 = {y}')\", \"# 1) 전역변수를 정의하는 방법(1)\\ny = 100\\nprint(f'전역변수 y의 메모리주소 = {id(y)}')\\nprint()\\n\\ndef closer2():\\n    global y # y는 지역변수가 아니라 전역변수로 선언\\n    y = 200\\n    print(f'전역변수 y의 메모리주소 = {id(y)}, \\\\n지역에서의 y의 값 = {y}')\\n    \\ncloser2() \\nprint(f'전역에서의 y의 값 = {y}')\", \"# 1) 전역변수를 정의하는 방법(1)\\ny = 100\\nprint(f'전역변수 y의 메모리주소 = {id(y)}')\\ndef closer2():\\n    global y # y는 지역변수가 아니라 전역변수로 선언\\n    y = 200\\n    print(f'전역변수 y의 메모리주소 = {id(y)}, \\\\n\\\\n지역에서의 y의 값 = {y}')\\n    \\ncloser2() \\nprint(f'전역에서의 y의 값 = {y}')\", \"# 1) 전역변수를 정의하는 방법(1)\\ny = 100\\nprint(f'전역변수 y의 메모리주소 = {id(y)}')\\ndef closer2():\\n    global y # y는 지역변수가 아니라 전역변수로 선언\\n    y = 200\\n    print(f'전역변수 y의 메모리주소 = {id(y)}, \\\\n\\\\n지역에서 전역변수로 선언된 y의 값 = {y}')\\n    \\ncloser2() \\nprint(f'전역에서의 y의 값 = {y}')\", \"# 1) 전역변수를 정의하는 방법(1)\\ny = 100\\nprint(f'전역변수 y의 메모리주소 = {id(y)}')\\ndef closer2():\\n    # global y # y는 지역변수가 아니라 전역변수로 선언\\n    y = 200\\n    print(f'전역변수 y의 메모리주소 = {id(y)}, \\\\n\\\\n지역에서 전역변수로 선언된 y의 값 = {y}')\\n    \\ncloser2() \\nprint(f'전역에서의 y의 값 = {y}')\", \"# 1) 전역변수를 정의하는 방법(1)\\ny = 100\\nprint(f'전역변수 y의 메모리주소 = {id(y)}')\\ndef closer2():\\n    global y # y는 지역변수가 아니라 전역변수로 선언\\n    y = 200\\n    print(f'전역변수 y의 메모리주소 = {id(y)}, \\\\n\\\\n지역에서 전역변수로 선언된 y의 값 = {y}')\\n    \\ncloser2() \\nprint(f'전역에서의 y의 값 = {y}')\", \"# 2) 전역변수를 정의하는 방법(2)\\ndef closer3():\\n    z = 300\\n    print(f'지역변수 z의 메모리주소 = {id(z)}')\\n\\ncloser3()    \", \"# 2) 전역변수를 정의하는 방법(2)\\ndef closer3():\\n    z = 300\\n    print(f'지역변수 z의 메모리주소 = {id(z)}')\\n    print(f'지역변수 z의 값 = {z}')\\n\\ncloser3()    \", \"# 2) 전역변수를 정의하는 방법(2)\\ndef closer3():\\n    z = 300\\n    print(f'지역에서선언된 z의 메모리주소 = {id(z)}')\\n    print(f'지역에서선언된 z의 값 = {z}')\\n\\ncloser3() \\n\\nprint(f'지역에서선언된 z의 값 = {z}')\", \"# 2) 전역변수를 정의하는 방법(2)\\ndef closer3():\\n    global\\n    z = 300\\n    print(f'지역에서선언된 z의 메모리주소 = {id(z)}')\\n    print(f'지역에서선언된 z의 값 = {z}')\\n\\ncloser3() \\n\\nprint(f'지역에서선언된 z의 값 = {z}')\", \"# 2) 전역변수를 정의하는 방법(2)\\ndef closer3():\\n    global z\\n    z = 300\\n    print(f'지역에서선언된 z의 메모리주소 = {id(z)}')\\n    print(f'지역에서선언된 z의 값 = {z}')\\n\\ncloser3() \\n\\nprint(f'지역에서선언된 z의 값 = {z}')\", \"# 2) 전역변수를 정의하는 방법(2)\\ndef closer3():\\n    global z = 300\\n    print(f'지역에서선언된 z의 메모리주소 = {id(z)}')\\n    print(f'지역에서선언된 z의 값 = {z}')\\n\\ncloser3() \\n\\nprint(f'지역에서선언된 z의 값 = {z}')\", \"# 2) 전역변수를 정의하는 방법(2)\\ndef closer3():\\n    global z\\n    z = 300\\n    print(f'지역에서선언된 z의 메모리주소 = {id(z)}')\\n    print(f'지역에서선언된 z의 값 = {z}')\\n\\ncloser3() \\n\\nprint(f'지역에서선언된 z의 값 = {z}')\", 'import copy', \"# 네임스페이스\\n# 파이썬에서는 변수들은 네임스페이스에 저장된다.\\n# 네임스페이스를 확인하려면 globals(), local()함수를 이용하면\\n# 현재의 Namespase를 딕셔너리형태로 출력한다.\\n# 또한, Jupyter Notebook의 매직명령어 %who, %whos, %whos_ls로도 확인 가능하다.\\nget_ipython().run_line_magic('who', '')\", \"# 네임스페이스\\n# 파이썬에서는 변수들은 네임스페이스에 저장된다.\\n# 네임스페이스를 확인하려면 globals(), local()함수를 이용하면\\n# 현재의 Namespase를 딕셔너리형태로 출력한다.\\n# 또한, Jupyter Notebook의 매직명령어 %who, %whos, %whos_ls로도 확인 가능하다.\\nget_ipython().run_line_magic('whos', '')\", \"# 네임스페이스\\n# 파이썬에서는 변수들은 네임스페이스에 저장된다.\\n# 네임스페이스를 확인하려면 globals(), local()함수를 이용하면\\n# 현재의 Namespase를 딕셔너리형태로 출력한다.\\n# 또한, Jupyter Notebook의 매직명령어 %who, %whos, %whos_ls로도 확인 가능하다.\\nget_ipython().run_line_magic('whos_ls', '')\", \"# 네임스페이스\\n# 파이썬에서는 변수들은 네임스페이스에 저장된다.\\n# 네임스페이스를 확인하려면 globals(), local()함수를 이용하면\\n# 현재의 Namespase를 딕셔너리형태로 출력한다.\\n# 또한, Jupyter Notebook의 매직명령어 %who, %whos, %whos_ls로도 확인 가능하다.\\nget_ipython().run_line_magic('who_ls', '')\", \"# 네임스페이스\\n# 파이썬에서는 변수들은 네임스페이스에 저장된다.\\n# 네임스페이스를 확인하려면 globals(), local()함수를 이용하면\\n# 현재의 Namespase를 딕셔너리형태로 출력한다.\\n# 또한, Jupyter Notebook의 매직명령어 %who, %whos, %whos_ls로도 확인 가능하다.\\nget_ipython().run_line_magic('whos', '')\", \"# 네임스페이스\\n# 파이썬에서는 변수들은 네임스페이스에 저장된다.\\n# 네임스페이스를 확인하려면 globals(), local()함수를 이용하면\\n# 현재의 Namespase를 딕셔너리형태로 출력한다.\\n# 또한, Jupyter Notebook의 매직명령어 %who, %whos, %whos_ls로도 확인 가능하다.\\nget_ipython().run_line_magic('whos', '')\\nget_ipython().run_line_magic('reset', '-f')\\n\\na = 3\\nget_ipython().run_line_magic('whos', '')\", \"# 네임스페이스\\n# 파이썬에서는 변수들은 네임스페이스에 저장된다.\\n# 네임스페이스를 확인하려면 globals(), local()함수를 이용하면\\n# 현재의 Namespase를 딕셔너리형태로 출력한다.\\n# 또한, Jupyter Notebook의 매직명령어 %who, %whos, %whos_ls로도 확인 가능하다.\\nget_ipython().run_line_magic('whos', '')\\nget_ipython().run_line_magic('reset', '-f')\\n\\na = 3\\nget_ipython().run_line_magic('whos', '')\", \"# 네임스페이스\\n# 파이썬에서는 변수들은 네임스페이스에 저장된다.\\n# 네임스페이스를 확인하려면 globals(), local()함수를 이용하면\\n# 현재의 Namespase를 딕셔너리형태로 출력한다.\\n# 또한, Jupyter Notebook의 매직명령어 %who, %whos, %whos_ls로도 확인 가능하다.\\nget_ipython().run_line_magic('reset', '-f')\\n\\na = 3\\nget_ipython().run_line_magic('whos', '')\", \"# 네임스페이스\\n# 파이썬에서는 변수들은 네임스페이스에 저장된다.\\n# 네임스페이스를 확인하려면 globals(), local()함수를 이용하면\\n# 현재의 Namespase를 딕셔너리형태로 출력한다.\\n# 또한, Jupyter Notebook의 매직명령어 %who, %whos, %whos_ls로도 확인 가능하다.\\nget_ipython().run_line_magic('reset', '-f')\\n\\na = 3\\nget_ipython().run_line_magic('whos', '')\\n\\nlocals()\", 'a = 10\\nprint(globals())', \"# 함수는 전역과는 별개의 네임스페이스를 갖는다.\\na = 200\\ndef func():\\n    a = 300\\n    b = 'python'\\n    \\nfunc()\", \"# 함수는 전역과는 별개의 네임스페이스를 갖는다.\\na = 200\\ndef func():\\n    a = 300\\n    b = 'python'\\n    \\nfunc()\\nprint(globals())\\nprint('-'*60)\\nprint(locals())\", \"# 전역에서 지역함수 yyy에 어떻게 접근할 수 있는가?\\nget_ipython().run_line_magic('rest', '-f')\\n\\na = 3\\nc = 'hello'\\n\\ndef func():\\n    a = 100\\n    b = 'python'\\n    print(f'함수 내부 지역 Namespace {locals()}')\\n    print(f'함수 내부 전역 Namespace {globals()}')\\n    \\nfunc()\\nprint(f'함수 외부에서 전역 Namespace {globals()}')\", \"# 전역에서 지역함수 yyy에 어떻게 접근할 수 있는가?\\nget_ipython().run_line_magic('reset', '-f')\\n\\na = 3\\nc = 'hello'\\n\\ndef func():\\n    a = 100\\n    b = 'python'\\n    print(f'함수 내부 지역 Namespace {locals()}')\\n    print(f'함수 내부 전역 Namespace {globals()}')\\n    \\nfunc()\\nprint(f'함수 외부에서 전역 Namespace {globals()}')\"], 'Out': {}, 'get_ipython': <bound method InteractiveShell.get_ipython of <ipykernel.zmqshell.ZMQInteractiveShell object at 0x000001DC0A0FCA50>>, 'exit': <IPython.core.autocall.ZMQExitAutocall object at 0x000001DC0A117BD0>, 'quit': <IPython.core.autocall.ZMQExitAutocall object at 0x000001DC0A117BD0>, 'open': <function open at 0x000001DC080A9620>, 'a': 3, 'c': 'hello', 'func': <function func at 0x000001DC0AAB0EA0>}\n"
     ]
    }
   ],
   "source": [
    "%reset -f\n",
    "\n",
    "a = 3\n",
    "c = 'hello'\n",
    "\n",
    "def func():\n",
    "    a = 100\n",
    "    b = 'python'\n",
    "    print(f'함수 내부 지역 Namespace {locals()}')\n",
    "    print(f'함수 내부 전역 Namespace {globals()}')\n",
    "    \n",
    "func()\n",
    "print(f'함수 외부에서 전역 Namespace {globals()}')"
   ]
  },
  {
   "cell_type": "markdown",
   "id": "a1b6f450",
   "metadata": {},
   "source": [
    "##### 중첩함수 즉, 함수안에 함수가 있는 형태의 함수\n",
    "\n",
    "* 전역에서 지역함수 yyy에 어떻게 접근할 수 있는가?"
   ]
  },
  {
   "cell_type": "code",
   "execution_count": 83,
   "id": "4c7de5d4",
   "metadata": {},
   "outputs": [
    {
     "name": "stdout",
     "output_type": "stream",
     "text": [
      "Hello Python!!\n"
     ]
    }
   ],
   "source": [
    "def printHello():\n",
    "    hello = 'Hello Python!!'\n",
    "    print(hello)\n",
    "    \n",
    "printHello()"
   ]
  },
  {
   "cell_type": "code",
   "execution_count": 86,
   "id": "d3457fe4",
   "metadata": {},
   "outputs": [
    {
     "name": "stdout",
     "output_type": "stream",
     "text": [
      "Hello Python!!\n"
     ]
    },
    {
     "ename": "NameError",
     "evalue": "name 'printMessage' is not defined",
     "output_type": "error",
     "traceback": [
      "\u001b[1;31m---------------------------------------------------------------------------\u001b[0m",
      "\u001b[1;31mNameError\u001b[0m                                 Traceback (most recent call last)",
      "Cell \u001b[1;32mIn[86], line 13\u001b[0m\n\u001b[0;32m      7\u001b[0m printHello()\n\u001b[0;32m      9\u001b[0m \u001b[38;5;66;03m# 함수 printHello안에서 printMessage함수를 만들고 printHello안에서 \u001b[39;00m\n\u001b[0;32m     10\u001b[0m \u001b[38;5;66;03m# printMessage를 호출할 수 있다. 이 두개의 함수가 실제로 동작하려면\u001b[39;00m\n\u001b[0;32m     11\u001b[0m \u001b[38;5;66;03m# 외부에서 printMessage를 호출할 수 있어야 한다.\u001b[39;00m\n\u001b[0;32m     12\u001b[0m \u001b[38;5;66;03m# 하지만, 현재 상황에서는 외부에서 printMessage를 호출할 수가 없다.\u001b[39;00m\n\u001b[1;32m---> 13\u001b[0m printMessage()\n",
      "\u001b[1;31mNameError\u001b[0m: name 'printMessage' is not defined"
     ]
    }
   ],
   "source": [
    "def printHello():\n",
    "    hello = 'Hello Python!!'\n",
    "    def printMessage():\n",
    "        print(hello)\n",
    "    printMessage()\n",
    "    \n",
    "printHello()\n",
    "\n",
    "# 함수 printHello안에서 printMessage함수를 만들고 printHello안에서 \n",
    "# printMessage를 호출할 수 있다. 이 두개의 함수가 실제로 동작하려면\n",
    "# 외부에서 printMessage를 호출할 수 있어야 한다.\n",
    "# 하지만, 현재 상황에서는 외부에서 printMessage를 호출할 수가 없다.\n",
    "printMessage() # 에러 접근불가"
   ]
  },
  {
   "cell_type": "markdown",
   "id": "65210289",
   "metadata": {},
   "source": [
    "##### 지역변수의 접근범위\n",
    "\n",
    "><img src=\"./images/12.함수_function_08.png\" width=\"300\" height=\"200\" />\n",
    "\n",
    "##### 클로저사용하기\n",
    "* 함수형태를 클로저형태로 만들어서 외부에서 함수내부에 있는 함수에 접근하려면\n",
    "* 내부함수를 지역변수로 선언하고 그 지역변수를 리턴하면 접근할 수 있다.\n",
    "\n",
    "###### 클로저개념도\n",
    "><img src=\"./images/12.함수_function_09.png\" width=\"300\" height=\"200\" />"
   ]
  },
  {
   "cell_type": "code",
   "execution_count": 101,
   "id": "ccc545f2",
   "metadata": {},
   "outputs": [
    {
     "name": "stdout",
     "output_type": "stream",
     "text": [
      "<class 'function'>\n",
      "35\n",
      "<function calc.<locals>.add at 0x000001DC0B6A0720> 2044595943712 2044595930912\n"
     ]
    }
   ],
   "source": [
    "# 클로저사용하기\n",
    "def calc():\n",
    "    a = 3\n",
    "    b = 5\n",
    "    def add(w):\n",
    "        \"\"\"클로저개념(사용하기)\"\"\"\n",
    "        return w * a + b    \n",
    "    return add\n",
    "    # add()함수를 만든후에 add함수를 직접호출하지 않고 return으로 add함수\n",
    "    # 자체를 리턴한다. 함수를 반환할 때는 함수이름만 반환해야 한다.\n",
    "    # 그래서 소괄호를 붙이면 함수를 호출하는 것(즉 결과값이 리턴)이고 \n",
    "    # 함수명으로 리턴하면 함수자체가 반환된다.\n",
    "    \n",
    "calc()\n",
    "# calc(10) 에러\n",
    "# add(10) 에러\n",
    "\n",
    "# 클로저사용하기\n",
    "# 아래와 같이 부모함수 calc()를 호출해서 자식함수 add를 return해서 \n",
    "# 변수에 저장하면 그 변수는 `함수객체`가 저장된다.\n",
    "# 즉 return_add은 <function calc.<locals>.add at 0x000001DC0B6A3920>인 펑션이다.   \n",
    "return_add = calc()\n",
    "print(type(return_add))\n",
    "print(return_add(10))\n",
    "print(return_add, id(calc), id(return_add))\n",
    "\n",
    "# 결론\n",
    "# 상기와 같이 함수를 둘러싼 환경(지역변수, 지역함수등)을 유지하다가 함수를 \n",
    "# 호출할 떄 다시 꺼내서 사용하는 함수를 클로저함수라고 한다.\n",
    "# 이 예제에서 return_add 변수에 저장된 calc().add()함수가 클로저함수이다."
   ]
  }
 ],
 "metadata": {
  "kernelspec": {
   "display_name": "Python 3 (ipykernel)",
   "language": "python",
   "name": "python3"
  },
  "language_info": {
   "codemirror_mode": {
    "name": "ipython",
    "version": 3
   },
   "file_extension": ".py",
   "mimetype": "text/x-python",
   "name": "python",
   "nbconvert_exporter": "python",
   "pygments_lexer": "ipython3",
   "version": "3.11.5"
  }
 },
 "nbformat": 4,
 "nbformat_minor": 5
}
