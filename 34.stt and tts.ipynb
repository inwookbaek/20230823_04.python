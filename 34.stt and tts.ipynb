{
 "cells": [
  {
   "cell_type": "markdown",
   "id": "e62c4a04",
   "metadata": {},
   "source": [
    "# 1. stt(Speech To Text)\n",
    "\n",
    "* pip inatall SpeechRecognition\n",
    "* pip install pyaudio\n",
    "\n",
    "# 2. tts(Text To Speech)\n",
    "\n",
    "* pip install gtts\n",
    "* pip install playsound==1.2.2"
   ]
  },
  {
   "cell_type": "code",
   "execution_count": null,
   "id": "237e71ed",
   "metadata": {},
   "outputs": [],
   "source": [
    "!pip install SpeechRecognition\n",
    "!pip install pyaudio"
   ]
  },
  {
   "cell_type": "code",
   "execution_count": null,
   "id": "ba352639",
   "metadata": {},
   "outputs": [],
   "source": [
    "!pip show SpeechRecognition\n",
    "!pip show pyaudio"
   ]
  },
  {
   "cell_type": "code",
   "execution_count": 11,
   "id": "5ef01264",
   "metadata": {},
   "outputs": [
    {
     "name": "stdout",
     "output_type": "stream",
     "text": [
      "Defaulting to user installation because normal site-packages is not writeable\n",
      "Requirement already satisfied: playsound in c:\\users\\ezen\\appdata\\roaming\\python\\python311\\site-packages (1.2.2)\n"
     ]
    }
   ],
   "source": [
    "# !pip install gtts\n",
    "!pip install playsound"
   ]
  },
  {
   "cell_type": "code",
   "execution_count": 12,
   "id": "fea76077",
   "metadata": {},
   "outputs": [
    {
     "name": "stdout",
     "output_type": "stream",
     "text": [
      "Overwriting .\\stt_tts\\stt_test.py\n"
     ]
    }
   ],
   "source": [
    "%%writefile .\\stt_tts\\stt_test.py\n",
    "import speech_recognition as sr\n",
    "from playsound import playsound\n",
    "import os\n",
    "\n",
    "# 마이크객체얻기\n",
    "r = sr.Recognizer()\n",
    "with sr.Microphone() as source:\n",
    "    print(\"Say something\")\n",
    "    audio = r.listen(source)\n",
    "    \n",
    "# mp3 파일을 저장\n",
    "filename = \"./stt_tts/stt-result.mp3\"\n",
    "with open(filename, 'wb') as f:\n",
    "    f.write(audio.get_wav_data()) "
   ]
  },
  {
   "cell_type": "code",
   "execution_count": 10,
   "id": "4d39fd75",
   "metadata": {},
   "outputs": [
    {
     "ename": "UnicodeDecodeError",
     "evalue": "'utf-8' codec can't decode byte 0xb8 in position 3: invalid start byte",
     "output_type": "error",
     "traceback": [
      "\u001b[1;31m---------------------------------------------------------------------------\u001b[0m",
      "\u001b[1;31mUnicodeDecodeError\u001b[0m                        Traceback (most recent call last)",
      "Cell \u001b[1;32mIn[10], line 1\u001b[0m\n\u001b[1;32m----> 1\u001b[0m playsound(\u001b[38;5;124m\"\u001b[39m\u001b[38;5;124m./stt_tts/stt-result.mp3\u001b[39m\u001b[38;5;124m\"\u001b[39m)\n",
      "File \u001b[1;32m~\\AppData\\Roaming\\Python\\Python311\\site-packages\\playsound.py:35\u001b[0m, in \u001b[0;36m_playsoundWin\u001b[1;34m(sound, block)\u001b[0m\n\u001b[0;32m     32\u001b[0m     \u001b[38;5;28;01mreturn\u001b[39;00m buf\u001b[38;5;241m.\u001b[39mvalue\n\u001b[0;32m     34\u001b[0m alias \u001b[38;5;241m=\u001b[39m \u001b[38;5;124m'\u001b[39m\u001b[38;5;124mplaysound_\u001b[39m\u001b[38;5;124m'\u001b[39m \u001b[38;5;241m+\u001b[39m \u001b[38;5;28mstr\u001b[39m(random())\n\u001b[1;32m---> 35\u001b[0m winCommand(\u001b[38;5;124m'\u001b[39m\u001b[38;5;124mopen \u001b[39m\u001b[38;5;124m\"\u001b[39m\u001b[38;5;124m'\u001b[39m \u001b[38;5;241m+\u001b[39m sound \u001b[38;5;241m+\u001b[39m \u001b[38;5;124m'\u001b[39m\u001b[38;5;124m\"\u001b[39m\u001b[38;5;124m alias\u001b[39m\u001b[38;5;124m'\u001b[39m, alias)\n\u001b[0;32m     36\u001b[0m winCommand(\u001b[38;5;124m'\u001b[39m\u001b[38;5;124mset\u001b[39m\u001b[38;5;124m'\u001b[39m, alias, \u001b[38;5;124m'\u001b[39m\u001b[38;5;124mtime format milliseconds\u001b[39m\u001b[38;5;124m'\u001b[39m)\n\u001b[0;32m     37\u001b[0m durationInMS \u001b[38;5;241m=\u001b[39m winCommand(\u001b[38;5;124m'\u001b[39m\u001b[38;5;124mstatus\u001b[39m\u001b[38;5;124m'\u001b[39m, alias, \u001b[38;5;124m'\u001b[39m\u001b[38;5;124mlength\u001b[39m\u001b[38;5;124m'\u001b[39m)\n",
      "File \u001b[1;32m~\\AppData\\Roaming\\Python\\Python311\\site-packages\\playsound.py:30\u001b[0m, in \u001b[0;36m_playsoundWin.<locals>.winCommand\u001b[1;34m(*command)\u001b[0m\n\u001b[0;32m     26\u001b[0m     errorBuffer \u001b[38;5;241m=\u001b[39m c_buffer(\u001b[38;5;241m255\u001b[39m)\n\u001b[0;32m     27\u001b[0m     windll\u001b[38;5;241m.\u001b[39mwinmm\u001b[38;5;241m.\u001b[39mmciGetErrorStringA(errorCode, errorBuffer, \u001b[38;5;241m254\u001b[39m)\n\u001b[0;32m     28\u001b[0m     exceptionMessage \u001b[38;5;241m=\u001b[39m (\u001b[38;5;124m'\u001b[39m\u001b[38;5;130;01m\\n\u001b[39;00m\u001b[38;5;124m    Error \u001b[39m\u001b[38;5;124m'\u001b[39m \u001b[38;5;241m+\u001b[39m \u001b[38;5;28mstr\u001b[39m(errorCode) \u001b[38;5;241m+\u001b[39m \u001b[38;5;124m'\u001b[39m\u001b[38;5;124m for command:\u001b[39m\u001b[38;5;124m'\u001b[39m\n\u001b[0;32m     29\u001b[0m                         \u001b[38;5;124m'\u001b[39m\u001b[38;5;130;01m\\n\u001b[39;00m\u001b[38;5;124m        \u001b[39m\u001b[38;5;124m'\u001b[39m \u001b[38;5;241m+\u001b[39m command\u001b[38;5;241m.\u001b[39mdecode() \u001b[38;5;241m+\u001b[39m\n\u001b[1;32m---> 30\u001b[0m                         \u001b[38;5;124m'\u001b[39m\u001b[38;5;130;01m\\n\u001b[39;00m\u001b[38;5;124m    \u001b[39m\u001b[38;5;124m'\u001b[39m \u001b[38;5;241m+\u001b[39m errorBuffer\u001b[38;5;241m.\u001b[39mvalue\u001b[38;5;241m.\u001b[39mdecode())\n\u001b[0;32m     31\u001b[0m     \u001b[38;5;28;01mraise\u001b[39;00m PlaysoundException(exceptionMessage)\n\u001b[0;32m     32\u001b[0m \u001b[38;5;28;01mreturn\u001b[39;00m buf\u001b[38;5;241m.\u001b[39mvalue\n",
      "\u001b[1;31mUnicodeDecodeError\u001b[0m: 'utf-8' codec can't decode byte 0xb8 in position 3: invalid start byte"
     ]
    }
   ],
   "source": [
    "playsound(filename)\n",
    "os.remove(filename)"
   ]
  },
  {
   "cell_type": "code",
   "execution_count": 4,
   "id": "882f1d17",
   "metadata": {},
   "outputs": [
    {
     "name": "stdout",
     "output_type": "stream",
     "text": [
      "Writing .\\stt_tts\\tts_test.py\n"
     ]
    }
   ],
   "source": [
    "%%writefile .\\stt_tts\\tts_test.py\n",
    "from gtts import gTTS\n",
    "from playsound import playsound\n",
    "import os\n",
    "\n",
    "audio = './speech.mp3'  # wav파일은 utf8 디코딩에러발생\n",
    "language = 'ko'\n",
    "\n",
    "sp = gTTS(\n",
    "    lang=language,\n",
    "    text=\"안녕하세요? 반갑습니다. 저는 홍길동입니다!\",\n",
    "    slow=False\n",
    ")\n",
    "\n",
    "sp.save(audio)\n",
    "playsound(audio)\n",
    "os.remove(audio)"
   ]
  }
 ],
 "metadata": {
  "kernelspec": {
   "display_name": "Python 3 (ipykernel)",
   "language": "python",
   "name": "python3"
  },
  "language_info": {
   "codemirror_mode": {
    "name": "ipython",
    "version": 3
   },
   "file_extension": ".py",
   "mimetype": "text/x-python",
   "name": "python",
   "nbconvert_exporter": "python",
   "pygments_lexer": "ipython3",
   "version": "3.11.5"
  }
 },
 "nbformat": 4,
 "nbformat_minor": 5
}
